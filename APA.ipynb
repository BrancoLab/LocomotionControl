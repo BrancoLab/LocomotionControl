{
 "cells": [
  {
   "cell_type": "code",
   "execution_count": 1,
   "metadata": {},
   "outputs": [
    {
     "data": {
      "text/html": [
       "<pre style=\"white-space:pre;overflow-x:auto;line-height:normal;font-family:Menlo,'DejaVu Sans Mono',consolas,'Courier New',monospace\"><span style=\"color: #7fbfbf; text-decoration-color: #7fbfbf\">[06/05/22 21:54:14] </span><span style=\"color: #008000; text-decoration-color: #008000\">DEBUG   </span> DPL - Saving data and logs to logs                   <a href=\"file://c:\\ProgramData\\Miniconda3\\envs\\dev\\lib\\site-packages\\tpd\\core.py\"><span style=\"color: #7f7f7f; text-decoration-color: #7f7f7f\">core.py</span></a><span style=\"color: #7f7f7f; text-decoration-color: #7f7f7f\">:</span><a href=\"file://c:\\ProgramData\\Miniconda3\\envs\\dev\\lib\\site-packages\\tpd\\core.py#118\"><span style=\"color: #7f7f7f; text-decoration-color: #7f7f7f\">118</span></a>\n",
       "</pre>\n"
      ],
      "text/plain": [
       "\u001b[2;36m[06/05/22 21:54:14]\u001b[0m\u001b[2;36m \u001b[0m\u001b[32mDEBUG   \u001b[0m DPL - Saving data and logs to logs                   \u001b]8;id=203596;file://c:\\ProgramData\\Miniconda3\\envs\\dev\\lib\\site-packages\\tpd\\core.py\u001b\\\u001b[2mcore.py\u001b[0m\u001b]8;;\u001b\\\u001b[2m:\u001b[0m\u001b]8;id=798774;file://c:\\ProgramData\\Miniconda3\\envs\\dev\\lib\\site-packages\\tpd\\core.py#118\u001b\\\u001b[2m118\u001b[0m\u001b]8;;\u001b\\\n"
      ]
     },
     "metadata": {},
     "output_type": "display_data"
    },
    {
     "data": {
      "text/html": [
       "<pre style=\"white-space:pre;overflow-x:auto;line-height:normal;font-family:Menlo,'DejaVu Sans Mono',consolas,'Courier New',monospace\"><span style=\"color: #7fbfbf; text-decoration-color: #7fbfbf\">                    </span><span style=\"color: #008000; text-decoration-color: #008000\">DEBUG   </span> Saving log file to: logs\\log.log                     <a href=\"file://c:\\ProgramData\\Miniconda3\\envs\\dev\\lib\\site-packages\\tpd\\core.py\"><span style=\"color: #7f7f7f; text-decoration-color: #7f7f7f\">core.py</span></a><span style=\"color: #7f7f7f; text-decoration-color: #7f7f7f\">:</span><a href=\"file://c:\\ProgramData\\Miniconda3\\envs\\dev\\lib\\site-packages\\tpd\\core.py#119\"><span style=\"color: #7f7f7f; text-decoration-color: #7f7f7f\">119</span></a>\n",
       "</pre>\n"
      ],
      "text/plain": [
       "\u001b[2;36m                   \u001b[0m\u001b[2;36m \u001b[0m\u001b[32mDEBUG   \u001b[0m Saving log file to: logs\\log.log                     \u001b]8;id=396766;file://c:\\ProgramData\\Miniconda3\\envs\\dev\\lib\\site-packages\\tpd\\core.py\u001b\\\u001b[2mcore.py\u001b[0m\u001b]8;;\u001b\\\u001b[2m:\u001b[0m\u001b]8;id=894306;file://c:\\ProgramData\\Miniconda3\\envs\\dev\\lib\\site-packages\\tpd\\core.py#119\u001b\\\u001b[2m119\u001b[0m\u001b]8;;\u001b\\\n"
      ]
     },
     "metadata": {},
     "output_type": "display_data"
    },
    {
     "name": "stdout",
     "output_type": "stream",
     "text": [
      "Connecting root@127.0.0.1:3306\n"
     ]
    },
    {
     "data": {
      "text/html": [
       "<pre style=\"white-space:pre;overflow-x:auto;line-height:normal;font-family:Menlo,'DejaVu Sans Mono',consolas,'Courier New',monospace\"><span style=\"color: #7fbfbf; text-decoration-color: #7fbfbf\">                    </span><span style=\"color: #008000; text-decoration-color: #008000\">DEBUG   </span> Connected to database: LOCOMOTION                 <a href=\"file://c:\\Users\\Federico\\Documents\\GitHub\\pysical_locomotion\\data\\dbase\\__init__.py\"><span style=\"color: #7f7f7f; text-decoration-color: #7f7f7f\">__init__.py</span></a><span style=\"color: #7f7f7f; text-decoration-color: #7f7f7f\">:</span><a href=\"file://c:\\Users\\Federico\\Documents\\GitHub\\pysical_locomotion\\data\\dbase\\__init__.py#11\"><span style=\"color: #7f7f7f; text-decoration-color: #7f7f7f\">11</span></a>\n",
       "</pre>\n"
      ],
      "text/plain": [
       "\u001b[2;36m                   \u001b[0m\u001b[2;36m \u001b[0m\u001b[32mDEBUG   \u001b[0m Connected to database: LOCOMOTION                 \u001b]8;id=875298;file://c:\\Users\\Federico\\Documents\\GitHub\\pysical_locomotion\\data\\dbase\\__init__.py\u001b\\\u001b[2m__init__.py\u001b[0m\u001b]8;;\u001b\\\u001b[2m:\u001b[0m\u001b]8;id=214563;file://c:\\Users\\Federico\\Documents\\GitHub\\pysical_locomotion\\data\\dbase\\__init__.py#11\u001b\\\u001b[2m11\u001b[0m\u001b]8;;\u001b\\\n"
      ]
     },
     "metadata": {},
     "output_type": "display_data"
    },
    {
     "name": "stdout",
     "output_type": "stream",
     "text": [
      "('FC_210715_AAA1110750_r5_hairpin', 'longcolumn')\n",
      "('FC_210716_AAA1110750_r6_hairpin', 'longcolumn')\n",
      "('FC_210720_AAA1110750_hairpin', 'longcolumn')\n",
      "('FC_210721_AAA1110750_hairpin', 'longcolumn')\n",
      "('FC_210722_AAA1110750_hairpin', 'longcolumn')\n",
      "('FC_211022_BAA110516_hairpin', 'longcolumn')\n",
      "('FC_211027_BAA110516_hairpin', 'longcolumn')\n",
      "('FC_211214_BAA110517_hairpin', 'b0')\n",
      "('FC_220114_BAA110517_hairpin', 'b0')\n",
      "('FC_220117_BAA110517_hairpin', 'b0')\n",
      "('FC_220119_BAA110517_hairpin', 'b0')\n",
      "('FC_220120_BAA110517_hairpin', 'b0')\n",
      "('FC_210917_BAA1110279_hairpin', 'b0')\n",
      "('FC_210820_BAA1110281_hairpin', 'longcolumn')\n",
      "('FC_210829_BAA1110281_hairpin', 'longcolumn')\n",
      "('FC_210830_BAA1110281_hairpin', 'longcolumn')\n",
      "('FC_210831_BAA1110281_hairpin', 'longcolumn')\n",
      "('FC_210901_BAA1110281_hairpin', 'longcolumn')\n",
      "('FC_210906_BAA1110281_hairpin', 'b0')\n",
      "('FC_210917_BAA1110281_hairpin', 'b0')\n"
     ]
    }
   ],
   "source": [
    "# imports\n",
    "import sys\n",
    "import matplotlib.pyplot as plt\n",
    "import numpy as np\n",
    "import pandas as pd\n",
    "from pathlib import Path\n",
    "from mpl_toolkits.axes_grid1 import make_axes_locatable\n",
    "from scipy.signal import medfilt\n",
    "\n",
    "sys.path.append(\"./\")\n",
    "sys.path.append(r\"C:\\Users\\Federico\\Documents\\GitHub\\pysical_locomotion\")\n",
    "\n",
    "from data.dbase.db_tables import Probe, Unit, Session, ValidatedSession, Recording, Tracking\n",
    "from data.data_utils import convolve_with_gaussian\n",
    "from data.dbase import db_tables\n",
    "\n",
    "from fcutils.plot.elements import plot_mean_and_error\n",
    "from scipy.stats import ttest_ind as ttest\n",
    "from fcutils.maths.signals import get_onset_offset\n",
    "from fcutils.plot.figure import clean_axes, calc_nrows_ncols\n",
    "from myterial import amber_darker, green_dark, grey_darker, grey_dark\n",
    "\n",
    "\n",
    "save_folder = Path(r\"D:\\Dropbox (UCL)\\Rotation_vte\\Locomotion\\analysis\\ephys\")\n",
    "\n",
    "\n",
    "# print all available recordings\n",
    "print(*zip(*(Recording - \"mouse_id='BAA1101192'\").fetch(\"name\", \"recording_probe_configuration\")), sep=\"\\n\")"
   ]
  },
  {
   "cell_type": "code",
   "execution_count": 15,
   "metadata": {},
   "outputs": [],
   "source": [
    "# get the speed of each limb (somehow its not in the database)\n",
    "def get_speed(x, y):\n",
    "    \"\"\"\n",
    "        Compute speed at each frame from XY coordinates\n",
    "    \"\"\"\n",
    "    rawspeed = np.hstack([[0], np.sqrt(np.diff(x) ** 2 + np.diff(y) ** 2)]) * 60\n",
    "    return convolve_with_gaussian(rawspeed, 9)\n",
    "\n",
    "def get_data(recording):\n",
    "    tracking = Tracking.get_session_tracking(recording, body_only=False)\n",
    "\n",
    "    # units = pd.DataFrame(Unit * Unit.Spikes * Probe.RecordingSite & f'name=\"{recording}\"')\n",
    "    recording = (db_tables.Recording & f\"name='{recording}'\").fetch1()\n",
    "    cf = recording[\"recording_probe_configuration\"]\n",
    "    units = db_tables.Unit.get_session_units(\n",
    "        recording[\"name\"],\n",
    "        cf,\n",
    "        spikes=True,\n",
    "        firing_rate=False,\n",
    "        frate_window=100,\n",
    "    )\n",
    "    if len(units):\n",
    "        units = units.sort_values(\"brain_region\", inplace=False).reset_index()\n",
    "\n",
    "    left_fl = tracking.loc[tracking.bpname == \"left_fl\"].iloc[0]\n",
    "    right_fl = tracking.loc[tracking.bpname == \"right_fl\"].iloc[0]\n",
    "    left_hl = tracking.loc[tracking.bpname == \"left_hl\"].iloc[0]\n",
    "    right_hl = tracking.loc[tracking.bpname == \"right_hl\"].iloc[0]\n",
    "    body = tracking.loc[tracking.bpname == \"body\"].iloc[0]\n",
    "\n",
    "    for limb in (left_fl, right_fl, left_hl, right_hl):\n",
    "        limb.speed = get_speed(limb.x, limb.y)\n",
    "\n",
    "    return units, left_fl, right_fl, left_hl, right_hl, body\n",
    "\n",
    "\n"
   ]
  },
  {
   "cell_type": "markdown",
   "metadata": {},
   "source": [
    "## Get walking onsets"
   ]
  },
  {
   "cell_type": "markdown",
   "metadata": {},
   "source": [
    "Different functions to get walking onset, based on either the paws movements or the body movement"
   ]
  },
  {
   "cell_type": "markdown",
   "metadata": {},
   "source": [
    "get when all the paws are not moving: the animal is stationary. \n",
    "\n",
    "Get the time points at which the left/right paws start moving as walking onsets. "
   ]
  },
  {
   "cell_type": "code",
   "execution_count": 3,
   "metadata": {},
   "outputs": [],
   "source": [
    "def get_stationary(left_fl, right_fl, left_hl, right_hl, body, SPEED_TH):\n",
    "    \"\"\" get when none of the paws is moving \"\"\"\n",
    "    limbs_moving = {l.bpname: l.speed > SPEED_TH for l in (left_fl, right_fl, left_hl, right_hl, body)}\n",
    "\n",
    "    stationary = np.sum(\n",
    "            np.vstack(list(limbs_moving.values())), axis=0\n",
    "        )\n",
    "    stationary = stationary == 0\n",
    "    return stationary\n",
    "\n",
    "\n",
    "def get_walking_from_paws(paw, SPEED_TH):\n",
    "    \"\"\"\n",
    "        \"walking\" is whenthe paw is moving fast enough\n",
    "    \"\"\"\n",
    "    above = np.argwhere(paw.speed > SPEED_TH).flatten()\n",
    "    walking, _ = get_onset_offset(np.diff(above), 2)\n",
    "    walking = np.where(np.diff(above) > 2)[0]\n",
    "    return above[walking+1]\n",
    "    # return above\n",
    "\n",
    "\n",
    "def get_walking_and_stationary(left_fl, right_fl, left_hl, right_hl, body, SPEED_TH):\n",
    "        \n",
    "\n",
    "    right_walking  = get_walking_from_paws(right_fl, SPEED_TH)\n",
    "    left_walking  = get_walking_from_paws(left_fl, SPEED_TH)\n",
    "    stationary = get_stationary(left_fl, left_fl, left_hl, right_hl, body, SPEED_TH)\n",
    "\n",
    "    stationary_off, stationary_on = get_onset_offset(stationary, .5)\n",
    "    return stationary_off, stationary_on, left_walking, right_walking, stationary\n",
    "\n",
    "# stationary_off, stationary_on, left_walking, right_walking, stationary = get_walking_and_stationary(left_fl, right_fl, left_hl, right_hl, body, SPEED_TH)\n",
    "\n",
    "\n",
    "# T = 300\n",
    "# scaled_stationary = (stationary * np.max(left_fl.speed))  # for plotting\n",
    "\n",
    "# f, ax = plt.subplots(figsize=(20, 10))\n",
    "\n",
    "# plt.scatter(left_walking, left_fl.speed[left_walking], color=\"b\", s=60)\n",
    "# plt.scatter(right_walking, right_fl.speed[right_walking], color=\"r\", s=60)\n",
    "# plt.scatter(stationary_on[:-2], scaled_stationary[stationary_on[:-2]+1], color=\"k\", s=60)\n",
    "\n",
    "# plt.plot(left_fl.speed)\n",
    "# plt.plot(right_fl.speed, alpha=.4)\n",
    "# plt.plot( scaled_stationary, color=\"k\", alpha=.2)\n",
    "# ax.axhline(SPEED_TH, color=\"k\", ls=\"--\")\n",
    "# ax.set(xlim=[0, T])"
   ]
  },
  {
   "cell_type": "markdown",
   "metadata": {},
   "source": [
    "Get all the times the mouse has a L/R walking onset as long as the other paw is stationary and there was a long enough period of stationary before + the bout is long enough and the mouse moves fast enough."
   ]
  },
  {
   "cell_type": "code",
   "execution_count": 13,
   "metadata": {},
   "outputs": [],
   "source": [
    "def get_trials(left_walking, right_walking, stationary_on, stationary_off):\n",
    "    \"\"\"\n",
    "        get the trials from the walking bouts\n",
    "    \"\"\"\n",
    "    \n",
    "    trials = dict(\n",
    "        onset=[],\n",
    "        paw = [],\n",
    "        offset = [],\n",
    "    )\n",
    "\n",
    "    for (side, walking_onset) in zip((\"left\", \"right\"), (left_walking, right_walking)):\n",
    "        if side == \"left\":\n",
    "            other = right_walking\n",
    "            this = left_fl\n",
    "        else:\n",
    "            other = left_walking\n",
    "            this = right_fl\n",
    "\n",
    "        for onset in walking_onset:\n",
    "            # get the last movement onset for othe paw \n",
    "            other_start_moving = [o for o in other if o < onset]\n",
    "            other_start_moving = other_start_moving[-1] if other_start_moving else 0\n",
    "\n",
    "            # get last stationary offset (startmoving)\n",
    "            start_moving = [o for o in stationary_off if o < onset]\n",
    "            if start_moving:\n",
    "                start_moving = start_moving[-1]\n",
    "            else:\n",
    "                continue\n",
    "            \n",
    "\n",
    "            # get the next stationary onset (stop moving)\n",
    "            stop_moving = [o for o in stationary_on if o > onset]\n",
    "            if stop_moving:\n",
    "                stop_moving = stop_moving[0]\n",
    "            else:\n",
    "                continue\n",
    "\n",
    "            # get the last offset before the stationary onset\n",
    "            last_stop_moving = [o for o in stationary_on if o < start_moving]\n",
    "            if last_stop_moving:\n",
    "                last_stop_moving = last_stop_moving[-1]\n",
    "            else:\n",
    "                continue\n",
    "            \n",
    "\n",
    "            assert stop_moving > start_moving\n",
    "            assert last_stop_moving < start_moving\n",
    "\n",
    "            if start_moving - other_start_moving < 15:\n",
    "                continue\n",
    "\n",
    "            # # check that the statiionary duration is long enough\n",
    "            # if start_moving - last_stop_moving < MIN_PAUSE_DURATION * 60:\n",
    "            #     continue\n",
    "\n",
    "            # check that bout is long enough\n",
    "            if (stop_moving - start_moving) < (MIN_WAKING_DURATION * 60):\n",
    "                continue\n",
    "\n",
    "            # check that the speed is high enough\n",
    "            if not np.any(body.speed[start_moving:stop_moving] >= MIN_WALKING_SPEED):\n",
    "                continue\n",
    "\n",
    "            if np.any(this.speed[onset-int(MIN_PAUSE_DURATION*60):onset-5] > SPEED_TH):\n",
    "                continue    \n",
    "\n",
    "\n",
    "            # all checks are passed, keep it\n",
    "            trials[\"onset\"].append(onset - 1)\n",
    "            trials[\"paw\"].append(side)\n",
    "            trials[\"offset\"].append(stop_moving)\n",
    "\n",
    "    \n",
    "    trials = pd.DataFrame(trials)\n",
    "    return trials\n",
    "\n",
    "# trials = get_trials(left_walking, right_walking, stationary_on, stationary_off)"
   ]
  },
  {
   "cell_type": "code",
   "execution_count": 5,
   "metadata": {},
   "outputs": [],
   "source": [
    "# # basic sanity checks plots\n",
    "\n",
    "# f, ax = plt.subplots(figsize=(20, 10), nrows=2, sharex=True)\n",
    "\n",
    "# l = trials.loc[trials.paw == \"left\"]\n",
    "# r = trials.loc[trials.paw == \"right\"]\n",
    "\n",
    "# # for i, trial in l.iterrows():\n",
    "# #     ax[0].plot(left_fl.speed[trial.onset - 30:trial.onset+30])\n",
    "\n",
    "# # for i, trial in r.iterrows():\n",
    "# #     ax[1].plot(right_fl.speed[trial.onset - 30:trial.onset+30])\n",
    "\n",
    "# ax[0].plot(left_fl.speed)\n",
    "# ax[0].plot(body.speed, lw=2, color=\"k\", alpha=.5)\n",
    "# ax[0].scatter(left_walking, left_fl.speed[left_walking], color=\"k\", s=80, alpha=.5)\n",
    "# ax[0].scatter(l.onset, left_fl.speed[l.onset], color=\"r\", s=60)\n",
    "# ax[0].axhline(SPEED_TH, color=\"k\", ls=\"--\")\n",
    "# ax[0].plot(stationary * 100, lw=4, alpha=.2, color=\"g\")\n",
    "\n",
    "\n",
    "# ax[1].plot(right_fl.speed)\n",
    "# ax[1].plot(body.speed, lw=2, color=\"k\", alpha=.5)\n",
    "# ax[1].scatter(right_walking, right_fl.speed[right_walking], color=\"k\", s=80, alpha=.5)\n",
    "# ax[1].scatter(r.onset, right_fl.speed[r.onset], color=\"r\", s=60)\n",
    "# ax[1].axhline(SPEED_TH, color=\"k\", ls=\"--\")\n",
    "# ax[1].plot(stationary * 100, lw=4, alpha=.2, color=\"g\")\n",
    "\n",
    "# ax[0].set(xlim=[13000, 13500])"
   ]
  },
  {
   "cell_type": "code",
   "execution_count": 6,
   "metadata": {},
   "outputs": [],
   "source": [
    "# f, ax = plt.subplots(figsize=(20, 10), nrows=2, sharex=True)\n",
    "\n",
    "# l = trials.loc[trials.paw == \"left\"]\n",
    "# r = trials.loc[trials.paw == \"right\"]\n",
    "\n",
    "# # for i, trial in l.iterrows():\n",
    "#     ax[0].plot(left_fl.speed[trial.onset - 30:trial.onset+30])\n",
    "\n",
    "# for i, trial in r.iterrows():\n",
    "#     ax[1].plot(right_fl.speed[trial.onset - 30:trial.onset+30])"
   ]
  },
  {
   "cell_type": "markdown",
   "metadata": {},
   "source": [
    "## Raster plots"
   ]
  },
  {
   "cell_type": "code",
   "execution_count": 7,
   "metadata": {},
   "outputs": [],
   "source": [
    "def raster(ax, unit, timestamps, t_before=1, t_after=1, dt=.1):\n",
    "    \"\"\"\n",
    "        Plot a unit spikes aligned to timestamps (in seconds).\n",
    "        it also adds a firing rate visualization\n",
    "    \"\"\"\n",
    "    ax.plot([0, 0], [0,1], lw=3, color=\"k\", alpha=.3)\n",
    "    n = len(timestamps)\n",
    "    h = 1/n\n",
    "\n",
    "    spikes = unit.spikes_ms / 1000\n",
    "    perievent_spikes = []\n",
    "    X, Y = [], []\n",
    "    for i,t in enumerate(timestamps):\n",
    "        trial_spikes = spikes[(spikes > t-t_before) & (spikes < t+t_after)]\n",
    "        y = np.zeros_like(trial_spikes) + (i * h)\n",
    "\n",
    "        Y.extend(y)\n",
    "        perievent_spikes.extend(trial_spikes-t)\n",
    "    ax.scatter(perievent_spikes, Y, s=4, color=grey_dark, alpha=1, marker=7)\n",
    "\n",
    "    # add horizontal cax to axis\n",
    "    divider = make_axes_locatable(ax)\n",
    "    cax = divider.append_axes('top', size='30%', pad=0.05)\n",
    "    cax.axvline(0, lw=3, color=\"k\", alpha=.3, zorder=-1)\n",
    "    cax.hist(perievent_spikes, bins=np.arange(-t_before, t_after+dt, step=dt), color=unit.color, alpha=1, density=False)\n",
    "\n",
    "    ax.set(\n",
    "        xlabel=\"time (s)\",\n",
    "        ylabel=\"trial\",\n",
    "        yticks=np.arange(0, 1, 10/n),\n",
    "        yticklabels=(np.arange(0, 1, 10/n) * n).astype(int),\n",
    "        xlim=[-t_before, t_after],\n",
    "        \n",
    "    )\n",
    "    cax.set(ylabel=\"Spike counts\", xticks=[], title = f\"Unit {unit.unit_id} - {unit.brain_region}\", xlim=[-t_before, t_after],)\n",
    "    return ax, cax\n"
   ]
  },
  {
   "cell_type": "code",
   "execution_count": 8,
   "metadata": {},
   "outputs": [],
   "source": [
    "# f, axes = plt.subplots(np.ceil(len(units)/5).astype(int), 5, figsize=(25, 50))\n",
    "# # f.suptitle(f\"{REC} - locomotion onset\")\n",
    "\n",
    "# for (i, unit), ax in zip(units.iterrows(), axes.flatten()):\n",
    "#     l = trials.loc[trials.paw == \"left\"]\n",
    "#     ax, cax = raster(ax, unit, l.onset / 60, t_before=1.0, t_after=1.0, dt=.05)\n",
    "\n",
    "#     # get average firing rate before/after movement onset\n",
    "#     spikes = unit.spikes_ms / 1000\n",
    "#     firing_rate_before = np.median([len(spikes[(spikes > t-1) & (spikes < t-.25)]) / .75 for t in l.onset/60])\n",
    "#     firing_rate_after = np.median([len(spikes[(spikes > t+.25) & (spikes < t+1)]) / .75 for t in l.onset/60])\n",
    "#     cax.plot([-1, -.25], [firing_rate_before, firing_rate_before], lw=1, color=\"k\")\n",
    "#     cax.plot([.25, 1], [firing_rate_after, firing_rate_after], lw=1, color=\"k\")\n",
    "\n",
    "#     if i % 5 != 0:\n",
    "#         ax.set(yticks=[], ylabel=None)\n",
    "#         cax.set(ylabel=None)\n",
    "#     # break\n",
    "\n",
    "# clean_axes(f)"
   ]
  },
  {
   "cell_type": "code",
   "execution_count": 9,
   "metadata": {},
   "outputs": [],
   "source": [
    "\n",
    "\n",
    "# f, axes = plt.subplots(np.ceil(len(units)/5).astype(int), 5, figsize=(25, 50))\n",
    "# # f.suptitle(f\"{REC} - locomotion onset\")\n",
    "\n",
    "# for (i, unit), ax in zip(units.iterrows(), axes.flatten()):\n",
    "\n",
    "#     # get average firing rate before/after movement onset\n",
    "#     spikes = unit.spikes_ms / 1000\n",
    "#     firing_rate_before = [len(spikes[(spikes > t-1) & (spikes < t-.25)]) / .75 for t in trials.onset/60]\n",
    "#     firing_rate_after = [len(spikes[(spikes > t+.25) & (spikes < t+1)]) / .75 for t in trials.onset/60]\n",
    "\n",
    "\n",
    "#     firing_rate_befor_l = [len(spikes[(spikes > t-1) & (spikes < t-.25)]) / .75 for t in trials.loc[trials.paw == \"left\"].onset/60]\n",
    "#     firing_rate_after_l = [len(spikes[(spikes > t+.25) & (spikes < t+1)]) / .75 for t in trials.loc[trials.paw == \"left\"].onset/60]\n",
    "\n",
    "#     firing_rate_befor_r = [len(spikes[(spikes > t-1) & (spikes < t-.25)]) / .75 for t in trials.loc[trials.paw == \"right\"].onset/60]\n",
    "#     firing_rate_after_r = [len(spikes[(spikes > t+.25) & (spikes < t+1)]) / .75 for t in trials.loc[trials.paw == \"right\"].onset/60]\n",
    "\n",
    "#     _, p = ttest(firing_rate_before, firing_rate_after)\n",
    "\n",
    "#     plot_mean_and_error(np.array([np.mean(firing_rate_before), np.mean(firing_rate_after)]), np.array([np.std(firing_rate_before), np.std(firing_rate_after)]), ax=ax, color=unit.color, alpha=.5)\n",
    "#     plot_mean_and_error(np.array([np.mean(firing_rate_befor_l), np.mean(firing_rate_after_l)]), np.array([np.std(firing_rate_befor_l), np.std(firing_rate_after_l)]), ax=ax, color=\"red\", alpha=.5)\n",
    "#     plot_mean_and_error(np.array([np.mean(firing_rate_befor_r), np.mean(firing_rate_after_r)]), np.array([np.std(firing_rate_befor_r), np.std(firing_rate_after_r)]), ax=ax, color=\"black\", alpha=.5)\n",
    "\n",
    "#     if p < 0.05:\n",
    "#         sign = \"decrease\" if np.mean(firing_rate_before) > np.mean(firing_rate_after) else \"increase\"\n",
    "#         ax.set(title=f\"{unit.unit_id} SIGNIFICANT {sign}\", ylabel=None)\n",
    "        \n",
    "\n",
    "#     # break\n",
    "\n",
    "# clean_axes(f)"
   ]
  },
  {
   "cell_type": "markdown",
   "metadata": {},
   "source": [
    "# Run on all recordings\n",
    "Now that we are happy with the code, get for each recording all the units that are +/- modulated by movement onset."
   ]
  },
  {
   "cell_type": "code",
   "execution_count": 10,
   "metadata": {},
   "outputs": [],
   "source": [
    "def get_unit_firign_rate(spikes, trials):\n",
    "    \"\"\"\n",
    "        Given spike times in seconds and trials onsets in frames, get firing rate before/after each trial onset.\n",
    "    \"\"\"\n",
    "    firing_rate_before = [len(spikes[(spikes > t-1) & (spikes < t-.25)]) / .75 for t in trials.onset/60]\n",
    "    firing_rate_after = [len(spikes[(spikes > t+.25) & (spikes < t+1)]) / .75 for t in trials.onset/60]\n",
    "\n",
    "    return firing_rate_before, firing_rate_after"
   ]
  },
  {
   "cell_type": "code",
   "execution_count": 11,
   "metadata": {},
   "outputs": [
    {
     "name": "stdout",
     "output_type": "stream",
     "text": [
      "['FC_210715_AAA1110750_r5_hairpin' 'FC_210716_AAA1110750_r6_hairpin'\n",
      " 'FC_210720_AAA1110750_hairpin' 'FC_210721_AAA1110750_hairpin'\n",
      " 'FC_210722_AAA1110750_hairpin' 'FC_211022_BAA110516_hairpin'\n",
      " 'FC_211027_BAA110516_hairpin' 'FC_211214_BAA110517_hairpin'\n",
      " 'FC_220114_BAA110517_hairpin' 'FC_220117_BAA110517_hairpin'\n",
      " 'FC_220119_BAA110517_hairpin' 'FC_220120_BAA110517_hairpin'\n",
      " 'FC_210917_BAA1110279_hairpin' 'FC_210820_BAA1110281_hairpin'\n",
      " 'FC_210829_BAA1110281_hairpin' 'FC_210830_BAA1110281_hairpin'\n",
      " 'FC_210831_BAA1110281_hairpin' 'FC_210901_BAA1110281_hairpin'\n",
      " 'FC_210906_BAA1110281_hairpin' 'FC_210917_BAA1110281_hairpin']\n"
     ]
    }
   ],
   "source": [
    "MIN_WAKING_DURATION = .25  # when the mouse walks < than this we ignore it (seconds)\n",
    "MIN_PAUSE_DURATION = .25  # when the mouse pauses < before a walking bout than this we ignore it (seconds)\n",
    "MIN_WALKING_SPEED = 20  # mouse must reach this speed during a locomotion bout\n",
    "SPEED_TH = 12\n",
    "\n",
    "\n",
    "recordings = (Recording - \"mouse_id='BAA1101192'\").fetch(\"name\")\n",
    "\n",
    "print(recordings)"
   ]
  },
  {
   "cell_type": "code",
   "execution_count": 24,
   "metadata": {},
   "outputs": [
    {
     "name": "stdout",
     "output_type": "stream",
     "text": [
      "Processing FC_210715_AAA1110750_r5_hairpin\n",
      "Processing FC_210716_AAA1110750_r6_hairpin\n",
      "Processing FC_210720_AAA1110750_hairpin\n",
      "Processing FC_210721_AAA1110750_hairpin\n",
      "Processing FC_210722_AAA1110750_hairpin\n",
      "Processing FC_211022_BAA110516_hairpin\n",
      "Processing FC_211027_BAA110516_hairpin\n",
      "Processing FC_211214_BAA110517_hairpin\n",
      "Processing FC_220114_BAA110517_hairpin\n",
      "Processing FC_220117_BAA110517_hairpin\n",
      "Processing FC_220119_BAA110517_hairpin\n",
      "Processing FC_220120_BAA110517_hairpin\n",
      "Processing FC_210917_BAA1110279_hairpin\n",
      "Processing FC_210820_BAA1110281_hairpin\n"
     ]
    },
    {
     "name": "stderr",
     "output_type": "stream",
     "text": [
      "c:\\ProgramData\\Miniconda3\\envs\\dev\\lib\\site-packages\\numpy\\core\\fromnumeric.py:3441: RuntimeWarning: Mean of empty slice.\n",
      "  out=out, **kwargs)\n"
     ]
    },
    {
     "name": "stdout",
     "output_type": "stream",
     "text": [
      "Processing FC_210829_BAA1110281_hairpin\n",
      "Processing FC_210830_BAA1110281_hairpin\n",
      "Processing FC_210831_BAA1110281_hairpin\n",
      "Processing FC_210901_BAA1110281_hairpin\n",
      "Processing FC_210906_BAA1110281_hairpin\n",
      "Processing FC_210917_BAA1110281_hairpin\n",
      "                         recording    mouse_id  unit_id brain_region  \\\n",
      "0  FC_210715_AAA1110750_r5_hairpin  AAA1110750      152         PRNc   \n",
      "1  FC_210715_AAA1110750_r5_hairpin  AAA1110750      172         PRNc   \n",
      "2  FC_210715_AAA1110750_r5_hairpin  AAA1110750      215         PRNc   \n",
      "3  FC_210716_AAA1110750_r6_hairpin  AAA1110750      126         PRNc   \n",
      "4  FC_210716_AAA1110750_r6_hairpin  AAA1110750      246         PRNc   \n",
      "\n",
      "                                        frate_before  \\\n",
      "0  [20.0, 1.3333333333333333, 12.0, 4.0, 14.66666...   \n",
      "1  [9.333333333333334, 1.3333333333333333, 2.6666...   \n",
      "2  [0.0, 0.0, 0.0, 5.333333333333333, 0.0, 0.0, 1...   \n",
      "3  [0.0, 9.333333333333334, 5.333333333333333, 8....   \n",
      "4  [13.333333333333334, 6.666666666666667, 9.3333...   \n",
      "\n",
      "                                         frate_after  significant    pvalue  \\\n",
      "0  [14.666666666666666, 10.666666666666666, 9.333...        False  0.335579   \n",
      "1  [2.6666666666666665, 2.6666666666666665, 2.666...        False  0.556459   \n",
      "2  [4.0, 5.333333333333333, 12.0, 6.6666666666666...         True  0.023878   \n",
      "3  [1.3333333333333333, 8.0, 10.666666666666666, ...        False  0.617376   \n",
      "4  [6.666666666666667, 6.666666666666667, 8.0, 6....        False  0.631000   \n",
      "\n",
      "  change_sign  \n",
      "0    decrease  \n",
      "1    increase  \n",
      "2    increase  \n",
      "3    decrease  \n",
      "4    decrease  \n"
     ]
    }
   ],
   "source": [
    "all_units = dict(\n",
    "    recording = [],\n",
    "    mouse_id = [],\n",
    "    unit_id = [],\n",
    "    brain_region = [],\n",
    "    frate_before = [],\n",
    "    frate_after = [],\n",
    "    significant = [],\n",
    "    pvalue = [],\n",
    "    change_sign = [],\n",
    ")\n",
    "\n",
    "tot_units = 0\n",
    "for rec in recordings:\n",
    "    print(f\"Processing {rec}\")\n",
    "    units, left_fl, right_fl, left_hl, right_hl, body = get_data(rec)\n",
    "    if not len(units):\n",
    "        continue\n",
    "\n",
    "    units = units.loc[units.brain_region.isin([\"PRNr\", \"PRNc\"])]\n",
    "    tot_units += len(units)\n",
    "\n",
    "    stationary_off, stationary_on, left_walking, right_walking, stationary = get_walking_and_stationary(left_fl, right_fl, left_hl, right_hl, body, SPEED_TH)\n",
    "    trials = get_trials(left_walking, right_walking, stationary_on, stationary_off)\n",
    "    trials = trials.loc[trials.paw == \"right\"]\n",
    "\n",
    "    for (i, unit) in units.iterrows():\n",
    "        spikes = unit.spikes_ms / 1000\n",
    "        firing_rate_before, firing_rate_after = get_unit_firign_rate(spikes, trials)\n",
    "\n",
    "        _, p = ttest(firing_rate_before, firing_rate_after)\n",
    "        sign = \"decrease\" if np.mean(firing_rate_before) > np.mean(firing_rate_after) else \"increase\"\n",
    "\n",
    "        all_units[\"recording\"].append(rec)\n",
    "        all_units[\"mouse_id\"].append(unit.mouse_id)\n",
    "        all_units[\"unit_id\"].append(unit.unit_id)\n",
    "        all_units[\"brain_region\"].append(unit.brain_region)\n",
    "        all_units[\"frate_before\"].append(firing_rate_before)\n",
    "        all_units[\"frate_after\"].append(firing_rate_after)\n",
    "        all_units[\"significant\"].append(p < 0.05)\n",
    "        all_units[\"pvalue\"].append(p)\n",
    "        all_units[\"change_sign\"].append(sign)\n",
    "\n",
    "all_units = pd.DataFrame(all_units)\n",
    "print(all_units.head())"
   ]
  },
  {
   "cell_type": "code",
   "execution_count": 25,
   "metadata": {},
   "outputs": [
    {
     "name": "stdout",
     "output_type": "stream",
     "text": [
      "Total units: 410\n"
     ]
    }
   ],
   "source": [
    "print(f\"Total units: {tot_units}\")"
   ]
  },
  {
   "cell_type": "code",
   "execution_count": 27,
   "metadata": {},
   "outputs": [
    {
     "name": "stdout",
     "output_type": "stream",
     "text": [
      "Tot units: 410 - +-ve 49 - -ve 33\n"
     ]
    }
   ],
   "source": [
    "up = all_units.loc[(all_units.change_sign == \"increase\") & (all_units.significant == True)]\n",
    "down = all_units.loc[(all_units.change_sign == \"decrease\") & (all_units.significant == True)]\n",
    "\n",
    "print(f\"Tot units: {len(all_units)} - +-ve {len(up)} - -ve {len(down)}\")"
   ]
  },
  {
   "cell_type": "code",
   "execution_count": null,
   "metadata": {},
   "outputs": [],
   "source": []
  },
  {
   "cell_type": "code",
   "execution_count": null,
   "metadata": {},
   "outputs": [],
   "source": []
  }
 ],
 "metadata": {
  "interpreter": {
   "hash": "d14c38d234234b969aee73678d168700778a98933f098d78df9f79a7508c5a93"
  },
  "kernelspec": {
   "display_name": "Python 3.7.0 ('dev')",
   "language": "python",
   "name": "python3"
  },
  "language_info": {
   "codemirror_mode": {
    "name": "ipython",
    "version": 3
   },
   "file_extension": ".py",
   "mimetype": "text/x-python",
   "name": "python",
   "nbconvert_exporter": "python",
   "pygments_lexer": "ipython3",
   "version": "3.7.0"
  },
  "orig_nbformat": 4
 },
 "nbformat": 4,
 "nbformat_minor": 2
}
