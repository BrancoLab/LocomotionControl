{
 "cells": [
  {
   "cell_type": "code",
   "execution_count": null,
   "metadata": {},
   "outputs": [],
   "source": [
    "include(\"settings.jl\")"
   ]
  },
  {
   "attachments": {},
   "cell_type": "markdown",
   "metadata": {},
   "source": [
    "## Plot Ephys Raw data\n",
    "\n",
    "Plot things like bout-aligned spike rasters etc."
   ]
  },
  {
   "cell_type": "code",
   "execution_count": null,
   "metadata": {},
   "outputs": [],
   "source": [
    "bouts = convert(DataFrame, py\"get_bouts('outbound', baseline=False, target='MOs')\");"
   ]
  },
  {
   "cell_type": "code",
   "execution_count": null,
   "metadata": {},
   "outputs": [],
   "source": [
    "py\"\"\"\n",
    "\n",
    "def get_bouts_activity(name, bw=25):\n",
    "    activity = pd.DataFrame(\n",
    "        Probe.RecordingSite * Unit * FiringRate & f\"name='{name}'\"  & f\"bin_width = {bw}\"\n",
    "    )\n",
    "    \n",
    "    return activity\n",
    "\"\"\"\n",
    "\n",
    "\n",
    "regions = Dict(\n",
    "    \"MOs\" => [\"MOs1\", \"MOs2/3\", \"MOs4\", \"MOs5\", \"MOs6a\", \"MOs6b\"],\n",
    "    \"MRN\" => [\"CUN\", \"PPN\"]\n",
    ")\n",
    "\n",
    "function add_activity_to_bouts!(bouts; target=\"MOs\")\n",
    "    @assert length(unique(bouts.name)) == 1 \"bouts must be from the same recording\"\n",
    "    rec = bouts.name[1]\n",
    "    recording_activity = convert(DataFrame, py\"get_bouts_activity\"(rec, bw=25))\n",
    "\n",
    "    # keep units in the right regions\n",
    "    recording_activity = recording_activity[recording_activity.brain_region .∈ regions[target], :]\n",
    "    @info \"got activity\" size(bouts) size(recording_activity)\n",
    "\n",
    "    # cut activity for each bout\n",
    "    # activity = Dict(\n",
    "    #     \"unit_$(u)\"=>[] for u in recording_activity.unit_id \n",
    "    # )\n",
    "    \n",
    "    # for u in units.unit_id\n",
    "    #     unit_activity::Vector = recording_activity[recording_activity.unit_id .== u, :]\n",
    "\n",
    "    #     for (i, bout) in enumerate(bouts)\n",
    "    #         start_frame = bout.corrected_start_frame\n",
    "    #         end_frame = bout.corrected_end_frame\n",
    "    #         push!(activity[\"unit_$(u)\"],unit_activity[start_frame:end_frame])\n",
    "    #     end\n",
    "\n",
    "    #     break\n",
    "    # end\n",
    "\n",
    "    # for (k, v) in activity\n",
    "    #     bouts[k] = v\n",
    "    # end\n",
    "    \n",
    "end\n",
    "nothing"
   ]
  },
  {
   "cell_type": "code",
   "execution_count": null,
   "metadata": {},
   "outputs": [],
   "source": [
    "recs = bouts.name |> unique\n",
    "\n",
    "rec = recs[13]\n",
    "rec_bouts = bouts[bouts.name .== rec, :]\n",
    "\n",
    "# activity = convert(DataFrame, py\"get_bouts_activity\"(rec, bw=25)\n",
    "# activity = py\"get_bouts_activity\"(rec, bw=25)\n",
    "\n",
    "add_activity_to_bouts!(rec_bouts, target=\"MOs\")\n"
   ]
  }
 ],
 "metadata": {
  "kernelspec": {
   "display_name": "Julia 1.8.3",
   "language": "julia",
   "name": "julia-1.8"
  },
  "language_info": {
   "file_extension": ".jl",
   "mimetype": "application/julia",
   "name": "julia",
   "version": "1.8.3"
  },
  "orig_nbformat": 4
 },
 "nbformat": 4,
 "nbformat_minor": 2
}
