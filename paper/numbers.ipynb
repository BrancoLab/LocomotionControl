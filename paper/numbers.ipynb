{
 "cells": [
  {
   "attachments": {},
   "cell_type": "markdown",
   "metadata": {},
   "source": [
    "# Numbers\n",
    "\n",
    "Scrpt to generate basic numbers such as the number of mice and the number of cells per mouse."
   ]
  },
  {
   "cell_type": "code",
   "execution_count": 45,
   "metadata": {},
   "outputs": [],
   "source": [
    "import sys\n",
    "import pandas as pd\n",
    "import numpy as np\n",
    "sys.path.append(\"/Users/federicoclaudi/Documents/Github/LocomotionControl\")\n",
    "\n",
    "from data.dbase.db_tables import (\n",
    "    Session,\n",
    "    Mouse,\n",
    "    ValidatedSession,\n",
    "    Tracking,\n",
    "    SessionCondition,\n",
    "    LocomotionBouts,\n",
    "    Surgery, \n",
    "    Probe, \n",
    "    Recording, \n",
    "    Unit,\n",
    ")"
   ]
  },
  {
   "cell_type": "code",
   "execution_count": 2,
   "metadata": {},
   "outputs": [
    {
     "name": "stdout",
     "output_type": "stream",
     "text": [
      "Of a total of 234 sessions, 154 are baseline and 80 are implanted\n",
      "Of a total of 20 mice, 20 are baseline and 7 are implanted\n",
      "Baseline mice have 7.70 +/- 6.82 sessions, while implanted mice have 11.43 +/- 5.60 sessions\n"
     ]
    }
   ],
   "source": [
    "# get the number of sessions that are implanted vs baseline\n",
    "sessions = pd.DataFrame(ValidatedSession * SessionCondition)\n",
    "\n",
    "baseline = sessions[sessions[\"condition\"] == \"naive\"]\n",
    "implanted = sessions[sessions[\"condition\"] != \"naive\"]\n",
    "\n",
    "print(f\"Of a total of {len(sessions)} sessions, {len(baseline)} are baseline and {len(implanted)} are implanted\")\n",
    "\n",
    "# for each group of session, get the number of mice\n",
    "baseline_mice = len(baseline[\"mouse_id\"].unique())\n",
    "implanted_mice = len(implanted[\"mouse_id\"].unique())\n",
    "print(f\"Of a total of {len(sessions['mouse_id'].unique())} mice, {baseline_mice} are baseline and {implanted_mice} are implanted\")\n",
    "\n",
    "# get the average and std of the number of sessions per mouse\n",
    "baseline_mu, baseline_std = np.mean(baseline.groupby(\"mouse_id\").count()[\"name\"].values), np.std(baseline.groupby(\"mouse_id\").count()[\"name\"].values)\n",
    "implanted_mu, implanted_std = np.mean(implanted.groupby(\"mouse_id\").count()[\"name\"].values), np.std(implanted.groupby(\"mouse_id\").count()[\"name\"].values)\n",
    "\n",
    "print(f\"Baseline mice have {baseline_mu:.2f} +/- {baseline_std:.2f} sessions, while implanted mice have {implanted_mu:.2f} +/- {implanted_std:.2f} sessions\")\n"
   ]
  },
  {
   "attachments": {},
   "cell_type": "markdown",
   "metadata": {},
   "source": [
    "## Locomotion bouts"
   ]
  },
  {
   "cell_type": "code",
   "execution_count": 80,
   "metadata": {},
   "outputs": [
    {
     "data": {
      "text/html": [
       "<pre style=\"white-space:pre;overflow-x:auto;line-height:normal;font-family:Menlo,'DejaVu Sans Mono',consolas,'Courier New',monospace\">Getting number of locomotion bouts for baseline sessions\n",
       "</pre>\n"
      ],
      "text/plain": [
       "Getting number of locomotion bouts for baseline sessions\n"
      ]
     },
     "metadata": {},
     "output_type": "display_data"
    },
    {
     "data": {
      "text/html": [
       "<pre style=\"white-space:pre;overflow-x:auto;line-height:normal;font-family:Menlo,'DejaVu Sans Mono',consolas,'Courier New',monospace\">Tot number of inbound bouts: <span style=\"color: #008080; text-decoration-color: #008080; font-weight: bold\">1963</span> - average duration <span style=\"color: #008080; text-decoration-color: #008080; font-weight: bold\">6.42</span> +<span style=\"color: #800080; text-decoration-color: #800080\">/</span><span style=\"color: #ff00ff; text-decoration-color: #ff00ff\">-</span> <span style=\"color: #008080; text-decoration-color: #008080; font-weight: bold\">1.73</span> s\n",
       "</pre>\n"
      ],
      "text/plain": [
       "Tot number of inbound bouts: \u001b[1;36m1963\u001b[0m - average duration \u001b[1;36m6.42\u001b[0m +\u001b[35m/\u001b[0m\u001b[95m-\u001b[0m \u001b[1;36m1.73\u001b[0m s\n"
      ]
     },
     "metadata": {},
     "output_type": "display_data"
    },
    {
     "data": {
      "text/html": [
       "<pre style=\"white-space:pre;overflow-x:auto;line-height:normal;font-family:Menlo,'DejaVu Sans Mono',consolas,'Courier New',monospace\">    Average number of inbound bouts per mouse: <span style=\"color: #008080; text-decoration-color: #008080; font-weight: bold\">98.15</span> +<span style=\"color: #800080; text-decoration-color: #800080\">/</span><span style=\"color: #ff00ff; text-decoration-color: #ff00ff\">-</span> <span style=\"color: #008080; text-decoration-color: #008080; font-weight: bold\">91.36</span> \n",
       "</pre>\n"
      ],
      "text/plain": [
       "    Average number of inbound bouts per mouse: \u001b[1;36m98.15\u001b[0m +\u001b[35m/\u001b[0m\u001b[95m-\u001b[0m \u001b[1;36m91.36\u001b[0m \n"
      ]
     },
     "metadata": {},
     "output_type": "display_data"
    },
    {
     "data": {
      "text/html": [
       "<pre style=\"white-space:pre;overflow-x:auto;line-height:normal;font-family:Menlo,'DejaVu Sans Mono',consolas,'Courier New',monospace\">    Average number of inbound bouts per session: <span style=\"color: #008080; text-decoration-color: #008080; font-weight: bold\">19.83</span> +<span style=\"color: #800080; text-decoration-color: #800080\">/</span><span style=\"color: #ff00ff; text-decoration-color: #ff00ff\">-</span> <span style=\"color: #008080; text-decoration-color: #008080; font-weight: bold\">16.85</span> \n",
       "</pre>\n"
      ],
      "text/plain": [
       "    Average number of inbound bouts per session: \u001b[1;36m19.83\u001b[0m +\u001b[35m/\u001b[0m\u001b[95m-\u001b[0m \u001b[1;36m16.85\u001b[0m \n"
      ]
     },
     "metadata": {},
     "output_type": "display_data"
    },
    {
     "data": {
      "text/html": [
       "<pre style=\"white-space:pre;overflow-x:auto;line-height:normal;font-family:Menlo,'DejaVu Sans Mono',consolas,'Courier New',monospace\">Tot number of outbound bouts: <span style=\"color: #008080; text-decoration-color: #008080; font-weight: bold\">3195</span> - average duration <span style=\"color: #008080; text-decoration-color: #008080; font-weight: bold\">6.47</span> +<span style=\"color: #800080; text-decoration-color: #800080\">/</span><span style=\"color: #ff00ff; text-decoration-color: #ff00ff\">-</span> <span style=\"color: #008080; text-decoration-color: #008080; font-weight: bold\">1.65</span> s\n",
       "</pre>\n"
      ],
      "text/plain": [
       "Tot number of outbound bouts: \u001b[1;36m3195\u001b[0m - average duration \u001b[1;36m6.47\u001b[0m +\u001b[35m/\u001b[0m\u001b[95m-\u001b[0m \u001b[1;36m1.65\u001b[0m s\n"
      ]
     },
     "metadata": {},
     "output_type": "display_data"
    },
    {
     "data": {
      "text/html": [
       "<pre style=\"white-space:pre;overflow-x:auto;line-height:normal;font-family:Menlo,'DejaVu Sans Mono',consolas,'Courier New',monospace\">    Average number of outbound bouts per mouse: <span style=\"color: #008080; text-decoration-color: #008080; font-weight: bold\">159.75</span> +<span style=\"color: #800080; text-decoration-color: #800080\">/</span><span style=\"color: #ff00ff; text-decoration-color: #ff00ff\">-</span> <span style=\"color: #008080; text-decoration-color: #008080; font-weight: bold\">126.89</span> \n",
       "</pre>\n"
      ],
      "text/plain": [
       "    Average number of outbound bouts per mouse: \u001b[1;36m159.75\u001b[0m +\u001b[35m/\u001b[0m\u001b[95m-\u001b[0m \u001b[1;36m126.89\u001b[0m \n"
      ]
     },
     "metadata": {},
     "output_type": "display_data"
    },
    {
     "data": {
      "text/html": [
       "<pre style=\"white-space:pre;overflow-x:auto;line-height:normal;font-family:Menlo,'DejaVu Sans Mono',consolas,'Courier New',monospace\">    Average number of outbound bouts per session: <span style=\"color: #008080; text-decoration-color: #008080; font-weight: bold\">31.32</span> +<span style=\"color: #800080; text-decoration-color: #800080\">/</span><span style=\"color: #ff00ff; text-decoration-color: #ff00ff\">-</span> <span style=\"color: #008080; text-decoration-color: #008080; font-weight: bold\">20.78</span> \n",
       "</pre>\n"
      ],
      "text/plain": [
       "    Average number of outbound bouts per session: \u001b[1;36m31.32\u001b[0m +\u001b[35m/\u001b[0m\u001b[95m-\u001b[0m \u001b[1;36m20.78\u001b[0m \n"
      ]
     },
     "metadata": {},
     "output_type": "display_data"
    }
   ],
   "source": [
    "# Get the number of trials (locomotion bouts) per session\n",
    "print(\"Getting number of locomotion bouts for BASELINE sessions\")\n",
    "for direction in [\"inbound\", \"outbound\"]:\n",
    "    bouts = pd.DataFrame(LocomotionBouts * Session * SessionCondition  & \"complete='true'\" & f\"direction='{direction}'\" & \"duration<12\"  & \"gcoord_delta > 0.925\")\n",
    "    bouts = bouts[bouts[\"condition\"] == \"naive\"]\n",
    "    \n",
    "    print(f\"Tot number of {direction} bouts: {len(bouts)} - average duration {np.mean(bouts['duration'].values):.2f} +/- {np.std(bouts['duration'].values):.2f} s\")\n",
    "\n",
    "    n_per_mouse = bouts.groupby(\"mouse_id\").count()[\"name\"]\n",
    "    print(f\"    Average number of {direction} bouts per mouse: {np.mean(n_per_mouse.values):.2f} +/- {np.std(n_per_mouse.values):.2f} \")\n",
    "\n",
    "    n_per_session = bouts.groupby(\"name\").count()[\"duration\"]\n",
    "    print(f\"    Average number of {direction} bouts per session: {np.mean(n_per_session.values):.2f} +/- {np.std(n_per_session.values):.2f} \")\n",
    "\n",
    "# TODO add average duration"
   ]
  },
  {
   "cell_type": "code",
   "execution_count": 66,
   "metadata": {},
   "outputs": [
    {
     "data": {
      "text/html": [
       "<pre style=\"white-space:pre;overflow-x:auto;line-height:normal;font-family:Menlo,'DejaVu Sans Mono',consolas,'Courier New',monospace\">Getting number of locomotion bouts for RECORDING sessions\n",
       "</pre>\n"
      ],
      "text/plain": [
       "Getting number of locomotion bouts for RECORDING sessions\n"
      ]
     },
     "metadata": {},
     "output_type": "display_data"
    },
    {
     "data": {
      "text/html": [
       "<pre style=\"white-space:pre;overflow-x:auto;line-height:normal;font-family:Menlo,'DejaVu Sans Mono',consolas,'Courier New',monospace\">Mice with implant probe: <span style=\"font-weight: bold\">[</span><span style=\"color: #008000; text-decoration-color: #008000\">'BAA0000012'</span> <span style=\"color: #008000; text-decoration-color: #008000\">'BAA1101192'</span><span style=\"font-weight: bold\">]</span> - we have bouts for: <span style=\"font-weight: bold\">[</span><span style=\"color: #008000; text-decoration-color: #008000\">'BAA0000012'</span> <span style=\"color: #008000; text-decoration-color: #008000\">'BAA1101192'</span><span style=\"font-weight: bold\">]</span>\n",
       "</pre>\n"
      ],
      "text/plain": [
       "Mice with implant probe: \u001b[1m[\u001b[0m\u001b[32m'BAA0000012'\u001b[0m \u001b[32m'BAA1101192'\u001b[0m\u001b[1m]\u001b[0m - we have bouts for: \u001b[1m[\u001b[0m\u001b[32m'BAA0000012'\u001b[0m \u001b[32m'BAA1101192'\u001b[0m\u001b[1m]\u001b[0m\n"
      ]
     },
     "metadata": {},
     "output_type": "display_data"
    }
   ],
   "source": [
    "# Get the number of trials (locomotion bouts) per session\n",
    "print(\"Getting number of locomotion bouts for RECORDING sessions\")\n",
    "#TODO make sure we have bouts for all recording mice\n",
    "#TODO break down number of bouts per session per group of mice\n",
    "\n",
    "summary = dict(\n",
    "    target=[], outbound_tot=[], outbound_per_mouse=[], outbound_per_session=[], inbound_tot=[], inbound_per_mouse=[], inbound_per_session=[]\n",
    ")\n",
    "for target in (\"MOs\", \"CUN/GRN\"):\n",
    "    for direction in [\"inbound\", \"outbound\"]:\n",
    "\n",
    "        mice = (Surgery & f\"target='{target}'\").fetch(\"mouse_id\")\n",
    "\n",
    "\n",
    "        bouts = pd.DataFrame(LocomotionBouts * Surgery * SessionCondition  & \"complete='true'\" & f\"direction='{direction}'\" & \"duration<12\" & f\"target='{target}'\"  & \"gcoord_delta > 0.925\")\n",
    "        # bouts = bouts[bouts[\"condition\"] != \"naive\"]\n",
    "\n",
    "        bouts_mice = bouts[\"mouse_id\"].unique()\n",
    "        print(f\"Mice with implant probe: {mice} - we have bouts for: {bouts_mice}\")\n",
    "        break\n",
    "    break\n",
    "        \n",
    "        # if direction == \"inbound\":\n",
    "        #     summary[\"target\"].append(target)\n",
    "\n",
    "        # print(target, bouts.groupby(\"mouse_id\").count()[\"name\"].values)\n",
    "        # TODO add duration\n",
    "\n",
    "        # summary[f\"{direction}_tot\"].append(len(bouts))\n",
    "        # summary[f\"{direction}_per_mouse\"].append(np.mean(bouts.groupby(\"mouse_id\").count()[\"name\"].values))\n",
    "        # summary[f\"{direction}_per_session\"].append(np.mean(bouts.groupby(\"name\").count()[\"duration\"].values))\n",
    "\n",
    "\n",
    "\n",
    "        \n",
    "        # print(f\"Tot number of {target} - {direction} bouts: {len(bouts)}\")\n",
    "\n",
    "        # n_per_mouse = bouts.groupby(\"mouse_id\").count()[\"name\"]\n",
    "        # print(f\"    Average number of {target} - {direction} bouts per mouse: {np.mean(n_per_mouse.values):.2f} +/- {np.std(n_per_mouse.values):.2f}\")\n",
    "\n",
    "        # n_per_session = bouts.groupby(\"name\").count()[\"duration\"]\n",
    "        # print(f\"    Average number of {target} - {direction} bouts per session: {np.mean(n_per_session.values):.2f} +/- {np.std(n_per_session.values):.2f}\")\n"
   ]
  },
  {
   "cell_type": "code",
   "execution_count": 53,
   "metadata": {},
   "outputs": [
    {
     "data": {
      "text/html": [
       "<div>\n",
       "<style scoped>\n",
       "    .dataframe tbody tr th:only-of-type {\n",
       "        vertical-align: middle;\n",
       "    }\n",
       "\n",
       "    .dataframe tbody tr th {\n",
       "        vertical-align: top;\n",
       "    }\n",
       "\n",
       "    .dataframe thead th {\n",
       "        text-align: right;\n",
       "    }\n",
       "</style>\n",
       "<table border=\"1\" class=\"dataframe\">\n",
       "  <thead>\n",
       "    <tr style=\"text-align: right;\">\n",
       "      <th></th>\n",
       "      <th>target</th>\n",
       "      <th>outbound_tot</th>\n",
       "      <th>outbound_per_mouse</th>\n",
       "      <th>outbound_per_session</th>\n",
       "      <th>inbound_tot</th>\n",
       "      <th>inbound_per_mouse</th>\n",
       "      <th>inbound_per_session</th>\n",
       "    </tr>\n",
       "  </thead>\n",
       "  <tbody>\n",
       "    <tr>\n",
       "      <th>0</th>\n",
       "      <td>MOs</td>\n",
       "      <td>444</td>\n",
       "      <td>444.000000</td>\n",
       "      <td>29.600000</td>\n",
       "      <td>334</td>\n",
       "      <td>334.0</td>\n",
       "      <td>22.266667</td>\n",
       "    </tr>\n",
       "    <tr>\n",
       "      <th>1</th>\n",
       "      <td>CUN/GRN</td>\n",
       "      <td>322</td>\n",
       "      <td>53.666667</td>\n",
       "      <td>9.757576</td>\n",
       "      <td>189</td>\n",
       "      <td>31.5</td>\n",
       "      <td>6.096774</td>\n",
       "    </tr>\n",
       "  </tbody>\n",
       "</table>\n",
       "</div>"
      ]
     },
     "execution_count": 53,
     "metadata": {},
     "output_type": "execute_result"
    }
   ],
   "source": [
    "pd.DataFrame(summary)"
   ]
  },
  {
   "attachments": {},
   "cell_type": "markdown",
   "metadata": {},
   "source": [
    "### units"
   ]
  },
  {
   "cell_type": "code",
   "execution_count": 55,
   "metadata": {},
   "outputs": [
    {
     "ename": "NameError",
     "evalue": "name 'unique' is not defined",
     "output_type": "error",
     "traceback": [
      "\u001b[0;31m---------------------------------------------------------------------------\u001b[0m",
      "\u001b[0;31mNameError\u001b[0m                                 Traceback (most recent call last)",
      "Cell \u001b[0;32mIn[55], line 1\u001b[0m\n\u001b[0;32m----> 1\u001b[0m unique\n",
      "\u001b[0;31mNameError\u001b[0m: name 'unique' is not defined"
     ]
    }
   ],
   "source": []
  },
  {
   "cell_type": "code",
   "execution_count": 4,
   "metadata": {},
   "outputs": [],
   "source": [
    "mos_regions = [\"MOs1\", \"MOs2/3\", \"MOs5\", \"MOs6a\"]\n",
    "mrn_regions = [\"PPN\", \"CUN\"]\n",
    "rsp_regions = ['RSPagl2/3', 'RSPagl5', 'RSPagl6a', 'RSPagl6b', 'RSPd1', 'RSPd2/3', 'RSPd5', 'RSPd6a']\n",
    "vis_regions = ['VISp1', 'VISp2/3', 'VISp4', 'VISp5', 'VISp6a']\n",
    "orb_regions = ['ORBl5', 'ORBl6a', 'ORBvl2/3', 'ORBvl5', 'ORBvl6a']\n",
    "\n",
    "brain_regions = dict(\n",
    "    mos=mos_regions,\n",
    "    mrn=mrn_regions,\n",
    "    rsp=rsp_regions,\n",
    "    vis=vis_regions,\n",
    "    orb=orb_regions,\n",
    ")"
   ]
  },
  {
   "cell_type": "code",
   "execution_count": 5,
   "metadata": {},
   "outputs": [
    {
     "name": "stdout",
     "output_type": "stream",
     "text": [
      "A total of 2 mice were implanted in MOs, 6 were implanted in MRN\n",
      "A total of 12 recordings were made in MOs, 20 recordings were made in MRN\n",
      "12.00 +/- nan recordings per mouse for MOs, 4.00 +/- 2.45 recordings per mouse for MRN\n",
      "\n",
      "\n",
      "\n",
      "Number of units in mos: 475\n",
      "\tMOs1: 97\n",
      "\tMOs2/3: 99\n",
      "\tMOs5: 169\n",
      "\tMOs6a: 110\n",
      "Number of units in mrn: 185\n",
      "\tPPN: 75\n",
      "\tCUN: 110\n",
      "Number of units in rsp: 16\n",
      "\tRSPagl2/3: 7\n",
      "\tRSPagl6b: 4\n",
      "\tRSPd1: 3\n",
      "\tRSPd2/3: 2\n",
      "Number of units in vis: 23\n",
      "\tVISp1: 18\n",
      "\tVISp6a: 5\n",
      "Number of units in orb: 73\n",
      "\tORBl5: 4\n",
      "\tORBl6a: 36\n",
      "\tORBvl5: 2\n",
      "\tORBvl6a: 31\n"
     ]
    }
   ],
   "source": [
    "# Get the number of recordings per implanted mice.\n",
    "\n",
    "mos_mice = (Mouse * Surgery & \"target='MOs'\")\n",
    "mrn_mice = (Mouse * Surgery & \"target='CUN/GRN'\")\n",
    "\n",
    "print(f\"A total of {len(mos_mice)} mice were implanted in MOs, {len(mrn_mice)} were implanted in MRN\")\n",
    "\n",
    "# Get the number of recordings per session.\n",
    "mos_recs = pd.DataFrame((Recording * Surgery & \"target='MOs'\").fetch())\n",
    "mrn_recs = pd.DataFrame((Recording * Surgery & \"target='CUN/GRN'\").fetch())\n",
    "\n",
    "print(f\"A total of {len(mos_recs)} recordings were made in MOs, {len(mrn_recs)} recordings were made in MRN\")\n",
    "\n",
    "# get the average and std of the number of recordings per session\n",
    "mos_mu, mos_std = mos_recs.groupby(\"mouse_id\").count().name.mean(), mos_recs.groupby(\"mouse_id\").count().name.std()\n",
    "mrn_mu, mrn_std = mrn_recs.groupby(\"mouse_id\").count().name.mean(), mrn_recs.groupby(\"mouse_id\").count().name.std()\n",
    "\n",
    "print(f\"{mos_mu:.2f} +/- {mos_std:.2f} recordings per mouse for MOs, {mrn_mu:.2f} +/- {mrn_std:.2f} recordings per mouse for MRN\")\n",
    "\n",
    "\n",
    "# Get the number of units per brain region\n",
    "units = pd.DataFrame((Unit * Probe.RecordingSite ).fetch())\n",
    "print(\"\\n\\n\")\n",
    "for brain_region, subregions in brain_regions.items():\n",
    "    units_in_region = units[units['brain_region'].isin(subregions)]\n",
    "    print(f\"Number of units in {brain_region}: {len(units_in_region)}\")\n",
    "\n",
    "    in_region_by_mouse = units_in_region.groupby('mouse_id').count().name.values\n",
    "    print(f\"  Number of units per mouse: {np.mean(in_region_by_mouse):.2f} +/- {np.std(in_region_by_mouse):.2f} \")\n",
    "\n",
    "    for subregion in subregions:\n",
    "        n = len(units[units['brain_region'] == subregion])\n",
    "        if n == 0:\n",
    "            continue\n",
    "        print(f\"\\t{subregion}: {n}\")"
   ]
  },
  {
   "cell_type": "code",
   "execution_count": 86,
   "metadata": {},
   "outputs": [
    {
     "data": {
      "text/html": [
       "<div>\n",
       "<style scoped>\n",
       "    .dataframe tbody tr th:only-of-type {\n",
       "        vertical-align: middle;\n",
       "    }\n",
       "\n",
       "    .dataframe tbody tr th {\n",
       "        vertical-align: top;\n",
       "    }\n",
       "\n",
       "    .dataframe thead th {\n",
       "        text-align: right;\n",
       "    }\n",
       "</style>\n",
       "<table border=\"1\" class=\"dataframe\">\n",
       "  <thead>\n",
       "    <tr style=\"text-align: right;\">\n",
       "      <th></th>\n",
       "      <th>name</th>\n",
       "      <th>concatenated</th>\n",
       "      <th>spike_sorting_params_file_path</th>\n",
       "      <th>spike_sorting_spikes_file_path</th>\n",
       "      <th>spike_sorting_clusters_file_path</th>\n",
       "      <th>recording_probe_configuration</th>\n",
       "      <th>reference</th>\n",
       "    </tr>\n",
       "    <tr>\n",
       "      <th>mouse_id</th>\n",
       "      <th></th>\n",
       "      <th></th>\n",
       "      <th></th>\n",
       "      <th></th>\n",
       "      <th></th>\n",
       "      <th></th>\n",
       "      <th></th>\n",
       "    </tr>\n",
       "  </thead>\n",
       "  <tbody>\n",
       "    <tr>\n",
       "      <th>AAA1110750</th>\n",
       "      <td>5</td>\n",
       "      <td>5</td>\n",
       "      <td>5</td>\n",
       "      <td>5</td>\n",
       "      <td>5</td>\n",
       "      <td>5</td>\n",
       "      <td>5</td>\n",
       "    </tr>\n",
       "    <tr>\n",
       "      <th>BAA1101192</th>\n",
       "      <td>12</td>\n",
       "      <td>12</td>\n",
       "      <td>12</td>\n",
       "      <td>12</td>\n",
       "      <td>12</td>\n",
       "      <td>12</td>\n",
       "      <td>12</td>\n",
       "    </tr>\n",
       "    <tr>\n",
       "      <th>BAA110516</th>\n",
       "      <td>2</td>\n",
       "      <td>2</td>\n",
       "      <td>2</td>\n",
       "      <td>2</td>\n",
       "      <td>2</td>\n",
       "      <td>2</td>\n",
       "      <td>2</td>\n",
       "    </tr>\n",
       "    <tr>\n",
       "      <th>BAA110517</th>\n",
       "      <td>5</td>\n",
       "      <td>5</td>\n",
       "      <td>5</td>\n",
       "      <td>5</td>\n",
       "      <td>5</td>\n",
       "      <td>5</td>\n",
       "      <td>5</td>\n",
       "    </tr>\n",
       "    <tr>\n",
       "      <th>BAA1110279</th>\n",
       "      <td>1</td>\n",
       "      <td>1</td>\n",
       "      <td>1</td>\n",
       "      <td>1</td>\n",
       "      <td>1</td>\n",
       "      <td>1</td>\n",
       "      <td>1</td>\n",
       "    </tr>\n",
       "    <tr>\n",
       "      <th>BAA1110281</th>\n",
       "      <td>7</td>\n",
       "      <td>7</td>\n",
       "      <td>7</td>\n",
       "      <td>7</td>\n",
       "      <td>7</td>\n",
       "      <td>7</td>\n",
       "      <td>7</td>\n",
       "    </tr>\n",
       "  </tbody>\n",
       "</table>\n",
       "</div>"
      ]
     },
     "execution_count": 86,
     "metadata": {},
     "output_type": "execute_result"
    }
   ],
   "source": [
    "print(\"Number of recordings per mouse\")\n",
    "pd.DataFrame(Recording().fetch()).groupby(\"mouse_id\").count()[\"name\"]"
   ]
  }
 ],
 "metadata": {
  "kernelspec": {
   "display_name": "gld",
   "language": "python",
   "name": "python3"
  },
  "language_info": {
   "codemirror_mode": {
    "name": "ipython",
    "version": 3
   },
   "file_extension": ".py",
   "mimetype": "text/x-python",
   "name": "python",
   "nbconvert_exporter": "python",
   "pygments_lexer": "ipython3",
   "version": "3.8.0"
  },
  "orig_nbformat": 4,
  "vscode": {
   "interpreter": {
    "hash": "ae2ff1340f9203b57e7155b5a64639f2771c6b47729d1c64e5277c5f80d47cc8"
   }
  }
 },
 "nbformat": 4,
 "nbformat_minor": 2
}
