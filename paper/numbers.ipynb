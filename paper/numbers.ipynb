{
 "cells": [
  {
   "attachments": {},
   "cell_type": "markdown",
   "metadata": {},
   "source": [
    "# Numbers\n",
    "\n",
    "Scrpt to generate basic numbers such as the number of mice and the number of cells per mouse."
   ]
  },
  {
   "cell_type": "code",
   "execution_count": 46,
   "metadata": {},
   "outputs": [],
   "source": [
    "import sys\n",
    "import pandas as pd\n",
    "import numpy as np\n",
    "sys.path.append(\"/Users/federicoclaudi/Documents/Github/LocomotionControl\")\n",
    "\n",
    "from data.dbase.db_tables import (\n",
    "    Mouse,\n",
    "    ValidatedSession,\n",
    "    Tracking,\n",
    "    SessionCondition,\n",
    "    LocomotionBouts,\n",
    "    Surgery, \n",
    "    Probe, \n",
    "    Recording, \n",
    "    Unit,\n",
    ")"
   ]
  },
  {
   "cell_type": "code",
   "execution_count": 48,
   "metadata": {},
   "outputs": [
    {
     "name": "stdout",
     "output_type": "stream",
     "text": [
      "Of a total of 48 sessions, 7 are baseline and 41 are implanted\n",
      "Of a total of 7 mice, 1 are baseline and 6 are implanted\n",
      "Baseline mice have 7.00 +/- 0.00 sessions, while implanted mice have 6.83 +/- 4.95 sessions\n"
     ]
    }
   ],
   "source": [
    "# get the number of sessions that are implanted vs baseline\n",
    "sessions = pd.DataFrame(ValidatedSession * SessionCondition)\n",
    "\n",
    "baseline = sessions[sessions[\"condition\"] == \"naive\"]\n",
    "implanted = sessions[sessions[\"condition\"] != \"naive\"]\n",
    "\n",
    "print(f\"Of a total of {len(sessions)} sessions, {len(baseline)} are baseline and {len(implanted)} are implanted\")\n",
    "\n",
    "# for each group of session, get the number of mice\n",
    "baseline_mice = len(baseline[\"mouse_id\"].unique())\n",
    "implanted_mice = len(implanted[\"mouse_id\"].unique())\n",
    "print(f\"Of a total of {len(sessions['mouse_id'].unique())} mice, {baseline_mice} are baseline and {implanted_mice} are implanted\")\n",
    "\n",
    "# get the average and std of the number of sessions per mouse\n",
    "baseline_mu, baseline_std = np.mean(baseline.groupby(\"mouse_id\").count()[\"name\"].values), np.std(baseline.groupby(\"mouse_id\").count()[\"name\"].values)\n",
    "implanted_mu, implanted_std = np.mean(implanted.groupby(\"mouse_id\").count()[\"name\"].values), np.std(implanted.groupby(\"mouse_id\").count()[\"name\"].values)\n",
    "\n",
    "print(f\"Baseline mice have {baseline_mu:.2f} +/- {baseline_std:.2f} sessions, while implanted mice have {implanted_mu:.2f} +/- {implanted_std:.2f} sessions\")\n"
   ]
  },
  {
   "cell_type": "code",
   "execution_count": 50,
   "metadata": {},
   "outputs": [
    {
     "data": {
      "text/html": [
       "\n",
       "    \n",
       "    <style type=\"text/css\">\n",
       "        .Relation{\n",
       "            border-collapse:collapse;\n",
       "        }\n",
       "        .Relation th{\n",
       "            background: #A0A0A0; color: #ffffff; padding:4px; border:#f0e0e0 1px solid;\n",
       "            font-weight: normal; font-family: monospace; font-size: 100%;\n",
       "        }\n",
       "        .Relation td{\n",
       "            padding:4px; border:#f0e0e0 1px solid; font-size:100%;\n",
       "        }\n",
       "        .Relation tr:nth-child(odd){\n",
       "            background: #ffffff;\n",
       "        }\n",
       "        .Relation tr:nth-child(even){\n",
       "            background: #f3f1ff;\n",
       "        }\n",
       "        /* Tooltip container */\n",
       "        .djtooltip {\n",
       "        }\n",
       "        /* Tooltip text */\n",
       "        .djtooltip .djtooltiptext {\n",
       "            visibility: hidden;\n",
       "            width: 120px;\n",
       "            background-color: black;\n",
       "            color: #fff;\n",
       "            text-align: center;\n",
       "            padding: 5px 0;\n",
       "            border-radius: 6px;\n",
       "            /* Position the tooltip text - see examples below! */\n",
       "            position: absolute;\n",
       "            z-index: 1;\n",
       "        }\n",
       "        #primary {\n",
       "            font-weight: bold;\n",
       "            color: black;\n",
       "        }\n",
       "        #nonprimary {\n",
       "            font-weight: normal;\n",
       "            color: white;\n",
       "        }\n",
       "\n",
       "        /* Show the tooltip text when you mouse over the tooltip container */\n",
       "        .djtooltip:hover .djtooltiptext {\n",
       "            visibility: visible;\n",
       "        }\n",
       "    </style>\n",
       "    \n",
       "    <b>identified bouts of continous locomotion</b>\n",
       "        <div style=\"max-height:1000px;max-width:1500px;overflow:auto;\">\n",
       "        <table border=\"1\" class=\"Relation\">\n",
       "            <thead> <tr style=\"text-align: right;\"> <th> <div class=\"djtooltip\">\n",
       "                            <p id=\"primary\">mouse_id</p>\n",
       "                            <span class=\"djtooltiptext\"></span>\n",
       "                        </div></th><th><div class=\"djtooltip\">\n",
       "                            <p id=\"primary\">name</p>\n",
       "                            <span class=\"djtooltiptext\"></span>\n",
       "                        </div></th><th><div class=\"djtooltip\">\n",
       "                            <p id=\"primary\">start_frame</p>\n",
       "                            <span class=\"djtooltiptext\"></span>\n",
       "                        </div></th><th><div class=\"djtooltip\">\n",
       "                            <p id=\"primary\">end_frame</p>\n",
       "                            <span class=\"djtooltiptext\">last frame of locomotion bout</span>\n",
       "                        </div></th><th><div class=\"djtooltip\">\n",
       "                            <p id=\"nonprimary\">duration</p>\n",
       "                            <span class=\"djtooltiptext\">duration in seconds</span>\n",
       "                        </div></th><th><div class=\"djtooltip\">\n",
       "                            <p id=\"nonprimary\">direction</p>\n",
       "                            <span class=\"djtooltiptext\">'outbound' or 'inbound' or 'none'</span>\n",
       "                        </div></th><th><div class=\"djtooltip\">\n",
       "                            <p id=\"nonprimary\">color</p>\n",
       "                            <span class=\"djtooltiptext\"></span>\n",
       "                        </div></th><th><div class=\"djtooltip\">\n",
       "                            <p id=\"nonprimary\">complete</p>\n",
       "                            <span class=\"djtooltiptext\">True if its form reward to trigger ROIs</span>\n",
       "                        </div></th><th><div class=\"djtooltip\">\n",
       "                            <p id=\"nonprimary\">start_roi</p>\n",
       "                            <span class=\"djtooltiptext\"></span>\n",
       "                        </div></th><th><div class=\"djtooltip\">\n",
       "                            <p id=\"nonprimary\">end_roi</p>\n",
       "                            <span class=\"djtooltiptext\"></span>\n",
       "                        </div></th><th><div class=\"djtooltip\">\n",
       "                            <p id=\"nonprimary\">gcoord_delta</p>\n",
       "                            <span class=\"djtooltiptext\">the change in global coordinates during the bout</span>\n",
       "                        </div> </th> </tr> </thead>\n",
       "            <tbody> <tr>  </tr> </tbody>\n",
       "        </table>\n",
       "        \n",
       "        <p>Total: 0</p></div>\n",
       "        "
      ]
     },
     "execution_count": 50,
     "metadata": {},
     "output_type": "execute_result"
    }
   ],
   "source": [
    "# Get the number of trials (locomotion bouts) per session\n",
    "# TODO get and print the number of trials per session in each direction,  differentiating baseline and implanted\n",
    "LocomotionBouts()"
   ]
  },
  {
   "attachments": {},
   "cell_type": "markdown",
   "metadata": {},
   "source": [
    "### units"
   ]
  },
  {
   "cell_type": "code",
   "execution_count": 93,
   "metadata": {},
   "outputs": [],
   "source": [
    "mos_regions = [\"MOs1\", \"MOs2/3\", \"MOs5\", \"MOs6a\"]\n",
    "mrn_regions = [\"PPN\", \"CUN\"]\n",
    "rsp_regions = ['RSPagl2/3', 'RSPagl5', 'RSPagl6a', 'RSPagl6b', 'RSPd1', 'RSPd2/3', 'RSPd5', 'RSPd6a']\n",
    "vis_regions = ['VISp1', 'VISp2/3', 'VISp4', 'VISp5', 'VISp6a']\n",
    "orb_regions = ['ORBl5', 'ORBl6a', 'ORBvl2/3', 'ORBvl5', 'ORBvl6a']\n",
    "\n",
    "brain_regions = dict(\n",
    "    mos=mos_regions,\n",
    "    mrn=mrn_regions,\n",
    "    rsp=rsp_regions,\n",
    "    vis=vis_regions,\n",
    "    orb=orb_regions,\n",
    ")"
   ]
  },
  {
   "cell_type": "code",
   "execution_count": 99,
   "metadata": {},
   "outputs": [
    {
     "name": "stdout",
     "output_type": "stream",
     "text": [
      "A total of 2 mice were implanted in MOs, 6 were implanted in MRN\n",
      "A total of 12 recordings were made in MOs, 20 recordings were made in MRN\n",
      "12.00 +/- nan recordings per mouse for MOs, 4.00 +/- 2.45 recordings per mouse for MRN\n",
      "\n",
      "\n",
      "\n",
      "Number of units in mos: 475\n",
      "\tMOs1: 97\n",
      "\tMOs2/3: 99\n",
      "\tMOs5: 169\n",
      "\tMOs6a: 110\n",
      "Number of units in mrn: 185\n",
      "\tPPN: 75\n",
      "\tCUN: 110\n",
      "Number of units in rsp: 16\n",
      "\tRSPagl2/3: 7\n",
      "\tRSPagl6b: 4\n",
      "\tRSPd1: 3\n",
      "\tRSPd2/3: 2\n",
      "Number of units in vis: 23\n",
      "\tVISp1: 18\n",
      "\tVISp6a: 5\n",
      "Number of units in orb: 73\n",
      "\tORBl5: 4\n",
      "\tORBl6a: 36\n",
      "\tORBvl5: 2\n",
      "\tORBvl6a: 31\n"
     ]
    }
   ],
   "source": [
    "# Get the number of recordings per implanted mice.\n",
    "\n",
    "mos_mice = (Mouse * Surgery & \"target='MOs'\")\n",
    "mrn_mice = (Mouse * Surgery & \"target='CUN/GRN'\")\n",
    "\n",
    "print(f\"A total of {len(mos_mice)} mice were implanted in MOs, {len(mrn_mice)} were implanted in MRN\")\n",
    "\n",
    "# Get the number of recordings per session.\n",
    "mos_recs = pd.DataFrame((Recording * Surgery & \"target='MOs'\").fetch())\n",
    "mrn_recs = pd.DataFrame((Recording * Surgery & \"target='CUN/GRN'\").fetch())\n",
    "\n",
    "print(f\"A total of {len(mos_recs)} recordings were made in MOs, {len(mrn_recs)} recordings were made in MRN\")\n",
    "\n",
    "# get the average and std of the number of recordings per session\n",
    "mos_mu, mos_std = mos_recs.groupby(\"mouse_id\").count().name.mean(), mos_recs.groupby(\"mouse_id\").count().name.std()\n",
    "mrn_mu, mrn_std = mrn_recs.groupby(\"mouse_id\").count().name.mean(), mrn_recs.groupby(\"mouse_id\").count().name.std()\n",
    "\n",
    "print(f\"{mos_mu:.2f} +/- {mos_std:.2f} recordings per mouse for MOs, {mrn_mu:.2f} +/- {mrn_std:.2f} recordings per mouse for MRN\")\n",
    "\n",
    "\n",
    "# Get the number of units per brain region\n",
    "units = pd.DataFrame((Unit * Probe.RecordingSite ).fetch())\n",
    "print(\"\\n\\n\")\n",
    "for brain_region, regions in brain_regions.items():\n",
    "    print(f\"Number of units in {brain_region}: {len(units[units['brain_region'].isin(regions)])}\")\n",
    "    for subregion in regions:\n",
    "        n = len(units[units['brain_region'] == subregion])\n",
    "        if n == 0:\n",
    "            continue\n",
    "        print(f\"\\t{subregion}: {n}\")"
   ]
  }
 ],
 "metadata": {
  "kernelspec": {
   "display_name": "gld",
   "language": "python",
   "name": "python3"
  },
  "language_info": {
   "codemirror_mode": {
    "name": "ipython",
    "version": 3
   },
   "file_extension": ".py",
   "mimetype": "text/x-python",
   "name": "python",
   "nbconvert_exporter": "python",
   "pygments_lexer": "ipython3",
   "version": "3.8.0"
  },
  "orig_nbformat": 4,
  "vscode": {
   "interpreter": {
    "hash": "ae2ff1340f9203b57e7155b5a64639f2771c6b47729d1c64e5277c5f80d47cc8"
   }
  }
 },
 "nbformat": 4,
 "nbformat_minor": 2
}
