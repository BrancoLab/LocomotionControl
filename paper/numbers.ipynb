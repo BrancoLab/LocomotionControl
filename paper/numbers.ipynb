{
 "cells": [
  {
   "attachments": {},
   "cell_type": "markdown",
   "metadata": {},
   "source": [
    "# Numbers\n",
    "\n",
    "Scrpt to generate basic numbers such as the number of mice and the number of cells per mouse."
   ]
  },
  {
   "cell_type": "code",
   "execution_count": 2,
   "metadata": {},
   "outputs": [
    {
     "name": "stderr",
     "output_type": "stream",
     "text": [
      "[2023-03-03 12:07:11,669][INFO]: Connecting root@127.0.0.1:3306\n",
      "[2023-03-03 12:07:11,742][INFO]: Connected root@127.0.0.1:3306\n"
     ]
    },
    {
     "data": {
      "text/html": [
       "<pre style=\"white-space:pre;overflow-x:auto;line-height:normal;font-family:Menlo,'DejaVu Sans Mono',consolas,'Courier New',monospace\"><span style=\"color: #7fbfbf; text-decoration-color: #7fbfbf\">[03/03/23 12:07:11] </span><span style=\"color: #008000; text-decoration-color: #008000\">DEBUG   </span> Connected to database: loco_data                                        <a href=\"file:///Users/federicoclaudi/Documents/Github/LocomotionControl/data/dbase/__init__.py\" target=\"_blank\"><span style=\"color: #7f7f7f; text-decoration-color: #7f7f7f\">__init__.py</span></a><span style=\"color: #7f7f7f; text-decoration-color: #7f7f7f\">:</span><a href=\"file:///Users/federicoclaudi/Documents/Github/LocomotionControl/data/dbase/__init__.py#11\" target=\"_blank\"><span style=\"color: #7f7f7f; text-decoration-color: #7f7f7f\">11</span></a>\n",
       "</pre>\n"
      ],
      "text/plain": [
       "\u001b[2;36m[03/03/23 12:07:11]\u001b[0m\u001b[2;36m \u001b[0m\u001b[32mDEBUG   \u001b[0m Connected to database: loco_data                                        \u001b]8;id=162536;file:///Users/federicoclaudi/Documents/Github/LocomotionControl/data/dbase/__init__.py\u001b\\\u001b[2m__init__.py\u001b[0m\u001b]8;;\u001b\\\u001b[2m:\u001b[0m\u001b]8;id=316848;file:///Users/federicoclaudi/Documents/Github/LocomotionControl/data/dbase/__init__.py#11\u001b\\\u001b[2m11\u001b[0m\u001b]8;;\u001b\\\n"
      ]
     },
     "metadata": {},
     "output_type": "display_data"
    }
   ],
   "source": [
    "import sys\n",
    "import pandas as pd\n",
    "import numpy as np\n",
    "sys.path.append(\"/Users/federicoclaudi/Documents/Github/LocomotionControl\")\n",
    "\n",
    "from data.dbase.db_tables import (\n",
    "    Session,\n",
    "    Mouse,\n",
    "    ValidatedSession,\n",
    "    ProcessedLocomotionBouts,\n",
    "    SessionCondition,\n",
    "    LocomotionBouts,\n",
    "    Surgery, \n",
    "    Probe, \n",
    "    Recording, \n",
    "    Unit,\n",
    ")"
   ]
  },
  {
   "cell_type": "code",
   "execution_count": 3,
   "metadata": {},
   "outputs": [
    {
     "name": "stdout",
     "output_type": "stream",
     "text": [
      "Of a total of 232 sessions, 145 are baseline and 87 are implanted\n",
      "Of a total of 20 mice, 20 are baseline and 8 are implanted\n",
      "Baseline mice have 7.25 +/- 6.87 sessions, while implanted mice have 10.88 +/- 5.44 sessions\n"
     ]
    }
   ],
   "source": [
    "# get the number of sessions that are implanted vs baseline\n",
    "sessions = pd.DataFrame(ValidatedSession * SessionCondition)\n",
    "\n",
    "baseline = sessions[sessions[\"condition\"] == \"naive\"]\n",
    "implanted = sessions[sessions[\"condition\"] != \"naive\"]\n",
    "\n",
    "print(f\"Of a total of {len(sessions)} sessions, {len(baseline)} are baseline and {len(implanted)} are implanted\")\n",
    "\n",
    "# for each group of session, get the number of mice\n",
    "baseline_mice = len(baseline[\"mouse_id\"].unique())\n",
    "implanted_mice = len(implanted[\"mouse_id\"].unique())\n",
    "print(f\"Of a total of {len(sessions['mouse_id'].unique())} mice, {baseline_mice} are baseline and {implanted_mice} are implanted\")\n",
    "\n",
    "# get the average and std of the number of sessions per mouse\n",
    "baseline_mu, baseline_std = np.mean(baseline.groupby(\"mouse_id\").count()[\"name\"].values), np.std(baseline.groupby(\"mouse_id\").count()[\"name\"].values)\n",
    "implanted_mu, implanted_std = np.mean(implanted.groupby(\"mouse_id\").count()[\"name\"].values), np.std(implanted.groupby(\"mouse_id\").count()[\"name\"].values)\n",
    "\n",
    "print(f\"Baseline mice have {baseline_mu:.2f} +/- {baseline_std:.2f} sessions, while implanted mice have {implanted_mu:.2f} +/- {implanted_std:.2f} sessions\")\n"
   ]
  },
  {
   "attachments": {},
   "cell_type": "markdown",
   "metadata": {},
   "source": [
    "## Locomotion bouts"
   ]
  },
  {
   "cell_type": "code",
   "execution_count": 4,
   "metadata": {},
   "outputs": [
    {
     "name": "stdout",
     "output_type": "stream",
     "text": [
      "Getting number of locomotion bouts for BASELINE sessions\n",
      "Tot number of inbound bouts: 150 - average duration 6.61 +/- 1.65 s\n",
      "    Average number of inbound bouts per mouse: 10.71 +/- 5.97 \n",
      "    Average number of inbound bouts per session: 3.95 +/- 4.48 \n",
      "Tot number of outbound bouts: 1075 - average duration 8.68 +/- 7.25 s\n",
      "    Average number of outbound bouts per mouse: 59.72 +/- 67.79 \n",
      "    Average number of outbound bouts per session: 15.81 +/- 10.95 \n"
     ]
    }
   ],
   "source": [
    "# Get the number of trials (locomotion bouts) per session\n",
    "print(\"Getting number of locomotion bouts for BASELINE sessions\")\n",
    "for direction in [\"inbound\", \"outbound\"]:\n",
    "    bouts = pd.DataFrame(ProcessedLocomotionBouts * LocomotionBouts * Session * SessionCondition  & \"complete='true'\" & f\"direction='{direction}'\" & \"corrected_start_frame>0\")\n",
    "    bouts = bouts[bouts[\"condition\"] == \"naive\"]\n",
    "    \n",
    "    print(f\"Tot number of {direction} bouts: {len(bouts)} - average duration {np.mean(bouts['duration'].values):.2f} +/- {np.std(bouts['duration'].values):.2f} s\")\n",
    "\n",
    "    n_per_mouse = bouts.groupby(\"mouse_id\").count()[\"name\"]\n",
    "    print(f\"    Average number of {direction} bouts per mouse: {np.mean(n_per_mouse.values):.2f} +/- {np.std(n_per_mouse.values):.2f} \")\n",
    "\n",
    "    n_per_session = bouts.groupby(\"name\").count()[\"duration\"]\n",
    "    print(f\"    Average number of {direction} bouts per session: {np.mean(n_per_session.values):.2f} +/- {np.std(n_per_session.values):.2f} \")\n",
    "\n",
    "# TODO add average duration"
   ]
  },
  {
   "cell_type": "code",
   "execution_count": 5,
   "metadata": {},
   "outputs": [
    {
     "name": "stdout",
     "output_type": "stream",
     "text": [
      "Getting number of locomotion bouts for RECORDING sessions\n",
      "MOs  bouts per mouse  [24 43]\n",
      "Tot number of MOs - inbound bouts: 67\n",
      "    Average number of MOs - inbound bouts per mouse: 33.50 +/- 9.50\n",
      "    Average number of MOs - inbound bouts per session: 4.79 +/- 3.78\n",
      "MOs  bouts per mouse  [ 32 160]\n",
      "Tot number of MOs - outbound bouts: 192\n",
      "    Average number of MOs - outbound bouts per mouse: 96.00 +/- 64.00\n",
      "    Average number of MOs - outbound bouts per session: 10.11 +/- 10.30\n",
      "CUN/GRN  bouts per mouse  [11  2]\n",
      "Tot number of CUN/GRN - inbound bouts: 13\n",
      "    Average number of CUN/GRN - inbound bouts per mouse: 6.50 +/- 4.50\n",
      "    Average number of CUN/GRN - inbound bouts per session: 4.33 +/- 3.30\n",
      "CUN/GRN  bouts per mouse  [24 18 12]\n",
      "Tot number of CUN/GRN - outbound bouts: 54\n",
      "    Average number of CUN/GRN - outbound bouts per mouse: 18.00 +/- 4.90\n",
      "    Average number of CUN/GRN - outbound bouts per session: 3.60 +/- 2.85\n"
     ]
    }
   ],
   "source": [
    "# Get the number of trials (locomotion bouts) per session\n",
    "print(\"Getting number of locomotion bouts for RECORDING sessions\")\n",
    "\n",
    "summary = dict(\n",
    "    target=[], outbound_tot=[], outbound_per_mouse=[], outbound_per_session=[], inbound_tot=[], inbound_per_mouse=[], inbound_per_session=[]\n",
    ")\n",
    "for target in (\"MOs\", \"CUN/GRN\"):\n",
    "    for direction in [\"inbound\", \"outbound\"]:\n",
    "\n",
    "        mice = (Surgery & f\"target='{target}'\").fetch(\"mouse_id\")\n",
    "\n",
    "\n",
    "        bouts = pd.DataFrame(ProcessedLocomotionBouts * LocomotionBouts * Surgery * SessionCondition  & \"complete='true'\" & f\"direction='{direction}'\" & \"duration<12\" & f\"target='{target}'\"  & \"corrected_start_frame>0\")\n",
    "        bouts = bouts[bouts[\"condition\"] != \"naive\"]\n",
    "\n",
    "        bouts_mice = bouts[\"mouse_id\"].unique()\n",
    "\n",
    "        \n",
    "        if direction == \"inbound\":\n",
    "            summary[\"target\"].append(target)\n",
    "\n",
    "        print(target, \" bouts per mouse \", bouts.groupby(\"mouse_id\").count()[\"name\"].values)\n",
    "\n",
    "        summary[f\"{direction}_tot\"].append(len(bouts))\n",
    "        summary[f\"{direction}_per_mouse\"].append(np.mean(bouts.groupby(\"mouse_id\").count()[\"name\"].values))\n",
    "        summary[f\"{direction}_per_session\"].append(np.mean(bouts.groupby(\"name\").count()[\"duration\"].values))\n",
    "\n",
    "\n",
    "\n",
    "        \n",
    "        print(f\"Tot number of {target} - {direction} bouts: {len(bouts)}\")\n",
    "\n",
    "        n_per_mouse = bouts.groupby(\"mouse_id\").count()[\"name\"]\n",
    "        print(f\"    Average number of {target} - {direction} bouts per mouse: {np.mean(n_per_mouse.values):.2f} +/- {np.std(n_per_mouse.values):.2f}\")\n",
    "\n",
    "        n_per_session = bouts.groupby(\"name\").count()[\"duration\"]\n",
    "        print(f\"    Average number of {target} - {direction} bouts per session: {np.mean(n_per_session.values):.2f} +/- {np.std(n_per_session.values):.2f}\")\n"
   ]
  },
  {
   "attachments": {},
   "cell_type": "markdown",
   "metadata": {},
   "source": [
    "### units"
   ]
  },
  {
   "cell_type": "code",
   "execution_count": 9,
   "metadata": {},
   "outputs": [],
   "source": [
    "mos_regions = [\"MOs1\", \"MOs2/3\", \"MOs5\", \"MOs6a\"]\n",
    "mrn_regions = [\"PPN\", \"CUN\"]\n",
    "rsp_regions = ['RSPagl2/3', 'RSPagl5', 'RSPagl6a', 'RSPagl6b', 'RSPd1', 'RSPd2/3', 'RSPd5', 'RSPd6a']\n",
    "vis_regions = ['VISp1', 'VISp2/3', 'VISp4', 'VISp5', 'VISp6a']\n",
    "orb_regions = ['ORBl5', 'ORBl6a', 'ORBvl2/3', 'ORBvl5', 'ORBvl6a']\n",
    "\n",
    "brain_regions = dict(\n",
    "    mos=mos_regions,\n",
    "    mrn=mrn_regions,\n",
    "    rsp=rsp_regions,\n",
    "    vis=vis_regions,\n",
    "    orb=orb_regions,\n",
    ")"
   ]
  },
  {
   "cell_type": "code",
   "execution_count": 10,
   "metadata": {},
   "outputs": [
    {
     "name": "stdout",
     "output_type": "stream",
     "text": [
      "A total of 2 mice were implanted in MOs, 6 were implanted in MRN\n",
      "A total of 17 recordings were made in MOs, 20 recordings were made in MRN\n",
      "8.50 +/- 4.95 recordings per mouse for MOs, 4.00 +/- 2.45 recordings per mouse for MRN\n",
      "\n",
      "\n",
      "\n",
      "Number of units in mos: 488\n",
      "  Number of units per mouse: 244.00 +/- 231.00 \n",
      "\tMOs1: 97\n",
      "\tMOs2/3: 99\n",
      "\tMOs5: 182\n",
      "\tMOs6a: 110\n",
      "Number of units in mrn: 185\n",
      "  Number of units per mouse: 46.25 +/- 41.91 \n",
      "\tPPN: 75\n",
      "\tCUN: 110\n",
      "Number of units in rsp: 16\n",
      "  Number of units per mouse: 8.00 +/- 4.00 \n",
      "\tRSPagl2/3: 7\n",
      "\tRSPagl6b: 4\n",
      "\tRSPd1: 3\n",
      "\tRSPd2/3: 2\n",
      "Number of units in vis: 23\n",
      "  Number of units per mouse: 11.50 +/- 4.50 \n",
      "\tVISp1: 18\n",
      "\tVISp6a: 5\n",
      "Number of units in orb: 205\n",
      "  Number of units per mouse: 102.50 +/- 29.50 \n",
      "\tORBl5: 97\n",
      "\tORBl6a: 36\n",
      "\tORBvl2/3: 3\n",
      "\tORBvl5: 38\n",
      "\tORBvl6a: 31\n"
     ]
    }
   ],
   "source": [
    "# Get the number of recordings per implanted mice.\n",
    "\n",
    "mos_mice = (Mouse * Surgery & \"target='MOs'\")\n",
    "mrn_mice = (Mouse * Surgery & \"target='CUN/GRN'\")\n",
    "\n",
    "print(f\"A total of {len(mos_mice)} mice were implanted in MOs, {len(mrn_mice)} were implanted in MRN\")\n",
    "\n",
    "# Get the number of recordings per session.\n",
    "mos_recs = pd.DataFrame((Recording * Surgery & \"target='MOs'\").fetch())\n",
    "mrn_recs = pd.DataFrame((Recording * Surgery & \"target='CUN/GRN'\").fetch())\n",
    "\n",
    "print(f\"A total of {len(mos_recs)} recordings were made in MOs, {len(mrn_recs)} recordings were made in MRN\")\n",
    "\n",
    "# get the average and std of the number of recordings per session\n",
    "mos_mu, mos_std = mos_recs.groupby(\"mouse_id\").count().name.mean(), mos_recs.groupby(\"mouse_id\").count().name.std()\n",
    "mrn_mu, mrn_std = mrn_recs.groupby(\"mouse_id\").count().name.mean(), mrn_recs.groupby(\"mouse_id\").count().name.std()\n",
    "\n",
    "print(f\"{mos_mu:.2f} +/- {mos_std:.2f} recordings per mouse for MOs, {mrn_mu:.2f} +/- {mrn_std:.2f} recordings per mouse for MRN\")\n",
    "\n",
    "\n",
    "# Get the number of units per brain region\n",
    "units = pd.DataFrame((Unit * Probe.RecordingSite ).fetch())\n",
    "print(\"\\n\\n\")\n",
    "for brain_region, subregions in brain_regions.items():\n",
    "    units_in_region = units[units['brain_region'].isin(subregions)]\n",
    "    print(f\"Number of units in {brain_region}: {len(units_in_region)}\")\n",
    "\n",
    "    in_region_by_mouse = units_in_region.groupby('mouse_id').count().name.values\n",
    "    print(f\"  Number of units per mouse: {np.mean(in_region_by_mouse):.2f} +/- {np.std(in_region_by_mouse):.2f} \")\n",
    "\n",
    "    for subregion in subregions:\n",
    "        n = len(units[units['brain_region'] == subregion])\n",
    "        if n == 0:\n",
    "            continue\n",
    "        print(f\"\\t{subregion}: {n}\")"
   ]
  },
  {
   "cell_type": "code",
   "execution_count": 8,
   "metadata": {},
   "outputs": [
    {
     "name": "stdout",
     "output_type": "stream",
     "text": [
      "Number of recordings per mouse\n"
     ]
    },
    {
     "data": {
      "text/html": [
       "<pre style=\"white-space:pre;overflow-x:auto;line-height:normal;font-family:Menlo,'DejaVu Sans Mono',consolas,'Courier New',monospace\">\n",
       "mouse_id\n",
       "AAA1110750     <span style=\"color: #008080; text-decoration-color: #008080; font-weight: bold\">5</span>\n",
       "BAA0000012     <span style=\"color: #008080; text-decoration-color: #008080; font-weight: bold\">5</span>\n",
       "BAA1101192    <span style=\"color: #008080; text-decoration-color: #008080; font-weight: bold\">12</span>\n",
       "BAA110516      <span style=\"color: #008080; text-decoration-color: #008080; font-weight: bold\">2</span>\n",
       "BAA110517      <span style=\"color: #008080; text-decoration-color: #008080; font-weight: bold\">5</span>\n",
       "BAA1110279     <span style=\"color: #008080; text-decoration-color: #008080; font-weight: bold\">1</span>\n",
       "BAA1110281     <span style=\"color: #008080; text-decoration-color: #008080; font-weight: bold\">7</span>\n",
       "Name: name, dtype: int64\n",
       "</pre>\n"
      ],
      "text/plain": [
       "\n",
       "mouse_id\n",
       "AAA1110750     \u001b[1;36m5\u001b[0m\n",
       "BAA0000012     \u001b[1;36m5\u001b[0m\n",
       "BAA1101192    \u001b[1;36m12\u001b[0m\n",
       "BAA110516      \u001b[1;36m2\u001b[0m\n",
       "BAA110517      \u001b[1;36m5\u001b[0m\n",
       "BAA1110279     \u001b[1;36m1\u001b[0m\n",
       "BAA1110281     \u001b[1;36m7\u001b[0m\n",
       "Name: name, dtype: int64\n"
      ]
     },
     "metadata": {},
     "output_type": "display_data"
    }
   ],
   "source": [
    "print(\"Number of recordings per mouse\")\n",
    "pd.DataFrame(Recording().fetch()).groupby(\"mouse_id\").count()[\"name\"]"
   ]
  }
 ],
 "metadata": {
  "kernelspec": {
   "display_name": "gld",
   "language": "python",
   "name": "python3"
  },
  "language_info": {
   "codemirror_mode": {
    "name": "ipython",
    "version": 3
   },
   "file_extension": ".py",
   "mimetype": "text/x-python",
   "name": "python",
   "nbconvert_exporter": "python",
   "pygments_lexer": "ipython3",
   "version": "3.8.0"
  },
  "orig_nbformat": 4,
  "vscode": {
   "interpreter": {
    "hash": "ae2ff1340f9203b57e7155b5a64639f2771c6b47729d1c64e5277c5f80d47cc8"
   }
  }
 },
 "nbformat": 4,
 "nbformat_minor": 2
}
