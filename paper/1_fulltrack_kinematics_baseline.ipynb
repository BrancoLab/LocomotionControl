{
 "cells": [
  {
   "attachments": {},
   "cell_type": "markdown",
   "metadata": {},
   "source": [
    "# Baseline Kinematics\n",
    "\n",
    "Get all bouts (forward/backward) for non implanted mice and quantify kinematics. \n",
    "\n",
    "Start by plotting the whole tracks over the arena.\n",
    "Plot heatmaps of kinematic variables over the entire track.\n",
    "Plot histograms of distributions of the kinematics variables."
   ]
  },
  {
   "cell_type": "code",
   "execution_count": null,
   "metadata": {},
   "outputs": [],
   "source": [
    "include(\"settings.jl\")"
   ]
  },
  {
   "attachments": {},
   "cell_type": "markdown",
   "metadata": {},
   "source": [
    "### Get data\n",
    "Use PyCall to get locomotion bouts data from the database"
   ]
  },
  {
   "cell_type": "code",
   "execution_count": null,
   "metadata": {},
   "outputs": [],
   "source": [
    "out_bouts = py\"get_bouts('outbound')\"\n",
    "in_bouts = py\"get_bouts('inbound')\"\n",
    "\n",
    "println(first(out_bouts, 5))"
   ]
  },
  {
   "attachments": {},
   "cell_type": "markdown",
   "metadata": {},
   "source": [
    "## Full trace plots\n",
    "\n",
    "Plot the traces for each bout"
   ]
  },
  {
   "cell_type": "code",
   "execution_count": null,
   "metadata": {},
   "outputs": [],
   "source": [
    "out_bouts_plot = plot_bouts_trace(out_bouts; title=\"outbound bouts\")\n",
    "in_bouts_plot = plot_bouts_trace(in_bouts; title=\"inbound bouts\")\n",
    "plot(out_bouts_plot, in_bouts_plot, layout=(1, 2), size=(800, 400))"
   ]
  },
  {
   "attachments": {},
   "cell_type": "markdown",
   "metadata": {},
   "source": [
    "Plot kinematics heatmaps"
   ]
  },
  {
   "cell_type": "code",
   "execution_count": null,
   "metadata": {},
   "outputs": [],
   "source": [
    "X_out, Y_out, S_out, A_out, T_out, D_out = stack_kinematic_variables(out_bouts)\n",
    "X_in, Y_in, S_in, A_in, T_in, D_in = stack_kinematic_variables(in_bouts)"
   ]
  },
  {
   "cell_type": "code",
   "execution_count": null,
   "metadata": {},
   "outputs": [],
   "source": [
    "kinematics_heatmaps(X_out, Y_out, S_out, A_out, T_out, D_out; title=\"outbound\") |> display\n",
    "kinematics_heatmaps(X_in, Y_in, S_in, A_in, T_in, D_in; title=\"inbound\") |> display"
   ]
  },
  {
   "attachments": {},
   "cell_type": "markdown",
   "metadata": {},
   "source": [
    "### Kinematics Histograms"
   ]
  },
  {
   "cell_type": "code",
   "execution_count": null,
   "metadata": {},
   "outputs": [],
   "source": [
    "h1 = histogram(S_out, bins=range(0, 100, length=10), title=\"speed\", color=:red, alpha=.5)\n",
    "histogram!(h1, S_in, bins=range(0, 100, length=10), title=\"speed\", color=:blue, alpha=.5)\n",
    "\n",
    "h2 = histogram(A_out, bins=range(-100, 100, length=10), title=\"acceleration\", color=:red, alpha=.5)\n",
    "histogram!(h2, A_in, bins=range(-100, 100, length=10), title=\"acceleration\", color=:blue, alpha=.5)\n",
    "\n",
    "h3 = histogram(T_out, bins=range(-100, 100, length=10), title=\"angvel\", color=:red, alpha=.5)\n",
    "histogram!(h3, T_in, bins=range(-100, 100, length=10), title=\"angvel\", color=:blue, alpha=.5)\n",
    "\n",
    "h4 = histogram(D_out, bins=range(-100, 100, length=10), title=\"angaccel\", color=:red, alpha=.5)\n",
    "histogram!(h4, D_in, bins=range(-100, 100, length=10), title=\"angaccel\", color=:blue, alpha=.5)\n",
    "\n",
    "plot(h1, h2, h3, h4, layout=(2, 2), size=(800, 800))"
   ]
  }
 ],
 "metadata": {
  "kernelspec": {
   "display_name": "Julia 1.8.3",
   "language": "julia",
   "name": "julia-1.8"
  },
  "language_info": {
   "file_extension": ".jl",
   "mimetype": "application/julia",
   "name": "julia",
   "version": "1.8.3"
  },
  "orig_nbformat": 4
 },
 "nbformat": 4,
 "nbformat_minor": 2
}
