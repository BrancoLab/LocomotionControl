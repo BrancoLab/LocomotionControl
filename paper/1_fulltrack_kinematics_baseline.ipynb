{
 "cells": [
  {
   "cell_type": "code",
   "execution_count": null,
   "metadata": {},
   "outputs": [],
   "source": [
    "using PyCall\n",
    "\n",
    "@pyinclude(\"../data/dbase/djconn.py\")\n",
    "\n",
    "py\"\"\"\n",
    "import sys\n",
    "sys.path.append(\"/Users/federicoclaudi/Documents/Github/LocomotionControl\")\n",
    "\n",
    "import pandas as pd\n",
    "from data.dbase.db_tables import (\n",
    "    LocomotionBouts,\n",
    "    Tracking,\n",
    "    TrackingBP, \n",
    "    TrackingLinearized,\n",
    ")\n",
    "\"\"\"\n",
    "\n",
    "using DataFrames, Plots\n"
   ]
  },
  {
   "cell_type": "code",
   "execution_count": null,
   "metadata": {},
   "outputs": [],
   "source": []
  }
 ],
 "metadata": {
  "kernelspec": {
   "display_name": "Julia 1.8.3",
   "language": "julia",
   "name": "julia-1.8"
  },
  "language_info": {
   "file_extension": ".jl",
   "mimetype": "application/julia",
   "name": "julia",
   "version": "1.8.3"
  },
  "orig_nbformat": 4
 },
 "nbformat": 4,
 "nbformat_minor": 2
}
