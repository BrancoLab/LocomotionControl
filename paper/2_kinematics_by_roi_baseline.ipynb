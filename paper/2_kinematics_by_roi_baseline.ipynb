{
 "cells": [
  {
   "attachments": {},
   "cell_type": "markdown",
   "metadata": {},
   "source": [
    "## ROI kinematics\n",
    "\n",
    "Cut the data around each ROI and get the times in which they start decelerating and turning. \n",
    "Visualize as heatmaps over the arena and the distributions of positions/time differences."
   ]
  },
  {
   "cell_type": "code",
   "execution_count": null,
   "metadata": {},
   "outputs": [],
   "source": [
    "include(\"settings.jl\")"
   ]
  },
  {
   "attachments": {},
   "cell_type": "markdown",
   "metadata": {},
   "source": [
    "### Cut data"
   ]
  },
  {
   "cell_type": "code",
   "execution_count": null,
   "metadata": {},
   "outputs": [],
   "source": [
    "# TODO get precise values for the ROIs\n",
    "out_bouts = py\"get_bouts('outbound')\"\n",
    "# in_bouts = py\"get_bouts('inbound')\"\n",
    "\n",
    "sample_bouts = out_bouts[1:100, :]\n",
    "\n",
    "plt = plot(\n",
    "    title=\"outbound bouts\"; arena_ax_kwargs...\n",
    ")\n",
    "\n",
    "for roi in 1:4\n",
    "    roi_bouts = get_roi_bouts(roi, sample_bouts)\n",
    "    plot_bouts_trace!(plt, roi_bouts)\n",
    "end\n",
    "\n",
    "plt\n"
   ]
  },
  {
   "cell_type": "code",
   "execution_count": null,
   "metadata": {},
   "outputs": [],
   "source": [
    "\"\"\"\n",
    "Compact storing of ROI bouts data.\n",
    "\"\"\"\n",
    "mutable struct ROIBouts\n",
    "    roi::Int\n",
    "    bouts::DataFrame\n",
    "    X::Vector\n",
    "    Y::Vector\n",
    "    S::Vector\n",
    "    A::Vector\n",
    "    T::Vector\n",
    "    D::Vector\n",
    "end\n",
    "\n",
    "function ROIBouts(roi::Int, bouts)\n",
    "    bouts = get_roi_bouts(roi, bouts)\n",
    "    X, Y, S, A, T, D = get_bouts_kinematics(bouts)\n",
    "    return ROIBouts(roi, bouts, X, Y, S, A, T, D)\n",
    "end\n",
    "\n",
    "R1=ROIBouts(1, out_bouts)\n",
    "R2=ROIBouts(2, out_bouts)\n",
    "R3=ROIBouts(3, out_bouts)\n",
    "R4=ROIBouts(4, out_bouts)\n"
   ]
  },
  {
   "attachments": {},
   "cell_type": "markdown",
   "metadata": {},
   "source": [
    "### Heatmaps\n",
    "\n",
    "Plot kinematics heatmaps for each ROI"
   ]
  },
  {
   "cell_type": "code",
   "execution_count": null,
   "metadata": {},
   "outputs": [],
   "source": [
    "for bouts in (R1, R2, R3, R4)\n",
    "    plt = kinematics_heatmaps(bouts.X, bouts.Y, bouts.S, bouts.A, bouts.T, bouts.D;)\n",
    "    display(plt)\n",
    "end"
   ]
  },
  {
   "attachments": {},
   "cell_type": "markdown",
   "metadata": {},
   "source": [
    "## Slowing and Turning\n",
    "For each trial detect when the mouse starts slowing down and when it starts turning at each ROIs. \n",
    "\n",
    "Make scatter plots of these positions over the arena. \n",
    "Make histograms of differences in kinematic variables at the two timepoints. \n",
    "\n"
   ]
  },
  {
   "cell_type": "code",
   "execution_count": null,
   "metadata": {},
   "outputs": [],
   "source": [
    "# write code to pick up slowing/turning times\n",
    "\n"
   ]
  }
 ],
 "metadata": {
  "kernelspec": {
   "display_name": "Julia 1.6.2",
   "language": "julia",
   "name": "julia-1.6"
  },
  "language_info": {
   "name": "julia"
  },
  "orig_nbformat": 4
 },
 "nbformat": 4,
 "nbformat_minor": 2
}
