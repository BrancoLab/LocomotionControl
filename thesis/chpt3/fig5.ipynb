{
 "cells": [
  {
   "cell_type": "code",
   "execution_count": 5,
   "metadata": {},
   "outputs": [
    {
     "name": "stderr",
     "output_type": "stream",
     "text": [
      "\u001b[32m\u001b[1m  Activating\u001b[22m\u001b[39m project at `~/Documents/Github/LocomotionControl/analysis/behavior`\n"
     ]
    },
    {
     "data": {
      "text/plain": [
       "Term.logging.TermLogger(VSCodeServer.IJuliaCore.IJuliaStdio{Base.PipeEndpoint, typeof(VSCodeServer.io_send_callback)}(IOContext(Base.PipeEndpoint(RawFD(22) open, 0 bytes waiting)), VSCodeServer.io_send_callback), Term.Theme\n",
       "  docstring: String \"#66BB6A\"\n",
       "  string: String \"#A5D6A7\"\n",
       "  type: String \"#CE93D8\"\n",
       "  emphasis: String \"#42A5F5  bold\"\n",
       "  emphasis_light: String \"#A5D6A7\"\n",
       "  code: String \"#90CAF9\"\n",
       "  multiline_code: String \"#90CAF9\"\n",
       "  symbol: String \"#FFCC80\"\n",
       "  expression: String \"#F48FB1\"\n",
       "  number: String \"#42A5F5\"\n",
       "  operator: String \"#EF5350 bold\"\n",
       "  func: String \"#FFEE58\"\n",
       "  info: String \"#42A5F5\"\n",
       "  debug: String \"#42A5F5\"\n",
       "  warn: String \"#FFA726\"\n",
       "  error: String \"bold #EF5350\"\n",
       "  tree_title_style: String \"#FFA726 italic\"\n",
       "  tree_node_style: String \"#FFEE58 italic\"\n",
       "  tree_leaf_style: String \"#FFF59D\"\n",
       "  tree_guide_style: String \"#42A5F5\"\n",
       ")"
      ]
     },
     "metadata": {},
     "output_type": "display_data"
    }
   ],
   "source": [
    "cd(\"/Users/federicoclaudi/Documents/Github/LocomotionControl/analysis/behavior\")\n",
    "import Pkg; \n",
    "Pkg.activate(\".\")\n",
    "\n",
    "using Plots\n",
    "using Term\n",
    "import Term: install_term_logger\n",
    "import MyterialColors: salmon, green_dark\n",
    "using Statistics\n",
    "\n",
    "\n",
    "using jcontrol\n",
    "using jcontrol.visuals\n",
    "import jcontrol.visuals: arena\n",
    "import jcontrol.comparisons: ComparisonPoints\n",
    "\n",
    "install_term_logger()"
   ]
  },
  {
   "cell_type": "markdown",
   "metadata": {},
   "source": [
    "## Figure 5\n",
    "\n",
    "Show that the global MTM solution is a good representation of the animals traces."
   ]
  },
  {
   "cell_type": "code",
   "execution_count": 9,
   "metadata": {},
   "outputs": [],
   "source": [
    "layout = @layout [\n",
    "    a{0.4w} grid(3, 1)\n",
    "]\n",
    "\n",
    "fig = plot(; layout=layout)\n",
    "\n",
    "plot!(\n",
    "    reverse(arena; dims=1),\n",
    "    aspect_ratio=:equal,\n",
    "    xlim=[-5, 45],\n",
    "    ylim=[-5, 65],\n",
    ")"
   ]
  },
  {
   "cell_type": "code",
   "execution_count": null,
   "metadata": {},
   "outputs": [],
   "source": []
  }
 ],
 "metadata": {
  "kernelspec": {
   "display_name": "Julia 1.7.1",
   "language": "julia",
   "name": "julia-1.7"
  },
  "language_info": {
   "file_extension": ".jl",
   "mimetype": "application/julia",
   "name": "julia",
   "version": "1.7.1"
  },
  "orig_nbformat": 4
 },
 "nbformat": 4,
 "nbformat_minor": 2
}
