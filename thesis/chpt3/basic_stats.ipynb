{
 "cells": [
  {
   "cell_type": "code",
   "execution_count": 1,
   "metadata": {},
   "outputs": [
    {
     "data": {
      "text/html": [
       "<pre style=\"white-space:pre;overflow-x:auto;line-height:normal;font-family:Menlo,'DejaVu Sans Mono',consolas,'Courier New',monospace\"><span style=\"color: #7fbfbf; text-decoration-color: #7fbfbf\">[07/07/22 10:09:00] </span><span style=\"color: #008000; text-decoration-color: #008000\">DEBUG   </span> DPL - Saving data and logs to logs                   <a href=\"file://c:\\ProgramData\\Miniconda3\\envs\\dev\\lib\\site-packages\\tpd\\core.py\"><span style=\"color: #7f7f7f; text-decoration-color: #7f7f7f\">core.py</span></a><span style=\"color: #7f7f7f; text-decoration-color: #7f7f7f\">:</span><a href=\"file://c:\\ProgramData\\Miniconda3\\envs\\dev\\lib\\site-packages\\tpd\\core.py#118\"><span style=\"color: #7f7f7f; text-decoration-color: #7f7f7f\">118</span></a>\n",
       "</pre>\n"
      ],
      "text/plain": [
       "\u001b[2;36m[07/07/22 10:09:00]\u001b[0m\u001b[2;36m \u001b[0m\u001b[32mDEBUG   \u001b[0m DPL - Saving data and logs to logs                   \u001b]8;id=720405;file://c:\\ProgramData\\Miniconda3\\envs\\dev\\lib\\site-packages\\tpd\\core.py\u001b\\\u001b[2mcore.py\u001b[0m\u001b]8;;\u001b\\\u001b[2m:\u001b[0m\u001b]8;id=256721;file://c:\\ProgramData\\Miniconda3\\envs\\dev\\lib\\site-packages\\tpd\\core.py#118\u001b\\\u001b[2m118\u001b[0m\u001b]8;;\u001b\\\n"
      ]
     },
     "metadata": {},
     "output_type": "display_data"
    },
    {
     "data": {
      "text/html": [
       "<pre style=\"white-space:pre;overflow-x:auto;line-height:normal;font-family:Menlo,'DejaVu Sans Mono',consolas,'Courier New',monospace\"><span style=\"color: #7fbfbf; text-decoration-color: #7fbfbf\">                    </span><span style=\"color: #008000; text-decoration-color: #008000\">DEBUG   </span> Saving log file to: logs\\log.log                     <a href=\"file://c:\\ProgramData\\Miniconda3\\envs\\dev\\lib\\site-packages\\tpd\\core.py\"><span style=\"color: #7f7f7f; text-decoration-color: #7f7f7f\">core.py</span></a><span style=\"color: #7f7f7f; text-decoration-color: #7f7f7f\">:</span><a href=\"file://c:\\ProgramData\\Miniconda3\\envs\\dev\\lib\\site-packages\\tpd\\core.py#119\"><span style=\"color: #7f7f7f; text-decoration-color: #7f7f7f\">119</span></a>\n",
       "</pre>\n"
      ],
      "text/plain": [
       "\u001b[2;36m                   \u001b[0m\u001b[2;36m \u001b[0m\u001b[32mDEBUG   \u001b[0m Saving log file to: logs\\log.log                     \u001b]8;id=244297;file://c:\\ProgramData\\Miniconda3\\envs\\dev\\lib\\site-packages\\tpd\\core.py\u001b\\\u001b[2mcore.py\u001b[0m\u001b]8;;\u001b\\\u001b[2m:\u001b[0m\u001b]8;id=843928;file://c:\\ProgramData\\Miniconda3\\envs\\dev\\lib\\site-packages\\tpd\\core.py#119\u001b\\\u001b[2m119\u001b[0m\u001b]8;;\u001b\\\n"
      ]
     },
     "metadata": {},
     "output_type": "display_data"
    },
    {
     "name": "stdout",
     "output_type": "stream",
     "text": [
      "Connecting root@127.0.0.1:3306\n"
     ]
    },
    {
     "data": {
      "text/html": [
       "<pre style=\"white-space:pre;overflow-x:auto;line-height:normal;font-family:Menlo,'DejaVu Sans Mono',consolas,'Courier New',monospace\"><span style=\"color: #7fbfbf; text-decoration-color: #7fbfbf\">[07/07/22 10:09:01] </span><span style=\"color: #008000; text-decoration-color: #008000\">DEBUG   </span> Connected to database: LOCOMOTION4                <a href=\"file://C:\\Users\\Federico\\Documents\\GitHub\\pysical_locomotion\\data\\dbase\\__init__.py\"><span style=\"color: #7f7f7f; text-decoration-color: #7f7f7f\">__init__.py</span></a><span style=\"color: #7f7f7f; text-decoration-color: #7f7f7f\">:</span><a href=\"file://C:\\Users\\Federico\\Documents\\GitHub\\pysical_locomotion\\data\\dbase\\__init__.py#11\"><span style=\"color: #7f7f7f; text-decoration-color: #7f7f7f\">11</span></a>\n",
       "</pre>\n"
      ],
      "text/plain": [
       "\u001b[2;36m[07/07/22 10:09:01]\u001b[0m\u001b[2;36m \u001b[0m\u001b[32mDEBUG   \u001b[0m Connected to database: LOCOMOTION4                \u001b]8;id=536652;file://C:\\Users\\Federico\\Documents\\GitHub\\pysical_locomotion\\data\\dbase\\__init__.py\u001b\\\u001b[2m__init__.py\u001b[0m\u001b]8;;\u001b\\\u001b[2m:\u001b[0m\u001b]8;id=545788;file://C:\\Users\\Federico\\Documents\\GitHub\\pysical_locomotion\\data\\dbase\\__init__.py#11\u001b\\\u001b[2m11\u001b[0m\u001b]8;;\u001b\\\n"
      ]
     },
     "metadata": {},
     "output_type": "display_data"
    }
   ],
   "source": [
    "import pandas as pd\n",
    "\n",
    "\n",
    "import sys\n",
    "# sys.path.append(\"/Users/federicoclaudi/Documents/Github/LocomotionControl\")\n",
    "sys.path.append(r\"C:\\Users\\Federico\\Documents\\GitHub\\pysical_locomotion\")\n",
    "\n",
    "\n",
    "from data.dbase.db_tables import LocomotionBouts, SessionCondition, Session"
   ]
  },
  {
   "cell_type": "code",
   "execution_count": 2,
   "metadata": {},
   "outputs": [
    {
     "name": "stdout",
     "output_type": "stream",
     "text": [
      "(1252, 20)\n"
     ]
    },
    {
     "data": {
      "text/html": [
       "<div>\n",
       "<style scoped>\n",
       "    .dataframe tbody tr th:only-of-type {\n",
       "        vertical-align: middle;\n",
       "    }\n",
       "\n",
       "    .dataframe tbody tr th {\n",
       "        vertical-align: top;\n",
       "    }\n",
       "\n",
       "    .dataframe thead th {\n",
       "        text-align: right;\n",
       "    }\n",
       "</style>\n",
       "<table border=\"1\" class=\"dataframe\">\n",
       "  <thead>\n",
       "    <tr style=\"text-align: right;\">\n",
       "      <th></th>\n",
       "      <th>mouse_id</th>\n",
       "      <th>name</th>\n",
       "      <th>start_frame</th>\n",
       "      <th>end_frame</th>\n",
       "      <th>condition</th>\n",
       "      <th>duration</th>\n",
       "      <th>direction</th>\n",
       "      <th>color</th>\n",
       "      <th>complete</th>\n",
       "      <th>start_roi</th>\n",
       "      <th>end_roi</th>\n",
       "      <th>gcoord_delta</th>\n",
       "      <th>date</th>\n",
       "      <th>is_recording</th>\n",
       "      <th>arena</th>\n",
       "      <th>video_file_path</th>\n",
       "      <th>ai_file_path</th>\n",
       "      <th>csv_file_path</th>\n",
       "      <th>ephys_ap_data_path</th>\n",
       "      <th>ephys_ap_meta_path</th>\n",
       "    </tr>\n",
       "  </thead>\n",
       "  <tbody>\n",
       "    <tr>\n",
       "      <th>4</th>\n",
       "      <td>AAA1110750</td>\n",
       "      <td>FC_210413_AAA1110750_d11_data.csv</td>\n",
       "      <td>45972</td>\n",
       "      <td>46353</td>\n",
       "      <td>naive</td>\n",
       "      <td>6.35000</td>\n",
       "      <td>outbound</td>\n",
       "      <td>#F48FB1</td>\n",
       "      <td>true</td>\n",
       "      <td>0</td>\n",
       "      <td>12</td>\n",
       "      <td>0.990457</td>\n",
       "      <td>210413</td>\n",
       "      <td>0</td>\n",
       "      <td>hairpin</td>\n",
       "      <td>W:\\swc\\branco\\Federico\\Locomotion\\raw\\video\\FC...</td>\n",
       "      <td>W:\\swc\\branco\\Federico\\Locomotion\\raw\\analog_i...</td>\n",
       "      <td>W:\\swc\\branco\\Federico\\Locomotion\\raw\\analog_i...</td>\n",
       "      <td></td>\n",
       "      <td></td>\n",
       "    </tr>\n",
       "    <tr>\n",
       "      <th>5</th>\n",
       "      <td>AAA1110750</td>\n",
       "      <td>FC_210413_AAA1110750_d11_data.csv</td>\n",
       "      <td>48790</td>\n",
       "      <td>49108</td>\n",
       "      <td>naive</td>\n",
       "      <td>5.30000</td>\n",
       "      <td>outbound</td>\n",
       "      <td>#F48FB1</td>\n",
       "      <td>true</td>\n",
       "      <td>1</td>\n",
       "      <td>12</td>\n",
       "      <td>0.960321</td>\n",
       "      <td>210413</td>\n",
       "      <td>0</td>\n",
       "      <td>hairpin</td>\n",
       "      <td>W:\\swc\\branco\\Federico\\Locomotion\\raw\\video\\FC...</td>\n",
       "      <td>W:\\swc\\branco\\Federico\\Locomotion\\raw\\analog_i...</td>\n",
       "      <td>W:\\swc\\branco\\Federico\\Locomotion\\raw\\analog_i...</td>\n",
       "      <td></td>\n",
       "      <td></td>\n",
       "    </tr>\n",
       "    <tr>\n",
       "      <th>6</th>\n",
       "      <td>AAA1110750</td>\n",
       "      <td>FC_210413_AAA1110750_d11_data.csv</td>\n",
       "      <td>51136</td>\n",
       "      <td>51444</td>\n",
       "      <td>naive</td>\n",
       "      <td>5.13333</td>\n",
       "      <td>outbound</td>\n",
       "      <td>#F48FB1</td>\n",
       "      <td>true</td>\n",
       "      <td>0</td>\n",
       "      <td>12</td>\n",
       "      <td>0.979910</td>\n",
       "      <td>210413</td>\n",
       "      <td>0</td>\n",
       "      <td>hairpin</td>\n",
       "      <td>W:\\swc\\branco\\Federico\\Locomotion\\raw\\video\\FC...</td>\n",
       "      <td>W:\\swc\\branco\\Federico\\Locomotion\\raw\\analog_i...</td>\n",
       "      <td>W:\\swc\\branco\\Federico\\Locomotion\\raw\\analog_i...</td>\n",
       "      <td></td>\n",
       "      <td></td>\n",
       "    </tr>\n",
       "    <tr>\n",
       "      <th>9</th>\n",
       "      <td>AAA1110750</td>\n",
       "      <td>FC_210413_AAA1110750_d11_data.csv</td>\n",
       "      <td>58960</td>\n",
       "      <td>59305</td>\n",
       "      <td>naive</td>\n",
       "      <td>5.75000</td>\n",
       "      <td>outbound</td>\n",
       "      <td>#F48FB1</td>\n",
       "      <td>true</td>\n",
       "      <td>1</td>\n",
       "      <td>12</td>\n",
       "      <td>0.950778</td>\n",
       "      <td>210413</td>\n",
       "      <td>0</td>\n",
       "      <td>hairpin</td>\n",
       "      <td>W:\\swc\\branco\\Federico\\Locomotion\\raw\\video\\FC...</td>\n",
       "      <td>W:\\swc\\branco\\Federico\\Locomotion\\raw\\analog_i...</td>\n",
       "      <td>W:\\swc\\branco\\Federico\\Locomotion\\raw\\analog_i...</td>\n",
       "      <td></td>\n",
       "      <td></td>\n",
       "    </tr>\n",
       "    <tr>\n",
       "      <th>10</th>\n",
       "      <td>AAA1110750</td>\n",
       "      <td>FC_210413_AAA1110750_d11_data.csv</td>\n",
       "      <td>61123</td>\n",
       "      <td>61472</td>\n",
       "      <td>naive</td>\n",
       "      <td>5.81667</td>\n",
       "      <td>outbound</td>\n",
       "      <td>#F48FB1</td>\n",
       "      <td>true</td>\n",
       "      <td>0</td>\n",
       "      <td>12</td>\n",
       "      <td>0.984932</td>\n",
       "      <td>210413</td>\n",
       "      <td>0</td>\n",
       "      <td>hairpin</td>\n",
       "      <td>W:\\swc\\branco\\Federico\\Locomotion\\raw\\video\\FC...</td>\n",
       "      <td>W:\\swc\\branco\\Federico\\Locomotion\\raw\\analog_i...</td>\n",
       "      <td>W:\\swc\\branco\\Federico\\Locomotion\\raw\\analog_i...</td>\n",
       "      <td></td>\n",
       "      <td></td>\n",
       "    </tr>\n",
       "  </tbody>\n",
       "</table>\n",
       "</div>"
      ]
     },
     "execution_count": 2,
     "metadata": {},
     "output_type": "execute_result"
    }
   ],
   "source": [
    "trials = pd.DataFrame(\n",
    "    (\n",
    "        LocomotionBouts * SessionCondition * Session\n",
    "        & 'complete=\"true\"'\n",
    "        & 'direction=\"outbound\"'\n",
    "    ).fetch()\n",
    ")\n",
    "\n",
    "trials = trials.loc[(trials.duration < 9)&(trials.gcoord_delta > .95)]\n",
    "print(trials.shape)\n",
    "trials.head()"
   ]
  },
  {
   "cell_type": "code",
   "execution_count": 3,
   "metadata": {},
   "outputs": [
    {
     "data": {
      "text/html": [
       "<pre style=\"white-space:pre;overflow-x:auto;line-height:normal;font-family:Menlo,'DejaVu Sans Mono',consolas,'Courier New',monospace\"><span style=\"color: #008080; text-decoration-color: #008080; font-weight: bold\">85</span>\n",
       "</pre>\n"
      ],
      "text/plain": [
       "\u001b[1;36m85\u001b[0m\n"
      ]
     },
     "metadata": {},
     "output_type": "display_data"
    }
   ],
   "source": [
    "names = trials[\"name\"].values\n",
    "names = [n.replace(\"_data.csv\", \"\") for n in names]\n",
    "n_sessions = len(set(names))\n",
    "n_sessions"
   ]
  }
 ],
 "metadata": {
  "kernelspec": {
   "display_name": "Python 3.7.0 ('dev')",
   "language": "python",
   "name": "python3"
  },
  "language_info": {
   "codemirror_mode": {
    "name": "ipython",
    "version": 3
   },
   "file_extension": ".py",
   "mimetype": "text/x-python",
   "name": "python",
   "nbconvert_exporter": "python",
   "pygments_lexer": "ipython3",
   "version": "3.7.0"
  },
  "orig_nbformat": 4,
  "vscode": {
   "interpreter": {
    "hash": "d14c38d234234b969aee73678d168700778a98933f098d78df9f79a7508c5a93"
   }
  }
 },
 "nbformat": 4,
 "nbformat_minor": 2
}
