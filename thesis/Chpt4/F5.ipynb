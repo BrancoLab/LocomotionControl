{
 "cells": [
  {
   "cell_type": "markdown",
   "metadata": {},
   "source": [
    "# Curve decoding\n",
    "\n",
    "Analysis to see if you can decode left vs right turns from individual units in M2.\n",
    "\n",
    "\n",
    "\n",
    "For each curve ROI we get all the times the mouse crosses it and the associated firing rate (as a function of position relative to the axis).\n",
    "Then for each unit we use a logistic regression model to try and decode if the mouse went left/right through the curve from the firing rates alone. \n",
    "\n"
   ]
  },
  {
   "cell_type": "code",
   "execution_count": 1,
   "metadata": {},
   "outputs": [
    {
     "name": "stderr",
     "output_type": "stream",
     "text": [
      "[2022-07-19 10:21:41,198][INFO]: Connecting root@127.0.0.1:3306\n",
      "[2022-07-19 10:21:41,274][INFO]: Connected root@127.0.0.1:3306\n"
     ]
    },
    {
     "data": {
      "text/html": [
       "<pre style=\"white-space:pre;overflow-x:auto;line-height:normal;font-family:Menlo,'DejaVu Sans Mono',consolas,'Courier New',monospace\"><span style=\"color: #7fbfbf; text-decoration-color: #7fbfbf\">[07/19/22 10:21:41] </span><span style=\"color: #008000; text-decoration-color: #008000\">DEBUG   </span> Connected to database: LOCOMOTION4                <a href=\"file://C:\\Users\\Federico\\Documents\\GitHub\\pysical_locomotion\\data\\dbase\\__init__.py\" target=\"_blank\"><span style=\"color: #7f7f7f; text-decoration-color: #7f7f7f\">__init__.py</span></a><span style=\"color: #7f7f7f; text-decoration-color: #7f7f7f\">:</span><a href=\"file://C:\\Users\\Federico\\Documents\\GitHub\\pysical_locomotion\\data\\dbase\\__init__.py#11\" target=\"_blank\"><span style=\"color: #7f7f7f; text-decoration-color: #7f7f7f\">11</span></a>\n",
       "</pre>\n"
      ],
      "text/plain": [
       "\u001b[2;36m[07/19/22 10:21:41]\u001b[0m\u001b[2;36m \u001b[0m\u001b[32mDEBUG   \u001b[0m Connected to database: LOCOMOTION4                \u001b]8;id=349924;file://C:\\Users\\Federico\\Documents\\GitHub\\pysical_locomotion\\data\\dbase\\__init__.py\u001b\\\u001b[2m__init__.py\u001b[0m\u001b]8;;\u001b\\\u001b[2m:\u001b[0m\u001b]8;id=63271;file://C:\\Users\\Federico\\Documents\\GitHub\\pysical_locomotion\\data\\dbase\\__init__.py#11\u001b\\\u001b[2m11\u001b[0m\u001b]8;;\u001b\\\n"
      ]
     },
     "metadata": {},
     "output_type": "display_data"
    },
    {
     "name": "stdout",
     "output_type": "stream",
     "text": [
      "['FC_210715_AAA1110750_r5_hairpin' 'FC_210716_AAA1110750_r6_hairpin'\n",
      " 'FC_210720_AAA1110750_hairpin' 'FC_210721_AAA1110750_hairpin'\n",
      " 'FC_210722_AAA1110750_hairpin' 'FC_211022_BAA110516_hairpin'\n",
      " 'FC_211027_BAA110516_hairpin' 'FC_211214_BAA110517_hairpin'\n",
      " 'FC_220114_BAA110517_hairpin' 'FC_220117_BAA110517_hairpin'\n",
      " 'FC_220119_BAA110517_hairpin' 'FC_220120_BAA110517_hairpin'\n",
      " 'FC_210917_BAA1110279_hairpin' 'FC_210820_BAA1110281_hairpin'\n",
      " 'FC_210829_BAA1110281_hairpin' 'FC_210830_BAA1110281_hairpin'\n",
      " 'FC_210831_BAA1110281_hairpin' 'FC_210901_BAA1110281_hairpin'\n",
      " 'FC_210906_BAA1110281_hairpin' 'FC_210917_BAA1110281_hairpin']\n"
     ]
    }
   ],
   "source": [
    "# imports\n",
    "import sys\n",
    "import matplotlib.pyplot as plt\n",
    "from pathlib import Path\n",
    "import numpy as np\n",
    "import pandas as pd\n",
    "\n",
    "from sklearn.preprocessing import MinMaxScaler, StandardScaler\n",
    "from sklearn.model_selection import KFold\n",
    "from sklearn.linear_model import LogisticRegression\n",
    "from sklearn.model_selection import train_test_split\n",
    "import statsmodels.api as sm\n",
    "from fcutils.progress import track\n",
    "from sklearn.metrics import roc_auc_score\n",
    "from sklearn.metrics import roc_curve\n",
    "\n",
    "sys.path.append(\"./\")\n",
    "sys.path.append(r\"C:\\Users\\Federico\\Documents\\GitHub\\pysical_locomotion\")\n",
    "\n",
    "from fcutils.plot.figure import clean_axes\n",
    "from fcutils.plot.elements import plot_mean_and_error\n",
    "from fcutils.maths.signals import rolling_mean\n",
    "from analysis.ephys.utils import get_recording_names, get_data, get_session_bouts, curves, get_roi_crossings\n",
    "\n",
    "save_folder = Path(r\"D:\\Dropbox (UCL)\\Rotation_vte\\Writings\\THESIS\\Chpt4\\Plots\")\n",
    "\n",
    "# print all available recordings\n",
    "TARGET = \"CUN/PPN\"\n",
    "print(get_recording_names(region=TARGET))"
   ]
  },
  {
   "cell_type": "code",
   "execution_count": 2,
   "metadata": {},
   "outputs": [],
   "source": [
    "def frate(spikes, s, bins):\n",
    "    \"\"\"\n",
    "        Given the s position at each frame and the frame at which spikes occurred during a ROI crossing,\n",
    "        get firing rate wrt position relative to the apex.\n",
    "    \"\"\"\n",
    "    \n",
    "    n_visits_per_bin = np.histogram(s, bins=bins)[0]\n",
    "\n",
    "    spikes_positions = [s[spike] for spike in spikes]\n",
    "    nspikes_per_bin = np.histogram(spikes_positions, bins=bins)[0]\n",
    "\n",
    "    spikes_positions = rolling_mean(spikes_positions, 5)\n",
    "    nspikes_per_bin = rolling_mean(nspikes_per_bin, 5)\n",
    "\n",
    "    frates = nspikes_per_bin / n_visits_per_bin * 60\n",
    "    frates[np.isnan(frates)] = 0.0\n",
    "    frates[np.isinf(frates)] = 0.0  # a spike but no frame count?\n",
    "    return frates"
   ]
  },
  {
   "cell_type": "code",
   "execution_count": 3,
   "metadata": {},
   "outputs": [],
   "source": [
    "ds = 2\n",
    "bins = np.arange(-20, 20+ds, step=ds)\n",
    "\n",
    "\n",
    "data = {\n",
    "    **dict(\n",
    "        name=[],  # recording name\n",
    "        unit_id=[],  # unit id\n",
    "        brainregion=[],  # brain region\n",
    "        direction=[],  # direction (out/in)\n",
    "        roi = [],  # ROI name\n",
    "        label=[],  # left, right or straight\n",
    "    ),\n",
    "    **{s:[] for s in bins[1:]}  # firing rate at each S position bin\n",
    "}\n"
   ]
  },
  {
   "cell_type": "code",
   "execution_count": 4,
   "metadata": {},
   "outputs": [
    {
     "data": {
      "application/vnd.jupyter.widget-view+json": {
       "model_id": "0169f3d004a0483cb06e9bb1a3943d7f",
       "version_major": 2,
       "version_minor": 0
      },
      "text/plain": [
       "Output()"
      ]
     },
     "metadata": {},
     "output_type": "display_data"
    },
    {
     "data": {
      "text/html": [
       "<pre style=\"white-space:pre;overflow-x:auto;line-height:normal;font-family:Menlo,'DejaVu Sans Mono',consolas,'Courier New',monospace\"><span style=\"color: #7fbfbf; text-decoration-color: #7fbfbf\">[07/19/22 10:21:49] </span><span style=\"color: #000080; text-decoration-color: #000080\">INFO    </span> Got <span style=\"color: #008080; text-decoration-color: #008080; font-weight: bold\">46</span> units for FC_210715_AAA1110750_r5_hairpin    <a href=\"file://C:\\Users\\Federico\\Documents\\GitHub\\pysical_locomotion\\analysis\\ephys\\utils.py\" target=\"_blank\"><span style=\"color: #7f7f7f; text-decoration-color: #7f7f7f\">utils.py</span></a><span style=\"color: #7f7f7f; text-decoration-color: #7f7f7f\">:</span><a href=\"file://C:\\Users\\Federico\\Documents\\GitHub\\pysical_locomotion\\analysis\\ephys\\utils.py#189\" target=\"_blank\"><span style=\"color: #7f7f7f; text-decoration-color: #7f7f7f\">189</span></a>\n",
       "</pre>\n"
      ],
      "text/plain": [
       "\u001b[2;36m[07/19/22 10:21:49]\u001b[0m\u001b[2;36m \u001b[0m\u001b[34mINFO    \u001b[0m Got \u001b[1;36m46\u001b[0m units for FC_210715_AAA1110750_r5_hairpin    \u001b]8;id=180742;file://C:\\Users\\Federico\\Documents\\GitHub\\pysical_locomotion\\analysis\\ephys\\utils.py\u001b\\\u001b[2mutils.py\u001b[0m\u001b]8;;\u001b\\\u001b[2m:\u001b[0m\u001b]8;id=435733;file://C:\\Users\\Federico\\Documents\\GitHub\\pysical_locomotion\\analysis\\ephys\\utils.py#189\u001b\\\u001b[2m189\u001b[0m\u001b]8;;\u001b\\\n"
      ]
     },
     "metadata": {},
     "output_type": "display_data"
    },
    {
     "data": {
      "text/html": [
       "<pre style=\"white-space:pre;overflow-x:auto;line-height:normal;font-family:Menlo,'DejaVu Sans Mono',consolas,'Courier New',monospace\"><span style=\"color: #7fbfbf; text-decoration-color: #7fbfbf\">[07/19/22 10:21:54] </span><span style=\"color: #000080; text-decoration-color: #000080\">INFO    </span> Got <span style=\"color: #008080; text-decoration-color: #008080; font-weight: bold\">41</span> units for FC_210716_AAA1110750_r6_hairpin    <a href=\"file://C:\\Users\\Federico\\Documents\\GitHub\\pysical_locomotion\\analysis\\ephys\\utils.py\" target=\"_blank\"><span style=\"color: #7f7f7f; text-decoration-color: #7f7f7f\">utils.py</span></a><span style=\"color: #7f7f7f; text-decoration-color: #7f7f7f\">:</span><a href=\"file://C:\\Users\\Federico\\Documents\\GitHub\\pysical_locomotion\\analysis\\ephys\\utils.py#189\" target=\"_blank\"><span style=\"color: #7f7f7f; text-decoration-color: #7f7f7f\">189</span></a>\n",
       "</pre>\n"
      ],
      "text/plain": [
       "\u001b[2;36m[07/19/22 10:21:54]\u001b[0m\u001b[2;36m \u001b[0m\u001b[34mINFO    \u001b[0m Got \u001b[1;36m41\u001b[0m units for FC_210716_AAA1110750_r6_hairpin    \u001b]8;id=686953;file://C:\\Users\\Federico\\Documents\\GitHub\\pysical_locomotion\\analysis\\ephys\\utils.py\u001b\\\u001b[2mutils.py\u001b[0m\u001b]8;;\u001b\\\u001b[2m:\u001b[0m\u001b]8;id=209654;file://C:\\Users\\Federico\\Documents\\GitHub\\pysical_locomotion\\analysis\\ephys\\utils.py#189\u001b\\\u001b[2m189\u001b[0m\u001b]8;;\u001b\\\n"
      ]
     },
     "metadata": {},
     "output_type": "display_data"
    },
    {
     "data": {
      "text/html": [
       "<pre style=\"white-space:pre;overflow-x:auto;line-height:normal;font-family:Menlo,'DejaVu Sans Mono',consolas,'Courier New',monospace\"><span style=\"color: #7fbfbf; text-decoration-color: #7fbfbf\">[07/19/22 10:22:39] </span><span style=\"color: #000080; text-decoration-color: #000080\">INFO    </span> Got <span style=\"color: #008080; text-decoration-color: #008080; font-weight: bold\">26</span> units for FC_210720_AAA1110750_hairpin       <a href=\"file://C:\\Users\\Federico\\Documents\\GitHub\\pysical_locomotion\\analysis\\ephys\\utils.py\" target=\"_blank\"><span style=\"color: #7f7f7f; text-decoration-color: #7f7f7f\">utils.py</span></a><span style=\"color: #7f7f7f; text-decoration-color: #7f7f7f\">:</span><a href=\"file://C:\\Users\\Federico\\Documents\\GitHub\\pysical_locomotion\\analysis\\ephys\\utils.py#189\" target=\"_blank\"><span style=\"color: #7f7f7f; text-decoration-color: #7f7f7f\">189</span></a>\n",
       "</pre>\n"
      ],
      "text/plain": [
       "\u001b[2;36m[07/19/22 10:22:39]\u001b[0m\u001b[2;36m \u001b[0m\u001b[34mINFO    \u001b[0m Got \u001b[1;36m26\u001b[0m units for FC_210720_AAA1110750_hairpin       \u001b]8;id=272477;file://C:\\Users\\Federico\\Documents\\GitHub\\pysical_locomotion\\analysis\\ephys\\utils.py\u001b\\\u001b[2mutils.py\u001b[0m\u001b]8;;\u001b\\\u001b[2m:\u001b[0m\u001b]8;id=353621;file://C:\\Users\\Federico\\Documents\\GitHub\\pysical_locomotion\\analysis\\ephys\\utils.py#189\u001b\\\u001b[2m189\u001b[0m\u001b]8;;\u001b\\\n"
      ]
     },
     "metadata": {},
     "output_type": "display_data"
    },
    {
     "data": {
      "text/html": [
       "<pre style=\"white-space:pre;overflow-x:auto;line-height:normal;font-family:Menlo,'DejaVu Sans Mono',consolas,'Courier New',monospace\"><span style=\"color: #7fbfbf; text-decoration-color: #7fbfbf\">[07/19/22 10:22:53] </span><span style=\"color: #000080; text-decoration-color: #000080\">INFO    </span> Got <span style=\"color: #008080; text-decoration-color: #008080; font-weight: bold\">0</span> units for FC_210721_AAA1110750_hairpin        <a href=\"file://C:\\Users\\Federico\\Documents\\GitHub\\pysical_locomotion\\analysis\\ephys\\utils.py\" target=\"_blank\"><span style=\"color: #7f7f7f; text-decoration-color: #7f7f7f\">utils.py</span></a><span style=\"color: #7f7f7f; text-decoration-color: #7f7f7f\">:</span><a href=\"file://C:\\Users\\Federico\\Documents\\GitHub\\pysical_locomotion\\analysis\\ephys\\utils.py#189\" target=\"_blank\"><span style=\"color: #7f7f7f; text-decoration-color: #7f7f7f\">189</span></a>\n",
       "</pre>\n"
      ],
      "text/plain": [
       "\u001b[2;36m[07/19/22 10:22:53]\u001b[0m\u001b[2;36m \u001b[0m\u001b[34mINFO    \u001b[0m Got \u001b[1;36m0\u001b[0m units for FC_210721_AAA1110750_hairpin        \u001b]8;id=872279;file://C:\\Users\\Federico\\Documents\\GitHub\\pysical_locomotion\\analysis\\ephys\\utils.py\u001b\\\u001b[2mutils.py\u001b[0m\u001b]8;;\u001b\\\u001b[2m:\u001b[0m\u001b]8;id=9203;file://C:\\Users\\Federico\\Documents\\GitHub\\pysical_locomotion\\analysis\\ephys\\utils.py#189\u001b\\\u001b[2m189\u001b[0m\u001b]8;;\u001b\\\n"
      ]
     },
     "metadata": {},
     "output_type": "display_data"
    },
    {
     "data": {
      "text/html": [
       "<pre style=\"white-space:pre;overflow-x:auto;line-height:normal;font-family:Menlo,'DejaVu Sans Mono',consolas,'Courier New',monospace\"><span style=\"color: #7fbfbf; text-decoration-color: #7fbfbf\">[07/19/22 10:23:06] </span><span style=\"color: #000080; text-decoration-color: #000080\">INFO    </span> Got <span style=\"color: #008080; text-decoration-color: #008080; font-weight: bold\">28</span> units for FC_210722_AAA1110750_hairpin       <a href=\"file://C:\\Users\\Federico\\Documents\\GitHub\\pysical_locomotion\\analysis\\ephys\\utils.py\" target=\"_blank\"><span style=\"color: #7f7f7f; text-decoration-color: #7f7f7f\">utils.py</span></a><span style=\"color: #7f7f7f; text-decoration-color: #7f7f7f\">:</span><a href=\"file://C:\\Users\\Federico\\Documents\\GitHub\\pysical_locomotion\\analysis\\ephys\\utils.py#189\" target=\"_blank\"><span style=\"color: #7f7f7f; text-decoration-color: #7f7f7f\">189</span></a>\n",
       "</pre>\n"
      ],
      "text/plain": [
       "\u001b[2;36m[07/19/22 10:23:06]\u001b[0m\u001b[2;36m \u001b[0m\u001b[34mINFO    \u001b[0m Got \u001b[1;36m28\u001b[0m units for FC_210722_AAA1110750_hairpin       \u001b]8;id=452538;file://C:\\Users\\Federico\\Documents\\GitHub\\pysical_locomotion\\analysis\\ephys\\utils.py\u001b\\\u001b[2mutils.py\u001b[0m\u001b]8;;\u001b\\\u001b[2m:\u001b[0m\u001b]8;id=108072;file://C:\\Users\\Federico\\Documents\\GitHub\\pysical_locomotion\\analysis\\ephys\\utils.py#189\u001b\\\u001b[2m189\u001b[0m\u001b]8;;\u001b\\\n"
      ]
     },
     "metadata": {},
     "output_type": "display_data"
    },
    {
     "data": {
      "text/html": [
       "<pre style=\"white-space:pre;overflow-x:auto;line-height:normal;font-family:Menlo,'DejaVu Sans Mono',consolas,'Courier New',monospace\"><span style=\"color: #7fbfbf; text-decoration-color: #7fbfbf\">[07/19/22 10:23:10] </span><span style=\"color: #000080; text-decoration-color: #000080\">INFO    </span> Got <span style=\"color: #008080; text-decoration-color: #008080; font-weight: bold\">28</span> units for FC_211022_BAA110516_hairpin        <a href=\"file://C:\\Users\\Federico\\Documents\\GitHub\\pysical_locomotion\\analysis\\ephys\\utils.py\" target=\"_blank\"><span style=\"color: #7f7f7f; text-decoration-color: #7f7f7f\">utils.py</span></a><span style=\"color: #7f7f7f; text-decoration-color: #7f7f7f\">:</span><a href=\"file://C:\\Users\\Federico\\Documents\\GitHub\\pysical_locomotion\\analysis\\ephys\\utils.py#189\" target=\"_blank\"><span style=\"color: #7f7f7f; text-decoration-color: #7f7f7f\">189</span></a>\n",
       "</pre>\n"
      ],
      "text/plain": [
       "\u001b[2;36m[07/19/22 10:23:10]\u001b[0m\u001b[2;36m \u001b[0m\u001b[34mINFO    \u001b[0m Got \u001b[1;36m28\u001b[0m units for FC_211022_BAA110516_hairpin        \u001b]8;id=509121;file://C:\\Users\\Federico\\Documents\\GitHub\\pysical_locomotion\\analysis\\ephys\\utils.py\u001b\\\u001b[2mutils.py\u001b[0m\u001b]8;;\u001b\\\u001b[2m:\u001b[0m\u001b]8;id=204963;file://C:\\Users\\Federico\\Documents\\GitHub\\pysical_locomotion\\analysis\\ephys\\utils.py#189\u001b\\\u001b[2m189\u001b[0m\u001b]8;;\u001b\\\n"
      ]
     },
     "metadata": {},
     "output_type": "display_data"
    },
    {
     "data": {
      "text/html": [
       "<pre style=\"white-space:pre;overflow-x:auto;line-height:normal;font-family:Menlo,'DejaVu Sans Mono',consolas,'Courier New',monospace\"><span style=\"color: #7fbfbf; text-decoration-color: #7fbfbf\">[07/19/22 10:24:11] </span><span style=\"color: #000080; text-decoration-color: #000080\">INFO    </span> Got <span style=\"color: #008080; text-decoration-color: #008080; font-weight: bold\">23</span> units for FC_211027_BAA110516_hairpin        <a href=\"file://C:\\Users\\Federico\\Documents\\GitHub\\pysical_locomotion\\analysis\\ephys\\utils.py\" target=\"_blank\"><span style=\"color: #7f7f7f; text-decoration-color: #7f7f7f\">utils.py</span></a><span style=\"color: #7f7f7f; text-decoration-color: #7f7f7f\">:</span><a href=\"file://C:\\Users\\Federico\\Documents\\GitHub\\pysical_locomotion\\analysis\\ephys\\utils.py#189\" target=\"_blank\"><span style=\"color: #7f7f7f; text-decoration-color: #7f7f7f\">189</span></a>\n",
       "</pre>\n"
      ],
      "text/plain": [
       "\u001b[2;36m[07/19/22 10:24:11]\u001b[0m\u001b[2;36m \u001b[0m\u001b[34mINFO    \u001b[0m Got \u001b[1;36m23\u001b[0m units for FC_211027_BAA110516_hairpin        \u001b]8;id=290633;file://C:\\Users\\Federico\\Documents\\GitHub\\pysical_locomotion\\analysis\\ephys\\utils.py\u001b\\\u001b[2mutils.py\u001b[0m\u001b]8;;\u001b\\\u001b[2m:\u001b[0m\u001b]8;id=109288;file://C:\\Users\\Federico\\Documents\\GitHub\\pysical_locomotion\\analysis\\ephys\\utils.py#189\u001b\\\u001b[2m189\u001b[0m\u001b]8;;\u001b\\\n"
      ]
     },
     "metadata": {},
     "output_type": "display_data"
    },
    {
     "data": {
      "text/html": [
       "<pre style=\"white-space:pre;overflow-x:auto;line-height:normal;font-family:Menlo,'DejaVu Sans Mono',consolas,'Courier New',monospace\"><span style=\"color: #7fbfbf; text-decoration-color: #7fbfbf\">[07/19/22 10:24:29] </span><span style=\"color: #000080; text-decoration-color: #000080\">INFO    </span> Got <span style=\"color: #008080; text-decoration-color: #008080; font-weight: bold\">52</span> units for FC_211214_BAA110517_hairpin        <a href=\"file://C:\\Users\\Federico\\Documents\\GitHub\\pysical_locomotion\\analysis\\ephys\\utils.py\" target=\"_blank\"><span style=\"color: #7f7f7f; text-decoration-color: #7f7f7f\">utils.py</span></a><span style=\"color: #7f7f7f; text-decoration-color: #7f7f7f\">:</span><a href=\"file://C:\\Users\\Federico\\Documents\\GitHub\\pysical_locomotion\\analysis\\ephys\\utils.py#189\" target=\"_blank\"><span style=\"color: #7f7f7f; text-decoration-color: #7f7f7f\">189</span></a>\n",
       "</pre>\n"
      ],
      "text/plain": [
       "\u001b[2;36m[07/19/22 10:24:29]\u001b[0m\u001b[2;36m \u001b[0m\u001b[34mINFO    \u001b[0m Got \u001b[1;36m52\u001b[0m units for FC_211214_BAA110517_hairpin        \u001b]8;id=532603;file://C:\\Users\\Federico\\Documents\\GitHub\\pysical_locomotion\\analysis\\ephys\\utils.py\u001b\\\u001b[2mutils.py\u001b[0m\u001b]8;;\u001b\\\u001b[2m:\u001b[0m\u001b]8;id=851591;file://C:\\Users\\Federico\\Documents\\GitHub\\pysical_locomotion\\analysis\\ephys\\utils.py#189\u001b\\\u001b[2m189\u001b[0m\u001b]8;;\u001b\\\n"
      ]
     },
     "metadata": {},
     "output_type": "display_data"
    },
    {
     "data": {
      "text/html": [
       "<pre style=\"white-space:pre;overflow-x:auto;line-height:normal;font-family:Menlo,'DejaVu Sans Mono',consolas,'Courier New',monospace\"><span style=\"color: #7fbfbf; text-decoration-color: #7fbfbf\">[07/19/22 10:24:49] </span><span style=\"color: #000080; text-decoration-color: #000080\">INFO    </span> Got <span style=\"color: #008080; text-decoration-color: #008080; font-weight: bold\">37</span> units for FC_220114_BAA110517_hairpin        <a href=\"file://C:\\Users\\Federico\\Documents\\GitHub\\pysical_locomotion\\analysis\\ephys\\utils.py\" target=\"_blank\"><span style=\"color: #7f7f7f; text-decoration-color: #7f7f7f\">utils.py</span></a><span style=\"color: #7f7f7f; text-decoration-color: #7f7f7f\">:</span><a href=\"file://C:\\Users\\Federico\\Documents\\GitHub\\pysical_locomotion\\analysis\\ephys\\utils.py#189\" target=\"_blank\"><span style=\"color: #7f7f7f; text-decoration-color: #7f7f7f\">189</span></a>\n",
       "</pre>\n"
      ],
      "text/plain": [
       "\u001b[2;36m[07/19/22 10:24:49]\u001b[0m\u001b[2;36m \u001b[0m\u001b[34mINFO    \u001b[0m Got \u001b[1;36m37\u001b[0m units for FC_220114_BAA110517_hairpin        \u001b]8;id=126970;file://C:\\Users\\Federico\\Documents\\GitHub\\pysical_locomotion\\analysis\\ephys\\utils.py\u001b\\\u001b[2mutils.py\u001b[0m\u001b]8;;\u001b\\\u001b[2m:\u001b[0m\u001b]8;id=360092;file://C:\\Users\\Federico\\Documents\\GitHub\\pysical_locomotion\\analysis\\ephys\\utils.py#189\u001b\\\u001b[2m189\u001b[0m\u001b]8;;\u001b\\\n"
      ]
     },
     "metadata": {},
     "output_type": "display_data"
    },
    {
     "data": {
      "text/html": [
       "<pre style=\"white-space:pre;overflow-x:auto;line-height:normal;font-family:Menlo,'DejaVu Sans Mono',consolas,'Courier New',monospace\"><span style=\"color: #7fbfbf; text-decoration-color: #7fbfbf\">[07/19/22 10:24:54] </span><span style=\"color: #000080; text-decoration-color: #000080\">INFO    </span> Got <span style=\"color: #008080; text-decoration-color: #008080; font-weight: bold\">41</span> units for FC_220117_BAA110517_hairpin        <a href=\"file://C:\\Users\\Federico\\Documents\\GitHub\\pysical_locomotion\\analysis\\ephys\\utils.py\" target=\"_blank\"><span style=\"color: #7f7f7f; text-decoration-color: #7f7f7f\">utils.py</span></a><span style=\"color: #7f7f7f; text-decoration-color: #7f7f7f\">:</span><a href=\"file://C:\\Users\\Federico\\Documents\\GitHub\\pysical_locomotion\\analysis\\ephys\\utils.py#189\" target=\"_blank\"><span style=\"color: #7f7f7f; text-decoration-color: #7f7f7f\">189</span></a>\n",
       "</pre>\n"
      ],
      "text/plain": [
       "\u001b[2;36m[07/19/22 10:24:54]\u001b[0m\u001b[2;36m \u001b[0m\u001b[34mINFO    \u001b[0m Got \u001b[1;36m41\u001b[0m units for FC_220117_BAA110517_hairpin        \u001b]8;id=105397;file://C:\\Users\\Federico\\Documents\\GitHub\\pysical_locomotion\\analysis\\ephys\\utils.py\u001b\\\u001b[2mutils.py\u001b[0m\u001b]8;;\u001b\\\u001b[2m:\u001b[0m\u001b]8;id=637615;file://C:\\Users\\Federico\\Documents\\GitHub\\pysical_locomotion\\analysis\\ephys\\utils.py#189\u001b\\\u001b[2m189\u001b[0m\u001b]8;;\u001b\\\n"
      ]
     },
     "metadata": {},
     "output_type": "display_data"
    },
    {
     "data": {
      "text/html": [
       "<pre style=\"white-space:pre;overflow-x:auto;line-height:normal;font-family:Menlo,'DejaVu Sans Mono',consolas,'Courier New',monospace\"><span style=\"color: #7fbfbf; text-decoration-color: #7fbfbf\">[07/19/22 10:24:59] </span><span style=\"color: #000080; text-decoration-color: #000080\">INFO    </span> Got <span style=\"color: #008080; text-decoration-color: #008080; font-weight: bold\">58</span> units for FC_220119_BAA110517_hairpin        <a href=\"file://C:\\Users\\Federico\\Documents\\GitHub\\pysical_locomotion\\analysis\\ephys\\utils.py\" target=\"_blank\"><span style=\"color: #7f7f7f; text-decoration-color: #7f7f7f\">utils.py</span></a><span style=\"color: #7f7f7f; text-decoration-color: #7f7f7f\">:</span><a href=\"file://C:\\Users\\Federico\\Documents\\GitHub\\pysical_locomotion\\analysis\\ephys\\utils.py#189\" target=\"_blank\"><span style=\"color: #7f7f7f; text-decoration-color: #7f7f7f\">189</span></a>\n",
       "</pre>\n"
      ],
      "text/plain": [
       "\u001b[2;36m[07/19/22 10:24:59]\u001b[0m\u001b[2;36m \u001b[0m\u001b[34mINFO    \u001b[0m Got \u001b[1;36m58\u001b[0m units for FC_220119_BAA110517_hairpin        \u001b]8;id=775108;file://C:\\Users\\Federico\\Documents\\GitHub\\pysical_locomotion\\analysis\\ephys\\utils.py\u001b\\\u001b[2mutils.py\u001b[0m\u001b]8;;\u001b\\\u001b[2m:\u001b[0m\u001b]8;id=354010;file://C:\\Users\\Federico\\Documents\\GitHub\\pysical_locomotion\\analysis\\ephys\\utils.py#189\u001b\\\u001b[2m189\u001b[0m\u001b]8;;\u001b\\\n"
      ]
     },
     "metadata": {},
     "output_type": "display_data"
    },
    {
     "data": {
      "text/html": [
       "<pre style=\"white-space:pre;overflow-x:auto;line-height:normal;font-family:Menlo,'DejaVu Sans Mono',consolas,'Courier New',monospace\"><span style=\"color: #7fbfbf; text-decoration-color: #7fbfbf\">[07/19/22 10:25:05] </span><span style=\"color: #000080; text-decoration-color: #000080\">INFO    </span> Got <span style=\"color: #008080; text-decoration-color: #008080; font-weight: bold\">56</span> units for FC_220120_BAA110517_hairpin        <a href=\"file://C:\\Users\\Federico\\Documents\\GitHub\\pysical_locomotion\\analysis\\ephys\\utils.py\" target=\"_blank\"><span style=\"color: #7f7f7f; text-decoration-color: #7f7f7f\">utils.py</span></a><span style=\"color: #7f7f7f; text-decoration-color: #7f7f7f\">:</span><a href=\"file://C:\\Users\\Federico\\Documents\\GitHub\\pysical_locomotion\\analysis\\ephys\\utils.py#189\" target=\"_blank\"><span style=\"color: #7f7f7f; text-decoration-color: #7f7f7f\">189</span></a>\n",
       "</pre>\n"
      ],
      "text/plain": [
       "\u001b[2;36m[07/19/22 10:25:05]\u001b[0m\u001b[2;36m \u001b[0m\u001b[34mINFO    \u001b[0m Got \u001b[1;36m56\u001b[0m units for FC_220120_BAA110517_hairpin        \u001b]8;id=650602;file://C:\\Users\\Federico\\Documents\\GitHub\\pysical_locomotion\\analysis\\ephys\\utils.py\u001b\\\u001b[2mutils.py\u001b[0m\u001b]8;;\u001b\\\u001b[2m:\u001b[0m\u001b]8;id=644857;file://C:\\Users\\Federico\\Documents\\GitHub\\pysical_locomotion\\analysis\\ephys\\utils.py#189\u001b\\\u001b[2m189\u001b[0m\u001b]8;;\u001b\\\n"
      ]
     },
     "metadata": {},
     "output_type": "display_data"
    },
    {
     "data": {
      "text/html": [
       "<pre style=\"white-space:pre;overflow-x:auto;line-height:normal;font-family:Menlo,'DejaVu Sans Mono',consolas,'Courier New',monospace\"><span style=\"color: #7fbfbf; text-decoration-color: #7fbfbf\">[07/19/22 10:25:17] </span><span style=\"color: #000080; text-decoration-color: #000080\">INFO    </span> Got <span style=\"color: #008080; text-decoration-color: #008080; font-weight: bold\">7</span> units for FC_210917_BAA1110279_hairpin        <a href=\"file://C:\\Users\\Federico\\Documents\\GitHub\\pysical_locomotion\\analysis\\ephys\\utils.py\" target=\"_blank\"><span style=\"color: #7f7f7f; text-decoration-color: #7f7f7f\">utils.py</span></a><span style=\"color: #7f7f7f; text-decoration-color: #7f7f7f\">:</span><a href=\"file://C:\\Users\\Federico\\Documents\\GitHub\\pysical_locomotion\\analysis\\ephys\\utils.py#189\" target=\"_blank\"><span style=\"color: #7f7f7f; text-decoration-color: #7f7f7f\">189</span></a>\n",
       "</pre>\n"
      ],
      "text/plain": [
       "\u001b[2;36m[07/19/22 10:25:17]\u001b[0m\u001b[2;36m \u001b[0m\u001b[34mINFO    \u001b[0m Got \u001b[1;36m7\u001b[0m units for FC_210917_BAA1110279_hairpin        \u001b]8;id=447811;file://C:\\Users\\Federico\\Documents\\GitHub\\pysical_locomotion\\analysis\\ephys\\utils.py\u001b\\\u001b[2mutils.py\u001b[0m\u001b]8;;\u001b\\\u001b[2m:\u001b[0m\u001b]8;id=219282;file://C:\\Users\\Federico\\Documents\\GitHub\\pysical_locomotion\\analysis\\ephys\\utils.py#189\u001b\\\u001b[2m189\u001b[0m\u001b]8;;\u001b\\\n"
      ]
     },
     "metadata": {},
     "output_type": "display_data"
    },
    {
     "data": {
      "text/html": [
       "<pre style=\"white-space:pre;overflow-x:auto;line-height:normal;font-family:Menlo,'DejaVu Sans Mono',consolas,'Courier New',monospace\"><span style=\"color: #7fbfbf; text-decoration-color: #7fbfbf\">[07/19/22 10:25:21] </span><span style=\"color: #000080; text-decoration-color: #000080\">INFO    </span> Got <span style=\"color: #008080; text-decoration-color: #008080; font-weight: bold\">83</span> units for FC_210820_BAA1110281_hairpin       <a href=\"file://C:\\Users\\Federico\\Documents\\GitHub\\pysical_locomotion\\analysis\\ephys\\utils.py\" target=\"_blank\"><span style=\"color: #7f7f7f; text-decoration-color: #7f7f7f\">utils.py</span></a><span style=\"color: #7f7f7f; text-decoration-color: #7f7f7f\">:</span><a href=\"file://C:\\Users\\Federico\\Documents\\GitHub\\pysical_locomotion\\analysis\\ephys\\utils.py#189\" target=\"_blank\"><span style=\"color: #7f7f7f; text-decoration-color: #7f7f7f\">189</span></a>\n",
       "</pre>\n"
      ],
      "text/plain": [
       "\u001b[2;36m[07/19/22 10:25:21]\u001b[0m\u001b[2;36m \u001b[0m\u001b[34mINFO    \u001b[0m Got \u001b[1;36m83\u001b[0m units for FC_210820_BAA1110281_hairpin       \u001b]8;id=765825;file://C:\\Users\\Federico\\Documents\\GitHub\\pysical_locomotion\\analysis\\ephys\\utils.py\u001b\\\u001b[2mutils.py\u001b[0m\u001b]8;;\u001b\\\u001b[2m:\u001b[0m\u001b]8;id=852135;file://C:\\Users\\Federico\\Documents\\GitHub\\pysical_locomotion\\analysis\\ephys\\utils.py#189\u001b\\\u001b[2m189\u001b[0m\u001b]8;;\u001b\\\n"
      ]
     },
     "metadata": {},
     "output_type": "display_data"
    },
    {
     "data": {
      "text/html": [
       "<pre style=\"white-space:pre;overflow-x:auto;line-height:normal;font-family:Menlo,'DejaVu Sans Mono',consolas,'Courier New',monospace\"><span style=\"color: #7fbfbf; text-decoration-color: #7fbfbf\">[07/19/22 10:25:25] </span><span style=\"color: #000080; text-decoration-color: #000080\">INFO    </span> Got <span style=\"color: #008080; text-decoration-color: #008080; font-weight: bold\">65</span> units for FC_210829_BAA1110281_hairpin       <a href=\"file://C:\\Users\\Federico\\Documents\\GitHub\\pysical_locomotion\\analysis\\ephys\\utils.py\" target=\"_blank\"><span style=\"color: #7f7f7f; text-decoration-color: #7f7f7f\">utils.py</span></a><span style=\"color: #7f7f7f; text-decoration-color: #7f7f7f\">:</span><a href=\"file://C:\\Users\\Federico\\Documents\\GitHub\\pysical_locomotion\\analysis\\ephys\\utils.py#189\" target=\"_blank\"><span style=\"color: #7f7f7f; text-decoration-color: #7f7f7f\">189</span></a>\n",
       "</pre>\n"
      ],
      "text/plain": [
       "\u001b[2;36m[07/19/22 10:25:25]\u001b[0m\u001b[2;36m \u001b[0m\u001b[34mINFO    \u001b[0m Got \u001b[1;36m65\u001b[0m units for FC_210829_BAA1110281_hairpin       \u001b]8;id=820644;file://C:\\Users\\Federico\\Documents\\GitHub\\pysical_locomotion\\analysis\\ephys\\utils.py\u001b\\\u001b[2mutils.py\u001b[0m\u001b]8;;\u001b\\\u001b[2m:\u001b[0m\u001b]8;id=265240;file://C:\\Users\\Federico\\Documents\\GitHub\\pysical_locomotion\\analysis\\ephys\\utils.py#189\u001b\\\u001b[2m189\u001b[0m\u001b]8;;\u001b\\\n"
      ]
     },
     "metadata": {},
     "output_type": "display_data"
    },
    {
     "data": {
      "text/html": [
       "<pre style=\"white-space:pre;overflow-x:auto;line-height:normal;font-family:Menlo,'DejaVu Sans Mono',consolas,'Courier New',monospace\"><span style=\"color: #7fbfbf; text-decoration-color: #7fbfbf\">[07/19/22 10:25:43] </span><span style=\"color: #000080; text-decoration-color: #000080\">INFO    </span> Got <span style=\"color: #008080; text-decoration-color: #008080; font-weight: bold\">50</span> units for FC_210830_BAA1110281_hairpin       <a href=\"file://C:\\Users\\Federico\\Documents\\GitHub\\pysical_locomotion\\analysis\\ephys\\utils.py\" target=\"_blank\"><span style=\"color: #7f7f7f; text-decoration-color: #7f7f7f\">utils.py</span></a><span style=\"color: #7f7f7f; text-decoration-color: #7f7f7f\">:</span><a href=\"file://C:\\Users\\Federico\\Documents\\GitHub\\pysical_locomotion\\analysis\\ephys\\utils.py#189\" target=\"_blank\"><span style=\"color: #7f7f7f; text-decoration-color: #7f7f7f\">189</span></a>\n",
       "</pre>\n"
      ],
      "text/plain": [
       "\u001b[2;36m[07/19/22 10:25:43]\u001b[0m\u001b[2;36m \u001b[0m\u001b[34mINFO    \u001b[0m Got \u001b[1;36m50\u001b[0m units for FC_210830_BAA1110281_hairpin       \u001b]8;id=254761;file://C:\\Users\\Federico\\Documents\\GitHub\\pysical_locomotion\\analysis\\ephys\\utils.py\u001b\\\u001b[2mutils.py\u001b[0m\u001b]8;;\u001b\\\u001b[2m:\u001b[0m\u001b]8;id=497173;file://C:\\Users\\Federico\\Documents\\GitHub\\pysical_locomotion\\analysis\\ephys\\utils.py#189\u001b\\\u001b[2m189\u001b[0m\u001b]8;;\u001b\\\n"
      ]
     },
     "metadata": {},
     "output_type": "display_data"
    },
    {
     "data": {
      "text/html": [
       "<pre style=\"white-space:pre;overflow-x:auto;line-height:normal;font-family:Menlo,'DejaVu Sans Mono',consolas,'Courier New',monospace\"><span style=\"color: #7fbfbf; text-decoration-color: #7fbfbf\">[07/19/22 10:26:08] </span><span style=\"color: #000080; text-decoration-color: #000080\">INFO    </span> Got <span style=\"color: #008080; text-decoration-color: #008080; font-weight: bold\">92</span> units for FC_210831_BAA1110281_hairpin       <a href=\"file://C:\\Users\\Federico\\Documents\\GitHub\\pysical_locomotion\\analysis\\ephys\\utils.py\" target=\"_blank\"><span style=\"color: #7f7f7f; text-decoration-color: #7f7f7f\">utils.py</span></a><span style=\"color: #7f7f7f; text-decoration-color: #7f7f7f\">:</span><a href=\"file://C:\\Users\\Federico\\Documents\\GitHub\\pysical_locomotion\\analysis\\ephys\\utils.py#189\" target=\"_blank\"><span style=\"color: #7f7f7f; text-decoration-color: #7f7f7f\">189</span></a>\n",
       "</pre>\n"
      ],
      "text/plain": [
       "\u001b[2;36m[07/19/22 10:26:08]\u001b[0m\u001b[2;36m \u001b[0m\u001b[34mINFO    \u001b[0m Got \u001b[1;36m92\u001b[0m units for FC_210831_BAA1110281_hairpin       \u001b]8;id=249137;file://C:\\Users\\Federico\\Documents\\GitHub\\pysical_locomotion\\analysis\\ephys\\utils.py\u001b\\\u001b[2mutils.py\u001b[0m\u001b]8;;\u001b\\\u001b[2m:\u001b[0m\u001b]8;id=53541;file://C:\\Users\\Federico\\Documents\\GitHub\\pysical_locomotion\\analysis\\ephys\\utils.py#189\u001b\\\u001b[2m189\u001b[0m\u001b]8;;\u001b\\\n"
      ]
     },
     "metadata": {},
     "output_type": "display_data"
    },
    {
     "data": {
      "text/html": [
       "<pre style=\"white-space:pre;overflow-x:auto;line-height:normal;font-family:Menlo,'DejaVu Sans Mono',consolas,'Courier New',monospace\"><span style=\"color: #7fbfbf; text-decoration-color: #7fbfbf\">[07/19/22 10:26:45] </span><span style=\"color: #000080; text-decoration-color: #000080\">INFO    </span> Got <span style=\"color: #008080; text-decoration-color: #008080; font-weight: bold\">0</span> units for FC_210901_BAA1110281_hairpin        <a href=\"file://C:\\Users\\Federico\\Documents\\GitHub\\pysical_locomotion\\analysis\\ephys\\utils.py\" target=\"_blank\"><span style=\"color: #7f7f7f; text-decoration-color: #7f7f7f\">utils.py</span></a><span style=\"color: #7f7f7f; text-decoration-color: #7f7f7f\">:</span><a href=\"file://C:\\Users\\Federico\\Documents\\GitHub\\pysical_locomotion\\analysis\\ephys\\utils.py#189\" target=\"_blank\"><span style=\"color: #7f7f7f; text-decoration-color: #7f7f7f\">189</span></a>\n",
       "</pre>\n"
      ],
      "text/plain": [
       "\u001b[2;36m[07/19/22 10:26:45]\u001b[0m\u001b[2;36m \u001b[0m\u001b[34mINFO    \u001b[0m Got \u001b[1;36m0\u001b[0m units for FC_210901_BAA1110281_hairpin        \u001b]8;id=632483;file://C:\\Users\\Federico\\Documents\\GitHub\\pysical_locomotion\\analysis\\ephys\\utils.py\u001b\\\u001b[2mutils.py\u001b[0m\u001b]8;;\u001b\\\u001b[2m:\u001b[0m\u001b]8;id=223009;file://C:\\Users\\Federico\\Documents\\GitHub\\pysical_locomotion\\analysis\\ephys\\utils.py#189\u001b\\\u001b[2m189\u001b[0m\u001b]8;;\u001b\\\n"
      ]
     },
     "metadata": {},
     "output_type": "display_data"
    },
    {
     "data": {
      "text/html": [
       "<pre style=\"white-space:pre;overflow-x:auto;line-height:normal;font-family:Menlo,'DejaVu Sans Mono',consolas,'Courier New',monospace\"><span style=\"color: #7fbfbf; text-decoration-color: #7fbfbf\">[07/19/22 10:27:02] </span><span style=\"color: #000080; text-decoration-color: #000080\">INFO    </span> Got <span style=\"color: #008080; text-decoration-color: #008080; font-weight: bold\">61</span> units for FC_210906_BAA1110281_hairpin       <a href=\"file://C:\\Users\\Federico\\Documents\\GitHub\\pysical_locomotion\\analysis\\ephys\\utils.py\" target=\"_blank\"><span style=\"color: #7f7f7f; text-decoration-color: #7f7f7f\">utils.py</span></a><span style=\"color: #7f7f7f; text-decoration-color: #7f7f7f\">:</span><a href=\"file://C:\\Users\\Federico\\Documents\\GitHub\\pysical_locomotion\\analysis\\ephys\\utils.py#189\" target=\"_blank\"><span style=\"color: #7f7f7f; text-decoration-color: #7f7f7f\">189</span></a>\n",
       "</pre>\n"
      ],
      "text/plain": [
       "\u001b[2;36m[07/19/22 10:27:02]\u001b[0m\u001b[2;36m \u001b[0m\u001b[34mINFO    \u001b[0m Got \u001b[1;36m61\u001b[0m units for FC_210906_BAA1110281_hairpin       \u001b]8;id=790389;file://C:\\Users\\Federico\\Documents\\GitHub\\pysical_locomotion\\analysis\\ephys\\utils.py\u001b\\\u001b[2mutils.py\u001b[0m\u001b]8;;\u001b\\\u001b[2m:\u001b[0m\u001b]8;id=592128;file://C:\\Users\\Federico\\Documents\\GitHub\\pysical_locomotion\\analysis\\ephys\\utils.py#189\u001b\\\u001b[2m189\u001b[0m\u001b]8;;\u001b\\\n"
      ]
     },
     "metadata": {},
     "output_type": "display_data"
    },
    {
     "data": {
      "text/html": [
       "<pre style=\"white-space:pre;overflow-x:auto;line-height:normal;font-family:Menlo,'DejaVu Sans Mono',consolas,'Courier New',monospace\"><span style=\"color: #7fbfbf; text-decoration-color: #7fbfbf\">[07/19/22 10:27:30] </span><span style=\"color: #000080; text-decoration-color: #000080\">INFO    </span> Got <span style=\"color: #008080; text-decoration-color: #008080; font-weight: bold\">25</span> units for FC_210917_BAA1110281_hairpin       <a href=\"file://C:\\Users\\Federico\\Documents\\GitHub\\pysical_locomotion\\analysis\\ephys\\utils.py\" target=\"_blank\"><span style=\"color: #7f7f7f; text-decoration-color: #7f7f7f\">utils.py</span></a><span style=\"color: #7f7f7f; text-decoration-color: #7f7f7f\">:</span><a href=\"file://C:\\Users\\Federico\\Documents\\GitHub\\pysical_locomotion\\analysis\\ephys\\utils.py#189\" target=\"_blank\"><span style=\"color: #7f7f7f; text-decoration-color: #7f7f7f\">189</span></a>\n",
       "</pre>\n"
      ],
      "text/plain": [
       "\u001b[2;36m[07/19/22 10:27:30]\u001b[0m\u001b[2;36m \u001b[0m\u001b[34mINFO    \u001b[0m Got \u001b[1;36m25\u001b[0m units for FC_210917_BAA1110281_hairpin       \u001b]8;id=663959;file://C:\\Users\\Federico\\Documents\\GitHub\\pysical_locomotion\\analysis\\ephys\\utils.py\u001b\\\u001b[2mutils.py\u001b[0m\u001b]8;;\u001b\\\u001b[2m:\u001b[0m\u001b]8;id=789630;file://C:\\Users\\Federico\\Documents\\GitHub\\pysical_locomotion\\analysis\\ephys\\utils.py#189\u001b\\\u001b[2m189\u001b[0m\u001b]8;;\u001b\\\n"
      ]
     },
     "metadata": {},
     "output_type": "display_data"
    },
    {
     "data": {
      "text/html": [
       "<pre style=\"white-space:pre;overflow-x:auto;line-height:normal;font-family:Menlo,'DejaVu Sans Mono',consolas,'Courier New',monospace\"></pre>\n"
      ],
      "text/plain": []
     },
     "metadata": {},
     "output_type": "display_data"
    },
    {
     "data": {
      "text/html": [
       "<pre style=\"white-space:pre;overflow-x:auto;line-height:normal;font-family:Menlo,'DejaVu Sans Mono',consolas,'Courier New',monospace\">\n",
       "</pre>\n"
      ],
      "text/plain": [
       "\n"
      ]
     },
     "metadata": {},
     "output_type": "display_data"
    }
   ],
   "source": [
    "alldata = {}\n",
    "for REC in track(get_recording_names(region=TARGET)):\n",
    "    # fetch recording data\n",
    "    \n",
    "    alldata[REC] =  get_data(REC)"
   ]
  },
  {
   "cell_type": "code",
   "execution_count": 5,
   "metadata": {},
   "outputs": [
    {
     "data": {
      "text/html": [
       "<pre style=\"white-space:pre;overflow-x:auto;line-height:normal;font-family:Menlo,'DejaVu Sans Mono',consolas,'Courier New',monospace\"><span style=\"color: #7fbfbf; text-decoration-color: #7fbfbf\">[07/19/22 10:27:38] </span><span style=\"color: #000080; text-decoration-color: #000080\">INFO    </span> Got <span style=\"color: #008080; text-decoration-color: #008080; font-weight: bold\">31</span> bouts for FC_210715_AAA1110750_r5_hairpin |  <a href=\"file://C:\\Users\\Federico\\Documents\\GitHub\\pysical_locomotion\\analysis\\ephys\\utils.py\" target=\"_blank\"><span style=\"color: #7f7f7f; text-decoration-color: #7f7f7f\">utils.py</span></a><span style=\"color: #7f7f7f; text-decoration-color: #7f7f7f\">:</span><a href=\"file://C:\\Users\\Federico\\Documents\\GitHub\\pysical_locomotion\\analysis\\ephys\\utils.py#244\" target=\"_blank\"><span style=\"color: #7f7f7f; text-decoration-color: #7f7f7f\">244</span></a>\n",
       "<span style=\"color: #7fbfbf; text-decoration-color: #7fbfbf\">                    </span>         <span style=\"color: #800080; text-decoration-color: #800080; font-style: italic\">None</span> | outbound                                     <span style=\"color: #7f7f7f; text-decoration-color: #7f7f7f\">            </span>\n",
       "</pre>\n"
      ],
      "text/plain": [
       "\u001b[2;36m[07/19/22 10:27:38]\u001b[0m\u001b[2;36m \u001b[0m\u001b[34mINFO    \u001b[0m Got \u001b[1;36m31\u001b[0m bouts for FC_210715_AAA1110750_r5_hairpin |  \u001b]8;id=365604;file://C:\\Users\\Federico\\Documents\\GitHub\\pysical_locomotion\\analysis\\ephys\\utils.py\u001b\\\u001b[2mutils.py\u001b[0m\u001b]8;;\u001b\\\u001b[2m:\u001b[0m\u001b]8;id=588610;file://C:\\Users\\Federico\\Documents\\GitHub\\pysical_locomotion\\analysis\\ephys\\utils.py#244\u001b\\\u001b[2m244\u001b[0m\u001b]8;;\u001b\\\n",
       "\u001b[2;36m                    \u001b[0m         \u001b[3;35mNone\u001b[0m | outbound                                     \u001b[2m            \u001b[0m\n"
      ]
     },
     "metadata": {},
     "output_type": "display_data"
    },
    {
     "data": {
      "text/html": [
       "<pre style=\"white-space:pre;overflow-x:auto;line-height:normal;font-family:Menlo,'DejaVu Sans Mono',consolas,'Courier New',monospace\"><span style=\"color: #7fbfbf; text-decoration-color: #7fbfbf\">[07/19/22 10:27:39] </span><span style=\"color: #000080; text-decoration-color: #000080\">INFO    </span> Got <span style=\"color: #008080; text-decoration-color: #008080; font-weight: bold\">29</span> bouts for FC_210715_AAA1110750_r5_hairpin |  <a href=\"file://C:\\Users\\Federico\\Documents\\GitHub\\pysical_locomotion\\analysis\\ephys\\utils.py\" target=\"_blank\"><span style=\"color: #7f7f7f; text-decoration-color: #7f7f7f\">utils.py</span></a><span style=\"color: #7f7f7f; text-decoration-color: #7f7f7f\">:</span><a href=\"file://C:\\Users\\Federico\\Documents\\GitHub\\pysical_locomotion\\analysis\\ephys\\utils.py#244\" target=\"_blank\"><span style=\"color: #7f7f7f; text-decoration-color: #7f7f7f\">244</span></a>\n",
       "<span style=\"color: #7fbfbf; text-decoration-color: #7fbfbf\">                    </span>         <span style=\"color: #800080; text-decoration-color: #800080; font-style: italic\">None</span> | inbound                                      <span style=\"color: #7f7f7f; text-decoration-color: #7f7f7f\">            </span>\n",
       "</pre>\n"
      ],
      "text/plain": [
       "\u001b[2;36m[07/19/22 10:27:39]\u001b[0m\u001b[2;36m \u001b[0m\u001b[34mINFO    \u001b[0m Got \u001b[1;36m29\u001b[0m bouts for FC_210715_AAA1110750_r5_hairpin |  \u001b]8;id=580627;file://C:\\Users\\Federico\\Documents\\GitHub\\pysical_locomotion\\analysis\\ephys\\utils.py\u001b\\\u001b[2mutils.py\u001b[0m\u001b]8;;\u001b\\\u001b[2m:\u001b[0m\u001b]8;id=456771;file://C:\\Users\\Federico\\Documents\\GitHub\\pysical_locomotion\\analysis\\ephys\\utils.py#244\u001b\\\u001b[2m244\u001b[0m\u001b]8;;\u001b\\\n",
       "\u001b[2;36m                    \u001b[0m         \u001b[3;35mNone\u001b[0m | inbound                                      \u001b[2m            \u001b[0m\n"
      ]
     },
     "metadata": {},
     "output_type": "display_data"
    },
    {
     "name": "stderr",
     "output_type": "stream",
     "text": [
      "c:\\Users\\Federico\\.conda\\envs\\glm\\lib\\site-packages\\fcutils\\maths\\signals.py:126: FutureWarning: The default dtype for empty Series will be 'object' instead of 'float64' in a future version. Specify a dtype explicitly to silence this warning.\n",
      "  X = pd.Series(X)\n"
     ]
    },
    {
     "data": {
      "text/html": [
       "<pre style=\"white-space:pre;overflow-x:auto;line-height:normal;font-family:Menlo,'DejaVu Sans Mono',consolas,'Courier New',monospace\"><span style=\"color: #7fbfbf; text-decoration-color: #7fbfbf\">[07/19/22 10:27:41] </span><span style=\"color: #000080; text-decoration-color: #000080\">INFO    </span> Got <span style=\"color: #008080; text-decoration-color: #008080; font-weight: bold\">26</span> bouts for FC_210716_AAA1110750_r6_hairpin |  <a href=\"file://C:\\Users\\Federico\\Documents\\GitHub\\pysical_locomotion\\analysis\\ephys\\utils.py\" target=\"_blank\"><span style=\"color: #7f7f7f; text-decoration-color: #7f7f7f\">utils.py</span></a><span style=\"color: #7f7f7f; text-decoration-color: #7f7f7f\">:</span><a href=\"file://C:\\Users\\Federico\\Documents\\GitHub\\pysical_locomotion\\analysis\\ephys\\utils.py#244\" target=\"_blank\"><span style=\"color: #7f7f7f; text-decoration-color: #7f7f7f\">244</span></a>\n",
       "<span style=\"color: #7fbfbf; text-decoration-color: #7fbfbf\">                    </span>         <span style=\"color: #800080; text-decoration-color: #800080; font-style: italic\">None</span> | outbound                                     <span style=\"color: #7f7f7f; text-decoration-color: #7f7f7f\">            </span>\n",
       "</pre>\n"
      ],
      "text/plain": [
       "\u001b[2;36m[07/19/22 10:27:41]\u001b[0m\u001b[2;36m \u001b[0m\u001b[34mINFO    \u001b[0m Got \u001b[1;36m26\u001b[0m bouts for FC_210716_AAA1110750_r6_hairpin |  \u001b]8;id=655536;file://C:\\Users\\Federico\\Documents\\GitHub\\pysical_locomotion\\analysis\\ephys\\utils.py\u001b\\\u001b[2mutils.py\u001b[0m\u001b]8;;\u001b\\\u001b[2m:\u001b[0m\u001b]8;id=140815;file://C:\\Users\\Federico\\Documents\\GitHub\\pysical_locomotion\\analysis\\ephys\\utils.py#244\u001b\\\u001b[2m244\u001b[0m\u001b]8;;\u001b\\\n",
       "\u001b[2;36m                    \u001b[0m         \u001b[3;35mNone\u001b[0m | outbound                                     \u001b[2m            \u001b[0m\n"
      ]
     },
     "metadata": {},
     "output_type": "display_data"
    },
    {
     "data": {
      "text/html": [
       "<pre style=\"white-space:pre;overflow-x:auto;line-height:normal;font-family:Menlo,'DejaVu Sans Mono',consolas,'Courier New',monospace\"><span style=\"color: #7fbfbf; text-decoration-color: #7fbfbf\">[07/19/22 10:27:42] </span><span style=\"color: #000080; text-decoration-color: #000080\">INFO    </span> Got <span style=\"color: #008080; text-decoration-color: #008080; font-weight: bold\">17</span> bouts for FC_210716_AAA1110750_r6_hairpin |  <a href=\"file://C:\\Users\\Federico\\Documents\\GitHub\\pysical_locomotion\\analysis\\ephys\\utils.py\" target=\"_blank\"><span style=\"color: #7f7f7f; text-decoration-color: #7f7f7f\">utils.py</span></a><span style=\"color: #7f7f7f; text-decoration-color: #7f7f7f\">:</span><a href=\"file://C:\\Users\\Federico\\Documents\\GitHub\\pysical_locomotion\\analysis\\ephys\\utils.py#244\" target=\"_blank\"><span style=\"color: #7f7f7f; text-decoration-color: #7f7f7f\">244</span></a>\n",
       "<span style=\"color: #7fbfbf; text-decoration-color: #7fbfbf\">                    </span>         <span style=\"color: #800080; text-decoration-color: #800080; font-style: italic\">None</span> | inbound                                      <span style=\"color: #7f7f7f; text-decoration-color: #7f7f7f\">            </span>\n",
       "</pre>\n"
      ],
      "text/plain": [
       "\u001b[2;36m[07/19/22 10:27:42]\u001b[0m\u001b[2;36m \u001b[0m\u001b[34mINFO    \u001b[0m Got \u001b[1;36m17\u001b[0m bouts for FC_210716_AAA1110750_r6_hairpin |  \u001b]8;id=444456;file://C:\\Users\\Federico\\Documents\\GitHub\\pysical_locomotion\\analysis\\ephys\\utils.py\u001b\\\u001b[2mutils.py\u001b[0m\u001b]8;;\u001b\\\u001b[2m:\u001b[0m\u001b]8;id=977560;file://C:\\Users\\Federico\\Documents\\GitHub\\pysical_locomotion\\analysis\\ephys\\utils.py#244\u001b\\\u001b[2m244\u001b[0m\u001b]8;;\u001b\\\n",
       "\u001b[2;36m                    \u001b[0m         \u001b[3;35mNone\u001b[0m | inbound                                      \u001b[2m            \u001b[0m\n"
      ]
     },
     "metadata": {},
     "output_type": "display_data"
    },
    {
     "name": "stderr",
     "output_type": "stream",
     "text": [
      "c:\\Users\\Federico\\.conda\\envs\\glm\\lib\\site-packages\\fcutils\\maths\\signals.py:126: FutureWarning: The default dtype for empty Series will be 'object' instead of 'float64' in a future version. Specify a dtype explicitly to silence this warning.\n",
      "  X = pd.Series(X)\n"
     ]
    },
    {
     "data": {
      "text/html": [
       "<pre style=\"white-space:pre;overflow-x:auto;line-height:normal;font-family:Menlo,'DejaVu Sans Mono',consolas,'Courier New',monospace\"><span style=\"color: #7fbfbf; text-decoration-color: #7fbfbf\">[07/19/22 10:27:44] </span><span style=\"color: #000080; text-decoration-color: #000080\">INFO    </span> Got <span style=\"color: #008080; text-decoration-color: #008080; font-weight: bold\">60</span> bouts for FC_210720_AAA1110750_hairpin |     <a href=\"file://C:\\Users\\Federico\\Documents\\GitHub\\pysical_locomotion\\analysis\\ephys\\utils.py\" target=\"_blank\"><span style=\"color: #7f7f7f; text-decoration-color: #7f7f7f\">utils.py</span></a><span style=\"color: #7f7f7f; text-decoration-color: #7f7f7f\">:</span><a href=\"file://C:\\Users\\Federico\\Documents\\GitHub\\pysical_locomotion\\analysis\\ephys\\utils.py#244\" target=\"_blank\"><span style=\"color: #7f7f7f; text-decoration-color: #7f7f7f\">244</span></a>\n",
       "<span style=\"color: #7fbfbf; text-decoration-color: #7fbfbf\">                    </span>         <span style=\"color: #800080; text-decoration-color: #800080; font-style: italic\">None</span> | outbound                                     <span style=\"color: #7f7f7f; text-decoration-color: #7f7f7f\">            </span>\n",
       "</pre>\n"
      ],
      "text/plain": [
       "\u001b[2;36m[07/19/22 10:27:44]\u001b[0m\u001b[2;36m \u001b[0m\u001b[34mINFO    \u001b[0m Got \u001b[1;36m60\u001b[0m bouts for FC_210720_AAA1110750_hairpin |     \u001b]8;id=107470;file://C:\\Users\\Federico\\Documents\\GitHub\\pysical_locomotion\\analysis\\ephys\\utils.py\u001b\\\u001b[2mutils.py\u001b[0m\u001b]8;;\u001b\\\u001b[2m:\u001b[0m\u001b]8;id=739057;file://C:\\Users\\Federico\\Documents\\GitHub\\pysical_locomotion\\analysis\\ephys\\utils.py#244\u001b\\\u001b[2m244\u001b[0m\u001b]8;;\u001b\\\n",
       "\u001b[2;36m                    \u001b[0m         \u001b[3;35mNone\u001b[0m | outbound                                     \u001b[2m            \u001b[0m\n"
      ]
     },
     "metadata": {},
     "output_type": "display_data"
    },
    {
     "data": {
      "text/html": [
       "<pre style=\"white-space:pre;overflow-x:auto;line-height:normal;font-family:Menlo,'DejaVu Sans Mono',consolas,'Courier New',monospace\"><span style=\"color: #7fbfbf; text-decoration-color: #7fbfbf\">[07/19/22 10:27:45] </span><span style=\"color: #000080; text-decoration-color: #000080\">INFO    </span> Got <span style=\"color: #008080; text-decoration-color: #008080; font-weight: bold\">59</span> bouts for FC_210720_AAA1110750_hairpin |     <a href=\"file://C:\\Users\\Federico\\Documents\\GitHub\\pysical_locomotion\\analysis\\ephys\\utils.py\" target=\"_blank\"><span style=\"color: #7f7f7f; text-decoration-color: #7f7f7f\">utils.py</span></a><span style=\"color: #7f7f7f; text-decoration-color: #7f7f7f\">:</span><a href=\"file://C:\\Users\\Federico\\Documents\\GitHub\\pysical_locomotion\\analysis\\ephys\\utils.py#244\" target=\"_blank\"><span style=\"color: #7f7f7f; text-decoration-color: #7f7f7f\">244</span></a>\n",
       "<span style=\"color: #7fbfbf; text-decoration-color: #7fbfbf\">                    </span>         <span style=\"color: #800080; text-decoration-color: #800080; font-style: italic\">None</span> | inbound                                      <span style=\"color: #7f7f7f; text-decoration-color: #7f7f7f\">            </span>\n",
       "</pre>\n"
      ],
      "text/plain": [
       "\u001b[2;36m[07/19/22 10:27:45]\u001b[0m\u001b[2;36m \u001b[0m\u001b[34mINFO    \u001b[0m Got \u001b[1;36m59\u001b[0m bouts for FC_210720_AAA1110750_hairpin |     \u001b]8;id=562736;file://C:\\Users\\Federico\\Documents\\GitHub\\pysical_locomotion\\analysis\\ephys\\utils.py\u001b\\\u001b[2mutils.py\u001b[0m\u001b]8;;\u001b\\\u001b[2m:\u001b[0m\u001b]8;id=752334;file://C:\\Users\\Federico\\Documents\\GitHub\\pysical_locomotion\\analysis\\ephys\\utils.py#244\u001b\\\u001b[2m244\u001b[0m\u001b]8;;\u001b\\\n",
       "\u001b[2;36m                    \u001b[0m         \u001b[3;35mNone\u001b[0m | inbound                                      \u001b[2m            \u001b[0m\n"
      ]
     },
     "metadata": {},
     "output_type": "display_data"
    },
    {
     "data": {
      "text/html": [
       "<pre style=\"white-space:pre;overflow-x:auto;line-height:normal;font-family:Menlo,'DejaVu Sans Mono',consolas,'Courier New',monospace\"><span style=\"color: #7fbfbf; text-decoration-color: #7fbfbf\">[07/19/22 10:27:46] </span><span style=\"color: #000080; text-decoration-color: #000080\">INFO    </span> Got <span style=\"color: #008080; text-decoration-color: #008080; font-weight: bold\">17</span> bouts for FC_210722_AAA1110750_hairpin |     <a href=\"file://C:\\Users\\Federico\\Documents\\GitHub\\pysical_locomotion\\analysis\\ephys\\utils.py\" target=\"_blank\"><span style=\"color: #7f7f7f; text-decoration-color: #7f7f7f\">utils.py</span></a><span style=\"color: #7f7f7f; text-decoration-color: #7f7f7f\">:</span><a href=\"file://C:\\Users\\Federico\\Documents\\GitHub\\pysical_locomotion\\analysis\\ephys\\utils.py#244\" target=\"_blank\"><span style=\"color: #7f7f7f; text-decoration-color: #7f7f7f\">244</span></a>\n",
       "<span style=\"color: #7fbfbf; text-decoration-color: #7fbfbf\">                    </span>         <span style=\"color: #800080; text-decoration-color: #800080; font-style: italic\">None</span> | outbound                                     <span style=\"color: #7f7f7f; text-decoration-color: #7f7f7f\">            </span>\n",
       "</pre>\n"
      ],
      "text/plain": [
       "\u001b[2;36m[07/19/22 10:27:46]\u001b[0m\u001b[2;36m \u001b[0m\u001b[34mINFO    \u001b[0m Got \u001b[1;36m17\u001b[0m bouts for FC_210722_AAA1110750_hairpin |     \u001b]8;id=930807;file://C:\\Users\\Federico\\Documents\\GitHub\\pysical_locomotion\\analysis\\ephys\\utils.py\u001b\\\u001b[2mutils.py\u001b[0m\u001b]8;;\u001b\\\u001b[2m:\u001b[0m\u001b]8;id=964553;file://C:\\Users\\Federico\\Documents\\GitHub\\pysical_locomotion\\analysis\\ephys\\utils.py#244\u001b\\\u001b[2m244\u001b[0m\u001b]8;;\u001b\\\n",
       "\u001b[2;36m                    \u001b[0m         \u001b[3;35mNone\u001b[0m | outbound                                     \u001b[2m            \u001b[0m\n"
      ]
     },
     "metadata": {},
     "output_type": "display_data"
    },
    {
     "data": {
      "text/html": [
       "<pre style=\"white-space:pre;overflow-x:auto;line-height:normal;font-family:Menlo,'DejaVu Sans Mono',consolas,'Courier New',monospace\"><span style=\"color: #7fbfbf; text-decoration-color: #7fbfbf\">[07/19/22 10:27:47] </span><span style=\"color: #000080; text-decoration-color: #000080\">INFO    </span> Got <span style=\"color: #008080; text-decoration-color: #008080; font-weight: bold\">22</span> bouts for FC_210722_AAA1110750_hairpin |     <a href=\"file://C:\\Users\\Federico\\Documents\\GitHub\\pysical_locomotion\\analysis\\ephys\\utils.py\" target=\"_blank\"><span style=\"color: #7f7f7f; text-decoration-color: #7f7f7f\">utils.py</span></a><span style=\"color: #7f7f7f; text-decoration-color: #7f7f7f\">:</span><a href=\"file://C:\\Users\\Federico\\Documents\\GitHub\\pysical_locomotion\\analysis\\ephys\\utils.py#244\" target=\"_blank\"><span style=\"color: #7f7f7f; text-decoration-color: #7f7f7f\">244</span></a>\n",
       "<span style=\"color: #7fbfbf; text-decoration-color: #7fbfbf\">                    </span>         <span style=\"color: #800080; text-decoration-color: #800080; font-style: italic\">None</span> | inbound                                      <span style=\"color: #7f7f7f; text-decoration-color: #7f7f7f\">            </span>\n",
       "</pre>\n"
      ],
      "text/plain": [
       "\u001b[2;36m[07/19/22 10:27:47]\u001b[0m\u001b[2;36m \u001b[0m\u001b[34mINFO    \u001b[0m Got \u001b[1;36m22\u001b[0m bouts for FC_210722_AAA1110750_hairpin |     \u001b]8;id=643504;file://C:\\Users\\Federico\\Documents\\GitHub\\pysical_locomotion\\analysis\\ephys\\utils.py\u001b\\\u001b[2mutils.py\u001b[0m\u001b]8;;\u001b\\\u001b[2m:\u001b[0m\u001b]8;id=778591;file://C:\\Users\\Federico\\Documents\\GitHub\\pysical_locomotion\\analysis\\ephys\\utils.py#244\u001b\\\u001b[2m244\u001b[0m\u001b]8;;\u001b\\\n",
       "\u001b[2;36m                    \u001b[0m         \u001b[3;35mNone\u001b[0m | inbound                                      \u001b[2m            \u001b[0m\n"
      ]
     },
     "metadata": {},
     "output_type": "display_data"
    },
    {
     "data": {
      "text/html": [
       "<pre style=\"white-space:pre;overflow-x:auto;line-height:normal;font-family:Menlo,'DejaVu Sans Mono',consolas,'Courier New',monospace\"><span style=\"color: #7fbfbf; text-decoration-color: #7fbfbf\">[07/19/22 10:27:48] </span><span style=\"color: #000080; text-decoration-color: #000080\">INFO    </span> Got <span style=\"color: #008080; text-decoration-color: #008080; font-weight: bold\">51</span> bouts for FC_211022_BAA110516_hairpin | <span style=\"color: #800080; text-decoration-color: #800080; font-style: italic\">None</span> <a href=\"file://C:\\Users\\Federico\\Documents\\GitHub\\pysical_locomotion\\analysis\\ephys\\utils.py\" target=\"_blank\"><span style=\"color: #7f7f7f; text-decoration-color: #7f7f7f\">utils.py</span></a><span style=\"color: #7f7f7f; text-decoration-color: #7f7f7f\">:</span><a href=\"file://C:\\Users\\Federico\\Documents\\GitHub\\pysical_locomotion\\analysis\\ephys\\utils.py#244\" target=\"_blank\"><span style=\"color: #7f7f7f; text-decoration-color: #7f7f7f\">244</span></a>\n",
       "<span style=\"color: #7fbfbf; text-decoration-color: #7fbfbf\">                    </span>         | outbound                                          <span style=\"color: #7f7f7f; text-decoration-color: #7f7f7f\">            </span>\n",
       "</pre>\n"
      ],
      "text/plain": [
       "\u001b[2;36m[07/19/22 10:27:48]\u001b[0m\u001b[2;36m \u001b[0m\u001b[34mINFO    \u001b[0m Got \u001b[1;36m51\u001b[0m bouts for FC_211022_BAA110516_hairpin | \u001b[3;35mNone\u001b[0m \u001b]8;id=72474;file://C:\\Users\\Federico\\Documents\\GitHub\\pysical_locomotion\\analysis\\ephys\\utils.py\u001b\\\u001b[2mutils.py\u001b[0m\u001b]8;;\u001b\\\u001b[2m:\u001b[0m\u001b]8;id=358536;file://C:\\Users\\Federico\\Documents\\GitHub\\pysical_locomotion\\analysis\\ephys\\utils.py#244\u001b\\\u001b[2m244\u001b[0m\u001b]8;;\u001b\\\n",
       "\u001b[2;36m                    \u001b[0m         | outbound                                          \u001b[2m            \u001b[0m\n"
      ]
     },
     "metadata": {},
     "output_type": "display_data"
    },
    {
     "data": {
      "text/html": [
       "<pre style=\"white-space:pre;overflow-x:auto;line-height:normal;font-family:Menlo,'DejaVu Sans Mono',consolas,'Courier New',monospace\"><span style=\"color: #7fbfbf; text-decoration-color: #7fbfbf\">[07/19/22 10:27:49] </span><span style=\"color: #000080; text-decoration-color: #000080\">INFO    </span> Got <span style=\"color: #008080; text-decoration-color: #008080; font-weight: bold\">40</span> bouts for FC_211022_BAA110516_hairpin | <span style=\"color: #800080; text-decoration-color: #800080; font-style: italic\">None</span> <a href=\"file://C:\\Users\\Federico\\Documents\\GitHub\\pysical_locomotion\\analysis\\ephys\\utils.py\" target=\"_blank\"><span style=\"color: #7f7f7f; text-decoration-color: #7f7f7f\">utils.py</span></a><span style=\"color: #7f7f7f; text-decoration-color: #7f7f7f\">:</span><a href=\"file://C:\\Users\\Federico\\Documents\\GitHub\\pysical_locomotion\\analysis\\ephys\\utils.py#244\" target=\"_blank\"><span style=\"color: #7f7f7f; text-decoration-color: #7f7f7f\">244</span></a>\n",
       "<span style=\"color: #7fbfbf; text-decoration-color: #7fbfbf\">                    </span>         | inbound                                           <span style=\"color: #7f7f7f; text-decoration-color: #7f7f7f\">            </span>\n",
       "</pre>\n"
      ],
      "text/plain": [
       "\u001b[2;36m[07/19/22 10:27:49]\u001b[0m\u001b[2;36m \u001b[0m\u001b[34mINFO    \u001b[0m Got \u001b[1;36m40\u001b[0m bouts for FC_211022_BAA110516_hairpin | \u001b[3;35mNone\u001b[0m \u001b]8;id=24116;file://C:\\Users\\Federico\\Documents\\GitHub\\pysical_locomotion\\analysis\\ephys\\utils.py\u001b\\\u001b[2mutils.py\u001b[0m\u001b]8;;\u001b\\\u001b[2m:\u001b[0m\u001b]8;id=237690;file://C:\\Users\\Federico\\Documents\\GitHub\\pysical_locomotion\\analysis\\ephys\\utils.py#244\u001b\\\u001b[2m244\u001b[0m\u001b]8;;\u001b\\\n",
       "\u001b[2;36m                    \u001b[0m         | inbound                                           \u001b[2m            \u001b[0m\n"
      ]
     },
     "metadata": {},
     "output_type": "display_data"
    },
    {
     "name": "stderr",
     "output_type": "stream",
     "text": [
      "c:\\Users\\Federico\\.conda\\envs\\glm\\lib\\site-packages\\fcutils\\maths\\signals.py:126: FutureWarning: The default dtype for empty Series will be 'object' instead of 'float64' in a future version. Specify a dtype explicitly to silence this warning.\n",
      "  X = pd.Series(X)\n"
     ]
    },
    {
     "data": {
      "text/html": [
       "<pre style=\"white-space:pre;overflow-x:auto;line-height:normal;font-family:Menlo,'DejaVu Sans Mono',consolas,'Courier New',monospace\"><span style=\"color: #7fbfbf; text-decoration-color: #7fbfbf\">[07/19/22 10:27:51] </span><span style=\"color: #000080; text-decoration-color: #000080\">INFO    </span> Got <span style=\"color: #008080; text-decoration-color: #008080; font-weight: bold\">43</span> bouts for FC_211027_BAA110516_hairpin | <span style=\"color: #800080; text-decoration-color: #800080; font-style: italic\">None</span> <a href=\"file://C:\\Users\\Federico\\Documents\\GitHub\\pysical_locomotion\\analysis\\ephys\\utils.py\" target=\"_blank\"><span style=\"color: #7f7f7f; text-decoration-color: #7f7f7f\">utils.py</span></a><span style=\"color: #7f7f7f; text-decoration-color: #7f7f7f\">:</span><a href=\"file://C:\\Users\\Federico\\Documents\\GitHub\\pysical_locomotion\\analysis\\ephys\\utils.py#244\" target=\"_blank\"><span style=\"color: #7f7f7f; text-decoration-color: #7f7f7f\">244</span></a>\n",
       "<span style=\"color: #7fbfbf; text-decoration-color: #7fbfbf\">                    </span>         | outbound                                          <span style=\"color: #7f7f7f; text-decoration-color: #7f7f7f\">            </span>\n",
       "</pre>\n"
      ],
      "text/plain": [
       "\u001b[2;36m[07/19/22 10:27:51]\u001b[0m\u001b[2;36m \u001b[0m\u001b[34mINFO    \u001b[0m Got \u001b[1;36m43\u001b[0m bouts for FC_211027_BAA110516_hairpin | \u001b[3;35mNone\u001b[0m \u001b]8;id=496439;file://C:\\Users\\Federico\\Documents\\GitHub\\pysical_locomotion\\analysis\\ephys\\utils.py\u001b\\\u001b[2mutils.py\u001b[0m\u001b]8;;\u001b\\\u001b[2m:\u001b[0m\u001b]8;id=809695;file://C:\\Users\\Federico\\Documents\\GitHub\\pysical_locomotion\\analysis\\ephys\\utils.py#244\u001b\\\u001b[2m244\u001b[0m\u001b]8;;\u001b\\\n",
       "\u001b[2;36m                    \u001b[0m         | outbound                                          \u001b[2m            \u001b[0m\n"
      ]
     },
     "metadata": {},
     "output_type": "display_data"
    },
    {
     "data": {
      "text/html": [
       "<pre style=\"white-space:pre;overflow-x:auto;line-height:normal;font-family:Menlo,'DejaVu Sans Mono',consolas,'Courier New',monospace\"><span style=\"color: #7fbfbf; text-decoration-color: #7fbfbf\">[07/19/22 10:27:52] </span><span style=\"color: #000080; text-decoration-color: #000080\">INFO    </span> Got <span style=\"color: #008080; text-decoration-color: #008080; font-weight: bold\">27</span> bouts for FC_211027_BAA110516_hairpin | <span style=\"color: #800080; text-decoration-color: #800080; font-style: italic\">None</span> <a href=\"file://C:\\Users\\Federico\\Documents\\GitHub\\pysical_locomotion\\analysis\\ephys\\utils.py\" target=\"_blank\"><span style=\"color: #7f7f7f; text-decoration-color: #7f7f7f\">utils.py</span></a><span style=\"color: #7f7f7f; text-decoration-color: #7f7f7f\">:</span><a href=\"file://C:\\Users\\Federico\\Documents\\GitHub\\pysical_locomotion\\analysis\\ephys\\utils.py#244\" target=\"_blank\"><span style=\"color: #7f7f7f; text-decoration-color: #7f7f7f\">244</span></a>\n",
       "<span style=\"color: #7fbfbf; text-decoration-color: #7fbfbf\">                    </span>         | inbound                                           <span style=\"color: #7f7f7f; text-decoration-color: #7f7f7f\">            </span>\n",
       "</pre>\n"
      ],
      "text/plain": [
       "\u001b[2;36m[07/19/22 10:27:52]\u001b[0m\u001b[2;36m \u001b[0m\u001b[34mINFO    \u001b[0m Got \u001b[1;36m27\u001b[0m bouts for FC_211027_BAA110516_hairpin | \u001b[3;35mNone\u001b[0m \u001b]8;id=48171;file://C:\\Users\\Federico\\Documents\\GitHub\\pysical_locomotion\\analysis\\ephys\\utils.py\u001b\\\u001b[2mutils.py\u001b[0m\u001b]8;;\u001b\\\u001b[2m:\u001b[0m\u001b]8;id=6044;file://C:\\Users\\Federico\\Documents\\GitHub\\pysical_locomotion\\analysis\\ephys\\utils.py#244\u001b\\\u001b[2m244\u001b[0m\u001b]8;;\u001b\\\n",
       "\u001b[2;36m                    \u001b[0m         | inbound                                           \u001b[2m            \u001b[0m\n"
      ]
     },
     "metadata": {},
     "output_type": "display_data"
    },
    {
     "data": {
      "text/html": [
       "<pre style=\"white-space:pre;overflow-x:auto;line-height:normal;font-family:Menlo,'DejaVu Sans Mono',consolas,'Courier New',monospace\"><span style=\"color: #7fbfbf; text-decoration-color: #7fbfbf\">[07/19/22 10:27:53] </span><span style=\"color: #000080; text-decoration-color: #000080\">INFO    </span> Got <span style=\"color: #008080; text-decoration-color: #008080; font-weight: bold\">38</span> bouts for FC_211214_BAA110517_hairpin | <span style=\"color: #800080; text-decoration-color: #800080; font-style: italic\">None</span> <a href=\"file://C:\\Users\\Federico\\Documents\\GitHub\\pysical_locomotion\\analysis\\ephys\\utils.py\" target=\"_blank\"><span style=\"color: #7f7f7f; text-decoration-color: #7f7f7f\">utils.py</span></a><span style=\"color: #7f7f7f; text-decoration-color: #7f7f7f\">:</span><a href=\"file://C:\\Users\\Federico\\Documents\\GitHub\\pysical_locomotion\\analysis\\ephys\\utils.py#244\" target=\"_blank\"><span style=\"color: #7f7f7f; text-decoration-color: #7f7f7f\">244</span></a>\n",
       "<span style=\"color: #7fbfbf; text-decoration-color: #7fbfbf\">                    </span>         | outbound                                          <span style=\"color: #7f7f7f; text-decoration-color: #7f7f7f\">            </span>\n",
       "</pre>\n"
      ],
      "text/plain": [
       "\u001b[2;36m[07/19/22 10:27:53]\u001b[0m\u001b[2;36m \u001b[0m\u001b[34mINFO    \u001b[0m Got \u001b[1;36m38\u001b[0m bouts for FC_211214_BAA110517_hairpin | \u001b[3;35mNone\u001b[0m \u001b]8;id=578580;file://C:\\Users\\Federico\\Documents\\GitHub\\pysical_locomotion\\analysis\\ephys\\utils.py\u001b\\\u001b[2mutils.py\u001b[0m\u001b]8;;\u001b\\\u001b[2m:\u001b[0m\u001b]8;id=720246;file://C:\\Users\\Federico\\Documents\\GitHub\\pysical_locomotion\\analysis\\ephys\\utils.py#244\u001b\\\u001b[2m244\u001b[0m\u001b]8;;\u001b\\\n",
       "\u001b[2;36m                    \u001b[0m         | outbound                                          \u001b[2m            \u001b[0m\n"
      ]
     },
     "metadata": {},
     "output_type": "display_data"
    },
    {
     "data": {
      "text/html": [
       "<pre style=\"white-space:pre;overflow-x:auto;line-height:normal;font-family:Menlo,'DejaVu Sans Mono',consolas,'Courier New',monospace\"><span style=\"color: #7fbfbf; text-decoration-color: #7fbfbf\">[07/19/22 10:27:54] </span><span style=\"color: #000080; text-decoration-color: #000080\">INFO    </span> Got <span style=\"color: #008080; text-decoration-color: #008080; font-weight: bold\">51</span> bouts for FC_211214_BAA110517_hairpin | <span style=\"color: #800080; text-decoration-color: #800080; font-style: italic\">None</span> <a href=\"file://C:\\Users\\Federico\\Documents\\GitHub\\pysical_locomotion\\analysis\\ephys\\utils.py\" target=\"_blank\"><span style=\"color: #7f7f7f; text-decoration-color: #7f7f7f\">utils.py</span></a><span style=\"color: #7f7f7f; text-decoration-color: #7f7f7f\">:</span><a href=\"file://C:\\Users\\Federico\\Documents\\GitHub\\pysical_locomotion\\analysis\\ephys\\utils.py#244\" target=\"_blank\"><span style=\"color: #7f7f7f; text-decoration-color: #7f7f7f\">244</span></a>\n",
       "<span style=\"color: #7fbfbf; text-decoration-color: #7fbfbf\">                    </span>         | inbound                                           <span style=\"color: #7f7f7f; text-decoration-color: #7f7f7f\">            </span>\n",
       "</pre>\n"
      ],
      "text/plain": [
       "\u001b[2;36m[07/19/22 10:27:54]\u001b[0m\u001b[2;36m \u001b[0m\u001b[34mINFO    \u001b[0m Got \u001b[1;36m51\u001b[0m bouts for FC_211214_BAA110517_hairpin | \u001b[3;35mNone\u001b[0m \u001b]8;id=798498;file://C:\\Users\\Federico\\Documents\\GitHub\\pysical_locomotion\\analysis\\ephys\\utils.py\u001b\\\u001b[2mutils.py\u001b[0m\u001b]8;;\u001b\\\u001b[2m:\u001b[0m\u001b]8;id=499349;file://C:\\Users\\Federico\\Documents\\GitHub\\pysical_locomotion\\analysis\\ephys\\utils.py#244\u001b\\\u001b[2m244\u001b[0m\u001b]8;;\u001b\\\n",
       "\u001b[2;36m                    \u001b[0m         | inbound                                           \u001b[2m            \u001b[0m\n"
      ]
     },
     "metadata": {},
     "output_type": "display_data"
    },
    {
     "data": {
      "text/html": [
       "<pre style=\"white-space:pre;overflow-x:auto;line-height:normal;font-family:Menlo,'DejaVu Sans Mono',consolas,'Courier New',monospace\"><span style=\"color: #7fbfbf; text-decoration-color: #7fbfbf\">[07/19/22 10:27:55] </span><span style=\"color: #000080; text-decoration-color: #000080\">INFO    </span> Got <span style=\"color: #008080; text-decoration-color: #008080; font-weight: bold\">23</span> bouts for FC_220114_BAA110517_hairpin | <span style=\"color: #800080; text-decoration-color: #800080; font-style: italic\">None</span> <a href=\"file://C:\\Users\\Federico\\Documents\\GitHub\\pysical_locomotion\\analysis\\ephys\\utils.py\" target=\"_blank\"><span style=\"color: #7f7f7f; text-decoration-color: #7f7f7f\">utils.py</span></a><span style=\"color: #7f7f7f; text-decoration-color: #7f7f7f\">:</span><a href=\"file://C:\\Users\\Federico\\Documents\\GitHub\\pysical_locomotion\\analysis\\ephys\\utils.py#244\" target=\"_blank\"><span style=\"color: #7f7f7f; text-decoration-color: #7f7f7f\">244</span></a>\n",
       "<span style=\"color: #7fbfbf; text-decoration-color: #7fbfbf\">                    </span>         | outbound                                          <span style=\"color: #7f7f7f; text-decoration-color: #7f7f7f\">            </span>\n",
       "</pre>\n"
      ],
      "text/plain": [
       "\u001b[2;36m[07/19/22 10:27:55]\u001b[0m\u001b[2;36m \u001b[0m\u001b[34mINFO    \u001b[0m Got \u001b[1;36m23\u001b[0m bouts for FC_220114_BAA110517_hairpin | \u001b[3;35mNone\u001b[0m \u001b]8;id=744768;file://C:\\Users\\Federico\\Documents\\GitHub\\pysical_locomotion\\analysis\\ephys\\utils.py\u001b\\\u001b[2mutils.py\u001b[0m\u001b]8;;\u001b\\\u001b[2m:\u001b[0m\u001b]8;id=125180;file://C:\\Users\\Federico\\Documents\\GitHub\\pysical_locomotion\\analysis\\ephys\\utils.py#244\u001b\\\u001b[2m244\u001b[0m\u001b]8;;\u001b\\\n",
       "\u001b[2;36m                    \u001b[0m         | outbound                                          \u001b[2m            \u001b[0m\n"
      ]
     },
     "metadata": {},
     "output_type": "display_data"
    },
    {
     "data": {
      "text/html": [
       "<pre style=\"white-space:pre;overflow-x:auto;line-height:normal;font-family:Menlo,'DejaVu Sans Mono',consolas,'Courier New',monospace\"><span style=\"color: #7fbfbf; text-decoration-color: #7fbfbf\">                    </span><span style=\"color: #000080; text-decoration-color: #000080\">INFO    </span> Got <span style=\"color: #008080; text-decoration-color: #008080; font-weight: bold\">17</span> bouts for FC_220114_BAA110517_hairpin | <span style=\"color: #800080; text-decoration-color: #800080; font-style: italic\">None</span> <a href=\"file://C:\\Users\\Federico\\Documents\\GitHub\\pysical_locomotion\\analysis\\ephys\\utils.py\" target=\"_blank\"><span style=\"color: #7f7f7f; text-decoration-color: #7f7f7f\">utils.py</span></a><span style=\"color: #7f7f7f; text-decoration-color: #7f7f7f\">:</span><a href=\"file://C:\\Users\\Federico\\Documents\\GitHub\\pysical_locomotion\\analysis\\ephys\\utils.py#244\" target=\"_blank\"><span style=\"color: #7f7f7f; text-decoration-color: #7f7f7f\">244</span></a>\n",
       "<span style=\"color: #7fbfbf; text-decoration-color: #7fbfbf\">                    </span>         | inbound                                           <span style=\"color: #7f7f7f; text-decoration-color: #7f7f7f\">            </span>\n",
       "</pre>\n"
      ],
      "text/plain": [
       "\u001b[2;36m                   \u001b[0m\u001b[2;36m \u001b[0m\u001b[34mINFO    \u001b[0m Got \u001b[1;36m17\u001b[0m bouts for FC_220114_BAA110517_hairpin | \u001b[3;35mNone\u001b[0m \u001b]8;id=257411;file://C:\\Users\\Federico\\Documents\\GitHub\\pysical_locomotion\\analysis\\ephys\\utils.py\u001b\\\u001b[2mutils.py\u001b[0m\u001b]8;;\u001b\\\u001b[2m:\u001b[0m\u001b]8;id=253455;file://C:\\Users\\Federico\\Documents\\GitHub\\pysical_locomotion\\analysis\\ephys\\utils.py#244\u001b\\\u001b[2m244\u001b[0m\u001b]8;;\u001b\\\n",
       "\u001b[2;36m                    \u001b[0m         | inbound                                           \u001b[2m            \u001b[0m\n"
      ]
     },
     "metadata": {},
     "output_type": "display_data"
    },
    {
     "data": {
      "text/html": [
       "<pre style=\"white-space:pre;overflow-x:auto;line-height:normal;font-family:Menlo,'DejaVu Sans Mono',consolas,'Courier New',monospace\"><span style=\"color: #7fbfbf; text-decoration-color: #7fbfbf\">[07/19/22 10:27:56] </span><span style=\"color: #000080; text-decoration-color: #000080\">INFO    </span> Got <span style=\"color: #008080; text-decoration-color: #008080; font-weight: bold\">9</span> bouts for FC_220117_BAA110517_hairpin | <span style=\"color: #800080; text-decoration-color: #800080; font-style: italic\">None</span>  <a href=\"file://C:\\Users\\Federico\\Documents\\GitHub\\pysical_locomotion\\analysis\\ephys\\utils.py\" target=\"_blank\"><span style=\"color: #7f7f7f; text-decoration-color: #7f7f7f\">utils.py</span></a><span style=\"color: #7f7f7f; text-decoration-color: #7f7f7f\">:</span><a href=\"file://C:\\Users\\Federico\\Documents\\GitHub\\pysical_locomotion\\analysis\\ephys\\utils.py#244\" target=\"_blank\"><span style=\"color: #7f7f7f; text-decoration-color: #7f7f7f\">244</span></a>\n",
       "<span style=\"color: #7fbfbf; text-decoration-color: #7fbfbf\">                    </span>         | outbound                                          <span style=\"color: #7f7f7f; text-decoration-color: #7f7f7f\">            </span>\n",
       "</pre>\n"
      ],
      "text/plain": [
       "\u001b[2;36m[07/19/22 10:27:56]\u001b[0m\u001b[2;36m \u001b[0m\u001b[34mINFO    \u001b[0m Got \u001b[1;36m9\u001b[0m bouts for FC_220117_BAA110517_hairpin | \u001b[3;35mNone\u001b[0m  \u001b]8;id=750188;file://C:\\Users\\Federico\\Documents\\GitHub\\pysical_locomotion\\analysis\\ephys\\utils.py\u001b\\\u001b[2mutils.py\u001b[0m\u001b]8;;\u001b\\\u001b[2m:\u001b[0m\u001b]8;id=409113;file://C:\\Users\\Federico\\Documents\\GitHub\\pysical_locomotion\\analysis\\ephys\\utils.py#244\u001b\\\u001b[2m244\u001b[0m\u001b]8;;\u001b\\\n",
       "\u001b[2;36m                    \u001b[0m         | outbound                                          \u001b[2m            \u001b[0m\n"
      ]
     },
     "metadata": {},
     "output_type": "display_data"
    },
    {
     "data": {
      "text/html": [
       "<pre style=\"white-space:pre;overflow-x:auto;line-height:normal;font-family:Menlo,'DejaVu Sans Mono',consolas,'Courier New',monospace\"><span style=\"color: #7fbfbf; text-decoration-color: #7fbfbf\">                    </span><span style=\"color: #000080; text-decoration-color: #000080\">INFO    </span> Got <span style=\"color: #008080; text-decoration-color: #008080; font-weight: bold\">4</span> bouts for FC_220117_BAA110517_hairpin | <span style=\"color: #800080; text-decoration-color: #800080; font-style: italic\">None</span>  <a href=\"file://C:\\Users\\Federico\\Documents\\GitHub\\pysical_locomotion\\analysis\\ephys\\utils.py\" target=\"_blank\"><span style=\"color: #7f7f7f; text-decoration-color: #7f7f7f\">utils.py</span></a><span style=\"color: #7f7f7f; text-decoration-color: #7f7f7f\">:</span><a href=\"file://C:\\Users\\Federico\\Documents\\GitHub\\pysical_locomotion\\analysis\\ephys\\utils.py#244\" target=\"_blank\"><span style=\"color: #7f7f7f; text-decoration-color: #7f7f7f\">244</span></a>\n",
       "<span style=\"color: #7fbfbf; text-decoration-color: #7fbfbf\">                    </span>         | inbound                                           <span style=\"color: #7f7f7f; text-decoration-color: #7f7f7f\">            </span>\n",
       "</pre>\n"
      ],
      "text/plain": [
       "\u001b[2;36m                   \u001b[0m\u001b[2;36m \u001b[0m\u001b[34mINFO    \u001b[0m Got \u001b[1;36m4\u001b[0m bouts for FC_220117_BAA110517_hairpin | \u001b[3;35mNone\u001b[0m  \u001b]8;id=86456;file://C:\\Users\\Federico\\Documents\\GitHub\\pysical_locomotion\\analysis\\ephys\\utils.py\u001b\\\u001b[2mutils.py\u001b[0m\u001b]8;;\u001b\\\u001b[2m:\u001b[0m\u001b]8;id=57932;file://C:\\Users\\Federico\\Documents\\GitHub\\pysical_locomotion\\analysis\\ephys\\utils.py#244\u001b\\\u001b[2m244\u001b[0m\u001b]8;;\u001b\\\n",
       "\u001b[2;36m                    \u001b[0m         | inbound                                           \u001b[2m            \u001b[0m\n"
      ]
     },
     "metadata": {},
     "output_type": "display_data"
    },
    {
     "name": "stderr",
     "output_type": "stream",
     "text": [
      "c:\\Users\\Federico\\.conda\\envs\\glm\\lib\\site-packages\\fcutils\\maths\\signals.py:126: FutureWarning: The default dtype for empty Series will be 'object' instead of 'float64' in a future version. Specify a dtype explicitly to silence this warning.\n",
      "  X = pd.Series(X)\n"
     ]
    },
    {
     "data": {
      "text/html": [
       "<pre style=\"white-space:pre;overflow-x:auto;line-height:normal;font-family:Menlo,'DejaVu Sans Mono',consolas,'Courier New',monospace\"><span style=\"color: #7fbfbf; text-decoration-color: #7fbfbf\">                    </span><span style=\"color: #000080; text-decoration-color: #000080\">INFO    </span> Got <span style=\"color: #008080; text-decoration-color: #008080; font-weight: bold\">15</span> bouts for FC_220119_BAA110517_hairpin | <span style=\"color: #800080; text-decoration-color: #800080; font-style: italic\">None</span> <a href=\"file://C:\\Users\\Federico\\Documents\\GitHub\\pysical_locomotion\\analysis\\ephys\\utils.py\" target=\"_blank\"><span style=\"color: #7f7f7f; text-decoration-color: #7f7f7f\">utils.py</span></a><span style=\"color: #7f7f7f; text-decoration-color: #7f7f7f\">:</span><a href=\"file://C:\\Users\\Federico\\Documents\\GitHub\\pysical_locomotion\\analysis\\ephys\\utils.py#244\" target=\"_blank\"><span style=\"color: #7f7f7f; text-decoration-color: #7f7f7f\">244</span></a>\n",
       "<span style=\"color: #7fbfbf; text-decoration-color: #7fbfbf\">                    </span>         | outbound                                          <span style=\"color: #7f7f7f; text-decoration-color: #7f7f7f\">            </span>\n",
       "</pre>\n"
      ],
      "text/plain": [
       "\u001b[2;36m                   \u001b[0m\u001b[2;36m \u001b[0m\u001b[34mINFO    \u001b[0m Got \u001b[1;36m15\u001b[0m bouts for FC_220119_BAA110517_hairpin | \u001b[3;35mNone\u001b[0m \u001b]8;id=6519;file://C:\\Users\\Federico\\Documents\\GitHub\\pysical_locomotion\\analysis\\ephys\\utils.py\u001b\\\u001b[2mutils.py\u001b[0m\u001b]8;;\u001b\\\u001b[2m:\u001b[0m\u001b]8;id=877880;file://C:\\Users\\Federico\\Documents\\GitHub\\pysical_locomotion\\analysis\\ephys\\utils.py#244\u001b\\\u001b[2m244\u001b[0m\u001b]8;;\u001b\\\n",
       "\u001b[2;36m                    \u001b[0m         | outbound                                          \u001b[2m            \u001b[0m\n"
      ]
     },
     "metadata": {},
     "output_type": "display_data"
    },
    {
     "data": {
      "text/html": [
       "<pre style=\"white-space:pre;overflow-x:auto;line-height:normal;font-family:Menlo,'DejaVu Sans Mono',consolas,'Courier New',monospace\"><span style=\"color: #7fbfbf; text-decoration-color: #7fbfbf\">                    </span><span style=\"color: #000080; text-decoration-color: #000080\">INFO    </span> Got <span style=\"color: #008080; text-decoration-color: #008080; font-weight: bold\">5</span> bouts for FC_220119_BAA110517_hairpin | <span style=\"color: #800080; text-decoration-color: #800080; font-style: italic\">None</span>  <a href=\"file://C:\\Users\\Federico\\Documents\\GitHub\\pysical_locomotion\\analysis\\ephys\\utils.py\" target=\"_blank\"><span style=\"color: #7f7f7f; text-decoration-color: #7f7f7f\">utils.py</span></a><span style=\"color: #7f7f7f; text-decoration-color: #7f7f7f\">:</span><a href=\"file://C:\\Users\\Federico\\Documents\\GitHub\\pysical_locomotion\\analysis\\ephys\\utils.py#244\" target=\"_blank\"><span style=\"color: #7f7f7f; text-decoration-color: #7f7f7f\">244</span></a>\n",
       "<span style=\"color: #7fbfbf; text-decoration-color: #7fbfbf\">                    </span>         | inbound                                           <span style=\"color: #7f7f7f; text-decoration-color: #7f7f7f\">            </span>\n",
       "</pre>\n"
      ],
      "text/plain": [
       "\u001b[2;36m                   \u001b[0m\u001b[2;36m \u001b[0m\u001b[34mINFO    \u001b[0m Got \u001b[1;36m5\u001b[0m bouts for FC_220119_BAA110517_hairpin | \u001b[3;35mNone\u001b[0m  \u001b]8;id=259486;file://C:\\Users\\Federico\\Documents\\GitHub\\pysical_locomotion\\analysis\\ephys\\utils.py\u001b\\\u001b[2mutils.py\u001b[0m\u001b]8;;\u001b\\\u001b[2m:\u001b[0m\u001b]8;id=224524;file://C:\\Users\\Federico\\Documents\\GitHub\\pysical_locomotion\\analysis\\ephys\\utils.py#244\u001b\\\u001b[2m244\u001b[0m\u001b]8;;\u001b\\\n",
       "\u001b[2;36m                    \u001b[0m         | inbound                                           \u001b[2m            \u001b[0m\n"
      ]
     },
     "metadata": {},
     "output_type": "display_data"
    },
    {
     "name": "stderr",
     "output_type": "stream",
     "text": [
      "c:\\Users\\Federico\\.conda\\envs\\glm\\lib\\site-packages\\fcutils\\maths\\signals.py:126: FutureWarning: The default dtype for empty Series will be 'object' instead of 'float64' in a future version. Specify a dtype explicitly to silence this warning.\n",
      "  X = pd.Series(X)\n"
     ]
    },
    {
     "data": {
      "text/html": [
       "<pre style=\"white-space:pre;overflow-x:auto;line-height:normal;font-family:Menlo,'DejaVu Sans Mono',consolas,'Courier New',monospace\"><span style=\"color: #7fbfbf; text-decoration-color: #7fbfbf\">[07/19/22 10:27:57] </span><span style=\"color: #000080; text-decoration-color: #000080\">INFO    </span> Got <span style=\"color: #008080; text-decoration-color: #008080; font-weight: bold\">7</span> bouts for FC_220120_BAA110517_hairpin | <span style=\"color: #800080; text-decoration-color: #800080; font-style: italic\">None</span>  <a href=\"file://C:\\Users\\Federico\\Documents\\GitHub\\pysical_locomotion\\analysis\\ephys\\utils.py\" target=\"_blank\"><span style=\"color: #7f7f7f; text-decoration-color: #7f7f7f\">utils.py</span></a><span style=\"color: #7f7f7f; text-decoration-color: #7f7f7f\">:</span><a href=\"file://C:\\Users\\Federico\\Documents\\GitHub\\pysical_locomotion\\analysis\\ephys\\utils.py#244\" target=\"_blank\"><span style=\"color: #7f7f7f; text-decoration-color: #7f7f7f\">244</span></a>\n",
       "<span style=\"color: #7fbfbf; text-decoration-color: #7fbfbf\">                    </span>         | outbound                                          <span style=\"color: #7f7f7f; text-decoration-color: #7f7f7f\">            </span>\n",
       "</pre>\n"
      ],
      "text/plain": [
       "\u001b[2;36m[07/19/22 10:27:57]\u001b[0m\u001b[2;36m \u001b[0m\u001b[34mINFO    \u001b[0m Got \u001b[1;36m7\u001b[0m bouts for FC_220120_BAA110517_hairpin | \u001b[3;35mNone\u001b[0m  \u001b]8;id=28648;file://C:\\Users\\Federico\\Documents\\GitHub\\pysical_locomotion\\analysis\\ephys\\utils.py\u001b\\\u001b[2mutils.py\u001b[0m\u001b]8;;\u001b\\\u001b[2m:\u001b[0m\u001b]8;id=950820;file://C:\\Users\\Federico\\Documents\\GitHub\\pysical_locomotion\\analysis\\ephys\\utils.py#244\u001b\\\u001b[2m244\u001b[0m\u001b]8;;\u001b\\\n",
       "\u001b[2;36m                    \u001b[0m         | outbound                                          \u001b[2m            \u001b[0m\n"
      ]
     },
     "metadata": {},
     "output_type": "display_data"
    },
    {
     "data": {
      "text/html": [
       "<pre style=\"white-space:pre;overflow-x:auto;line-height:normal;font-family:Menlo,'DejaVu Sans Mono',consolas,'Courier New',monospace\"><span style=\"color: #7fbfbf; text-decoration-color: #7fbfbf\">[07/19/22 10:27:58] </span><span style=\"color: #000080; text-decoration-color: #000080\">INFO    </span> Got <span style=\"color: #008080; text-decoration-color: #008080; font-weight: bold\">14</span> bouts for FC_220120_BAA110517_hairpin | <span style=\"color: #800080; text-decoration-color: #800080; font-style: italic\">None</span> <a href=\"file://C:\\Users\\Federico\\Documents\\GitHub\\pysical_locomotion\\analysis\\ephys\\utils.py\" target=\"_blank\"><span style=\"color: #7f7f7f; text-decoration-color: #7f7f7f\">utils.py</span></a><span style=\"color: #7f7f7f; text-decoration-color: #7f7f7f\">:</span><a href=\"file://C:\\Users\\Federico\\Documents\\GitHub\\pysical_locomotion\\analysis\\ephys\\utils.py#244\" target=\"_blank\"><span style=\"color: #7f7f7f; text-decoration-color: #7f7f7f\">244</span></a>\n",
       "<span style=\"color: #7fbfbf; text-decoration-color: #7fbfbf\">                    </span>         | inbound                                           <span style=\"color: #7f7f7f; text-decoration-color: #7f7f7f\">            </span>\n",
       "</pre>\n"
      ],
      "text/plain": [
       "\u001b[2;36m[07/19/22 10:27:58]\u001b[0m\u001b[2;36m \u001b[0m\u001b[34mINFO    \u001b[0m Got \u001b[1;36m14\u001b[0m bouts for FC_220120_BAA110517_hairpin | \u001b[3;35mNone\u001b[0m \u001b]8;id=603763;file://C:\\Users\\Federico\\Documents\\GitHub\\pysical_locomotion\\analysis\\ephys\\utils.py\u001b\\\u001b[2mutils.py\u001b[0m\u001b]8;;\u001b\\\u001b[2m:\u001b[0m\u001b]8;id=216862;file://C:\\Users\\Federico\\Documents\\GitHub\\pysical_locomotion\\analysis\\ephys\\utils.py#244\u001b\\\u001b[2m244\u001b[0m\u001b]8;;\u001b\\\n",
       "\u001b[2;36m                    \u001b[0m         | inbound                                           \u001b[2m            \u001b[0m\n"
      ]
     },
     "metadata": {},
     "output_type": "display_data"
    },
    {
     "name": "stderr",
     "output_type": "stream",
     "text": [
      "c:\\Users\\Federico\\.conda\\envs\\glm\\lib\\site-packages\\fcutils\\maths\\signals.py:126: FutureWarning: The default dtype for empty Series will be 'object' instead of 'float64' in a future version. Specify a dtype explicitly to silence this warning.\n",
      "  X = pd.Series(X)\n"
     ]
    },
    {
     "data": {
      "text/html": [
       "<pre style=\"white-space:pre;overflow-x:auto;line-height:normal;font-family:Menlo,'DejaVu Sans Mono',consolas,'Courier New',monospace\"><span style=\"color: #7fbfbf; text-decoration-color: #7fbfbf\">                    </span><span style=\"color: #000080; text-decoration-color: #000080\">INFO    </span> Got <span style=\"color: #008080; text-decoration-color: #008080; font-weight: bold\">19</span> bouts for FC_210917_BAA1110279_hairpin |     <a href=\"file://C:\\Users\\Federico\\Documents\\GitHub\\pysical_locomotion\\analysis\\ephys\\utils.py\" target=\"_blank\"><span style=\"color: #7f7f7f; text-decoration-color: #7f7f7f\">utils.py</span></a><span style=\"color: #7f7f7f; text-decoration-color: #7f7f7f\">:</span><a href=\"file://C:\\Users\\Federico\\Documents\\GitHub\\pysical_locomotion\\analysis\\ephys\\utils.py#244\" target=\"_blank\"><span style=\"color: #7f7f7f; text-decoration-color: #7f7f7f\">244</span></a>\n",
       "<span style=\"color: #7fbfbf; text-decoration-color: #7fbfbf\">                    </span>         <span style=\"color: #800080; text-decoration-color: #800080; font-style: italic\">None</span> | outbound                                     <span style=\"color: #7f7f7f; text-decoration-color: #7f7f7f\">            </span>\n",
       "</pre>\n"
      ],
      "text/plain": [
       "\u001b[2;36m                   \u001b[0m\u001b[2;36m \u001b[0m\u001b[34mINFO    \u001b[0m Got \u001b[1;36m19\u001b[0m bouts for FC_210917_BAA1110279_hairpin |     \u001b]8;id=847554;file://C:\\Users\\Federico\\Documents\\GitHub\\pysical_locomotion\\analysis\\ephys\\utils.py\u001b\\\u001b[2mutils.py\u001b[0m\u001b]8;;\u001b\\\u001b[2m:\u001b[0m\u001b]8;id=38828;file://C:\\Users\\Federico\\Documents\\GitHub\\pysical_locomotion\\analysis\\ephys\\utils.py#244\u001b\\\u001b[2m244\u001b[0m\u001b]8;;\u001b\\\n",
       "\u001b[2;36m                    \u001b[0m         \u001b[3;35mNone\u001b[0m | outbound                                     \u001b[2m            \u001b[0m\n"
      ]
     },
     "metadata": {},
     "output_type": "display_data"
    },
    {
     "data": {
      "text/html": [
       "<pre style=\"white-space:pre;overflow-x:auto;line-height:normal;font-family:Menlo,'DejaVu Sans Mono',consolas,'Courier New',monospace\"><span style=\"color: #7fbfbf; text-decoration-color: #7fbfbf\">                    </span><span style=\"color: #000080; text-decoration-color: #000080\">INFO    </span> Got <span style=\"color: #008080; text-decoration-color: #008080; font-weight: bold\">7</span> bouts for FC_210917_BAA1110279_hairpin | <span style=\"color: #800080; text-decoration-color: #800080; font-style: italic\">None</span> <a href=\"file://C:\\Users\\Federico\\Documents\\GitHub\\pysical_locomotion\\analysis\\ephys\\utils.py\" target=\"_blank\"><span style=\"color: #7f7f7f; text-decoration-color: #7f7f7f\">utils.py</span></a><span style=\"color: #7f7f7f; text-decoration-color: #7f7f7f\">:</span><a href=\"file://C:\\Users\\Federico\\Documents\\GitHub\\pysical_locomotion\\analysis\\ephys\\utils.py#244\" target=\"_blank\"><span style=\"color: #7f7f7f; text-decoration-color: #7f7f7f\">244</span></a>\n",
       "<span style=\"color: #7fbfbf; text-decoration-color: #7fbfbf\">                    </span>         | inbound                                           <span style=\"color: #7f7f7f; text-decoration-color: #7f7f7f\">            </span>\n",
       "</pre>\n"
      ],
      "text/plain": [
       "\u001b[2;36m                   \u001b[0m\u001b[2;36m \u001b[0m\u001b[34mINFO    \u001b[0m Got \u001b[1;36m7\u001b[0m bouts for FC_210917_BAA1110279_hairpin | \u001b[3;35mNone\u001b[0m \u001b]8;id=24824;file://C:\\Users\\Federico\\Documents\\GitHub\\pysical_locomotion\\analysis\\ephys\\utils.py\u001b\\\u001b[2mutils.py\u001b[0m\u001b]8;;\u001b\\\u001b[2m:\u001b[0m\u001b]8;id=422569;file://C:\\Users\\Federico\\Documents\\GitHub\\pysical_locomotion\\analysis\\ephys\\utils.py#244\u001b\\\u001b[2m244\u001b[0m\u001b]8;;\u001b\\\n",
       "\u001b[2;36m                    \u001b[0m         | inbound                                           \u001b[2m            \u001b[0m\n"
      ]
     },
     "metadata": {},
     "output_type": "display_data"
    },
    {
     "data": {
      "text/html": [
       "<pre style=\"white-space:pre;overflow-x:auto;line-height:normal;font-family:Menlo,'DejaVu Sans Mono',consolas,'Courier New',monospace\"><span style=\"color: #7fbfbf; text-decoration-color: #7fbfbf\">                    </span><span style=\"color: #000080; text-decoration-color: #000080\">INFO    </span> Got <span style=\"color: #008080; text-decoration-color: #008080; font-weight: bold\">4</span> bouts for FC_210820_BAA1110281_hairpin | <span style=\"color: #800080; text-decoration-color: #800080; font-style: italic\">None</span> <a href=\"file://C:\\Users\\Federico\\Documents\\GitHub\\pysical_locomotion\\analysis\\ephys\\utils.py\" target=\"_blank\"><span style=\"color: #7f7f7f; text-decoration-color: #7f7f7f\">utils.py</span></a><span style=\"color: #7f7f7f; text-decoration-color: #7f7f7f\">:</span><a href=\"file://C:\\Users\\Federico\\Documents\\GitHub\\pysical_locomotion\\analysis\\ephys\\utils.py#244\" target=\"_blank\"><span style=\"color: #7f7f7f; text-decoration-color: #7f7f7f\">244</span></a>\n",
       "<span style=\"color: #7fbfbf; text-decoration-color: #7fbfbf\">                    </span>         | outbound                                          <span style=\"color: #7f7f7f; text-decoration-color: #7f7f7f\">            </span>\n",
       "</pre>\n"
      ],
      "text/plain": [
       "\u001b[2;36m                   \u001b[0m\u001b[2;36m \u001b[0m\u001b[34mINFO    \u001b[0m Got \u001b[1;36m4\u001b[0m bouts for FC_210820_BAA1110281_hairpin | \u001b[3;35mNone\u001b[0m \u001b]8;id=696237;file://C:\\Users\\Federico\\Documents\\GitHub\\pysical_locomotion\\analysis\\ephys\\utils.py\u001b\\\u001b[2mutils.py\u001b[0m\u001b]8;;\u001b\\\u001b[2m:\u001b[0m\u001b]8;id=156228;file://C:\\Users\\Federico\\Documents\\GitHub\\pysical_locomotion\\analysis\\ephys\\utils.py#244\u001b\\\u001b[2m244\u001b[0m\u001b]8;;\u001b\\\n",
       "\u001b[2;36m                    \u001b[0m         | outbound                                          \u001b[2m            \u001b[0m\n"
      ]
     },
     "metadata": {},
     "output_type": "display_data"
    },
    {
     "data": {
      "text/html": [
       "<pre style=\"white-space:pre;overflow-x:auto;line-height:normal;font-family:Menlo,'DejaVu Sans Mono',consolas,'Courier New',monospace\"><span style=\"color: #7fbfbf; text-decoration-color: #7fbfbf\">                    </span><span style=\"color: #000080; text-decoration-color: #000080\">INFO    </span> Got <span style=\"color: #008080; text-decoration-color: #008080; font-weight: bold\">1</span> bouts for FC_210820_BAA1110281_hairpin | <span style=\"color: #800080; text-decoration-color: #800080; font-style: italic\">None</span> <a href=\"file://C:\\Users\\Federico\\Documents\\GitHub\\pysical_locomotion\\analysis\\ephys\\utils.py\" target=\"_blank\"><span style=\"color: #7f7f7f; text-decoration-color: #7f7f7f\">utils.py</span></a><span style=\"color: #7f7f7f; text-decoration-color: #7f7f7f\">:</span><a href=\"file://C:\\Users\\Federico\\Documents\\GitHub\\pysical_locomotion\\analysis\\ephys\\utils.py#244\" target=\"_blank\"><span style=\"color: #7f7f7f; text-decoration-color: #7f7f7f\">244</span></a>\n",
       "<span style=\"color: #7fbfbf; text-decoration-color: #7fbfbf\">                    </span>         | inbound                                           <span style=\"color: #7f7f7f; text-decoration-color: #7f7f7f\">            </span>\n",
       "</pre>\n"
      ],
      "text/plain": [
       "\u001b[2;36m                   \u001b[0m\u001b[2;36m \u001b[0m\u001b[34mINFO    \u001b[0m Got \u001b[1;36m1\u001b[0m bouts for FC_210820_BAA1110281_hairpin | \u001b[3;35mNone\u001b[0m \u001b]8;id=231500;file://C:\\Users\\Federico\\Documents\\GitHub\\pysical_locomotion\\analysis\\ephys\\utils.py\u001b\\\u001b[2mutils.py\u001b[0m\u001b]8;;\u001b\\\u001b[2m:\u001b[0m\u001b]8;id=873816;file://C:\\Users\\Federico\\Documents\\GitHub\\pysical_locomotion\\analysis\\ephys\\utils.py#244\u001b\\\u001b[2m244\u001b[0m\u001b]8;;\u001b\\\n",
       "\u001b[2;36m                    \u001b[0m         | inbound                                           \u001b[2m            \u001b[0m\n"
      ]
     },
     "metadata": {},
     "output_type": "display_data"
    },
    {
     "name": "stderr",
     "output_type": "stream",
     "text": [
      "c:\\Users\\Federico\\.conda\\envs\\glm\\lib\\site-packages\\fcutils\\maths\\signals.py:126: FutureWarning: The default dtype for empty Series will be 'object' instead of 'float64' in a future version. Specify a dtype explicitly to silence this warning.\n",
      "  X = pd.Series(X)\n"
     ]
    },
    {
     "data": {
      "text/html": [
       "<pre style=\"white-space:pre;overflow-x:auto;line-height:normal;font-family:Menlo,'DejaVu Sans Mono',consolas,'Courier New',monospace\"><span style=\"color: #7fbfbf; text-decoration-color: #7fbfbf\">[07/19/22 10:27:59] </span><span style=\"color: #000080; text-decoration-color: #000080\">INFO    </span> Got <span style=\"color: #008080; text-decoration-color: #008080; font-weight: bold\">9</span> bouts for FC_210829_BAA1110281_hairpin | <span style=\"color: #800080; text-decoration-color: #800080; font-style: italic\">None</span> <a href=\"file://C:\\Users\\Federico\\Documents\\GitHub\\pysical_locomotion\\analysis\\ephys\\utils.py\" target=\"_blank\"><span style=\"color: #7f7f7f; text-decoration-color: #7f7f7f\">utils.py</span></a><span style=\"color: #7f7f7f; text-decoration-color: #7f7f7f\">:</span><a href=\"file://C:\\Users\\Federico\\Documents\\GitHub\\pysical_locomotion\\analysis\\ephys\\utils.py#244\" target=\"_blank\"><span style=\"color: #7f7f7f; text-decoration-color: #7f7f7f\">244</span></a>\n",
       "<span style=\"color: #7fbfbf; text-decoration-color: #7fbfbf\">                    </span>         | outbound                                          <span style=\"color: #7f7f7f; text-decoration-color: #7f7f7f\">            </span>\n",
       "</pre>\n"
      ],
      "text/plain": [
       "\u001b[2;36m[07/19/22 10:27:59]\u001b[0m\u001b[2;36m \u001b[0m\u001b[34mINFO    \u001b[0m Got \u001b[1;36m9\u001b[0m bouts for FC_210829_BAA1110281_hairpin | \u001b[3;35mNone\u001b[0m \u001b]8;id=48914;file://C:\\Users\\Federico\\Documents\\GitHub\\pysical_locomotion\\analysis\\ephys\\utils.py\u001b\\\u001b[2mutils.py\u001b[0m\u001b]8;;\u001b\\\u001b[2m:\u001b[0m\u001b]8;id=604883;file://C:\\Users\\Federico\\Documents\\GitHub\\pysical_locomotion\\analysis\\ephys\\utils.py#244\u001b\\\u001b[2m244\u001b[0m\u001b]8;;\u001b\\\n",
       "\u001b[2;36m                    \u001b[0m         | outbound                                          \u001b[2m            \u001b[0m\n"
      ]
     },
     "metadata": {},
     "output_type": "display_data"
    },
    {
     "data": {
      "text/html": [
       "<pre style=\"white-space:pre;overflow-x:auto;line-height:normal;font-family:Menlo,'DejaVu Sans Mono',consolas,'Courier New',monospace\"><span style=\"color: #7fbfbf; text-decoration-color: #7fbfbf\">                    </span><span style=\"color: #000080; text-decoration-color: #000080\">INFO    </span> Got <span style=\"color: #008080; text-decoration-color: #008080; font-weight: bold\">3</span> bouts for FC_210829_BAA1110281_hairpin | <span style=\"color: #800080; text-decoration-color: #800080; font-style: italic\">None</span> <a href=\"file://C:\\Users\\Federico\\Documents\\GitHub\\pysical_locomotion\\analysis\\ephys\\utils.py\" target=\"_blank\"><span style=\"color: #7f7f7f; text-decoration-color: #7f7f7f\">utils.py</span></a><span style=\"color: #7f7f7f; text-decoration-color: #7f7f7f\">:</span><a href=\"file://C:\\Users\\Federico\\Documents\\GitHub\\pysical_locomotion\\analysis\\ephys\\utils.py#244\" target=\"_blank\"><span style=\"color: #7f7f7f; text-decoration-color: #7f7f7f\">244</span></a>\n",
       "<span style=\"color: #7fbfbf; text-decoration-color: #7fbfbf\">                    </span>         | inbound                                           <span style=\"color: #7f7f7f; text-decoration-color: #7f7f7f\">            </span>\n",
       "</pre>\n"
      ],
      "text/plain": [
       "\u001b[2;36m                   \u001b[0m\u001b[2;36m \u001b[0m\u001b[34mINFO    \u001b[0m Got \u001b[1;36m3\u001b[0m bouts for FC_210829_BAA1110281_hairpin | \u001b[3;35mNone\u001b[0m \u001b]8;id=92358;file://C:\\Users\\Federico\\Documents\\GitHub\\pysical_locomotion\\analysis\\ephys\\utils.py\u001b\\\u001b[2mutils.py\u001b[0m\u001b]8;;\u001b\\\u001b[2m:\u001b[0m\u001b]8;id=581202;file://C:\\Users\\Federico\\Documents\\GitHub\\pysical_locomotion\\analysis\\ephys\\utils.py#244\u001b\\\u001b[2m244\u001b[0m\u001b]8;;\u001b\\\n",
       "\u001b[2;36m                    \u001b[0m         | inbound                                           \u001b[2m            \u001b[0m\n"
      ]
     },
     "metadata": {},
     "output_type": "display_data"
    },
    {
     "name": "stderr",
     "output_type": "stream",
     "text": [
      "c:\\Users\\Federico\\.conda\\envs\\glm\\lib\\site-packages\\fcutils\\maths\\signals.py:126: FutureWarning: The default dtype for empty Series will be 'object' instead of 'float64' in a future version. Specify a dtype explicitly to silence this warning.\n",
      "  X = pd.Series(X)\n"
     ]
    },
    {
     "data": {
      "text/html": [
       "<pre style=\"white-space:pre;overflow-x:auto;line-height:normal;font-family:Menlo,'DejaVu Sans Mono',consolas,'Courier New',monospace\"><span style=\"color: #7fbfbf; text-decoration-color: #7fbfbf\">[07/19/22 10:28:00] </span><span style=\"color: #000080; text-decoration-color: #000080\">INFO    </span> Got <span style=\"color: #008080; text-decoration-color: #008080; font-weight: bold\">63</span> bouts for FC_210830_BAA1110281_hairpin |     <a href=\"file://C:\\Users\\Federico\\Documents\\GitHub\\pysical_locomotion\\analysis\\ephys\\utils.py\" target=\"_blank\"><span style=\"color: #7f7f7f; text-decoration-color: #7f7f7f\">utils.py</span></a><span style=\"color: #7f7f7f; text-decoration-color: #7f7f7f\">:</span><a href=\"file://C:\\Users\\Federico\\Documents\\GitHub\\pysical_locomotion\\analysis\\ephys\\utils.py#244\" target=\"_blank\"><span style=\"color: #7f7f7f; text-decoration-color: #7f7f7f\">244</span></a>\n",
       "<span style=\"color: #7fbfbf; text-decoration-color: #7fbfbf\">                    </span>         <span style=\"color: #800080; text-decoration-color: #800080; font-style: italic\">None</span> | outbound                                     <span style=\"color: #7f7f7f; text-decoration-color: #7f7f7f\">            </span>\n",
       "</pre>\n"
      ],
      "text/plain": [
       "\u001b[2;36m[07/19/22 10:28:00]\u001b[0m\u001b[2;36m \u001b[0m\u001b[34mINFO    \u001b[0m Got \u001b[1;36m63\u001b[0m bouts for FC_210830_BAA1110281_hairpin |     \u001b]8;id=892712;file://C:\\Users\\Federico\\Documents\\GitHub\\pysical_locomotion\\analysis\\ephys\\utils.py\u001b\\\u001b[2mutils.py\u001b[0m\u001b]8;;\u001b\\\u001b[2m:\u001b[0m\u001b]8;id=490896;file://C:\\Users\\Federico\\Documents\\GitHub\\pysical_locomotion\\analysis\\ephys\\utils.py#244\u001b\\\u001b[2m244\u001b[0m\u001b]8;;\u001b\\\n",
       "\u001b[2;36m                    \u001b[0m         \u001b[3;35mNone\u001b[0m | outbound                                     \u001b[2m            \u001b[0m\n"
      ]
     },
     "metadata": {},
     "output_type": "display_data"
    },
    {
     "data": {
      "text/html": [
       "<pre style=\"white-space:pre;overflow-x:auto;line-height:normal;font-family:Menlo,'DejaVu Sans Mono',consolas,'Courier New',monospace\"><span style=\"color: #7fbfbf; text-decoration-color: #7fbfbf\">[07/19/22 10:28:01] </span><span style=\"color: #000080; text-decoration-color: #000080\">INFO    </span> Got <span style=\"color: #008080; text-decoration-color: #008080; font-weight: bold\">35</span> bouts for FC_210830_BAA1110281_hairpin |     <a href=\"file://C:\\Users\\Federico\\Documents\\GitHub\\pysical_locomotion\\analysis\\ephys\\utils.py\" target=\"_blank\"><span style=\"color: #7f7f7f; text-decoration-color: #7f7f7f\">utils.py</span></a><span style=\"color: #7f7f7f; text-decoration-color: #7f7f7f\">:</span><a href=\"file://C:\\Users\\Federico\\Documents\\GitHub\\pysical_locomotion\\analysis\\ephys\\utils.py#244\" target=\"_blank\"><span style=\"color: #7f7f7f; text-decoration-color: #7f7f7f\">244</span></a>\n",
       "<span style=\"color: #7fbfbf; text-decoration-color: #7fbfbf\">                    </span>         <span style=\"color: #800080; text-decoration-color: #800080; font-style: italic\">None</span> | inbound                                      <span style=\"color: #7f7f7f; text-decoration-color: #7f7f7f\">            </span>\n",
       "</pre>\n"
      ],
      "text/plain": [
       "\u001b[2;36m[07/19/22 10:28:01]\u001b[0m\u001b[2;36m \u001b[0m\u001b[34mINFO    \u001b[0m Got \u001b[1;36m35\u001b[0m bouts for FC_210830_BAA1110281_hairpin |     \u001b]8;id=63425;file://C:\\Users\\Federico\\Documents\\GitHub\\pysical_locomotion\\analysis\\ephys\\utils.py\u001b\\\u001b[2mutils.py\u001b[0m\u001b]8;;\u001b\\\u001b[2m:\u001b[0m\u001b]8;id=171678;file://C:\\Users\\Federico\\Documents\\GitHub\\pysical_locomotion\\analysis\\ephys\\utils.py#244\u001b\\\u001b[2m244\u001b[0m\u001b]8;;\u001b\\\n",
       "\u001b[2;36m                    \u001b[0m         \u001b[3;35mNone\u001b[0m | inbound                                      \u001b[2m            \u001b[0m\n"
      ]
     },
     "metadata": {},
     "output_type": "display_data"
    },
    {
     "name": "stderr",
     "output_type": "stream",
     "text": [
      "c:\\Users\\Federico\\.conda\\envs\\glm\\lib\\site-packages\\fcutils\\maths\\signals.py:126: FutureWarning: The default dtype for empty Series will be 'object' instead of 'float64' in a future version. Specify a dtype explicitly to silence this warning.\n",
      "  X = pd.Series(X)\n"
     ]
    },
    {
     "data": {
      "text/html": [
       "<pre style=\"white-space:pre;overflow-x:auto;line-height:normal;font-family:Menlo,'DejaVu Sans Mono',consolas,'Courier New',monospace\"><span style=\"color: #7fbfbf; text-decoration-color: #7fbfbf\">[07/19/22 10:28:04] </span><span style=\"color: #000080; text-decoration-color: #000080\">INFO    </span> Got <span style=\"color: #008080; text-decoration-color: #008080; font-weight: bold\">54</span> bouts for FC_210831_BAA1110281_hairpin |     <a href=\"file://C:\\Users\\Federico\\Documents\\GitHub\\pysical_locomotion\\analysis\\ephys\\utils.py\" target=\"_blank\"><span style=\"color: #7f7f7f; text-decoration-color: #7f7f7f\">utils.py</span></a><span style=\"color: #7f7f7f; text-decoration-color: #7f7f7f\">:</span><a href=\"file://C:\\Users\\Federico\\Documents\\GitHub\\pysical_locomotion\\analysis\\ephys\\utils.py#244\" target=\"_blank\"><span style=\"color: #7f7f7f; text-decoration-color: #7f7f7f\">244</span></a>\n",
       "<span style=\"color: #7fbfbf; text-decoration-color: #7fbfbf\">                    </span>         <span style=\"color: #800080; text-decoration-color: #800080; font-style: italic\">None</span> | outbound                                     <span style=\"color: #7f7f7f; text-decoration-color: #7f7f7f\">            </span>\n",
       "</pre>\n"
      ],
      "text/plain": [
       "\u001b[2;36m[07/19/22 10:28:04]\u001b[0m\u001b[2;36m \u001b[0m\u001b[34mINFO    \u001b[0m Got \u001b[1;36m54\u001b[0m bouts for FC_210831_BAA1110281_hairpin |     \u001b]8;id=860534;file://C:\\Users\\Federico\\Documents\\GitHub\\pysical_locomotion\\analysis\\ephys\\utils.py\u001b\\\u001b[2mutils.py\u001b[0m\u001b]8;;\u001b\\\u001b[2m:\u001b[0m\u001b]8;id=990267;file://C:\\Users\\Federico\\Documents\\GitHub\\pysical_locomotion\\analysis\\ephys\\utils.py#244\u001b\\\u001b[2m244\u001b[0m\u001b]8;;\u001b\\\n",
       "\u001b[2;36m                    \u001b[0m         \u001b[3;35mNone\u001b[0m | outbound                                     \u001b[2m            \u001b[0m\n"
      ]
     },
     "metadata": {},
     "output_type": "display_data"
    },
    {
     "data": {
      "text/html": [
       "<pre style=\"white-space:pre;overflow-x:auto;line-height:normal;font-family:Menlo,'DejaVu Sans Mono',consolas,'Courier New',monospace\"><span style=\"color: #7fbfbf; text-decoration-color: #7fbfbf\">[07/19/22 10:28:05] </span><span style=\"color: #000080; text-decoration-color: #000080\">INFO    </span> Got <span style=\"color: #008080; text-decoration-color: #008080; font-weight: bold\">29</span> bouts for FC_210831_BAA1110281_hairpin |     <a href=\"file://C:\\Users\\Federico\\Documents\\GitHub\\pysical_locomotion\\analysis\\ephys\\utils.py\" target=\"_blank\"><span style=\"color: #7f7f7f; text-decoration-color: #7f7f7f\">utils.py</span></a><span style=\"color: #7f7f7f; text-decoration-color: #7f7f7f\">:</span><a href=\"file://C:\\Users\\Federico\\Documents\\GitHub\\pysical_locomotion\\analysis\\ephys\\utils.py#244\" target=\"_blank\"><span style=\"color: #7f7f7f; text-decoration-color: #7f7f7f\">244</span></a>\n",
       "<span style=\"color: #7fbfbf; text-decoration-color: #7fbfbf\">                    </span>         <span style=\"color: #800080; text-decoration-color: #800080; font-style: italic\">None</span> | inbound                                      <span style=\"color: #7f7f7f; text-decoration-color: #7f7f7f\">            </span>\n",
       "</pre>\n"
      ],
      "text/plain": [
       "\u001b[2;36m[07/19/22 10:28:05]\u001b[0m\u001b[2;36m \u001b[0m\u001b[34mINFO    \u001b[0m Got \u001b[1;36m29\u001b[0m bouts for FC_210831_BAA1110281_hairpin |     \u001b]8;id=979933;file://C:\\Users\\Federico\\Documents\\GitHub\\pysical_locomotion\\analysis\\ephys\\utils.py\u001b\\\u001b[2mutils.py\u001b[0m\u001b]8;;\u001b\\\u001b[2m:\u001b[0m\u001b]8;id=127068;file://C:\\Users\\Federico\\Documents\\GitHub\\pysical_locomotion\\analysis\\ephys\\utils.py#244\u001b\\\u001b[2m244\u001b[0m\u001b]8;;\u001b\\\n",
       "\u001b[2;36m                    \u001b[0m         \u001b[3;35mNone\u001b[0m | inbound                                      \u001b[2m            \u001b[0m\n"
      ]
     },
     "metadata": {},
     "output_type": "display_data"
    },
    {
     "name": "stderr",
     "output_type": "stream",
     "text": [
      "c:\\Users\\Federico\\.conda\\envs\\glm\\lib\\site-packages\\fcutils\\maths\\signals.py:126: FutureWarning: The default dtype for empty Series will be 'object' instead of 'float64' in a future version. Specify a dtype explicitly to silence this warning.\n",
      "  X = pd.Series(X)\n"
     ]
    },
    {
     "data": {
      "text/html": [
       "<pre style=\"white-space:pre;overflow-x:auto;line-height:normal;font-family:Menlo,'DejaVu Sans Mono',consolas,'Courier New',monospace\"><span style=\"color: #7fbfbf; text-decoration-color: #7fbfbf\">[07/19/22 10:28:11] </span><span style=\"color: #000080; text-decoration-color: #000080\">INFO    </span> Got <span style=\"color: #008080; text-decoration-color: #008080; font-weight: bold\">29</span> bouts for FC_210906_BAA1110281_hairpin |     <a href=\"file://C:\\Users\\Federico\\Documents\\GitHub\\pysical_locomotion\\analysis\\ephys\\utils.py\" target=\"_blank\"><span style=\"color: #7f7f7f; text-decoration-color: #7f7f7f\">utils.py</span></a><span style=\"color: #7f7f7f; text-decoration-color: #7f7f7f\">:</span><a href=\"file://C:\\Users\\Federico\\Documents\\GitHub\\pysical_locomotion\\analysis\\ephys\\utils.py#244\" target=\"_blank\"><span style=\"color: #7f7f7f; text-decoration-color: #7f7f7f\">244</span></a>\n",
       "<span style=\"color: #7fbfbf; text-decoration-color: #7fbfbf\">                    </span>         <span style=\"color: #800080; text-decoration-color: #800080; font-style: italic\">None</span> | outbound                                     <span style=\"color: #7f7f7f; text-decoration-color: #7f7f7f\">            </span>\n",
       "</pre>\n"
      ],
      "text/plain": [
       "\u001b[2;36m[07/19/22 10:28:11]\u001b[0m\u001b[2;36m \u001b[0m\u001b[34mINFO    \u001b[0m Got \u001b[1;36m29\u001b[0m bouts for FC_210906_BAA1110281_hairpin |     \u001b]8;id=244920;file://C:\\Users\\Federico\\Documents\\GitHub\\pysical_locomotion\\analysis\\ephys\\utils.py\u001b\\\u001b[2mutils.py\u001b[0m\u001b]8;;\u001b\\\u001b[2m:\u001b[0m\u001b]8;id=252492;file://C:\\Users\\Federico\\Documents\\GitHub\\pysical_locomotion\\analysis\\ephys\\utils.py#244\u001b\\\u001b[2m244\u001b[0m\u001b]8;;\u001b\\\n",
       "\u001b[2;36m                    \u001b[0m         \u001b[3;35mNone\u001b[0m | outbound                                     \u001b[2m            \u001b[0m\n"
      ]
     },
     "metadata": {},
     "output_type": "display_data"
    },
    {
     "data": {
      "text/html": [
       "<pre style=\"white-space:pre;overflow-x:auto;line-height:normal;font-family:Menlo,'DejaVu Sans Mono',consolas,'Courier New',monospace\"><span style=\"color: #7fbfbf; text-decoration-color: #7fbfbf\">                    </span><span style=\"color: #000080; text-decoration-color: #000080\">INFO    </span> Got <span style=\"color: #008080; text-decoration-color: #008080; font-weight: bold\">25</span> bouts for FC_210906_BAA1110281_hairpin |     <a href=\"file://C:\\Users\\Federico\\Documents\\GitHub\\pysical_locomotion\\analysis\\ephys\\utils.py\" target=\"_blank\"><span style=\"color: #7f7f7f; text-decoration-color: #7f7f7f\">utils.py</span></a><span style=\"color: #7f7f7f; text-decoration-color: #7f7f7f\">:</span><a href=\"file://C:\\Users\\Federico\\Documents\\GitHub\\pysical_locomotion\\analysis\\ephys\\utils.py#244\" target=\"_blank\"><span style=\"color: #7f7f7f; text-decoration-color: #7f7f7f\">244</span></a>\n",
       "<span style=\"color: #7fbfbf; text-decoration-color: #7fbfbf\">                    </span>         <span style=\"color: #800080; text-decoration-color: #800080; font-style: italic\">None</span> | inbound                                      <span style=\"color: #7f7f7f; text-decoration-color: #7f7f7f\">            </span>\n",
       "</pre>\n"
      ],
      "text/plain": [
       "\u001b[2;36m                   \u001b[0m\u001b[2;36m \u001b[0m\u001b[34mINFO    \u001b[0m Got \u001b[1;36m25\u001b[0m bouts for FC_210906_BAA1110281_hairpin |     \u001b]8;id=530690;file://C:\\Users\\Federico\\Documents\\GitHub\\pysical_locomotion\\analysis\\ephys\\utils.py\u001b\\\u001b[2mutils.py\u001b[0m\u001b]8;;\u001b\\\u001b[2m:\u001b[0m\u001b]8;id=131371;file://C:\\Users\\Federico\\Documents\\GitHub\\pysical_locomotion\\analysis\\ephys\\utils.py#244\u001b\\\u001b[2m244\u001b[0m\u001b]8;;\u001b\\\n",
       "\u001b[2;36m                    \u001b[0m         \u001b[3;35mNone\u001b[0m | inbound                                      \u001b[2m            \u001b[0m\n"
      ]
     },
     "metadata": {},
     "output_type": "display_data"
    },
    {
     "name": "stderr",
     "output_type": "stream",
     "text": [
      "c:\\Users\\Federico\\.conda\\envs\\glm\\lib\\site-packages\\fcutils\\maths\\signals.py:126: FutureWarning: The default dtype for empty Series will be 'object' instead of 'float64' in a future version. Specify a dtype explicitly to silence this warning.\n",
      "  X = pd.Series(X)\n"
     ]
    },
    {
     "data": {
      "text/html": [
       "<pre style=\"white-space:pre;overflow-x:auto;line-height:normal;font-family:Menlo,'DejaVu Sans Mono',consolas,'Courier New',monospace\"><span style=\"color: #7fbfbf; text-decoration-color: #7fbfbf\">[07/19/22 10:28:13] </span><span style=\"color: #000080; text-decoration-color: #000080\">INFO    </span> Got <span style=\"color: #008080; text-decoration-color: #008080; font-weight: bold\">0</span> bouts for FC_210917_BAA1110281_hairpin | <span style=\"color: #800080; text-decoration-color: #800080; font-style: italic\">None</span> <a href=\"file://C:\\Users\\Federico\\Documents\\GitHub\\pysical_locomotion\\analysis\\ephys\\utils.py\" target=\"_blank\"><span style=\"color: #7f7f7f; text-decoration-color: #7f7f7f\">utils.py</span></a><span style=\"color: #7f7f7f; text-decoration-color: #7f7f7f\">:</span><a href=\"file://C:\\Users\\Federico\\Documents\\GitHub\\pysical_locomotion\\analysis\\ephys\\utils.py#244\" target=\"_blank\"><span style=\"color: #7f7f7f; text-decoration-color: #7f7f7f\">244</span></a>\n",
       "<span style=\"color: #7fbfbf; text-decoration-color: #7fbfbf\">                    </span>         | outbound                                          <span style=\"color: #7f7f7f; text-decoration-color: #7f7f7f\">            </span>\n",
       "</pre>\n"
      ],
      "text/plain": [
       "\u001b[2;36m[07/19/22 10:28:13]\u001b[0m\u001b[2;36m \u001b[0m\u001b[34mINFO    \u001b[0m Got \u001b[1;36m0\u001b[0m bouts for FC_210917_BAA1110281_hairpin | \u001b[3;35mNone\u001b[0m \u001b]8;id=215698;file://C:\\Users\\Federico\\Documents\\GitHub\\pysical_locomotion\\analysis\\ephys\\utils.py\u001b\\\u001b[2mutils.py\u001b[0m\u001b]8;;\u001b\\\u001b[2m:\u001b[0m\u001b]8;id=482929;file://C:\\Users\\Federico\\Documents\\GitHub\\pysical_locomotion\\analysis\\ephys\\utils.py#244\u001b\\\u001b[2m244\u001b[0m\u001b]8;;\u001b\\\n",
       "\u001b[2;36m                    \u001b[0m         | outbound                                          \u001b[2m            \u001b[0m\n"
      ]
     },
     "metadata": {},
     "output_type": "display_data"
    },
    {
     "data": {
      "text/html": [
       "<pre style=\"white-space:pre;overflow-x:auto;line-height:normal;font-family:Menlo,'DejaVu Sans Mono',consolas,'Courier New',monospace\"><span style=\"color: #7fbfbf; text-decoration-color: #7fbfbf\">                    </span><span style=\"color: #000080; text-decoration-color: #000080\">INFO    </span> Got <span style=\"color: #008080; text-decoration-color: #008080; font-weight: bold\">0</span> bouts for FC_210917_BAA1110281_hairpin | <span style=\"color: #800080; text-decoration-color: #800080; font-style: italic\">None</span> <a href=\"file://C:\\Users\\Federico\\Documents\\GitHub\\pysical_locomotion\\analysis\\ephys\\utils.py\" target=\"_blank\"><span style=\"color: #7f7f7f; text-decoration-color: #7f7f7f\">utils.py</span></a><span style=\"color: #7f7f7f; text-decoration-color: #7f7f7f\">:</span><a href=\"file://C:\\Users\\Federico\\Documents\\GitHub\\pysical_locomotion\\analysis\\ephys\\utils.py#244\" target=\"_blank\"><span style=\"color: #7f7f7f; text-decoration-color: #7f7f7f\">244</span></a>\n",
       "<span style=\"color: #7fbfbf; text-decoration-color: #7fbfbf\">                    </span>         | inbound                                           <span style=\"color: #7f7f7f; text-decoration-color: #7f7f7f\">            </span>\n",
       "</pre>\n"
      ],
      "text/plain": [
       "\u001b[2;36m                   \u001b[0m\u001b[2;36m \u001b[0m\u001b[34mINFO    \u001b[0m Got \u001b[1;36m0\u001b[0m bouts for FC_210917_BAA1110281_hairpin | \u001b[3;35mNone\u001b[0m \u001b]8;id=735421;file://C:\\Users\\Federico\\Documents\\GitHub\\pysical_locomotion\\analysis\\ephys\\utils.py\u001b\\\u001b[2mutils.py\u001b[0m\u001b]8;;\u001b\\\u001b[2m:\u001b[0m\u001b]8;id=968555;file://C:\\Users\\Federico\\Documents\\GitHub\\pysical_locomotion\\analysis\\ephys\\utils.py#244\u001b\\\u001b[2m244\u001b[0m\u001b]8;;\u001b\\\n",
       "\u001b[2;36m                    \u001b[0m         | inbound                                           \u001b[2m            \u001b[0m\n"
      ]
     },
     "metadata": {},
     "output_type": "display_data"
    },
    {
     "data": {
      "text/html": [
       "<div>\n",
       "<style scoped>\n",
       "    .dataframe tbody tr th:only-of-type {\n",
       "        vertical-align: middle;\n",
       "    }\n",
       "\n",
       "    .dataframe tbody tr th {\n",
       "        vertical-align: top;\n",
       "    }\n",
       "\n",
       "    .dataframe thead th {\n",
       "        text-align: right;\n",
       "    }\n",
       "</style>\n",
       "<table border=\"1\" class=\"dataframe\">\n",
       "  <thead>\n",
       "    <tr style=\"text-align: right;\">\n",
       "      <th></th>\n",
       "      <th>name</th>\n",
       "      <th>unit_id</th>\n",
       "      <th>brainregion</th>\n",
       "      <th>direction</th>\n",
       "      <th>roi</th>\n",
       "      <th>label</th>\n",
       "      <th>-18</th>\n",
       "      <th>-16</th>\n",
       "      <th>-14</th>\n",
       "      <th>-12</th>\n",
       "      <th>...</th>\n",
       "      <th>2</th>\n",
       "      <th>4</th>\n",
       "      <th>6</th>\n",
       "      <th>8</th>\n",
       "      <th>10</th>\n",
       "      <th>12</th>\n",
       "      <th>14</th>\n",
       "      <th>16</th>\n",
       "      <th>18</th>\n",
       "      <th>20</th>\n",
       "    </tr>\n",
       "  </thead>\n",
       "  <tbody>\n",
       "    <tr>\n",
       "      <th>0</th>\n",
       "      <td>FC_210715_AAA1110750_r5_hairpin</td>\n",
       "      <td>833</td>\n",
       "      <td>CUN</td>\n",
       "      <td>out</td>\n",
       "      <td>second</td>\n",
       "      <td>right</td>\n",
       "      <td>0.0</td>\n",
       "      <td>6.0</td>\n",
       "      <td>10.000000</td>\n",
       "      <td>3.75</td>\n",
       "      <td>...</td>\n",
       "      <td>42.0</td>\n",
       "      <td>18.0</td>\n",
       "      <td>28.000000</td>\n",
       "      <td>16.000000</td>\n",
       "      <td>16.000000</td>\n",
       "      <td>16.000000</td>\n",
       "      <td>8.0</td>\n",
       "      <td>4.0</td>\n",
       "      <td>8.0</td>\n",
       "      <td>9.0</td>\n",
       "    </tr>\n",
       "    <tr>\n",
       "      <th>1</th>\n",
       "      <td>FC_210715_AAA1110750_r5_hairpin</td>\n",
       "      <td>833</td>\n",
       "      <td>CUN</td>\n",
       "      <td>out</td>\n",
       "      <td>second</td>\n",
       "      <td>right</td>\n",
       "      <td>30.0</td>\n",
       "      <td>20.0</td>\n",
       "      <td>13.333333</td>\n",
       "      <td>7.50</td>\n",
       "      <td>...</td>\n",
       "      <td>4.0</td>\n",
       "      <td>4.0</td>\n",
       "      <td>4.000000</td>\n",
       "      <td>4.000000</td>\n",
       "      <td>3.000000</td>\n",
       "      <td>0.000000</td>\n",
       "      <td>0.0</td>\n",
       "      <td>0.0</td>\n",
       "      <td>4.0</td>\n",
       "      <td>4.0</td>\n",
       "    </tr>\n",
       "    <tr>\n",
       "      <th>2</th>\n",
       "      <td>FC_210715_AAA1110750_r5_hairpin</td>\n",
       "      <td>833</td>\n",
       "      <td>CUN</td>\n",
       "      <td>out</td>\n",
       "      <td>second</td>\n",
       "      <td>right</td>\n",
       "      <td>0.0</td>\n",
       "      <td>0.0</td>\n",
       "      <td>13.333333</td>\n",
       "      <td>12.00</td>\n",
       "      <td>...</td>\n",
       "      <td>4.0</td>\n",
       "      <td>4.0</td>\n",
       "      <td>4.000000</td>\n",
       "      <td>8.000000</td>\n",
       "      <td>18.000000</td>\n",
       "      <td>12.000000</td>\n",
       "      <td>12.0</td>\n",
       "      <td>12.0</td>\n",
       "      <td>4.0</td>\n",
       "      <td>0.0</td>\n",
       "    </tr>\n",
       "    <tr>\n",
       "      <th>3</th>\n",
       "      <td>FC_210715_AAA1110750_r5_hairpin</td>\n",
       "      <td>833</td>\n",
       "      <td>CUN</td>\n",
       "      <td>out</td>\n",
       "      <td>second</td>\n",
       "      <td>right</td>\n",
       "      <td>60.0</td>\n",
       "      <td>40.0</td>\n",
       "      <td>26.666667</td>\n",
       "      <td>18.75</td>\n",
       "      <td>...</td>\n",
       "      <td>20.0</td>\n",
       "      <td>12.0</td>\n",
       "      <td>8.000000</td>\n",
       "      <td>4.000000</td>\n",
       "      <td>4.000000</td>\n",
       "      <td>8.000000</td>\n",
       "      <td>8.0</td>\n",
       "      <td>12.0</td>\n",
       "      <td>12.0</td>\n",
       "      <td>12.0</td>\n",
       "    </tr>\n",
       "    <tr>\n",
       "      <th>4</th>\n",
       "      <td>FC_210715_AAA1110750_r5_hairpin</td>\n",
       "      <td>833</td>\n",
       "      <td>CUN</td>\n",
       "      <td>out</td>\n",
       "      <td>second</td>\n",
       "      <td>right</td>\n",
       "      <td>0.0</td>\n",
       "      <td>0.0</td>\n",
       "      <td>6.666667</td>\n",
       "      <td>10.00</td>\n",
       "      <td>...</td>\n",
       "      <td>9.6</td>\n",
       "      <td>8.0</td>\n",
       "      <td>8.571429</td>\n",
       "      <td>10.285714</td>\n",
       "      <td>6.666667</td>\n",
       "      <td>6.461538</td>\n",
       "      <td>14.4</td>\n",
       "      <td>16.0</td>\n",
       "      <td>12.0</td>\n",
       "      <td>16.0</td>\n",
       "    </tr>\n",
       "  </tbody>\n",
       "</table>\n",
       "<p>5 rows × 26 columns</p>\n",
       "</div>"
      ]
     },
     "execution_count": 5,
     "metadata": {},
     "output_type": "execute_result"
    }
   ],
   "source": [
    "curve_direction = dict(\n",
    "    first=dict(out=\"right\", _in=\"left\"),\n",
    "    second=dict(out=\"right\", _in=\"left\"),\n",
    "    third=dict(out=\"left\", _in=\"right\"),\n",
    "    fourth=dict(out=\"left\", _in=\"right\"),\n",
    ")\n",
    "\n",
    "\n",
    "for REC in get_recording_names(region=TARGET):\n",
    "    # fetch recording data\n",
    "    # units, left_fl, right_fl, left_hl, right_hl, body = get_data(REC)\n",
    "    units, left_fl, right_fl, left_hl, right_hl, body = alldata[REC]\n",
    "\n",
    "    if units is None or not len(units):\n",
    "        continue\n",
    "    \n",
    "    if TARGET == \"MOs\":\n",
    "        units = units.loc[units.brain_region.isin([\"MOs\", \"MOs1\", \"MOs2/3\", \"MOs5\", \"MOs6a\", \"MOs6b\"])]\n",
    "    else:\n",
    "        units = units.loc[units.brain_region.isin([\"CUN\", \"PPN\"])]\n",
    "        \n",
    "\n",
    "    out_bouts     = get_session_bouts(REC, complete=None)\n",
    "    in_bouts      = get_session_bouts(REC, direction=\"inbound\", complete=None)\n",
    "    out_crossings = {curve:get_roi_crossings(out_bouts, curve, ds=20, direction=\"out\") for curve in curves.keys()}\n",
    "    in_crossings  = {curve:get_roi_crossings(in_bouts, curve, ds=20, direction=\"in\") for curve in curves.keys()}\n",
    "\n",
    "    for (i, unit) in units.iterrows():\n",
    "        for curve in (\"second\", \"third\", \"fourth\"):\n",
    "            for (direction, crossings, bouts) in ((\"out\", out_crossings[curve], out_bouts), (\"_in\", in_crossings[curve], in_bouts)):\n",
    "                sign = 1 if direction == \"out\" else -1\n",
    "\n",
    "                for i, cross in crossings.iterrows():\n",
    "\n",
    "                    # get spikes at each bin\n",
    "                    bout = bouts.iloc[cross.bout_idx]\n",
    "                    s = sign * (curves[curve].s - np.array(bout.s[cross.enter_frame:cross.exit_frame]))\n",
    "                    spikes = unit.spikes[(unit.spikes > cross.session_start_frame)&(unit.spikes < cross.session_end_frame)] - cross.session_start_frame\n",
    "\n",
    "                    # get firing rate\n",
    "                    cross_frate = frate(spikes, s, bins)\n",
    "\n",
    "                    # store all data\n",
    "                    data[\"name\"].append(REC)\n",
    "                    data[\"unit_id\"].append(unit.unit_id)\n",
    "                    data[\"brainregion\"].append(unit.brain_region)\n",
    "                    data[\"direction\"].append(direction)\n",
    "                    data[\"roi\"].append(curve)\n",
    "                    data[\"label\"].append(curve_direction[curve][direction])\n",
    "                    for i, bin in enumerate(bins[1:]):\n",
    "                        data[bin].append(cross_frate[i])\n",
    "\n",
    "\n",
    "data = pd.DataFrame(data)\n",
    "data.head()"
   ]
  },
  {
   "cell_type": "code",
   "execution_count": 6,
   "metadata": {},
   "outputs": [
    {
     "name": "stdout",
     "output_type": "stream",
     "text": [
      "172\n"
     ]
    }
   ],
   "source": [
    "# label each row by the unit/recording it belongs to\n",
    "data[\"identifier\"] = data[\"name\"] + \"+unit_\" + data[\"unit_id\"].astype(str)\n",
    "n_units = len(data.identifier.unique())\n",
    "print(n_units)"
   ]
  },
  {
   "cell_type": "markdown",
   "metadata": {},
   "source": [
    "## Fit model\n",
    "For each unit, try to predict L/R turn from the firing rate of the unit."
   ]
  },
  {
   "cell_type": "code",
   "execution_count": 7,
   "metadata": {},
   "outputs": [
    {
     "data": {
      "text/html": [
       "<div>\n",
       "<style scoped>\n",
       "    .dataframe tbody tr th:only-of-type {\n",
       "        vertical-align: middle;\n",
       "    }\n",
       "\n",
       "    .dataframe tbody tr th {\n",
       "        vertical-align: top;\n",
       "    }\n",
       "\n",
       "    .dataframe thead th {\n",
       "        text-align: right;\n",
       "    }\n",
       "</style>\n",
       "<table border=\"1\" class=\"dataframe\">\n",
       "  <thead>\n",
       "    <tr style=\"text-align: right;\">\n",
       "      <th></th>\n",
       "      <th>name</th>\n",
       "      <th>unit_id</th>\n",
       "      <th>brainregion</th>\n",
       "      <th>direction</th>\n",
       "      <th>roi</th>\n",
       "      <th>label</th>\n",
       "      <th>-18</th>\n",
       "      <th>-16</th>\n",
       "      <th>-14</th>\n",
       "      <th>-12</th>\n",
       "      <th>...</th>\n",
       "      <th>12</th>\n",
       "      <th>14</th>\n",
       "      <th>16</th>\n",
       "      <th>18</th>\n",
       "      <th>20</th>\n",
       "      <th>identifier</th>\n",
       "      <th>label_left</th>\n",
       "      <th>label_right</th>\n",
       "      <th>direction__in</th>\n",
       "      <th>direction_out</th>\n",
       "    </tr>\n",
       "  </thead>\n",
       "  <tbody>\n",
       "    <tr>\n",
       "      <th>0</th>\n",
       "      <td>FC_210715_AAA1110750_r5_hairpin</td>\n",
       "      <td>833</td>\n",
       "      <td>CUN</td>\n",
       "      <td>out</td>\n",
       "      <td>second</td>\n",
       "      <td>right</td>\n",
       "      <td>0.0</td>\n",
       "      <td>6.0</td>\n",
       "      <td>10.000000</td>\n",
       "      <td>3.75</td>\n",
       "      <td>...</td>\n",
       "      <td>16.000000</td>\n",
       "      <td>8.0</td>\n",
       "      <td>4.0</td>\n",
       "      <td>8.0</td>\n",
       "      <td>9.0</td>\n",
       "      <td>FC_210715_AAA1110750_r5_hairpin+unit_833</td>\n",
       "      <td>0</td>\n",
       "      <td>1</td>\n",
       "      <td>0</td>\n",
       "      <td>1</td>\n",
       "    </tr>\n",
       "    <tr>\n",
       "      <th>1</th>\n",
       "      <td>FC_210715_AAA1110750_r5_hairpin</td>\n",
       "      <td>833</td>\n",
       "      <td>CUN</td>\n",
       "      <td>out</td>\n",
       "      <td>second</td>\n",
       "      <td>right</td>\n",
       "      <td>30.0</td>\n",
       "      <td>20.0</td>\n",
       "      <td>13.333333</td>\n",
       "      <td>7.50</td>\n",
       "      <td>...</td>\n",
       "      <td>0.000000</td>\n",
       "      <td>0.0</td>\n",
       "      <td>0.0</td>\n",
       "      <td>4.0</td>\n",
       "      <td>4.0</td>\n",
       "      <td>FC_210715_AAA1110750_r5_hairpin+unit_833</td>\n",
       "      <td>0</td>\n",
       "      <td>1</td>\n",
       "      <td>0</td>\n",
       "      <td>1</td>\n",
       "    </tr>\n",
       "    <tr>\n",
       "      <th>2</th>\n",
       "      <td>FC_210715_AAA1110750_r5_hairpin</td>\n",
       "      <td>833</td>\n",
       "      <td>CUN</td>\n",
       "      <td>out</td>\n",
       "      <td>second</td>\n",
       "      <td>right</td>\n",
       "      <td>0.0</td>\n",
       "      <td>0.0</td>\n",
       "      <td>13.333333</td>\n",
       "      <td>12.00</td>\n",
       "      <td>...</td>\n",
       "      <td>12.000000</td>\n",
       "      <td>12.0</td>\n",
       "      <td>12.0</td>\n",
       "      <td>4.0</td>\n",
       "      <td>0.0</td>\n",
       "      <td>FC_210715_AAA1110750_r5_hairpin+unit_833</td>\n",
       "      <td>0</td>\n",
       "      <td>1</td>\n",
       "      <td>0</td>\n",
       "      <td>1</td>\n",
       "    </tr>\n",
       "    <tr>\n",
       "      <th>3</th>\n",
       "      <td>FC_210715_AAA1110750_r5_hairpin</td>\n",
       "      <td>833</td>\n",
       "      <td>CUN</td>\n",
       "      <td>out</td>\n",
       "      <td>second</td>\n",
       "      <td>right</td>\n",
       "      <td>60.0</td>\n",
       "      <td>40.0</td>\n",
       "      <td>26.666667</td>\n",
       "      <td>18.75</td>\n",
       "      <td>...</td>\n",
       "      <td>8.000000</td>\n",
       "      <td>8.0</td>\n",
       "      <td>12.0</td>\n",
       "      <td>12.0</td>\n",
       "      <td>12.0</td>\n",
       "      <td>FC_210715_AAA1110750_r5_hairpin+unit_833</td>\n",
       "      <td>0</td>\n",
       "      <td>1</td>\n",
       "      <td>0</td>\n",
       "      <td>1</td>\n",
       "    </tr>\n",
       "    <tr>\n",
       "      <th>4</th>\n",
       "      <td>FC_210715_AAA1110750_r5_hairpin</td>\n",
       "      <td>833</td>\n",
       "      <td>CUN</td>\n",
       "      <td>out</td>\n",
       "      <td>second</td>\n",
       "      <td>right</td>\n",
       "      <td>0.0</td>\n",
       "      <td>0.0</td>\n",
       "      <td>6.666667</td>\n",
       "      <td>10.00</td>\n",
       "      <td>...</td>\n",
       "      <td>6.461538</td>\n",
       "      <td>14.4</td>\n",
       "      <td>16.0</td>\n",
       "      <td>12.0</td>\n",
       "      <td>16.0</td>\n",
       "      <td>FC_210715_AAA1110750_r5_hairpin+unit_833</td>\n",
       "      <td>0</td>\n",
       "      <td>1</td>\n",
       "      <td>0</td>\n",
       "      <td>1</td>\n",
       "    </tr>\n",
       "  </tbody>\n",
       "</table>\n",
       "<p>5 rows × 31 columns</p>\n",
       "</div>"
      ]
     },
     "execution_count": 7,
     "metadata": {},
     "output_type": "execute_result"
    }
   ],
   "source": [
    "# create dummy variables columns\n",
    "data = data.join(pd.get_dummies(data[[\"label\", \"direction\"]]))\n",
    "data.head()"
   ]
  },
  {
   "cell_type": "code",
   "execution_count": 23,
   "metadata": {},
   "outputs": [
    {
     "data": {
      "application/vnd.jupyter.widget-view+json": {
       "model_id": "50a5277673a54a2e9d3a41b4cf7270f6",
       "version_major": 2,
       "version_minor": 0
      },
      "text/plain": [
       "Output()"
      ]
     },
     "metadata": {},
     "output_type": "display_data"
    },
    {
     "data": {
      "text/html": [
       "<pre style=\"white-space:pre;overflow-x:auto;line-height:normal;font-family:Menlo,'DejaVu Sans Mono',consolas,'Courier New',monospace\"></pre>\n"
      ],
      "text/plain": []
     },
     "metadata": {},
     "output_type": "display_data"
    },
    {
     "data": {
      "text/html": [
       "<pre style=\"white-space:pre;overflow-x:auto;line-height:normal;font-family:Menlo,'DejaVu Sans Mono',consolas,'Courier New',monospace\">\n",
       "</pre>\n"
      ],
      "text/plain": [
       "\n"
      ]
     },
     "metadata": {},
     "output_type": "display_data"
    },
    {
     "name": "stdout",
     "output_type": "stream",
     "text": [
      "Succesfully fit 89 models for 172\n"
     ]
    }
   ],
   "source": [
    "PREDICTED = \"label_right\"\n",
    "\n",
    "select_cols = list(bins[1:]) + [PREDICTED]\n",
    "\n",
    "results, shuffled_accuracies = {}, []\n",
    "\n",
    "for unit in track(data.identifier.unique()):\n",
    "    # sample L/R trials to get equal number of trials per direction\n",
    "    unit_data = data.loc[data.identifier == unit]\n",
    "    name = unit_data.name.iloc[0]\n",
    "    # if name in tuned_recs:  # if not exists run the kinematics analysis cells\n",
    "    #     continue\n",
    "    \n",
    "    side_counts = unit_data.groupby([\"label\"])[\"name\"].count()\n",
    "\n",
    "    try:\n",
    "        n_selected = min(side_counts[\"left\"], side_counts[\"right\"])\n",
    "    except:\n",
    "        continue\n",
    "    \n",
    "    if n_selected < 5:\n",
    "        continue\n",
    "    \n",
    "    left = unit_data.loc[unit_data.label == \"left\"].sample(n_selected)\n",
    "    right = unit_data.loc[unit_data.label == \"right\"].sample(n_selected)\n",
    "\n",
    "    # keep bins + label column\n",
    "    unit_data = pd.concat([left, right])[select_cols].reset_index(drop=True)\n",
    "\n",
    "    # split train/test\n",
    "    X = unit_data.drop(PREDICTED, axis=1)\n",
    "    y = unit_data[PREDICTED]\n",
    "\n",
    "    # standardize columns of X\n",
    "    X = (X - X.mean()) / (X.std() + 0.0001)\n",
    "\n",
    "\n",
    "    # fit the model with 5x k-fold cross-validation\n",
    "    kf = KFold(n_splits=5, shuffle=True, random_state=42)\n",
    "    kf.get_n_splits(X)\n",
    "    kf_accuracies = []\n",
    "    for train_index, test_index in kf.split(X):\n",
    "        X_train, X_test = X.iloc[train_index], X.iloc[test_index]\n",
    "        y_train, y_test = y.iloc[train_index], y.iloc[test_index]\n",
    "\n",
    "        # fit model\n",
    "        logreg = LogisticRegression()\n",
    "        logreg.fit(X_train, y_train)\n",
    "        kf_accuracies.append(logreg.score(X_test, y_test))\n",
    "\n",
    "\n",
    "    # fit model on randomly shuffled labels\n",
    "    # split X in train/test\n",
    "    X_train, X_test, _, _ = train_test_split(X, y, test_size=.3, random_state=0)\n",
    "    unit_shuffled_accuracies = []\n",
    "    for i in range(100):\n",
    "        y_shuffled = y.sample(frac=1, random_state=i)\n",
    "        _, _, y_shuff_train, y_shuff_test = train_test_split(X, y_shuffled, test_size=0.3, random_state=0)\n",
    "\n",
    "        shuffled_logreg = LogisticRegression()\n",
    "        shuffled_logreg.fit(X_train, y_shuff_train)\n",
    "\n",
    "        acc = shuffled_logreg.score(X_test, y_shuff_test)\n",
    "        shuffled_accuracies.append(acc)\n",
    "        unit_shuffled_accuracies.append(acc)\n",
    "\n",
    "    # check if the model is significantly better than the shuffled labels\n",
    "    tuned = np.mean(kf_accuracies) > np.percentile(unit_shuffled_accuracies, 99)\n",
    "\n",
    "    results[unit] = dict(\n",
    "        name=name,\n",
    "        identifier=unit,\n",
    "        model=logreg,\n",
    "        accuracy=np.mean(kf_accuracies),\n",
    "        tuned = tuned,\n",
    "        X_test=X_test,\n",
    "        y_test=y_test,\n",
    "\n",
    "    )\n",
    "\n",
    "\n",
    "print(f\"Succesfully fit {len(results.keys())} models for {n_units}\")"
   ]
  },
  {
   "cell_type": "markdown",
   "metadata": {},
   "source": [
    "# Plot results\n",
    "plot accuracy histograma and ROC curve"
   ]
  },
  {
   "cell_type": "code",
   "execution_count": 24,
   "metadata": {},
   "outputs": [
    {
     "data": {
      "text/html": [
       "<pre style=\"white-space:pre;overflow-x:auto;line-height:normal;font-family:Menlo,'DejaVu Sans Mono',consolas,'Courier New',monospace\"><span style=\"font-weight: bold\">&lt;</span><span style=\"color: #ff00ff; text-decoration-color: #ff00ff; font-weight: bold\">Figure</span><span style=\"color: #000000; text-decoration-color: #000000\"> size 1152x648 with </span><span style=\"color: #008080; text-decoration-color: #008080; font-weight: bold\">2</span><span style=\"color: #000000; text-decoration-color: #000000\"> Axes</span><span style=\"font-weight: bold\">&gt;</span>\n",
       "</pre>\n"
      ],
      "text/plain": [
       "\u001b[1m<\u001b[0m\u001b[1;95mFigure\u001b[0m\u001b[39m size 1152x648 with \u001b[0m\u001b[1;36m2\u001b[0m\u001b[39m Axes\u001b[0m\u001b[1m>\u001b[0m\n"
      ]
     },
     "metadata": {},
     "output_type": "display_data"
    },
    {
     "data": {
      "image/png": "[encoded data removed]"
     },
     "metadata": {
      "needs_background": "light"
     },
     "output_type": "display_data"
    }
   ],
   "source": [
    "TARGET = TARGET if TARGET == \"MOs\" else \"CUN_PPN\"\n",
    "\n",
    "f, axes = plt.subplots(1, 2, figsize=(16, 9))\n",
    "\n",
    "accuracies = [r[\"accuracy\"] for r in results.values()]\n",
    "\n",
    "axes[0].hist(shuffled_accuracies, density=True, bins=20, alpha=.5, color=[.75, .75, .75], label=\"shuffled\")\n",
    "axes[0].hist(shuffled_accuracies, density=True, bins=20, lw=2, histtype=\"step\", color=[.75, .75, .75])\n",
    "axes[0].hist(accuracies, density=True, bins=20, alpha=.5, color=\"k\", label=\"data\")\n",
    "axes[0].hist(accuracies, density=True, bins=20, lw=2, histtype=\"step\", color=\"k\")\n",
    "axes[0].legend()\n",
    "\n",
    "# for res in results.values():\n",
    "#     logit_roc_auc = roc_auc_score(res['y_test'], logreg.predict(res['X_test']))\n",
    "#     fpr, tpr, thresholds = roc_curve(res['y_test'], logreg.predict_proba(res['X_test'])[:,1])\n",
    "\n",
    "#     axes[1].plot(fpr, tpr, color=\"k\", alpha=.5)\n",
    "\n",
    "axes[0].set(xlabel=\"Accuracy\", ylabel=\"Count\", title=f\"Predicting: {PREDICTED}\", xlim=[-0.05, 1.05])\n",
    "axes[0].axvline(0.5, lw=2, color=\"r\", ls=\"--\")\n",
    "axes[1].plot([0, 1], [0, 1],'r--', lw=2)\n",
    "_ = axes[1].set(xlabel='False Positive Rate', ylabel='True Positive Rate', title='Receiver operating characteristic')\n",
    "\n",
    "# save figure\n",
    "f.savefig(save_folder / f\"LR_decoding_{TARGET}_accuracy_hist.svg\")"
   ]
  },
  {
   "cell_type": "code",
   "execution_count": 25,
   "metadata": {},
   "outputs": [
    {
     "name": "stdout",
     "output_type": "stream",
     "text": [
      "56/89 (62.92%) units have accuracy > 60%\n",
      "8/89 (8.99%) units have accuracy > 90%\n"
     ]
    }
   ],
   "source": [
    "accuracies = np.array(accuracies)\n",
    "above_66 = len(accuracies[accuracies >= 0.6])\n",
    "above_90 = len(accuracies[accuracies >= 0.9])\n",
    "print(f\"{above_66}/{len(accuracies)} ({round(above_66/len(accuracies) * 100, 2)}%) units have accuracy > 60%\")\n",
    "print(f\"{above_90}/{len(accuracies)} ({round(above_90/len(accuracies) * 100, 2)}%) units have accuracy > 90%\")"
   ]
  },
  {
   "cell_type": "code",
   "execution_count": 26,
   "metadata": {},
   "outputs": [
    {
     "name": "stdout",
     "output_type": "stream",
     "text": [
      "Fraction tuned: 0.11235955056179775 - 10/89\n"
     ]
    },
    {
     "data": {
      "text/html": [
       "<pre style=\"white-space:pre;overflow-x:auto;line-height:normal;font-family:Menlo,'DejaVu Sans Mono',consolas,'Courier New',monospace\"><span style=\"font-weight: bold\">&lt;</span><span style=\"color: #ff00ff; text-decoration-color: #ff00ff; font-weight: bold\">Figure</span><span style=\"color: #000000; text-decoration-color: #000000\"> size 1152x648 with </span><span style=\"color: #008080; text-decoration-color: #008080; font-weight: bold\">1</span><span style=\"color: #000000; text-decoration-color: #000000\"> Axes</span><span style=\"font-weight: bold\">&gt;</span>\n",
       "</pre>\n"
      ],
      "text/plain": [
       "\u001b[1m<\u001b[0m\u001b[1;95mFigure\u001b[0m\u001b[39m size 1152x648 with \u001b[0m\u001b[1;36m1\u001b[0m\u001b[39m Axes\u001b[0m\u001b[1m>\u001b[0m\n"
      ]
     },
     "metadata": {},
     "output_type": "display_data"
    },
    {
     "data": {
      "image/png": "[encoded data removed]"
     },
     "metadata": {
      "needs_background": "light"
     },
     "output_type": "display_data"
    }
   ],
   "source": [
    "# Plot number of tuned units as bar plot\n",
    "f, ax = plt.subplots(1, 1, figsize=(16, 9))\n",
    "\n",
    "N = len(results.keys())\n",
    "n_tuned = len([r for r in results.values() if r[\"tuned\"]])\n",
    "\n",
    "print(f\"Fraction tuned: {n_tuned/N} - {n_tuned}/{N}\")\n",
    "\n",
    "ax.bar(0, n_tuned/N, color=\"k\")\n",
    "ax.bar(0, (N - n_tuned)/N, bottom=(n_tuned)/N, color=[.75, .75, .75])\n",
    "_ = ax.set(xlim=[-2, 2], ylabel=\"Fraction tuned\", xlabel=TARGET)\n",
    "ax.axhline(.5)\n",
    "\n",
    "\n",
    "f.savefig(save_folder / f\"LR_decoding_{TARGET}_n_tuned.svg\")"
   ]
  },
  {
   "cell_type": "code",
   "execution_count": 12,
   "metadata": {},
   "outputs": [
    {
     "data": {
      "text/html": [
       "<pre style=\"white-space:pre;overflow-x:auto;line-height:normal;font-family:Menlo,'DejaVu Sans Mono',consolas,'Courier New',monospace\"><span style=\"font-weight: bold\">&lt;</span><span style=\"color: #ff00ff; text-decoration-color: #ff00ff; font-weight: bold\">Figure</span><span style=\"color: #000000; text-decoration-color: #000000\"> size 1152x648 with </span><span style=\"color: #008080; text-decoration-color: #008080; font-weight: bold\">1</span><span style=\"color: #000000; text-decoration-color: #000000\"> Axes</span><span style=\"font-weight: bold\">&gt;</span>\n",
       "</pre>\n"
      ],
      "text/plain": [
       "\u001b[1m<\u001b[0m\u001b[1;95mFigure\u001b[0m\u001b[39m size 1152x648 with \u001b[0m\u001b[1;36m1\u001b[0m\u001b[39m Axes\u001b[0m\u001b[1m>\u001b[0m\n"
      ]
     },
     "metadata": {},
     "output_type": "display_data"
    },
    {
     "data": {
      "image/png": "[encoded data removed]"
     },
     "metadata": {
      "needs_background": "light"
     },
     "output_type": "display_data"
    }
   ],
   "source": [
    "# plot histogram of accuracy for tuned vs non-tuned units\n",
    "import seaborn as sns\n",
    "f, ax = plt.subplots(1, 1, figsize=(16, 9))\n",
    "\n",
    "tuned_accuracies = [r[\"accuracy\"] for r in results.values() if r[\"tuned\"]]\n",
    "untuned_accuracies = [r[\"accuracy\"] for r in results.values() if not r[\"tuned\"]]\n",
    "\n",
    "# ax.hist(tuned_accuracies, density=True, bins=10, alpha=.5, color=\"k\", label=\"tuned\")\n",
    "# ax.hist(untuned_accuracies, density=True, bins=10, alpha=.5, color=\"red\", label=\"untuned\")\n",
    "\n",
    "sns.kdeplot(tuned_accuracies, shade=True, ax=ax, color=\"k\", bw_method=.25, label=\"tuned\")\n",
    "sns.kdeplot(untuned_accuracies, shade=True, ax=ax, color=\"red\", bw_method=.25, label=\"untuned\")\n",
    "\n",
    "\n",
    "ax.axvline(.5)\n",
    "ax.set(xlim=[0, 1], xlabel=\"Accuracy\", ylabel=\"Density\", xticks=[0, .25, .5, .75, 1])\n",
    "_ = ax.legend()\n",
    "\n",
    "f.savefig(save_folder / f\"LR_decoding_{TARGET}_accuracy_tunedvsuntuned_KDE.svg\")\n"
   ]
  },
  {
   "cell_type": "markdown",
   "metadata": {},
   "source": [
    "# Plot example unit\n",
    "\n",
    "Plot firing rate over position for an example tuned unit"
   ]
  },
  {
   "cell_type": "code",
   "execution_count": null,
   "metadata": {},
   "outputs": [],
   "source": [
    "from scipy import interpolate\n",
    "from scipy.ndimage.filters import gaussian_filter1d\n",
    "\n",
    "def upsample_frames_to_ms(var):\n",
    "    \"\"\"\n",
    "        Interpolates the values of a variable expressed in frams (60 fps)\n",
    "        to values expressed in milliseconds.\n",
    "    \"\"\"\n",
    "    t_60fps = np.arange(len(var)) / 60\n",
    "    f = interpolate.interp1d(t_60fps, var)\n",
    "\n",
    "    t_1000fps = np.arange(0, t_60fps[-1], step=1/1000)\n",
    "    # t_200fps = np.arange(0, t_60fps[-1], step=1/200)\n",
    "    interpolated_variable_values = f(t_1000fps)\n",
    "    return interpolated_variable_values\n",
    "\n",
    "\n",
    "\n",
    "\n",
    "\n",
    "def calc_firing_rate(spikes_train: np.ndarray, dt: int = 10):\n",
    "    \"\"\"\n",
    "        Computes the firing rate given a spikes train (wether there is a spike or not at each ms).\n",
    "        Using a gaussian kernel with standard deviation = dt/2 [dt is in ms]\n",
    "    \"\"\"\n",
    "    return gaussian_filter1d(spikes_train, dt)  * 1000\n",
    "\n",
    "\n",
    "\n",
    "\n",
    "from mpl_toolkits.axes_grid1 import make_axes_locatable\n",
    "\n",
    "\n",
    "def add_colorbar(ax, im, cbar_label):\n",
    "    divider = make_axes_locatable(ax)\n",
    "    cax = divider.append_axes(\"right\", size=\"15%\", pad=0.05)\n",
    "    cbar = plt.colorbar(im, cax=cax, orientation='vertical')\n",
    "    cbar.set_label(cbar_label)\n",
    "    return cbar\n"
   ]
  },
  {
   "cell_type": "markdown",
   "metadata": {},
   "source": [
    "# Compute firing rate through each curve for ech ROI and plot some examples"
   ]
  },
  {
   "cell_type": "code",
   "execution_count": null,
   "metadata": {},
   "outputs": [],
   "source": [
    "UNIT_ID = 10\n",
    "\n",
    "\n",
    "# sort units based on accuracy\n",
    "sorted_units = sorted(results.values(), key=lambda x: x[\"accuracy\"], reverse=True)\n",
    "\n",
    "best_unit = sorted_units[UNIT_ID]\n",
    "rec, unit = best_unit[\"identifier\"].split(\"+\")\n",
    "\n",
    "# load rec\n",
    "units, left_fl, right_fl, left_hl, right_hl, body = alldata[rec]\n",
    "out_bouts = get_session_bouts(rec, complete=None)\n",
    "in_bouts = get_session_bouts(rec, direction=\"inbound\", complete=None)\n",
    "\n",
    "out_crossings = {curve:get_roi_crossings(out_bouts, curve, ds=20, direction=\"out\") for curve in curves.keys()}\n",
    "in_crossings = {curve:get_roi_crossings(in_bouts, curve, ds=20, direction=\"in\") for curve in curves.keys()}\n",
    "\n",
    "# get unit data\n",
    "unit = units.loc[units.unit_id == int(unit.split(\"_\")[-1])].iloc[0]\n",
    "\n",
    "CURVES = (\"first\", \"second\", \"third\", \"fourth\")\n",
    "firing_rate_data = {\n",
    "    \"left\":{curv : dict(x=[], y=[], frate=[]) for curv in CURVES},\n",
    "    \"right\":{curv : dict(x=[], y=[], frate=[]) for curv in CURVES},\n",
    "}\n",
    "\n",
    "for i, curve in enumerate(CURVES):\n",
    "    crossings_out = out_crossings[curve]\n",
    "    crossings_in = in_crossings[curve]\n",
    "\n",
    "    for c, crossings in enumerate([crossings_out, crossings_in]):\n",
    "        for _, cross in crossings.iterrows():\n",
    "            bout = out_bouts.iloc[cross.bout_idx] if c  == 0 else in_bouts.iloc[cross.bout_idx]\n",
    "\n",
    "            # get XY coord\n",
    "            X = np.array(bout.x[cross.enter_frame:cross.exit_frame])\n",
    "            Y = np.array(bout.y[cross.enter_frame:cross.exit_frame])\n",
    "\n",
    "            # get spikes  & position in milliseconds\n",
    "            spikes = unit.spikes[(unit.spikes > cross.session_start_frame)&(unit.spikes < cross.session_end_frame)] - cross.session_start_frame\n",
    "\n",
    "            time_frames = np.zeros(int(cross.session_end_frame - cross.session_start_frame))\n",
    "            time_frames[spikes.astype(np.int)] = 1\n",
    "\n",
    "            spike_ms = upsample_frames_to_ms(time_frames)\n",
    "            spike_ms[spike_ms < np.max(spike_ms)] = 0  # make sure it's binary\n",
    "            x_ms = upsample_frames_to_ms(X)\n",
    "            y_ms = upsample_frames_to_ms(Y)\n",
    "            frate = calc_firing_rate(spike_ms, dt=200)\n",
    "\n",
    "            # store data\n",
    "            side = list(curve_direction[curve].values())[c]\n",
    "            firing_rate_data[side][curve][\"x\"].extend(x_ms)\n",
    "            firing_rate_data[side][curve][\"y\"].extend(y_ms)\n",
    "            firing_rate_data[side][curve][\"frate\"].extend(frate)"
   ]
  },
  {
   "cell_type": "markdown",
   "metadata": {},
   "source": [
    "plot an example unit"
   ]
  },
  {
   "cell_type": "code",
   "execution_count": null,
   "metadata": {},
   "outputs": [],
   "source": [
    "\n",
    "x_shift = [15, 24, 15,  5, ]\n",
    "y_shift = [0, 0,  0,  10,]\n",
    "\n",
    "# get unit data\n",
    "best_unit = sorted_units[10]\n",
    "rec, unit = best_unit[\"identifier\"].split(\"+\")\n",
    "units, left_fl, right_fl, left_hl, right_hl, body = alldata[rec]\n",
    "unit = units.loc[units.unit_id == int(unit.split(\"_\")[-1])].iloc[0]\n",
    "\n",
    "# plot a heatmap of the firing rate at each curve in each direction\n",
    "f, axes = plt.subplots(2, 2, figsize=(16, 9))\n",
    "axes = axes.flatten()\n",
    "\n",
    "for ax in axes:\n",
    "    ax.axis(\"equal\")\n",
    "    ax.axis(\"off\")\n",
    "\n",
    "vmax = [40, 40]\n",
    "\n",
    "for i, side in enumerate((\"left\", \"right\")):\n",
    "    cmap = \"Reds\" if i == 0 else \"Blues\"\n",
    "    for j, curve in enumerate(CURVES):\n",
    "\n",
    "        dx = x_shift[j] if i == 1 else 0\n",
    "        dy = y_shift[j] if i == 1 else 0\n",
    "\n",
    "        x = np.array(firing_rate_data[side][curve][\"x\"]) + dx\n",
    "        y = np.array(firing_rate_data[side][curve][\"y\"]) + dy\n",
    "        frate = np.array(firing_rate_data[side][curve][\"frate\"]) \n",
    "        \n",
    "        # time_frames = np.zeros(int(cross.session_end_frame - cross.session_start_frame))\n",
    "        # time_frames[spikes.astype(np.int)] = 1\n",
    "        # spike_ms = upsample_frames_to_ms(time_frames)\n",
    "        # frate = calc_firing_rate(spike_ms, dt=100) / 1000\n",
    "\n",
    "\n",
    "        im = axes[j].hexbin(x, y, frate, cmap=cmap, gridsize=[10, 15], mincnt=50, vmin=0, vmax=vmax[i])\n",
    "\n",
    "        # add colorbar\n",
    "        if j == 0 and i == 0:\n",
    "            add_colorbar(axes[0], im, \"Firing rate (Hz)\")\n",
    "\n",
    "        if j == 1 and i == 1:\n",
    "            add_colorbar(axes[2], im, \"Firing rate (Hz)\")\n",
    "\n",
    "\n",
    "# save figure \n",
    "# f.savefig(f\"{save_folder}/LR_decoding_example_{TARGET}_{unit.unit_id}_firing_rate.svg\", dpi=300)"
   ]
  },
  {
   "cell_type": "markdown",
   "metadata": {},
   "source": [
    "# Analyze differences in the kinematics"
   ]
  },
  {
   "cell_type": "code",
   "execution_count": null,
   "metadata": {},
   "outputs": [],
   "source": [
    "curve_direction = dict(\n",
    "    first=dict(out=\"right\", _in=\"left\"),\n",
    "    second=dict(out=\"right\", _in=\"left\"),\n",
    "    third=dict(out=\"left\", _in=\"right\"),\n",
    "    fourth=dict(out=\"left\", _in=\"right\"),\n",
    ")\n",
    "\n",
    "\n",
    "speeds = {}\n",
    "\n",
    "for rec in alldata.keys():\n",
    "    print(f\"Doing {rec}\")\n",
    "    out_bouts = get_session_bouts(rec, complete=None)\n",
    "    in_bouts = get_session_bouts(rec, direction=\"inbound\", complete=None)\n",
    "\n",
    "    out_crossings = {curve:get_roi_crossings(out_bouts, curve, ds=20, direction=\"out\") for curve in curves.keys()}\n",
    "    in_crossings = {curve:get_roi_crossings(in_bouts, curve, ds=20, direction=\"in\") for curve in curves.keys()}\n",
    "    \n",
    "    rec_speed = dict(left=[], right=[])\n",
    "    for i, curve in enumerate((\"second\", \"third\", \"fourth\")):\n",
    "        crossings_out = out_crossings[curve]\n",
    "        crossings_in = in_crossings[curve]\n",
    "\n",
    "        for c, crossings in enumerate([crossings_out, crossings_in]):\n",
    "            for _, cross in crossings.iterrows():\n",
    "                bout = out_bouts.iloc[cross.bout_idx] if c  == 0 else in_bouts.iloc[cross.bout_idx]\n",
    "\n",
    "                # get XY coord\n",
    "                speed = np.array(bout.speed[cross.enter_frame:cross.exit_frame])\n",
    "                side = list(curve_direction[curve].values())[c]\n",
    "                rec_speed[side].extend(speed)\n",
    "    speeds[rec] = rec_speed"
   ]
  },
  {
   "cell_type": "code",
   "execution_count": null,
   "metadata": {},
   "outputs": [],
   "source": [
    "f, ax = plt.subplots(1, 1, figsize=(8, 4))\n",
    "\n",
    "for rec, s in speeds.items():\n",
    "    ax.hist(s[\"left\"], bins=np.arange(0, 60, 1), color=\"red\", alpha=0.5)\n",
    "    ax.hist(s[\"right\"], bins=np.arange(0, 60, 1), color=\"black\", alpha=0.5)\n",
    "\n"
   ]
  },
  {
   "cell_type": "markdown",
   "metadata": {},
   "source": [
    "### Fit logistic on speed traces\n",
    "Prep data first"
   ]
  },
  {
   "cell_type": "code",
   "execution_count": null,
   "metadata": {},
   "outputs": [],
   "source": [
    "\n",
    "def bin_x_by_y(\n",
    "    data: pd.DataFrame,\n",
    "    x: str,\n",
    "    y: str,\n",
    "    bins: np.ndarray = 10,\n",
    "    min_count: int = 0,\n",
    "):\n",
    "    \"\"\"\n",
    "        Bins the values in a column X of a dataframe by bins\n",
    "        specified based on the values of another column Y\n",
    "    \"\"\"\n",
    "\n",
    "    # get bins\n",
    "    data[\"bins\"], bins = pd.cut(data[y], bins=bins, retbins=True)\n",
    "    data = data.loc[data.bins != np.nan]\n",
    "    bins_centers = (\n",
    "        bins[0] + np.cumsum(np.diff(bins)) - abs(np.diff(bins)[0] / 2)\n",
    "    )\n",
    "\n",
    "    # get values\n",
    "    mu = data.groupby(\"bins\")[x].mean()\n",
    "    sigma = data.groupby(\"bins\")[x].std()\n",
    "    counts = data.groupby(\"bins\")[x].count()\n",
    "\n",
    "    return bins_centers, mu, sigma, counts\n"
   ]
  },
  {
   "cell_type": "code",
   "execution_count": null,
   "metadata": {},
   "outputs": [],
   "source": [
    "curve_direction = dict(\n",
    "    second=dict(out=\"right\", _in=\"left\"),\n",
    "    third=dict(out=\"left\", _in=\"right\"),\n",
    "    fourth=dict(out=\"left\", _in=\"right\"),\n",
    ")\n",
    "\n",
    "\n",
    "ds = 2\n",
    "bins = np.arange(-20, 20+ds, step=ds)\n",
    "\n",
    "\n",
    "data = {\n",
    "    **dict(\n",
    "        name=[],  # recording name\n",
    "        direction=[],  # direction (out/in)\n",
    "        label=[],  # left, right or straight\n",
    "        nunits = [],\n",
    "    ),\n",
    "    **{s:[] for s in bins[1:]}  # firing rate at each S position bin\n",
    "}\n",
    "\n",
    "\n",
    "\n",
    "for REC in get_recording_names(region=TARGET):\n",
    "    # fetch recording data\n",
    "    # units, left_fl, right_fl, left_hl, right_hl, body = get_data(REC)\n",
    "    units, left_fl, right_fl, left_hl, right_hl, body = alldata[REC]\n",
    "\n",
    "    if units is None or not len(units):\n",
    "        continue\n",
    "    \n",
    "    if TARGET == \"MOs\":\n",
    "        units = units.loc[units.brain_region.isin([\"MOs\", \"MOs1\", \"MOs2/3\", \"MOs5\", \"MOs6a\", \"MOs6b\"])]\n",
    "    else:\n",
    "        units = units.loc[units.brain_region.isin([\"CUN\", \"PPN\"])]\n",
    "        \n",
    "\n",
    "    out_bouts     = get_session_bouts(REC, complete=None)\n",
    "    in_bouts      = get_session_bouts(REC, direction=\"inbound\", complete=None)\n",
    "    out_crossings = {curve:get_roi_crossings(out_bouts, curve, ds=20, direction=\"out\") for curve in curves.keys()}\n",
    "    in_crossings  = {curve:get_roi_crossings(in_bouts, curve, ds=20, direction=\"in\") for curve in curves.keys()}\n",
    "\n",
    "    for curve in (\"second\", \"third\", \"fourth\"):\n",
    "        for (direction, crossings, bouts) in ((\"out\", out_crossings[curve], out_bouts), (\"_in\", in_crossings[curve], in_bouts)):\n",
    "            sign = 1 if direction == \"out\" else -1\n",
    "\n",
    "            for i, cross in crossings.iterrows():\n",
    "\n",
    "                # get spikes at each bin\n",
    "                bout = bouts.iloc[cross.bout_idx]\n",
    "                s = sign * (curves[curve].s - np.array(bout.s[cross.enter_frame:cross.exit_frame]))\n",
    "\n",
    "                # get binned speed\n",
    "                speed = np.array(bout.speed[cross.enter_frame:cross.exit_frame])             \n",
    "                _, binned_speed, _, _ = bin_x_by_y(\n",
    "                    pd.DataFrame(dict(s=s, speed=speed)),\n",
    "                    \"speed\", \"s\", bins=bins\n",
    "                )\n",
    "\n",
    "                # store all data\n",
    "                data[\"name\"].append(REC)\n",
    "                data[\"direction\"].append(direction)\n",
    "                data[\"label\"].append(curve_direction[curve][direction])\n",
    "                data[\"nunits\"].append(len(units))\n",
    "                for i, bin in enumerate(bins[1:]):\n",
    "                    data[bin].append(binned_speed[i])\n",
    "\n",
    "\n",
    "data = pd.DataFrame(data)\n",
    "data = data.join(pd.get_dummies(data[[\"label\", \"direction\"]]))\n",
    "data.head()"
   ]
  },
  {
   "cell_type": "code",
   "execution_count": null,
   "metadata": {},
   "outputs": [],
   "source": [
    "PREDICTED = \"label_right\"\n",
    "results, shuffled_accuracies = {}, []\n",
    "select_cols = list(bins[1:]) + [PREDICTED]\n",
    "units_explained_away_by_speed = 0\n",
    "tot_units = 0\n",
    "for rec in track(data['name'].unique()):\n",
    "    # sample L/R trials to get equal number of trials per direction\n",
    "    rec_data = data.loc[data['name'] == rec]\n",
    "    name = rec_data.name.iloc[0]\n",
    "\n",
    "    side_counts = rec_data.groupby([\"label\"])[\"name\"].count()\n",
    "\n",
    "    try:\n",
    "        n_selected = min(side_counts[\"left\"], side_counts[\"right\"])\n",
    "    except:\n",
    "        continue\n",
    "    \n",
    "    if n_selected < 12:\n",
    "        continue\n",
    "    \n",
    "    left = rec_data.loc[rec_data.label == \"left\"].sample(n_selected)\n",
    "    right = rec_data.loc[rec_data.label == \"right\"].sample(n_selected)\n",
    "\n",
    "    # keep bins + label column\n",
    "    rec_data = pd.concat([left, right])[select_cols].reset_index(drop=True).dropna()\n",
    "\n",
    "    # split train/test\n",
    "    X = rec_data.drop(PREDICTED, axis=1)\n",
    "    y = rec_data[PREDICTED]\n",
    "\n",
    "    # standardize columns of X\n",
    "    X = (X - X.mean()) / (X.std() + 0.0001)\n",
    "\n",
    "\n",
    "    # fit the model with 5x k-fold cross-validation\n",
    "    kf = KFold(n_splits=5, shuffle=True, random_state=42)\n",
    "    kf.get_n_splits(X)\n",
    "    kf_accuracies = []\n",
    "    for train_index, test_index in kf.split(X):\n",
    "        X_train, X_test = X.iloc[train_index], X.iloc[test_index]\n",
    "        y_train, y_test = y.iloc[train_index], y.iloc[test_index]\n",
    "\n",
    "        # fit model\n",
    "        logreg = LogisticRegression()\n",
    "        logreg.fit(X_train, y_train)\n",
    "        kf_accuracies.append(logreg.score(X_test, y_test))\n",
    "\n",
    "\n",
    "    # fit model on randomly shuffled labels\n",
    "    # split X in train/test\n",
    "    X_train, X_test, _, _ = train_test_split(X, y, test_size=.3, random_state=0)\n",
    "    rec_shuffled_accuracies = []\n",
    "    for i in range(100):\n",
    "        y_shuffled = y.sample(frac=1, random_state=i)\n",
    "        _, _, y_shuff_train, y_shuff_test = train_test_split(X, y_shuffled, test_size=0.3, random_state=0)\n",
    "\n",
    "        shuffled_logreg = LogisticRegression()\n",
    "        shuffled_logreg.fit(X_train, y_shuff_train)\n",
    "\n",
    "        acc = shuffled_logreg.score(X_test, y_shuff_test)\n",
    "        shuffled_accuracies.append(acc)\n",
    "        rec_shuffled_accuracies.append(acc)\n",
    "\n",
    "    # check if the model is significantly better than the shuffled labels\n",
    "    tuned = np.mean(kf_accuracies) > np.percentile(rec_shuffled_accuracies, 99)\n",
    "\n",
    "\n",
    "    n_units = data.loc[data['name'] == rec][\"nunits\"].iloc[0]\n",
    "    tot_units += n_units\n",
    "    if tuned:\n",
    "        units_explained_away_by_speed += n_units\n",
    "\n",
    "    results[rec] = dict(\n",
    "        name=name,\n",
    "        model=logreg,\n",
    "        accuracy=np.mean(kf_accuracies),\n",
    "        # scaler=scaler,\n",
    "        tuned = tuned,\n",
    "        X_test=X_test,\n",
    "        y_test=y_test,\n",
    "\n",
    "    )\n",
    "\n",
    "    # if len(results.keys()) > 100:\n",
    "    #     break\n",
    "\n",
    "print(f\"Succesfully fit {len(results.keys())} models\")"
   ]
  },
  {
   "cell_type": "code",
   "execution_count": null,
   "metadata": {},
   "outputs": [],
   "source": [
    "print(f\"{units_explained_away_by_speed}/{tot_units} ({units_explained_away_by_speed/tot_units*100}) units explained away by speed\")"
   ]
  },
  {
   "cell_type": "code",
   "execution_count": null,
   "metadata": {},
   "outputs": [],
   "source": [
    "# get a list of which recordings are tuned\n",
    "tuned_recs = [rec for rec, res in results.items() if res[\"tuned\"]]\n",
    "tuned_recs"
   ]
  },
  {
   "cell_type": "code",
   "execution_count": null,
   "metadata": {},
   "outputs": [],
   "source": [
    "# Plot number of tuned units as bar plot\n",
    "f, ax = plt.subplots(1, 1, figsize=(16, 9))\n",
    "\n",
    "N = len(results.keys())\n",
    "n_tuned = len([r for r in results.values() if r[\"tuned\"]])\n",
    "\n",
    "print(f\"Fraction tuned: {n_tuned/N} - {n_tuned}/{N}\")\n",
    "\n",
    "ax.bar(0, n_tuned/N, color=\"k\")\n",
    "ax.bar(0, (N - n_tuned)/N, bottom=(n_tuned)/N, color=[.75, .75, .75])\n",
    "_ = ax.set(xlim=[-2, 2], ylabel=\"Fraction tuned\", xlabel=TARGET)\n",
    "ax.axhline(.5)\n",
    "\n",
    "\n",
    "f.savefig(save_folder / f\"LR_decoding_{TARGET}_n_tuned_BEAHAV_ONLY.svg\")"
   ]
  },
  {
   "cell_type": "markdown",
   "metadata": {},
   "source": [
    "# Analyze speed tuning\n",
    "\n",
    "Take low/high locomotion speed frames when the mouse is not turning and do a logistic regression to see if you can tell from neural activity. "
   ]
  },
  {
   "cell_type": "code",
   "execution_count": null,
   "metadata": {},
   "outputs": [],
   "source": [
    "from scipy import interpolate\n",
    "from scipy.ndimage import gaussian_filter1d\n",
    "\n",
    "def upsample_frames_to_ms(var):\n",
    "    \"\"\"\n",
    "        Interpolates the values of a variable expressed in frams (60 fps)\n",
    "        to values expressed in milliseconds.\n",
    "    \"\"\"\n",
    "    t_60fps = np.arange(len(var)) / 60\n",
    "    f = interpolate.interp1d(t_60fps, var)\n",
    "\n",
    "    t_1000fps = np.arange(0, t_60fps[-1], step=1 / 1000)\n",
    "    # t_200fps = np.arange(0, t_60fps[-1], step=1/200)\n",
    "    interpolated_variable_values = f(t_1000fps)\n",
    "    return interpolated_variable_values\n"
   ]
  },
  {
   "cell_type": "code",
   "execution_count": 122,
   "metadata": {},
   "outputs": [],
   "source": [
    "regression_data = {}\n",
    "\n",
    "for REC in get_recording_names(region=TARGET):\n",
    "    # fetch recording data\n",
    "    # units, left_fl, right_fl, left_hl, right_hl, body = get_data(REC)\n",
    "    units, left_fl, right_fl, left_hl, right_hl, body = alldata[REC]\n",
    "    \n",
    "    # get tracking data\n",
    "    recdata = pd.DataFrame({\n",
    "        k: upsample_frames_to_ms(body[k]) for k in (\"speed\", \"global_coord\", \"angular_velocity\")\n",
    "    })\n",
    "\n",
    "\n",
    "    # get spike times of each unit\n",
    "    for i, unit in units.iterrows():\n",
    "        spikes = np.zeros_like(body.speed)\n",
    "        spike_times = unit.spikes\n",
    "        spike_times = spike_times[spike_times < len(spikes)]\n",
    "        spikes[spike_times] = 1\n",
    "        spikes = upsample_frames_to_ms(spikes)\n",
    "        spikes[spikes < np.max(spikes)] = 0\n",
    "        recdata[f\"{unit['name']}_{unit.unit_id}\"] = gaussian_filter1d(spikes, sigma=100) * 1000\n",
    "\n",
    "\n",
    "    # keep only when not turning too much\n",
    "    recdata = recdata.loc[\n",
    "        (recdata.angular_velocity > -500) & (recdata.angular_velocity < 500) \n",
    "    ]\n",
    "\n",
    "    # split between slow/fast\n",
    "    slow = recdata.loc[(recdata.speed > 5)&(recdata.speed < 20)]\n",
    "    fast = recdata.loc[recdata.speed > 40]\n",
    "    n_samples = np.min([len(fast), len(slow)]) - 1\n",
    "\n",
    "    if n_samples < 1000: continue\n",
    "    slow = slow.sample(n_samples)\n",
    "    fast = fast.sample(n_samples)\n",
    "\n",
    "    slow[\"speed_class\"] = \"slow\"\n",
    "    fast[\"speed_class\"] = \"fast\"\n",
    "\n",
    "    data = pd.concat([slow, fast])\n",
    "    data = data.join(pd.get_dummies(data[\"speed_class\"]))\n",
    "    regression_data[REC] = data\n"
   ]
  },
  {
   "cell_type": "code",
   "execution_count": 123,
   "metadata": {},
   "outputs": [
    {
     "name": "stdout",
     "output_type": "stream",
     "text": [
      "Fitting FC_210715_AAA1110750_r5_hairpin\n",
      "Fitting FC_210716_AAA1110750_r6_hairpin\n",
      "Fitting FC_210720_AAA1110750_hairpin\n",
      "Fitting FC_210721_AAA1110750_hairpin\n",
      "Fitting FC_210722_AAA1110750_hairpin\n",
      "Fitting FC_211022_BAA110516_hairpin\n",
      "Fitting FC_211027_BAA110516_hairpin\n",
      "Fitting FC_211214_BAA110517_hairpin\n",
      "Fitting FC_220114_BAA110517_hairpin\n",
      "Fitting FC_210830_BAA1110281_hairpin\n",
      "Fitting FC_210831_BAA1110281_hairpin\n",
      "Fitting FC_210901_BAA1110281_hairpin\n",
      "Fitting FC_210906_BAA1110281_hairpin\n"
     ]
    }
   ],
   "source": [
    "results = dict(\n",
    "    tuned = [],\n",
    ")\n",
    "for rec, data in regression_data.items():\n",
    "    print(f\"Fitting {rec}\")\n",
    "    data = data.reset_index(drop=True).dropna()\n",
    "    data = data.drop(['speed', 'global_coord', 'angular_velocity', 'speed_class', 'slow'], axis=1)\n",
    "\n",
    "    # split train/test\n",
    "    X = data.drop([\"fast\"], axis=1)\n",
    "    y = data[\"fast\"]\n",
    "\n",
    "    # standardize columns of X\n",
    "    X = (X - X.mean()) / (X.std() + 0.0001)\n",
    "\n",
    "    for n, unit in enumerate(X.columns):\n",
    "        # print(f\"Fitting {n+1}/{len(X.columns)}\")\n",
    "        x = X[unit]\n",
    "\n",
    "        # fit the model with 5x k-fold cross-validation\n",
    "        kf = KFold(n_splits=5, shuffle=True, random_state=42)\n",
    "        kf.get_n_splits(x)\n",
    "        kf_accuracies = []\n",
    "        for train_index, test_index in kf.split(x):\n",
    "            X_train, X_test = x.iloc[train_index], x.iloc[test_index]\n",
    "            y_train, y_test = y.iloc[train_index], y.iloc[test_index]\n",
    "\n",
    "            # fit model\n",
    "            logreg = LogisticRegression()\n",
    "            logreg.fit(X_train.values.reshape(-1, 1), y_train.values)\n",
    "            kf_accuracies.append(logreg.score(X_test.values.reshape(-1, 1), y_test.values))\n",
    "\n",
    "\n",
    "        # fit model on randomly shuffled labels\n",
    "        # split X in train/test\n",
    "        X_train, X_test, _, _ = train_test_split(x, y, test_size=.3, random_state=0)\n",
    "        rec_shuffled_accuracies = []\n",
    "        for i in range(100):\n",
    "            y_shuffled = y.sample(frac=1, random_state=i)\n",
    "            _, _, y_shuff_train, y_shuff_test = train_test_split(X, y_shuffled, test_size=0.3, random_state=0)\n",
    "\n",
    "            shuffled_logreg = LogisticRegression()\n",
    "            shuffled_logreg.fit(X_train.values.reshape(-1, 1), y_shuff_train.values)\n",
    "\n",
    "            acc = shuffled_logreg.score(X_test.values.reshape(-1, 1), y_shuff_test.values)\n",
    "            rec_shuffled_accuracies.append(acc)\n",
    "\n",
    "        # check if the model is significantly better than the shuffled labels\n",
    "        tuned = np.mean(kf_accuracies) > np.percentile(rec_shuffled_accuracies, 99)\n",
    "        results[\"tuned\"].append(tuned)\n",
    "\n",
    "\n"
   ]
  },
  {
   "cell_type": "code",
   "execution_count": 126,
   "metadata": {},
   "outputs": [
    {
     "name": "stdout",
     "output_type": "stream",
     "text": [
      "Fraction tuned: 0.7727272727272727 - 374/484\n"
     ]
    },
    {
     "data": {
      "text/html": [
       "<pre style=\"white-space:pre;overflow-x:auto;line-height:normal;font-family:Menlo,'DejaVu Sans Mono',consolas,'Courier New',monospace\"><span style=\"font-weight: bold\">&lt;</span><span style=\"color: #ff00ff; text-decoration-color: #ff00ff; font-weight: bold\">Figure</span><span style=\"color: #000000; text-decoration-color: #000000\"> size 1152x648 with </span><span style=\"color: #008080; text-decoration-color: #008080; font-weight: bold\">1</span><span style=\"color: #000000; text-decoration-color: #000000\"> Axes</span><span style=\"font-weight: bold\">&gt;</span>\n",
       "</pre>\n"
      ],
      "text/plain": [
       "\u001b[1m<\u001b[0m\u001b[1;95mFigure\u001b[0m\u001b[39m size 1152x648 with \u001b[0m\u001b[1;36m1\u001b[0m\u001b[39m Axes\u001b[0m\u001b[1m>\u001b[0m\n"
      ]
     },
     "metadata": {},
     "output_type": "display_data"
    },
    {
     "data": {
      "image/png": "[encoded data removed]"
     },
     "metadata": {
      "needs_background": "light"
     },
     "output_type": "display_data"
    }
   ],
   "source": [
    "# plot the fraction of tuned units as a bar plot\n",
    "\n",
    "\n",
    "# Plot number of tuned units as bar plot\n",
    "f, ax = plt.subplots(1, 1, figsize=(16, 9))\n",
    "\n",
    "N = len(results[\"tuned\"])\n",
    "n_tuned = sum(results[\"tuned\"])\n",
    "\n",
    "print(f\"Fraction tuned: {n_tuned/N} - {n_tuned}/{N}\")\n",
    "\n",
    "ax.bar(0, n_tuned/N, color=\"k\")\n",
    "ax.bar(0, (N - n_tuned)/N, bottom=(n_tuned)/N, color=[.75, .75, .75])\n",
    "_ = ax.set(xlim=[-2, 2], ylabel=\"Fraction tuned\", xlabel=TARGET)\n",
    "ax.axhline(.5)\n",
    "\n",
    "\n",
    "f.savefig(save_folder / f\"speed_decoding_{TARGET}_n_tuned.svg\")"
   ]
  },
  {
   "cell_type": "code",
   "execution_count": null,
   "metadata": {},
   "outputs": [],
   "source": []
  },
  {
   "cell_type": "code",
   "execution_count": null,
   "metadata": {},
   "outputs": [],
   "source": []
  }
 ],
 "metadata": {
  "kernelspec": {
   "display_name": "Python 3.8.0 ('glm')",
   "language": "python",
   "name": "python3"
  },
  "language_info": {
   "codemirror_mode": {
    "name": "ipython",
    "version": 3
   },
   "file_extension": ".py",
   "mimetype": "text/x-python",
   "name": "python",
   "nbconvert_exporter": "python",
   "pygments_lexer": "ipython3",
   "version": "3.8.0"
  },
  "orig_nbformat": 4,
  "vscode": {
   "interpreter": {
    "hash": "150ed04e4a7757279df9e34a7668d32a4de2f602328bc7aa115cd7824ea88d27"
   }
  }
 },
 "nbformat": 4,
 "nbformat_minor": 2
}
