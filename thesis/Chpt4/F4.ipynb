{
 "cells": [
  {
   "cell_type": "markdown",
   "metadata": {},
   "source": [
    "# Curve decoding\n",
    "\n",
    "Analysis to see if you can decode left vs right turns from individual units in M2.\n",
    "\n",
    "\n",
    "\n",
    "For each curve ROI we get all the times the mouse crosses it and the associated firing rate (as a function of position relative to the axis).\n",
    "Then for each unit we use a logistic regression model to try and decode if the mouse went left/right through the curve from the firing rates alone. \n",
    "\n"
   ]
  },
  {
   "cell_type": "code",
   "execution_count": 33,
   "metadata": {},
   "outputs": [
    {
     "name": "stdout",
     "output_type": "stream",
     "text": [
      "['FC_210715_AAA1110750_r5_hairpin' 'FC_210716_AAA1110750_r6_hairpin'\n",
      " 'FC_210720_AAA1110750_hairpin' 'FC_210721_AAA1110750_hairpin'\n",
      " 'FC_210722_AAA1110750_hairpin' 'FC_211022_BAA110516_hairpin'\n",
      " 'FC_211027_BAA110516_hairpin' 'FC_211214_BAA110517_hairpin'\n",
      " 'FC_220114_BAA110517_hairpin' 'FC_220117_BAA110517_hairpin'\n",
      " 'FC_220119_BAA110517_hairpin' 'FC_220120_BAA110517_hairpin'\n",
      " 'FC_210917_BAA1110279_hairpin' 'FC_210820_BAA1110281_hairpin'\n",
      " 'FC_210829_BAA1110281_hairpin' 'FC_210830_BAA1110281_hairpin'\n",
      " 'FC_210831_BAA1110281_hairpin' 'FC_210901_BAA1110281_hairpin'\n",
      " 'FC_210906_BAA1110281_hairpin' 'FC_210917_BAA1110281_hairpin']\n"
     ]
    }
   ],
   "source": [
    "# imports\n",
    "import sys\n",
    "import matplotlib.pyplot as plt\n",
    "from pathlib import Path\n",
    "import numpy as np\n",
    "import pandas as pd\n",
    "\n",
    "from sklearn.preprocessing import MinMaxScaler, StandardScaler\n",
    "from sklearn.model_selection import KFold\n",
    "from sklearn.linear_model import LogisticRegression\n",
    "from sklearn.model_selection import train_test_split\n",
    "import statsmodels.api as sm\n",
    "from fcutils.progress import track\n",
    "from sklearn.metrics import roc_auc_score\n",
    "from sklearn.metrics import roc_curve\n",
    "\n",
    "sys.path.append(\"./\")\n",
    "sys.path.append(r\"C:\\Users\\Federico\\Documents\\GitHub\\pysical_locomotion\")\n",
    "\n",
    "from fcutils.plot.figure import clean_axes\n",
    "from fcutils.plot.elements import plot_mean_and_error\n",
    "from fcutils.maths.signals import rolling_mean\n",
    "from analysis.ephys.utils import get_recording_names, get_data, get_session_bouts, curves, get_roi_crossings\n",
    "\n",
    "save_folder = Path(r\"D:\\Dropbox (UCL)\\Rotation_vte\\Writings\\THESIS\\Chpt4\\Plots\")\n",
    "\n",
    "# print all available recordings\n",
    "TARGET = \"CUN/PPN\"\n",
    "print(get_recording_names(region=TARGET))"
   ]
  },
  {
   "cell_type": "code",
   "execution_count": 69,
   "metadata": {},
   "outputs": [],
   "source": [
    "def frate(spikes, s, bins):\n",
    "    \"\"\"\n",
    "        Given the s position at each frame and the frame at which spikes occurred during a ROI crossing,\n",
    "        get firing rate wrt position relative to the apex.\n",
    "    \"\"\"\n",
    "    \n",
    "    n_visits_per_bin = np.histogram(s, bins=bins)[0]\n",
    "\n",
    "    spikes_positions = [s[spike] for spike in spikes]\n",
    "    nspikes_per_bin = np.histogram(spikes_positions, bins=bins)[0]\n",
    "\n",
    "    spikes_positions = rolling_mean(spikes_positions, 5)\n",
    "    nspikes_per_bin = rolling_mean(nspikes_per_bin, 5)\n",
    "\n",
    "    frates = nspikes_per_bin / n_visits_per_bin * 60\n",
    "    frates[np.isnan(frates)] = 0.0\n",
    "    frates[np.isinf(frates)] = 0.0  # a spike but no frame count?\n",
    "    return frates"
   ]
  },
  {
   "cell_type": "code",
   "execution_count": 70,
   "metadata": {},
   "outputs": [],
   "source": [
    "ds = 2\n",
    "bins = np.arange(-20, 20+ds, step=ds)\n",
    "\n",
    "\n",
    "data = {\n",
    "    **dict(\n",
    "        name=[],  # recording name\n",
    "        unit_id=[],  # unit id\n",
    "        brainregion=[],  # brain region\n",
    "        direction=[],  # direction (out/in)\n",
    "        roi = [],  # ROI name\n",
    "        label=[],  # left, right or straight\n",
    "    ),\n",
    "    **{s:[] for s in bins[1:]}  # firing rate at each S position bin\n",
    "}\n"
   ]
  },
  {
   "cell_type": "code",
   "execution_count": 66,
   "metadata": {},
   "outputs": [
    {
     "data": {
      "application/vnd.jupyter.widget-view+json": {
       "model_id": "7730b6b6460a49d884e81d5fef4391b9",
       "version_major": 2,
       "version_minor": 0
      },
      "text/plain": [
       "Output()"
      ]
     },
     "metadata": {},
     "output_type": "display_data"
    },
    {
     "data": {
      "text/html": [
       "<pre style=\"white-space:pre;overflow-x:auto;line-height:normal;font-family:Menlo,'DejaVu Sans Mono',consolas,'Courier New',monospace\"><span style=\"color: #7fbfbf; text-decoration-color: #7fbfbf\">[07/15/22 19:04:06] </span><span style=\"color: #000080; text-decoration-color: #000080\">INFO    </span> Got <span style=\"color: #008080; text-decoration-color: #008080; font-weight: bold\">46</span> units for FC_210715_AAA1110750_r5_hairpin    <a href=\"file://C:\\Users\\Federico\\Documents\\GitHub\\pysical_locomotion\\analysis\\ephys\\utils.py\" target=\"_blank\"><span style=\"color: #7f7f7f; text-decoration-color: #7f7f7f\">utils.py</span></a><span style=\"color: #7f7f7f; text-decoration-color: #7f7f7f\">:</span><a href=\"file://C:\\Users\\Federico\\Documents\\GitHub\\pysical_locomotion\\analysis\\ephys\\utils.py#189\" target=\"_blank\"><span style=\"color: #7f7f7f; text-decoration-color: #7f7f7f\">189</span></a>\n",
       "</pre>\n"
      ],
      "text/plain": [
       "\u001b[2;36m[07/15/22 19:04:06]\u001b[0m\u001b[2;36m \u001b[0m\u001b[34mINFO    \u001b[0m Got \u001b[1;36m46\u001b[0m units for FC_210715_AAA1110750_r5_hairpin    \u001b]8;id=926020;file://C:\\Users\\Federico\\Documents\\GitHub\\pysical_locomotion\\analysis\\ephys\\utils.py\u001b\\\u001b[2mutils.py\u001b[0m\u001b]8;;\u001b\\\u001b[2m:\u001b[0m\u001b]8;id=278077;file://C:\\Users\\Federico\\Documents\\GitHub\\pysical_locomotion\\analysis\\ephys\\utils.py#189\u001b\\\u001b[2m189\u001b[0m\u001b]8;;\u001b\\\n"
      ]
     },
     "metadata": {},
     "output_type": "display_data"
    },
    {
     "data": {
      "text/html": [
       "<pre style=\"white-space:pre;overflow-x:auto;line-height:normal;font-family:Menlo,'DejaVu Sans Mono',consolas,'Courier New',monospace\"><span style=\"color: #7fbfbf; text-decoration-color: #7fbfbf\">[07/15/22 19:04:13] </span><span style=\"color: #000080; text-decoration-color: #000080\">INFO    </span> Got <span style=\"color: #008080; text-decoration-color: #008080; font-weight: bold\">41</span> units for FC_210716_AAA1110750_r6_hairpin    <a href=\"file://C:\\Users\\Federico\\Documents\\GitHub\\pysical_locomotion\\analysis\\ephys\\utils.py\" target=\"_blank\"><span style=\"color: #7f7f7f; text-decoration-color: #7f7f7f\">utils.py</span></a><span style=\"color: #7f7f7f; text-decoration-color: #7f7f7f\">:</span><a href=\"file://C:\\Users\\Federico\\Documents\\GitHub\\pysical_locomotion\\analysis\\ephys\\utils.py#189\" target=\"_blank\"><span style=\"color: #7f7f7f; text-decoration-color: #7f7f7f\">189</span></a>\n",
       "</pre>\n"
      ],
      "text/plain": [
       "\u001b[2;36m[07/15/22 19:04:13]\u001b[0m\u001b[2;36m \u001b[0m\u001b[34mINFO    \u001b[0m Got \u001b[1;36m41\u001b[0m units for FC_210716_AAA1110750_r6_hairpin    \u001b]8;id=624836;file://C:\\Users\\Federico\\Documents\\GitHub\\pysical_locomotion\\analysis\\ephys\\utils.py\u001b\\\u001b[2mutils.py\u001b[0m\u001b]8;;\u001b\\\u001b[2m:\u001b[0m\u001b]8;id=431046;file://C:\\Users\\Federico\\Documents\\GitHub\\pysical_locomotion\\analysis\\ephys\\utils.py#189\u001b\\\u001b[2m189\u001b[0m\u001b]8;;\u001b\\\n"
      ]
     },
     "metadata": {},
     "output_type": "display_data"
    },
    {
     "data": {
      "text/html": [
       "<pre style=\"white-space:pre;overflow-x:auto;line-height:normal;font-family:Menlo,'DejaVu Sans Mono',consolas,'Courier New',monospace\"><span style=\"color: #7fbfbf; text-decoration-color: #7fbfbf\">[07/15/22 19:04:21] </span><span style=\"color: #000080; text-decoration-color: #000080\">INFO    </span> Got <span style=\"color: #008080; text-decoration-color: #008080; font-weight: bold\">26</span> units for FC_210720_AAA1110750_hairpin       <a href=\"file://C:\\Users\\Federico\\Documents\\GitHub\\pysical_locomotion\\analysis\\ephys\\utils.py\" target=\"_blank\"><span style=\"color: #7f7f7f; text-decoration-color: #7f7f7f\">utils.py</span></a><span style=\"color: #7f7f7f; text-decoration-color: #7f7f7f\">:</span><a href=\"file://C:\\Users\\Federico\\Documents\\GitHub\\pysical_locomotion\\analysis\\ephys\\utils.py#189\" target=\"_blank\"><span style=\"color: #7f7f7f; text-decoration-color: #7f7f7f\">189</span></a>\n",
       "</pre>\n"
      ],
      "text/plain": [
       "\u001b[2;36m[07/15/22 19:04:21]\u001b[0m\u001b[2;36m \u001b[0m\u001b[34mINFO    \u001b[0m Got \u001b[1;36m26\u001b[0m units for FC_210720_AAA1110750_hairpin       \u001b]8;id=537607;file://C:\\Users\\Federico\\Documents\\GitHub\\pysical_locomotion\\analysis\\ephys\\utils.py\u001b\\\u001b[2mutils.py\u001b[0m\u001b]8;;\u001b\\\u001b[2m:\u001b[0m\u001b]8;id=695493;file://C:\\Users\\Federico\\Documents\\GitHub\\pysical_locomotion\\analysis\\ephys\\utils.py#189\u001b\\\u001b[2m189\u001b[0m\u001b]8;;\u001b\\\n"
      ]
     },
     "metadata": {},
     "output_type": "display_data"
    },
    {
     "data": {
      "text/html": [
       "<pre style=\"white-space:pre;overflow-x:auto;line-height:normal;font-family:Menlo,'DejaVu Sans Mono',consolas,'Courier New',monospace\"><span style=\"color: #7fbfbf; text-decoration-color: #7fbfbf\">[07/15/22 19:04:29] </span><span style=\"color: #000080; text-decoration-color: #000080\">INFO    </span> Got <span style=\"color: #008080; text-decoration-color: #008080; font-weight: bold\">0</span> units for FC_210721_AAA1110750_hairpin        <a href=\"file://C:\\Users\\Federico\\Documents\\GitHub\\pysical_locomotion\\analysis\\ephys\\utils.py\" target=\"_blank\"><span style=\"color: #7f7f7f; text-decoration-color: #7f7f7f\">utils.py</span></a><span style=\"color: #7f7f7f; text-decoration-color: #7f7f7f\">:</span><a href=\"file://C:\\Users\\Federico\\Documents\\GitHub\\pysical_locomotion\\analysis\\ephys\\utils.py#189\" target=\"_blank\"><span style=\"color: #7f7f7f; text-decoration-color: #7f7f7f\">189</span></a>\n",
       "</pre>\n"
      ],
      "text/plain": [
       "\u001b[2;36m[07/15/22 19:04:29]\u001b[0m\u001b[2;36m \u001b[0m\u001b[34mINFO    \u001b[0m Got \u001b[1;36m0\u001b[0m units for FC_210721_AAA1110750_hairpin        \u001b]8;id=373450;file://C:\\Users\\Federico\\Documents\\GitHub\\pysical_locomotion\\analysis\\ephys\\utils.py\u001b\\\u001b[2mutils.py\u001b[0m\u001b]8;;\u001b\\\u001b[2m:\u001b[0m\u001b]8;id=709074;file://C:\\Users\\Federico\\Documents\\GitHub\\pysical_locomotion\\analysis\\ephys\\utils.py#189\u001b\\\u001b[2m189\u001b[0m\u001b]8;;\u001b\\\n"
      ]
     },
     "metadata": {},
     "output_type": "display_data"
    },
    {
     "data": {
      "text/html": [
       "<pre style=\"white-space:pre;overflow-x:auto;line-height:normal;font-family:Menlo,'DejaVu Sans Mono',consolas,'Courier New',monospace\"><span style=\"color: #7fbfbf; text-decoration-color: #7fbfbf\">[07/15/22 19:04:34] </span><span style=\"color: #000080; text-decoration-color: #000080\">INFO    </span> Got <span style=\"color: #008080; text-decoration-color: #008080; font-weight: bold\">28</span> units for FC_210722_AAA1110750_hairpin       <a href=\"file://C:\\Users\\Federico\\Documents\\GitHub\\pysical_locomotion\\analysis\\ephys\\utils.py\" target=\"_blank\"><span style=\"color: #7f7f7f; text-decoration-color: #7f7f7f\">utils.py</span></a><span style=\"color: #7f7f7f; text-decoration-color: #7f7f7f\">:</span><a href=\"file://C:\\Users\\Federico\\Documents\\GitHub\\pysical_locomotion\\analysis\\ephys\\utils.py#189\" target=\"_blank\"><span style=\"color: #7f7f7f; text-decoration-color: #7f7f7f\">189</span></a>\n",
       "</pre>\n"
      ],
      "text/plain": [
       "\u001b[2;36m[07/15/22 19:04:34]\u001b[0m\u001b[2;36m \u001b[0m\u001b[34mINFO    \u001b[0m Got \u001b[1;36m28\u001b[0m units for FC_210722_AAA1110750_hairpin       \u001b]8;id=107167;file://C:\\Users\\Federico\\Documents\\GitHub\\pysical_locomotion\\analysis\\ephys\\utils.py\u001b\\\u001b[2mutils.py\u001b[0m\u001b]8;;\u001b\\\u001b[2m:\u001b[0m\u001b]8;id=442965;file://C:\\Users\\Federico\\Documents\\GitHub\\pysical_locomotion\\analysis\\ephys\\utils.py#189\u001b\\\u001b[2m189\u001b[0m\u001b]8;;\u001b\\\n"
      ]
     },
     "metadata": {},
     "output_type": "display_data"
    },
    {
     "data": {
      "text/html": [
       "<pre style=\"white-space:pre;overflow-x:auto;line-height:normal;font-family:Menlo,'DejaVu Sans Mono',consolas,'Courier New',monospace\"><span style=\"color: #7fbfbf; text-decoration-color: #7fbfbf\">[07/15/22 19:04:42] </span><span style=\"color: #000080; text-decoration-color: #000080\">INFO    </span> Got <span style=\"color: #008080; text-decoration-color: #008080; font-weight: bold\">28</span> units for FC_211022_BAA110516_hairpin        <a href=\"file://C:\\Users\\Federico\\Documents\\GitHub\\pysical_locomotion\\analysis\\ephys\\utils.py\" target=\"_blank\"><span style=\"color: #7f7f7f; text-decoration-color: #7f7f7f\">utils.py</span></a><span style=\"color: #7f7f7f; text-decoration-color: #7f7f7f\">:</span><a href=\"file://C:\\Users\\Federico\\Documents\\GitHub\\pysical_locomotion\\analysis\\ephys\\utils.py#189\" target=\"_blank\"><span style=\"color: #7f7f7f; text-decoration-color: #7f7f7f\">189</span></a>\n",
       "</pre>\n"
      ],
      "text/plain": [
       "\u001b[2;36m[07/15/22 19:04:42]\u001b[0m\u001b[2;36m \u001b[0m\u001b[34mINFO    \u001b[0m Got \u001b[1;36m28\u001b[0m units for FC_211022_BAA110516_hairpin        \u001b]8;id=312028;file://C:\\Users\\Federico\\Documents\\GitHub\\pysical_locomotion\\analysis\\ephys\\utils.py\u001b\\\u001b[2mutils.py\u001b[0m\u001b]8;;\u001b\\\u001b[2m:\u001b[0m\u001b]8;id=549192;file://C:\\Users\\Federico\\Documents\\GitHub\\pysical_locomotion\\analysis\\ephys\\utils.py#189\u001b\\\u001b[2m189\u001b[0m\u001b]8;;\u001b\\\n"
      ]
     },
     "metadata": {},
     "output_type": "display_data"
    },
    {
     "data": {
      "text/html": [
       "<pre style=\"white-space:pre;overflow-x:auto;line-height:normal;font-family:Menlo,'DejaVu Sans Mono',consolas,'Courier New',monospace\"><span style=\"color: #7fbfbf; text-decoration-color: #7fbfbf\">[07/15/22 19:04:50] </span><span style=\"color: #000080; text-decoration-color: #000080\">INFO    </span> Got <span style=\"color: #008080; text-decoration-color: #008080; font-weight: bold\">23</span> units for FC_211027_BAA110516_hairpin        <a href=\"file://C:\\Users\\Federico\\Documents\\GitHub\\pysical_locomotion\\analysis\\ephys\\utils.py\" target=\"_blank\"><span style=\"color: #7f7f7f; text-decoration-color: #7f7f7f\">utils.py</span></a><span style=\"color: #7f7f7f; text-decoration-color: #7f7f7f\">:</span><a href=\"file://C:\\Users\\Federico\\Documents\\GitHub\\pysical_locomotion\\analysis\\ephys\\utils.py#189\" target=\"_blank\"><span style=\"color: #7f7f7f; text-decoration-color: #7f7f7f\">189</span></a>\n",
       "</pre>\n"
      ],
      "text/plain": [
       "\u001b[2;36m[07/15/22 19:04:50]\u001b[0m\u001b[2;36m \u001b[0m\u001b[34mINFO    \u001b[0m Got \u001b[1;36m23\u001b[0m units for FC_211027_BAA110516_hairpin        \u001b]8;id=517998;file://C:\\Users\\Federico\\Documents\\GitHub\\pysical_locomotion\\analysis\\ephys\\utils.py\u001b\\\u001b[2mutils.py\u001b[0m\u001b]8;;\u001b\\\u001b[2m:\u001b[0m\u001b]8;id=139871;file://C:\\Users\\Federico\\Documents\\GitHub\\pysical_locomotion\\analysis\\ephys\\utils.py#189\u001b\\\u001b[2m189\u001b[0m\u001b]8;;\u001b\\\n"
      ]
     },
     "metadata": {},
     "output_type": "display_data"
    },
    {
     "data": {
      "text/html": [
       "<pre style=\"white-space:pre;overflow-x:auto;line-height:normal;font-family:Menlo,'DejaVu Sans Mono',consolas,'Courier New',monospace\"><span style=\"color: #7fbfbf; text-decoration-color: #7fbfbf\">[07/15/22 19:04:58] </span><span style=\"color: #000080; text-decoration-color: #000080\">INFO    </span> Got <span style=\"color: #008080; text-decoration-color: #008080; font-weight: bold\">52</span> units for FC_211214_BAA110517_hairpin        <a href=\"file://C:\\Users\\Federico\\Documents\\GitHub\\pysical_locomotion\\analysis\\ephys\\utils.py\" target=\"_blank\"><span style=\"color: #7f7f7f; text-decoration-color: #7f7f7f\">utils.py</span></a><span style=\"color: #7f7f7f; text-decoration-color: #7f7f7f\">:</span><a href=\"file://C:\\Users\\Federico\\Documents\\GitHub\\pysical_locomotion\\analysis\\ephys\\utils.py#189\" target=\"_blank\"><span style=\"color: #7f7f7f; text-decoration-color: #7f7f7f\">189</span></a>\n",
       "</pre>\n"
      ],
      "text/plain": [
       "\u001b[2;36m[07/15/22 19:04:58]\u001b[0m\u001b[2;36m \u001b[0m\u001b[34mINFO    \u001b[0m Got \u001b[1;36m52\u001b[0m units for FC_211214_BAA110517_hairpin        \u001b]8;id=622836;file://C:\\Users\\Federico\\Documents\\GitHub\\pysical_locomotion\\analysis\\ephys\\utils.py\u001b\\\u001b[2mutils.py\u001b[0m\u001b]8;;\u001b\\\u001b[2m:\u001b[0m\u001b]8;id=265372;file://C:\\Users\\Federico\\Documents\\GitHub\\pysical_locomotion\\analysis\\ephys\\utils.py#189\u001b\\\u001b[2m189\u001b[0m\u001b]8;;\u001b\\\n"
      ]
     },
     "metadata": {},
     "output_type": "display_data"
    },
    {
     "data": {
      "text/html": [
       "<pre style=\"white-space:pre;overflow-x:auto;line-height:normal;font-family:Menlo,'DejaVu Sans Mono',consolas,'Courier New',monospace\"><span style=\"color: #7fbfbf; text-decoration-color: #7fbfbf\">[07/15/22 19:05:02] </span><span style=\"color: #000080; text-decoration-color: #000080\">INFO    </span> Got <span style=\"color: #008080; text-decoration-color: #008080; font-weight: bold\">37</span> units for FC_220114_BAA110517_hairpin        <a href=\"file://C:\\Users\\Federico\\Documents\\GitHub\\pysical_locomotion\\analysis\\ephys\\utils.py\" target=\"_blank\"><span style=\"color: #7f7f7f; text-decoration-color: #7f7f7f\">utils.py</span></a><span style=\"color: #7f7f7f; text-decoration-color: #7f7f7f\">:</span><a href=\"file://C:\\Users\\Federico\\Documents\\GitHub\\pysical_locomotion\\analysis\\ephys\\utils.py#189\" target=\"_blank\"><span style=\"color: #7f7f7f; text-decoration-color: #7f7f7f\">189</span></a>\n",
       "</pre>\n"
      ],
      "text/plain": [
       "\u001b[2;36m[07/15/22 19:05:02]\u001b[0m\u001b[2;36m \u001b[0m\u001b[34mINFO    \u001b[0m Got \u001b[1;36m37\u001b[0m units for FC_220114_BAA110517_hairpin        \u001b]8;id=194250;file://C:\\Users\\Federico\\Documents\\GitHub\\pysical_locomotion\\analysis\\ephys\\utils.py\u001b\\\u001b[2mutils.py\u001b[0m\u001b]8;;\u001b\\\u001b[2m:\u001b[0m\u001b]8;id=561349;file://C:\\Users\\Federico\\Documents\\GitHub\\pysical_locomotion\\analysis\\ephys\\utils.py#189\u001b\\\u001b[2m189\u001b[0m\u001b]8;;\u001b\\\n"
      ]
     },
     "metadata": {},
     "output_type": "display_data"
    },
    {
     "data": {
      "text/html": [
       "<pre style=\"white-space:pre;overflow-x:auto;line-height:normal;font-family:Menlo,'DejaVu Sans Mono',consolas,'Courier New',monospace\"><span style=\"color: #7fbfbf; text-decoration-color: #7fbfbf\">[07/15/22 19:05:09] </span><span style=\"color: #000080; text-decoration-color: #000080\">INFO    </span> Got <span style=\"color: #008080; text-decoration-color: #008080; font-weight: bold\">41</span> units for FC_220117_BAA110517_hairpin        <a href=\"file://C:\\Users\\Federico\\Documents\\GitHub\\pysical_locomotion\\analysis\\ephys\\utils.py\" target=\"_blank\"><span style=\"color: #7f7f7f; text-decoration-color: #7f7f7f\">utils.py</span></a><span style=\"color: #7f7f7f; text-decoration-color: #7f7f7f\">:</span><a href=\"file://C:\\Users\\Federico\\Documents\\GitHub\\pysical_locomotion\\analysis\\ephys\\utils.py#189\" target=\"_blank\"><span style=\"color: #7f7f7f; text-decoration-color: #7f7f7f\">189</span></a>\n",
       "</pre>\n"
      ],
      "text/plain": [
       "\u001b[2;36m[07/15/22 19:05:09]\u001b[0m\u001b[2;36m \u001b[0m\u001b[34mINFO    \u001b[0m Got \u001b[1;36m41\u001b[0m units for FC_220117_BAA110517_hairpin        \u001b]8;id=954776;file://C:\\Users\\Federico\\Documents\\GitHub\\pysical_locomotion\\analysis\\ephys\\utils.py\u001b\\\u001b[2mutils.py\u001b[0m\u001b]8;;\u001b\\\u001b[2m:\u001b[0m\u001b]8;id=791835;file://C:\\Users\\Federico\\Documents\\GitHub\\pysical_locomotion\\analysis\\ephys\\utils.py#189\u001b\\\u001b[2m189\u001b[0m\u001b]8;;\u001b\\\n"
      ]
     },
     "metadata": {},
     "output_type": "display_data"
    },
    {
     "data": {
      "text/html": [
       "<pre style=\"white-space:pre;overflow-x:auto;line-height:normal;font-family:Menlo,'DejaVu Sans Mono',consolas,'Courier New',monospace\"><span style=\"color: #7fbfbf; text-decoration-color: #7fbfbf\">[07/15/22 19:05:17] </span><span style=\"color: #000080; text-decoration-color: #000080\">INFO    </span> Got <span style=\"color: #008080; text-decoration-color: #008080; font-weight: bold\">58</span> units for FC_220119_BAA110517_hairpin        <a href=\"file://C:\\Users\\Federico\\Documents\\GitHub\\pysical_locomotion\\analysis\\ephys\\utils.py\" target=\"_blank\"><span style=\"color: #7f7f7f; text-decoration-color: #7f7f7f\">utils.py</span></a><span style=\"color: #7f7f7f; text-decoration-color: #7f7f7f\">:</span><a href=\"file://C:\\Users\\Federico\\Documents\\GitHub\\pysical_locomotion\\analysis\\ephys\\utils.py#189\" target=\"_blank\"><span style=\"color: #7f7f7f; text-decoration-color: #7f7f7f\">189</span></a>\n",
       "</pre>\n"
      ],
      "text/plain": [
       "\u001b[2;36m[07/15/22 19:05:17]\u001b[0m\u001b[2;36m \u001b[0m\u001b[34mINFO    \u001b[0m Got \u001b[1;36m58\u001b[0m units for FC_220119_BAA110517_hairpin        \u001b]8;id=762766;file://C:\\Users\\Federico\\Documents\\GitHub\\pysical_locomotion\\analysis\\ephys\\utils.py\u001b\\\u001b[2mutils.py\u001b[0m\u001b]8;;\u001b\\\u001b[2m:\u001b[0m\u001b]8;id=578170;file://C:\\Users\\Federico\\Documents\\GitHub\\pysical_locomotion\\analysis\\ephys\\utils.py#189\u001b\\\u001b[2m189\u001b[0m\u001b]8;;\u001b\\\n"
      ]
     },
     "metadata": {},
     "output_type": "display_data"
    },
    {
     "data": {
      "text/html": [
       "<pre style=\"white-space:pre;overflow-x:auto;line-height:normal;font-family:Menlo,'DejaVu Sans Mono',consolas,'Courier New',monospace\"><span style=\"color: #7fbfbf; text-decoration-color: #7fbfbf\">[07/15/22 19:05:27] </span><span style=\"color: #000080; text-decoration-color: #000080\">INFO    </span> Got <span style=\"color: #008080; text-decoration-color: #008080; font-weight: bold\">56</span> units for FC_220120_BAA110517_hairpin        <a href=\"file://C:\\Users\\Federico\\Documents\\GitHub\\pysical_locomotion\\analysis\\ephys\\utils.py\" target=\"_blank\"><span style=\"color: #7f7f7f; text-decoration-color: #7f7f7f\">utils.py</span></a><span style=\"color: #7f7f7f; text-decoration-color: #7f7f7f\">:</span><a href=\"file://C:\\Users\\Federico\\Documents\\GitHub\\pysical_locomotion\\analysis\\ephys\\utils.py#189\" target=\"_blank\"><span style=\"color: #7f7f7f; text-decoration-color: #7f7f7f\">189</span></a>\n",
       "</pre>\n"
      ],
      "text/plain": [
       "\u001b[2;36m[07/15/22 19:05:27]\u001b[0m\u001b[2;36m \u001b[0m\u001b[34mINFO    \u001b[0m Got \u001b[1;36m56\u001b[0m units for FC_220120_BAA110517_hairpin        \u001b]8;id=935736;file://C:\\Users\\Federico\\Documents\\GitHub\\pysical_locomotion\\analysis\\ephys\\utils.py\u001b\\\u001b[2mutils.py\u001b[0m\u001b]8;;\u001b\\\u001b[2m:\u001b[0m\u001b]8;id=493836;file://C:\\Users\\Federico\\Documents\\GitHub\\pysical_locomotion\\analysis\\ephys\\utils.py#189\u001b\\\u001b[2m189\u001b[0m\u001b]8;;\u001b\\\n"
      ]
     },
     "metadata": {},
     "output_type": "display_data"
    },
    {
     "data": {
      "text/html": [
       "<pre style=\"white-space:pre;overflow-x:auto;line-height:normal;font-family:Menlo,'DejaVu Sans Mono',consolas,'Courier New',monospace\"><span style=\"color: #7fbfbf; text-decoration-color: #7fbfbf\">[07/15/22 19:05:34] </span><span style=\"color: #000080; text-decoration-color: #000080\">INFO    </span> Got <span style=\"color: #008080; text-decoration-color: #008080; font-weight: bold\">7</span> units for FC_210917_BAA1110279_hairpin        <a href=\"file://C:\\Users\\Federico\\Documents\\GitHub\\pysical_locomotion\\analysis\\ephys\\utils.py\" target=\"_blank\"><span style=\"color: #7f7f7f; text-decoration-color: #7f7f7f\">utils.py</span></a><span style=\"color: #7f7f7f; text-decoration-color: #7f7f7f\">:</span><a href=\"file://C:\\Users\\Federico\\Documents\\GitHub\\pysical_locomotion\\analysis\\ephys\\utils.py#189\" target=\"_blank\"><span style=\"color: #7f7f7f; text-decoration-color: #7f7f7f\">189</span></a>\n",
       "</pre>\n"
      ],
      "text/plain": [
       "\u001b[2;36m[07/15/22 19:05:34]\u001b[0m\u001b[2;36m \u001b[0m\u001b[34mINFO    \u001b[0m Got \u001b[1;36m7\u001b[0m units for FC_210917_BAA1110279_hairpin        \u001b]8;id=413378;file://C:\\Users\\Federico\\Documents\\GitHub\\pysical_locomotion\\analysis\\ephys\\utils.py\u001b\\\u001b[2mutils.py\u001b[0m\u001b]8;;\u001b\\\u001b[2m:\u001b[0m\u001b]8;id=864986;file://C:\\Users\\Federico\\Documents\\GitHub\\pysical_locomotion\\analysis\\ephys\\utils.py#189\u001b\\\u001b[2m189\u001b[0m\u001b]8;;\u001b\\\n"
      ]
     },
     "metadata": {},
     "output_type": "display_data"
    },
    {
     "data": {
      "text/html": [
       "<pre style=\"white-space:pre;overflow-x:auto;line-height:normal;font-family:Menlo,'DejaVu Sans Mono',consolas,'Courier New',monospace\"><span style=\"color: #7fbfbf; text-decoration-color: #7fbfbf\">[07/15/22 19:05:38] </span><span style=\"color: #000080; text-decoration-color: #000080\">INFO    </span> Got <span style=\"color: #008080; text-decoration-color: #008080; font-weight: bold\">83</span> units for FC_210820_BAA1110281_hairpin       <a href=\"file://C:\\Users\\Federico\\Documents\\GitHub\\pysical_locomotion\\analysis\\ephys\\utils.py\" target=\"_blank\"><span style=\"color: #7f7f7f; text-decoration-color: #7f7f7f\">utils.py</span></a><span style=\"color: #7f7f7f; text-decoration-color: #7f7f7f\">:</span><a href=\"file://C:\\Users\\Federico\\Documents\\GitHub\\pysical_locomotion\\analysis\\ephys\\utils.py#189\" target=\"_blank\"><span style=\"color: #7f7f7f; text-decoration-color: #7f7f7f\">189</span></a>\n",
       "</pre>\n"
      ],
      "text/plain": [
       "\u001b[2;36m[07/15/22 19:05:38]\u001b[0m\u001b[2;36m \u001b[0m\u001b[34mINFO    \u001b[0m Got \u001b[1;36m83\u001b[0m units for FC_210820_BAA1110281_hairpin       \u001b]8;id=451096;file://C:\\Users\\Federico\\Documents\\GitHub\\pysical_locomotion\\analysis\\ephys\\utils.py\u001b\\\u001b[2mutils.py\u001b[0m\u001b]8;;\u001b\\\u001b[2m:\u001b[0m\u001b]8;id=253674;file://C:\\Users\\Federico\\Documents\\GitHub\\pysical_locomotion\\analysis\\ephys\\utils.py#189\u001b\\\u001b[2m189\u001b[0m\u001b]8;;\u001b\\\n"
      ]
     },
     "metadata": {},
     "output_type": "display_data"
    },
    {
     "data": {
      "text/html": [
       "<pre style=\"white-space:pre;overflow-x:auto;line-height:normal;font-family:Menlo,'DejaVu Sans Mono',consolas,'Courier New',monospace\"><span style=\"color: #7fbfbf; text-decoration-color: #7fbfbf\">[07/15/22 19:05:45] </span><span style=\"color: #000080; text-decoration-color: #000080\">INFO    </span> Got <span style=\"color: #008080; text-decoration-color: #008080; font-weight: bold\">65</span> units for FC_210829_BAA1110281_hairpin       <a href=\"file://C:\\Users\\Federico\\Documents\\GitHub\\pysical_locomotion\\analysis\\ephys\\utils.py\" target=\"_blank\"><span style=\"color: #7f7f7f; text-decoration-color: #7f7f7f\">utils.py</span></a><span style=\"color: #7f7f7f; text-decoration-color: #7f7f7f\">:</span><a href=\"file://C:\\Users\\Federico\\Documents\\GitHub\\pysical_locomotion\\analysis\\ephys\\utils.py#189\" target=\"_blank\"><span style=\"color: #7f7f7f; text-decoration-color: #7f7f7f\">189</span></a>\n",
       "</pre>\n"
      ],
      "text/plain": [
       "\u001b[2;36m[07/15/22 19:05:45]\u001b[0m\u001b[2;36m \u001b[0m\u001b[34mINFO    \u001b[0m Got \u001b[1;36m65\u001b[0m units for FC_210829_BAA1110281_hairpin       \u001b]8;id=517015;file://C:\\Users\\Federico\\Documents\\GitHub\\pysical_locomotion\\analysis\\ephys\\utils.py\u001b\\\u001b[2mutils.py\u001b[0m\u001b]8;;\u001b\\\u001b[2m:\u001b[0m\u001b]8;id=801769;file://C:\\Users\\Federico\\Documents\\GitHub\\pysical_locomotion\\analysis\\ephys\\utils.py#189\u001b\\\u001b[2m189\u001b[0m\u001b]8;;\u001b\\\n"
      ]
     },
     "metadata": {},
     "output_type": "display_data"
    },
    {
     "data": {
      "text/html": [
       "<pre style=\"white-space:pre;overflow-x:auto;line-height:normal;font-family:Menlo,'DejaVu Sans Mono',consolas,'Courier New',monospace\"><span style=\"color: #7fbfbf; text-decoration-color: #7fbfbf\">[07/15/22 19:05:55] </span><span style=\"color: #000080; text-decoration-color: #000080\">INFO    </span> Got <span style=\"color: #008080; text-decoration-color: #008080; font-weight: bold\">50</span> units for FC_210830_BAA1110281_hairpin       <a href=\"file://C:\\Users\\Federico\\Documents\\GitHub\\pysical_locomotion\\analysis\\ephys\\utils.py\" target=\"_blank\"><span style=\"color: #7f7f7f; text-decoration-color: #7f7f7f\">utils.py</span></a><span style=\"color: #7f7f7f; text-decoration-color: #7f7f7f\">:</span><a href=\"file://C:\\Users\\Federico\\Documents\\GitHub\\pysical_locomotion\\analysis\\ephys\\utils.py#189\" target=\"_blank\"><span style=\"color: #7f7f7f; text-decoration-color: #7f7f7f\">189</span></a>\n",
       "</pre>\n"
      ],
      "text/plain": [
       "\u001b[2;36m[07/15/22 19:05:55]\u001b[0m\u001b[2;36m \u001b[0m\u001b[34mINFO    \u001b[0m Got \u001b[1;36m50\u001b[0m units for FC_210830_BAA1110281_hairpin       \u001b]8;id=649963;file://C:\\Users\\Federico\\Documents\\GitHub\\pysical_locomotion\\analysis\\ephys\\utils.py\u001b\\\u001b[2mutils.py\u001b[0m\u001b]8;;\u001b\\\u001b[2m:\u001b[0m\u001b]8;id=879435;file://C:\\Users\\Federico\\Documents\\GitHub\\pysical_locomotion\\analysis\\ephys\\utils.py#189\u001b\\\u001b[2m189\u001b[0m\u001b]8;;\u001b\\\n"
      ]
     },
     "metadata": {},
     "output_type": "display_data"
    },
    {
     "data": {
      "text/html": [
       "<pre style=\"white-space:pre;overflow-x:auto;line-height:normal;font-family:Menlo,'DejaVu Sans Mono',consolas,'Courier New',monospace\"><span style=\"color: #7fbfbf; text-decoration-color: #7fbfbf\">[07/15/22 19:06:04] </span><span style=\"color: #000080; text-decoration-color: #000080\">INFO    </span> Got <span style=\"color: #008080; text-decoration-color: #008080; font-weight: bold\">92</span> units for FC_210831_BAA1110281_hairpin       <a href=\"file://C:\\Users\\Federico\\Documents\\GitHub\\pysical_locomotion\\analysis\\ephys\\utils.py\" target=\"_blank\"><span style=\"color: #7f7f7f; text-decoration-color: #7f7f7f\">utils.py</span></a><span style=\"color: #7f7f7f; text-decoration-color: #7f7f7f\">:</span><a href=\"file://C:\\Users\\Federico\\Documents\\GitHub\\pysical_locomotion\\analysis\\ephys\\utils.py#189\" target=\"_blank\"><span style=\"color: #7f7f7f; text-decoration-color: #7f7f7f\">189</span></a>\n",
       "</pre>\n"
      ],
      "text/plain": [
       "\u001b[2;36m[07/15/22 19:06:04]\u001b[0m\u001b[2;36m \u001b[0m\u001b[34mINFO    \u001b[0m Got \u001b[1;36m92\u001b[0m units for FC_210831_BAA1110281_hairpin       \u001b]8;id=385203;file://C:\\Users\\Federico\\Documents\\GitHub\\pysical_locomotion\\analysis\\ephys\\utils.py\u001b\\\u001b[2mutils.py\u001b[0m\u001b]8;;\u001b\\\u001b[2m:\u001b[0m\u001b]8;id=727439;file://C:\\Users\\Federico\\Documents\\GitHub\\pysical_locomotion\\analysis\\ephys\\utils.py#189\u001b\\\u001b[2m189\u001b[0m\u001b]8;;\u001b\\\n"
      ]
     },
     "metadata": {},
     "output_type": "display_data"
    },
    {
     "data": {
      "text/html": [
       "<pre style=\"white-space:pre;overflow-x:auto;line-height:normal;font-family:Menlo,'DejaVu Sans Mono',consolas,'Courier New',monospace\"><span style=\"color: #7fbfbf; text-decoration-color: #7fbfbf\">[07/15/22 19:06:14] </span><span style=\"color: #000080; text-decoration-color: #000080\">INFO    </span> Got <span style=\"color: #008080; text-decoration-color: #008080; font-weight: bold\">0</span> units for FC_210901_BAA1110281_hairpin        <a href=\"file://C:\\Users\\Federico\\Documents\\GitHub\\pysical_locomotion\\analysis\\ephys\\utils.py\" target=\"_blank\"><span style=\"color: #7f7f7f; text-decoration-color: #7f7f7f\">utils.py</span></a><span style=\"color: #7f7f7f; text-decoration-color: #7f7f7f\">:</span><a href=\"file://C:\\Users\\Federico\\Documents\\GitHub\\pysical_locomotion\\analysis\\ephys\\utils.py#189\" target=\"_blank\"><span style=\"color: #7f7f7f; text-decoration-color: #7f7f7f\">189</span></a>\n",
       "</pre>\n"
      ],
      "text/plain": [
       "\u001b[2;36m[07/15/22 19:06:14]\u001b[0m\u001b[2;36m \u001b[0m\u001b[34mINFO    \u001b[0m Got \u001b[1;36m0\u001b[0m units for FC_210901_BAA1110281_hairpin        \u001b]8;id=701871;file://C:\\Users\\Federico\\Documents\\GitHub\\pysical_locomotion\\analysis\\ephys\\utils.py\u001b\\\u001b[2mutils.py\u001b[0m\u001b]8;;\u001b\\\u001b[2m:\u001b[0m\u001b]8;id=523935;file://C:\\Users\\Federico\\Documents\\GitHub\\pysical_locomotion\\analysis\\ephys\\utils.py#189\u001b\\\u001b[2m189\u001b[0m\u001b]8;;\u001b\\\n"
      ]
     },
     "metadata": {},
     "output_type": "display_data"
    },
    {
     "data": {
      "text/html": [
       "<pre style=\"white-space:pre;overflow-x:auto;line-height:normal;font-family:Menlo,'DejaVu Sans Mono',consolas,'Courier New',monospace\"><span style=\"color: #7fbfbf; text-decoration-color: #7fbfbf\">[07/15/22 19:06:20] </span><span style=\"color: #000080; text-decoration-color: #000080\">INFO    </span> Got <span style=\"color: #008080; text-decoration-color: #008080; font-weight: bold\">61</span> units for FC_210906_BAA1110281_hairpin       <a href=\"file://C:\\Users\\Federico\\Documents\\GitHub\\pysical_locomotion\\analysis\\ephys\\utils.py\" target=\"_blank\"><span style=\"color: #7f7f7f; text-decoration-color: #7f7f7f\">utils.py</span></a><span style=\"color: #7f7f7f; text-decoration-color: #7f7f7f\">:</span><a href=\"file://C:\\Users\\Federico\\Documents\\GitHub\\pysical_locomotion\\analysis\\ephys\\utils.py#189\" target=\"_blank\"><span style=\"color: #7f7f7f; text-decoration-color: #7f7f7f\">189</span></a>\n",
       "</pre>\n"
      ],
      "text/plain": [
       "\u001b[2;36m[07/15/22 19:06:20]\u001b[0m\u001b[2;36m \u001b[0m\u001b[34mINFO    \u001b[0m Got \u001b[1;36m61\u001b[0m units for FC_210906_BAA1110281_hairpin       \u001b]8;id=892273;file://C:\\Users\\Federico\\Documents\\GitHub\\pysical_locomotion\\analysis\\ephys\\utils.py\u001b\\\u001b[2mutils.py\u001b[0m\u001b]8;;\u001b\\\u001b[2m:\u001b[0m\u001b]8;id=215104;file://C:\\Users\\Federico\\Documents\\GitHub\\pysical_locomotion\\analysis\\ephys\\utils.py#189\u001b\\\u001b[2m189\u001b[0m\u001b]8;;\u001b\\\n"
      ]
     },
     "metadata": {},
     "output_type": "display_data"
    },
    {
     "data": {
      "text/html": [
       "<pre style=\"white-space:pre;overflow-x:auto;line-height:normal;font-family:Menlo,'DejaVu Sans Mono',consolas,'Courier New',monospace\"><span style=\"color: #7fbfbf; text-decoration-color: #7fbfbf\">[07/15/22 19:06:25] </span><span style=\"color: #000080; text-decoration-color: #000080\">INFO    </span> Got <span style=\"color: #008080; text-decoration-color: #008080; font-weight: bold\">25</span> units for FC_210917_BAA1110281_hairpin       <a href=\"file://C:\\Users\\Federico\\Documents\\GitHub\\pysical_locomotion\\analysis\\ephys\\utils.py\" target=\"_blank\"><span style=\"color: #7f7f7f; text-decoration-color: #7f7f7f\">utils.py</span></a><span style=\"color: #7f7f7f; text-decoration-color: #7f7f7f\">:</span><a href=\"file://C:\\Users\\Federico\\Documents\\GitHub\\pysical_locomotion\\analysis\\ephys\\utils.py#189\" target=\"_blank\"><span style=\"color: #7f7f7f; text-decoration-color: #7f7f7f\">189</span></a>\n",
       "</pre>\n"
      ],
      "text/plain": [
       "\u001b[2;36m[07/15/22 19:06:25]\u001b[0m\u001b[2;36m \u001b[0m\u001b[34mINFO    \u001b[0m Got \u001b[1;36m25\u001b[0m units for FC_210917_BAA1110281_hairpin       \u001b]8;id=373452;file://C:\\Users\\Federico\\Documents\\GitHub\\pysical_locomotion\\analysis\\ephys\\utils.py\u001b\\\u001b[2mutils.py\u001b[0m\u001b]8;;\u001b\\\u001b[2m:\u001b[0m\u001b]8;id=898688;file://C:\\Users\\Federico\\Documents\\GitHub\\pysical_locomotion\\analysis\\ephys\\utils.py#189\u001b\\\u001b[2m189\u001b[0m\u001b]8;;\u001b\\\n"
      ]
     },
     "metadata": {},
     "output_type": "display_data"
    },
    {
     "data": {
      "text/html": [
       "<pre style=\"white-space:pre;overflow-x:auto;line-height:normal;font-family:Menlo,'DejaVu Sans Mono',consolas,'Courier New',monospace\"></pre>\n"
      ],
      "text/plain": []
     },
     "metadata": {},
     "output_type": "display_data"
    },
    {
     "data": {
      "text/html": [
       "<pre style=\"white-space:pre;overflow-x:auto;line-height:normal;font-family:Menlo,'DejaVu Sans Mono',consolas,'Courier New',monospace\">\n",
       "</pre>\n"
      ],
      "text/plain": [
       "\n"
      ]
     },
     "metadata": {},
     "output_type": "display_data"
    }
   ],
   "source": [
    "alldata = {}\n",
    "for REC in track(get_recording_names(region=TARGET)):\n",
    "    # fetch recording data\n",
    "    \n",
    "    alldata[REC] =  get_data(REC)"
   ]
  },
  {
   "cell_type": "code",
   "execution_count": 71,
   "metadata": {},
   "outputs": [
    {
     "name": "stderr",
     "output_type": "stream",
     "text": [
      "c:\\Users\\Federico\\.conda\\envs\\glm\\lib\\site-packages\\fcutils\\maths\\signals.py:126: FutureWarning: The default dtype for empty Series will be 'object' instead of 'float64' in a future version. Specify a dtype explicitly to silence this warning.\n",
      "  X = pd.Series(X)\n",
      "c:\\Users\\Federico\\.conda\\envs\\glm\\lib\\site-packages\\fcutils\\maths\\signals.py:126: FutureWarning: The default dtype for empty Series will be 'object' instead of 'float64' in a future version. Specify a dtype explicitly to silence this warning.\n",
      "  X = pd.Series(X)\n",
      "c:\\Users\\Federico\\.conda\\envs\\glm\\lib\\site-packages\\fcutils\\maths\\signals.py:126: FutureWarning: The default dtype for empty Series will be 'object' instead of 'float64' in a future version. Specify a dtype explicitly to silence this warning.\n",
      "  X = pd.Series(X)\n",
      "c:\\Users\\Federico\\.conda\\envs\\glm\\lib\\site-packages\\fcutils\\maths\\signals.py:126: FutureWarning: The default dtype for empty Series will be 'object' instead of 'float64' in a future version. Specify a dtype explicitly to silence this warning.\n",
      "  X = pd.Series(X)\n",
      "c:\\Users\\Federico\\.conda\\envs\\glm\\lib\\site-packages\\fcutils\\maths\\signals.py:126: FutureWarning: The default dtype for empty Series will be 'object' instead of 'float64' in a future version. Specify a dtype explicitly to silence this warning.\n",
      "  X = pd.Series(X)\n",
      "c:\\Users\\Federico\\.conda\\envs\\glm\\lib\\site-packages\\fcutils\\maths\\signals.py:126: FutureWarning: The default dtype for empty Series will be 'object' instead of 'float64' in a future version. Specify a dtype explicitly to silence this warning.\n",
      "  X = pd.Series(X)\n",
      "c:\\Users\\Federico\\.conda\\envs\\glm\\lib\\site-packages\\fcutils\\maths\\signals.py:126: FutureWarning: The default dtype for empty Series will be 'object' instead of 'float64' in a future version. Specify a dtype explicitly to silence this warning.\n",
      "  X = pd.Series(X)\n",
      "c:\\Users\\Federico\\.conda\\envs\\glm\\lib\\site-packages\\fcutils\\maths\\signals.py:126: FutureWarning: The default dtype for empty Series will be 'object' instead of 'float64' in a future version. Specify a dtype explicitly to silence this warning.\n",
      "  X = pd.Series(X)\n",
      "c:\\Users\\Federico\\.conda\\envs\\glm\\lib\\site-packages\\fcutils\\maths\\signals.py:126: FutureWarning: The default dtype for empty Series will be 'object' instead of 'float64' in a future version. Specify a dtype explicitly to silence this warning.\n",
      "  X = pd.Series(X)\n",
      "c:\\Users\\Federico\\.conda\\envs\\glm\\lib\\site-packages\\fcutils\\maths\\signals.py:126: FutureWarning: The default dtype for empty Series will be 'object' instead of 'float64' in a future version. Specify a dtype explicitly to silence this warning.\n",
      "  X = pd.Series(X)\n",
      "c:\\Users\\Federico\\.conda\\envs\\glm\\lib\\site-packages\\fcutils\\maths\\signals.py:126: FutureWarning: The default dtype for empty Series will be 'object' instead of 'float64' in a future version. Specify a dtype explicitly to silence this warning.\n",
      "  X = pd.Series(X)\n"
     ]
    },
    {
     "data": {
      "text/html": [
       "<div>\n",
       "<style scoped>\n",
       "    .dataframe tbody tr th:only-of-type {\n",
       "        vertical-align: middle;\n",
       "    }\n",
       "\n",
       "    .dataframe tbody tr th {\n",
       "        vertical-align: top;\n",
       "    }\n",
       "\n",
       "    .dataframe thead th {\n",
       "        text-align: right;\n",
       "    }\n",
       "</style>\n",
       "<table border=\"1\" class=\"dataframe\">\n",
       "  <thead>\n",
       "    <tr style=\"text-align: right;\">\n",
       "      <th></th>\n",
       "      <th>name</th>\n",
       "      <th>unit_id</th>\n",
       "      <th>brainregion</th>\n",
       "      <th>direction</th>\n",
       "      <th>roi</th>\n",
       "      <th>label</th>\n",
       "      <th>-18</th>\n",
       "      <th>-16</th>\n",
       "      <th>-14</th>\n",
       "      <th>-12</th>\n",
       "      <th>...</th>\n",
       "      <th>2</th>\n",
       "      <th>4</th>\n",
       "      <th>6</th>\n",
       "      <th>8</th>\n",
       "      <th>10</th>\n",
       "      <th>12</th>\n",
       "      <th>14</th>\n",
       "      <th>16</th>\n",
       "      <th>18</th>\n",
       "      <th>20</th>\n",
       "    </tr>\n",
       "  </thead>\n",
       "  <tbody>\n",
       "    <tr>\n",
       "      <th>0</th>\n",
       "      <td>FC_210715_AAA1110750_r5_hairpin</td>\n",
       "      <td>833</td>\n",
       "      <td>CUN</td>\n",
       "      <td>out</td>\n",
       "      <td>second</td>\n",
       "      <td>right</td>\n",
       "      <td>0.0</td>\n",
       "      <td>6.0</td>\n",
       "      <td>10.000000</td>\n",
       "      <td>3.75</td>\n",
       "      <td>...</td>\n",
       "      <td>42.0</td>\n",
       "      <td>18.0</td>\n",
       "      <td>28.0</td>\n",
       "      <td>16.0</td>\n",
       "      <td>16.0</td>\n",
       "      <td>16.0</td>\n",
       "      <td>8.0</td>\n",
       "      <td>4.0</td>\n",
       "      <td>8.0</td>\n",
       "      <td>9.0</td>\n",
       "    </tr>\n",
       "    <tr>\n",
       "      <th>1</th>\n",
       "      <td>FC_210715_AAA1110750_r5_hairpin</td>\n",
       "      <td>833</td>\n",
       "      <td>CUN</td>\n",
       "      <td>out</td>\n",
       "      <td>second</td>\n",
       "      <td>right</td>\n",
       "      <td>30.0</td>\n",
       "      <td>20.0</td>\n",
       "      <td>13.333333</td>\n",
       "      <td>7.50</td>\n",
       "      <td>...</td>\n",
       "      <td>4.0</td>\n",
       "      <td>4.0</td>\n",
       "      <td>4.0</td>\n",
       "      <td>4.0</td>\n",
       "      <td>3.0</td>\n",
       "      <td>0.0</td>\n",
       "      <td>0.0</td>\n",
       "      <td>0.0</td>\n",
       "      <td>4.0</td>\n",
       "      <td>4.0</td>\n",
       "    </tr>\n",
       "    <tr>\n",
       "      <th>2</th>\n",
       "      <td>FC_210715_AAA1110750_r5_hairpin</td>\n",
       "      <td>833</td>\n",
       "      <td>CUN</td>\n",
       "      <td>out</td>\n",
       "      <td>second</td>\n",
       "      <td>right</td>\n",
       "      <td>0.0</td>\n",
       "      <td>12.0</td>\n",
       "      <td>8.000000</td>\n",
       "      <td>7.50</td>\n",
       "      <td>...</td>\n",
       "      <td>6.0</td>\n",
       "      <td>18.0</td>\n",
       "      <td>12.0</td>\n",
       "      <td>20.0</td>\n",
       "      <td>16.0</td>\n",
       "      <td>12.0</td>\n",
       "      <td>8.0</td>\n",
       "      <td>3.0</td>\n",
       "      <td>0.0</td>\n",
       "      <td>8.0</td>\n",
       "    </tr>\n",
       "    <tr>\n",
       "      <th>3</th>\n",
       "      <td>FC_210715_AAA1110750_r5_hairpin</td>\n",
       "      <td>833</td>\n",
       "      <td>CUN</td>\n",
       "      <td>out</td>\n",
       "      <td>second</td>\n",
       "      <td>right</td>\n",
       "      <td>0.0</td>\n",
       "      <td>0.0</td>\n",
       "      <td>13.333333</td>\n",
       "      <td>12.00</td>\n",
       "      <td>...</td>\n",
       "      <td>4.0</td>\n",
       "      <td>4.0</td>\n",
       "      <td>4.0</td>\n",
       "      <td>8.0</td>\n",
       "      <td>18.0</td>\n",
       "      <td>12.0</td>\n",
       "      <td>12.0</td>\n",
       "      <td>12.0</td>\n",
       "      <td>4.0</td>\n",
       "      <td>0.0</td>\n",
       "    </tr>\n",
       "    <tr>\n",
       "      <th>4</th>\n",
       "      <td>FC_210715_AAA1110750_r5_hairpin</td>\n",
       "      <td>833</td>\n",
       "      <td>CUN</td>\n",
       "      <td>out</td>\n",
       "      <td>second</td>\n",
       "      <td>right</td>\n",
       "      <td>60.0</td>\n",
       "      <td>40.0</td>\n",
       "      <td>26.666667</td>\n",
       "      <td>18.75</td>\n",
       "      <td>...</td>\n",
       "      <td>20.0</td>\n",
       "      <td>12.0</td>\n",
       "      <td>8.0</td>\n",
       "      <td>4.0</td>\n",
       "      <td>4.0</td>\n",
       "      <td>8.0</td>\n",
       "      <td>8.0</td>\n",
       "      <td>12.0</td>\n",
       "      <td>12.0</td>\n",
       "      <td>12.0</td>\n",
       "    </tr>\n",
       "  </tbody>\n",
       "</table>\n",
       "<p>5 rows × 26 columns</p>\n",
       "</div>"
      ]
     },
     "execution_count": 71,
     "metadata": {},
     "output_type": "execute_result"
    }
   ],
   "source": [
    "curve_direction = dict(\n",
    "    first=dict(out=\"right\", _in=\"left\"),\n",
    "    second=dict(out=\"right\", _in=\"left\"),\n",
    "    third=dict(out=\"left\", _in=\"right\"),\n",
    "    fourth=dict(out=\"left\", _in=\"right\"),\n",
    ")\n",
    "\n",
    "\n",
    "for REC in get_recording_names(region=TARGET):\n",
    "    # fetch recording data\n",
    "    # units, left_fl, right_fl, left_hl, right_hl, body = get_data(REC)\n",
    "    units, left_fl, right_fl, left_hl, right_hl, body = alldata[REC]\n",
    "\n",
    "    if units is None or not len(units):\n",
    "        continue\n",
    "    \n",
    "    if TARGET == \"MOs\":\n",
    "        units = units.loc[units.brain_region.isin([\"MOs\", \"MOs1\", \"MOs2/3\", \"MOs5\", \"MOs6a\", \"MOs6b\"])]\n",
    "    else:\n",
    "        units = units.loc[units.brain_region.isin([\"CUN\", \"PPN\"])]\n",
    "        \n",
    "\n",
    "    out_bouts     = get_session_bouts(REC, complete=None)\n",
    "    in_bouts      = get_session_bouts(REC, direction=\"inbound\", complete=None)\n",
    "    out_crossings = {curve:get_roi_crossings(out_bouts, curve, ds=20, direction=\"out\") for curve in curves.keys()}\n",
    "    in_crossings  = {curve:get_roi_crossings(in_bouts, curve, ds=20, direction=\"in\") for curve in curves.keys()}\n",
    "\n",
    "    for (i, unit) in units.iterrows():\n",
    "        for curve in (\"second\", \"third\", \"fourth\"):\n",
    "            for (direction, crossings, bouts) in ((\"out\", out_crossings[curve], out_bouts), (\"_in\", in_crossings[curve], in_bouts)):\n",
    "                sign = 1 if direction == \"out\" else -1\n",
    "\n",
    "                for i, cross in crossings.iterrows():\n",
    "\n",
    "                    # get spikes at each bin\n",
    "                    bout = bouts.iloc[cross.bout_idx]\n",
    "                    s = sign * (curves[curve].s - np.array(bout.s[cross.enter_frame:cross.exit_frame]))\n",
    "                    spikes = unit.spikes[(unit.spikes > cross.session_start_frame)&(unit.spikes < cross.session_end_frame)] - cross.session_start_frame\n",
    "\n",
    "                    # get firing rate\n",
    "                    cross_frate = frate(spikes, s, bins)\n",
    "\n",
    "                    # store all data\n",
    "                    data[\"name\"].append(REC)\n",
    "                    data[\"unit_id\"].append(unit.unit_id)\n",
    "                    data[\"brainregion\"].append(unit.brain_region)\n",
    "                    data[\"direction\"].append(direction)\n",
    "                    data[\"roi\"].append(curve)\n",
    "                    data[\"label\"].append(curve_direction[curve][direction])\n",
    "                    for i, bin in enumerate(bins[1:]):\n",
    "                        data[bin].append(cross_frate[i])\n",
    "\n",
    "\n",
    "data = pd.DataFrame(data)\n",
    "data.head()"
   ]
  },
  {
   "cell_type": "code",
   "execution_count": 73,
   "metadata": {},
   "outputs": [
    {
     "name": "stdout",
     "output_type": "stream",
     "text": [
      "172\n"
     ]
    }
   ],
   "source": [
    "# label each row by the unit/recording it belongs to\n",
    "data[\"identifier\"] = data[\"name\"] + \"+unit_\" + data[\"unit_id\"].astype(str)\n",
    "n_units = len(data.identifier.unique())\n",
    "print(n_units)"
   ]
  },
  {
   "cell_type": "markdown",
   "metadata": {},
   "source": [
    "## Fit model\n",
    "For each unit, try to predict L/R turn from the firing rate of the unit."
   ]
  },
  {
   "cell_type": "code",
   "execution_count": 74,
   "metadata": {},
   "outputs": [
    {
     "data": {
      "text/html": [
       "<div>\n",
       "<style scoped>\n",
       "    .dataframe tbody tr th:only-of-type {\n",
       "        vertical-align: middle;\n",
       "    }\n",
       "\n",
       "    .dataframe tbody tr th {\n",
       "        vertical-align: top;\n",
       "    }\n",
       "\n",
       "    .dataframe thead th {\n",
       "        text-align: right;\n",
       "    }\n",
       "</style>\n",
       "<table border=\"1\" class=\"dataframe\">\n",
       "  <thead>\n",
       "    <tr style=\"text-align: right;\">\n",
       "      <th></th>\n",
       "      <th>name</th>\n",
       "      <th>unit_id</th>\n",
       "      <th>brainregion</th>\n",
       "      <th>direction</th>\n",
       "      <th>roi</th>\n",
       "      <th>label</th>\n",
       "      <th>-18</th>\n",
       "      <th>-16</th>\n",
       "      <th>-14</th>\n",
       "      <th>-12</th>\n",
       "      <th>...</th>\n",
       "      <th>12</th>\n",
       "      <th>14</th>\n",
       "      <th>16</th>\n",
       "      <th>18</th>\n",
       "      <th>20</th>\n",
       "      <th>identifier</th>\n",
       "      <th>label_left</th>\n",
       "      <th>label_right</th>\n",
       "      <th>direction__in</th>\n",
       "      <th>direction_out</th>\n",
       "    </tr>\n",
       "  </thead>\n",
       "  <tbody>\n",
       "    <tr>\n",
       "      <th>0</th>\n",
       "      <td>FC_210715_AAA1110750_r5_hairpin</td>\n",
       "      <td>833</td>\n",
       "      <td>CUN</td>\n",
       "      <td>out</td>\n",
       "      <td>second</td>\n",
       "      <td>right</td>\n",
       "      <td>0.0</td>\n",
       "      <td>6.0</td>\n",
       "      <td>10.000000</td>\n",
       "      <td>3.75</td>\n",
       "      <td>...</td>\n",
       "      <td>16.0</td>\n",
       "      <td>8.0</td>\n",
       "      <td>4.0</td>\n",
       "      <td>8.0</td>\n",
       "      <td>9.0</td>\n",
       "      <td>FC_210715_AAA1110750_r5_hairpin+unit_833</td>\n",
       "      <td>0</td>\n",
       "      <td>1</td>\n",
       "      <td>0</td>\n",
       "      <td>1</td>\n",
       "    </tr>\n",
       "    <tr>\n",
       "      <th>1</th>\n",
       "      <td>FC_210715_AAA1110750_r5_hairpin</td>\n",
       "      <td>833</td>\n",
       "      <td>CUN</td>\n",
       "      <td>out</td>\n",
       "      <td>second</td>\n",
       "      <td>right</td>\n",
       "      <td>30.0</td>\n",
       "      <td>20.0</td>\n",
       "      <td>13.333333</td>\n",
       "      <td>7.50</td>\n",
       "      <td>...</td>\n",
       "      <td>0.0</td>\n",
       "      <td>0.0</td>\n",
       "      <td>0.0</td>\n",
       "      <td>4.0</td>\n",
       "      <td>4.0</td>\n",
       "      <td>FC_210715_AAA1110750_r5_hairpin+unit_833</td>\n",
       "      <td>0</td>\n",
       "      <td>1</td>\n",
       "      <td>0</td>\n",
       "      <td>1</td>\n",
       "    </tr>\n",
       "    <tr>\n",
       "      <th>2</th>\n",
       "      <td>FC_210715_AAA1110750_r5_hairpin</td>\n",
       "      <td>833</td>\n",
       "      <td>CUN</td>\n",
       "      <td>out</td>\n",
       "      <td>second</td>\n",
       "      <td>right</td>\n",
       "      <td>0.0</td>\n",
       "      <td>12.0</td>\n",
       "      <td>8.000000</td>\n",
       "      <td>7.50</td>\n",
       "      <td>...</td>\n",
       "      <td>12.0</td>\n",
       "      <td>8.0</td>\n",
       "      <td>3.0</td>\n",
       "      <td>0.0</td>\n",
       "      <td>8.0</td>\n",
       "      <td>FC_210715_AAA1110750_r5_hairpin+unit_833</td>\n",
       "      <td>0</td>\n",
       "      <td>1</td>\n",
       "      <td>0</td>\n",
       "      <td>1</td>\n",
       "    </tr>\n",
       "    <tr>\n",
       "      <th>3</th>\n",
       "      <td>FC_210715_AAA1110750_r5_hairpin</td>\n",
       "      <td>833</td>\n",
       "      <td>CUN</td>\n",
       "      <td>out</td>\n",
       "      <td>second</td>\n",
       "      <td>right</td>\n",
       "      <td>0.0</td>\n",
       "      <td>0.0</td>\n",
       "      <td>13.333333</td>\n",
       "      <td>12.00</td>\n",
       "      <td>...</td>\n",
       "      <td>12.0</td>\n",
       "      <td>12.0</td>\n",
       "      <td>12.0</td>\n",
       "      <td>4.0</td>\n",
       "      <td>0.0</td>\n",
       "      <td>FC_210715_AAA1110750_r5_hairpin+unit_833</td>\n",
       "      <td>0</td>\n",
       "      <td>1</td>\n",
       "      <td>0</td>\n",
       "      <td>1</td>\n",
       "    </tr>\n",
       "    <tr>\n",
       "      <th>4</th>\n",
       "      <td>FC_210715_AAA1110750_r5_hairpin</td>\n",
       "      <td>833</td>\n",
       "      <td>CUN</td>\n",
       "      <td>out</td>\n",
       "      <td>second</td>\n",
       "      <td>right</td>\n",
       "      <td>60.0</td>\n",
       "      <td>40.0</td>\n",
       "      <td>26.666667</td>\n",
       "      <td>18.75</td>\n",
       "      <td>...</td>\n",
       "      <td>8.0</td>\n",
       "      <td>8.0</td>\n",
       "      <td>12.0</td>\n",
       "      <td>12.0</td>\n",
       "      <td>12.0</td>\n",
       "      <td>FC_210715_AAA1110750_r5_hairpin+unit_833</td>\n",
       "      <td>0</td>\n",
       "      <td>1</td>\n",
       "      <td>0</td>\n",
       "      <td>1</td>\n",
       "    </tr>\n",
       "  </tbody>\n",
       "</table>\n",
       "<p>5 rows × 31 columns</p>\n",
       "</div>"
      ]
     },
     "execution_count": 74,
     "metadata": {},
     "output_type": "execute_result"
    }
   ],
   "source": [
    "# create dummy variables columns\n",
    "data = data.join(pd.get_dummies(data[[\"label\", \"direction\"]]))\n",
    "data.head()"
   ]
  },
  {
   "cell_type": "code",
   "execution_count": 83,
   "metadata": {},
   "outputs": [
    {
     "data": {
      "text/html": [
       "<pre style=\"white-space:pre;overflow-x:auto;line-height:normal;font-family:Menlo,'DejaVu Sans Mono',consolas,'Courier New',monospace\">\n",
       "<span style=\"font-weight: bold\">[</span>\n",
       "    <span style=\"color: #008000; text-decoration-color: #008000\">'FC_211022_BAA110516_hairpin'</span>,\n",
       "    <span style=\"color: #008000; text-decoration-color: #008000\">'FC_211214_BAA110517_hairpin'</span>,\n",
       "    <span style=\"color: #008000; text-decoration-color: #008000\">'FC_220114_BAA110517_hairpin'</span>,\n",
       "    <span style=\"color: #008000; text-decoration-color: #008000\">'FC_210830_BAA1110281_hairpin'</span>\n",
       "<span style=\"font-weight: bold\">]</span>\n",
       "</pre>\n"
      ],
      "text/plain": [
       "\n",
       "\u001b[1m[\u001b[0m\n",
       "    \u001b[32m'FC_211022_BAA110516_hairpin'\u001b[0m,\n",
       "    \u001b[32m'FC_211214_BAA110517_hairpin'\u001b[0m,\n",
       "    \u001b[32m'FC_220114_BAA110517_hairpin'\u001b[0m,\n",
       "    \u001b[32m'FC_210830_BAA1110281_hairpin'\u001b[0m\n",
       "\u001b[1m]\u001b[0m\n"
      ]
     },
     "metadata": {},
     "output_type": "display_data"
    }
   ],
   "source": [
    "tuned_recs"
   ]
  },
  {
   "cell_type": "code",
   "execution_count": 84,
   "metadata": {},
   "outputs": [
    {
     "data": {
      "application/vnd.jupyter.widget-view+json": {
       "model_id": "406e039aa8194a798a1fdfd0bb20fb53",
       "version_major": 2,
       "version_minor": 0
      },
      "text/plain": [
       "Output()"
      ]
     },
     "metadata": {},
     "output_type": "display_data"
    },
    {
     "data": {
      "text/html": [
       "<pre style=\"white-space:pre;overflow-x:auto;line-height:normal;font-family:Menlo,'DejaVu Sans Mono',consolas,'Courier New',monospace\">skippy\n",
       "</pre>\n"
      ],
      "text/plain": [
       "skippy\n"
      ]
     },
     "metadata": {},
     "output_type": "display_data"
    },
    {
     "data": {
      "text/html": [
       "<pre style=\"white-space:pre;overflow-x:auto;line-height:normal;font-family:Menlo,'DejaVu Sans Mono',consolas,'Courier New',monospace\">skippy\n",
       "</pre>\n"
      ],
      "text/plain": [
       "skippy\n"
      ]
     },
     "metadata": {},
     "output_type": "display_data"
    },
    {
     "data": {
      "text/html": [
       "<pre style=\"white-space:pre;overflow-x:auto;line-height:normal;font-family:Menlo,'DejaVu Sans Mono',consolas,'Courier New',monospace\">skippy\n",
       "</pre>\n"
      ],
      "text/plain": [
       "skippy\n"
      ]
     },
     "metadata": {},
     "output_type": "display_data"
    },
    {
     "data": {
      "text/html": [
       "<pre style=\"white-space:pre;overflow-x:auto;line-height:normal;font-family:Menlo,'DejaVu Sans Mono',consolas,'Courier New',monospace\">skippy\n",
       "</pre>\n"
      ],
      "text/plain": [
       "skippy\n"
      ]
     },
     "metadata": {},
     "output_type": "display_data"
    },
    {
     "data": {
      "text/html": [
       "<pre style=\"white-space:pre;overflow-x:auto;line-height:normal;font-family:Menlo,'DejaVu Sans Mono',consolas,'Courier New',monospace\">skippy\n",
       "</pre>\n"
      ],
      "text/plain": [
       "skippy\n"
      ]
     },
     "metadata": {},
     "output_type": "display_data"
    },
    {
     "data": {
      "text/html": [
       "<pre style=\"white-space:pre;overflow-x:auto;line-height:normal;font-family:Menlo,'DejaVu Sans Mono',consolas,'Courier New',monospace\">skippy\n",
       "</pre>\n"
      ],
      "text/plain": [
       "skippy\n"
      ]
     },
     "metadata": {},
     "output_type": "display_data"
    },
    {
     "data": {
      "text/html": [
       "<pre style=\"white-space:pre;overflow-x:auto;line-height:normal;font-family:Menlo,'DejaVu Sans Mono',consolas,'Courier New',monospace\">skippy\n",
       "</pre>\n"
      ],
      "text/plain": [
       "skippy\n"
      ]
     },
     "metadata": {},
     "output_type": "display_data"
    },
    {
     "data": {
      "text/html": [
       "<pre style=\"white-space:pre;overflow-x:auto;line-height:normal;font-family:Menlo,'DejaVu Sans Mono',consolas,'Courier New',monospace\">skippy\n",
       "</pre>\n"
      ],
      "text/plain": [
       "skippy\n"
      ]
     },
     "metadata": {},
     "output_type": "display_data"
    },
    {
     "data": {
      "text/html": [
       "<pre style=\"white-space:pre;overflow-x:auto;line-height:normal;font-family:Menlo,'DejaVu Sans Mono',consolas,'Courier New',monospace\">skippy\n",
       "</pre>\n"
      ],
      "text/plain": [
       "skippy\n"
      ]
     },
     "metadata": {},
     "output_type": "display_data"
    },
    {
     "data": {
      "text/html": [
       "<pre style=\"white-space:pre;overflow-x:auto;line-height:normal;font-family:Menlo,'DejaVu Sans Mono',consolas,'Courier New',monospace\">skippy\n",
       "</pre>\n"
      ],
      "text/plain": [
       "skippy\n"
      ]
     },
     "metadata": {},
     "output_type": "display_data"
    },
    {
     "data": {
      "text/html": [
       "<pre style=\"white-space:pre;overflow-x:auto;line-height:normal;font-family:Menlo,'DejaVu Sans Mono',consolas,'Courier New',monospace\">skippy\n",
       "</pre>\n"
      ],
      "text/plain": [
       "skippy\n"
      ]
     },
     "metadata": {},
     "output_type": "display_data"
    },
    {
     "data": {
      "text/html": [
       "<pre style=\"white-space:pre;overflow-x:auto;line-height:normal;font-family:Menlo,'DejaVu Sans Mono',consolas,'Courier New',monospace\">skippy\n",
       "</pre>\n"
      ],
      "text/plain": [
       "skippy\n"
      ]
     },
     "metadata": {},
     "output_type": "display_data"
    },
    {
     "data": {
      "text/html": [
       "<pre style=\"white-space:pre;overflow-x:auto;line-height:normal;font-family:Menlo,'DejaVu Sans Mono',consolas,'Courier New',monospace\">skippy\n",
       "</pre>\n"
      ],
      "text/plain": [
       "skippy\n"
      ]
     },
     "metadata": {},
     "output_type": "display_data"
    },
    {
     "data": {
      "text/html": [
       "<pre style=\"white-space:pre;overflow-x:auto;line-height:normal;font-family:Menlo,'DejaVu Sans Mono',consolas,'Courier New',monospace\">skippy\n",
       "</pre>\n"
      ],
      "text/plain": [
       "skippy\n"
      ]
     },
     "metadata": {},
     "output_type": "display_data"
    },
    {
     "data": {
      "text/html": [
       "<pre style=\"white-space:pre;overflow-x:auto;line-height:normal;font-family:Menlo,'DejaVu Sans Mono',consolas,'Courier New',monospace\">skippy\n",
       "</pre>\n"
      ],
      "text/plain": [
       "skippy\n"
      ]
     },
     "metadata": {},
     "output_type": "display_data"
    },
    {
     "data": {
      "text/html": [
       "<pre style=\"white-space:pre;overflow-x:auto;line-height:normal;font-family:Menlo,'DejaVu Sans Mono',consolas,'Courier New',monospace\">skippy\n",
       "</pre>\n"
      ],
      "text/plain": [
       "skippy\n"
      ]
     },
     "metadata": {},
     "output_type": "display_data"
    },
    {
     "data": {
      "text/html": [
       "<pre style=\"white-space:pre;overflow-x:auto;line-height:normal;font-family:Menlo,'DejaVu Sans Mono',consolas,'Courier New',monospace\">skippy\n",
       "</pre>\n"
      ],
      "text/plain": [
       "skippy\n"
      ]
     },
     "metadata": {},
     "output_type": "display_data"
    },
    {
     "data": {
      "text/html": [
       "<pre style=\"white-space:pre;overflow-x:auto;line-height:normal;font-family:Menlo,'DejaVu Sans Mono',consolas,'Courier New',monospace\">skippy\n",
       "</pre>\n"
      ],
      "text/plain": [
       "skippy\n"
      ]
     },
     "metadata": {},
     "output_type": "display_data"
    },
    {
     "data": {
      "text/html": [
       "<pre style=\"white-space:pre;overflow-x:auto;line-height:normal;font-family:Menlo,'DejaVu Sans Mono',consolas,'Courier New',monospace\">skippy\n",
       "</pre>\n"
      ],
      "text/plain": [
       "skippy\n"
      ]
     },
     "metadata": {},
     "output_type": "display_data"
    },
    {
     "data": {
      "text/html": [
       "<pre style=\"white-space:pre;overflow-x:auto;line-height:normal;font-family:Menlo,'DejaVu Sans Mono',consolas,'Courier New',monospace\">skippy\n",
       "</pre>\n"
      ],
      "text/plain": [
       "skippy\n"
      ]
     },
     "metadata": {},
     "output_type": "display_data"
    },
    {
     "data": {
      "text/html": [
       "<pre style=\"white-space:pre;overflow-x:auto;line-height:normal;font-family:Menlo,'DejaVu Sans Mono',consolas,'Courier New',monospace\">skippy\n",
       "</pre>\n"
      ],
      "text/plain": [
       "skippy\n"
      ]
     },
     "metadata": {},
     "output_type": "display_data"
    },
    {
     "data": {
      "text/html": [
       "<pre style=\"white-space:pre;overflow-x:auto;line-height:normal;font-family:Menlo,'DejaVu Sans Mono',consolas,'Courier New',monospace\">skippy\n",
       "</pre>\n"
      ],
      "text/plain": [
       "skippy\n"
      ]
     },
     "metadata": {},
     "output_type": "display_data"
    },
    {
     "data": {
      "text/html": [
       "<pre style=\"white-space:pre;overflow-x:auto;line-height:normal;font-family:Menlo,'DejaVu Sans Mono',consolas,'Courier New',monospace\">skippy\n",
       "</pre>\n"
      ],
      "text/plain": [
       "skippy\n"
      ]
     },
     "metadata": {},
     "output_type": "display_data"
    },
    {
     "data": {
      "text/html": [
       "<pre style=\"white-space:pre;overflow-x:auto;line-height:normal;font-family:Menlo,'DejaVu Sans Mono',consolas,'Courier New',monospace\">skippy\n",
       "</pre>\n"
      ],
      "text/plain": [
       "skippy\n"
      ]
     },
     "metadata": {},
     "output_type": "display_data"
    },
    {
     "data": {
      "text/html": [
       "<pre style=\"white-space:pre;overflow-x:auto;line-height:normal;font-family:Menlo,'DejaVu Sans Mono',consolas,'Courier New',monospace\">skippy\n",
       "</pre>\n"
      ],
      "text/plain": [
       "skippy\n"
      ]
     },
     "metadata": {},
     "output_type": "display_data"
    },
    {
     "data": {
      "text/html": [
       "<pre style=\"white-space:pre;overflow-x:auto;line-height:normal;font-family:Menlo,'DejaVu Sans Mono',consolas,'Courier New',monospace\">skippy\n",
       "</pre>\n"
      ],
      "text/plain": [
       "skippy\n"
      ]
     },
     "metadata": {},
     "output_type": "display_data"
    },
    {
     "data": {
      "text/html": [
       "<pre style=\"white-space:pre;overflow-x:auto;line-height:normal;font-family:Menlo,'DejaVu Sans Mono',consolas,'Courier New',monospace\">skippy\n",
       "</pre>\n"
      ],
      "text/plain": [
       "skippy\n"
      ]
     },
     "metadata": {},
     "output_type": "display_data"
    },
    {
     "data": {
      "text/html": [
       "<pre style=\"white-space:pre;overflow-x:auto;line-height:normal;font-family:Menlo,'DejaVu Sans Mono',consolas,'Courier New',monospace\">skippy\n",
       "</pre>\n"
      ],
      "text/plain": [
       "skippy\n"
      ]
     },
     "metadata": {},
     "output_type": "display_data"
    },
    {
     "data": {
      "text/html": [
       "<pre style=\"white-space:pre;overflow-x:auto;line-height:normal;font-family:Menlo,'DejaVu Sans Mono',consolas,'Courier New',monospace\">skippy\n",
       "</pre>\n"
      ],
      "text/plain": [
       "skippy\n"
      ]
     },
     "metadata": {},
     "output_type": "display_data"
    },
    {
     "data": {
      "text/html": [
       "<pre style=\"white-space:pre;overflow-x:auto;line-height:normal;font-family:Menlo,'DejaVu Sans Mono',consolas,'Courier New',monospace\">skippy\n",
       "</pre>\n"
      ],
      "text/plain": [
       "skippy\n"
      ]
     },
     "metadata": {},
     "output_type": "display_data"
    },
    {
     "data": {
      "text/html": [
       "<pre style=\"white-space:pre;overflow-x:auto;line-height:normal;font-family:Menlo,'DejaVu Sans Mono',consolas,'Courier New',monospace\"></pre>\n"
      ],
      "text/plain": []
     },
     "metadata": {},
     "output_type": "display_data"
    },
    {
     "data": {
      "text/html": [
       "<pre style=\"white-space:pre;overflow-x:auto;line-height:normal;font-family:Menlo,'DejaVu Sans Mono',consolas,'Courier New',monospace\">\n",
       "</pre>\n"
      ],
      "text/plain": [
       "\n"
      ]
     },
     "metadata": {},
     "output_type": "display_data"
    },
    {
     "name": "stdout",
     "output_type": "stream",
     "text": [
      "Succesfully fit 59 models for 172\n"
     ]
    }
   ],
   "source": [
    "PREDICTED = \"label_right\"\n",
    "\n",
    "select_cols = list(bins[1:]) + [PREDICTED]\n",
    "\n",
    "results, shuffled_accuracies = {}, []\n",
    "\n",
    "for unit in track(data.identifier.unique()):\n",
    "\n",
    "    \n",
    "    # sample L/R trials to get equal number of trials per direction\n",
    "    unit_data = data.loc[data.identifier == unit]\n",
    "    name = unit_data.name.iloc[0]\n",
    "    if name in tuned_recs:  # if not exists run the kinematics analysis cells\n",
    "        continue\n",
    "    side_counts = unit_data.groupby([\"label\"])[\"name\"].count()\n",
    "\n",
    "    try:\n",
    "        n_selected = min(side_counts[\"left\"], side_counts[\"right\"])\n",
    "    except:\n",
    "        continue\n",
    "    \n",
    "    if n_selected < 10:\n",
    "        continue\n",
    "    \n",
    "    left = unit_data.loc[unit_data.label == \"left\"].sample(n_selected)\n",
    "    right = unit_data.loc[unit_data.label == \"right\"].sample(n_selected)\n",
    "\n",
    "    # keep bins + label column\n",
    "    unit_data = pd.concat([left, right])[select_cols].reset_index(drop=True)\n",
    "\n",
    "    # split train/test\n",
    "    X = unit_data.drop(PREDICTED, axis=1)\n",
    "    y = unit_data[PREDICTED]\n",
    "\n",
    "    # standardize columns of X\n",
    "    X = (X - X.mean()) / (X.std() + 0.0001)\n",
    "\n",
    "    # skip units with no spikes\n",
    "    # if np.max(X.mean().values) < .5:\n",
    "    #     continue\n",
    "\n",
    "    # fit the model with 5x k-fold cross-validation\n",
    "    kf = KFold(n_splits=5, shuffle=True, random_state=42)\n",
    "    kf.get_n_splits(X)\n",
    "    kf_accuracies = []\n",
    "    for train_index, test_index in kf.split(X):\n",
    "        X_train, X_test = X.iloc[train_index], X.iloc[test_index]\n",
    "        y_train, y_test = y.iloc[train_index], y.iloc[test_index]\n",
    "\n",
    "        # scale data\n",
    "        # scaler = StandardScaler()\n",
    "        # scaler.fit(X_train)\n",
    "        # X_train, X_test = scaler.transform(X_train), scaler.transform(X_test)\n",
    "\n",
    "        # fit model\n",
    "        logreg = LogisticRegression()\n",
    "        logreg.fit(X_train, y_train)\n",
    "        kf_accuracies.append(logreg.score(X_test, y_test))\n",
    "\n",
    "\n",
    "    # fit model on randomly shuffled labels\n",
    "    # split X in train/test\n",
    "    X_train, X_test, _, _ = train_test_split(X, y, test_size=.3, random_state=0)\n",
    "    unit_shuffled_accuracies = []\n",
    "    for i in range(100):\n",
    "        y_shuffled = y.sample(frac=1, random_state=i)\n",
    "        _, _, y_shuff_train, y_shuff_test = train_test_split(X, y_shuffled, test_size=0.3, random_state=0)\n",
    "\n",
    "        shuffled_logreg = LogisticRegression()\n",
    "        shuffled_logreg.fit(X_train, y_shuff_train)\n",
    "\n",
    "        acc = shuffled_logreg.score(X_test, y_shuff_test)\n",
    "        shuffled_accuracies.append(acc)\n",
    "        unit_shuffled_accuracies.append(acc)\n",
    "\n",
    "    # check if the model is significantly better than the shuffled labels\n",
    "    tuned = np.mean(kf_accuracies) > np.percentile(unit_shuffled_accuracies, 99)\n",
    "\n",
    "    results[unit] = dict(\n",
    "        name=name,\n",
    "        identifier=unit,\n",
    "        model=logreg,\n",
    "        accuracy=np.mean(kf_accuracies),\n",
    "        # scaler=scaler,\n",
    "        tuned = tuned,\n",
    "        X_test=X_test,\n",
    "        y_test=y_test,\n",
    "\n",
    "    )\n",
    "\n",
    "    # if len(results.keys()) > 100:\n",
    "    #     break\n",
    "\n",
    "print(f\"Succesfully fit {len(results.keys())} models for {n_units}\")"
   ]
  },
  {
   "cell_type": "markdown",
   "metadata": {},
   "source": [
    "# Plot results\n",
    "plot accuracy histograma and ROC curve"
   ]
  },
  {
   "cell_type": "code",
   "execution_count": 85,
   "metadata": {},
   "outputs": [
    {
     "data": {
      "text/html": [
       "<pre style=\"white-space:pre;overflow-x:auto;line-height:normal;font-family:Menlo,'DejaVu Sans Mono',consolas,'Courier New',monospace\"><span style=\"font-weight: bold\">&lt;</span><span style=\"color: #ff00ff; text-decoration-color: #ff00ff; font-weight: bold\">Figure</span><span style=\"color: #000000; text-decoration-color: #000000\"> size 1152x648 with </span><span style=\"color: #008080; text-decoration-color: #008080; font-weight: bold\">2</span><span style=\"color: #000000; text-decoration-color: #000000\"> Axes</span><span style=\"font-weight: bold\">&gt;</span>\n",
       "</pre>\n"
      ],
      "text/plain": [
       "\u001b[1m<\u001b[0m\u001b[1;95mFigure\u001b[0m\u001b[39m size 1152x648 with \u001b[0m\u001b[1;36m2\u001b[0m\u001b[39m Axes\u001b[0m\u001b[1m>\u001b[0m\n"
      ]
     },
     "metadata": {},
     "output_type": "display_data"
    },
    {
     "data": {
      "image/png": "[encoded data removed]"
     },
     "metadata": {
      "needs_background": "light"
     },
     "output_type": "display_data"
    }
   ],
   "source": [
    "TARGET = TARGET if TARGET == \"MOs\" else \"CUN_PPN\"\n",
    "\n",
    "f, axes = plt.subplots(1, 2, figsize=(16, 9))\n",
    "\n",
    "accuracies = [r[\"accuracy\"] for r in results.values()]\n",
    "\n",
    "axes[0].hist(shuffled_accuracies, density=True, bins=20, alpha=.5, color=[.75, .75, .75], label=\"shuffled\")\n",
    "axes[0].hist(shuffled_accuracies, density=True, bins=20, lw=2, histtype=\"step\", color=[.75, .75, .75])\n",
    "axes[0].hist(accuracies, density=True, bins=20, alpha=.5, color=\"k\", label=\"data\")\n",
    "axes[0].hist(accuracies, density=True, bins=20, lw=2, histtype=\"step\", color=\"k\")\n",
    "axes[0].legend()\n",
    "\n",
    "# for res in results.values():\n",
    "#     logit_roc_auc = roc_auc_score(res['y_test'], logreg.predict(res['X_test']))\n",
    "#     fpr, tpr, thresholds = roc_curve(res['y_test'], logreg.predict_proba(res['X_test'])[:,1])\n",
    "\n",
    "#     axes[1].plot(fpr, tpr, color=\"k\", alpha=.5)\n",
    "\n",
    "axes[0].set(xlabel=\"Accuracy\", ylabel=\"Count\", title=f\"Predicting: {PREDICTED}\", xlim=[-0.05, 1.05])\n",
    "axes[0].axvline(0.5, lw=2, color=\"r\", ls=\"--\")\n",
    "axes[1].plot([0, 1], [0, 1],'r--', lw=2)\n",
    "_ = axes[1].set(xlabel='False Positive Rate', ylabel='True Positive Rate', title='Receiver operating characteristic')\n",
    "\n",
    "# save figure\n",
    "f.savefig(save_folder / f\"LR_decoding_{TARGET}_accuracy_hist.svg\")"
   ]
  },
  {
   "cell_type": "code",
   "execution_count": 87,
   "metadata": {},
   "outputs": [
    {
     "name": "stdout",
     "output_type": "stream",
     "text": [
      "45/59 (76.27%) units have accuracy > 60%\n",
      "9/59 (15.25%) units have accuracy > 90%\n"
     ]
    }
   ],
   "source": [
    "accuracies = np.array(accuracies)\n",
    "above_66 = len(accuracies[accuracies >= 0.6])\n",
    "above_90 = len(accuracies[accuracies >= 0.9])\n",
    "print(f\"{above_66}/{len(accuracies)} ({round(above_66/len(accuracies) * 100, 2)}%) units have accuracy > 60%\")\n",
    "print(f\"{above_90}/{len(accuracies)} ({round(above_90/len(accuracies) * 100, 2)}%) units have accuracy > 90%\")"
   ]
  },
  {
   "cell_type": "code",
   "execution_count": 90,
   "metadata": {},
   "outputs": [
    {
     "name": "stdout",
     "output_type": "stream",
     "text": [
      "Fraction tuned: 0.13559322033898305 - 8/59\n"
     ]
    },
    {
     "data": {
      "text/html": [
       "<pre style=\"white-space:pre;overflow-x:auto;line-height:normal;font-family:Menlo,'DejaVu Sans Mono',consolas,'Courier New',monospace\"><span style=\"font-weight: bold\">&lt;</span><span style=\"color: #ff00ff; text-decoration-color: #ff00ff; font-weight: bold\">Figure</span><span style=\"color: #000000; text-decoration-color: #000000\"> size 1152x648 with </span><span style=\"color: #008080; text-decoration-color: #008080; font-weight: bold\">1</span><span style=\"color: #000000; text-decoration-color: #000000\"> Axes</span><span style=\"font-weight: bold\">&gt;</span>\n",
       "</pre>\n"
      ],
      "text/plain": [
       "\u001b[1m<\u001b[0m\u001b[1;95mFigure\u001b[0m\u001b[39m size 1152x648 with \u001b[0m\u001b[1;36m1\u001b[0m\u001b[39m Axes\u001b[0m\u001b[1m>\u001b[0m\n"
      ]
     },
     "metadata": {},
     "output_type": "display_data"
    },
    {
     "data": {
      "image/png": "[encoded data removed]"
     },
     "metadata": {
      "needs_background": "light"
     },
     "output_type": "display_data"
    }
   ],
   "source": [
    "# Plot number of tuned units as bar plot\n",
    "f, ax = plt.subplots(1, 1, figsize=(16, 9))\n",
    "\n",
    "N = len(results.keys())\n",
    "n_tuned = len([r for r in results.values() if r[\"tuned\"]])\n",
    "\n",
    "print(f\"Fraction tuned: {n_tuned/N} - {n_tuned}/{N}\")\n",
    "\n",
    "ax.bar(0, n_tuned/N, color=\"k\")\n",
    "ax.bar(0, (N - n_tuned)/N, bottom=(n_tuned)/N, color=[.75, .75, .75])\n",
    "_ = ax.set(xlim=[-2, 2], ylabel=\"Fraction tuned\", xlabel=TARGET)\n",
    "ax.axhline(.5)\n",
    "\n",
    "\n",
    "f.savefig(save_folder / f\"LR_decoding_{TARGET}_n_tuned.svg\")"
   ]
  },
  {
   "cell_type": "code",
   "execution_count": 44,
   "metadata": {},
   "outputs": [
    {
     "data": {
      "text/html": [
       "<pre style=\"white-space:pre;overflow-x:auto;line-height:normal;font-family:Menlo,'DejaVu Sans Mono',consolas,'Courier New',monospace\"><span style=\"font-weight: bold\">&lt;</span><span style=\"color: #ff00ff; text-decoration-color: #ff00ff; font-weight: bold\">Figure</span><span style=\"color: #000000; text-decoration-color: #000000\"> size 1152x648 with </span><span style=\"color: #008080; text-decoration-color: #008080; font-weight: bold\">1</span><span style=\"color: #000000; text-decoration-color: #000000\"> Axes</span><span style=\"font-weight: bold\">&gt;</span>\n",
       "</pre>\n"
      ],
      "text/plain": [
       "\u001b[1m<\u001b[0m\u001b[1;95mFigure\u001b[0m\u001b[39m size 1152x648 with \u001b[0m\u001b[1;36m1\u001b[0m\u001b[39m Axes\u001b[0m\u001b[1m>\u001b[0m\n"
      ]
     },
     "metadata": {},
     "output_type": "display_data"
    },
    {
     "data": {
      "image/png": "[encoded data removed]"
     },
     "metadata": {
      "needs_background": "light"
     },
     "output_type": "display_data"
    }
   ],
   "source": [
    "# plot histogram of accuracy for tuned vs non-tuned units\n",
    "import seaborn as sns\n",
    "f, ax = plt.subplots(1, 1, figsize=(16, 9))\n",
    "\n",
    "tuned_accuracies = [r[\"accuracy\"] for r in results.values() if r[\"tuned\"]]\n",
    "untuned_accuracies = [r[\"accuracy\"] for r in results.values() if not r[\"tuned\"]]\n",
    "\n",
    "# ax.hist(tuned_accuracies, density=True, bins=10, alpha=.5, color=\"k\", label=\"tuned\")\n",
    "# ax.hist(untuned_accuracies, density=True, bins=10, alpha=.5, color=\"red\", label=\"untuned\")\n",
    "\n",
    "sns.kdeplot(tuned_accuracies, shade=True, ax=ax, color=\"k\", bw_method=.25, label=\"tuned\")\n",
    "sns.kdeplot(untuned_accuracies, shade=True, ax=ax, color=\"red\", bw_method=.25, label=\"untuned\")\n",
    "\n",
    "\n",
    "ax.axvline(.5)\n",
    "ax.set(xlim=[0, 1], xlabel=\"Accuracy\", ylabel=\"Density\", xticks=[0, .25, .5, .75, 1])\n",
    "_ = ax.legend()\n",
    "\n",
    "f.savefig(save_folder / f\"LR_decoding_{TARGET}_accuracy_tunedvsuntuned_KDE.svg\")\n"
   ]
  },
  {
   "cell_type": "markdown",
   "metadata": {},
   "source": [
    "# Plot example unit\n",
    "\n",
    "Plot firing rate over position for an example tuned unit"
   ]
  },
  {
   "cell_type": "code",
   "execution_count": 45,
   "metadata": {},
   "outputs": [
    {
     "name": "stderr",
     "output_type": "stream",
     "text": [
      "C:\\Users\\Federico\\AppData\\Local\\Temp\\ipykernel_8\\1055244028.py:2: DeprecationWarning: Please use `gaussian_filter1d` from the `scipy.ndimage` namespace, the `scipy.ndimage.filters` namespace is deprecated.\n",
      "  from scipy.ndimage.filters import gaussian_filter1d\n"
     ]
    }
   ],
   "source": [
    "from scipy import interpolate\n",
    "from scipy.ndimage.filters import gaussian_filter1d\n",
    "\n",
    "def upsample_frames_to_ms(var):\n",
    "    \"\"\"\n",
    "        Interpolates the values of a variable expressed in frams (60 fps)\n",
    "        to values expressed in milliseconds.\n",
    "    \"\"\"\n",
    "    t_60fps = np.arange(len(var)) / 60\n",
    "    f = interpolate.interp1d(t_60fps, var)\n",
    "\n",
    "    t_1000fps = np.arange(0, t_60fps[-1], step=1/1000)\n",
    "    # t_200fps = np.arange(0, t_60fps[-1], step=1/200)\n",
    "    interpolated_variable_values = f(t_1000fps)\n",
    "    return interpolated_variable_values\n",
    "\n",
    "\n",
    "\n",
    "\n",
    "\n",
    "def calc_firing_rate(spikes_train: np.ndarray, dt: int = 10):\n",
    "    \"\"\"\n",
    "        Computes the firing rate given a spikes train (wether there is a spike or not at each ms).\n",
    "        Using a gaussian kernel with standard deviation = dt/2 [dt is in ms]\n",
    "    \"\"\"\n",
    "    return gaussian_filter1d(spikes_train, dt)  * 1000\n",
    "\n",
    "\n",
    "\n",
    "\n",
    "from mpl_toolkits.axes_grid1 import make_axes_locatable\n",
    "\n",
    "\n",
    "def add_colorbar(ax, im, cbar_label):\n",
    "    divider = make_axes_locatable(ax)\n",
    "    cax = divider.append_axes(\"right\", size=\"15%\", pad=0.05)\n",
    "    cbar = plt.colorbar(im, cax=cax, orientation='vertical')\n",
    "    cbar.set_label(cbar_label)\n",
    "    return cbar\n"
   ]
  },
  {
   "cell_type": "markdown",
   "metadata": {},
   "source": [
    "# Compute firing rate through each curve for ech ROI and plot some examples"
   ]
  },
  {
   "cell_type": "code",
   "execution_count": 46,
   "metadata": {},
   "outputs": [
    {
     "name": "stderr",
     "output_type": "stream",
     "text": [
      "C:\\Users\\Federico\\AppData\\Local\\Temp\\ipykernel_8\\4098631480.py:43: DeprecationWarning: `np.int` is a deprecated alias for the builtin `int`. To silence this warning, use `int` by itself. Doing this will not modify any behavior and is safe. When replacing `np.int`, you may wish to use e.g. `np.int64` or `np.int32` to specify the precision. If you wish to review your current use, check the release note link for additional information.\n",
      "Deprecated in NumPy 1.20; for more details and guidance: https://numpy.org/devdocs/release/1.20.0-notes.html#deprecations\n",
      "  time_frames[spikes.astype(np.int)] = 1\n"
     ]
    }
   ],
   "source": [
    "UNIT_ID = 10\n",
    "\n",
    "\n",
    "# sort units based on accuracy\n",
    "sorted_units = sorted(results.values(), key=lambda x: x[\"accuracy\"], reverse=True)\n",
    "\n",
    "best_unit = sorted_units[UNIT_ID]\n",
    "rec, unit = best_unit[\"identifier\"].split(\"+\")\n",
    "\n",
    "# load rec\n",
    "units, left_fl, right_fl, left_hl, right_hl, body = alldata[rec]\n",
    "out_bouts = get_session_bouts(rec, complete=None)\n",
    "in_bouts = get_session_bouts(rec, direction=\"inbound\", complete=None)\n",
    "\n",
    "out_crossings = {curve:get_roi_crossings(out_bouts, curve, ds=20, direction=\"out\") for curve in curves.keys()}\n",
    "in_crossings = {curve:get_roi_crossings(in_bouts, curve, ds=20, direction=\"in\") for curve in curves.keys()}\n",
    "\n",
    "# get unit data\n",
    "unit = units.loc[units.unit_id == int(unit.split(\"_\")[-1])].iloc[0]\n",
    "\n",
    "CURVES = (\"first\", \"second\", \"third\", \"fourth\")\n",
    "firing_rate_data = {\n",
    "    \"left\":{curv : dict(x=[], y=[], frate=[]) for curv in CURVES},\n",
    "    \"right\":{curv : dict(x=[], y=[], frate=[]) for curv in CURVES},\n",
    "}\n",
    "\n",
    "for i, curve in enumerate(CURVES):\n",
    "    crossings_out = out_crossings[curve]\n",
    "    crossings_in = in_crossings[curve]\n",
    "\n",
    "    for c, crossings in enumerate([crossings_out, crossings_in]):\n",
    "        for _, cross in crossings.iterrows():\n",
    "            bout = out_bouts.iloc[cross.bout_idx] if c  == 0 else in_bouts.iloc[cross.bout_idx]\n",
    "\n",
    "            # get XY coord\n",
    "            X = np.array(bout.x[cross.enter_frame:cross.exit_frame])\n",
    "            Y = np.array(bout.y[cross.enter_frame:cross.exit_frame])\n",
    "\n",
    "            # get spikes  & position in milliseconds\n",
    "            spikes = unit.spikes[(unit.spikes > cross.session_start_frame)&(unit.spikes < cross.session_end_frame)] - cross.session_start_frame\n",
    "\n",
    "            time_frames = np.zeros(int(cross.session_end_frame - cross.session_start_frame))\n",
    "            time_frames[spikes.astype(np.int)] = 1\n",
    "\n",
    "            spike_ms = upsample_frames_to_ms(time_frames)\n",
    "            spike_ms[spike_ms < np.max(spike_ms)] = 0  # make sure it's binary\n",
    "            x_ms = upsample_frames_to_ms(X)\n",
    "            y_ms = upsample_frames_to_ms(Y)\n",
    "            frate = calc_firing_rate(spike_ms, dt=200)\n",
    "\n",
    "            # store data\n",
    "            side = list(curve_direction[curve].values())[c]\n",
    "            firing_rate_data[side][curve][\"x\"].extend(x_ms)\n",
    "            firing_rate_data[side][curve][\"y\"].extend(y_ms)\n",
    "            firing_rate_data[side][curve][\"frate\"].extend(frate)"
   ]
  },
  {
   "cell_type": "markdown",
   "metadata": {},
   "source": [
    "plot an example unit"
   ]
  },
  {
   "cell_type": "code",
   "execution_count": 47,
   "metadata": {},
   "outputs": [
    {
     "data": {
      "text/html": [
       "<pre style=\"white-space:pre;overflow-x:auto;line-height:normal;font-family:Menlo,'DejaVu Sans Mono',consolas,'Courier New',monospace\"><span style=\"font-weight: bold\">&lt;</span><span style=\"color: #ff00ff; text-decoration-color: #ff00ff; font-weight: bold\">Figure</span><span style=\"color: #000000; text-decoration-color: #000000\"> size 1152x648 with </span><span style=\"color: #008080; text-decoration-color: #008080; font-weight: bold\">6</span><span style=\"color: #000000; text-decoration-color: #000000\"> Axes</span><span style=\"font-weight: bold\">&gt;</span>\n",
       "</pre>\n"
      ],
      "text/plain": [
       "\u001b[1m<\u001b[0m\u001b[1;95mFigure\u001b[0m\u001b[39m size 1152x648 with \u001b[0m\u001b[1;36m6\u001b[0m\u001b[39m Axes\u001b[0m\u001b[1m>\u001b[0m\n"
      ]
     },
     "metadata": {},
     "output_type": "display_data"
    },
    {
     "data": {
      "image/png": "[encoded data removed]"
     },
     "metadata": {
      "needs_background": "light"
     },
     "output_type": "display_data"
    }
   ],
   "source": [
    "\n",
    "x_shift = [15, 24, 15,  5, ]\n",
    "y_shift = [0, 0,  0,  10,]\n",
    "\n",
    "# get unit data\n",
    "best_unit = sorted_units[10]\n",
    "rec, unit = best_unit[\"identifier\"].split(\"+\")\n",
    "units, left_fl, right_fl, left_hl, right_hl, body = alldata[rec]\n",
    "unit = units.loc[units.unit_id == int(unit.split(\"_\")[-1])].iloc[0]\n",
    "\n",
    "# plot a heatmap of the firing rate at each curve in each direction\n",
    "f, axes = plt.subplots(2, 2, figsize=(16, 9))\n",
    "axes = axes.flatten()\n",
    "\n",
    "for ax in axes:\n",
    "    ax.axis(\"equal\")\n",
    "    ax.axis(\"off\")\n",
    "\n",
    "vmax = [40, 40]\n",
    "\n",
    "for i, side in enumerate((\"left\", \"right\")):\n",
    "    cmap = \"Reds\" if i == 0 else \"Blues\"\n",
    "    for j, curve in enumerate(CURVES):\n",
    "\n",
    "        dx = x_shift[j] if i == 1 else 0\n",
    "        dy = y_shift[j] if i == 1 else 0\n",
    "\n",
    "        x = np.array(firing_rate_data[side][curve][\"x\"]) + dx\n",
    "        y = np.array(firing_rate_data[side][curve][\"y\"]) + dy\n",
    "        frate = np.array(firing_rate_data[side][curve][\"frate\"]) \n",
    "        \n",
    "        # time_frames = np.zeros(int(cross.session_end_frame - cross.session_start_frame))\n",
    "        # time_frames[spikes.astype(np.int)] = 1\n",
    "        # spike_ms = upsample_frames_to_ms(time_frames)\n",
    "        # frate = calc_firing_rate(spike_ms, dt=100) / 1000\n",
    "\n",
    "\n",
    "        im = axes[j].hexbin(x, y, frate, cmap=cmap, gridsize=[10, 15], mincnt=50, vmin=0, vmax=vmax[i])\n",
    "\n",
    "        # add colorbar\n",
    "        if j == 0 and i == 0:\n",
    "            add_colorbar(axes[0], im, \"Firing rate (Hz)\")\n",
    "\n",
    "        if j == 1 and i == 1:\n",
    "            add_colorbar(axes[2], im, \"Firing rate (Hz)\")\n",
    "\n",
    "\n",
    "# save figure \n",
    "# f.savefig(f\"{save_folder}/LR_decoding_example_{TARGET}_{unit.unit_id}_firing_rate.svg\", dpi=300)"
   ]
  },
  {
   "cell_type": "markdown",
   "metadata": {},
   "source": [
    "# Analyze differences in the kinematics"
   ]
  },
  {
   "cell_type": "code",
   "execution_count": 48,
   "metadata": {},
   "outputs": [
    {
     "name": "stdout",
     "output_type": "stream",
     "text": [
      "Doing FC_210715_AAA1110750_r5_hairpin\n",
      "Doing FC_210716_AAA1110750_r6_hairpin\n",
      "Doing FC_210720_AAA1110750_hairpin\n",
      "Doing FC_210721_AAA1110750_hairpin\n",
      "Doing FC_210722_AAA1110750_hairpin\n",
      "Doing FC_211022_BAA110516_hairpin\n",
      "Doing FC_211027_BAA110516_hairpin\n",
      "Doing FC_211214_BAA110517_hairpin\n",
      "Doing FC_220114_BAA110517_hairpin\n",
      "Doing FC_220117_BAA110517_hairpin\n",
      "Doing FC_220119_BAA110517_hairpin\n",
      "Doing FC_220120_BAA110517_hairpin\n",
      "Doing FC_210917_BAA1110279_hairpin\n",
      "Doing FC_210820_BAA1110281_hairpin\n",
      "Doing FC_210829_BAA1110281_hairpin\n",
      "Doing FC_210830_BAA1110281_hairpin\n",
      "Doing FC_210831_BAA1110281_hairpin\n",
      "Doing FC_210901_BAA1110281_hairpin\n",
      "Doing FC_210906_BAA1110281_hairpin\n",
      "Doing FC_210917_BAA1110281_hairpin\n"
     ]
    }
   ],
   "source": [
    "curve_direction = dict(\n",
    "    first=dict(out=\"right\", _in=\"left\"),\n",
    "    second=dict(out=\"right\", _in=\"left\"),\n",
    "    third=dict(out=\"left\", _in=\"right\"),\n",
    "    fourth=dict(out=\"left\", _in=\"right\"),\n",
    ")\n",
    "\n",
    "\n",
    "speeds = {}\n",
    "\n",
    "for rec in alldata.keys():\n",
    "    print(f\"Doing {rec}\")\n",
    "    out_bouts = get_session_bouts(rec, complete=None)\n",
    "    in_bouts = get_session_bouts(rec, direction=\"inbound\", complete=None)\n",
    "\n",
    "    out_crossings = {curve:get_roi_crossings(out_bouts, curve, ds=20, direction=\"out\") for curve in curves.keys()}\n",
    "    in_crossings = {curve:get_roi_crossings(in_bouts, curve, ds=20, direction=\"in\") for curve in curves.keys()}\n",
    "    \n",
    "    rec_speed = dict(left=[], right=[])\n",
    "    for i, curve in enumerate((\"second\", \"third\", \"fourth\")):\n",
    "        crossings_out = out_crossings[curve]\n",
    "        crossings_in = in_crossings[curve]\n",
    "\n",
    "        for c, crossings in enumerate([crossings_out, crossings_in]):\n",
    "            for _, cross in crossings.iterrows():\n",
    "                bout = out_bouts.iloc[cross.bout_idx] if c  == 0 else in_bouts.iloc[cross.bout_idx]\n",
    "\n",
    "                # get XY coord\n",
    "                speed = np.array(bout.speed[cross.enter_frame:cross.exit_frame])\n",
    "                side = list(curve_direction[curve].values())[c]\n",
    "                rec_speed[side].extend(speed)\n",
    "    speeds[rec] = rec_speed"
   ]
  },
  {
   "cell_type": "code",
   "execution_count": 49,
   "metadata": {},
   "outputs": [
    {
     "data": {
      "text/html": [
       "<pre style=\"white-space:pre;overflow-x:auto;line-height:normal;font-family:Menlo,'DejaVu Sans Mono',consolas,'Courier New',monospace\"><span style=\"font-weight: bold\">&lt;</span><span style=\"color: #ff00ff; text-decoration-color: #ff00ff; font-weight: bold\">Figure</span><span style=\"color: #000000; text-decoration-color: #000000\"> size 576x288 with </span><span style=\"color: #008080; text-decoration-color: #008080; font-weight: bold\">1</span><span style=\"color: #000000; text-decoration-color: #000000\"> Axes</span><span style=\"font-weight: bold\">&gt;</span>\n",
       "</pre>\n"
      ],
      "text/plain": [
       "\u001b[1m<\u001b[0m\u001b[1;95mFigure\u001b[0m\u001b[39m size 576x288 with \u001b[0m\u001b[1;36m1\u001b[0m\u001b[39m Axes\u001b[0m\u001b[1m>\u001b[0m\n"
      ]
     },
     "metadata": {},
     "output_type": "display_data"
    },
    {
     "data": {
      "image/png": "[encoded data removed]"
     },
     "metadata": {
      "needs_background": "light"
     },
     "output_type": "display_data"
    }
   ],
   "source": [
    "f, ax = plt.subplots(1, 1, figsize=(8, 4))\n",
    "\n",
    "for rec, s in speeds.items():\n",
    "    ax.hist(s[\"left\"], bins=np.arange(0, 60, 1), color=\"red\", alpha=0.5)\n",
    "    ax.hist(s[\"right\"], bins=np.arange(0, 60, 1), color=\"black\", alpha=0.5)\n",
    "\n"
   ]
  },
  {
   "cell_type": "markdown",
   "metadata": {},
   "source": [
    "### Fit logistic on speed traces\n",
    "Prep data first"
   ]
  },
  {
   "cell_type": "code",
   "execution_count": 50,
   "metadata": {},
   "outputs": [],
   "source": [
    "\n",
    "def bin_x_by_y(\n",
    "    data: pd.DataFrame,\n",
    "    x: str,\n",
    "    y: str,\n",
    "    bins: np.ndarray = 10,\n",
    "    min_count: int = 0,\n",
    "):\n",
    "    \"\"\"\n",
    "        Bins the values in a column X of a dataframe by bins\n",
    "        specified based on the values of another column Y\n",
    "    \"\"\"\n",
    "\n",
    "    # get bins\n",
    "    data[\"bins\"], bins = pd.cut(data[y], bins=bins, retbins=True)\n",
    "    data = data.loc[data.bins != np.nan]\n",
    "    bins_centers = (\n",
    "        bins[0] + np.cumsum(np.diff(bins)) - abs(np.diff(bins)[0] / 2)\n",
    "    )\n",
    "\n",
    "    # get values\n",
    "    mu = data.groupby(\"bins\")[x].mean()\n",
    "    sigma = data.groupby(\"bins\")[x].std()\n",
    "    counts = data.groupby(\"bins\")[x].count()\n",
    "\n",
    "    return bins_centers, mu, sigma, counts\n"
   ]
  },
  {
   "cell_type": "code",
   "execution_count": 51,
   "metadata": {},
   "outputs": [
    {
     "data": {
      "text/html": [
       "<div>\n",
       "<style scoped>\n",
       "    .dataframe tbody tr th:only-of-type {\n",
       "        vertical-align: middle;\n",
       "    }\n",
       "\n",
       "    .dataframe tbody tr th {\n",
       "        vertical-align: top;\n",
       "    }\n",
       "\n",
       "    .dataframe thead th {\n",
       "        text-align: right;\n",
       "    }\n",
       "</style>\n",
       "<table border=\"1\" class=\"dataframe\">\n",
       "  <thead>\n",
       "    <tr style=\"text-align: right;\">\n",
       "      <th></th>\n",
       "      <th>name</th>\n",
       "      <th>direction</th>\n",
       "      <th>label</th>\n",
       "      <th>nunits</th>\n",
       "      <th>-18</th>\n",
       "      <th>-16</th>\n",
       "      <th>-14</th>\n",
       "      <th>-12</th>\n",
       "      <th>-10</th>\n",
       "      <th>-8</th>\n",
       "      <th>...</th>\n",
       "      <th>10</th>\n",
       "      <th>12</th>\n",
       "      <th>14</th>\n",
       "      <th>16</th>\n",
       "      <th>18</th>\n",
       "      <th>20</th>\n",
       "      <th>label_left</th>\n",
       "      <th>label_right</th>\n",
       "      <th>direction__in</th>\n",
       "      <th>direction_out</th>\n",
       "    </tr>\n",
       "  </thead>\n",
       "  <tbody>\n",
       "    <tr>\n",
       "      <th>0</th>\n",
       "      <td>FC_210715_AAA1110750_r5_hairpin</td>\n",
       "      <td>out</td>\n",
       "      <td>right</td>\n",
       "      <td>6</td>\n",
       "      <td>34.391357</td>\n",
       "      <td>33.929303</td>\n",
       "      <td>33.929303</td>\n",
       "      <td>25.725508</td>\n",
       "      <td>25.725508</td>\n",
       "      <td>33.511812</td>\n",
       "      <td>...</td>\n",
       "      <td>44.451431</td>\n",
       "      <td>36.913550</td>\n",
       "      <td>36.913550</td>\n",
       "      <td>34.016734</td>\n",
       "      <td>34.016734</td>\n",
       "      <td>43.364582</td>\n",
       "      <td>0</td>\n",
       "      <td>1</td>\n",
       "      <td>0</td>\n",
       "      <td>1</td>\n",
       "    </tr>\n",
       "    <tr>\n",
       "      <th>1</th>\n",
       "      <td>FC_210715_AAA1110750_r5_hairpin</td>\n",
       "      <td>out</td>\n",
       "      <td>right</td>\n",
       "      <td>6</td>\n",
       "      <td>30.639244</td>\n",
       "      <td>24.465756</td>\n",
       "      <td>24.465756</td>\n",
       "      <td>38.029931</td>\n",
       "      <td>38.029931</td>\n",
       "      <td>32.546217</td>\n",
       "      <td>...</td>\n",
       "      <td>31.853467</td>\n",
       "      <td>31.054064</td>\n",
       "      <td>31.054064</td>\n",
       "      <td>40.625888</td>\n",
       "      <td>40.625888</td>\n",
       "      <td>35.448396</td>\n",
       "      <td>0</td>\n",
       "      <td>1</td>\n",
       "      <td>0</td>\n",
       "      <td>1</td>\n",
       "    </tr>\n",
       "    <tr>\n",
       "      <th>2</th>\n",
       "      <td>FC_210715_AAA1110750_r5_hairpin</td>\n",
       "      <td>out</td>\n",
       "      <td>right</td>\n",
       "      <td>6</td>\n",
       "      <td>31.676515</td>\n",
       "      <td>31.476484</td>\n",
       "      <td>31.476484</td>\n",
       "      <td>31.032367</td>\n",
       "      <td>31.032367</td>\n",
       "      <td>24.469093</td>\n",
       "      <td>...</td>\n",
       "      <td>35.861081</td>\n",
       "      <td>36.782646</td>\n",
       "      <td>36.782646</td>\n",
       "      <td>35.461482</td>\n",
       "      <td>35.461482</td>\n",
       "      <td>29.315816</td>\n",
       "      <td>0</td>\n",
       "      <td>1</td>\n",
       "      <td>0</td>\n",
       "      <td>1</td>\n",
       "    </tr>\n",
       "    <tr>\n",
       "      <th>3</th>\n",
       "      <td>FC_210715_AAA1110750_r5_hairpin</td>\n",
       "      <td>out</td>\n",
       "      <td>right</td>\n",
       "      <td>6</td>\n",
       "      <td>31.293502</td>\n",
       "      <td>37.899258</td>\n",
       "      <td>37.899258</td>\n",
       "      <td>29.283102</td>\n",
       "      <td>29.283102</td>\n",
       "      <td>38.598289</td>\n",
       "      <td>...</td>\n",
       "      <td>43.857237</td>\n",
       "      <td>52.283352</td>\n",
       "      <td>52.283352</td>\n",
       "      <td>42.587853</td>\n",
       "      <td>42.587853</td>\n",
       "      <td>36.816288</td>\n",
       "      <td>0</td>\n",
       "      <td>1</td>\n",
       "      <td>0</td>\n",
       "      <td>1</td>\n",
       "    </tr>\n",
       "    <tr>\n",
       "      <th>4</th>\n",
       "      <td>FC_210715_AAA1110750_r5_hairpin</td>\n",
       "      <td>out</td>\n",
       "      <td>right</td>\n",
       "      <td>6</td>\n",
       "      <td>28.983665</td>\n",
       "      <td>29.038766</td>\n",
       "      <td>29.038766</td>\n",
       "      <td>27.620513</td>\n",
       "      <td>27.620513</td>\n",
       "      <td>37.077018</td>\n",
       "      <td>...</td>\n",
       "      <td>45.508374</td>\n",
       "      <td>41.839102</td>\n",
       "      <td>41.839102</td>\n",
       "      <td>43.036709</td>\n",
       "      <td>43.036709</td>\n",
       "      <td>49.470493</td>\n",
       "      <td>0</td>\n",
       "      <td>1</td>\n",
       "      <td>0</td>\n",
       "      <td>1</td>\n",
       "    </tr>\n",
       "  </tbody>\n",
       "</table>\n",
       "<p>5 rows × 28 columns</p>\n",
       "</div>"
      ]
     },
     "execution_count": 51,
     "metadata": {},
     "output_type": "execute_result"
    }
   ],
   "source": [
    "curve_direction = dict(\n",
    "    second=dict(out=\"right\", _in=\"left\"),\n",
    "    third=dict(out=\"left\", _in=\"right\"),\n",
    "    fourth=dict(out=\"left\", _in=\"right\"),\n",
    ")\n",
    "\n",
    "\n",
    "ds = 2\n",
    "bins = np.arange(-20, 20+ds, step=ds)\n",
    "\n",
    "\n",
    "data = {\n",
    "    **dict(\n",
    "        name=[],  # recording name\n",
    "        direction=[],  # direction (out/in)\n",
    "        label=[],  # left, right or straight\n",
    "        nunits = [],\n",
    "    ),\n",
    "    **{s:[] for s in bins[1:]}  # firing rate at each S position bin\n",
    "}\n",
    "\n",
    "\n",
    "\n",
    "for REC in get_recording_names(region=TARGET):\n",
    "    # fetch recording data\n",
    "    # units, left_fl, right_fl, left_hl, right_hl, body = get_data(REC)\n",
    "    units, left_fl, right_fl, left_hl, right_hl, body = alldata[REC]\n",
    "\n",
    "    if units is None or not len(units):\n",
    "        continue\n",
    "    \n",
    "    if TARGET == \"MOs\":\n",
    "        units = units.loc[units.brain_region.isin([\"MOs\", \"MOs1\", \"MOs2/3\", \"MOs5\", \"MOs6a\", \"MOs6b\"])]\n",
    "    else:\n",
    "        units = units.loc[units.brain_region.isin([\"CUN\", \"PPN\"])]\n",
    "        \n",
    "\n",
    "    out_bouts     = get_session_bouts(REC, complete=None)\n",
    "    in_bouts      = get_session_bouts(REC, direction=\"inbound\", complete=None)\n",
    "    out_crossings = {curve:get_roi_crossings(out_bouts, curve, ds=20, direction=\"out\") for curve in curves.keys()}\n",
    "    in_crossings  = {curve:get_roi_crossings(in_bouts, curve, ds=20, direction=\"in\") for curve in curves.keys()}\n",
    "\n",
    "    for curve in (\"second\", \"third\", \"fourth\"):\n",
    "        for (direction, crossings, bouts) in ((\"out\", out_crossings[curve], out_bouts), (\"_in\", in_crossings[curve], in_bouts)):\n",
    "            sign = 1 if direction == \"out\" else -1\n",
    "\n",
    "            for i, cross in crossings.iterrows():\n",
    "\n",
    "                # get spikes at each bin\n",
    "                bout = bouts.iloc[cross.bout_idx]\n",
    "                s = sign * (curves[curve].s - np.array(bout.s[cross.enter_frame:cross.exit_frame]))\n",
    "\n",
    "                # get binned speed\n",
    "                speed = np.array(bout.speed[cross.enter_frame:cross.exit_frame])             \n",
    "                _, binned_speed, _, _ = bin_x_by_y(\n",
    "                    pd.DataFrame(dict(s=s, speed=speed)),\n",
    "                    \"speed\", \"s\", bins=bins\n",
    "                )\n",
    "\n",
    "                # store all data\n",
    "                data[\"name\"].append(REC)\n",
    "                data[\"direction\"].append(direction)\n",
    "                data[\"label\"].append(curve_direction[curve][direction])\n",
    "                data[\"nunits\"].append(len(units))\n",
    "                for i, bin in enumerate(bins[1:]):\n",
    "                    data[bin].append(binned_speed[i])\n",
    "\n",
    "\n",
    "data = pd.DataFrame(data)\n",
    "data = data.join(pd.get_dummies(data[[\"label\", \"direction\"]]))\n",
    "data.head()"
   ]
  },
  {
   "cell_type": "code",
   "execution_count": 52,
   "metadata": {},
   "outputs": [
    {
     "data": {
      "application/vnd.jupyter.widget-view+json": {
       "model_id": "4fe55ab7804e4277bf784e51bf8d205f",
       "version_major": 2,
       "version_minor": 0
      },
      "text/plain": [
       "Output()"
      ]
     },
     "metadata": {},
     "output_type": "display_data"
    },
    {
     "data": {
      "text/html": [
       "<pre style=\"white-space:pre;overflow-x:auto;line-height:normal;font-family:Menlo,'DejaVu Sans Mono',consolas,'Courier New',monospace\"></pre>\n"
      ],
      "text/plain": []
     },
     "metadata": {},
     "output_type": "display_data"
    },
    {
     "data": {
      "text/html": [
       "<pre style=\"white-space:pre;overflow-x:auto;line-height:normal;font-family:Menlo,'DejaVu Sans Mono',consolas,'Courier New',monospace\">\n",
       "</pre>\n"
      ],
      "text/plain": [
       "\n"
      ]
     },
     "metadata": {},
     "output_type": "display_data"
    },
    {
     "name": "stdout",
     "output_type": "stream",
     "text": [
      "Succesfully fit 9 models\n"
     ]
    }
   ],
   "source": [
    "PREDICTED = \"label_right\"\n",
    "results, shuffled_accuracies = {}, []\n",
    "select_cols = list(bins[1:]) + [PREDICTED]\n",
    "units_explained_away_by_speed = 0\n",
    "tot_units = 0\n",
    "for rec in track(data['name'].unique()):\n",
    "    # sample L/R trials to get equal number of trials per direction\n",
    "    rec_data = data.loc[data['name'] == rec]\n",
    "    name = rec_data.name.iloc[0]\n",
    "\n",
    "    side_counts = rec_data.groupby([\"label\"])[\"name\"].count()\n",
    "\n",
    "    try:\n",
    "        n_selected = min(side_counts[\"left\"], side_counts[\"right\"])\n",
    "    except:\n",
    "        continue\n",
    "    \n",
    "    if n_selected < 12:\n",
    "        continue\n",
    "    \n",
    "    left = rec_data.loc[rec_data.label == \"left\"].sample(n_selected)\n",
    "    right = rec_data.loc[rec_data.label == \"right\"].sample(n_selected)\n",
    "\n",
    "    # keep bins + label column\n",
    "    rec_data = pd.concat([left, right])[select_cols].reset_index(drop=True).dropna()\n",
    "\n",
    "    # split train/test\n",
    "    X = rec_data.drop(PREDICTED, axis=1)\n",
    "    y = rec_data[PREDICTED]\n",
    "\n",
    "    # standardize columns of X\n",
    "    X = (X - X.mean()) / (X.std() + 0.0001)\n",
    "\n",
    "\n",
    "    # fit the model with 5x k-fold cross-validation\n",
    "    kf = KFold(n_splits=5, shuffle=True, random_state=42)\n",
    "    kf.get_n_splits(X)\n",
    "    kf_accuracies = []\n",
    "    for train_index, test_index in kf.split(X):\n",
    "        X_train, X_test = X.iloc[train_index], X.iloc[test_index]\n",
    "        y_train, y_test = y.iloc[train_index], y.iloc[test_index]\n",
    "\n",
    "        # fit model\n",
    "        logreg = LogisticRegression()\n",
    "        logreg.fit(X_train, y_train)\n",
    "        kf_accuracies.append(logreg.score(X_test, y_test))\n",
    "\n",
    "\n",
    "    # fit model on randomly shuffled labels\n",
    "    # split X in train/test\n",
    "    X_train, X_test, _, _ = train_test_split(X, y, test_size=.3, random_state=0)\n",
    "    rec_shuffled_accuracies = []\n",
    "    for i in range(100):\n",
    "        y_shuffled = y.sample(frac=1, random_state=i)\n",
    "        _, _, y_shuff_train, y_shuff_test = train_test_split(X, y_shuffled, test_size=0.3, random_state=0)\n",
    "\n",
    "        shuffled_logreg = LogisticRegression()\n",
    "        shuffled_logreg.fit(X_train, y_shuff_train)\n",
    "\n",
    "        acc = shuffled_logreg.score(X_test, y_shuff_test)\n",
    "        shuffled_accuracies.append(acc)\n",
    "        rec_shuffled_accuracies.append(acc)\n",
    "\n",
    "    # check if the model is significantly better than the shuffled labels\n",
    "    tuned = np.mean(kf_accuracies) > np.percentile(rec_shuffled_accuracies, 99)\n",
    "\n",
    "\n",
    "    n_units = data.loc[data['name'] == rec][\"nunits\"].iloc[0]\n",
    "    tot_units += n_units\n",
    "    if tuned:\n",
    "        units_explained_away_by_speed += n_units\n",
    "\n",
    "    results[rec] = dict(\n",
    "        name=name,\n",
    "        model=logreg,\n",
    "        accuracy=np.mean(kf_accuracies),\n",
    "        # scaler=scaler,\n",
    "        tuned = tuned,\n",
    "        X_test=X_test,\n",
    "        y_test=y_test,\n",
    "\n",
    "    )\n",
    "\n",
    "    # if len(results.keys()) > 100:\n",
    "    #     break\n",
    "\n",
    "print(f\"Succesfully fit {len(results.keys())} models\")"
   ]
  },
  {
   "cell_type": "code",
   "execution_count": 53,
   "metadata": {},
   "outputs": [
    {
     "name": "stdout",
     "output_type": "stream",
     "text": [
      "30/54 (55.55555555555556) units explained away by speed\n"
     ]
    }
   ],
   "source": [
    "print(f\"{units_explained_away_by_speed}/{tot_units} ({units_explained_away_by_speed/tot_units*100}) units explained away by speed\")"
   ]
  },
  {
   "cell_type": "code",
   "execution_count": 55,
   "metadata": {},
   "outputs": [
    {
     "data": {
      "text/html": [
       "<pre style=\"white-space:pre;overflow-x:auto;line-height:normal;font-family:Menlo,'DejaVu Sans Mono',consolas,'Courier New',monospace\">\n",
       "<span style=\"font-weight: bold\">[</span>\n",
       "    <span style=\"color: #008000; text-decoration-color: #008000\">'FC_211022_BAA110516_hairpin'</span>,\n",
       "    <span style=\"color: #008000; text-decoration-color: #008000\">'FC_211214_BAA110517_hairpin'</span>,\n",
       "    <span style=\"color: #008000; text-decoration-color: #008000\">'FC_220114_BAA110517_hairpin'</span>,\n",
       "    <span style=\"color: #008000; text-decoration-color: #008000\">'FC_210830_BAA1110281_hairpin'</span>\n",
       "<span style=\"font-weight: bold\">]</span>\n",
       "</pre>\n"
      ],
      "text/plain": [
       "\n",
       "\u001b[1m[\u001b[0m\n",
       "    \u001b[32m'FC_211022_BAA110516_hairpin'\u001b[0m,\n",
       "    \u001b[32m'FC_211214_BAA110517_hairpin'\u001b[0m,\n",
       "    \u001b[32m'FC_220114_BAA110517_hairpin'\u001b[0m,\n",
       "    \u001b[32m'FC_210830_BAA1110281_hairpin'\u001b[0m\n",
       "\u001b[1m]\u001b[0m\n"
      ]
     },
     "metadata": {},
     "output_type": "display_data"
    }
   ],
   "source": [
    "# get a list of which recordings are tuned\n",
    "tuned_recs = [rec for rec, res in results.items() if res[\"tuned\"]]\n",
    "tuned_recs"
   ]
  },
  {
   "cell_type": "code",
   "execution_count": 54,
   "metadata": {},
   "outputs": [
    {
     "name": "stdout",
     "output_type": "stream",
     "text": [
      "Fraction tuned: 0.4444444444444444 - 4/9\n"
     ]
    },
    {
     "data": {
      "text/html": [
       "<pre style=\"white-space:pre;overflow-x:auto;line-height:normal;font-family:Menlo,'DejaVu Sans Mono',consolas,'Courier New',monospace\"><span style=\"font-weight: bold\">&lt;</span><span style=\"color: #ff00ff; text-decoration-color: #ff00ff; font-weight: bold\">Figure</span><span style=\"color: #000000; text-decoration-color: #000000\"> size 1152x648 with </span><span style=\"color: #008080; text-decoration-color: #008080; font-weight: bold\">1</span><span style=\"color: #000000; text-decoration-color: #000000\"> Axes</span><span style=\"font-weight: bold\">&gt;</span>\n",
       "</pre>\n"
      ],
      "text/plain": [
       "\u001b[1m<\u001b[0m\u001b[1;95mFigure\u001b[0m\u001b[39m size 1152x648 with \u001b[0m\u001b[1;36m1\u001b[0m\u001b[39m Axes\u001b[0m\u001b[1m>\u001b[0m\n"
      ]
     },
     "metadata": {},
     "output_type": "display_data"
    },
    {
     "data": {
      "image/png": "[encoded data removed]"
     },
     "metadata": {
      "needs_background": "light"
     },
     "output_type": "display_data"
    }
   ],
   "source": [
    "# Plot number of tuned units as bar plot\n",
    "f, ax = plt.subplots(1, 1, figsize=(16, 9))\n",
    "\n",
    "N = len(results.keys())\n",
    "n_tuned = len([r for r in results.values() if r[\"tuned\"]])\n",
    "\n",
    "print(f\"Fraction tuned: {n_tuned/N} - {n_tuned}/{N}\")\n",
    "\n",
    "ax.bar(0, n_tuned/N, color=\"k\")\n",
    "ax.bar(0, (N - n_tuned)/N, bottom=(n_tuned)/N, color=[.75, .75, .75])\n",
    "_ = ax.set(xlim=[-2, 2], ylabel=\"Fraction tuned\", xlabel=TARGET)\n",
    "ax.axhline(.5)\n",
    "\n",
    "\n",
    "f.savefig(save_folder / f\"LR_decoding_{TARGET}_n_tuned_BEAHAV_ONLY.svg\")"
   ]
  },
  {
   "cell_type": "code",
   "execution_count": null,
   "metadata": {},
   "outputs": [],
   "source": []
  }
 ],
 "metadata": {
  "kernelspec": {
   "display_name": "Python 3.8.0 ('glm')",
   "language": "python",
   "name": "python3"
  },
  "language_info": {
   "codemirror_mode": {
    "name": "ipython",
    "version": 3
   },
   "file_extension": ".py",
   "mimetype": "text/x-python",
   "name": "python",
   "nbconvert_exporter": "python",
   "pygments_lexer": "ipython3",
   "version": "3.8.0"
  },
  "orig_nbformat": 4,
  "vscode": {
   "interpreter": {
    "hash": "150ed04e4a7757279df9e34a7668d32a4de2f602328bc7aa115cd7824ea88d27"
   }
  }
 },
 "nbformat": 4,
 "nbformat_minor": 2
}
