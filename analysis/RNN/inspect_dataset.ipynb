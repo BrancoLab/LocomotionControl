{
 "cells": [
  {
   "cell_type": "code",
   "execution_count": 1,
   "metadata": {},
   "outputs": [],
   "source": [
    "import sys\n",
    "sys.path.append(r\"C:\\Users\\Federico\\Documents\\GitHub\\pysical_locomotion\")\n",
    "\n",
    "import matplotlib.pyplot as plt\n",
    "\n",
    "from analysis.RNN.task import GoalDirectedLocomotionDataset"
   ]
  },
  {
   "cell_type": "markdown",
   "metadata": {},
   "source": [
    "## dataset inspection\n",
    "Plot a bunch of stuff from the dataset to get an idea of how exactly it looks like.\n",
    "\n",
    "#### Load dataset"
   ]
  },
  {
   "cell_type": "code",
   "execution_count": 2,
   "metadata": {},
   "outputs": [
    {
     "data": {
      "text/html": [
       "<pre style=\"white-space:pre;overflow-x:auto;line-height:normal;font-family:Menlo,'DejaVu Sans Mono',consolas,'Courier New',monospace\">Generating data... <span style=\"color: #729c1f; text-decoration-color: #729c1f\">━━━━━━━━━━━━━━━━━━━━━━━━━━━━━━━━━━━━━━━━</span> <span style=\"color: #800080; text-decoration-color: #800080\">100%</span> <span style=\"color: #008080; text-decoration-color: #008080\">0:00:00</span>\n",
       "</pre>\n"
      ],
      "text/plain": [
       "Generating data... \u001b[38;2;114;156;31m━━━━━━━━━━━━━━━━━━━━━━━━━━━━━━━━━━━━━━━━\u001b[0m \u001b[35m100%\u001b[0m \u001b[36m0:00:00\u001b[0m\n"
      ]
     },
     "metadata": {},
     "output_type": "display_data"
    },
    {
     "data": {
      "text/html": [
       "<pre style=\"white-space:pre;overflow-x:auto;line-height:normal;font-family:Menlo,'DejaVu Sans Mono',consolas,'Courier New',monospace\"></pre>\n"
      ],
      "text/plain": []
     },
     "metadata": {},
     "output_type": "display_data"
    },
    {
     "data": {
      "text/html": [
       "<pre style=\"white-space:pre;overflow-x:auto;line-height:normal;font-family:Menlo,'DejaVu Sans Mono',consolas,'Courier New',monospace\">\n",
       "</pre>\n"
      ],
      "text/plain": [
       "\n"
      ]
     },
     "metadata": {},
     "output_type": "display_data"
    },
    {
     "name": "stdout",
     "output_type": "stream",
     "text": [
      "Dataset has 4632 trials\n"
     ]
    }
   ],
   "source": [
    "data = GoalDirectedLocomotionDataset()\n",
    "print(f\"Dataset has {len(data)} trials\")"
   ]
  },
  {
   "cell_type": "code",
   "execution_count": 3,
   "metadata": {},
   "outputs": [
    {
     "name": "stdout",
     "output_type": "stream",
     "text": [
      "Inputs shape: torch.Size([201, 14])\n",
      "Outputs shape: torch.Size([201, 2])\n"
     ]
    }
   ],
   "source": [
    "x, y = data[0]\n",
    "print(f'Inputs shape: {x.shape}')\n",
    "print(f'Outputs shape: {y.shape}')"
   ]
  },
  {
   "cell_type": "code",
   "execution_count": 9,
   "metadata": {},
   "outputs": [
    {
     "data": {
      "text/html": [
       "<pre style=\"white-space:pre;overflow-x:auto;line-height:normal;font-family:Menlo,'DejaVu Sans Mono',consolas,'Courier New',monospace\">\n",
       "<span style=\"font-weight: bold\">[</span>\n",
       "    <span style=\"color: #008000; text-decoration-color: #008000\">'n'</span>,\n",
       "    <span style=\"color: #008000; text-decoration-color: #008000\">'ψ'</span>,\n",
       "    <span style=\"color: #008000; text-decoration-color: #008000\">'s'</span>,\n",
       "    <span style=\"color: #008000; text-decoration-color: #008000\">'V'</span>,\n",
       "    <span style=\"color: #008000; text-decoration-color: #008000\">'ω'</span>,\n",
       "    <span style=\"color: #008000; text-decoration-color: #008000\">'k_1'</span>,\n",
       "    <span style=\"color: #008000; text-decoration-color: #008000\">'k_2'</span>,\n",
       "    <span style=\"color: #008000; text-decoration-color: #008000\">'k_3'</span>,\n",
       "    <span style=\"color: #008000; text-decoration-color: #008000\">'k_4'</span>,\n",
       "    <span style=\"color: #008000; text-decoration-color: #008000\">'k_5'</span>,\n",
       "    <span style=\"color: #008000; text-decoration-color: #008000\">'k_6'</span>,\n",
       "    <span style=\"color: #008000; text-decoration-color: #008000\">'k_7'</span>,\n",
       "    <span style=\"color: #008000; text-decoration-color: #008000\">'k_8'</span>,\n",
       "    <span style=\"color: #008000; text-decoration-color: #008000\">'k_9'</span>\n",
       "<span style=\"font-weight: bold\">]</span>\n",
       "</pre>\n"
      ],
      "text/plain": [
       "\n",
       "\u001b[1m[\u001b[0m\n",
       "    \u001b[32m'n'\u001b[0m,\n",
       "    \u001b[32m'ψ'\u001b[0m,\n",
       "    \u001b[32m's'\u001b[0m,\n",
       "    \u001b[32m'V'\u001b[0m,\n",
       "    \u001b[32m'ω'\u001b[0m,\n",
       "    \u001b[32m'k_1'\u001b[0m,\n",
       "    \u001b[32m'k_2'\u001b[0m,\n",
       "    \u001b[32m'k_3'\u001b[0m,\n",
       "    \u001b[32m'k_4'\u001b[0m,\n",
       "    \u001b[32m'k_5'\u001b[0m,\n",
       "    \u001b[32m'k_6'\u001b[0m,\n",
       "    \u001b[32m'k_7'\u001b[0m,\n",
       "    \u001b[32m'k_8'\u001b[0m,\n",
       "    \u001b[32m'k_9'\u001b[0m\n",
       "\u001b[1m]\u001b[0m\n"
      ]
     },
     "metadata": {},
     "output_type": "display_data"
    }
   ],
   "source": [
    "data._inputs"
   ]
  },
  {
   "cell_type": "code",
   "execution_count": 10,
   "metadata": {},
   "outputs": [
    {
     "data": {
      "text/html": [
       "<pre style=\"white-space:pre;overflow-x:auto;line-height:normal;font-family:Menlo,'DejaVu Sans Mono',consolas,'Courier New',monospace\"><span style=\"font-weight: bold\">(</span><span style=\"color: #008000; text-decoration-color: #008000\">'v̇'</span>, <span style=\"color: #008000; text-decoration-color: #008000\">'ω̇'</span><span style=\"font-weight: bold\">)</span>\n",
       "</pre>\n"
      ],
      "text/plain": [
       "\u001b[1m(\u001b[0m\u001b[32m'v̇'\u001b[0m, \u001b[32m'ω̇'\u001b[0m\u001b[1m)\u001b[0m\n"
      ]
     },
     "metadata": {},
     "output_type": "display_data"
    }
   ],
   "source": [
    "data._outputs"
   ]
  },
  {
   "cell_type": "markdown",
   "metadata": {},
   "source": [
    "plot a few trials"
   ]
  },
  {
   "cell_type": "code",
   "execution_count": 14,
   "metadata": {},
   "outputs": [
    {
     "data": {
      "text/html": [
       "<pre style=\"white-space:pre;overflow-x:auto;line-height:normal;font-family:Menlo,'DejaVu Sans Mono',consolas,'Courier New',monospace\"><span style=\"font-weight: bold\">&lt;</span><span style=\"color: #ff00ff; text-decoration-color: #ff00ff; font-weight: bold\">Figure</span><span style=\"color: #000000; text-decoration-color: #000000\"> size 576x1440 with </span><span style=\"color: #008080; text-decoration-color: #008080; font-weight: bold\">14</span><span style=\"color: #000000; text-decoration-color: #000000\"> Axes</span><span style=\"font-weight: bold\">&gt;</span>\n",
       "</pre>\n"
      ],
      "text/plain": [
       "\u001b[1m<\u001b[0m\u001b[1;95mFigure\u001b[0m\u001b[39m size 576x1440 with \u001b[0m\u001b[1;36m14\u001b[0m\u001b[39m Axes\u001b[0m\u001b[1m>\u001b[0m\n"
      ]
     },
     "metadata": {},
     "output_type": "display_data"
    },
    {
     "data": {
      "image/png": "[encoded data removed]"
     },
     "metadata": {
      "needs_background": "light"
     },
     "output_type": "display_data"
    }
   ],
   "source": [
    "%matplotlib inline\n",
    "\n",
    "f, axes = plt.subplots(data.n_inputs, 1, figsize=(8, 20), sharex=True)"
   ]
  }
 ],
 "metadata": {
  "interpreter": {
   "hash": "a9b891337f386748fab001863e8698a82acb0045aa576c89ab62bf3bf19aaa37"
  },
  "kernelspec": {
   "display_name": "Python 3.8.0 ('rnn')",
   "language": "python",
   "name": "python3"
  },
  "language_info": {
   "codemirror_mode": {
    "name": "ipython",
    "version": 3
   },
   "file_extension": ".py",
   "mimetype": "text/x-python",
   "name": "python",
   "nbconvert_exporter": "python",
   "pygments_lexer": "ipython3",
   "version": "3.8.0"
  },
  "orig_nbformat": 4
 },
 "nbformat": 4,
 "nbformat_minor": 2
}
