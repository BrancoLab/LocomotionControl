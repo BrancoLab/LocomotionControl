{
 "cells": [
  {
   "cell_type": "code",
   "execution_count": 9,
   "metadata": {},
   "outputs": [],
   "source": [
    "import matplotlib.pyplot as plt\n",
    "from torch import nn\n",
    "import sys\n",
    "import torch\n",
    "import numpy as np\n",
    "from pathlib import Path\n",
    "\n",
    "sys.path.append(r\"C:\\Users\\Federico\\Documents\\GitHub\\pysical_locomotion\")\n",
    "sys.path.append(\"./\")\n",
    "\n",
    "from pyrnn import RNN\n",
    "from torch.utils.data import Subset\n",
    "from fcutils.path import subdirs\n",
    "from sklearn.model_selection import train_test_split\n",
    "\n",
    "# from pyrnn.render import render_state_history_pca_3d\n",
    "from analysis.RNN.task import (\n",
    "    # make_batch,\n",
    "    GoalDirectedLocomotionDataset,\n",
    "    plot_predictions,\n",
    ")"
   ]
  },
  {
   "cell_type": "code",
   "execution_count": 2,
   "metadata": {},
   "outputs": [],
   "source": [
    "def train_val_dataset(dataset, val_split=0.25):\n",
    "    train_idx, val_idx = train_test_split(\n",
    "        list(range(len(dataset))), test_size=val_split\n",
    "    )\n",
    "    datasets = {}\n",
    "    datasets[\"train\"] = Subset(dataset, train_idx)\n",
    "    datasets[\"test\"] = Subset(dataset, val_idx)\n",
    "    return datasets"
   ]
  },
  {
   "cell_type": "markdown",
   "metadata": {},
   "source": [
    "# Intro\n",
    "Having trained RNN on goal directed locomotion tasks with varying length of track trajectory horizon information and $\\delta t$ of future velocities predictions, we compare their performance here. "
   ]
  },
  {
   "cell_type": "code",
   "execution_count": 3,
   "metadata": {},
   "outputs": [],
   "source": [
    "datasets_folder = Path(r\"D:\\Dropbox (UCL)\\Rotation_vte\\Locomotion\\analysis\\RNN\\datasets\")\n",
    "results_folders = subdirs(Path(r\"D:\\Dropbox (UCL)\\Rotation_vte\\Locomotion\\analysis\\RNN\\datasets_comparison\"))\n",
    "names = [f.name for f in results_folders]"
   ]
  },
  {
   "cell_type": "code",
   "execution_count": 10,
   "metadata": {},
   "outputs": [
    {
     "data": {
      "text/html": [
       "<pre style=\"white-space:pre;overflow-x:auto;line-height:normal;font-family:Menlo,'DejaVu Sans Mono',consolas,'Courier New',monospace\">Generating data... <span style=\"color: #3a3a3a; text-decoration-color: #3a3a3a\">━━━━━━━━━━━━━━━━━━━━━━━━━━━━━━━━━━━━━━━━</span> <span style=\"color: #800080; text-decoration-color: #800080\">  0%</span> <span style=\"color: #008080; text-decoration-color: #008080\">-:--:--</span>\n",
       "</pre>\n"
      ],
      "text/plain": [
       "Generating data... \u001b[38;5;237m━━━━━━━━━━━━━━━━━━━━━━━━━━━━━━━━━━━━━━━━\u001b[0m \u001b[35m  0%\u001b[0m \u001b[36m-:--:--\u001b[0m\n"
      ]
     },
     "metadata": {},
     "output_type": "display_data"
    },
    {
     "data": {
      "text/html": [
       "<pre style=\"white-space:pre;overflow-x:auto;line-height:normal;font-family:Menlo,'DejaVu Sans Mono',consolas,'Courier New',monospace\"></pre>\n"
      ],
      "text/plain": []
     },
     "metadata": {},
     "output_type": "display_data"
    },
    {
     "data": {
      "text/html": [
       "<pre style=\"white-space:pre;overflow-x:auto;line-height:normal;font-family:Menlo,'DejaVu Sans Mono',consolas,'Courier New',monospace\">\n",
       "</pre>\n"
      ],
      "text/plain": [
       "\n"
      ]
     },
     "metadata": {},
     "output_type": "display_data"
    },
    {
     "data": {
      "text/html": [
       "<pre style=\"white-space:pre;overflow-x:auto;line-height:normal;font-family:Menlo,'DejaVu Sans Mono',consolas,'Courier New',monospace\"><span style=\"color: #7fbfbf; text-decoration-color: #7fbfbf\">[06/06/22 16:49:26] </span><span style=\"color: #000080; text-decoration-color: #000080\">INFO    </span> <span style=\"color: #ffe082; text-decoration-color: #ffe082\">Loading model from: </span><span style=\"color: #ffa726; text-decoration-color: #ffa726\">D:\\Dropbox </span><span style=\"color: #ffa726; text-decoration-color: #ffa726; font-weight: bold\">(</span><span style=\"color: #ffa726; text-decoration-color: #ffa726\">UCL</span><span style=\"color: #ffa726; text-decoration-color: #ffa726; font-weight: bold\">)</span><span style=\"color: #ffa726; text-decoration-color: #ffa726\">\\Rotation_vte\\Lo</span> <a href=\"file://c:\\users\\federico\\documents\\github\\pyrnn\\pyrnn\\_rnn.py\" target=\"_blank\"><span style=\"color: #7f7f7f; text-decoration-color: #7f7f7f\">_rnn.py</span></a><span style=\"color: #7f7f7f; text-decoration-color: #7f7f7f\">:</span><a href=\"file://c:\\users\\federico\\documents\\github\\pyrnn\\pyrnn\\_rnn.py#225\" target=\"_blank\"><span style=\"color: #7f7f7f; text-decoration-color: #7f7f7f\">225</span></a>\n",
       "<span style=\"color: #7fbfbf; text-decoration-color: #7fbfbf\">                    </span>         <span style=\"color: #ffa726; text-decoration-color: #ffa726\">comotion\\analysis\\RNN\\datasets_comparison\\5cm_pred_0</span> <span style=\"color: #7f7f7f; text-decoration-color: #7f7f7f\">           </span>\n",
       "<span style=\"color: #7fbfbf; text-decoration-color: #7fbfbf\">                    </span>         <span style=\"color: #ffa726; text-decoration-color: #ffa726\">.</span><span style=\"color: #008080; text-decoration-color: #008080; font-weight: bold\">75</span><span style=\"color: #ffa726; text-decoration-color: #ffa726\">\\MIN_LOSS.pt</span>                                      <span style=\"color: #7f7f7f; text-decoration-color: #7f7f7f\">           </span>\n",
       "</pre>\n"
      ],
      "text/plain": [
       "\u001b[2;36m[06/06/22 16:49:26]\u001b[0m\u001b[2;36m \u001b[0m\u001b[34mINFO    \u001b[0m \u001b[38;2;255;224;130mLoading model from: \u001b[0m\u001b[38;2;255;167;38mD:\\Dropbox \u001b[0m\u001b[1;38;2;255;167;38m(\u001b[0m\u001b[38;2;255;167;38mUCL\u001b[0m\u001b[1;38;2;255;167;38m)\u001b[0m\u001b[38;2;255;167;38m\\Rotation_vte\\Lo\u001b[0m \u001b]8;id=723833;file://c:\\users\\federico\\documents\\github\\pyrnn\\pyrnn\\_rnn.py\u001b\\\u001b[2m_rnn.py\u001b[0m\u001b]8;;\u001b\\\u001b[2m:\u001b[0m\u001b]8;id=357935;file://c:\\users\\federico\\documents\\github\\pyrnn\\pyrnn\\_rnn.py#225\u001b\\\u001b[2m225\u001b[0m\u001b]8;;\u001b\\\n",
       "\u001b[2;36m                    \u001b[0m         \u001b[38;2;255;167;38mcomotion\\analysis\\RNN\\datasets_comparison\\5cm_pred_0\u001b[0m \u001b[2m           \u001b[0m\n",
       "\u001b[2;36m                    \u001b[0m         \u001b[38;2;255;167;38m.\u001b[0m\u001b[1;36m75\u001b[0m\u001b[38;2;255;167;38m\\MIN_LOSS.pt\u001b[0m                                      \u001b[2m           \u001b[0m\n"
      ]
     },
     "metadata": {},
     "output_type": "display_data"
    },
    {
     "data": {
      "text/html": [
       "<pre style=\"white-space:pre;overflow-x:auto;line-height:normal;font-family:Menlo,'DejaVu Sans Mono',consolas,'Courier New',monospace\"><span style=\"color: #7fbfbf; text-decoration-color: #7fbfbf\">                    </span><span style=\"color: #000080; text-decoration-color: #000080\">INFO    </span> Loading dataset data at: <span style=\"color: #008000; text-decoration-color: #008000\">'D:\\Dropbox (UCL)\\Rotation_v</span> <a href=\"file://C:\\Users\\Federico\\Documents\\GitHub\\pysical_locomotion\\analysis\\RNN\\task.py\" target=\"_blank\"><span style=\"color: #7f7f7f; text-decoration-color: #7f7f7f\">task.py</span></a><span style=\"color: #7f7f7f; text-decoration-color: #7f7f7f\">:</span><a href=\"file://C:\\Users\\Federico\\Documents\\GitHub\\pysical_locomotion\\analysis\\RNN\\task.py#93\" target=\"_blank\"><span style=\"color: #7f7f7f; text-decoration-color: #7f7f7f\">93</span></a>\n",
       "<span style=\"color: #7fbfbf; text-decoration-color: #7fbfbf\">                    </span>         <span style=\"color: #008000; text-decoration-color: #008000\">te\\Locomotion\\analysis\\RNN\\datasets\\5cm_pred_1'</span><span style=\"font-weight: bold\">)</span>      <span style=\"color: #7f7f7f; text-decoration-color: #7f7f7f\">          </span>\n",
       "</pre>\n"
      ],
      "text/plain": [
       "\u001b[2;36m                   \u001b[0m\u001b[2;36m \u001b[0m\u001b[34mINFO    \u001b[0m Loading dataset data at: \u001b[32m'D:\\Dropbox \u001b[0m\u001b[32m(\u001b[0m\u001b[32mUCL\u001b[0m\u001b[32m)\u001b[0m\u001b[32m\\Rotation_v\u001b[0m \u001b]8;id=172813;file://C:\\Users\\Federico\\Documents\\GitHub\\pysical_locomotion\\analysis\\RNN\\task.py\u001b\\\u001b[2mtask.py\u001b[0m\u001b]8;;\u001b\\\u001b[2m:\u001b[0m\u001b]8;id=517073;file://C:\\Users\\Federico\\Documents\\GitHub\\pysical_locomotion\\analysis\\RNN\\task.py#93\u001b\\\u001b[2m93\u001b[0m\u001b]8;;\u001b\\\n",
       "\u001b[2;36m                    \u001b[0m         \u001b[32mte\\Locomotion\\analysis\\RNN\\datasets\\5cm_pred_1'\u001b[0m\u001b[1m)\u001b[0m      \u001b[2m          \u001b[0m\n"
      ]
     },
     "metadata": {},
     "output_type": "display_data"
    },
    {
     "data": {
      "text/html": [
       "<pre style=\"white-space:pre;overflow-x:auto;line-height:normal;font-family:Menlo,'DejaVu Sans Mono',consolas,'Courier New',monospace\"><span style=\"color: #7fbfbf; text-decoration-color: #7fbfbf\">[06/06/22 16:50:00] </span><span style=\"color: #000080; text-decoration-color: #000080\">INFO    </span> Loading normalizers                                  <a href=\"file://C:\\Users\\Federico\\Documents\\GitHub\\pysical_locomotion\\analysis\\RNN\\task.py\" target=\"_blank\"><span style=\"color: #7f7f7f; text-decoration-color: #7f7f7f\">task.py</span></a><span style=\"color: #7f7f7f; text-decoration-color: #7f7f7f\">:</span><a href=\"file://C:\\Users\\Federico\\Documents\\GitHub\\pysical_locomotion\\analysis\\RNN\\task.py#146\" target=\"_blank\"><span style=\"color: #7f7f7f; text-decoration-color: #7f7f7f\">146</span></a>\n",
       "</pre>\n"
      ],
      "text/plain": [
       "\u001b[2;36m[06/06/22 16:50:00]\u001b[0m\u001b[2;36m \u001b[0m\u001b[34mINFO    \u001b[0m Loading normalizers                                  \u001b]8;id=511220;file://C:\\Users\\Federico\\Documents\\GitHub\\pysical_locomotion\\analysis\\RNN\\task.py\u001b\\\u001b[2mtask.py\u001b[0m\u001b]8;;\u001b\\\u001b[2m:\u001b[0m\u001b]8;id=168609;file://C:\\Users\\Federico\\Documents\\GitHub\\pysical_locomotion\\analysis\\RNN\\task.py#146\u001b\\\u001b[2m146\u001b[0m\u001b]8;;\u001b\\\n"
      ]
     },
     "metadata": {},
     "output_type": "display_data"
    },
    {
     "data": {
      "text/html": [
       "<pre style=\"white-space:pre;overflow-x:auto;line-height:normal;font-family:Menlo,'DejaVu Sans Mono',consolas,'Courier New',monospace\"><span style=\"color: #7fbfbf; text-decoration-color: #7fbfbf\">                    </span><span style=\"color: #000080; text-decoration-color: #000080\">INFO    </span> <span style=\"font-weight: bold\">[</span><span style=\"color: #008000; text-decoration-color: #008000\">'n'</span>, <span style=\"color: #008000; text-decoration-color: #008000\">'ψ'</span>, <span style=\"color: #008000; text-decoration-color: #008000\">'s'</span>, <span style=\"color: #008000; text-decoration-color: #008000\">'V'</span>, <span style=\"color: #008000; text-decoration-color: #008000\">'ω'</span>, <span style=\"color: #008000; text-decoration-color: #008000\">'k_1'</span>, <span style=\"color: #008000; text-decoration-color: #008000\">'k_2'</span><span style=\"font-weight: bold\">]</span>               <a href=\"file://C:\\Users\\Federico\\Documents\\GitHub\\pysical_locomotion\\analysis\\RNN\\task.py\" target=\"_blank\"><span style=\"color: #7f7f7f; text-decoration-color: #7f7f7f\">task.py</span></a><span style=\"color: #7f7f7f; text-decoration-color: #7f7f7f\">:</span><a href=\"file://C:\\Users\\Federico\\Documents\\GitHub\\pysical_locomotion\\analysis\\RNN\\task.py#81\" target=\"_blank\"><span style=\"color: #7f7f7f; text-decoration-color: #7f7f7f\">81</span></a>\n",
       "</pre>\n"
      ],
      "text/plain": [
       "\u001b[2;36m                   \u001b[0m\u001b[2;36m \u001b[0m\u001b[34mINFO    \u001b[0m \u001b[1m[\u001b[0m\u001b[32m'n'\u001b[0m, \u001b[32m'ψ'\u001b[0m, \u001b[32m's'\u001b[0m, \u001b[32m'V'\u001b[0m, \u001b[32m'ω'\u001b[0m, \u001b[32m'k_1'\u001b[0m, \u001b[32m'k_2'\u001b[0m\u001b[1m]\u001b[0m               \u001b]8;id=861134;file://C:\\Users\\Federico\\Documents\\GitHub\\pysical_locomotion\\analysis\\RNN\\task.py\u001b\\\u001b[2mtask.py\u001b[0m\u001b]8;;\u001b\\\u001b[2m:\u001b[0m\u001b]8;id=325145;file://C:\\Users\\Federico\\Documents\\GitHub\\pysical_locomotion\\analysis\\RNN\\task.py#81\u001b\\\u001b[2m81\u001b[0m\u001b]8;;\u001b\\\n"
      ]
     },
     "metadata": {},
     "output_type": "display_data"
    },
    {
     "data": {
      "text/html": [
       "<pre style=\"white-space:pre;overflow-x:auto;line-height:normal;font-family:Menlo,'DejaVu Sans Mono',consolas,'Courier New',monospace\"><span style=\"color: #7fbfbf; text-decoration-color: #7fbfbf\">                    </span><span style=\"color: #000080; text-decoration-color: #000080\">INFO    </span> <span style=\"font-weight: bold\">(</span><span style=\"color: #008000; text-decoration-color: #008000\">'V̇'</span>, <span style=\"color: #008000; text-decoration-color: #008000\">'ω̇'</span><span style=\"font-weight: bold\">)</span>                                            <a href=\"file://C:\\Users\\Federico\\Documents\\GitHub\\pysical_locomotion\\analysis\\RNN\\task.py\" target=\"_blank\"><span style=\"color: #7f7f7f; text-decoration-color: #7f7f7f\">task.py</span></a><span style=\"color: #7f7f7f; text-decoration-color: #7f7f7f\">:</span><a href=\"file://C:\\Users\\Federico\\Documents\\GitHub\\pysical_locomotion\\analysis\\RNN\\task.py#82\" target=\"_blank\"><span style=\"color: #7f7f7f; text-decoration-color: #7f7f7f\">82</span></a>\n",
       "</pre>\n"
      ],
      "text/plain": [
       "\u001b[2;36m                   \u001b[0m\u001b[2;36m \u001b[0m\u001b[34mINFO    \u001b[0m \u001b[1m(\u001b[0m\u001b[32m'V̇'\u001b[0m, \u001b[32m'ω̇'\u001b[0m\u001b[1m)\u001b[0m                                            \u001b]8;id=964318;file://C:\\Users\\Federico\\Documents\\GitHub\\pysical_locomotion\\analysis\\RNN\\task.py\u001b\\\u001b[2mtask.py\u001b[0m\u001b]8;;\u001b\\\u001b[2m:\u001b[0m\u001b]8;id=750076;file://C:\\Users\\Federico\\Documents\\GitHub\\pysical_locomotion\\analysis\\RNN\\task.py#82\u001b\\\u001b[2m82\u001b[0m\u001b]8;;\u001b\\\n"
      ]
     },
     "metadata": {},
     "output_type": "display_data"
    },
    {
     "data": {
      "text/html": [
       "<pre style=\"white-space:pre;overflow-x:auto;line-height:normal;font-family:Menlo,'DejaVu Sans Mono',consolas,'Courier New',monospace\"><span style=\"color: #7fbfbf; text-decoration-color: #7fbfbf\">                    </span><span style=\"color: #000080; text-decoration-color: #000080\">INFO    </span> Generating dataset batches                           <a href=\"file://C:\\Users\\Federico\\Documents\\GitHub\\pysical_locomotion\\analysis\\RNN\\task.py\" target=\"_blank\"><span style=\"color: #7f7f7f; text-decoration-color: #7f7f7f\">task.py</span></a><span style=\"color: #7f7f7f; text-decoration-color: #7f7f7f\">:</span><a href=\"file://C:\\Users\\Federico\\Documents\\GitHub\\pysical_locomotion\\analysis\\RNN\\task.py#173\" target=\"_blank\"><span style=\"color: #7f7f7f; text-decoration-color: #7f7f7f\">173</span></a>\n",
       "</pre>\n"
      ],
      "text/plain": [
       "\u001b[2;36m                   \u001b[0m\u001b[2;36m \u001b[0m\u001b[34mINFO    \u001b[0m Generating dataset batches                           \u001b]8;id=335181;file://C:\\Users\\Federico\\Documents\\GitHub\\pysical_locomotion\\analysis\\RNN\\task.py\u001b\\\u001b[2mtask.py\u001b[0m\u001b]8;;\u001b\\\u001b[2m:\u001b[0m\u001b]8;id=566186;file://C:\\Users\\Federico\\Documents\\GitHub\\pysical_locomotion\\analysis\\RNN\\task.py#173\u001b\\\u001b[2m173\u001b[0m\u001b]8;;\u001b\\\n"
      ]
     },
     "metadata": {},
     "output_type": "display_data"
    },
    {
     "data": {
      "application/vnd.jupyter.widget-view+json": {
       "model_id": "b2480f6050654f90b8e965306b8a0438",
       "version_major": 2,
       "version_minor": 0
      },
      "text/plain": [
       "Output()"
      ]
     },
     "metadata": {},
     "output_type": "display_data"
    },
    {
     "data": {
      "text/html": [
       "<pre style=\"white-space:pre;overflow-x:auto;line-height:normal;font-family:Menlo,'DejaVu Sans Mono',consolas,'Courier New',monospace\"></pre>\n"
      ],
      "text/plain": []
     },
     "metadata": {},
     "output_type": "display_data"
    },
    {
     "data": {
      "text/html": [
       "<pre style=\"white-space:pre;overflow-x:auto;line-height:normal;font-family:Menlo,'DejaVu Sans Mono',consolas,'Courier New',monospace\">\n",
       "</pre>\n"
      ],
      "text/plain": [
       "\n"
      ]
     },
     "metadata": {},
     "output_type": "display_data"
    },
    {
     "data": {
      "text/html": [
       "<pre style=\"white-space:pre;overflow-x:auto;line-height:normal;font-family:Menlo,'DejaVu Sans Mono',consolas,'Courier New',monospace\"><span style=\"color: #7fbfbf; text-decoration-color: #7fbfbf\">[06/06/22 16:50:03] </span><span style=\"color: #000080; text-decoration-color: #000080\">INFO    </span> <span style=\"color: #ffe082; text-decoration-color: #ffe082\">Loading model from: </span><span style=\"color: #ffa726; text-decoration-color: #ffa726\">D:\\Dropbox </span><span style=\"color: #ffa726; text-decoration-color: #ffa726; font-weight: bold\">(</span><span style=\"color: #ffa726; text-decoration-color: #ffa726\">UCL</span><span style=\"color: #ffa726; text-decoration-color: #ffa726; font-weight: bold\">)</span><span style=\"color: #ffa726; text-decoration-color: #ffa726\">\\Rotation_vte\\Lo</span> <a href=\"file://c:\\users\\federico\\documents\\github\\pyrnn\\pyrnn\\_rnn.py\" target=\"_blank\"><span style=\"color: #7f7f7f; text-decoration-color: #7f7f7f\">_rnn.py</span></a><span style=\"color: #7f7f7f; text-decoration-color: #7f7f7f\">:</span><a href=\"file://c:\\users\\federico\\documents\\github\\pyrnn\\pyrnn\\_rnn.py#225\" target=\"_blank\"><span style=\"color: #7f7f7f; text-decoration-color: #7f7f7f\">225</span></a>\n",
       "<span style=\"color: #7fbfbf; text-decoration-color: #7fbfbf\">                    </span>         <span style=\"color: #ffa726; text-decoration-color: #ffa726\">comotion\\analysis\\RNN\\datasets_comparison\\5cm_pred_1</span> <span style=\"color: #7f7f7f; text-decoration-color: #7f7f7f\">           </span>\n",
       "<span style=\"color: #7fbfbf; text-decoration-color: #7fbfbf\">                    </span>         <span style=\"color: #ffa726; text-decoration-color: #ffa726\">\\MIN_LOSS.pt</span>                                         <span style=\"color: #7f7f7f; text-decoration-color: #7f7f7f\">           </span>\n",
       "</pre>\n"
      ],
      "text/plain": [
       "\u001b[2;36m[06/06/22 16:50:03]\u001b[0m\u001b[2;36m \u001b[0m\u001b[34mINFO    \u001b[0m \u001b[38;2;255;224;130mLoading model from: \u001b[0m\u001b[38;2;255;167;38mD:\\Dropbox \u001b[0m\u001b[1;38;2;255;167;38m(\u001b[0m\u001b[38;2;255;167;38mUCL\u001b[0m\u001b[1;38;2;255;167;38m)\u001b[0m\u001b[38;2;255;167;38m\\Rotation_vte\\Lo\u001b[0m \u001b]8;id=921676;file://c:\\users\\federico\\documents\\github\\pyrnn\\pyrnn\\_rnn.py\u001b\\\u001b[2m_rnn.py\u001b[0m\u001b]8;;\u001b\\\u001b[2m:\u001b[0m\u001b]8;id=966274;file://c:\\users\\federico\\documents\\github\\pyrnn\\pyrnn\\_rnn.py#225\u001b\\\u001b[2m225\u001b[0m\u001b]8;;\u001b\\\n",
       "\u001b[2;36m                    \u001b[0m         \u001b[38;2;255;167;38mcomotion\\analysis\\RNN\\datasets_comparison\\5cm_pred_1\u001b[0m \u001b[2m           \u001b[0m\n",
       "\u001b[2;36m                    \u001b[0m         \u001b[38;2;255;167;38m\\MIN_LOSS.pt\u001b[0m                                         \u001b[2m           \u001b[0m\n"
      ]
     },
     "metadata": {},
     "output_type": "display_data"
    }
   ],
   "source": [
    "# load all datasets & networks\n",
    "datasets = {}\n",
    "networks = {}\n",
    "for fld in results_folders:\n",
    "    task = GoalDirectedLocomotionDataset(\n",
    "        max_dataset_length=3000, \n",
    "        data_folder= datasets_folder / fld.name,\n",
    "        stored_scalers_path = fld,\n",
    "    )\n",
    "\n",
    "    datasets[fld.name] = torch.utils.data.DataLoader(\n",
    "            train_val_dataset(task)[\"test\"],  # get the test dataset,\n",
    "            batch_size=256,\n",
    "            num_workers=0,\n",
    "            shuffle=True,\n",
    "            worker_init_fn=lambda x: np.random.seed(),\n",
    "            pin_memory=False,\n",
    "            # collate_fn=pad_pack_collate,\n",
    "        )\n",
    "    \n",
    "    \n",
    "    \n",
    "    networks[fld.name] = RNN.load(\n",
    "        str(fld / \"MIN_LOSS.pt\"),\n",
    "        n_units=256,\n",
    "        input_size=task.n_inputs,\n",
    "        output_size=task.n_outputs,\n",
    "    )"
   ]
  },
  {
   "cell_type": "code",
   "execution_count": 11,
   "metadata": {},
   "outputs": [
    {
     "name": "stdout",
     "output_type": "stream",
     "text": [
      "torch.Size([256, 201, 5]) torch.Size([256, 201, 2])\n"
     ]
    }
   ],
   "source": [
    "criterion = nn.MSELoss()\n",
    "\n",
    "for name in names:\n",
    "    for (X, Y) in datasets[name]:\n",
    "        print(X.shape, Y.shape)\n",
    "\n",
    "        output, h = networks[name](X)\n",
    "        loss = criterion(output, Y)\n",
    "\n",
    "        break\n",
    "    break"
   ]
  }
 ],
 "metadata": {
  "interpreter": {
   "hash": "72e0d843a114efa687494fb5f4b74340b708ec97613fee2913b059f2310ee94a"
  },
  "kernelspec": {
   "display_name": "Python 3.8.0 ('rnn')",
   "language": "python",
   "name": "python3"
  },
  "language_info": {
   "codemirror_mode": {
    "name": "ipython",
    "version": 3
   },
   "file_extension": ".py",
   "mimetype": "text/x-python",
   "name": "python",
   "nbconvert_exporter": "python",
   "pygments_lexer": "ipython3",
   "version": "3.8.0"
  },
  "orig_nbformat": 4
 },
 "nbformat": 4,
 "nbformat_minor": 2
}
