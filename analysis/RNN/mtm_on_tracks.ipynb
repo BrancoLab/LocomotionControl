{
 "cells": [
  {
   "cell_type": "code",
   "execution_count": 43,
   "metadata": {},
   "outputs": [
    {
     "name": "stderr",
     "output_type": "stream",
     "text": [
      "\u001b[32m\u001b[1m  Activating\u001b[22m\u001b[39m project at `~/Documents/Github/LocomotionControl/analysis/behavior`\n"
     ]
    },
    {
     "name": "stdout",
     "output_type": "stream",
     "text": [
      "\u001b[1m\u001b[4m\u001b[38;2;66;165;245m@Info\u001b[22m\u001b[24m\u001b[39m \u001b[38;2;237;180;111m(Main):\u001b[39m  \u001b[38;2;138;190;255mLoaded 1021 trials\u001b[39m \n",
      "  \u001b[1m\u001b[2m\u001b[38;2;66;165;245m╰────────────────────────────────────────────────\u001b[22m\u001b[22m\u001b[39m \n",
      "                      \u001b[2mTue, 24 May 2022\u001b[22m \u001b[1m\u001b[2m\u001b[4m10:39:17\u001b[22m\u001b[22m\u001b[24m \n",
      "\u001b[1m\u001b[4m\u001b[38;2;66;165;245m@Info\u001b[22m\u001b[24m\u001b[39m \u001b[38;2;237;180;111m(Main):\u001b[39m  \u001b[38;2;138;190;255mAfter tortuosity analysis, discarded 9.109% of trials | 928\u001b[0m"
     ]
    },
    {
     "name": "stdout",
     "output_type": "stream",
     "text": [
      " \n",
      "  \u001b[2m\u001b[38;2;66;165;245m│\u001b[22m\u001b[39m                \u001b[38;2;138;190;255m\u001b[38;2;138;190;255mtrials left\u001b[39m\u001b[0m\u001b[39m \n",
      "  \u001b[1m\u001b[2m\u001b[38;2;66;165;245m╰────────────────────────────────────────────────\u001b[22m\u001b[22m\u001b[39m \n",
      "                      \u001b[2mTue, 24 May 2022\u001b[22m \u001b[1m\u001b[2m\u001b[4m10:39:18\u001b[22m\u001b[22m\u001b[24m \n"
     ]
    }
   ],
   "source": [
    "# Multiple horizons MTM analysis\n",
    "include(\"/Users/federicoclaudi/Documents/Github/LocomotionControl/analysis/behavior/analysis_fixtures.jl\")\n",
    "include(\"/Users/federicoclaudi/Documents/Github/LocomotionControl/analysis/behavior/analysis_visuals.jl\")\n",
    "\n",
    "import jcontrol as jc\n",
    "using Printf\n",
    "import jcontrol.control: default_control_options\n",
    "import jcontrol.bicycle: Bicycle\n",
    "import IterTools: product as ×\n",
    "import jcontrol: Track, toDict\n",
    "import InfiniteOpt: termination_status\n",
    "\n",
    "import jcontrol.Run: run_mtm"
   ]
  },
  {
   "cell_type": "markdown",
   "metadata": {},
   "source": [
    "# MTM on track\n",
    "Solve the MTM prolblem on a bunch of tracks and with slightly different models paramters to created data to use for training RNNs.\n",
    "\n",
    "## Create bikes with different parameters"
   ]
  },
  {
   "cell_type": "code",
   "execution_count": 24,
   "metadata": {},
   "outputs": [
    {
     "data": {
      "text/plain": [
       "81"
      ]
     },
     "metadata": {},
     "output_type": "display_data"
    }
   ],
   "source": [
    "default_bike = Bicycle()\n",
    "variables = (:l_f, :l_r, :width, :c)\n",
    "\n",
    "σ = .05\n",
    "n = 3\n",
    "\n",
    "defaults = Dict(v=>getfield(default_bike, v) for v in variables)\n",
    "variables_values = Dict(\n",
    "    v => collect(range(defaults[v]-σ*defaults[v], stop=defaults[v]+σ*defaults[v], length=n)) for v in variables\n",
    ")\n",
    "\n",
    "n_bikes = length(collect(×(values(variables_values)...)))"
   ]
  },
  {
   "cell_type": "markdown",
   "metadata": {},
   "source": [
    "## Load tracks"
   ]
  },
  {
   "cell_type": "code",
   "execution_count": 37,
   "metadata": {},
   "outputs": [
    {
     "data": {
      "text/plain": [
       "16"
      ]
     },
     "metadata": {},
     "output_type": "display_data"
    }
   ],
   "source": [
    "fld = \"/Users/federicoclaudi/Documents/Github/LocomotionControl/analysis/RNN/tracks\"\n",
    "tracks_files = glob(\"*.npy\", fld)\n",
    "n_tracks = length(tracks_files)"
   ]
  },
  {
   "cell_type": "code",
   "execution_count": 25,
   "metadata": {},
   "outputs": [
    {
     "name": "stdout",
     "output_type": "stream",
     "text": [
      "Tot number of simulations = 1296"
     ]
    }
   ],
   "source": [
    "N = length(\n",
    "    ×(\n",
    "        values(variables_values)...,\n",
    "        tracks_files\n",
    "    )\n",
    ")\n",
    "\n",
    "print(\n",
    "    \"Tot number of simulations = $N\"\n",
    ")"
   ]
  },
  {
   "cell_type": "markdown",
   "metadata": {},
   "source": [
    "## Simulate all"
   ]
  },
  {
   "cell_type": "code",
   "execution_count": 44,
   "metadata": {},
   "outputs": [
    {
     "name": "stdout",
     "output_type": "stream",
     "text": [
      "\u001b[1m\u001b[4m\u001b[38;2;66;165;245m@Info\u001b[22m\u001b[24m\u001b[39m \u001b[38;2;237;180;111m(Main.\u001b[4m\u001b[38;2;255;238;88mtop-level scope\u001b[24m\u001b[39m\u001b[38;2;237;180;111m):\u001b[39m  \u001b[38;2;138;190;255mDoing bike 1/81\u001b[39m \n",
      "  \u001b[1m\u001b[2m\u001b[38;2;66;165;245m╰────────────────────────────────────────────────\u001b[22m\u001b[22m\u001b[39m \n",
      "                      \u001b[2mTue, 24 May 2022\u001b[22m \u001b[1m\u001b[2m\u001b[4m10:39:21\u001b[22m\u001b[22m\u001b[24m \n",
      "\u001b[1m\u001b[4m\u001b[38;2;255;167;38m@Warn\u001b[22m\u001b[24m\u001b[39m \u001b[38;2;237;180;111m(Main.\u001b[4m\u001b[38;2;255;238;88mtop-level scope\u001b[24m\u001b[39m\u001b[38;2;237;180;111m):\u001b[39m  \u001b[38;2;138;190;255mFAILED\u001b[39m"
     ]
    },
    {
     "name": "stdout",
     "output_type": "stream",
     "text": [
      " \n",
      "  \u001b[2m\u001b[38;2;255;167;38m│\u001b[22m\u001b[39m \n",
      "  \u001b[2m\u001b[38;2;255;167;38m│\u001b[22m\u001b[39m \u001b[2m\u001b[38;2;206;147;216m(MathOptInterface.TerminationStatusCode)\u001b[22m\u001b[39m  \u001b[2m\u001b[38;2;255;167;38m▶\u001b[22m\u001b[39m  \u001b[1m\u001b[38;2;255;153;89mtermination_status(control_model)\u001b[22m\u001b[39m \u001b[1m\u001b[31m=\u001b[22m\u001b[39m LOCALLY_INFEASIBLE \n",
      "  \u001b[2m\u001b[38;2;255;167;38m│\u001b[22m\u001b[39m \u001b[2m\u001b[38;2;206;147;216m(String)\u001b[22m\u001b[39m                                  \u001b[2m\u001b[38;2;255;167;38m▶\u001b[22m\u001b[39m  \u001b[1m\u001b[38;2;255;153;89mtrack_name\u001b[22m\u001b[39m                        \u001b[1m\u001b[31m=\u001b[22m\u001b[39m \u001b[38;2;165;214;167mcosine_chirp\u001b[39m \n",
      "  \u001b[2m\u001b[38;2;255;167;38m│\u001b[22m\u001b[39m \u001b[2m\u001b[38;2;206;147;216m(Bicycle)\u001b[22m\u001b[39m                                 \u001b[2m\u001b[38;2;255;167;38m▶\u001b[22m\u001b[39m  \u001b[1m\u001b[38;2;255;153;89mbike\u001b[22m\u001b[39m                              \u001b[1m\u001b[31m=\u001b[22m\u001b[39m Bicycle(2.85, 1.9, 4.75, 1.9, 23, 137.18, 3800.0, 0.8, 16, \"#37474F\", \"#00ACC1\", 8, \"#78909C\")"
     ]
    },
    {
     "name": "stdout",
     "output_type": "stream",
     "text": [
      " \n",
      "  \u001b[1m\u001b[2m\u001b[38;2;255;167;38m╰────────────────────────────────────────────────\u001b[22m\u001b[22m\u001b[39m \n",
      "                      \u001b[2mTue, 24 May 2022\u001b[22m \u001b[1m\u001b[2m\u001b[4m10:41:31\u001b[22m\u001b[22m\u001b[24m \n"
     ]
    },
    {
     "name": "stdout",
     "output_type": "stream",
     "text": [
      "\u001b[1m\u001b[4m\u001b[38;2;255;167;38m@Warn\u001b[22m\u001b[24m\u001b[39m \u001b[38;2;237;180;111m(Main.\u001b[4m\u001b[38;2;255;238;88mtop-level scope\u001b[24m\u001b[39m\u001b[38;2;237;180;111m):\u001b[39m  \u001b[38;2;138;190;255mFAILED\u001b[39m \n",
      "  \u001b[2m\u001b[38;2;255;167;38m│\u001b[22m\u001b[39m \n",
      "  \u001b[2m\u001b[38;2;255;167;38m│\u001b[22m\u001b[39m \u001b[2m\u001b[38;2;206;147;216m(MathOptInterface.TerminationStatusCode)\u001b[22m\u001b[39m  \u001b[2m\u001b[38;2;255;167;38m▶\u001b[22m\u001b[39m  \u001b[1m\u001b[38;2;255;153;89mtermination_status(control_model)\u001b[22m\u001b[39m \u001b[1m\u001b[31m=\u001b[22m\u001b[39m LOCALLY_INFEASIBLE \n",
      "  \u001b[2m\u001b[38;2;255;167;38m│\u001b[22m\u001b[39m \u001b[2m\u001b[38;2;206;147;216m(String)\u001b[22m\u001b[39m                                  \u001b[2m\u001b[38;2;255;167;38m▶\u001b[22m\u001b[39m  \u001b[1m\u001b[38;2;255;153;89mtrack_name\u001b[22m\u001b[39m                        \u001b[1m\u001b[31m=\u001b[22m\u001b[39m \u001b[38;2;165;214;167msine_chirp\u001b[39m \n",
      "  \u001b[2m\u001b[38;2;255;167;38m│\u001b[22m\u001b[39m \u001b[2m\u001b[38;2;206;147;216m(Bicycle)\u001b[22m\u001b[39m                                 \u001b[2m\u001b[38;2;255;167;38m▶\u001b[22m\u001b[39m  \u001b[1m\u001b[38;2;255;153;89mbike\u001b[22m\u001b[39m                              \u001b[1m\u001b[31m=\u001b[22m\u001b[39m Bicycle(2.85, 1.9, 4.75, 1.9, 23, 137.18, 3800.0, 0.8, 16, \"#37474F\", \"#00ACC1\", 8, \"#78909C\") \n",
      "  \u001b[1m\u001b[2m\u001b[38;2;255;167;38m╰────────────────────────────────────────────────\u001b[22m\u001b[22m\u001b[39m \n",
      "                      \u001b[2mTue, 24 May 2022\u001b[22m \u001b[1m\u001b[2m\u001b[4m10:44:21\u001b[22m\u001b[22m\u001b[24m \n",
      "\u001b[1m\u001b[4m\u001b[38;2;66;165;245m@Info\u001b[22m\u001b[24m\u001b[39m \u001b[38;2;237;180;111m(Main.\u001b[4m\u001b[38;2;255;238;88mtop-level scope\u001b[24m\u001b[39m\u001b[38;2;237;180;111m):\u001b[39m  \u001b[38;2;138;190;255mDoing bike 2/81\u001b[39m"
     ]
    },
    {
     "name": "stdout",
     "output_type": "stream",
     "text": [
      " \n",
      "  \u001b[1m\u001b[2m\u001b[38;2;66;165;245m╰────────────────────────────────────────────────\u001b[22m\u001b[22m\u001b[39m \n",
      "                      \u001b[2mTue, 24 May 2022\u001b[22m \u001b[1m\u001b[2m\u001b[4m10:46:38\u001b[22m\u001b[22m\u001b[24m \n"
     ]
    },
    {
     "name": "stdout",
     "output_type": "stream",
     "text": [
      "\u001b[1m\u001b[4m\u001b[38;2;255;167;38m@Warn\u001b[22m\u001b[24m\u001b[39m \u001b[38;2;237;180;111m(Main.\u001b[4m\u001b[38;2;255;238;88mtop-level scope\u001b[24m\u001b[39m\u001b[38;2;237;180;111m):\u001b[39m  \u001b[38;2;138;190;255mFAILED\u001b[39m \n",
      "  \u001b[2m\u001b[38;2;255;167;38m│\u001b[22m\u001b[39m \n",
      "  \u001b[2m\u001b[38;2;255;167;38m│\u001b[22m\u001b[39m \u001b[2m\u001b[38;2;206;147;216m(MathOptInterface.TerminationStatusCode)\u001b[22m\u001b[39m  \u001b[2m\u001b[38;2;255;167;38m▶\u001b[22m\u001b[39m  \u001b[1m\u001b[38;2;255;153;89mtermination_status(control_model)\u001b[22m\u001b[39m \u001b[1m\u001b[31m=\u001b[22m\u001b[39m LOCALLY_INFEASIBLE \n",
      "  \u001b[2m\u001b[38;2;255;167;38m│\u001b[22m\u001b[39m \u001b[2m\u001b[38;2;206;147;216m(String)\u001b[22m\u001b[39m                                  \u001b[2m\u001b[38;2;255;167;38m▶\u001b[22m\u001b[39m  \u001b[1m\u001b[38;2;255;153;89mtrack_name\u001b[22m\u001b[39m                        \u001b[1m\u001b[31m=\u001b[22m\u001b[39m \u001b[38;2;165;214;167mcosine_chirp\u001b[39m \n",
      "  \u001b[2m\u001b[38;2;255;167;38m│\u001b[22m\u001b[39m \u001b[2m\u001b[38;2;206;147;216m(Bicycle)\u001b[22m\u001b[39m                                 \u001b[2m\u001b[38;2;255;167;38m▶\u001b[22m\u001b[39m  \u001b[1m\u001b[38;2;255;153;89mbike\u001b[22m\u001b[39m                              \u001b[1m\u001b[31m=\u001b[22m\u001b[39m Bicycle(2.85, 1.9, 4.75, 1.9, 23, 137.18, 4000.0, 0.8, 16, \"#37474F\", \"#00ACC1\", 8, \"#78909C\") \n",
      "  \u001b[1m\u001b[2m\u001b[38;2;255;167;38m╰────────────────────────────────────────────────\u001b[22m\u001b[22m\u001b[39m \n",
      "                      \u001b[2mTue, 24 May 2022\u001b[22m \u001b[1m\u001b[2m\u001b[4m10:48:45\u001b[22m\u001b[22m\u001b[24m \n",
      "\u001b[1m\u001b[4m\u001b[38;2;255;167;38m@Warn\u001b[22m\u001b[24m\u001b[39m \u001b[38;2;237;180;111m(Main.\u001b[4m\u001b[38;2;255;238;88mtop-level scope\u001b[24m\u001b[39m\u001b[38;2;237;180;111m):\u001b[39m  \u001b[38;2;138;190;255mFAILED\u001b[39m"
     ]
    },
    {
     "name": "stdout",
     "output_type": "stream",
     "text": [
      " \n",
      "  \u001b[2m\u001b[38;2;255;167;38m│\u001b[22m\u001b[39m \n",
      "  \u001b[2m\u001b[38;2;255;167;38m│\u001b[22m\u001b[39m \u001b[2m\u001b[38;2;206;147;216m(MathOptInterface.TerminationStatusCode)\u001b[22m\u001b[39m  \u001b[2m\u001b[38;2;255;167;38m▶\u001b[22m\u001b[39m  \u001b[1m\u001b[38;2;255;153;89mtermination_status(control_model)\u001b[22m\u001b[39m \u001b[1m\u001b[31m=\u001b[22m\u001b[39m LOCALLY_INFEASIBLE \n",
      "  \u001b[2m\u001b[38;2;255;167;38m│\u001b[22m\u001b[39m \u001b[2m\u001b[38;2;206;147;216m(String)\u001b[22m\u001b[39m                                  \u001b[2m\u001b[38;2;255;167;38m▶\u001b[22m\u001b[39m  \u001b[1m\u001b[38;2;255;153;89mtrack_name\u001b[22m\u001b[39m                        \u001b[1m\u001b[31m=\u001b[22m\u001b[39m \u001b[38;2;165;214;167msine_chirp\u001b[39m \n",
      "  \u001b[2m\u001b[38;2;255;167;38m│\u001b[22m\u001b[39m \u001b[2m\u001b[38;2;206;147;216m(Bicycle)\u001b[22m\u001b[39m                                 \u001b[2m\u001b[38;2;255;167;38m▶\u001b[22m\u001b[39m  \u001b[1m\u001b[38;2;255;153;89mbike\u001b[22m\u001b[39m                              \u001b[1m\u001b[31m=\u001b[22m\u001b[39m Bicycle(2.85, 1.9, 4.75, 1.9, 23, 137.18, 4000.0, 0.8, 16, \"#37474F\", \"#00ACC1\", 8, \"#78909C\") \n",
      "  \u001b[1m\u001b[2m\u001b[38;2;255;167;38m╰────────────────────────────────────────────────\u001b[22m\u001b[22m\u001b[39m \n",
      "                      \u001b[2mTue, 24 May 2022\u001b[22m \u001b[1m\u001b[2m\u001b[4m10:51:52\u001b[22m\u001b[22m\u001b[24m \n"
     ]
    },
    {
     "name": "stdout",
     "output_type": "stream",
     "text": [
      "\u001b[1m\u001b[4m\u001b[38;2;255;167;38m@Warn\u001b[22m\u001b[24m\u001b[39m \u001b[38;2;237;180;111m(Main.\u001b[4m\u001b[38;2;255;238;88mtop-level scope\u001b[24m\u001b[39m\u001b[38;2;237;180;111m):\u001b[39m  \u001b[38;2;138;190;255mFAILED\u001b[39m \n",
      "  \u001b[2m\u001b[38;2;255;167;38m│\u001b[22m\u001b[39m \n",
      "  \u001b[2m\u001b[38;2;255;167;38m│\u001b[22m\u001b[39m \u001b[2m\u001b[38;2;206;147;216m(MathOptInterface.TerminationStatusCode)\u001b[22m\u001b[39m  \u001b[2m\u001b[38;2;255;167;38m▶\u001b[22m\u001b[39m  \u001b[1m\u001b[38;2;255;153;89mtermination_status(control_model)\u001b[22m\u001b[39m \u001b[1m\u001b[31m=\u001b[22m\u001b[39m ITERATION_LIMIT \n",
      "  \u001b[2m\u001b[38;2;255;167;38m│\u001b[22m\u001b[39m \u001b[2m\u001b[38;2;206;147;216m(String)\u001b[22m\u001b[39m                                  \u001b[2m\u001b[38;2;255;167;38m▶\u001b[22m\u001b[39m  \u001b[1m\u001b[38;2;255;153;89mtrack_name\u001b[22m\u001b[39m                        \u001b[1m\u001b[31m=\u001b[22m\u001b[39m \u001b[38;2;165;214;167msquiggle\u001b[39m \n",
      "  \u001b[2m\u001b[38;2;255;167;38m│\u001b[22m\u001b[39m \u001b[2m\u001b[38;2;206;147;216m(Bicycle)\u001b[22m\u001b[39m                                 \u001b[2m\u001b[38;2;255;167;38m▶\u001b[22m\u001b[39m  \u001b[1m\u001b[38;2;255;153;89mbike\u001b[22m\u001b[39m                              \u001b[1m\u001b[31m=\u001b[22m\u001b[39m Bicycle(2.85, 1.9, 4.75, 1.9, 23, 137.18, 4000.0, 0.8, 16, \"#37474F\", \"#00ACC1\", 8, \"#78909C\") \n",
      "  \u001b[1m\u001b[2m\u001b[38;2;255;167;38m╰────────────────────────────────────────────────\u001b[22m\u001b[22m\u001b[39m \n",
      "                      \u001b[2mTue, 24 May 2022\u001b[22m \u001b[1m\u001b[2m\u001b[4m10:54:01\u001b[22m\u001b[22m\u001b[24m \n",
      "\u001b[1m\u001b[4m\u001b[38;2;255;167;38m@Warn\u001b[22m\u001b[24m\u001b[39m \u001b[38;2;237;180;111m(Main.\u001b[4m\u001b[38;2;255;238;88mtop-level scope\u001b[24m\u001b[39m\u001b[38;2;237;180;111m):\u001b[39m  \u001b[38;2;138;190;255mFAILED\u001b[39m"
     ]
    },
    {
     "name": "stdout",
     "output_type": "stream",
     "text": [
      " \n",
      "  \u001b[2m\u001b[38;2;255;167;38m│\u001b[22m\u001b[39m \n",
      "  \u001b[2m\u001b[38;2;255;167;38m│\u001b[22m\u001b[39m \u001b[2m\u001b[38;2;206;147;216m(MathOptInterface.TerminationStatusCode)\u001b[22m\u001b[39m  \u001b[2m\u001b[38;2;255;167;38m▶\u001b[22m\u001b[39m  \u001b[1m\u001b[38;2;255;153;89mtermination_status(control_model)\u001b[22m\u001b[39m \u001b[1m\u001b[31m=\u001b[22m\u001b[39m ITERATION_LIMIT \n",
      "  \u001b[2m\u001b[38;2;255;167;38m│\u001b[22m\u001b[39m \u001b[2m\u001b[38;2;206;147;216m(String)\u001b[22m\u001b[39m                                  \u001b[2m\u001b[38;2;255;167;38m▶\u001b[22m\u001b[39m  \u001b[1m\u001b[38;2;255;153;89mtrack_name\u001b[22m\u001b[39m                        \u001b[1m\u001b[31m=\u001b[22m\u001b[39m \u001b[38;2;165;214;167msquiggle_reversed\u001b[39m \n",
      "  \u001b[2m\u001b[38;2;255;167;38m│\u001b[22m\u001b[39m \u001b[2m\u001b[38;2;206;147;216m(Bicycle)\u001b[22m\u001b[39m                                 \u001b[2m\u001b[38;2;255;167;38m▶\u001b[22m\u001b[39m  \u001b[1m\u001b[38;2;255;153;89mbike\u001b[22m\u001b[39m                              \u001b[1m\u001b[31m=\u001b[22m\u001b[39m Bicycle(2.85, 1.9, 4.75, 1.9, 23, 137.18, 4000.0, 0.8, 16, \"#37474F\", \"#00ACC1\", 8, \"#78909C\") \n",
      "  \u001b[1m\u001b[2m\u001b[38;2;255;167;38m╰────────────────────────────────────────────────\u001b[22m\u001b[22m\u001b[39m \n",
      "                      \u001b[2mTue, 24 May 2022\u001b[22m \u001b[1m\u001b[2m\u001b[4m10:56:03\u001b[22m\u001b[22m\u001b[24m \n"
     ]
    },
    {
     "name": "stdout",
     "output_type": "stream",
     "text": [
      "\u001b[1m\u001b[4m\u001b[38;2;66;165;245m@Info\u001b[22m\u001b[24m\u001b[39m \u001b[38;2;237;180;111m(Main.\u001b[4m\u001b[38;2;255;238;88mtop-level scope\u001b[24m\u001b[39m\u001b[38;2;237;180;111m):\u001b[39m  \u001b[38;2;138;190;255mDoing bike 3/81\u001b[39m \n",
      "  \u001b[1m\u001b[2m\u001b[38;2;66;165;245m╰────────────────────────────────────────────────\u001b[22m\u001b[22m\u001b[39m \n",
      "                      \u001b[2mTue, 24 May 2022\u001b[22m \u001b[1m\u001b[2m\u001b[4m10:56:14\u001b[22m\u001b[22m\u001b[24m \n",
      "\u001b[1m\u001b[4m\u001b[38;2;255;167;38m@Warn\u001b[22m\u001b[24m\u001b[39m \u001b[38;2;237;180;111m(Main.\u001b[4m\u001b[38;2;255;238;88mtop-level scope\u001b[24m\u001b[39m\u001b[38;2;237;180;111m):\u001b[39m  \u001b[38;2;138;190;255mFAILED\u001b[39m"
     ]
    },
    {
     "name": "stdout",
     "output_type": "stream",
     "text": [
      " \n",
      "  \u001b[2m\u001b[38;2;255;167;38m│\u001b[22m\u001b[39m \n",
      "  \u001b[2m\u001b[38;2;255;167;38m│\u001b[22m\u001b[39m \u001b[2m\u001b[38;2;206;147;216m(MathOptInterface.TerminationStatusCode)\u001b[22m\u001b[39m  \u001b[2m\u001b[38;2;255;167;38m▶\u001b[22m\u001b[39m  \u001b[1m\u001b[38;2;255;153;89mtermination_status(control_model)\u001b[22m\u001b[39m \u001b[1m\u001b[31m=\u001b[22m\u001b[39m LOCALLY_INFEASIBLE \n",
      "  \u001b[2m\u001b[38;2;255;167;38m│\u001b[22m\u001b[39m \u001b[2m\u001b[38;2;206;147;216m(String)\u001b[22m\u001b[39m                                  \u001b[2m\u001b[38;2;255;167;38m▶\u001b[22m\u001b[39m  \u001b[1m\u001b[38;2;255;153;89mtrack_name\u001b[22m\u001b[39m                        \u001b[1m\u001b[31m=\u001b[22m\u001b[39m \u001b[38;2;165;214;167mcosine_chirp\u001b[39m \n",
      "  \u001b[2m\u001b[38;2;255;167;38m│\u001b[22m\u001b[39m \u001b[2m\u001b[38;2;206;147;216m(Bicycle)\u001b[22m\u001b[39m                                 \u001b[2m\u001b[38;2;255;167;38m▶\u001b[22m\u001b[39m  \u001b[1m\u001b[38;2;255;153;89mbike\u001b[22m\u001b[39m                              \u001b[1m\u001b[31m=\u001b[22m\u001b[39m Bicycle(2.85, 1.9, 4.75, 1.9, 23, 137.18, 4200.0, 0.8, 16, \"#37474F\", \"#00ACC1\", 8, \"#78909C\") \n",
      "  \u001b[1m\u001b[2m\u001b[38;2;255;167;38m╰────────────────────────────────────────────────\u001b[22m\u001b[22m\u001b[39m \n",
      "                      \u001b[2mTue, 24 May 2022\u001b[22m \u001b[1m\u001b[2m\u001b[4m10:57:46\u001b[22m\u001b[22m\u001b[24m \n"
     ]
    },
    {
     "name": "stdout",
     "output_type": "stream",
     "text": [
      "\u001b[1m\u001b[4m\u001b[38;2;255;167;38m@Warn\u001b[22m\u001b[24m\u001b[39m \u001b[38;2;237;180;111m(Main.\u001b[4m\u001b[38;2;255;238;88mtop-level scope\u001b[24m\u001b[39m\u001b[38;2;237;180;111m):\u001b[39m  \u001b[38;2;138;190;255mFAILED\u001b[39m \n",
      "  \u001b[2m\u001b[38;2;255;167;38m│\u001b[22m\u001b[39m \n",
      "  \u001b[2m\u001b[38;2;255;167;38m│\u001b[22m\u001b[39m \u001b[2m\u001b[38;2;206;147;216m(MathOptInterface.TerminationStatusCode)\u001b[22m\u001b[39m  \u001b[2m\u001b[38;2;255;167;38m▶\u001b[22m\u001b[39m  \u001b[1m\u001b[38;2;255;153;89mtermination_status(control_model)\u001b[22m\u001b[39m \u001b[1m\u001b[31m=\u001b[22m\u001b[39m LOCALLY_INFEASIBLE \n",
      "  \u001b[2m\u001b[38;2;255;167;38m│\u001b[22m\u001b[39m \u001b[2m\u001b[38;2;206;147;216m(String)\u001b[22m\u001b[39m                                  \u001b[2m\u001b[38;2;255;167;38m▶\u001b[22m\u001b[39m  \u001b[1m\u001b[38;2;255;153;89mtrack_name\u001b[22m\u001b[39m                        \u001b[1m\u001b[31m=\u001b[22m\u001b[39m \u001b[38;2;165;214;167msine_chirp\u001b[39m \n",
      "  \u001b[2m\u001b[38;2;255;167;38m│\u001b[22m\u001b[39m \u001b[2m\u001b[38;2;206;147;216m(Bicycle)\u001b[22m\u001b[39m                                 \u001b[2m\u001b[38;2;255;167;38m▶\u001b[22m\u001b[39m  \u001b[1m\u001b[38;2;255;153;89mbike\u001b[22m\u001b[39m                              \u001b[1m\u001b[31m=\u001b[22m\u001b[39m Bicycle(2.85, 1.9, 4.75, 1.9, 23, 137.18, 4200.0, 0.8, 16, \"#37474F\", \"#00ACC1\", 8, \"#78909C\") \n",
      "  \u001b[1m\u001b[2m\u001b[38;2;255;167;38m╰────────────────────────────────────────────────\u001b[22m\u001b[22m\u001b[39m \n",
      "                      \u001b[2mTue, 24 May 2022\u001b[22m \u001b[1m\u001b[2m\u001b[4m11:00:26\u001b[22m\u001b[22m\u001b[24m \n",
      "\u001b[1m\u001b[4m\u001b[38;2;66;165;245m@Info\u001b[22m\u001b[24m\u001b[39m \u001b[38;2;237;180;111m(Main.\u001b[4m\u001b[38;2;255;238;88mtop-level scope\u001b[24m\u001b[39m\u001b[38;2;237;180;111m):\u001b[39m  \u001b[38;2;138;190;255mDoing bike 4/81\u001b[39m"
     ]
    },
    {
     "name": "stdout",
     "output_type": "stream",
     "text": [
      " \n",
      "  \u001b[1m\u001b[2m\u001b[38;2;66;165;245m╰────────────────────────────────────────────────\u001b[22m\u001b[22m\u001b[39m \n",
      "                      \u001b[2mTue, 24 May 2022\u001b[22m \u001b[1m\u001b[2m\u001b[4m11:02:32\u001b[22m\u001b[22m\u001b[24m \n"
     ]
    },
    {
     "name": "stdout",
     "output_type": "stream",
     "text": [
      "\u001b[1m\u001b[4m\u001b[38;2;255;167;38m@Warn\u001b[22m\u001b[24m\u001b[39m \u001b[38;2;237;180;111m(Main.\u001b[4m\u001b[38;2;255;238;88mtop-level scope\u001b[24m\u001b[39m\u001b[38;2;237;180;111m):\u001b[39m  \u001b[38;2;138;190;255mFAILED\u001b[39m \n",
      "  \u001b[2m\u001b[38;2;255;167;38m│\u001b[22m\u001b[39m \n",
      "  \u001b[2m\u001b[38;2;255;167;38m│\u001b[22m\u001b[39m \u001b[2m\u001b[38;2;206;147;216m(MathOptInterface.TerminationStatusCode)\u001b[22m\u001b[39m  \u001b[2m\u001b[38;2;255;167;38m▶\u001b[22m\u001b[39m  \u001b[1m\u001b[38;2;255;153;89mtermination_status(control_model)\u001b[22m\u001b[39m \u001b[1m\u001b[31m=\u001b[22m\u001b[39m LOCALLY_INFEASIBLE \n",
      "  \u001b[2m\u001b[38;2;255;167;38m│\u001b[22m\u001b[39m \u001b[2m\u001b[38;2;206;147;216m(String)\u001b[22m\u001b[39m                                  \u001b[2m\u001b[38;2;255;167;38m▶\u001b[22m\u001b[39m  \u001b[1m\u001b[38;2;255;153;89mtrack_name\u001b[22m\u001b[39m                        \u001b[1m\u001b[31m=\u001b[22m\u001b[39m \u001b[38;2;165;214;167mcosine_chirp\u001b[39m \n",
      "  \u001b[2m\u001b[38;2;255;167;38m│\u001b[22m\u001b[39m \u001b[2m\u001b[38;2;206;147;216m(Bicycle)\u001b[22m\u001b[39m                                 \u001b[2m\u001b[38;2;255;167;38m▶\u001b[22m\u001b[39m  \u001b[1m\u001b[38;2;255;153;89mbike\u001b[22m\u001b[39m                              \u001b[1m\u001b[31m=\u001b[22m\u001b[39m Bicycle(2.85, 1.9, 4.75, 2.0, 23, 137.18, 3800.0, 0.8, 16, \"#37474F\", \"#00ACC1\", 8, \"#78909C\") \n",
      "  \u001b[1m\u001b[2m\u001b[38;2;255;167;38m╰────────────────────────────────────────────────\u001b[22m\u001b[22m\u001b[39m \n",
      "                      \u001b[2mTue, 24 May 2022\u001b[22m \u001b[1m\u001b[2m\u001b[4m11:04:09\u001b[22m\u001b[22m\u001b[24m \n",
      "\u001b[1m\u001b[4m\u001b[38;2;255;167;38m@Warn\u001b[22m\u001b[24m\u001b[39m \u001b[38;2;237;180;111m(Main.\u001b[4m\u001b[38;2;255;238;88mtop-level scope\u001b[24m\u001b[39m\u001b[38;2;237;180;111m):\u001b[39m  \u001b[38;2;138;190;255mFAILED\u001b[39m"
     ]
    },
    {
     "name": "stdout",
     "output_type": "stream",
     "text": [
      " \n",
      "  \u001b[2m\u001b[38;2;255;167;38m│\u001b[22m\u001b[39m \n",
      "  \u001b[2m\u001b[38;2;255;167;38m│\u001b[22m\u001b[39m \u001b[2m\u001b[38;2;206;147;216m(MathOptInterface.TerminationStatusCode)\u001b[22m\u001b[39m  \u001b[2m\u001b[38;2;255;167;38m▶\u001b[22m\u001b[39m  \u001b[1m\u001b[38;2;255;153;89mtermination_status(control_model)\u001b[22m\u001b[39m \u001b[1m\u001b[31m=\u001b[22m\u001b[39m LOCALLY_INFEASIBLE \n",
      "  \u001b[2m\u001b[38;2;255;167;38m│\u001b[22m\u001b[39m \u001b[2m\u001b[38;2;206;147;216m(String)\u001b[22m\u001b[39m                                  \u001b[2m\u001b[38;2;255;167;38m▶\u001b[22m\u001b[39m  \u001b[1m\u001b[38;2;255;153;89mtrack_name\u001b[22m\u001b[39m                        \u001b[1m\u001b[31m=\u001b[22m\u001b[39m \u001b[38;2;165;214;167msine_chirp\u001b[39m \n",
      "  \u001b[2m\u001b[38;2;255;167;38m│\u001b[22m\u001b[39m \u001b[2m\u001b[38;2;206;147;216m(Bicycle)\u001b[22m\u001b[39m                                 \u001b[2m\u001b[38;2;255;167;38m▶\u001b[22m\u001b[39m  \u001b[1m\u001b[38;2;255;153;89mbike\u001b[22m\u001b[39m                              \u001b[1m\u001b[31m=\u001b[22m\u001b[39m Bicycle(2.85, 1.9, 4.75, 2.0, 23, 137.18, 3800.0, 0.8, 16, \"#37474F\", \"#00ACC1\", 8, \"#78909C\") \n",
      "  \u001b[1m\u001b[2m\u001b[38;2;255;167;38m╰────────────────────────────────────────────────\u001b[22m\u001b[22m\u001b[39m \n",
      "                      \u001b[2mTue, 24 May 2022\u001b[22m \u001b[1m\u001b[2m\u001b[4m11:06:46\u001b[22m\u001b[22m\u001b[24m \n"
     ]
    },
    {
     "name": "stdout",
     "output_type": "stream",
     "text": [
      "\u001b[1m\u001b[4m\u001b[38;2;255;167;38m@Warn\u001b[22m\u001b[24m\u001b[39m \u001b[38;2;237;180;111m(Main.\u001b[4m\u001b[38;2;255;238;88mtop-level scope\u001b[24m\u001b[39m\u001b[38;2;237;180;111m):\u001b[39m  \u001b[38;2;138;190;255mFAILED\u001b[39m \n",
      "  \u001b[2m\u001b[38;2;255;167;38m│\u001b[22m\u001b[39m \n",
      "  \u001b[2m\u001b[38;2;255;167;38m│\u001b[22m\u001b[39m \u001b[2m\u001b[38;2;206;147;216m(MathOptInterface.TerminationStatusCode)\u001b[22m\u001b[39m  \u001b[2m\u001b[38;2;255;167;38m▶\u001b[22m\u001b[39m  \u001b[1m\u001b[38;2;255;153;89mtermination_status(control_model)\u001b[22m\u001b[39m \u001b[1m\u001b[31m=\u001b[22m\u001b[39m ITERATION_LIMIT \n",
      "  \u001b[2m\u001b[38;2;255;167;38m│\u001b[22m\u001b[39m \u001b[2m\u001b[38;2;206;147;216m(String)\u001b[22m\u001b[39m                                  \u001b[2m\u001b[38;2;255;167;38m▶\u001b[22m\u001b[39m  \u001b[1m\u001b[38;2;255;153;89mtrack_name\u001b[22m\u001b[39m                        \u001b[1m\u001b[31m=\u001b[22m\u001b[39m \u001b[38;2;165;214;167msquiggle\u001b[39m \n",
      "  \u001b[2m\u001b[38;2;255;167;38m│\u001b[22m\u001b[39m \u001b[2m\u001b[38;2;206;147;216m(Bicycle)\u001b[22m\u001b[39m                                 \u001b[2m\u001b[38;2;255;167;38m▶\u001b[22m\u001b[39m  \u001b[1m\u001b[38;2;255;153;89mbike\u001b[22m\u001b[39m                              \u001b[1m\u001b[31m=\u001b[22m\u001b[39m Bicycle(2.85, 1.9, 4.75, 2.0, 23, 137.18, 3800.0, 0.8, 16, \"#37474F\", \"#00ACC1\", 8, \"#78909C\") \n",
      "  \u001b[1m\u001b[2m\u001b[38;2;255;167;38m╰────────────────────────────────────────────────\u001b[22m\u001b[22m\u001b[39m \n",
      "                      \u001b[2mTue, 24 May 2022\u001b[22m \u001b[1m\u001b[2m\u001b[4m11:08:48\u001b[22m\u001b[22m\u001b[24m \n",
      "\u001b[1m\u001b[4m\u001b[38;2;66;165;245m@Info\u001b[22m\u001b[24m\u001b[39m \u001b[38;2;237;180;111m(Main.\u001b[4m\u001b[38;2;255;238;88mtop-level scope\u001b[24m\u001b[39m\u001b[38;2;237;180;111m):\u001b[39m  \u001b[38;2;138;190;255mDoing bike 5/81\u001b[39m"
     ]
    },
    {
     "name": "stdout",
     "output_type": "stream",
     "text": [
      " \n",
      "  \u001b[1m\u001b[2m\u001b[38;2;66;165;245m╰────────────────────────────────────────────────\u001b[22m\u001b[22m\u001b[39m \n",
      "                      \u001b[2mTue, 24 May 2022\u001b[22m \u001b[1m\u001b[2m\u001b[4m11:09:43\u001b[22m\u001b[22m\u001b[24m \n"
     ]
    },
    {
     "name": "stdout",
     "output_type": "stream",
     "text": [
      "\u001b[1m\u001b[4m\u001b[38;2;255;167;38m@Warn\u001b[22m\u001b[24m\u001b[39m \u001b[38;2;237;180;111m(Main.\u001b[4m\u001b[38;2;255;238;88mtop-level scope\u001b[24m\u001b[39m\u001b[38;2;237;180;111m):\u001b[39m  \u001b[38;2;138;190;255mFAILED\u001b[39m \n",
      "  \u001b[2m\u001b[38;2;255;167;38m│\u001b[22m\u001b[39m \n",
      "  \u001b[2m\u001b[38;2;255;167;38m│\u001b[22m\u001b[39m \u001b[2m\u001b[38;2;206;147;216m(MathOptInterface.TerminationStatusCode)\u001b[22m\u001b[39m  \u001b[2m\u001b[38;2;255;167;38m▶\u001b[22m\u001b[39m  \u001b[1m\u001b[38;2;255;153;89mtermination_status(control_model)\u001b[22m\u001b[39m \u001b[1m\u001b[31m=\u001b[22m\u001b[39m LOCALLY_INFEASIBLE \n",
      "  \u001b[2m\u001b[38;2;255;167;38m│\u001b[22m\u001b[39m \u001b[2m\u001b[38;2;206;147;216m(String)\u001b[22m\u001b[39m                                  \u001b[2m\u001b[38;2;255;167;38m▶\u001b[22m\u001b[39m  \u001b[1m\u001b[38;2;255;153;89mtrack_name\u001b[22m\u001b[39m                        \u001b[1m\u001b[31m=\u001b[22m\u001b[39m \u001b[38;2;165;214;167mcosine_chirp\u001b[39m \n",
      "  \u001b[2m\u001b[38;2;255;167;38m│\u001b[22m\u001b[39m \u001b[2m\u001b[38;2;206;147;216m(Bicycle)\u001b[22m\u001b[39m                                 \u001b[2m\u001b[38;2;255;167;38m▶\u001b[22m\u001b[39m  \u001b[1m\u001b[38;2;255;153;89mbike\u001b[22m\u001b[39m                              \u001b[1m\u001b[31m=\u001b[22m\u001b[39m Bicycle(2.85, 1.9, 4.75, 2.0, 23, 137.18, 4000.0, 0.8, 16, \"#37474F\", \"#00ACC1\", 8, \"#78909C\") \n",
      "  \u001b[1m\u001b[2m\u001b[38;2;255;167;38m╰────────────────────────────────────────────────\u001b[22m\u001b[22m\u001b[39m \n",
      "                      \u001b[2mTue, 24 May 2022\u001b[22m \u001b[1m\u001b[2m\u001b[4m11:11:09\u001b[22m\u001b[22m\u001b[24m \n",
      "\u001b[1m\u001b[4m\u001b[38;2;255;167;38m@Warn\u001b[22m\u001b[24m\u001b[39m \u001b[38;2;237;180;111m(Main.\u001b[4m\u001b[38;2;255;238;88mtop-level scope\u001b[24m\u001b[39m\u001b[38;2;237;180;111m):\u001b[39m  \u001b[38;2;138;190;255mFAILED\u001b[39m"
     ]
    },
    {
     "name": "stdout",
     "output_type": "stream",
     "text": [
      " \n",
      "  \u001b[2m\u001b[38;2;255;167;38m│\u001b[22m\u001b[39m \n",
      "  \u001b[2m\u001b[38;2;255;167;38m│\u001b[22m\u001b[39m \u001b[2m\u001b[38;2;206;147;216m(MathOptInterface.TerminationStatusCode)\u001b[22m\u001b[39m  \u001b[2m\u001b[38;2;255;167;38m▶\u001b[22m\u001b[39m  \u001b[1m\u001b[38;2;255;153;89mtermination_status(control_model)\u001b[22m\u001b[39m \u001b[1m\u001b[31m=\u001b[22m\u001b[39m LOCALLY_INFEASIBLE \n",
      "  \u001b[2m\u001b[38;2;255;167;38m│\u001b[22m\u001b[39m \u001b[2m\u001b[38;2;206;147;216m(String)\u001b[22m\u001b[39m                                  \u001b[2m\u001b[38;2;255;167;38m▶\u001b[22m\u001b[39m  \u001b[1m\u001b[38;2;255;153;89mtrack_name\u001b[22m\u001b[39m                        \u001b[1m\u001b[31m=\u001b[22m\u001b[39m \u001b[38;2;165;214;167msine_chirp\u001b[39m \n",
      "  \u001b[2m\u001b[38;2;255;167;38m│\u001b[22m\u001b[39m \u001b[2m\u001b[38;2;206;147;216m(Bicycle)\u001b[22m\u001b[39m                                 \u001b[2m\u001b[38;2;255;167;38m▶\u001b[22m\u001b[39m  \u001b[1m\u001b[38;2;255;153;89mbike\u001b[22m\u001b[39m                              \u001b[1m\u001b[31m=\u001b[22m\u001b[39m Bicycle(2.85, 1.9, 4.75, 2.0, 23, 137.18, 4000.0, 0.8, 16, \"#37474F\", \"#00ACC1\", 8, \"#78909C\") \n",
      "  \u001b[1m\u001b[2m\u001b[38;2;255;167;38m╰────────────────────────────────────────────────\u001b[22m\u001b[22m\u001b[39m \n",
      "                      \u001b[2mTue, 24 May 2022\u001b[22m \u001b[1m\u001b[2m\u001b[4m11:13:49\u001b[22m\u001b[22m\u001b[24m \n"
     ]
    },
    {
     "name": "stdout",
     "output_type": "stream",
     "text": [
      "\u001b[1m\u001b[4m\u001b[38;2;66;165;245m@Info\u001b[22m\u001b[24m\u001b[39m \u001b[38;2;237;180;111m(Main.\u001b[4m\u001b[38;2;255;238;88mtop-level scope\u001b[24m\u001b[39m\u001b[38;2;237;180;111m):\u001b[39m  \u001b[38;2;138;190;255mDoing bike 6/81\u001b[39m \n",
      "  \u001b[1m\u001b[2m\u001b[38;2;66;165;245m╰────────────────────────────────────────────────\u001b[22m\u001b[22m\u001b[39m \n",
      "                      \u001b[2mTue, 24 May 2022\u001b[22m \u001b[1m\u001b[2m\u001b[4m11:16:06\u001b[22m\u001b[22m\u001b[24m \n",
      "\u001b[1m\u001b[4m\u001b[38;2;255;167;38m@Warn\u001b[22m\u001b[24m\u001b[39m \u001b[38;2;237;180;111m(Main.\u001b[4m\u001b[38;2;255;238;88mtop-level scope\u001b[24m\u001b[39m\u001b[38;2;237;180;111m):\u001b[39m  \u001b[38;2;138;190;255mFAILED\u001b[39m"
     ]
    },
    {
     "name": "stdout",
     "output_type": "stream",
     "text": [
      " \n",
      "  \u001b[2m\u001b[38;2;255;167;38m│\u001b[22m\u001b[39m \n",
      "  \u001b[2m\u001b[38;2;255;167;38m│\u001b[22m\u001b[39m \u001b[2m\u001b[38;2;206;147;216m(MathOptInterface.TerminationStatusCode)\u001b[22m\u001b[39m  \u001b[2m\u001b[38;2;255;167;38m▶\u001b[22m\u001b[39m  \u001b[1m\u001b[38;2;255;153;89mtermination_status(control_model)\u001b[22m\u001b[39m \u001b[1m\u001b[31m=\u001b[22m\u001b[39m LOCALLY_INFEASIBLE \n",
      "  \u001b[2m\u001b[38;2;255;167;38m│\u001b[22m\u001b[39m \u001b[2m\u001b[38;2;206;147;216m(String)\u001b[22m\u001b[39m                                  \u001b[2m\u001b[38;2;255;167;38m▶\u001b[22m\u001b[39m  \u001b[1m\u001b[38;2;255;153;89mtrack_name\u001b[22m\u001b[39m                        \u001b[1m\u001b[31m=\u001b[22m\u001b[39m \u001b[38;2;165;214;167mcosine_chirp\u001b[39m \n",
      "  \u001b[2m\u001b[38;2;255;167;38m│\u001b[22m\u001b[39m \u001b[2m\u001b[38;2;206;147;216m(Bicycle)\u001b[22m\u001b[39m                                 \u001b[2m\u001b[38;2;255;167;38m▶\u001b[22m\u001b[39m  \u001b[1m\u001b[38;2;255;153;89mbike\u001b[22m\u001b[39m                              \u001b[1m\u001b[31m=\u001b[22m\u001b[39m Bicycle(2.85, 1.9, 4.75, 2.0, 23, 137.18, 4200.0, 0.8, 16, \"#37474F\", \"#00ACC1\", 8, \"#78909C\") \n",
      "  \u001b[1m\u001b[2m\u001b[38;2;255;167;38m╰────────────────────────────────────────────────\u001b[22m\u001b[22m\u001b[39m \n",
      "                      \u001b[2mTue, 24 May 2022\u001b[22m \u001b[1m\u001b[2m\u001b[4m11:17:38\u001b[22m\u001b[22m\u001b[24m \n"
     ]
    },
    {
     "name": "stdout",
     "output_type": "stream",
     "text": [
      "\u001b[1m\u001b[4m\u001b[38;2;255;167;38m@Warn\u001b[22m\u001b[24m\u001b[39m \u001b[38;2;237;180;111m(Main.\u001b[4m\u001b[38;2;255;238;88mtop-level scope\u001b[24m\u001b[39m\u001b[38;2;237;180;111m):\u001b[39m  \u001b[38;2;138;190;255mFAILED\u001b[39m \n",
      "  \u001b[2m\u001b[38;2;255;167;38m│\u001b[22m\u001b[39m \n",
      "  \u001b[2m\u001b[38;2;255;167;38m│\u001b[22m\u001b[39m \u001b[2m\u001b[38;2;206;147;216m(MathOptInterface.TerminationStatusCode)\u001b[22m\u001b[39m  \u001b[2m\u001b[38;2;255;167;38m▶\u001b[22m\u001b[39m  \u001b[1m\u001b[38;2;255;153;89mtermination_status(control_model)\u001b[22m\u001b[39m \u001b[1m\u001b[31m=\u001b[22m\u001b[39m LOCALLY_INFEASIBLE \n",
      "  \u001b[2m\u001b[38;2;255;167;38m│\u001b[22m\u001b[39m \u001b[2m\u001b[38;2;206;147;216m(String)\u001b[22m\u001b[39m                                  \u001b[2m\u001b[38;2;255;167;38m▶\u001b[22m\u001b[39m  \u001b[1m\u001b[38;2;255;153;89mtrack_name\u001b[22m\u001b[39m                        \u001b[1m\u001b[31m=\u001b[22m\u001b[39m \u001b[38;2;165;214;167msine_chirp\u001b[39m \n",
      "  \u001b[2m\u001b[38;2;255;167;38m│\u001b[22m\u001b[39m \u001b[2m\u001b[38;2;206;147;216m(Bicycle)\u001b[22m\u001b[39m                                 \u001b[2m\u001b[38;2;255;167;38m▶\u001b[22m\u001b[39m  \u001b[1m\u001b[38;2;255;153;89mbike\u001b[22m\u001b[39m                              \u001b[1m\u001b[31m=\u001b[22m\u001b[39m Bicycle(2.85, 1.9, 4.75, 2.0, 23, 137.18, 4200.0, 0.8, 16, \"#37474F\", \"#00ACC1\", 8, \"#78909C\") \n",
      "  \u001b[1m\u001b[2m\u001b[38;2;255;167;38m╰────────────────────────────────────────────────\u001b[22m\u001b[22m\u001b[39m \n",
      "                      \u001b[2mTue, 24 May 2022\u001b[22m \u001b[1m\u001b[2m\u001b[4m11:20:07\u001b[22m\u001b[22m\u001b[24m \n",
      "\u001b[1m\u001b[4m\u001b[38;2;66;165;245m@Info\u001b[22m\u001b[24m\u001b[39m \u001b[38;2;237;180;111m(Main.\u001b[4m\u001b[38;2;255;238;88mtop-level scope\u001b[24m\u001b[39m\u001b[38;2;237;180;111m):\u001b[39m  \u001b[38;2;138;190;255mDoing bike 7/81\u001b[39m"
     ]
    },
    {
     "name": "stdout",
     "output_type": "stream",
     "text": [
      " \n",
      "  \u001b[1m\u001b[2m\u001b[38;2;66;165;245m╰────────────────────────────────────────────────\u001b[22m\u001b[22m\u001b[39m \n",
      "                      \u001b[2mTue, 24 May 2022\u001b[22m \u001b[1m\u001b[2m\u001b[4m11:22:03\u001b[22m\u001b[22m\u001b[24m \n"
     ]
    },
    {
     "name": "stdout",
     "output_type": "stream",
     "text": [
      "\u001b[1m\u001b[4m\u001b[38;2;255;167;38m@Warn\u001b[22m\u001b[24m\u001b[39m \u001b[38;2;237;180;111m(Main.\u001b[4m\u001b[38;2;255;238;88mtop-level scope\u001b[24m\u001b[39m\u001b[38;2;237;180;111m):\u001b[39m  \u001b[38;2;138;190;255mFAILED\u001b[39m \n",
      "  \u001b[2m\u001b[38;2;255;167;38m│\u001b[22m\u001b[39m \n",
      "  \u001b[2m\u001b[38;2;255;167;38m│\u001b[22m\u001b[39m \u001b[2m\u001b[38;2;206;147;216m(MathOptInterface.TerminationStatusCode)\u001b[22m\u001b[39m  \u001b[2m\u001b[38;2;255;167;38m▶\u001b[22m\u001b[39m  \u001b[1m\u001b[38;2;255;153;89mtermination_status(control_model)\u001b[22m\u001b[39m \u001b[1m\u001b[31m=\u001b[22m\u001b[39m LOCALLY_INFEASIBLE \n",
      "  \u001b[2m\u001b[38;2;255;167;38m│\u001b[22m\u001b[39m \u001b[2m\u001b[38;2;206;147;216m(String)\u001b[22m\u001b[39m                                  \u001b[2m\u001b[38;2;255;167;38m▶\u001b[22m\u001b[39m  \u001b[1m\u001b[38;2;255;153;89mtrack_name\u001b[22m\u001b[39m                        \u001b[1m\u001b[31m=\u001b[22m\u001b[39m \u001b[38;2;165;214;167mcosine_chirp\u001b[39m \n",
      "  \u001b[2m\u001b[38;2;255;167;38m│\u001b[22m\u001b[39m \u001b[2m\u001b[38;2;206;147;216m(Bicycle)\u001b[22m\u001b[39m                                 \u001b[2m\u001b[38;2;255;167;38m▶\u001b[22m\u001b[39m  \u001b[1m\u001b[38;2;255;153;89mbike\u001b[22m\u001b[39m                              \u001b[1m\u001b[31m=\u001b[22m\u001b[39m Bicycle(2.85, 1.9, 4.75, 2.1, 23, 137.18, 3800.0, 0.8, 16, \"#37474F\", \"#00ACC1\", 8, \"#78909C\") \n",
      "  \u001b[1m\u001b[2m\u001b[38;2;255;167;38m╰────────────────────────────────────────────────\u001b[22m\u001b[22m\u001b[39m \n",
      "                      \u001b[2mTue, 24 May 2022\u001b[22m \u001b[1m\u001b[2m\u001b[4m11:24:11\u001b[22m\u001b[22m\u001b[24m \n",
      "\u001b[1m\u001b[4m\u001b[38;2;255;167;38m@Warn\u001b[22m\u001b[24m\u001b[39m \u001b[38;2;237;180;111m(Main.\u001b[4m\u001b[38;2;255;238;88mtop-level scope\u001b[24m\u001b[39m\u001b[38;2;237;180;111m):\u001b[39m  \u001b[38;2;138;190;255mFAILED\u001b[39m"
     ]
    },
    {
     "name": "stdout",
     "output_type": "stream",
     "text": [
      " \n",
      "  \u001b[2m\u001b[38;2;255;167;38m│\u001b[22m\u001b[39m \n",
      "  \u001b[2m\u001b[38;2;255;167;38m│\u001b[22m\u001b[39m \u001b[2m\u001b[38;2;206;147;216m(MathOptInterface.TerminationStatusCode)\u001b[22m\u001b[39m  \u001b[2m\u001b[38;2;255;167;38m▶\u001b[22m\u001b[39m  \u001b[1m\u001b[38;2;255;153;89mtermination_status(control_model)\u001b[22m\u001b[39m \u001b[1m\u001b[31m=\u001b[22m\u001b[39m LOCALLY_INFEASIBLE \n",
      "  \u001b[2m\u001b[38;2;255;167;38m│\u001b[22m\u001b[39m \u001b[2m\u001b[38;2;206;147;216m(String)\u001b[22m\u001b[39m                                  \u001b[2m\u001b[38;2;255;167;38m▶\u001b[22m\u001b[39m  \u001b[1m\u001b[38;2;255;153;89mtrack_name\u001b[22m\u001b[39m                        \u001b[1m\u001b[31m=\u001b[22m\u001b[39m \u001b[38;2;165;214;167msine_chirp\u001b[39m \n",
      "  \u001b[2m\u001b[38;2;255;167;38m│\u001b[22m\u001b[39m \u001b[2m\u001b[38;2;206;147;216m(Bicycle)\u001b[22m\u001b[39m                                 \u001b[2m\u001b[38;2;255;167;38m▶\u001b[22m\u001b[39m  \u001b[1m\u001b[38;2;255;153;89mbike\u001b[22m\u001b[39m                              \u001b[1m\u001b[31m=\u001b[22m\u001b[39m Bicycle(2.85, 1.9, 4.75, 2.1, 23, 137.18, 3800.0, 0.8, 16, \"#37474F\", \"#00ACC1\", 8, \"#78909C\") \n",
      "  \u001b[1m\u001b[2m\u001b[38;2;255;167;38m╰────────────────────────────────────────────────\u001b[22m\u001b[22m\u001b[39m \n",
      "                      \u001b[2mTue, 24 May 2022\u001b[22m \u001b[1m\u001b[2m\u001b[4m11:26:44\u001b[22m\u001b[22m\u001b[24m \n"
     ]
    },
    {
     "name": "stdout",
     "output_type": "stream",
     "text": [
      "\u001b[1m\u001b[4m\u001b[38;2;255;167;38m@Warn\u001b[22m\u001b[24m\u001b[39m \u001b[38;2;237;180;111m(Main.\u001b[4m\u001b[38;2;255;238;88mtop-level scope\u001b[24m\u001b[39m\u001b[38;2;237;180;111m):\u001b[39m  \u001b[38;2;138;190;255mFAILED\u001b[39m \n",
      "  \u001b[2m\u001b[38;2;255;167;38m│\u001b[22m\u001b[39m \n",
      "  \u001b[2m\u001b[38;2;255;167;38m│\u001b[22m\u001b[39m \u001b[2m\u001b[38;2;206;147;216m(MathOptInterface.TerminationStatusCode)\u001b[22m\u001b[39m  \u001b[2m\u001b[38;2;255;167;38m▶\u001b[22m\u001b[39m  \u001b[1m\u001b[38;2;255;153;89mtermination_status(control_model)\u001b[22m\u001b[39m \u001b[1m\u001b[31m=\u001b[22m\u001b[39m ITERATION_LIMIT \n",
      "  \u001b[2m\u001b[38;2;255;167;38m│\u001b[22m\u001b[39m \u001b[2m\u001b[38;2;206;147;216m(String)\u001b[22m\u001b[39m                                  \u001b[2m\u001b[38;2;255;167;38m▶\u001b[22m\u001b[39m  \u001b[1m\u001b[38;2;255;153;89mtrack_name\u001b[22m\u001b[39m                        \u001b[1m\u001b[31m=\u001b[22m\u001b[39m \u001b[38;2;165;214;167msquiggle\u001b[39m \n",
      "  \u001b[2m\u001b[38;2;255;167;38m│\u001b[22m\u001b[39m \u001b[2m\u001b[38;2;206;147;216m(Bicycle)\u001b[22m\u001b[39m                                 \u001b[2m\u001b[38;2;255;167;38m▶\u001b[22m\u001b[39m  \u001b[1m\u001b[38;2;255;153;89mbike\u001b[22m\u001b[39m                              \u001b[1m\u001b[31m=\u001b[22m\u001b[39m Bicycle(2.85, 1.9, 4.75, 2.1, 23, 137.18, 3800.0, 0.8, 16, \"#37474F\", \"#00ACC1\", 8, \"#78909C\") \n",
      "  \u001b[1m\u001b[2m\u001b[38;2;255;167;38m╰────────────────────────────────────────────────\u001b[22m\u001b[22m\u001b[39m \n",
      "                      \u001b[2mTue, 24 May 2022\u001b[22m \u001b[1m\u001b[2m\u001b[4m11:28:53\u001b[22m\u001b[22m\u001b[24m \n",
      "\u001b[1m\u001b[4m\u001b[38;2;66;165;245m@Info\u001b[22m\u001b[24m\u001b[39m \u001b[38;2;237;180;111m(Main.\u001b[4m\u001b[38;2;255;238;88mtop-level scope\u001b[24m\u001b[39m\u001b[38;2;237;180;111m):\u001b[39m  \u001b[38;2;138;190;255mDoing bike 8/81\u001b[39m"
     ]
    },
    {
     "name": "stdout",
     "output_type": "stream",
     "text": [
      " \n",
      "  \u001b[1m\u001b[2m\u001b[38;2;66;165;245m╰────────────────────────────────────────────────\u001b[22m\u001b[22m\u001b[39m \n",
      "                      \u001b[2mTue, 24 May 2022\u001b[22m \u001b[1m\u001b[2m\u001b[4m11:29:52\u001b[22m\u001b[22m\u001b[24m \n"
     ]
    },
    {
     "name": "stdout",
     "output_type": "stream",
     "text": [
      "\u001b[1m\u001b[4m\u001b[38;2;255;167;38m@Warn\u001b[22m\u001b[24m\u001b[39m \u001b[38;2;237;180;111m(Main.\u001b[4m\u001b[38;2;255;238;88mtop-level scope\u001b[24m\u001b[39m\u001b[38;2;237;180;111m):\u001b[39m  \u001b[38;2;138;190;255mFAILED\u001b[39m \n",
      "  \u001b[2m\u001b[38;2;255;167;38m│\u001b[22m\u001b[39m \n",
      "  \u001b[2m\u001b[38;2;255;167;38m│\u001b[22m\u001b[39m \u001b[2m\u001b[38;2;206;147;216m(MathOptInterface.TerminationStatusCode)\u001b[22m\u001b[39m  \u001b[2m\u001b[38;2;255;167;38m▶\u001b[22m\u001b[39m  \u001b[1m\u001b[38;2;255;153;89mtermination_status(control_model)\u001b[22m\u001b[39m \u001b[1m\u001b[31m=\u001b[22m\u001b[39m LOCALLY_INFEASIBLE \n",
      "  \u001b[2m\u001b[38;2;255;167;38m│\u001b[22m\u001b[39m \u001b[2m\u001b[38;2;206;147;216m(String)\u001b[22m\u001b[39m                                  \u001b[2m\u001b[38;2;255;167;38m▶\u001b[22m\u001b[39m  \u001b[1m\u001b[38;2;255;153;89mtrack_name\u001b[22m\u001b[39m                        \u001b[1m\u001b[31m=\u001b[22m\u001b[39m \u001b[38;2;165;214;167mcosine_chirp\u001b[39m \n",
      "  \u001b[2m\u001b[38;2;255;167;38m│\u001b[22m\u001b[39m \u001b[2m\u001b[38;2;206;147;216m(Bicycle)\u001b[22m\u001b[39m                                 \u001b[2m\u001b[38;2;255;167;38m▶\u001b[22m\u001b[39m  \u001b[1m\u001b[38;2;255;153;89mbike\u001b[22m\u001b[39m                              \u001b[1m\u001b[31m=\u001b[22m\u001b[39m Bicycle(2.85, 1.9, 4.75, 2.1, 23, 137.18, 4000.0, 0.8, 16, \"#37474F\", \"#00ACC1\", 8, \"#78909C\") \n",
      "  \u001b[1m\u001b[2m\u001b[38;2;255;167;38m╰────────────────────────────────────────────────\u001b[22m\u001b[22m\u001b[39m \n",
      "                      \u001b[2mTue, 24 May 2022\u001b[22m \u001b[1m\u001b[2m\u001b[4m11:31:30\u001b[22m\u001b[22m\u001b[24m \n",
      "\u001b[1m\u001b[4m\u001b[38;2;255;167;38m@Warn\u001b[22m\u001b[24m\u001b[39m \u001b[38;2;237;180;111m(Main.\u001b[4m\u001b[38;2;255;238;88mtop-level scope\u001b[24m\u001b[39m\u001b[38;2;237;180;111m):\u001b[39m  \u001b[38;2;138;190;255mFAILED\u001b[39m"
     ]
    },
    {
     "name": "stdout",
     "output_type": "stream",
     "text": [
      " \n",
      "  \u001b[2m\u001b[38;2;255;167;38m│\u001b[22m\u001b[39m \n",
      "  \u001b[2m\u001b[38;2;255;167;38m│\u001b[22m\u001b[39m \u001b[2m\u001b[38;2;206;147;216m(MathOptInterface.TerminationStatusCode)\u001b[22m\u001b[39m  \u001b[2m\u001b[38;2;255;167;38m▶\u001b[22m\u001b[39m  \u001b[1m\u001b[38;2;255;153;89mtermination_status(control_model)\u001b[22m\u001b[39m \u001b[1m\u001b[31m=\u001b[22m\u001b[39m LOCALLY_INFEASIBLE \n",
      "  \u001b[2m\u001b[38;2;255;167;38m│\u001b[22m\u001b[39m \u001b[2m\u001b[38;2;206;147;216m(String)\u001b[22m\u001b[39m                                  \u001b[2m\u001b[38;2;255;167;38m▶\u001b[22m\u001b[39m  \u001b[1m\u001b[38;2;255;153;89mtrack_name\u001b[22m\u001b[39m                        \u001b[1m\u001b[31m=\u001b[22m\u001b[39m \u001b[38;2;165;214;167msine_chirp\u001b[39m \n",
      "  \u001b[2m\u001b[38;2;255;167;38m│\u001b[22m\u001b[39m \u001b[2m\u001b[38;2;206;147;216m(Bicycle)\u001b[22m\u001b[39m                                 \u001b[2m\u001b[38;2;255;167;38m▶\u001b[22m\u001b[39m  \u001b[1m\u001b[38;2;255;153;89mbike\u001b[22m\u001b[39m                              \u001b[1m\u001b[31m=\u001b[22m\u001b[39m Bicycle(2.85, 1.9, 4.75, 2.1, 23, 137.18, 4000.0, 0.8, 16, \"#37474F\", \"#00ACC1\", 8, \"#78909C\") \n",
      "  \u001b[1m\u001b[2m\u001b[38;2;255;167;38m╰────────────────────────────────────────────────\u001b[22m\u001b[22m\u001b[39m \n",
      "                      \u001b[2mTue, 24 May 2022\u001b[22m \u001b[1m\u001b[2m\u001b[4m11:34:47\u001b[22m\u001b[22m\u001b[24m \n"
     ]
    },
    {
     "name": "stdout",
     "output_type": "stream",
     "text": [
      "\u001b[1m\u001b[4m\u001b[38;2;66;165;245m@Info\u001b[22m\u001b[24m\u001b[39m \u001b[38;2;237;180;111m(Main.\u001b[4m\u001b[38;2;255;238;88mtop-level scope\u001b[24m\u001b[39m\u001b[38;2;237;180;111m):\u001b[39m  \u001b[38;2;138;190;255mDoing bike 9/81\u001b[39m \n",
      "  \u001b[1m\u001b[2m\u001b[38;2;66;165;245m╰────────────────────────────────────────────────\u001b[22m\u001b[22m\u001b[39m \n",
      "                      \u001b[2mTue, 24 May 2022\u001b[22m \u001b[1m\u001b[2m\u001b[4m11:36:45\u001b[22m\u001b[22m\u001b[24m \n",
      "\u001b[1m\u001b[4m\u001b[38;2;255;167;38m@Warn\u001b[22m\u001b[24m\u001b[39m \u001b[38;2;237;180;111m(Main.\u001b[4m\u001b[38;2;255;238;88mtop-level scope\u001b[24m\u001b[39m\u001b[38;2;237;180;111m):\u001b[39m  \u001b[38;2;138;190;255mFAILED\u001b[39m"
     ]
    },
    {
     "name": "stdout",
     "output_type": "stream",
     "text": [
      " \n",
      "  \u001b[2m\u001b[38;2;255;167;38m│\u001b[22m\u001b[39m \n",
      "  \u001b[2m\u001b[38;2;255;167;38m│\u001b[22m\u001b[39m \u001b[2m\u001b[38;2;206;147;216m(MathOptInterface.TerminationStatusCode)\u001b[22m\u001b[39m  \u001b[2m\u001b[38;2;255;167;38m▶\u001b[22m\u001b[39m  \u001b[1m\u001b[38;2;255;153;89mtermination_status(control_model)\u001b[22m\u001b[39m \u001b[1m\u001b[31m=\u001b[22m\u001b[39m LOCALLY_INFEASIBLE \n",
      "  \u001b[2m\u001b[38;2;255;167;38m│\u001b[22m\u001b[39m \u001b[2m\u001b[38;2;206;147;216m(String)\u001b[22m\u001b[39m                                  \u001b[2m\u001b[38;2;255;167;38m▶\u001b[22m\u001b[39m  \u001b[1m\u001b[38;2;255;153;89mtrack_name\u001b[22m\u001b[39m                        \u001b[1m\u001b[31m=\u001b[22m\u001b[39m \u001b[38;2;165;214;167mcosine_chirp\u001b[39m \n",
      "  \u001b[2m\u001b[38;2;255;167;38m│\u001b[22m\u001b[39m \u001b[2m\u001b[38;2;206;147;216m(Bicycle)\u001b[22m\u001b[39m                                 \u001b[2m\u001b[38;2;255;167;38m▶\u001b[22m\u001b[39m  \u001b[1m\u001b[38;2;255;153;89mbike\u001b[22m\u001b[39m                              \u001b[1m\u001b[31m=\u001b[22m\u001b[39m Bicycle(2.85, 1.9, 4.75, 2.1, 23, 137.18, 4200.0, 0.8, 16, \"#37474F\", \"#00ACC1\", 8, \"#78909C\") \n",
      "  \u001b[1m\u001b[2m\u001b[38;2;255;167;38m╰────────────────────────────────────────────────\u001b[22m\u001b[22m\u001b[39m \n",
      "                      \u001b[2mTue, 24 May 2022\u001b[22m \u001b[1m\u001b[2m\u001b[4m11:38:15\u001b[22m\u001b[22m\u001b[24m \n"
     ]
    },
    {
     "name": "stdout",
     "output_type": "stream",
     "text": [
      "\u001b[1m\u001b[4m\u001b[38;2;255;167;38m@Warn\u001b[22m\u001b[24m\u001b[39m \u001b[38;2;237;180;111m(Main.\u001b[4m\u001b[38;2;255;238;88mtop-level scope\u001b[24m\u001b[39m\u001b[38;2;237;180;111m):\u001b[39m  \u001b[38;2;138;190;255mFAILED\u001b[39m \n",
      "  \u001b[2m\u001b[38;2;255;167;38m│\u001b[22m\u001b[39m \n",
      "  \u001b[2m\u001b[38;2;255;167;38m│\u001b[22m\u001b[39m \u001b[2m\u001b[38;2;206;147;216m(MathOptInterface.TerminationStatusCode)\u001b[22m\u001b[39m  \u001b[2m\u001b[38;2;255;167;38m▶\u001b[22m\u001b[39m  \u001b[1m\u001b[38;2;255;153;89mtermination_status(control_model)\u001b[22m\u001b[39m \u001b[1m\u001b[31m=\u001b[22m\u001b[39m LOCALLY_INFEASIBLE \n",
      "  \u001b[2m\u001b[38;2;255;167;38m│\u001b[22m\u001b[39m \u001b[2m\u001b[38;2;206;147;216m(String)\u001b[22m\u001b[39m                                  \u001b[2m\u001b[38;2;255;167;38m▶\u001b[22m\u001b[39m  \u001b[1m\u001b[38;2;255;153;89mtrack_name\u001b[22m\u001b[39m                        \u001b[1m\u001b[31m=\u001b[22m\u001b[39m \u001b[38;2;165;214;167msine_chirp\u001b[39m \n",
      "  \u001b[2m\u001b[38;2;255;167;38m│\u001b[22m\u001b[39m \u001b[2m\u001b[38;2;206;147;216m(Bicycle)\u001b[22m\u001b[39m                                 \u001b[2m\u001b[38;2;255;167;38m▶\u001b[22m\u001b[39m  \u001b[1m\u001b[38;2;255;153;89mbike\u001b[22m\u001b[39m                              \u001b[1m\u001b[31m=\u001b[22m\u001b[39m Bicycle(2.85, 1.9, 4.75, 2.1, 23, 137.18, 4200.0, 0.8, 16, \"#37474F\", \"#00ACC1\", 8, \"#78909C\") \n",
      "  \u001b[1m\u001b[2m\u001b[38;2;255;167;38m╰────────────────────────────────────────────────\u001b[22m\u001b[22m\u001b[39m \n",
      "                      \u001b[2mTue, 24 May 2022\u001b[22m \u001b[1m\u001b[2m\u001b[4m11:40:57\u001b[22m\u001b[22m\u001b[24m \n",
      "\u001b[1m\u001b[4m\u001b[38;2;66;165;245m@Info\u001b[22m\u001b[24m\u001b[39m \u001b[38;2;237;180;111m(Main.\u001b[4m\u001b[38;2;255;238;88mtop-level scope\u001b[24m\u001b[39m\u001b[38;2;237;180;111m):\u001b[39m  \u001b[38;2;138;190;255mDoing bike 10/81\u001b[39m"
     ]
    },
    {
     "name": "stdout",
     "output_type": "stream",
     "text": [
      " \n",
      "  \u001b[1m\u001b[2m\u001b[38;2;66;165;245m╰────────────────────────────────────────────────\u001b[22m\u001b[22m\u001b[39m \n",
      "                      \u001b[2mTue, 24 May 2022\u001b[22m \u001b[1m\u001b[2m\u001b[4m11:42:46\u001b[22m\u001b[22m\u001b[24m \n"
     ]
    },
    {
     "name": "stdout",
     "output_type": "stream",
     "text": [
      "\u001b[1m\u001b[4m\u001b[38;2;255;167;38m@Warn\u001b[22m\u001b[24m\u001b[39m \u001b[38;2;237;180;111m(Main.\u001b[4m\u001b[38;2;255;238;88mtop-level scope\u001b[24m\u001b[39m\u001b[38;2;237;180;111m):\u001b[39m  \u001b[38;2;138;190;255mFAILED\u001b[39m \n",
      "  \u001b[2m\u001b[38;2;255;167;38m│\u001b[22m\u001b[39m \n",
      "  \u001b[2m\u001b[38;2;255;167;38m│\u001b[22m\u001b[39m \u001b[2m\u001b[38;2;206;147;216m(MathOptInterface.TerminationStatusCode)\u001b[22m\u001b[39m  \u001b[2m\u001b[38;2;255;167;38m▶\u001b[22m\u001b[39m  \u001b[1m\u001b[38;2;255;153;89mtermination_status(control_model)\u001b[22m\u001b[39m \u001b[1m\u001b[31m=\u001b[22m\u001b[39m LOCALLY_INFEASIBLE \n",
      "  \u001b[2m\u001b[38;2;255;167;38m│\u001b[22m\u001b[39m \u001b[2m\u001b[38;2;206;147;216m(String)\u001b[22m\u001b[39m                                  \u001b[2m\u001b[38;2;255;167;38m▶\u001b[22m\u001b[39m  \u001b[1m\u001b[38;2;255;153;89mtrack_name\u001b[22m\u001b[39m                        \u001b[1m\u001b[31m=\u001b[22m\u001b[39m \u001b[38;2;165;214;167mcosine_chirp\u001b[39m \n",
      "  \u001b[2m\u001b[38;2;255;167;38m│\u001b[22m\u001b[39m \u001b[2m\u001b[38;2;206;147;216m(Bicycle)\u001b[22m\u001b[39m                                 \u001b[2m\u001b[38;2;255;167;38m▶\u001b[22m\u001b[39m  \u001b[1m\u001b[38;2;255;153;89mbike\u001b[22m\u001b[39m                              \u001b[1m\u001b[31m=\u001b[22m\u001b[39m Bicycle(2.85, 2.0, 4.85, 1.9, 23, 141.47, 3800.0, 0.8, 16, \"#37474F\", \"#00ACC1\", 8, \"#78909C\") \n",
      "  \u001b[1m\u001b[2m\u001b[38;2;255;167;38m╰────────────────────────────────────────────────\u001b[22m\u001b[22m\u001b[39m \n",
      "                      \u001b[2mTue, 24 May 2022\u001b[22m \u001b[1m\u001b[2m\u001b[4m11:44:30\u001b[22m\u001b[22m\u001b[24m \n",
      "\u001b[1m\u001b[4m\u001b[38;2;255;167;38m@Warn\u001b[22m\u001b[24m\u001b[39m \u001b[38;2;237;180;111m(Main.\u001b[4m\u001b[38;2;255;238;88mtop-level scope\u001b[24m\u001b[39m\u001b[38;2;237;180;111m):\u001b[39m  \u001b[38;2;138;190;255mFAILED\u001b[39m"
     ]
    },
    {
     "name": "stdout",
     "output_type": "stream",
     "text": [
      " \n",
      "  \u001b[2m\u001b[38;2;255;167;38m│\u001b[22m\u001b[39m \n",
      "  \u001b[2m\u001b[38;2;255;167;38m│\u001b[22m\u001b[39m \u001b[2m\u001b[38;2;206;147;216m(MathOptInterface.TerminationStatusCode)\u001b[22m\u001b[39m  \u001b[2m\u001b[38;2;255;167;38m▶\u001b[22m\u001b[39m  \u001b[1m\u001b[38;2;255;153;89mtermination_status(control_model)\u001b[22m\u001b[39m \u001b[1m\u001b[31m=\u001b[22m\u001b[39m LOCALLY_INFEASIBLE \n",
      "  \u001b[2m\u001b[38;2;255;167;38m│\u001b[22m\u001b[39m \u001b[2m\u001b[38;2;206;147;216m(String)\u001b[22m\u001b[39m                                  \u001b[2m\u001b[38;2;255;167;38m▶\u001b[22m\u001b[39m  \u001b[1m\u001b[38;2;255;153;89mtrack_name\u001b[22m\u001b[39m                        \u001b[1m\u001b[31m=\u001b[22m\u001b[39m \u001b[38;2;165;214;167msine_chirp\u001b[39m \n",
      "  \u001b[2m\u001b[38;2;255;167;38m│\u001b[22m\u001b[39m \u001b[2m\u001b[38;2;206;147;216m(Bicycle)\u001b[22m\u001b[39m                                 \u001b[2m\u001b[38;2;255;167;38m▶\u001b[22m\u001b[39m  \u001b[1m\u001b[38;2;255;153;89mbike\u001b[22m\u001b[39m                              \u001b[1m\u001b[31m=\u001b[22m\u001b[39m Bicycle(2.85, 2.0, 4.85, 1.9, 23, 141.47, 3800.0, 0.8, 16, \"#37474F\", \"#00ACC1\", 8, \"#78909C\") \n",
      "  \u001b[1m\u001b[2m\u001b[38;2;255;167;38m╰────────────────────────────────────────────────\u001b[22m\u001b[22m\u001b[39m \n",
      "                      \u001b[2mTue, 24 May 2022\u001b[22m \u001b[1m\u001b[2m\u001b[4m11:47:08\u001b[22m\u001b[22m\u001b[24m \n"
     ]
    },
    {
     "name": "stdout",
     "output_type": "stream",
     "text": [
      "\u001b[1m\u001b[4m\u001b[38;2;66;165;245m@Info\u001b[22m\u001b[24m\u001b[39m \u001b[38;2;237;180;111m(Main.\u001b[4m\u001b[38;2;255;238;88mtop-level scope\u001b[24m\u001b[39m\u001b[38;2;237;180;111m):\u001b[39m  \u001b[38;2;138;190;255mDoing bike 11/81\u001b[39m \n",
      "  \u001b[1m\u001b[2m\u001b[38;2;66;165;245m╰────────────────────────────────────────────────\u001b[22m\u001b[22m\u001b[39m \n",
      "                      \u001b[2mTue, 24 May 2022\u001b[22m \u001b[1m\u001b[2m\u001b[4m11:50:23\u001b[22m\u001b[22m\u001b[24m \n",
      "\u001b[1m\u001b[4m\u001b[38;2;255;167;38m@Warn\u001b[22m\u001b[24m\u001b[39m \u001b[38;2;237;180;111m(Main.\u001b[4m\u001b[38;2;255;238;88mtop-level scope\u001b[24m\u001b[39m\u001b[38;2;237;180;111m):\u001b[39m  \u001b[38;2;138;190;255mFAILED\u001b[39m"
     ]
    },
    {
     "name": "stdout",
     "output_type": "stream",
     "text": [
      " \n",
      "  \u001b[2m\u001b[38;2;255;167;38m│\u001b[22m\u001b[39m \n",
      "  \u001b[2m\u001b[38;2;255;167;38m│\u001b[22m\u001b[39m \u001b[2m\u001b[38;2;206;147;216m(MathOptInterface.TerminationStatusCode)\u001b[22m\u001b[39m  \u001b[2m\u001b[38;2;255;167;38m▶\u001b[22m\u001b[39m  \u001b[1m\u001b[38;2;255;153;89mtermination_status(control_model)\u001b[22m\u001b[39m \u001b[1m\u001b[31m=\u001b[22m\u001b[39m LOCALLY_INFEASIBLE \n",
      "  \u001b[2m\u001b[38;2;255;167;38m│\u001b[22m\u001b[39m \u001b[2m\u001b[38;2;206;147;216m(String)\u001b[22m\u001b[39m                                  \u001b[2m\u001b[38;2;255;167;38m▶\u001b[22m\u001b[39m  \u001b[1m\u001b[38;2;255;153;89mtrack_name\u001b[22m\u001b[39m                        \u001b[1m\u001b[31m=\u001b[22m\u001b[39m \u001b[38;2;165;214;167mcosine_chirp\u001b[39m \n",
      "  \u001b[2m\u001b[38;2;255;167;38m│\u001b[22m\u001b[39m \u001b[2m\u001b[38;2;206;147;216m(Bicycle)\u001b[22m\u001b[39m                                 \u001b[2m\u001b[38;2;255;167;38m▶\u001b[22m\u001b[39m  \u001b[1m\u001b[38;2;255;153;89mbike\u001b[22m\u001b[39m                              \u001b[1m\u001b[31m=\u001b[22m\u001b[39m Bicycle(2.85, 2.0, 4.85, 1.9, 23, 141.47, 4000.0, 0.8, 16, \"#37474F\", \"#00ACC1\", 8, \"#78909C\") \n",
      "  \u001b[1m\u001b[2m\u001b[38;2;255;167;38m╰────────────────────────────────────────────────\u001b[22m\u001b[22m\u001b[39m \n",
      "                      \u001b[2mTue, 24 May 2022\u001b[22m \u001b[1m\u001b[2m\u001b[4m11:51:55\u001b[22m\u001b[22m\u001b[24m \n"
     ]
    },
    {
     "name": "stdout",
     "output_type": "stream",
     "text": [
      "\u001b[1m\u001b[4m\u001b[38;2;255;167;38m@Warn\u001b[22m\u001b[24m\u001b[39m \u001b[38;2;237;180;111m(Main.\u001b[4m\u001b[38;2;255;238;88mtop-level scope\u001b[24m\u001b[39m\u001b[38;2;237;180;111m):\u001b[39m  \u001b[38;2;138;190;255mFAILED\u001b[39m \n",
      "  \u001b[2m\u001b[38;2;255;167;38m│\u001b[22m\u001b[39m \n",
      "  \u001b[2m\u001b[38;2;255;167;38m│\u001b[22m\u001b[39m \u001b[2m\u001b[38;2;206;147;216m(MathOptInterface.TerminationStatusCode)\u001b[22m\u001b[39m  \u001b[2m\u001b[38;2;255;167;38m▶\u001b[22m\u001b[39m  \u001b[1m\u001b[38;2;255;153;89mtermination_status(control_model)\u001b[22m\u001b[39m \u001b[1m\u001b[31m=\u001b[22m\u001b[39m ITERATION_LIMIT \n",
      "  \u001b[2m\u001b[38;2;255;167;38m│\u001b[22m\u001b[39m \u001b[2m\u001b[38;2;206;147;216m(String)\u001b[22m\u001b[39m                                  \u001b[2m\u001b[38;2;255;167;38m▶\u001b[22m\u001b[39m  \u001b[1m\u001b[38;2;255;153;89mtrack_name\u001b[22m\u001b[39m                        \u001b[1m\u001b[31m=\u001b[22m\u001b[39m \u001b[38;2;165;214;167mdouble_curve_reversed\u001b[39m \n",
      "  \u001b[2m\u001b[38;2;255;167;38m│\u001b[22m\u001b[39m \u001b[2m\u001b[38;2;206;147;216m(Bicycle)\u001b[22m\u001b[39m                                 \u001b[2m\u001b[38;2;255;167;38m▶\u001b[22m\u001b[39m  \u001b[1m\u001b[38;2;255;153;89mbike\u001b[22m\u001b[39m                              \u001b[1m\u001b[31m=\u001b[22m\u001b[39m Bicycle(2.85, 2.0, 4.85, 1.9, 23, 141.47, 4000.0, 0.8, 16, \"#37474F\", \"#00ACC1\", 8, \"#78909C\") \n",
      "  \u001b[1m\u001b[2m\u001b[38;2;255;167;38m╰────────────────────────────────────────────────\u001b[22m\u001b[22m\u001b[39m \n",
      "                      \u001b[2mTue, 24 May 2022\u001b[22m \u001b[1m\u001b[2m\u001b[4m11:53:46\u001b[22m\u001b[22m\u001b[24m \n",
      "\u001b[1m\u001b[4m\u001b[38;2;255;167;38m@Warn\u001b[22m\u001b[24m\u001b[39m \u001b[38;2;237;180;111m(Main.\u001b[4m\u001b[38;2;255;238;88mtop-level scope\u001b[24m\u001b[39m\u001b[38;2;237;180;111m):\u001b[39m  \u001b[38;2;138;190;255mFAILED\u001b[39m"
     ]
    },
    {
     "name": "stdout",
     "output_type": "stream",
     "text": [
      " \n",
      "  \u001b[2m\u001b[38;2;255;167;38m│\u001b[22m\u001b[39m \n",
      "  \u001b[2m\u001b[38;2;255;167;38m│\u001b[22m\u001b[39m \u001b[2m\u001b[38;2;206;147;216m(MathOptInterface.TerminationStatusCode)\u001b[22m\u001b[39m  \u001b[2m\u001b[38;2;255;167;38m▶\u001b[22m\u001b[39m  \u001b[1m\u001b[38;2;255;153;89mtermination_status(control_model)\u001b[22m\u001b[39m \u001b[1m\u001b[31m=\u001b[22m\u001b[39m LOCALLY_INFEASIBLE \n",
      "  \u001b[2m\u001b[38;2;255;167;38m│\u001b[22m\u001b[39m \u001b[2m\u001b[38;2;206;147;216m(String)\u001b[22m\u001b[39m                                  \u001b[2m\u001b[38;2;255;167;38m▶\u001b[22m\u001b[39m  \u001b[1m\u001b[38;2;255;153;89mtrack_name\u001b[22m\u001b[39m                        \u001b[1m\u001b[31m=\u001b[22m\u001b[39m \u001b[38;2;165;214;167msine_chirp\u001b[39m \n",
      "  \u001b[2m\u001b[38;2;255;167;38m│\u001b[22m\u001b[39m \u001b[2m\u001b[38;2;206;147;216m(Bicycle)\u001b[22m\u001b[39m                                 \u001b[2m\u001b[38;2;255;167;38m▶\u001b[22m\u001b[39m  \u001b[1m\u001b[38;2;255;153;89mbike\u001b[22m\u001b[39m                              \u001b[1m\u001b[31m=\u001b[22m\u001b[39m Bicycle(2.85, 2.0, 4.85, 1.9, 23, 141.47, 4000.0, 0.8, 16, \"#37474F\", \"#00ACC1\", 8, \"#78909C\") \n",
      "  \u001b[1m\u001b[2m\u001b[38;2;255;167;38m╰────────────────────────────────────────────────\u001b[22m\u001b[22m\u001b[39m \n",
      "                      \u001b[2mTue, 24 May 2022\u001b[22m \u001b[1m\u001b[2m\u001b[4m11:54:59\u001b[22m\u001b[22m\u001b[24m \n"
     ]
    },
    {
     "name": "stdout",
     "output_type": "stream",
     "text": [
      "\u001b[1m\u001b[4m\u001b[38;2;66;165;245m@Info\u001b[22m\u001b[24m\u001b[39m \u001b[38;2;237;180;111m(Main.\u001b[4m\u001b[38;2;255;238;88mtop-level scope\u001b[24m\u001b[39m\u001b[38;2;237;180;111m):\u001b[39m  \u001b[38;2;138;190;255mDoing bike 12/81\u001b[39m \n",
      "  \u001b[1m\u001b[2m\u001b[38;2;66;165;245m╰────────────────────────────────────────────────\u001b[22m\u001b[22m\u001b[39m \n",
      "                      \u001b[2mTue, 24 May 2022\u001b[22m \u001b[1m\u001b[2m\u001b[4m11:56:50\u001b[22m\u001b[22m\u001b[24m \n",
      "\u001b[1m\u001b[4m\u001b[38;2;255;167;38m@Warn\u001b[22m\u001b[24m\u001b[39m \u001b[38;2;237;180;111m(Main.\u001b[4m\u001b[38;2;255;238;88mtop-level scope\u001b[24m\u001b[39m\u001b[38;2;237;180;111m):\u001b[39m  \u001b[38;2;138;190;255mFAILED\u001b[39m"
     ]
    },
    {
     "name": "stdout",
     "output_type": "stream",
     "text": [
      " \n",
      "  \u001b[2m\u001b[38;2;255;167;38m│\u001b[22m\u001b[39m \n",
      "  \u001b[2m\u001b[38;2;255;167;38m│\u001b[22m\u001b[39m \u001b[2m\u001b[38;2;206;147;216m(MathOptInterface.TerminationStatusCode)\u001b[22m\u001b[39m  \u001b[2m\u001b[38;2;255;167;38m▶\u001b[22m\u001b[39m  \u001b[1m\u001b[38;2;255;153;89mtermination_status(control_model)\u001b[22m\u001b[39m \u001b[1m\u001b[31m=\u001b[22m\u001b[39m LOCALLY_INFEASIBLE \n",
      "  \u001b[2m\u001b[38;2;255;167;38m│\u001b[22m\u001b[39m \u001b[2m\u001b[38;2;206;147;216m(String)\u001b[22m\u001b[39m                                  \u001b[2m\u001b[38;2;255;167;38m▶\u001b[22m\u001b[39m  \u001b[1m\u001b[38;2;255;153;89mtrack_name\u001b[22m\u001b[39m                        \u001b[1m\u001b[31m=\u001b[22m\u001b[39m \u001b[38;2;165;214;167mcosine_chirp\u001b[39m \n",
      "  \u001b[2m\u001b[38;2;255;167;38m│\u001b[22m\u001b[39m \u001b[2m\u001b[38;2;206;147;216m(Bicycle)\u001b[22m\u001b[39m                                 \u001b[2m\u001b[38;2;255;167;38m▶\u001b[22m\u001b[39m  \u001b[1m\u001b[38;2;255;153;89mbike\u001b[22m\u001b[39m                              \u001b[1m\u001b[31m=\u001b[22m\u001b[39m Bicycle(2.85, 2.0, 4.85, 1.9, 23, 141.47, 4200.0, 0.8, 16, \"#37474F\", \"#00ACC1\", 8, \"#78909C\") \n",
      "  \u001b[1m\u001b[2m\u001b[38;2;255;167;38m╰────────────────────────────────────────────────\u001b[22m\u001b[22m\u001b[39m \n",
      "                      \u001b[2mTue, 24 May 2022\u001b[22m \u001b[1m\u001b[2m\u001b[4m11:58:11\u001b[22m\u001b[22m\u001b[24m \n"
     ]
    },
    {
     "name": "stdout",
     "output_type": "stream",
     "text": [
      "\u001b[1m\u001b[4m\u001b[38;2;255;167;38m@Warn\u001b[22m\u001b[24m\u001b[39m \u001b[38;2;237;180;111m(Main.\u001b[4m\u001b[38;2;255;238;88mtop-level scope\u001b[24m\u001b[39m\u001b[38;2;237;180;111m):\u001b[39m  \u001b[38;2;138;190;255mFAILED\u001b[39m \n",
      "  \u001b[2m\u001b[38;2;255;167;38m│\u001b[22m\u001b[39m \n",
      "  \u001b[2m\u001b[38;2;255;167;38m│\u001b[22m\u001b[39m \u001b[2m\u001b[38;2;206;147;216m(MathOptInterface.TerminationStatusCode)\u001b[22m\u001b[39m  \u001b[2m\u001b[38;2;255;167;38m▶\u001b[22m\u001b[39m  \u001b[1m\u001b[38;2;255;153;89mtermination_status(control_model)\u001b[22m\u001b[39m \u001b[1m\u001b[31m=\u001b[22m\u001b[39m LOCALLY_INFEASIBLE \n",
      "  \u001b[2m\u001b[38;2;255;167;38m│\u001b[22m\u001b[39m \u001b[2m\u001b[38;2;206;147;216m(String)\u001b[22m\u001b[39m                                  \u001b[2m\u001b[38;2;255;167;38m▶\u001b[22m\u001b[39m  \u001b[1m\u001b[38;2;255;153;89mtrack_name\u001b[22m\u001b[39m                        \u001b[1m\u001b[31m=\u001b[22m\u001b[39m \u001b[38;2;165;214;167msine_chirp\u001b[39m \n",
      "  \u001b[2m\u001b[38;2;255;167;38m│\u001b[22m\u001b[39m \u001b[2m\u001b[38;2;206;147;216m(Bicycle)\u001b[22m\u001b[39m                                 \u001b[2m\u001b[38;2;255;167;38m▶\u001b[22m\u001b[39m  \u001b[1m\u001b[38;2;255;153;89mbike\u001b[22m\u001b[39m                              \u001b[1m\u001b[31m=\u001b[22m\u001b[39m Bicycle(2.85, 2.0, 4.85, 1.9, 23, 141.47, 4200.0, 0.8, 16, \"#37474F\", \"#00ACC1\", 8, \"#78909C\") \n",
      "  \u001b[1m\u001b[2m\u001b[38;2;255;167;38m╰────────────────────────────────────────────────\u001b[22m\u001b[22m\u001b[39m \n",
      "                      \u001b[2mTue, 24 May 2022\u001b[22m \u001b[1m\u001b[2m\u001b[4m12:00:42\u001b[22m\u001b[22m\u001b[24m \n",
      "\u001b[1m\u001b[4m\u001b[38;2;66;165;245m@Info\u001b[22m\u001b[24m\u001b[39m \u001b[38;2;237;180;111m(Main.\u001b[4m\u001b[38;2;255;238;88mtop-level scope\u001b[24m\u001b[39m\u001b[38;2;237;180;111m):\u001b[39m  \u001b[38;2;138;190;255mDoing bike 13/81\u001b[39m"
     ]
    },
    {
     "name": "stdout",
     "output_type": "stream",
     "text": [
      " \n",
      "  \u001b[1m\u001b[2m\u001b[38;2;66;165;245m╰────────────────────────────────────────────────\u001b[22m\u001b[22m\u001b[39m \n",
      "                      \u001b[2mTue, 24 May 2022\u001b[22m \u001b[1m\u001b[2m\u001b[4m12:02:33\u001b[22m\u001b[22m\u001b[24m \n"
     ]
    },
    {
     "name": "stdout",
     "output_type": "stream",
     "text": [
      "\u001b[1m\u001b[4m\u001b[38;2;255;167;38m@Warn\u001b[22m\u001b[24m\u001b[39m \u001b[38;2;237;180;111m(Main.\u001b[4m\u001b[38;2;255;238;88mtop-level scope\u001b[24m\u001b[39m\u001b[38;2;237;180;111m):\u001b[39m  \u001b[38;2;138;190;255mFAILED\u001b[39m \n",
      "  \u001b[2m\u001b[38;2;255;167;38m│\u001b[22m\u001b[39m \n",
      "  \u001b[2m\u001b[38;2;255;167;38m│\u001b[22m\u001b[39m \u001b[2m\u001b[38;2;206;147;216m(MathOptInterface.TerminationStatusCode)\u001b[22m\u001b[39m  \u001b[2m\u001b[38;2;255;167;38m▶\u001b[22m\u001b[39m  \u001b[1m\u001b[38;2;255;153;89mtermination_status(control_model)\u001b[22m\u001b[39m \u001b[1m\u001b[31m=\u001b[22m\u001b[39m LOCALLY_INFEASIBLE \n",
      "  \u001b[2m\u001b[38;2;255;167;38m│\u001b[22m\u001b[39m \u001b[2m\u001b[38;2;206;147;216m(String)\u001b[22m\u001b[39m                                  \u001b[2m\u001b[38;2;255;167;38m▶\u001b[22m\u001b[39m  \u001b[1m\u001b[38;2;255;153;89mtrack_name\u001b[22m\u001b[39m                        \u001b[1m\u001b[31m=\u001b[22m\u001b[39m \u001b[38;2;165;214;167mcosine_chirp\u001b[39m \n",
      "  \u001b[2m\u001b[38;2;255;167;38m│\u001b[22m\u001b[39m \u001b[2m\u001b[38;2;206;147;216m(Bicycle)\u001b[22m\u001b[39m                                 \u001b[2m\u001b[38;2;255;167;38m▶\u001b[22m\u001b[39m  \u001b[1m\u001b[38;2;255;153;89mbike\u001b[22m\u001b[39m                              \u001b[1m\u001b[31m=\u001b[22m\u001b[39m Bicycle(2.85, 2.0, 4.85, 2.0, 23, 141.47, 3800.0, 0.8, 16, \"#37474F\", \"#00ACC1\", 8, \"#78909C\") \n",
      "  \u001b[1m\u001b[2m\u001b[38;2;255;167;38m╰────────────────────────────────────────────────\u001b[22m\u001b[22m\u001b[39m \n",
      "                      \u001b[2mTue, 24 May 2022\u001b[22m \u001b[1m\u001b[2m\u001b[4m12:04:11\u001b[22m\u001b[22m\u001b[24m \n",
      "\u001b[1m\u001b[4m\u001b[38;2;255;167;38m@Warn\u001b[22m\u001b[24m\u001b[39m \u001b[38;2;237;180;111m(Main.\u001b[4m\u001b[38;2;255;238;88mtop-level scope\u001b[24m\u001b[39m\u001b[38;2;237;180;111m):\u001b[39m  \u001b[38;2;138;190;255mFAILED\u001b[39m"
     ]
    },
    {
     "name": "stdout",
     "output_type": "stream",
     "text": [
      " \n",
      "  \u001b[2m\u001b[38;2;255;167;38m│\u001b[22m\u001b[39m \n",
      "  \u001b[2m\u001b[38;2;255;167;38m│\u001b[22m\u001b[39m \u001b[2m\u001b[38;2;206;147;216m(MathOptInterface.TerminationStatusCode)\u001b[22m\u001b[39m  \u001b[2m\u001b[38;2;255;167;38m▶\u001b[22m\u001b[39m  \u001b[1m\u001b[38;2;255;153;89mtermination_status(control_model)\u001b[22m\u001b[39m \u001b[1m\u001b[31m=\u001b[22m\u001b[39m LOCALLY_INFEASIBLE \n",
      "  \u001b[2m\u001b[38;2;255;167;38m│\u001b[22m\u001b[39m \u001b[2m\u001b[38;2;206;147;216m(String)\u001b[22m\u001b[39m                                  \u001b[2m\u001b[38;2;255;167;38m▶\u001b[22m\u001b[39m  \u001b[1m\u001b[38;2;255;153;89mtrack_name\u001b[22m\u001b[39m                        \u001b[1m\u001b[31m=\u001b[22m\u001b[39m \u001b[38;2;165;214;167msine_chirp\u001b[39m \n",
      "  \u001b[2m\u001b[38;2;255;167;38m│\u001b[22m\u001b[39m \u001b[2m\u001b[38;2;206;147;216m(Bicycle)\u001b[22m\u001b[39m                                 \u001b[2m\u001b[38;2;255;167;38m▶\u001b[22m\u001b[39m  \u001b[1m\u001b[38;2;255;153;89mbike\u001b[22m\u001b[39m                              \u001b[1m\u001b[31m=\u001b[22m\u001b[39m Bicycle(2.85, 2.0, 4.85, 2.0, 23, 141.47, 3800.0, 0.8, 16, \"#37474F\", \"#00ACC1\", 8, \"#78909C\") \n",
      "  \u001b[1m\u001b[2m\u001b[38;2;255;167;38m╰────────────────────────────────────────────────\u001b[22m\u001b[22m\u001b[39m \n",
      "                      \u001b[2mTue, 24 May 2022\u001b[22m \u001b[1m\u001b[2m\u001b[4m12:06:53\u001b[22m\u001b[22m\u001b[24m \n"
     ]
    },
    {
     "name": "stdout",
     "output_type": "stream",
     "text": [
      "\u001b[1m\u001b[4m\u001b[38;2;66;165;245m@Info\u001b[22m\u001b[24m\u001b[39m \u001b[38;2;237;180;111m(Main.\u001b[4m\u001b[38;2;255;238;88mtop-level scope\u001b[24m\u001b[39m\u001b[38;2;237;180;111m):\u001b[39m  \u001b[38;2;138;190;255mDoing bike 14/81\u001b[39m \n",
      "  \u001b[1m\u001b[2m\u001b[38;2;66;165;245m╰────────────────────────────────────────────────\u001b[22m\u001b[22m\u001b[39m \n",
      "                      \u001b[2mTue, 24 May 2022\u001b[22m \u001b[1m\u001b[2m\u001b[4m12:08:39\u001b[22m\u001b[22m\u001b[24m \n",
      "\u001b[1m\u001b[4m\u001b[38;2;255;167;38m@Warn\u001b[22m\u001b[24m\u001b[39m \u001b[38;2;237;180;111m(Main.\u001b[4m\u001b[38;2;255;238;88mtop-level scope\u001b[24m\u001b[39m\u001b[38;2;237;180;111m):\u001b[39m  \u001b[38;2;138;190;255mFAILED\u001b[39m"
     ]
    },
    {
     "name": "stdout",
     "output_type": "stream",
     "text": [
      " \n",
      "  \u001b[2m\u001b[38;2;255;167;38m│\u001b[22m\u001b[39m \n",
      "  \u001b[2m\u001b[38;2;255;167;38m│\u001b[22m\u001b[39m \u001b[2m\u001b[38;2;206;147;216m(MathOptInterface.TerminationStatusCode)\u001b[22m\u001b[39m  \u001b[2m\u001b[38;2;255;167;38m▶\u001b[22m\u001b[39m  \u001b[1m\u001b[38;2;255;153;89mtermination_status(control_model)\u001b[22m\u001b[39m \u001b[1m\u001b[31m=\u001b[22m\u001b[39m LOCALLY_INFEASIBLE \n",
      "  \u001b[2m\u001b[38;2;255;167;38m│\u001b[22m\u001b[39m \u001b[2m\u001b[38;2;206;147;216m(String)\u001b[22m\u001b[39m                                  \u001b[2m\u001b[38;2;255;167;38m▶\u001b[22m\u001b[39m  \u001b[1m\u001b[38;2;255;153;89mtrack_name\u001b[22m\u001b[39m                        \u001b[1m\u001b[31m=\u001b[22m\u001b[39m \u001b[38;2;165;214;167mcosine_chirp\u001b[39m \n",
      "  \u001b[2m\u001b[38;2;255;167;38m│\u001b[22m\u001b[39m \u001b[2m\u001b[38;2;206;147;216m(Bicycle)\u001b[22m\u001b[39m                                 \u001b[2m\u001b[38;2;255;167;38m▶\u001b[22m\u001b[39m  \u001b[1m\u001b[38;2;255;153;89mbike\u001b[22m\u001b[39m                              \u001b[1m\u001b[31m=\u001b[22m\u001b[39m Bicycle(2.85, 2.0, 4.85, 2.0, 23, 141.47, 4000.0, 0.8, 16, \"#37474F\", \"#00ACC1\", 8, \"#78909C\") \n",
      "  \u001b[1m\u001b[2m\u001b[38;2;255;167;38m╰────────────────────────────────────────────────\u001b[22m\u001b[22m\u001b[39m \n",
      "                      \u001b[2mTue, 24 May 2022\u001b[22m \u001b[1m\u001b[2m\u001b[4m12:10:02\u001b[22m\u001b[22m\u001b[24m \n"
     ]
    },
    {
     "name": "stdout",
     "output_type": "stream",
     "text": [
      "\u001b[1m\u001b[4m\u001b[38;2;255;167;38m@Warn\u001b[22m\u001b[24m\u001b[39m \u001b[38;2;237;180;111m(Main.\u001b[4m\u001b[38;2;255;238;88mtop-level scope\u001b[24m\u001b[39m\u001b[38;2;237;180;111m):\u001b[39m  \u001b[38;2;138;190;255mFAILED\u001b[39m \n",
      "  \u001b[2m\u001b[38;2;255;167;38m│\u001b[22m\u001b[39m \n",
      "  \u001b[2m\u001b[38;2;255;167;38m│\u001b[22m\u001b[39m \u001b[2m\u001b[38;2;206;147;216m(MathOptInterface.TerminationStatusCode)\u001b[22m\u001b[39m  \u001b[2m\u001b[38;2;255;167;38m▶\u001b[22m\u001b[39m  \u001b[1m\u001b[38;2;255;153;89mtermination_status(control_model)\u001b[22m\u001b[39m \u001b[1m\u001b[31m=\u001b[22m\u001b[39m LOCALLY_INFEASIBLE \n",
      "  \u001b[2m\u001b[38;2;255;167;38m│\u001b[22m\u001b[39m \u001b[2m\u001b[38;2;206;147;216m(String)\u001b[22m\u001b[39m                                  \u001b[2m\u001b[38;2;255;167;38m▶\u001b[22m\u001b[39m  \u001b[1m\u001b[38;2;255;153;89mtrack_name\u001b[22m\u001b[39m                        \u001b[1m\u001b[31m=\u001b[22m\u001b[39m \u001b[38;2;165;214;167msine_chirp\u001b[39m \n",
      "  \u001b[2m\u001b[38;2;255;167;38m│\u001b[22m\u001b[39m \u001b[2m\u001b[38;2;206;147;216m(Bicycle)\u001b[22m\u001b[39m                                 \u001b[2m\u001b[38;2;255;167;38m▶\u001b[22m\u001b[39m  \u001b[1m\u001b[38;2;255;153;89mbike\u001b[22m\u001b[39m                              \u001b[1m\u001b[31m=\u001b[22m\u001b[39m Bicycle(2.85, 2.0, 4.85, 2.0, 23, 141.47, 4000.0, 0.8, 16, \"#37474F\", \"#00ACC1\", 8, \"#78909C\") \n",
      "  \u001b[1m\u001b[2m\u001b[38;2;255;167;38m╰────────────────────────────────────────────────\u001b[22m\u001b[22m\u001b[39m \n",
      "                      \u001b[2mTue, 24 May 2022\u001b[22m \u001b[1m\u001b[2m\u001b[4m12:12:34\u001b[22m\u001b[22m\u001b[24m \n",
      "\u001b[1m\u001b[4m\u001b[38;2;66;165;245m@Info\u001b[22m\u001b[24m\u001b[39m \u001b[38;2;237;180;111m(Main.\u001b[4m\u001b[38;2;255;238;88mtop-level scope\u001b[24m\u001b[39m\u001b[38;2;237;180;111m):\u001b[39m  \u001b[38;2;138;190;255mDoing bike 15/81\u001b[39m"
     ]
    },
    {
     "name": "stdout",
     "output_type": "stream",
     "text": [
      " \n",
      "  \u001b[1m\u001b[2m\u001b[38;2;66;165;245m╰────────────────────────────────────────────────\u001b[22m\u001b[22m\u001b[39m \n",
      "                      \u001b[2mTue, 24 May 2022\u001b[22m \u001b[1m\u001b[2m\u001b[4m12:14:06\u001b[22m\u001b[22m\u001b[24m \n"
     ]
    },
    {
     "name": "stdout",
     "output_type": "stream",
     "text": [
      "\u001b[1m\u001b[4m\u001b[38;2;255;167;38m@Warn\u001b[22m\u001b[24m\u001b[39m \u001b[38;2;237;180;111m(Main.\u001b[4m\u001b[38;2;255;238;88mtop-level scope\u001b[24m\u001b[39m\u001b[38;2;237;180;111m):\u001b[39m  \u001b[38;2;138;190;255mFAILED\u001b[39m \n",
      "  \u001b[2m\u001b[38;2;255;167;38m│\u001b[22m\u001b[39m \n",
      "  \u001b[2m\u001b[38;2;255;167;38m│\u001b[22m\u001b[39m \u001b[2m\u001b[38;2;206;147;216m(MathOptInterface.TerminationStatusCode)\u001b[22m\u001b[39m  \u001b[2m\u001b[38;2;255;167;38m▶\u001b[22m\u001b[39m  \u001b[1m\u001b[38;2;255;153;89mtermination_status(control_model)\u001b[22m\u001b[39m \u001b[1m\u001b[31m=\u001b[22m\u001b[39m LOCALLY_INFEASIBLE \n",
      "  \u001b[2m\u001b[38;2;255;167;38m│\u001b[22m\u001b[39m \u001b[2m\u001b[38;2;206;147;216m(String)\u001b[22m\u001b[39m                                  \u001b[2m\u001b[38;2;255;167;38m▶\u001b[22m\u001b[39m  \u001b[1m\u001b[38;2;255;153;89mtrack_name\u001b[22m\u001b[39m                        \u001b[1m\u001b[31m=\u001b[22m\u001b[39m \u001b[38;2;165;214;167mcosine_chirp\u001b[39m \n",
      "  \u001b[2m\u001b[38;2;255;167;38m│\u001b[22m\u001b[39m \u001b[2m\u001b[38;2;206;147;216m(Bicycle)\u001b[22m\u001b[39m                                 \u001b[2m\u001b[38;2;255;167;38m▶\u001b[22m\u001b[39m  \u001b[1m\u001b[38;2;255;153;89mbike\u001b[22m\u001b[39m                              \u001b[1m\u001b[31m=\u001b[22m\u001b[39m Bicycle(2.85, 2.0, 4.85, 2.0, 23, 141.47, 4200.0, 0.8, 16, \"#37474F\", \"#00ACC1\", 8, \"#78909C\") \n",
      "  \u001b[1m\u001b[2m\u001b[38;2;255;167;38m╰────────────────────────────────────────────────\u001b[22m\u001b[22m\u001b[39m \n",
      "                      \u001b[2mTue, 24 May 2022\u001b[22m \u001b[1m\u001b[2m\u001b[4m12:15:28\u001b[22m\u001b[22m\u001b[24m \n",
      "\u001b[1m\u001b[4m\u001b[38;2;255;167;38m@Warn\u001b[22m\u001b[24m\u001b[39m \u001b[38;2;237;180;111m(Main.\u001b[4m\u001b[38;2;255;238;88mtop-level scope\u001b[24m\u001b[39m\u001b[38;2;237;180;111m):\u001b[39m  \u001b[38;2;138;190;255mFAILED\u001b[39m"
     ]
    },
    {
     "name": "stdout",
     "output_type": "stream",
     "text": [
      " \n",
      "  \u001b[2m\u001b[38;2;255;167;38m│\u001b[22m\u001b[39m \n",
      "  \u001b[2m\u001b[38;2;255;167;38m│\u001b[22m\u001b[39m \u001b[2m\u001b[38;2;206;147;216m(MathOptInterface.TerminationStatusCode)\u001b[22m\u001b[39m  \u001b[2m\u001b[38;2;255;167;38m▶\u001b[22m\u001b[39m  \u001b[1m\u001b[38;2;255;153;89mtermination_status(control_model)\u001b[22m\u001b[39m \u001b[1m\u001b[31m=\u001b[22m\u001b[39m LOCALLY_INFEASIBLE \n",
      "  \u001b[2m\u001b[38;2;255;167;38m│\u001b[22m\u001b[39m \u001b[2m\u001b[38;2;206;147;216m(String)\u001b[22m\u001b[39m                                  \u001b[2m\u001b[38;2;255;167;38m▶\u001b[22m\u001b[39m  \u001b[1m\u001b[38;2;255;153;89mtrack_name\u001b[22m\u001b[39m                        \u001b[1m\u001b[31m=\u001b[22m\u001b[39m \u001b[38;2;165;214;167msine_chirp\u001b[39m \n",
      "  \u001b[2m\u001b[38;2;255;167;38m│\u001b[22m\u001b[39m \u001b[2m\u001b[38;2;206;147;216m(Bicycle)\u001b[22m\u001b[39m                                 \u001b[2m\u001b[38;2;255;167;38m▶\u001b[22m\u001b[39m  \u001b[1m\u001b[38;2;255;153;89mbike\u001b[22m\u001b[39m                              \u001b[1m\u001b[31m=\u001b[22m\u001b[39m Bicycle(2.85, 2.0, 4.85, 2.0, 23, 141.47, 4200.0, 0.8, 16, \"#37474F\", \"#00ACC1\", 8, \"#78909C\") \n",
      "  \u001b[1m\u001b[2m\u001b[38;2;255;167;38m╰────────────────────────────────────────────────\u001b[22m\u001b[22m\u001b[39m \n",
      "                      \u001b[2mTue, 24 May 2022\u001b[22m \u001b[1m\u001b[2m\u001b[4m12:17:58\u001b[22m\u001b[22m\u001b[24m \n"
     ]
    },
    {
     "name": "stdout",
     "output_type": "stream",
     "text": [
      "\u001b[1m\u001b[4m\u001b[38;2;66;165;245m@Info\u001b[22m\u001b[24m\u001b[39m \u001b[38;2;237;180;111m(Main.\u001b[4m\u001b[38;2;255;238;88mtop-level scope\u001b[24m\u001b[39m\u001b[38;2;237;180;111m):\u001b[39m  \u001b[38;2;138;190;255mDoing bike 16/81\u001b[39m \n",
      "  \u001b[1m\u001b[2m\u001b[38;2;66;165;245m╰────────────────────────────────────────────────\u001b[22m\u001b[22m\u001b[39m \n",
      "                      \u001b[2mTue, 24 May 2022\u001b[22m \u001b[1m\u001b[2m\u001b[4m12:19:50\u001b[22m\u001b[22m\u001b[24m \n",
      "\u001b[1m\u001b[4m\u001b[38;2;255;167;38m@Warn\u001b[22m\u001b[24m\u001b[39m \u001b[38;2;237;180;111m(Main.\u001b[4m\u001b[38;2;255;238;88mtop-level scope\u001b[24m\u001b[39m\u001b[38;2;237;180;111m):\u001b[39m  \u001b[38;2;138;190;255mFAILED\u001b[39m"
     ]
    },
    {
     "name": "stdout",
     "output_type": "stream",
     "text": [
      " \n",
      "  \u001b[2m\u001b[38;2;255;167;38m│\u001b[22m\u001b[39m \n",
      "  \u001b[2m\u001b[38;2;255;167;38m│\u001b[22m\u001b[39m \u001b[2m\u001b[38;2;206;147;216m(MathOptInterface.TerminationStatusCode)\u001b[22m\u001b[39m  \u001b[2m\u001b[38;2;255;167;38m▶\u001b[22m\u001b[39m  \u001b[1m\u001b[38;2;255;153;89mtermination_status(control_model)\u001b[22m\u001b[39m \u001b[1m\u001b[31m=\u001b[22m\u001b[39m LOCALLY_INFEASIBLE \n",
      "  \u001b[2m\u001b[38;2;255;167;38m│\u001b[22m\u001b[39m \u001b[2m\u001b[38;2;206;147;216m(String)\u001b[22m\u001b[39m                                  \u001b[2m\u001b[38;2;255;167;38m▶\u001b[22m\u001b[39m  \u001b[1m\u001b[38;2;255;153;89mtrack_name\u001b[22m\u001b[39m                        \u001b[1m\u001b[31m=\u001b[22m\u001b[39m \u001b[38;2;165;214;167mcosine_chirp\u001b[39m \n",
      "  \u001b[2m\u001b[38;2;255;167;38m│\u001b[22m\u001b[39m \u001b[2m\u001b[38;2;206;147;216m(Bicycle)\u001b[22m\u001b[39m                                 \u001b[2m\u001b[38;2;255;167;38m▶\u001b[22m\u001b[39m  \u001b[1m\u001b[38;2;255;153;89mbike\u001b[22m\u001b[39m                              \u001b[1m\u001b[31m=\u001b[22m\u001b[39m Bicycle(2.85, 2.0, 4.85, 2.1, 23, 141.47, 3800.0, 0.8, 16, \"#37474F\", \"#00ACC1\", 8, \"#78909C\") \n",
      "  \u001b[1m\u001b[2m\u001b[38;2;255;167;38m╰────────────────────────────────────────────────\u001b[22m\u001b[22m\u001b[39m \n",
      "                      \u001b[2mTue, 24 May 2022\u001b[22m \u001b[1m\u001b[2m\u001b[4m12:21:41\u001b[22m\u001b[22m\u001b[24m \n"
     ]
    },
    {
     "name": "stdout",
     "output_type": "stream",
     "text": [
      "\u001b[1m\u001b[4m\u001b[38;2;255;167;38m@Warn\u001b[22m\u001b[24m\u001b[39m \u001b[38;2;237;180;111m(Main.\u001b[4m\u001b[38;2;255;238;88mtop-level scope\u001b[24m\u001b[39m\u001b[38;2;237;180;111m):\u001b[39m  \u001b[38;2;138;190;255mFAILED\u001b[39m \n",
      "  \u001b[2m\u001b[38;2;255;167;38m│\u001b[22m\u001b[39m \n",
      "  \u001b[2m\u001b[38;2;255;167;38m│\u001b[22m\u001b[39m \u001b[2m\u001b[38;2;206;147;216m(MathOptInterface.TerminationStatusCode)\u001b[22m\u001b[39m  \u001b[2m\u001b[38;2;255;167;38m▶\u001b[22m\u001b[39m  \u001b[1m\u001b[38;2;255;153;89mtermination_status(control_model)\u001b[22m\u001b[39m \u001b[1m\u001b[31m=\u001b[22m\u001b[39m LOCALLY_INFEASIBLE \n",
      "  \u001b[2m\u001b[38;2;255;167;38m│\u001b[22m\u001b[39m \u001b[2m\u001b[38;2;206;147;216m(String)\u001b[22m\u001b[39m                                  \u001b[2m\u001b[38;2;255;167;38m▶\u001b[22m\u001b[39m  \u001b[1m\u001b[38;2;255;153;89mtrack_name\u001b[22m\u001b[39m                        \u001b[1m\u001b[31m=\u001b[22m\u001b[39m \u001b[38;2;165;214;167msine_chirp\u001b[39m \n",
      "  \u001b[2m\u001b[38;2;255;167;38m│\u001b[22m\u001b[39m \u001b[2m\u001b[38;2;206;147;216m(Bicycle)\u001b[22m\u001b[39m                                 \u001b[2m\u001b[38;2;255;167;38m▶\u001b[22m\u001b[39m  \u001b[1m\u001b[38;2;255;153;89mbike\u001b[22m\u001b[39m                              \u001b[1m\u001b[31m=\u001b[22m\u001b[39m Bicycle(2.85, 2.0, 4.85, 2.1, 23, 141.47, 3800.0, 0.8, 16, \"#37474F\", \"#00ACC1\", 8, \"#78909C\") \n",
      "  \u001b[1m\u001b[2m\u001b[38;2;255;167;38m╰────────────────────────────────────────────────\u001b[22m\u001b[22m\u001b[39m \n",
      "                      \u001b[2mTue, 24 May 2022\u001b[22m \u001b[1m\u001b[2m\u001b[4m12:24:08\u001b[22m\u001b[22m\u001b[24m \n",
      "\u001b[1m\u001b[4m\u001b[38;2;66;165;245m@Info\u001b[22m\u001b[24m\u001b[39m \u001b[38;2;237;180;111m(Main.\u001b[4m\u001b[38;2;255;238;88mtop-level scope\u001b[24m\u001b[39m\u001b[38;2;237;180;111m):\u001b[39m  \u001b[38;2;138;190;255mDoing bike 17/81\u001b[39m"
     ]
    },
    {
     "name": "stdout",
     "output_type": "stream",
     "text": [
      " \n",
      "  \u001b[1m\u001b[2m\u001b[38;2;66;165;245m╰────────────────────────────────────────────────\u001b[22m\u001b[22m\u001b[39m \n",
      "                      \u001b[2mTue, 24 May 2022\u001b[22m \u001b[1m\u001b[2m\u001b[4m12:25:53\u001b[22m\u001b[22m\u001b[24m \n"
     ]
    },
    {
     "name": "stdout",
     "output_type": "stream",
     "text": [
      "\u001b[1m\u001b[4m\u001b[38;2;255;167;38m@Warn\u001b[22m\u001b[24m\u001b[39m \u001b[38;2;237;180;111m(Main.\u001b[4m\u001b[38;2;255;238;88mtop-level scope\u001b[24m\u001b[39m\u001b[38;2;237;180;111m):\u001b[39m  \u001b[38;2;138;190;255mFAILED\u001b[39m \n",
      "  \u001b[2m\u001b[38;2;255;167;38m│\u001b[22m\u001b[39m \n",
      "  \u001b[2m\u001b[38;2;255;167;38m│\u001b[22m\u001b[39m \u001b[2m\u001b[38;2;206;147;216m(MathOptInterface.TerminationStatusCode)\u001b[22m\u001b[39m  \u001b[2m\u001b[38;2;255;167;38m▶\u001b[22m\u001b[39m  \u001b[1m\u001b[38;2;255;153;89mtermination_status(control_model)\u001b[22m\u001b[39m \u001b[1m\u001b[31m=\u001b[22m\u001b[39m LOCALLY_INFEASIBLE \n",
      "  \u001b[2m\u001b[38;2;255;167;38m│\u001b[22m\u001b[39m \u001b[2m\u001b[38;2;206;147;216m(String)\u001b[22m\u001b[39m                                  \u001b[2m\u001b[38;2;255;167;38m▶\u001b[22m\u001b[39m  \u001b[1m\u001b[38;2;255;153;89mtrack_name\u001b[22m\u001b[39m                        \u001b[1m\u001b[31m=\u001b[22m\u001b[39m \u001b[38;2;165;214;167mcosine_chirp\u001b[39m \n",
      "  \u001b[2m\u001b[38;2;255;167;38m│\u001b[22m\u001b[39m \u001b[2m\u001b[38;2;206;147;216m(Bicycle)\u001b[22m\u001b[39m                                 \u001b[2m\u001b[38;2;255;167;38m▶\u001b[22m\u001b[39m  \u001b[1m\u001b[38;2;255;153;89mbike\u001b[22m\u001b[39m                              \u001b[1m\u001b[31m=\u001b[22m\u001b[39m Bicycle(2.85, 2.0, 4.85, 2.1, 23, 141.47, 4000.0, 0.8, 16, \"#37474F\", \"#00ACC1\", 8, \"#78909C\") \n",
      "  \u001b[1m\u001b[2m\u001b[38;2;255;167;38m╰────────────────────────────────────────────────\u001b[22m\u001b[22m\u001b[39m \n",
      "                      \u001b[2mTue, 24 May 2022\u001b[22m \u001b[1m\u001b[2m\u001b[4m12:27:28\u001b[22m\u001b[22m\u001b[24m \n",
      "\u001b[1m\u001b[4m\u001b[38;2;255;167;38m@Warn\u001b[22m\u001b[24m\u001b[39m \u001b[38;2;237;180;111m(Main.\u001b[4m\u001b[38;2;255;238;88mtop-level scope\u001b[24m\u001b[39m\u001b[38;2;237;180;111m):\u001b[39m  \u001b[38;2;138;190;255mFAILED\u001b[39m"
     ]
    },
    {
     "name": "stdout",
     "output_type": "stream",
     "text": [
      " \n",
      "  \u001b[2m\u001b[38;2;255;167;38m│\u001b[22m\u001b[39m \n",
      "  \u001b[2m\u001b[38;2;255;167;38m│\u001b[22m\u001b[39m \u001b[2m\u001b[38;2;206;147;216m(MathOptInterface.TerminationStatusCode)\u001b[22m\u001b[39m  \u001b[2m\u001b[38;2;255;167;38m▶\u001b[22m\u001b[39m  \u001b[1m\u001b[38;2;255;153;89mtermination_status(control_model)\u001b[22m\u001b[39m \u001b[1m\u001b[31m=\u001b[22m\u001b[39m LOCALLY_INFEASIBLE \n",
      "  \u001b[2m\u001b[38;2;255;167;38m│\u001b[22m\u001b[39m \u001b[2m\u001b[38;2;206;147;216m(String)\u001b[22m\u001b[39m                                  \u001b[2m\u001b[38;2;255;167;38m▶\u001b[22m\u001b[39m  \u001b[1m\u001b[38;2;255;153;89mtrack_name\u001b[22m\u001b[39m                        \u001b[1m\u001b[31m=\u001b[22m\u001b[39m \u001b[38;2;165;214;167msine_chirp\u001b[39m \n",
      "  \u001b[2m\u001b[38;2;255;167;38m│\u001b[22m\u001b[39m \u001b[2m\u001b[38;2;206;147;216m(Bicycle)\u001b[22m\u001b[39m                                 \u001b[2m\u001b[38;2;255;167;38m▶\u001b[22m\u001b[39m  \u001b[1m\u001b[38;2;255;153;89mbike\u001b[22m\u001b[39m                              \u001b[1m\u001b[31m=\u001b[22m\u001b[39m Bicycle(2.85, 2.0, 4.85, 2.1, 23, 141.47, 4000.0, 0.8, 16, \"#37474F\", \"#00ACC1\", 8, \"#78909C\") \n",
      "  \u001b[1m\u001b[2m\u001b[38;2;255;167;38m╰────────────────────────────────────────────────\u001b[22m\u001b[22m\u001b[39m \n",
      "                      \u001b[2mTue, 24 May 2022\u001b[22m \u001b[1m\u001b[2m\u001b[4m12:30:08\u001b[22m\u001b[22m\u001b[24m \n"
     ]
    },
    {
     "name": "stdout",
     "output_type": "stream",
     "text": [
      "\u001b[1m\u001b[4m\u001b[38;2;66;165;245m@Info\u001b[22m\u001b[24m\u001b[39m \u001b[38;2;237;180;111m(Main.\u001b[4m\u001b[38;2;255;238;88mtop-level scope\u001b[24m\u001b[39m\u001b[38;2;237;180;111m):\u001b[39m  \u001b[38;2;138;190;255mDoing bike 18/81\u001b[39m \n",
      "  \u001b[1m\u001b[2m\u001b[38;2;66;165;245m╰────────────────────────────────────────────────\u001b[22m\u001b[22m\u001b[39m \n",
      "                      \u001b[2mTue, 24 May 2022\u001b[22m \u001b[1m\u001b[2m\u001b[4m12:31:59\u001b[22m\u001b[22m\u001b[24m \n",
      "\u001b[1m\u001b[4m\u001b[38;2;255;167;38m@Warn\u001b[22m\u001b[24m\u001b[39m \u001b[38;2;237;180;111m(Main.\u001b[4m\u001b[38;2;255;238;88mtop-level scope\u001b[24m\u001b[39m\u001b[38;2;237;180;111m):\u001b[39m  \u001b[38;2;138;190;255mFAILED\u001b[39m"
     ]
    }
   ],
   "source": [
    "save_fld = \"/Users/federicoclaudi/Dropbox (UCL)/Rotation_vte/Locomotion/analysis/RNN/tracks_mtm_sims\"\n",
    "\n",
    "i = 0\n",
    "for lf in variables_values[:l_f], lr in variables_values[:l_r], w in variables_values[:width], c in variables_values[:c]\n",
    "    bike = Bicycle(\n",
    "        l_f=lf,\n",
    "        l_r=lr,\n",
    "        width=w,\n",
    "        c=c\n",
    "    )\n",
    "    i += 1  \n",
    "    @info \"Doing bike $i/$n_bikes\"\n",
    "\n",
    "\n",
    "    for trackfile in tracks_files\n",
    "        track_name = splitext(splitpath(trackfile)[end])[1]\n",
    "\n",
    "        savepath = joinpath(save_fld, \"$(track_name)_bike_$i.csv\")\n",
    "        isfile(savepath) && return\n",
    "\n",
    "        track = Track(; start_waypoint=4, npyfile=trackfile, const_width=true, track_length=nothing)\n",
    "\n",
    "        _, _, control_model, solution = run_mtm(\n",
    "            :dynamics,  # model type\n",
    "            2.0;  # supports density\n",
    "            showtrials=nothing,\n",
    "            showplots=false,\n",
    "            quiet=true,\n",
    "            bike=bike,\n",
    "            track=track,\n",
    "        )\n",
    "        if \"LOCALLY_SOLVED\" == string(termination_status(control_model))\n",
    "            data = DataFrame(toDict(solution))\n",
    "            CSV.write(savepath, data)\n",
    "        else\n",
    "            @warn \"FAILED\" termination_status(control_model) track_name bike\n",
    "        end\n",
    "        \n",
    "    end\n",
    "end\n"
   ]
  }
 ],
 "metadata": {
  "kernelspec": {
   "display_name": "Julia 1.7.1",
   "language": "julia",
   "name": "julia-1.7"
  },
  "language_info": {
   "file_extension": ".jl",
   "mimetype": "application/julia",
   "name": "julia",
   "version": "1.7.1"
  },
  "orig_nbformat": 4
 },
 "nbformat": 4,
 "nbformat_minor": 2
}
