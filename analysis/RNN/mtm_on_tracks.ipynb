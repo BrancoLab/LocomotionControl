{
 "cells": [
  {
   "cell_type": "code",
   "execution_count": 1,
   "metadata": {},
   "outputs": [
    {
     "name": "stdout",
     "output_type": "stream",
     "text": [
      "\u001b[1m\u001b[4m\u001b[38;2;66;165;245m@Info\u001b[22m\u001b[24m\u001b[39m \u001b[38;2;237;180;111m(Main):\u001b[39m  \u001b[38;2;138;190;255mLoaded 995 trials\u001b[39m \n",
      "  \u001b[1m\u001b[2m\u001b[38;2;66;165;245m╰────────────────────────────────────────────────\u001b[22m\u001b[22m\u001b[39m \n",
      "                      \u001b[2mMon, 30 May 2022\u001b[22m \u001b[1m\u001b[2m\u001b[4m13:52:11\u001b[22m\u001b[22m\u001b[24m \n",
      "\u001b[1m\u001b[4m\u001b[38;2;66;165;245m@Info\u001b[22m\u001b[24m\u001b[39m \u001b[38;2;237;180;111m(Main):\u001b[39m  \u001b[38;2;138;190;255mAfter tortuosity analysis, discarded 8.643% of trials | 909\u001b[0m \n",
      "  \u001b[2m\u001b[38;2;66;165;245m│\u001b[22m\u001b[39m                \u001b[38;2;138;190;255m\u001b[38;2;138;190;255mtrials left\u001b[39m\u001b[0m\u001b[39m \n",
      "  \u001b[1m\u001b[2m\u001b[38;2;66;165;245m╰────────────────────────────────────────────────\u001b[22m\u001b[22m\u001b[39m \n",
      "                      \u001b[2mMon, 30 May 2022\u001b[22m \u001b[1m\u001b[2m\u001b[4m13:52:14\u001b[22m\u001b[22m\u001b[24m \n"
     ]
    },
    {
     "name": "stderr",
     "output_type": "stream",
     "text": [
      "\u001b[32m\u001b[1m  Activating\u001b[22m\u001b[39m project at `C:\\Users\\Federico\\Documents\\GitHub\\pysical_locomotion\\analysis\\behavior`\n",
      "\u001b[32m\u001b[1m    Updating\u001b[22m\u001b[39m registry at `C:\\Users\\Federico\\.julia\\registries\\General.toml`\n",
      "\u001b[32m\u001b[1m   Resolving\u001b[22m\u001b[39m package versions...\n",
      "\u001b[32m\u001b[1m  No Changes\u001b[22m\u001b[39m to `C:\\Users\\Federico\\Documents\\GitHub\\pysical_locomotion\\analysis\\behavior\\Project.toml`\n",
      "\u001b[32m\u001b[1m  No Changes\u001b[22m\u001b[39m to `C:\\Users\\Federico\\Documents\\GitHub\\pysical_locomotion\\analysis\\behavior\\Manifest.toml`\n"
     ]
    }
   ],
   "source": [
    "# Multiple horizons MTM analysis\n",
    "include(\"C:\\\\Users\\\\Federico\\\\Documents\\\\GitHub\\\\pysical_locomotion\\\\analysis\\\\behavior\\\\analysis_fixtures.jl\")\n",
    "include(\"C:\\\\Users\\\\Federico\\\\Documents\\\\GitHub\\\\pysical_locomotion\\\\analysis\\\\behavior\\\\analysis_visuals.jl\")\n",
    "Pkg.add(\"IterTools\")\n",
    "import jcontrol as jc\n",
    "using Printf\n",
    "import jcontrol.control: default_control_options\n",
    "import jcontrol.bicycle: Bicycle\n",
    "import IterTools: product as ×\n",
    "import jcontrol: Track, toDict\n",
    "import InfiniteOpt: termination_status\n",
    "\n",
    "import jcontrol.Run: run_mtm"
   ]
  },
  {
   "cell_type": "markdown",
   "metadata": {},
   "source": [
    "# MTM on track\n",
    "Solve the MTM prolblem on a bunch of tracks and with slightly different models paramters to created data to use for training RNNs.\n",
    "\n",
    "## Create bikes with different parameters"
   ]
  },
  {
   "cell_type": "code",
   "execution_count": 2,
   "metadata": {},
   "outputs": [
    {
     "data": {
      "text/plain": [
       "81"
      ]
     },
     "metadata": {},
     "output_type": "display_data"
    }
   ],
   "source": [
    "default_bike = Bicycle()\n",
    "variables = (:l_f, :l_r, :width, :c)\n",
    "\n",
    "σ = .05\n",
    "n = 3\n",
    "\n",
    "defaults = Dict(v=>getfield(default_bike, v) for v in variables)\n",
    "variables_values = Dict(\n",
    "    v => collect(range(defaults[v]-σ*defaults[v], stop=defaults[v]+σ*defaults[v], length=n)) for v in variables\n",
    ")\n",
    "\n",
    "n_bikes = length(collect(×(values(variables_values)...)))"
   ]
  },
  {
   "cell_type": "markdown",
   "metadata": {},
   "source": [
    "## Load tracks"
   ]
  },
  {
   "cell_type": "code",
   "execution_count": 3,
   "metadata": {},
   "outputs": [
    {
     "data": {
      "text/plain": [
       "25"
      ]
     },
     "metadata": {},
     "output_type": "display_data"
    }
   ],
   "source": [
    "# fld = \"/Users/federicoclaudi/Documents/Github/LocomotionControl/analysis/RNN/tracks\"\n",
    "fld = \"C:\\\\Users\\\\Federico\\\\Documents\\\\GitHub\\\\pysical_locomotion\\\\analysis\\\\RNN\\\\tracks\"\n",
    "tracks_files = glob(\"F1_*.npy\", fld)\n",
    "n_tracks = length(tracks_files)"
   ]
  },
  {
   "cell_type": "code",
   "execution_count": 4,
   "metadata": {},
   "outputs": [
    {
     "name": "stdout",
     "output_type": "stream",
     "text": [
      "Tot number of simulations = 2025 || Duration 33.75 hours"
     ]
    }
   ],
   "source": [
    "N = length(\n",
    "    ×(\n",
    "        values(variables_values)...,\n",
    "        tracks_files\n",
    "    )\n",
    ")\n",
    "\n",
    "dur_h = round(N / 60; digits=2)\n",
    "\n",
    "print(\n",
    "    \"Tot number of simulations = $N || Duration $(dur_h) hours\"\n",
    ")"
   ]
  },
  {
   "cell_type": "markdown",
   "metadata": {},
   "source": [
    "## Simulate all"
   ]
  },
  {
   "cell_type": "code",
   "execution_count": 5,
   "metadata": {},
   "outputs": [
    {
     "data": {
      "text/plain": [
       "Dict{String, Track} with 25 entries:\n",
       "  \"F1_IMS\"           => Track. \u001b[2m1996.0 cm long, 100001 waypoints.\u001b[0m\n",
       "  \"F1_Sakhir\"        => Track. \u001b[2m2685.0 cm long, 100001 waypoints.\u001b[0m\n",
       "  \"F1_Silverstone\"   => Track. \u001b[2m2926.0 cm long, 100001 waypoints.\u001b[0m\n",
       "  \"F1_YasMarina\"     => Track. \u001b[2m2753.0 cm long, 100001 waypoints.\u001b[0m\n",
       "  \"F1_Spa\"           => Track. \u001b[2m3483.0 cm long, 100001 waypoints.\u001b[0m\n",
       "  \"F1_Spielberg\"     => Track. \u001b[2m2141.0 cm long, 100001 waypoints.\u001b[0m\n",
       "  \"F1_MoscowRaceway\" => Track. \u001b[2m2013.0 cm long, 100001 waypoints.\u001b[0m\n",
       "  \"F1_Shanghai\"      => Track. \u001b[2m2704.0 cm long, 100001 waypoints.\u001b[0m\n",
       "  \"F1_Sochi\"         => Track. \u001b[2m2903.0 cm long, 100001 waypoints.\u001b[0m\n",
       "  \"F1_Norisring\"     => Track. \u001b[2m1131.0 cm long, 100001 waypoints.\u001b[0m\n",
       "  \"F1_Suzuka\"        => Track. \u001b[2m2885.0 cm long, 100001 waypoints.\u001b[0m\n",
       "  \"F1_Sepang\"        => Track. \u001b[2m2751.0 cm long, 100001 waypoints.\u001b[0m\n",
       "  \"F1_MexicoCity\"    => Track. \u001b[2m2130.0 cm long, 100001 waypoints.\u001b[0m\n",
       "  \"F1_Monza\"         => Track. \u001b[2m2878.0 cm long, 100001 waypoints.\u001b[0m\n",
       "  \"F1_SaoPaulo\"      => Track. \u001b[2m2135.0 cm long, 100001 waypoints.\u001b[0m\n",
       "  \"F1_Nuerburgring\"  => Track. \u001b[2m2555.0 cm long, 100001 waypoints.\u001b[0m\n",
       "  \"F1_BrandsHatch\"   => Track. \u001b[2m1936.0 cm long, 100001 waypoints.\u001b[0m\n",
       "  \"F1_Catalunya\"     => Track. \u001b[2m2307.0 cm long, 100001 waypoints.\u001b[0m\n",
       "  \"F1_Budapest\"      => Track. \u001b[2m2171.0 cm long, 100001 waypoints.\u001b[0m\n",
       "  ⋮                  => ⋮"
      ]
     },
     "metadata": {},
     "output_type": "display_data"
    }
   ],
   "source": [
    "tname(trackfile) = splitext(splitpath(trackfile)[end])[1]\n",
    "_tracks = Dict(tname(f) => Track(; start_waypoint=4, npyfile=f, const_width=true, track_length=nothing) for f in tracks_files)\n"
   ]
  },
  {
   "cell_type": "code",
   "execution_count": 6,
   "metadata": {},
   "outputs": [],
   "source": [
    "# save_fld = \"/Users/federicoclaudi/Dropbox (UCL)/Rotation_vte/Locomotion/analysis/RNN/tracks_mtm_sims\"\n",
    "save_fld = \"D:\\\\Dropbox (UCL)\\\\Rotation_vte\\\\Locomotion\\\\analysis\\\\RNN\\\\tracks_mtm_sims\"\n",
    "\n",
    "\n",
    "i = 0\n",
    "for lf in variables_values[:l_f], lr in variables_values[:l_r], w in variables_values[:width], c in variables_values[:c]\n",
    "    bike = Bicycle(\n",
    "        l_f=lf,\n",
    "        l_r=lr,\n",
    "        width=w,\n",
    "        c=c\n",
    "    )\n",
    "    i += 1  \n",
    "\n",
    "\n",
    "    for trackfile in tracks_files\n",
    "        track_name = tname(trackfile)\n",
    "        savepath = joinpath(save_fld, \"$(track_name)_bike_$i.csv\")\n",
    "        isfile(savepath) && begin\n",
    "            # @info \"skipping $track_name with bike i\"\n",
    "            continue\n",
    "        end\n",
    "        println(\"Doing track $(track_name)\")\n",
    "        track = _tracks[track_name]\n",
    "\n",
    "        _, _, control_model, solution = run_mtm(\n",
    "            :dynamics,  # model type\n",
    "            2.0;  # supports density\n",
    "            showtrials=nothing,\n",
    "            showplots=false,\n",
    "            quiet=false,\n",
    "            bike=bike,\n",
    "            track=track,\n",
    "            n_iter=100000,\n",
    "        )\n",
    "\n",
    "        if \"LOCALLY_SOLVED\" == string(termination_status(control_model))\n",
    "            data = DataFrame(toDict(solution))\n",
    "            CSV.write(savepath, data)\n",
    "        else\n",
    "            @warn \"FAILED\" termination_status(control_model) track_name bike\n",
    "        end\n",
    "    end\n",
    "end\n"
   ]
  }
 ],
 "metadata": {
  "kernelspec": {
   "display_name": "Julia 1.7.2",
   "language": "julia",
   "name": "julia-1.7"
  },
  "language_info": {
   "file_extension": ".jl",
   "mimetype": "application/julia",
   "name": "julia",
   "version": "1.7.2"
  },
  "orig_nbformat": 4
 },
 "nbformat": 4,
 "nbformat_minor": 2
}
