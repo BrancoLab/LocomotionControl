{
 "cells": [
  {
   "cell_type": "code",
   "execution_count": 95,
   "metadata": {},
   "outputs": [
    {
     "name": "stdout",
     "output_type": "stream",
     "text": [
      "\u001b[1m\u001b[4m\u001b[38;2;66;165;245m@Info\u001b[22m\u001b[24m\u001b[39m \u001b[38;2;237;180;111m(Main):\u001b[39m  \u001b[38;2;138;190;255mLoaded 995 trials\u001b[39m \n",
      "  \u001b[1m\u001b[2m\u001b[38;2;66;165;245m╰────────────────────────────────────────────────\u001b[22m\u001b[22m\u001b[39m \n",
      "                      \u001b[2mTue, 31 May 2022\u001b[22m \u001b[1m\u001b[2m\u001b[4m13:46:43\u001b[22m\u001b[22m\u001b[24m \n",
      "\u001b[1m\u001b[4m\u001b[38;2;66;165;245m@Info\u001b[22m\u001b[24m\u001b[39m \u001b[38;2;237;180;111m(Main):\u001b[39m  \u001b[38;2;138;190;255mAfter tortuosity analysis, discarded 8.643% of trials | 909\u001b[0m \n",
      "  \u001b[2m\u001b[38;2;66;165;245m│\u001b[22m\u001b[39m                \u001b[38;2;138;190;255m\u001b[38;2;138;190;255mtrials left\u001b[39m\u001b[0m\u001b[39m \n",
      "  \u001b[1m\u001b[2m\u001b[38;2;66;165;245m╰────────────────────────────────────────────────\u001b[22m\u001b[22m\u001b[39m \n",
      "                      \u001b[2mTue, 31 May 2022\u001b[22m \u001b[1m\u001b[2m\u001b[4m13:46:43\u001b[22m\u001b[22m\u001b[24m \n"
     ]
    },
    {
     "name": "stderr",
     "output_type": "stream",
     "text": [
      "\u001b[32m\u001b[1m  Activating\u001b[22m\u001b[39m project at `C:\\Users\\Federico\\Documents\\GitHub\\pysical_locomotion\\analysis\\behavior`\n"
     ]
    }
   ],
   "source": [
    "# activate package, basic imports + load data\n",
    "include(\"C:\\\\Users\\\\Federico\\\\Documents\\\\GitHub\\\\pysical_locomotion\\\\analysis\\\\behavior\\\\analysis_fixtures.jl\")\n",
    "include(\"C:\\\\Users\\\\Federico\\\\Documents\\\\GitHub\\\\pysical_locomotion\\\\analysis\\\\behavior\\\\analysis_visuals.jl\")\n",
    "using Dierckx\n",
    "\n",
    "import jcontrol: State, movingaverage\n",
    "import jcontrol: Δ"
   ]
  },
  {
   "cell_type": "markdown",
   "metadata": {},
   "source": [
    "## Generate dataset for RNN training\n",
    "It takes the tracking data processed through the Julia behavior analysis code and creates a dataset for training an RNN on.\n",
    "\n",
    "The frist step is to get the trial's trajectory in the track's curvilinear coordinates system and to upsample the data so that they are\n",
    "expressed at an arbitrary framerate $\\Delta t$.\n",
    "\n",
    "Next, we sample `N` random time points from each trial and take the next `T` seconds of the trial as a training sample (to avoid training over an entire trial).\n",
    "Then, at each frame in the selected chunk of trial we get the track's curvature at each $\\Delta s$ point from the mouse's current position to `S` cm later."
   ]
  },
  {
   "cell_type": "code",
   "execution_count": 96,
   "metadata": {},
   "outputs": [
    {
     "name": "stdout",
     "output_type": "stream",
     "text": [
      "\u001b[1m\u001b[4m\u001b[38;2;66;165;245m@Info\u001b[22m\u001b[24m\u001b[39m \u001b[38;2;237;180;111m(Main):\u001b[39m  \u001b[38;2;138;190;255mn samples per trial\u001b[39m \n",
      "  \u001b[2m\u001b[38;2;66;165;245m│\u001b[22m\u001b[39m \n",
      "  \u001b[2m\u001b[38;2;66;165;245m│\u001b[22m\u001b[39m \u001b[2m\u001b[38;2;206;147;216m(Int64)\u001b[22m\u001b[39m  \u001b[2m\u001b[38;2;66;165;245m▶\u001b[22m\u001b[39m  \u001b[1m\u001b[38;2;255;153;89mn_samples_chunk\u001b[22m\u001b[39m \u001b[1m\u001b[31m=\u001b[22m\u001b[39m \u001b[38;2;66;165;245m150\u001b[39m \n",
      "  \u001b[1m\u001b[2m\u001b[38;2;66;165;245m╰────────────────────────────────────────────────\u001b[22m\u001b[22m\u001b[39m \n",
      "                      \u001b[2mTue, 31 May 2022\u001b[22m \u001b[1m\u001b[2m\u001b[4m13:46:44\u001b[22m\u001b[22m\u001b[24m \n"
     ]
    }
   ],
   "source": [
    "# PARAMS\n",
    "Δt = 0.005  # time step duration of upsampled trial\n",
    "N = 5    # number of chunks per trial\n",
    "T = .75  # duration of each trial \"chunk\" for training\n",
    "Δs = 5  # distance between sampling's of the track's curvature\n",
    "S = 0   # lookahead distance for track's curvature.\n",
    "\n",
    "SELECT_N_TRIALS = length(trials)\n",
    "\n",
    "int = (Int ∘ round)\n",
    "n_samples_chunk = int(T/Δt)\n",
    "@info \"n samples per trial\" n_samples_chunk"
   ]
  },
  {
   "cell_type": "markdown",
   "metadata": {},
   "source": [
    "### Prepare tracking data\n",
    "Load tracking data, turn into track's curvilinear coordinates and upsample"
   ]
  },
  {
   "cell_type": "code",
   "execution_count": 97,
   "metadata": {},
   "outputs": [
    {
     "data": {
      "text/plain": [
       "CurvilinearCoordsTrials"
      ]
     },
     "metadata": {},
     "output_type": "display_data"
    }
   ],
   "source": [
    "\n",
    "function upsample_framerate(x, Δt)\n",
    "    t_original = 0:1/60:(length(x)/60 + 1)\n",
    "\n",
    "    t_original = t_original[1:length(x)]\n",
    "\n",
    "    t_upsample = 0:Δt:(t_original[end])\n",
    "\n",
    "    spl = Spline1D(t_original, x; k=1) # k: order of interpolant; can be between 1-5\n",
    "    return spl(t_upsample)\n",
    "end\n",
    "\n",
    "\n",
    "\"\"\"\n",
    "Represents a single trial but in curvilinear coordinates space and with\n",
    "upsampled framerate.\n",
    "\"\"\"\n",
    "mutable struct CurvilinearCoordsTrials\n",
    "    x::Vector\n",
    "    y::Vector\n",
    "    θ::Vector\n",
    "    s::Vector\n",
    "    n::Vector\n",
    "    ψ::Vector\n",
    "    V::Vector  # velocity vector: V = √(v² + u²)\n",
    "    ω::Vector\n",
    "    V̇::Vector  # acceleration\n",
    "    ω̇::Vector  # angular acceleration\n",
    "    t::Vector  # time\n",
    "end\n",
    "\n",
    "function CurvilinearCoordsTrials(states::Vector{State}, frames)\n",
    "    v = movingaverage(\n",
    "        upsample_framerate(sqrt.(getfield.(states, :v).^2 + getfield.(states, :u).^2), Δt),\n",
    "        21\n",
    "    )\n",
    "    ω = movingaverage(\n",
    "        upsample_framerate(getfield.(states, :ω), Δt),\n",
    "        21\n",
    "    )\n",
    "\n",
    "    v̇ = movingaverage(Δ(v), 21) / Δt\n",
    "    ω̇ = movingaverage(Δ(ω), 21) / Δt\n",
    "    # v̇, ω̇ = Δ(v) ./ Δt, Δ(ω) ./ Δt\n",
    "\n",
    "    time = frames ./ 60\n",
    "\n",
    "    return CurvilinearCoordsTrials(\n",
    "        upsample_framerate(getfield.(states, :x), Δt),\n",
    "        upsample_framerate(getfield.(states, :y), Δt),    \n",
    "        upsample_framerate(getfield.(states, :θ), Δt),    \n",
    "        upsample_framerate(getfield.(states, :s), Δt),\n",
    "        upsample_framerate(getfield.(states, :n), Δt),\n",
    "        upsample_framerate(getfield.(states, :ψ) .- getfield(states[1], :ψ), Δt),\n",
    "        v,\n",
    "        ω,\n",
    "        v̇,\n",
    "        ω̇,\n",
    "        upsample_framerate(time, Δt),\n",
    "    )\n",
    "end"
   ]
  },
  {
   "cell_type": "code",
   "execution_count": 98,
   "metadata": {},
   "outputs": [],
   "source": [
    "# get trials in curvilinear coordinates space\n",
    "\n",
    "trial_states(trial) = (\n",
    "            map(\n",
    "                frame->State(trial, frame, FULLTRACK; v=trial.v[frame]), \n",
    "                1:length(trial.x)\n",
    "            ), \n",
    "            1:length(trial.x)\n",
    ")\n",
    "ctrials = map(trial -> CurvilinearCoordsTrials(trial_states(trial)...), trials[1:SELECT_N_TRIALS])\n",
    "length(ctrials)"
   ]
  },
  {
   "cell_type": "markdown",
   "metadata": {},
   "source": [
    "## Step2\n",
    "Inspect the data"
   ]
  },
  {
   "cell_type": "code",
   "execution_count": null,
   "metadata": {},
   "outputs": [],
   "source": [
    "# randomly select a few trials and plot them\n",
    "\n",
    "color_var = :V̇\n",
    "\n",
    "trial = rand(ctrials)\n",
    "\n",
    "plt = draw(:arena)\n",
    "draw!(FULLTRACK)\n",
    "\n",
    "plot!(trial.x, trial.y, color=\"black\")\n",
    "for i in 1:30:length(trial.x)\n",
    "    x, y, θ = trial.x[i], trial.y[i], trial.θ[i]\n",
    "    plot!(\n",
    "        [x, x+2cos(θ)], [y, y+2sin(θ)], lw=4, color=\"black\"\n",
    "    )\n",
    "end\n",
    "scatter!(trial.x[1:10:end], trial.y[1:10:end], marker_z=getfield(trial, color_var)[1:10:end]; \n",
    "            c=:bwr, clims=(-100, 100),\n",
    "            title=color_var, ms=5)\n",
    "\n",
    "plot(plt, size=(1000, 800), legend=false)\n",
    "\n",
    "# histogram(trial.n)"
   ]
  },
  {
   "cell_type": "markdown",
   "metadata": {},
   "source": [
    "### Step 3\n",
    "Cut the trials into chunks.\n",
    "\n",
    "In doing so, make sure not to take chunks that are too close of the trial to avoid having problems."
   ]
  },
  {
   "cell_type": "code",
   "execution_count": null,
   "metadata": {},
   "outputs": [],
   "source": [
    "chunks = []\n",
    "for trial in ctrials\n",
    "    timesteps = 1:(length(trial.s) - n_samples_chunk -1)\n",
    "    if length(timesteps) == 0\n",
    "        continue\n",
    "    end\n",
    "\n",
    "    starts = sort!(int.(rand(timesteps, N)))\n",
    "    stops = int.(starts .+ n_samples_chunk)\n",
    "\n",
    " \n",
    "\n",
    "    for (start, stop) in zip(starts, stops)\n",
    "        stop >= length(trial.n) && continue\n",
    "\n",
    "        # if mouse slows down during chunk - ignore\n",
    "        any(trial.V[start:stop] .<= 25) && continue\n",
    "        \n",
    "        push!(chunks, \n",
    "            CurvilinearCoordsTrials(\n",
    "                trial.x[start:stop],\n",
    "                trial.y[start:stop],\n",
    "                trial.θ[start:stop],\n",
    "                trial.s[start:stop],\n",
    "                trial.n[start:stop],\n",
    "                trial.ψ[start:stop],\n",
    "                trial.V[start:stop],\n",
    "                trial.ω[start:stop],\n",
    "                trial.V̇[start:stop],\n",
    "                trial.ω̇[start:stop],\n",
    "                trial.t[start:stop],\n",
    "            )\n",
    "        )\n",
    "    end\n",
    "end\n",
    "\n",
    "@info \"Got $(length(chunks)) chunks out of $(length(ctrials)) trials\"\n"
   ]
  },
  {
   "cell_type": "markdown",
   "metadata": {},
   "source": [
    "### Step 4\n",
    "for each chunk get the track's curvature ahead at each frame"
   ]
  },
  {
   "cell_type": "code",
   "execution_count": null,
   "metadata": {},
   "outputs": [],
   "source": [
    "struct DatasetEntry\n",
    "    n::Vector{Float64}\n",
    "    ψ::Vector{Float64}\n",
    "    s::Vector{Float64}\n",
    "    V::Vector{Float64}\n",
    "    ω::Vector{Float64}\n",
    "    V̇::Vector{Float64}\n",
    "    ω̇::Vector{Float64}\n",
    "    k::Union{Nothing, Matrix{Float64}}   # stores the curvature at each waypoint and each frame\n",
    "end"
   ]
  },
  {
   "cell_type": "code",
   "execution_count": null,
   "metadata": {},
   "outputs": [],
   "source": [
    "\"\"\"\n",
    "Given an s-value, returns a set of indexes to access the track's variables at equally spaced\n",
    "points along the track.\n",
    "\n",
    "\"\"\"\n",
    "function get_track_waypoints(track, sval)\n",
    "    ds = track.S .- sval\n",
    "    idxs = findall(\n",
    "        (diff(mod.(ds, Δs)) .<= 0) .* (ds .>= 0)[2:end] .* (ds .<= S)[2:end],\n",
    "    )\n",
    "    return [argmin(ds.^2), idxs...]\n",
    "end\n",
    "\n",
    "# visually check that we can select waypoints along the track\n",
    "if S > 0\n",
    "    track_idxs = get_track_waypoints(FULLTRACK, 40)\n",
    "    plot(FULLTRACK.X, FULLTRACK.Y)\n",
    "    scatter!(FULLTRACK.X[track_idxs], FULLTRACK.Y[track_idxs]; aspect_ratio=:equal)\n",
    "end"
   ]
  },
  {
   "cell_type": "code",
   "execution_count": null,
   "metadata": {},
   "outputs": [],
   "source": [
    "if S > 0\n",
    "    waypoints = collect(0:Δs:S)\n",
    "    waypoints_idxs = 1:length(waypoints)\n",
    "end\n",
    "\n",
    "entries = []\n",
    "for chunk in chunks\n",
    "    # get curvature\n",
    "    if S > 0\n",
    "        chunk_curv = zeros(length(waypoints_idxs), length(chunk.x))\n",
    "\n",
    "        \n",
    "        for frame in 1:length(chunk.x)\n",
    "            # get relevant S vector from track\n",
    "            s = chunk.s[frame]\n",
    "            idxs = get_track_waypoints(FULLTRACK, s)\n",
    "\n",
    "            # @assert length(idxs) == length(waypoints_idxs)  \"$(length(idxs)) $(length(waypoints_idxs)) $ts $frame $s\"\n",
    "            length(idxs) != length(waypoints_idxs) && continue\n",
    "            chunk_curv[:, frame] = FULLTRACK.curvature[idxs]\n",
    "        end\n",
    "    else\n",
    "        chunk_curv = nothing\n",
    "    end\n",
    "\n",
    "    push!(entries, DatasetEntry(\n",
    "        chunk.n,\n",
    "        chunk.ψ,\n",
    "        chunk.s,\n",
    "        chunk.V,\n",
    "        chunk.ω,\n",
    "        chunk.V̇,\n",
    "        chunk.ω̇,\n",
    "        chunk_curv,\n",
    "    )\n",
    "    )\n",
    "\n",
    "end\n"
   ]
  },
  {
   "cell_type": "code",
   "execution_count": null,
   "metadata": {},
   "outputs": [],
   "source": [
    "@info \"Got $(length(entries)) entries from $(length(chunks)) chunks\""
   ]
  },
  {
   "cell_type": "markdown",
   "metadata": {},
   "source": [
    "### Save data\n",
    "save data to file in a format which can be loaded back in python for RNN training"
   ]
  },
  {
   "cell_type": "code",
   "execution_count": null,
   "metadata": {},
   "outputs": [],
   "source": [
    "using JSON: JSON\n",
    "using DataFrames: DataFrame\n",
    "import JSONTables: objecttable, jsontable\n",
    "import OrderedCollections: OrderedDict\n",
    "\n",
    "savepath = \"D:\\\\Dropbox (UCL)\\\\Rotation_vte\\\\Locomotion\\\\analysis\\\\RNN\\\\datasets\\\\$(S)cm\"\n",
    "\n",
    "for (i, entry) in enumerate(entries)\n",
    "    if S > 0\n",
    "        ks = collect(Symbol(\"k_\", i)=>entry.k[i, :] for i in 1:size(entry.k,1 ))\n",
    "        dict = OrderedDict{Symbol, Union{Vector{Float64}, Matrix{Float64}}}(\n",
    "            :n=>entry.n,\n",
    "            :ψ=>entry.ψ,\n",
    "            :s=>entry.s,\n",
    "            :V=>entry.V,\n",
    "            :ω=>entry.ω,\n",
    "            :V̇=>entry.V̇,\n",
    "            :ω̇=>entry.ω̇,\n",
    "            ks...\n",
    "        )\n",
    "    else\n",
    "        dict = OrderedDict{Symbol, Union{Vector{Float64}, Matrix{Float64}}}(\n",
    "            :n=>entry.n,\n",
    "            :ψ=>entry.ψ,\n",
    "            :s=>entry.s,\n",
    "            :V=>entry.V,\n",
    "            :ω=>entry.ω,\n",
    "            :V̇=>entry.V̇,\n",
    "            :ω̇=>entry.ω̇,\n",
    "        )\n",
    "    end\n",
    "    df = DataFrame(dict)\n",
    "\n",
    "    open(joinpath(savepath, \"$(i).json\"), \"w\") do f\n",
    "        write(f, objecttable(df))\n",
    "    end\n",
    "end"
   ]
  }
 ],
 "metadata": {
  "kernelspec": {
   "display_name": "Julia 1.7.2",
   "language": "julia",
   "name": "julia-1.7"
  },
  "language_info": {
   "file_extension": ".jl",
   "mimetype": "application/julia",
   "name": "julia",
   "version": "1.7.2"
  },
  "orig_nbformat": 4
 },
 "nbformat": 4,
 "nbformat_minor": 2
}
