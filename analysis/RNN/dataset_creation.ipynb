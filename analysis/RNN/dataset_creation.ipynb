{
 "cells": [
  {
   "cell_type": "code",
   "execution_count": 1,
   "metadata": {},
   "outputs": [
    {
     "name": "stdout",
     "output_type": "stream",
     "text": [
      "\u001b[1m\u001b[4m\u001b[38;2;66;165;245m@Info\u001b[22m\u001b[24m\u001b[39m \u001b[38;2;237;180;111m(Main):\u001b[39m  \u001b[38;2;138;190;255mLoaded 995 trials\u001b[39m \n",
      "  \u001b[1m\u001b[2m\u001b[38;2;66;165;245m╰────────────────────────────────────────────────\u001b[22m\u001b[22m\u001b[39m \n",
      "                      \u001b[2mMon, 06 Jun 2022\u001b[22m \u001b[1m\u001b[2m\u001b[4m10:41:01\u001b[22m\u001b[22m\u001b[24m \n",
      "\u001b[1m\u001b[4m\u001b[38;2;66;165;245m@Info\u001b[22m\u001b[24m\u001b[39m \u001b[38;2;237;180;111m(Main):\u001b[39m  \u001b[38;2;138;190;255mAfter tortuosity analysis, discarded 8.643% of trials | 909\u001b[0m \n",
      "  \u001b[2m\u001b[38;2;66;165;245m│\u001b[22m\u001b[39m                \u001b[38;2;138;190;255m\u001b[38;2;138;190;255mtrials left\u001b[39m\u001b[0m\u001b[39m \n",
      "  \u001b[1m\u001b[2m\u001b[38;2;66;165;245m╰────────────────────────────────────────────────\u001b[22m\u001b[22m\u001b[39m \n",
      "                      \u001b[2mMon, 06 Jun 2022\u001b[22m \u001b[1m\u001b[2m\u001b[4m10:41:04\u001b[22m\u001b[22m\u001b[24m \n"
     ]
    },
    {
     "name": "stderr",
     "output_type": "stream",
     "text": [
      "\u001b[32m\u001b[1m  Activating\u001b[22m\u001b[39m project at `C:\\Users\\Federico\\Documents\\GitHub\\pysical_locomotion\\analysis\\behavior`\n"
     ]
    },
    {
     "data": {
      "text/plain": [
       "Int64 ∘ round"
      ]
     },
     "metadata": {},
     "output_type": "display_data"
    }
   ],
   "source": [
    "# activate package, basic imports + load data\n",
    "include(\"C:\\\\Users\\\\Federico\\\\Documents\\\\GitHub\\\\pysical_locomotion\\\\analysis\\\\behavior\\\\analysis_fixtures.jl\")\n",
    "include(\"C:\\\\Users\\\\Federico\\\\Documents\\\\GitHub\\\\pysical_locomotion\\\\analysis\\\\behavior\\\\analysis_visuals.jl\")\n",
    "using Dierckx\n",
    "\n",
    "import jcontrol: State, movingaverage\n",
    "import jcontrol: Δ\n",
    "import OrderedCollections: OrderedDict\n",
    "using StatsBase\n",
    "using JSON: JSON\n",
    "using DataFrames: DataFrame\n",
    "import JSONTables: objecttable, jsontable\n",
    "using Glob\n",
    "\n",
    "int = (Int ∘ round)"
   ]
  },
  {
   "cell_type": "markdown",
   "metadata": {},
   "source": [
    "# Generate RNN dataset\n",
    "\n",
    "Take each trial, get kinematics in curvilinear coordinates, cut into chunks of equal length.\n",
    "Also at each frame sample the curvature of the track that lays ahead of the mosue"
   ]
  },
  {
   "cell_type": "markdown",
   "metadata": {},
   "source": [
    "utility functions\n"
   ]
  },
  {
   "cell_type": "code",
   "execution_count": 2,
   "metadata": {},
   "outputs": [
    {
     "data": {
      "text/plain": [
       "reset_psi"
      ]
     },
     "metadata": {},
     "output_type": "display_data"
    }
   ],
   "source": [
    "\"\"\"\n",
    "Upsample frame rate of tracking data\n",
    "\"\"\"\n",
    "function upsample_framerate(x, Δt)\n",
    "    t_original = 0:1/60:(length(x)/60 + 1)\n",
    "\n",
    "    t_original = t_original[1:length(x)]\n",
    "\n",
    "    t_upsample = 0:Δt:(t_original[end])\n",
    "\n",
    "    spl = Spline1D(t_original, x; k=1) # k: order of interpolant; can be between 1-5\n",
    "    return spl(t_upsample)\n",
    "end\n",
    "\n",
    "\n",
    "\n",
    "\"\"\" get index of equally spaced way points along the track from a starting sval \"\"\"\n",
    "function get_track_waypoints(track, sval)\n",
    "    ds = track.S .- sval\n",
    "    idxs = findall(\n",
    "        (diff(mod.(ds, Δs)) .<= 0) .* (ds .>= 0)[2:end] .* (ds .<= S)[2:end],\n",
    "    )\n",
    "    return [argmin(ds.^2), idxs...]\n",
    "end\n",
    "\n",
    "\n",
    "# get the average ψ at each track position\n",
    "function get_average_ψ_along_track(ctrials)\n",
    "    s_vals = 1:260\n",
    "    ψ_vals = OrderedDict(s=>[] for s in s_vals)\n",
    "    for trial in ctrials\n",
    "        for s in s_vals\n",
    "            idx = findfirst(trial.s .>= s)\n",
    "            isnothing(idx) && continue\n",
    "            push!(ψ_vals[s], trial.ψ[idx])\n",
    "        end\n",
    "    end\n",
    "\n",
    "    Ψ = OrderedDict(s=>mean(ψ_vals[s]) for s in s_vals)\n",
    "end\n",
    "\n",
    "\"\"\" fix chunks initial ψ value  \"\"\"\n",
    "function reset_psi(trial, start, Ψ)\n",
    "    idx = (Int ∘ round)(trial.s[start])\n",
    "    return Ψ[idx]\n",
    "end"
   ]
  },
  {
   "cell_type": "markdown",
   "metadata": {},
   "source": [
    "types"
   ]
  },
  {
   "cell_type": "code",
   "execution_count": 3,
   "metadata": {},
   "outputs": [],
   "source": [
    "\"\"\"\n",
    "Represents a single trial but in curvilinear coordinates space and with\n",
    "upsampled framerate.\n",
    "\"\"\"\n",
    "mutable struct CurvilinearCoordsTrials\n",
    "    x::Vector\n",
    "    y::Vector\n",
    "    θ::Vector\n",
    "    s::Vector\n",
    "    n::Vector\n",
    "    ψ::Vector\n",
    "    V::Vector  # velocity vector: V = √(v² + u²)\n",
    "    ω::Vector\n",
    "    V̇::Vector  # acceleration\n",
    "    ω̇::Vector  # angular acceleration\n",
    "    t::Vector  # time\n",
    "end\n",
    "\n",
    "\n",
    "struct DatasetEntry\n",
    "    n::Vector{Float64}\n",
    "    ψ::Vector{Float64}\n",
    "    s::Vector{Float64}\n",
    "    V::Vector{Float64}\n",
    "    ω::Vector{Float64}\n",
    "    V̇::Vector{Float64}\n",
    "    ω̇::Vector{Float64}\n",
    "    k::Union{Nothing, Matrix{Float64}}   # stores the curvature at each waypoint and each frame\n",
    "end"
   ]
  },
  {
   "cell_type": "markdown",
   "metadata": {},
   "source": [
    "### Prepare tracking data\n",
    "Load tracking data, turn into track's curvilinear coordinates and upsample"
   ]
  },
  {
   "cell_type": "code",
   "execution_count": 4,
   "metadata": {},
   "outputs": [
    {
     "data": {
      "text/plain": [
       "CurvilinearCoordsTrials"
      ]
     },
     "metadata": {},
     "output_type": "display_data"
    }
   ],
   "source": [
    "\"\"\" convert a vector of states to a CurvilinearCoordsTrials \"\"\"\n",
    "function CurvilinearCoordsTrials(states::Vector{State}, frames_idxs, Δt, speeds_smoothing_window)\n",
    "    v = movingaverage(\n",
    "        upsample_framerate(sqrt.(getfield.(states, :v).^2 + getfield.(states, :u).^2), Δt),\n",
    "        speeds_smoothing_window\n",
    "    )\n",
    "    ω = movingaverage(\n",
    "        upsample_framerate(getfield.(states, :ω), Δt),\n",
    "        speeds_smoothing_window\n",
    "    )\n",
    "\n",
    "    v̇ = Δ(v) ./ Δt\n",
    "    ω̇ = Δ(ω) ./ Δt\n",
    "    time = frames_idxs ./ 60\n",
    "\n",
    "    ψ = upsample_framerate(getfield.(states, :ψ) .- getfield(states[1], :ψ), Δt)\n",
    "\n",
    "    return CurvilinearCoordsTrials(\n",
    "        upsample_framerate(getfield.(states, :x), Δt),\n",
    "        upsample_framerate(getfield.(states, :y), Δt),    \n",
    "        upsample_framerate(getfield.(states, :θ), Δt),    \n",
    "        upsample_framerate(getfield.(states, :s), Δt),\n",
    "        upsample_framerate(getfield.(states, :n), Δt),\n",
    "        clamp.(ψ, -outliers_limits[:ψ], outliers_limits[:ψ]),\n",
    "        v,\n",
    "        clamp.(ω, -outliers_limits[:ω], outliers_limits[:ω]),\n",
    "        clamp.(v̇, -outliers_limits[:v̇], outliers_limits[:v̇]),\n",
    "        clamp.(ω̇, -outliers_limits[:ω̇], outliers_limits[:ω̇]),\n",
    "        upsample_framerate(time, Δt),\n",
    "    )\n",
    "end"
   ]
  },
  {
   "cell_type": "markdown",
   "metadata": {},
   "source": [
    "### create curvilinear trials"
   ]
  },
  {
   "cell_type": "code",
   "execution_count": 5,
   "metadata": {},
   "outputs": [
    {
     "data": {
      "text/plain": [
       "get_ctrials (generic function with 1 method)"
      ]
     },
     "metadata": {},
     "output_type": "display_data"
    }
   ],
   "source": [
    "# get trials in curvilinear coordinates space\n",
    "function get_ctrials(trials, Δt, speeds_smoothing_window)\n",
    "    trial_states(trial) = (\n",
    "                map(\n",
    "                    frame->State(trial, frame, FULLTRACK; v=trial.v[frame], smoothing_window=5), \n",
    "                    1:length(trial.x)\n",
    "                ), \n",
    "                1:length(trial.x)\n",
    "    )\n",
    "\n",
    "    ctrials = map(trial -> CurvilinearCoordsTrials(trial_states(trial)..., Δt, speeds_smoothing_window), trials[1:SELECT_N_TRIALS])\n",
    "end\n"
   ]
  },
  {
   "cell_type": "code",
   "execution_count": 6,
   "metadata": {},
   "outputs": [
    {
     "data": {
      "text/plain": [
       "get_chunks"
      ]
     },
     "metadata": {},
     "output_type": "display_data"
    }
   ],
   "source": [
    "\n",
    "\n",
    "\"\"\"\n",
    "Splits each trials into chunks of equal length\n",
    "\"\"\"\n",
    "function get_chunks(ctrials, n_samples_chunk, prediction_Δt_shift_samples)\n",
    "    @info \"Extracting chunks from trials\" ctrials\n",
    "\n",
    "    Ψ = get_average_ψ_along_track(ctrials)\n",
    "    chunks = []\n",
    "    for trial in ctrials\n",
    "        timesteps = range(1, length(trial.x)-n_samples_chunk, step=n_samples_chunk)\n",
    "        if length(timesteps) == 0\n",
    "            continue\n",
    "        end\n",
    "\n",
    "        # starts = sort!(int.(rand(timesteps, N)))\n",
    "        starts = sort!(collect(timesteps))\n",
    "        stops = int.(starts .+ n_samples_chunk)\n",
    "\n",
    "\n",
    "\n",
    "        for (start, stop) in zip(starts, stops)\n",
    "            stop >= length(trial.n) && continue\n",
    "\n",
    "            # if mouse slows down during chunk - ignore\n",
    "            any(trial.V[start:stop] .<= 25) && continue\n",
    "\n",
    "            stop+prediction_Δt_shift_samples > length(trial.x) && continue\n",
    "            \n",
    "            # get speed and angular velocity in the future\n",
    "            future_v = trial.V[start+prediction_Δt_shift_samples : stop+prediction_Δt_shift_samples]\n",
    "            future_ω = trial.ω[start+prediction_Δt_shift_samples : stop+prediction_Δt_shift_samples]\n",
    "\n",
    "            push!(chunks, \n",
    "                CurvilinearCoordsTrials(\n",
    "                    trial.x[start:stop],\n",
    "                    trial.y[start:stop],\n",
    "                    trial.θ[start:stop],\n",
    "                    trial.s[start:stop],\n",
    "                    trial.n[start:stop],\n",
    "                    trial.ψ[start:stop] .- (trial.ψ[start] -  reset_psi(trial, start, Ψ)),\n",
    "                    trial.V[start:stop],\n",
    "                    trial.ω[start:stop],\n",
    "                    future_v,\n",
    "                    future_ω,\n",
    "                    trial.t[start:stop],\n",
    "                )\n",
    "            )\n",
    "        end\n",
    "    end\n",
    "\n",
    "    return chunks\n",
    "end\n",
    "\n"
   ]
  },
  {
   "cell_type": "markdown",
   "metadata": {},
   "source": [
    "### Step 4\n",
    "for each chunk get the track's curvature ahead at each frame"
   ]
  },
  {
   "cell_type": "code",
   "execution_count": 7,
   "metadata": {},
   "outputs": [
    {
     "data": {
      "text/plain": [
       "create_dbase (generic function with 1 method)"
      ]
     },
     "metadata": {},
     "output_type": "display_data"
    }
   ],
   "source": [
    "function create_dbase(ctrials, S, n_samples_chunk, prediction_Δt_shift_samples)\n",
    "\n",
    "    chunks = get_chunks(ctrials, n_samples_chunk, prediction_Δt_shift_samples)\n",
    "    # @info \"Got $(length(chunks)) chunks out of $(length(ctrials)) trials\"\n",
    "    \n",
    "    if S > 0\n",
    "        waypoints = collect(0:Δs:S)\n",
    "        waypoints_idxs = 1:length(waypoints)\n",
    "    end\n",
    "\n",
    "    entries = []\n",
    "    for chunk in chunks\n",
    "        # get curvature\n",
    "        if S > 0\n",
    "            chunk_curv = zeros(length(waypoints_idxs), length(chunk.x))\n",
    "\n",
    "            \n",
    "            for frame in 1:length(chunk.x)\n",
    "                # get relevant S vector from track\n",
    "                s = chunk.s[frame]\n",
    "                idxs = get_track_waypoints(FULLTRACK, s)\n",
    "\n",
    "                # @assert length(idxs) == length(waypoints_idxs)  \"$(length(idxs)) $(length(waypoints_idxs)) $ts $frame $s\"\n",
    "                length(idxs) != length(waypoints_idxs) && continue\n",
    "                chunk_curv[:, frame] = FULLTRACK.curvature[idxs]\n",
    "            end\n",
    "        else\n",
    "            chunk_curv = nothing\n",
    "        end\n",
    "\n",
    "        push!(entries, DatasetEntry(\n",
    "            chunk.n,\n",
    "            chunk.ψ,chunk.s,\n",
    "            chunk.V,\n",
    "            chunk.ω,\n",
    "            chunk.V̇,\n",
    "            chunk.ω̇,\n",
    "            chunk_curv,\n",
    "        )\n",
    "        )\n",
    "\n",
    "    end\n",
    "    # @info \"Got $(length(entries)) entries from $(length(chunks)) chunks\"\n",
    "    return entries\n",
    "end\n"
   ]
  },
  {
   "cell_type": "markdown",
   "metadata": {},
   "source": [
    "## Visual inspection"
   ]
  },
  {
   "cell_type": "code",
   "execution_count": 8,
   "metadata": {},
   "outputs": [],
   "source": [
    "# plt = plot()\n",
    "\n",
    "# for entry in entries[1:500]\n",
    "#     plot!(entry.s, entry.ψ, label=nothing, alph=.33, color=\"black\", alpha=.2)\n",
    "\n",
    "#     # plot!(entry.s, entry.ω ./ 10, label=nothing, alph=.33, color=\"red\", alpha=.2)\n",
    "# end\n",
    "# # plot!(FULLTRACK.S, Δ(FULLTRACK.θ) * 1000, lw=5, color=\"green\")\n",
    "# plt\n",
    "\n"
   ]
  },
  {
   "cell_type": "markdown",
   "metadata": {},
   "source": [
    "### Save data\n",
    "save data to file in a format which can be loaded back in python for RNN training"
   ]
  },
  {
   "cell_type": "code",
   "execution_count": 9,
   "metadata": {},
   "outputs": [
    {
     "data": {
      "text/plain": [
       "save_dbase (generic function with 1 method)"
      ]
     },
     "metadata": {},
     "output_type": "display_data"
    }
   ],
   "source": [
    "function save_dbase(savepath, entries, S, prediction_Δt_shift)\n",
    "    for (i, entry) in enumerate(entries)\n",
    "        if S > 0\n",
    "            ks = collect(Symbol(\"k_\", i)=>entry.k[i, :] for i in 1:size(entry.k,1 ))\n",
    "            dict = OrderedDict{Symbol, Union{Vector{Float64}, Matrix{Float64}}}(\n",
    "                :n=>entry.n,\n",
    "                :ψ=>entry.ψ,\n",
    "                :s=>entry.s,\n",
    "                :V=>entry.V,\n",
    "                :ω=>entry.ω,\n",
    "                :V̇=>entry.V̇,\n",
    "                :ω̇=>entry.ω̇,\n",
    "                ks...\n",
    "            )\n",
    "        else\n",
    "            dict = OrderedDict{Symbol, Union{Vector{Float64}, Matrix{Float64}}}(\n",
    "                :n=>entry.n,\n",
    "                :ψ=>entry.ψ,\n",
    "                :s=>entry.s,\n",
    "                :V=>entry.V,\n",
    "                :ω=>entry.ω,\n",
    "                :V̇=>entry.V̇,\n",
    "                :ω̇=>entry.ω̇,\n",
    "            )\n",
    "        end\n",
    "        df = DataFrame(dict)\n",
    "\n",
    "        open(joinpath(savepath, \"$(i).json\"), \"w\") do f\n",
    "            write(f, objecttable(df))\n",
    "        end\n",
    "    end\n",
    "\n",
    "    savepath\n",
    "end"
   ]
  },
  {
   "cell_type": "markdown",
   "metadata": {},
   "source": [
    "## Params"
   ]
  },
  {
   "cell_type": "code",
   "execution_count": 10,
   "metadata": {},
   "outputs": [
    {
     "name": "stdout",
     "output_type": "stream",
     "text": [
      "\u001b[1m\u001b[4m\u001b[38;2;66;165;245m@Info\u001b[22m\u001b[24m\u001b[39m \u001b[38;2;237;180;111m(Main):\u001b[39m  \u001b[38;2;138;190;255mn samples per trial\u001b[39m \n",
      "  \u001b[2m\u001b[38;2;66;165;245m│\u001b[22m\u001b[39m \n",
      "  \u001b[2m\u001b[38;2;66;165;245m│\u001b[22m\u001b[39m \u001b[2m\u001b[38;2;206;147;216m(Int64)\u001b[22m\u001b[39m  \u001b[2m\u001b[38;2;66;165;245m▶\u001b[22m\u001b[39m  \u001b[1m\u001b[38;2;255;153;89mn_samples_chunk\u001b[22m\u001b[39m \u001b[1m\u001b[31m=\u001b[22m\u001b[39m \u001b[38;2;66;165;245m200\u001b[39m \n",
      "  \u001b[1m\u001b[2m\u001b[38;2;66;165;245m╰────────────────────────────────────────────────\u001b[22m\u001b[22m\u001b[39m \n",
      "                      \u001b[2mMon, 06 Jun 2022\u001b[22m \u001b[1m\u001b[2m\u001b[4m10:41:17\u001b[22m\u001b[22m\u001b[24m \n"
     ]
    }
   ],
   "source": [
    "\n",
    "\n",
    "# PARAMS\n",
    "Δt = 0.005  # time step duration of upsampled trial\n",
    "# N = 5    # number of chunks per trial\n",
    "T = 1.0  # duration of each trial \"chunk\" for training, in seconds\n",
    "Δs = 5  # distance between sampling's of the track's curvature\n",
    "S = 50   # lookahead distance for track's curvature.\n",
    "\n",
    "prediction_Δt_shift = .75  # prediction targets are velocities at this offset in the future (in seconds)\n",
    "prediction_Δt_shift_samples = int(prediction_Δt_shift / Δt)\n",
    "\n",
    "\n",
    "speeds_smoothing_window = 21\n",
    "SELECT_N_TRIALS = length(trials)\n",
    "\n",
    "\n",
    "outliers_limits = Dict(\n",
    "    :ψ => 1.5,\n",
    "    :ω => 12,\n",
    "    :v̇ => 1000,\n",
    "    :ω̇ => 100,\n",
    ")\n",
    "\n",
    "\n",
    "n_samples_chunk = int(T/Δt)\n",
    "@info \"n samples per trial\" n_samples_chunk"
   ]
  },
  {
   "cell_type": "code",
   "execution_count": 11,
   "metadata": {},
   "outputs": [
    {
     "name": "stdout",
     "output_type": "stream",
     "text": [
      "\u001b[1m\u001b[4m\u001b[38;2;255;167;38m@Warn\u001b[22m\u001b[24m\u001b[39m \u001b[38;2;237;180;111m(Main.\u001b[4m\u001b[38;2;255;238;88mtop-level scope\u001b[24m\u001b[39m\u001b[38;2;237;180;111m):\u001b[39m  \u001b[38;2;138;190;255mskipping \u001b[39m \n",
      "  \u001b[2m\u001b[38;2;255;167;38m│\u001b[22m\u001b[39m \n",
      "  \u001b[2m\u001b[38;2;255;167;38m│\u001b[22m\u001b[39m \u001b[2m\u001b[38;2;206;147;216m(String)\u001b[22m\u001b[39m  \u001b[2m\u001b[38;2;255;167;38m▶\u001b[22m\u001b[39m  \u001b[1m\u001b[38;2;255;153;89msavepath\u001b[22m\u001b[39m \u001b[1m\u001b[31m=\u001b[22m\u001b[39m \u001b[38;2;165;214;167mD:\\Dropbox (UCL)\\Rotation_vte\\Locomotion\\analysis\\RNN\\datasets\\0cm_pred_0\u001b[39m \n",
      "  \u001b[1m\u001b[2m\u001b[38;2;255;167;38m╰────────────────────────────────────────────────\u001b[22m\u001b[22m\u001b[39m \n",
      "                      \u001b[2mMon, 06 Jun 2022\u001b[22m \u001b[1m\u001b[2m\u001b[4m10:54:27\u001b[22m\u001b[22m\u001b[24m \n",
      "\u001b[1m\u001b[4m\u001b[38;2;255;167;38m@Warn\u001b[22m\u001b[24m\u001b[39m \u001b[38;2;237;180;111m(Main.\u001b[4m\u001b[38;2;255;238;88mtop-level scope\u001b[24m\u001b[39m\u001b[38;2;237;180;111m):\u001b[39m  \u001b[38;2;138;190;255mskipping \u001b[39m \n",
      "  \u001b[2m\u001b[38;2;255;167;38m│\u001b[22m\u001b[39m \n",
      "  \u001b[2m\u001b[38;2;255;167;38m│\u001b[22m\u001b[39m \u001b[2m\u001b[38;2;206;147;216m(String)\u001b[22m\u001b[39m  \u001b[2m\u001b[38;2;255;167;38m▶\u001b[22m\u001b[39m  \u001b[1m\u001b[38;2;255;153;89msavepath\u001b[22m\u001b[39m \u001b[1m\u001b[31m=\u001b[22m\u001b[39m \u001b[38;2;165;214;167mD:\\Dropbox (UCL)\\Rotation_vte\\Locomotion\\analysis\\RNN\\datasets\\0cm_pred_0.25\u001b[39m \n",
      "  \u001b[1m\u001b[2m\u001b[38;2;255;167;38m╰────────────────────────────────────────────────\u001b[22m\u001b[22m\u001b[39m \n",
      "                      \u001b[2mMon, 06 Jun 2022\u001b[22m \u001b[1m\u001b[2m\u001b[4m10:54:27\u001b[22m\u001b[22m\u001b[24m \n",
      "\u001b[1m\u001b[4m\u001b[38;2;255;167;38m@Warn\u001b[22m\u001b[24m\u001b[39m \u001b[38;2;237;180;111m(Main.\u001b[4m\u001b[38;2;255;238;88mtop-level scope\u001b[24m\u001b[39m\u001b[38;2;237;180;111m):\u001b[39m  \u001b[38;2;138;190;255mskipping \u001b[39m \n",
      "  \u001b[2m\u001b[38;2;255;167;38m│\u001b[22m\u001b[39m \n",
      "  \u001b[2m\u001b[38;2;255;167;38m│\u001b[22m\u001b[39m \u001b[2m\u001b[38;2;206;147;216m(String)\u001b[22m\u001b[39m  \u001b[2m\u001b[38;2;255;167;38m▶\u001b[22m\u001b[39m  \u001b[1m\u001b[38;2;255;153;89msavepath\u001b[22m\u001b[39m \u001b[1m\u001b[31m=\u001b[22m\u001b[39m \u001b[38;2;165;214;167mD:\\Dropbox (UCL)\\Rotation_vte\\Locomotion\\analysis\\RNN\\datasets\\0cm_pred_0.5\u001b[39m \n",
      "  \u001b[1m\u001b[2m\u001b[38;2;255;167;38m╰────────────────────────────────────────────────\u001b[22m\u001b[22m\u001b[39m \n",
      "                      \u001b[2mMon, 06 Jun 2022\u001b[22m \u001b[1m\u001b[2m\u001b[4m10:54:27\u001b[22m\u001b[22m\u001b[24m \n",
      "\u001b[1m\u001b[4m\u001b[38;2;255;167;38m@Warn\u001b[22m\u001b[24m\u001b[39m \u001b[38;2;237;180;111m(Main.\u001b[4m\u001b[38;2;255;238;88mtop-level scope\u001b[24m\u001b[39m\u001b[38;2;237;180;111m):\u001b[39m  \u001b[38;2;138;190;255mskipping \u001b[39m \n",
      "  \u001b[2m\u001b[38;2;255;167;38m│\u001b[22m\u001b[39m \n",
      "  \u001b[2m\u001b[38;2;255;167;38m│\u001b[22m\u001b[39m \u001b[2m\u001b[38;2;206;147;216m(String)\u001b[22m\u001b[39m  \u001b[2m\u001b[38;2;255;167;38m▶\u001b[22m\u001b[39m  \u001b[1m\u001b[38;2;255;153;89msavepath\u001b[22m\u001b[39m \u001b[1m\u001b[31m=\u001b[22m\u001b[39m \u001b[38;2;165;214;167mD:\\Dropbox (UCL)\\Rotation_vte\\Locomotion\\analysis\\RNN\\datasets\\0cm_pred_0.75\u001b[39m \n",
      "  \u001b[1m\u001b[2m\u001b[38;2;255;167;38m╰────────────────────────────────────────────────\u001b[22m\u001b[22m\u001b[39m \n",
      "                      \u001b[2mMon, 06 Jun 2022\u001b[22m \u001b[1m\u001b[2m\u001b[4m10:54:27\u001b[22m\u001b[22m\u001b[24m \n",
      "\u001b[1m\u001b[4m\u001b[38;2;255;167;38m@Warn\u001b[22m\u001b[24m\u001b[39m \u001b[38;2;237;180;111m(Main.\u001b[4m\u001b[38;2;255;238;88mtop-level scope\u001b[24m\u001b[39m\u001b[38;2;237;180;111m):\u001b[39m  \u001b[38;2;138;190;255mskipping \u001b[39m \n",
      "  \u001b[2m\u001b[38;2;255;167;38m│\u001b[22m\u001b[39m \n",
      "  \u001b[2m\u001b[38;2;255;167;38m│\u001b[22m\u001b[39m \u001b[2m\u001b[38;2;206;147;216m(String)\u001b[22m\u001b[39m  \u001b[2m\u001b[38;2;255;167;38m▶\u001b[22m\u001b[39m  \u001b[1m\u001b[38;2;255;153;89msavepath\u001b[22m\u001b[39m \u001b[1m\u001b[31m=\u001b[22m\u001b[39m \u001b[38;2;165;214;167mD:\\Dropbox (UCL)\\Rotation_vte\\Locomotion\\analysis\\RNN\\datasets\\0cm_pred_1\u001b[39m \n",
      "  \u001b[1m\u001b[2m\u001b[38;2;255;167;38m╰────────────────────────────────────────────────\u001b[22m\u001b[22m\u001b[39m \n",
      "                      \u001b[2mMon, 06 Jun 2022\u001b[22m \u001b[1m\u001b[2m\u001b[4m10:54:27\u001b[22m\u001b[22m\u001b[24m \n",
      "\u001b[1m\u001b[4m\u001b[38;2;255;167;38m@Warn\u001b[22m\u001b[24m\u001b[39m \u001b[38;2;237;180;111m(Main.\u001b[4m\u001b[38;2;255;238;88mtop-level scope\u001b[24m\u001b[39m\u001b[38;2;237;180;111m):\u001b[39m  \u001b[38;2;138;190;255mskipping \u001b[39m \n",
      "  \u001b[2m\u001b[38;2;255;167;38m│\u001b[22m\u001b[39m \n",
      "  \u001b[2m\u001b[38;2;255;167;38m│\u001b[22m\u001b[39m \u001b[2m\u001b[38;2;206;147;216m(String)\u001b[22m\u001b[39m  \u001b[2m\u001b[38;2;255;167;38m▶\u001b[22m\u001b[39m  \u001b[1m\u001b[38;2;255;153;89msavepath\u001b[22m\u001b[39m \u001b[1m\u001b[31m=\u001b[22m\u001b[39m \u001b[38;2;165;214;167mD:\\Dropbox (UCL)\\Rotation_vte\\Locomotion\\analysis\\RNN\\datasets\\5cm_pred_0\u001b[39m \n",
      "  \u001b[1m\u001b[2m\u001b[38;2;255;167;38m╰────────────────────────────────────────────────\u001b[22m\u001b[22m\u001b[39m \n",
      "                      \u001b[2mMon, 06 Jun 2022\u001b[22m \u001b[1m\u001b[2m\u001b[4m10:54:27\u001b[22m\u001b[22m\u001b[24m \n",
      "\u001b[1m\u001b[4m\u001b[38;2;255;167;38m@Warn\u001b[22m\u001b[24m\u001b[39m \u001b[38;2;237;180;111m(Main.\u001b[4m\u001b[38;2;255;238;88mtop-level scope\u001b[24m\u001b[39m\u001b[38;2;237;180;111m):\u001b[39m  \u001b[38;2;138;190;255mskipping \u001b[39m \n",
      "  \u001b[2m\u001b[38;2;255;167;38m│\u001b[22m\u001b[39m \n",
      "  \u001b[2m\u001b[38;2;255;167;38m│\u001b[22m\u001b[39m \u001b[2m\u001b[38;2;206;147;216m(String)\u001b[22m\u001b[39m  \u001b[2m\u001b[38;2;255;167;38m▶\u001b[22m\u001b[39m  \u001b[1m\u001b[38;2;255;153;89msavepath\u001b[22m\u001b[39m \u001b[1m\u001b[31m=\u001b[22m\u001b[39m \u001b[38;2;165;214;167mD:\\Dropbox (UCL)\\Rotation_vte\\Locomotion\\analysis\\RNN\\datasets\\5cm_pred_0.25\u001b[39m \n",
      "  \u001b[1m\u001b[2m\u001b[38;2;255;167;38m╰────────────────────────────────────────────────\u001b[22m\u001b[22m\u001b[39m \n",
      "                      \u001b[2mMon, 06 Jun 2022\u001b[22m \u001b[1m\u001b[2m\u001b[4m10:54:27\u001b[22m\u001b[22m\u001b[24m \n",
      "\u001b[1m\u001b[4m\u001b[38;2;255;167;38m@Warn\u001b[22m\u001b[24m\u001b[39m \u001b[38;2;237;180;111m(Main.\u001b[4m\u001b[38;2;255;238;88mtop-level scope\u001b[24m\u001b[39m\u001b[38;2;237;180;111m):\u001b[39m  \u001b[38;2;138;190;255mskipping \u001b[39m \n",
      "  \u001b[2m\u001b[38;2;255;167;38m│\u001b[22m\u001b[39m \n",
      "  \u001b[2m\u001b[38;2;255;167;38m│\u001b[22m\u001b[39m \u001b[2m\u001b[38;2;206;147;216m(String)\u001b[22m\u001b[39m  \u001b[2m\u001b[38;2;255;167;38m▶\u001b[22m\u001b[39m  \u001b[1m\u001b[38;2;255;153;89msavepath\u001b[22m\u001b[39m \u001b[1m\u001b[31m=\u001b[22m\u001b[39m \u001b[38;2;165;214;167mD:\\Dropbox (UCL)\\Rotation_vte\\Locomotion\\analysis\\RNN\\datasets\\5cm_pred_0.5\u001b[39m \n",
      "  \u001b[1m\u001b[2m\u001b[38;2;255;167;38m╰────────────────────────────────────────────────\u001b[22m\u001b[22m\u001b[39m \n",
      "                      \u001b[2mMon, 06 Jun 2022\u001b[22m \u001b[1m\u001b[2m\u001b[4m10:54:27\u001b[22m\u001b[22m\u001b[24m \n",
      "\u001b[1m\u001b[4m\u001b[38;2;255;167;38m@Warn\u001b[22m\u001b[24m\u001b[39m \u001b[38;2;237;180;111m(Main.\u001b[4m\u001b[38;2;255;238;88mtop-level scope\u001b[24m\u001b[39m\u001b[38;2;237;180;111m):\u001b[39m  \u001b[38;2;138;190;255mskipping \u001b[39m \n",
      "  \u001b[2m\u001b[38;2;255;167;38m│\u001b[22m\u001b[39m \n",
      "  \u001b[2m\u001b[38;2;255;167;38m│\u001b[22m\u001b[39m \u001b[2m\u001b[38;2;206;147;216m(String)\u001b[22m\u001b[39m  \u001b[2m\u001b[38;2;255;167;38m▶\u001b[22m\u001b[39m  \u001b[1m\u001b[38;2;255;153;89msavepath\u001b[22m\u001b[39m \u001b[1m\u001b[31m=\u001b[22m\u001b[39m \u001b[38;2;165;214;167mD:\\Dropbox (UCL)\\Rotation_vte\\Locomotion\\analysis\\RNN\\datasets\\5cm_pred_0.75\u001b[39m \n",
      "  \u001b[1m\u001b[2m\u001b[38;2;255;167;38m╰────────────────────────────────────────────────\u001b[22m\u001b[22m\u001b[39m \n",
      "                      \u001b[2mMon, 06 Jun 2022\u001b[22m \u001b[1m\u001b[2m\u001b[4m10:54:27\u001b[22m\u001b[22m\u001b[24m \n",
      "\u001b[1m\u001b[4m\u001b[38;2;255;167;38m@Warn\u001b[22m\u001b[24m\u001b[39m \u001b[38;2;237;180;111m(Main.\u001b[4m\u001b[38;2;255;238;88mtop-level scope\u001b[24m\u001b[39m\u001b[38;2;237;180;111m):\u001b[39m  \u001b[38;2;138;190;255mskipping \u001b[39m \n",
      "  \u001b[2m\u001b[38;2;255;167;38m│\u001b[22m\u001b[39m \n",
      "  \u001b[2m\u001b[38;2;255;167;38m│\u001b[22m\u001b[39m \u001b[2m\u001b[38;2;206;147;216m(String)\u001b[22m\u001b[39m  \u001b[2m\u001b[38;2;255;167;38m▶\u001b[22m\u001b[39m  \u001b[1m\u001b[38;2;255;153;89msavepath\u001b[22m\u001b[39m \u001b[1m\u001b[31m=\u001b[22m\u001b[39m \u001b[38;2;165;214;167mD:\\Dropbox (UCL)\\Rotation_vte\\Locomotion\\analysis\\RNN\\datasets\\5cm_pred_1\u001b[39m \n",
      "  \u001b[1m\u001b[2m\u001b[38;2;255;167;38m╰────────────────────────────────────────────────\u001b[22m\u001b[22m\u001b[39m \n",
      "                      \u001b[2mMon, 06 Jun 2022\u001b[22m \u001b[1m\u001b[2m\u001b[4m10:54:28\u001b[22m\u001b[22m\u001b[24m \n",
      "\u001b[1m\u001b[4m\u001b[38;2;255;167;38m@Warn\u001b[22m\u001b[24m\u001b[39m \u001b[38;2;237;180;111m(Main.\u001b[4m\u001b[38;2;255;238;88mtop-level scope\u001b[24m\u001b[39m\u001b[38;2;237;180;111m):\u001b[39m  \u001b[38;2;138;190;255mskipping \u001b[39m \n",
      "  \u001b[2m\u001b[38;2;255;167;38m│\u001b[22m\u001b[39m \n",
      "  \u001b[2m\u001b[38;2;255;167;38m│\u001b[22m\u001b[39m \u001b[2m\u001b[38;2;206;147;216m(String)\u001b[22m\u001b[39m  \u001b[2m\u001b[38;2;255;167;38m▶\u001b[22m\u001b[39m  \u001b[1m\u001b[38;2;255;153;89msavepath\u001b[22m\u001b[39m \u001b[1m\u001b[31m=\u001b[22m\u001b[39m \u001b[38;2;165;214;167mD:\\Dropbox (UCL)\\Rotation_vte\\Locomotion\\analysis\\RNN\\datasets\\10cm_pred_0\u001b[39m \n",
      "  \u001b[1m\u001b[2m\u001b[38;2;255;167;38m╰────────────────────────────────────────────────\u001b[22m\u001b[22m\u001b[39m \n",
      "                      \u001b[2mMon, 06 Jun 2022\u001b[22m \u001b[1m\u001b[2m\u001b[4m10:54:28\u001b[22m\u001b[22m\u001b[24m \n",
      "\u001b[1m\u001b[4m\u001b[38;2;255;167;38m@Warn\u001b[22m\u001b[24m\u001b[39m \u001b[38;2;237;180;111m(Main.\u001b[4m\u001b[38;2;255;238;88mtop-level scope\u001b[24m\u001b[39m\u001b[38;2;237;180;111m):\u001b[39m  \u001b[38;2;138;190;255mskipping \u001b[39m \n",
      "  \u001b[2m\u001b[38;2;255;167;38m│\u001b[22m\u001b[39m \n",
      "  \u001b[2m\u001b[38;2;255;167;38m│\u001b[22m\u001b[39m \u001b[2m\u001b[38;2;206;147;216m(String)\u001b[22m\u001b[39m  \u001b[2m\u001b[38;2;255;167;38m▶\u001b[22m\u001b[39m  \u001b[1m\u001b[38;2;255;153;89msavepath\u001b[22m\u001b[39m \u001b[1m\u001b[31m=\u001b[22m\u001b[39m \u001b[38;2;165;214;167mD:\\Dropbox (UCL)\\Rotation_vte\\Locomotion\\analysis\\RNN\\datasets\\10cm_pred_0.25\u001b[39m \n",
      "  \u001b[1m\u001b[2m\u001b[38;2;255;167;38m╰────────────────────────────────────────────────\u001b[22m\u001b[22m\u001b[39m \n",
      "                      \u001b[2mMon, 06 Jun 2022\u001b[22m \u001b[1m\u001b[2m\u001b[4m10:54:28\u001b[22m\u001b[22m\u001b[24m \n",
      "\u001b[1m\u001b[4m\u001b[38;2;255;167;38m@Warn\u001b[22m\u001b[24m\u001b[39m \u001b[38;2;237;180;111m(Main.\u001b[4m\u001b[38;2;255;238;88mtop-level scope\u001b[24m\u001b[39m\u001b[38;2;237;180;111m):\u001b[39m  \u001b[38;2;138;190;255mskipping \u001b[39m \n",
      "  \u001b[2m\u001b[38;2;255;167;38m│\u001b[22m\u001b[39m \n",
      "  \u001b[2m\u001b[38;2;255;167;38m│\u001b[22m\u001b[39m \u001b[2m\u001b[38;2;206;147;216m(String)\u001b[22m\u001b[39m  \u001b[2m\u001b[38;2;255;167;38m▶\u001b[22m\u001b[39m  \u001b[1m\u001b[38;2;255;153;89msavepath\u001b[22m\u001b[39m \u001b[1m\u001b[31m=\u001b[22m\u001b[39m \u001b[38;2;165;214;167mD:\\Dropbox (UCL)\\Rotation_vte\\Locomotion\\analysis\\RNN\\datasets\\10cm_pred_0.5\u001b[39m \n",
      "  \u001b[1m\u001b[2m\u001b[38;2;255;167;38m╰────────────────────────────────────────────────\u001b[22m\u001b[22m\u001b[39m \n",
      "                      \u001b[2mMon, 06 Jun 2022\u001b[22m \u001b[1m\u001b[2m\u001b[4m10:54:28\u001b[22m\u001b[22m\u001b[24m \n",
      "\u001b[1m\u001b[4m\u001b[38;2;255;167;38m@Warn\u001b[22m\u001b[24m\u001b[39m \u001b[38;2;237;180;111m(Main.\u001b[4m\u001b[38;2;255;238;88mtop-level scope\u001b[24m\u001b[39m\u001b[38;2;237;180;111m):\u001b[39m  \u001b[38;2;138;190;255mskipping \u001b[39m"
     ]
    },
    {
     "name": "stdout",
     "output_type": "stream",
     "text": [
      " \n",
      "  \u001b[2m\u001b[38;2;255;167;38m│\u001b[22m\u001b[39m \n",
      "  \u001b[2m\u001b[38;2;255;167;38m│\u001b[22m\u001b[39m \u001b[2m\u001b[38;2;206;147;216m(String)\u001b[22m\u001b[39m  \u001b[2m\u001b[38;2;255;167;38m▶\u001b[22m\u001b[39m  \u001b[1m\u001b[38;2;255;153;89msavepath\u001b[22m\u001b[39m \u001b[1m\u001b[31m=\u001b[22m\u001b[39m \u001b[38;2;165;214;167mD:\\Dropbox (UCL)\\Rotation_vte\\Locomotion\\analysis\\RNN\\datasets\\10cm_pred_0.75\u001b[39m \n",
      "  \u001b[1m\u001b[2m\u001b[38;2;255;167;38m╰────────────────────────────────────────────────\u001b[22m\u001b[22m\u001b[39m \n",
      "                      \u001b[2mMon, 06 Jun 2022\u001b[22m \u001b[1m\u001b[2m\u001b[4m10:54:28\u001b[22m\u001b[22m\u001b[24m \n",
      "\u001b[1m\u001b[4m\u001b[38;2;255;167;38m@Warn\u001b[22m\u001b[24m\u001b[39m \u001b[38;2;237;180;111m(Main.\u001b[4m\u001b[38;2;255;238;88mtop-level scope\u001b[24m\u001b[39m\u001b[38;2;237;180;111m):\u001b[39m  \u001b[38;2;138;190;255mskipping \u001b[39m \n",
      "  \u001b[2m\u001b[38;2;255;167;38m│\u001b[22m\u001b[39m \n",
      "  \u001b[2m\u001b[38;2;255;167;38m│\u001b[22m\u001b[39m \u001b[2m\u001b[38;2;206;147;216m(String)\u001b[22m\u001b[39m  \u001b[2m\u001b[38;2;255;167;38m▶\u001b[22m\u001b[39m  \u001b[1m\u001b[38;2;255;153;89msavepath\u001b[22m\u001b[39m \u001b[1m\u001b[31m=\u001b[22m\u001b[39m \u001b[38;2;165;214;167mD:\\Dropbox (UCL)\\Rotation_vte\\Locomotion\\analysis\\RNN\\datasets\\10cm_pred_1\u001b[39m \n",
      "  \u001b[1m\u001b[2m\u001b[38;2;255;167;38m╰────────────────────────────────────────────────\u001b[22m\u001b[22m\u001b[39m \n",
      "                      \u001b[2mMon, 06 Jun 2022\u001b[22m \u001b[1m\u001b[2m\u001b[4m10:54:28\u001b[22m\u001b[22m\u001b[24m \n",
      "\u001b[1m\u001b[4m\u001b[38;2;255;167;38m@Warn\u001b[22m\u001b[24m\u001b[39m \u001b[38;2;237;180;111m(Main.\u001b[4m\u001b[38;2;255;238;88mtop-level scope\u001b[24m\u001b[39m\u001b[38;2;237;180;111m):\u001b[39m  \u001b[38;2;138;190;255mskipping \u001b[39m \n",
      "  \u001b[2m\u001b[38;2;255;167;38m│\u001b[22m\u001b[39m \n",
      "  \u001b[2m\u001b[38;2;255;167;38m│\u001b[22m\u001b[39m \u001b[2m\u001b[38;2;206;147;216m(String)\u001b[22m\u001b[39m  \u001b[2m\u001b[38;2;255;167;38m▶\u001b[22m\u001b[39m  \u001b[1m\u001b[38;2;255;153;89msavepath\u001b[22m\u001b[39m \u001b[1m\u001b[31m=\u001b[22m\u001b[39m \u001b[38;2;165;214;167mD:\\Dropbox (UCL)\\Rotation_vte\\Locomotion\\analysis\\RNN\\datasets\\25cm_pred_0\u001b[39m \n",
      "  \u001b[1m\u001b[2m\u001b[38;2;255;167;38m╰────────────────────────────────────────────────\u001b[22m\u001b[22m\u001b[39m \n",
      "                      \u001b[2mMon, 06 Jun 2022\u001b[22m \u001b[1m\u001b[2m\u001b[4m10:54:28\u001b[22m\u001b[22m\u001b[24m \n",
      "\u001b[1m\u001b[4m\u001b[38;2;255;167;38m@Warn\u001b[22m\u001b[24m\u001b[39m \u001b[38;2;237;180;111m(Main.\u001b[4m\u001b[38;2;255;238;88mtop-level scope\u001b[24m\u001b[39m\u001b[38;2;237;180;111m):\u001b[39m  \u001b[38;2;138;190;255mskipping \u001b[39m \n",
      "  \u001b[2m\u001b[38;2;255;167;38m│\u001b[22m\u001b[39m \n",
      "  \u001b[2m\u001b[38;2;255;167;38m│\u001b[22m\u001b[39m \u001b[2m\u001b[38;2;206;147;216m(String)\u001b[22m\u001b[39m  \u001b[2m\u001b[38;2;255;167;38m▶\u001b[22m\u001b[39m  \u001b[1m\u001b[38;2;255;153;89msavepath\u001b[22m\u001b[39m \u001b[1m\u001b[31m=\u001b[22m\u001b[39m \u001b[38;2;165;214;167mD:\\Dropbox (UCL)\\Rotation_vte\\Locomotion\\analysis\\RNN\\datasets\\25cm_pred_0.25\u001b[39m \n",
      "  \u001b[1m\u001b[2m\u001b[38;2;255;167;38m╰────────────────────────────────────────────────\u001b[22m\u001b[22m\u001b[39m \n",
      "                      \u001b[2mMon, 06 Jun 2022\u001b[22m \u001b[1m\u001b[2m\u001b[4m10:54:28\u001b[22m\u001b[22m\u001b[24m \n",
      "\u001b[1m\u001b[4m\u001b[38;2;255;167;38m@Warn\u001b[22m\u001b[24m\u001b[39m \u001b[38;2;237;180;111m(Main.\u001b[4m\u001b[38;2;255;238;88mtop-level scope\u001b[24m\u001b[39m\u001b[38;2;237;180;111m):\u001b[39m  \u001b[38;2;138;190;255mskipping \u001b[39m \n",
      "  \u001b[2m\u001b[38;2;255;167;38m│\u001b[22m\u001b[39m \n",
      "  \u001b[2m\u001b[38;2;255;167;38m│\u001b[22m\u001b[39m \u001b[2m\u001b[38;2;206;147;216m(String)\u001b[22m\u001b[39m  \u001b[2m\u001b[38;2;255;167;38m▶\u001b[22m\u001b[39m  \u001b[1m\u001b[38;2;255;153;89msavepath\u001b[22m\u001b[39m \u001b[1m\u001b[31m=\u001b[22m\u001b[39m \u001b[38;2;165;214;167mD:\\Dropbox (UCL)\\Rotation_vte\\Locomotion\\analysis\\RNN\\datasets\\25cm_pred_0.5\u001b[39m \n",
      "  \u001b[1m\u001b[2m\u001b[38;2;255;167;38m╰────────────────────────────────────────────────\u001b[22m\u001b[22m\u001b[39m \n",
      "                      \u001b[2mMon, 06 Jun 2022\u001b[22m \u001b[1m\u001b[2m\u001b[4m10:54:28\u001b[22m\u001b[22m\u001b[24m \n",
      "\u001b[1m\u001b[4m\u001b[38;2;255;167;38m@Warn\u001b[22m\u001b[24m\u001b[39m \u001b[38;2;237;180;111m(Main.\u001b[4m\u001b[38;2;255;238;88mtop-level scope\u001b[24m\u001b[39m\u001b[38;2;237;180;111m):\u001b[39m  \u001b[38;2;138;190;255mskipping \u001b[39m \n",
      "  \u001b[2m\u001b[38;2;255;167;38m│\u001b[22m\u001b[39m \n",
      "  \u001b[2m\u001b[38;2;255;167;38m│\u001b[22m\u001b[39m \u001b[2m\u001b[38;2;206;147;216m(String)\u001b[22m\u001b[39m  \u001b[2m\u001b[38;2;255;167;38m▶\u001b[22m\u001b[39m  \u001b[1m\u001b[38;2;255;153;89msavepath\u001b[22m\u001b[39m \u001b[1m\u001b[31m=\u001b[22m\u001b[39m \u001b[38;2;165;214;167mD:\\Dropbox (UCL)\\Rotation_vte\\Locomotion\\analysis\\RNN\\datasets\\25cm_pred_0.75\u001b[39m \n",
      "  \u001b[1m\u001b[2m\u001b[38;2;255;167;38m╰────────────────────────────────────────────────\u001b[22m\u001b[22m\u001b[39m \n",
      "                      \u001b[2mMon, 06 Jun 2022\u001b[22m \u001b[1m\u001b[2m\u001b[4m10:54:28\u001b[22m\u001b[22m\u001b[24m \n",
      "\u001b[1m\u001b[4m\u001b[38;2;255;167;38m@Warn\u001b[22m\u001b[24m\u001b[39m \u001b[38;2;237;180;111m(Main.\u001b[4m\u001b[38;2;255;238;88mtop-level scope\u001b[24m\u001b[39m\u001b[38;2;237;180;111m):\u001b[39m  \u001b[38;2;138;190;255mskipping \u001b[39m \n",
      "  \u001b[2m\u001b[38;2;255;167;38m│\u001b[22m\u001b[39m \n",
      "  \u001b[2m\u001b[38;2;255;167;38m│\u001b[22m\u001b[39m \u001b[2m\u001b[38;2;206;147;216m(String)\u001b[22m\u001b[39m  \u001b[2m\u001b[38;2;255;167;38m▶\u001b[22m\u001b[39m  \u001b[1m\u001b[38;2;255;153;89msavepath\u001b[22m\u001b[39m \u001b[1m\u001b[31m=\u001b[22m\u001b[39m \u001b[38;2;165;214;167mD:\\Dropbox (UCL)\\Rotation_vte\\Locomotion\\analysis\\RNN\\datasets\\25cm_pred_1\u001b[39m \n",
      "  \u001b[1m\u001b[2m\u001b[38;2;255;167;38m╰────────────────────────────────────────────────\u001b[22m\u001b[22m\u001b[39m \n",
      "                      \u001b[2mMon, 06 Jun 2022\u001b[22m \u001b[1m\u001b[2m\u001b[4m10:54:28\u001b[22m\u001b[22m\u001b[24m \n",
      "\u001b[1m\u001b[4m\u001b[38;2;255;167;38m@Warn\u001b[22m\u001b[24m\u001b[39m \u001b[38;2;237;180;111m(Main.\u001b[4m\u001b[38;2;255;238;88mtop-level scope\u001b[24m\u001b[39m\u001b[38;2;237;180;111m):\u001b[39m  \u001b[38;2;138;190;255mskipping \u001b[39m \n",
      "  \u001b[2m\u001b[38;2;255;167;38m│\u001b[22m\u001b[39m \n",
      "  \u001b[2m\u001b[38;2;255;167;38m│\u001b[22m\u001b[39m \u001b[2m\u001b[38;2;206;147;216m(String)\u001b[22m\u001b[39m  \u001b[2m\u001b[38;2;255;167;38m▶\u001b[22m\u001b[39m  \u001b[1m\u001b[38;2;255;153;89msavepath\u001b[22m\u001b[39m \u001b[1m\u001b[31m=\u001b[22m\u001b[39m \u001b[38;2;165;214;167mD:\\Dropbox (UCL)\\Rotation_vte\\Locomotion\\analysis\\RNN\\datasets\\50cm_pred_0\u001b[39m \n",
      "  \u001b[1m\u001b[2m\u001b[38;2;255;167;38m╰────────────────────────────────────────────────\u001b[22m\u001b[22m\u001b[39m \n",
      "                      \u001b[2mMon, 06 Jun 2022\u001b[22m \u001b[1m\u001b[2m\u001b[4m10:54:28\u001b[22m\u001b[22m\u001b[24m \n",
      "\u001b[1m\u001b[4m\u001b[38;2;255;167;38m@Warn\u001b[22m\u001b[24m\u001b[39m \u001b[38;2;237;180;111m(Main.\u001b[4m\u001b[38;2;255;238;88mtop-level scope\u001b[24m\u001b[39m\u001b[38;2;237;180;111m):\u001b[39m  \u001b[38;2;138;190;255mskipping \u001b[39m \n",
      "  \u001b[2m\u001b[38;2;255;167;38m│\u001b[22m\u001b[39m \n",
      "  \u001b[2m\u001b[38;2;255;167;38m│\u001b[22m\u001b[39m \u001b[2m\u001b[38;2;206;147;216m(String)\u001b[22m\u001b[39m  \u001b[2m\u001b[38;2;255;167;38m▶\u001b[22m\u001b[39m  \u001b[1m\u001b[38;2;255;153;89msavepath\u001b[22m\u001b[39m \u001b[1m\u001b[31m=\u001b[22m\u001b[39m \u001b[38;2;165;214;167mD:\\Dropbox (UCL)\\Rotation_vte\\Locomotion\\analysis\\RNN\\datasets\\50cm_pred_0.25\u001b[39m \n",
      "  \u001b[1m\u001b[2m\u001b[38;2;255;167;38m╰────────────────────────────────────────────────\u001b[22m\u001b[22m\u001b[39m \n",
      "                      \u001b[2mMon, 06 Jun 2022\u001b[22m \u001b[1m\u001b[2m\u001b[4m10:54:28\u001b[22m\u001b[22m\u001b[24m \n",
      "\u001b[1m\u001b[4m\u001b[38;2;255;167;38m@Warn\u001b[22m\u001b[24m\u001b[39m \u001b[38;2;237;180;111m(Main.\u001b[4m\u001b[38;2;255;238;88mtop-level scope\u001b[24m\u001b[39m\u001b[38;2;237;180;111m):\u001b[39m  \u001b[38;2;138;190;255mskipping \u001b[39m \n",
      "  \u001b[2m\u001b[38;2;255;167;38m│\u001b[22m\u001b[39m \n",
      "  \u001b[2m\u001b[38;2;255;167;38m│\u001b[22m\u001b[39m \u001b[2m\u001b[38;2;206;147;216m(String)\u001b[22m\u001b[39m  \u001b[2m\u001b[38;2;255;167;38m▶\u001b[22m\u001b[39m  \u001b[1m\u001b[38;2;255;153;89msavepath\u001b[22m\u001b[39m \u001b[1m\u001b[31m=\u001b[22m\u001b[39m \u001b[38;2;165;214;167mD:\\Dropbox (UCL)\\Rotation_vte\\Locomotion\\analysis\\RNN\\datasets\\50cm_pred_0.5\u001b[39m \n",
      "  \u001b[1m\u001b[2m\u001b[38;2;255;167;38m╰────────────────────────────────────────────────\u001b[22m\u001b[22m\u001b[39m \n",
      "                      \u001b[2mMon, 06 Jun 2022\u001b[22m \u001b[1m\u001b[2m\u001b[4m10:54:28\u001b[22m\u001b[22m\u001b[24m \n",
      "\u001b[1m\u001b[4m\u001b[38;2;255;167;38m@Warn\u001b[22m\u001b[24m\u001b[39m \u001b[38;2;237;180;111m(Main.\u001b[4m\u001b[38;2;255;238;88mtop-level scope\u001b[24m\u001b[39m\u001b[38;2;237;180;111m):\u001b[39m  \u001b[38;2;138;190;255mskipping \u001b[39m \n",
      "  \u001b[2m\u001b[38;2;255;167;38m│\u001b[22m\u001b[39m \n",
      "  \u001b[2m\u001b[38;2;255;167;38m│\u001b[22m\u001b[39m \u001b[2m\u001b[38;2;206;147;216m(String)\u001b[22m\u001b[39m  \u001b[2m\u001b[38;2;255;167;38m▶\u001b[22m\u001b[39m  \u001b[1m\u001b[38;2;255;153;89msavepath\u001b[22m\u001b[39m \u001b[1m\u001b[31m=\u001b[22m\u001b[39m \u001b[38;2;165;214;167mD:\\Dropbox (UCL)\\Rotation_vte\\Locomotion\\analysis\\RNN\\datasets\\50cm_pred_0.75\u001b[39m \n",
      "  \u001b[1m\u001b[2m\u001b[38;2;255;167;38m╰────────────────────────────────────────────────\u001b[22m\u001b[22m\u001b[39m \n",
      "                      \u001b[2mMon, 06 Jun 2022\u001b[22m \u001b[1m\u001b[2m\u001b[4m10:54:28\u001b[22m\u001b[22m\u001b[24m \n",
      "\u001b[1m\u001b[4m\u001b[38;2;255;167;38m@Warn\u001b[22m\u001b[24m\u001b[39m \u001b[38;2;237;180;111m(Main.\u001b[4m\u001b[38;2;255;238;88mtop-level scope\u001b[24m\u001b[39m\u001b[38;2;237;180;111m):\u001b[39m  \u001b[38;2;138;190;255mskipping \u001b[39m \n",
      "  \u001b[2m\u001b[38;2;255;167;38m│\u001b[22m\u001b[39m \n",
      "  \u001b[2m\u001b[38;2;255;167;38m│\u001b[22m\u001b[39m \u001b[2m\u001b[38;2;206;147;216m(String)\u001b[22m\u001b[39m  \u001b[2m\u001b[38;2;255;167;38m▶\u001b[22m\u001b[39m  \u001b[1m\u001b[38;2;255;153;89msavepath\u001b[22m\u001b[39m \u001b[1m\u001b[31m=\u001b[22m\u001b[39m \u001b[38;2;165;214;167mD:\\Dropbox (UCL)\\Rotation_vte\\Locomotion\\analysis\\RNN\\datasets\\50cm_pred_1\u001b[39m \n",
      "  \u001b[1m\u001b[2m\u001b[38;2;255;167;38m╰────────────────────────────────────────────────\u001b[22m\u001b[22m\u001b[39m \n",
      "                      \u001b[2mMon, 06 Jun 2022\u001b[22m \u001b[1m\u001b[2m\u001b[4m10:54:28\u001b[22m\u001b[22m\u001b[24m \n"
     ]
    }
   ],
   "source": [
    "ctrials = get_ctrials(trials, Δt, speeds_smoothing_window)\n",
    "\n",
    "for S in (0, 5, 10, 25, 50)\n",
    "    for prediction_Δt_shift in (0, .25, .5, .75, 1)\n",
    "        \n",
    "        savepath = \"D:\\\\Dropbox (UCL)\\\\Rotation_vte\\\\Locomotion\\\\analysis\\\\RNN\\\\datasets\\\\$(S)cm_pred_$(prediction_Δt_shift)\"\n",
    "        if isdir(savepath)\n",
    "            @warn \"skipping \" savepath\n",
    "            continue\n",
    "        else\n",
    "            mkpath(savepath)  # crate if it doesn't exist\n",
    "        # rm(savepath, recursive=true)  # delete content\n",
    "        # mkpath(savepath)  # crate if it doesn't exist\n",
    "        end\n",
    "\n",
    "\n",
    "\n",
    "        entries = create_dbase(ctrials, S, n_samples_chunk, prediction_Δt_shift_samples)\n",
    "        save_dbase(savepath, entries, S, prediction_Δt_shift)\n",
    "    end \n",
    "end"
   ]
  }
 ],
 "metadata": {
  "interpreter": {
   "hash": "ebad3c4e7f8f1b244d5a31e331c86067be26bf5a06e256915c5df8595c015bdb"
  },
  "kernelspec": {
   "display_name": "Julia 1.7.2",
   "language": "julia",
   "name": "julia-1.7"
  },
  "language_info": {
   "file_extension": ".jl",
   "mimetype": "application/julia",
   "name": "julia",
   "version": "1.7.2"
  },
  "orig_nbformat": 4
 },
 "nbformat": 4,
 "nbformat_minor": 2
}
