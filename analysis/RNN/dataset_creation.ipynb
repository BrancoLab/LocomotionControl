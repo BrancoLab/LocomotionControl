{
 "cells": [
  {
   "cell_type": "code",
   "execution_count": 1,
   "metadata": {},
   "outputs": [
    {
     "name": "stderr",
     "output_type": "stream",
     "text": [
      "\u001b[32m\u001b[1m  Activating\u001b[22m\u001b[39m project at `~/Documents/Github/LocomotionControl/analysis/behavior`\n"
     ]
    },
    {
     "name": "stdout",
     "output_type": "stream",
     "text": [
      "\u001b[1m\u001b[4m\u001b[38;2;66;165;245m@Info\u001b[22m\u001b[24m\u001b[39m \u001b[38;2;237;180;111m(Main):\u001b[39m  \u001b[38;2;138;190;255mLoaded 1021 trials\u001b[39m \n",
      "  \u001b[1m\u001b[2m\u001b[38;2;66;165;245m╰────────────────────────────────────────────────\u001b[22m\u001b[22m\u001b[39m \n"
     ]
    },
    {
     "name": "stdout",
     "output_type": "stream",
     "text": [
      "                      \u001b[2mFri, 13 May 2022\u001b[22m \u001b[1m\u001b[2m\u001b[4m22:43:07\u001b[22m\u001b[22m\u001b[24m \n",
      "\u001b[1m\u001b[4m\u001b[38;2;66;165;245m@Info\u001b[22m\u001b[24m\u001b[39m \u001b[38;2;237;180;111m(Main):\u001b[39m  \u001b[38;2;138;190;255mAfter tortuosity analysis, discarded 9.109% of trials | 928\u001b[0m"
     ]
    },
    {
     "name": "stdout",
     "output_type": "stream",
     "text": [
      " \n",
      "  \u001b[2m\u001b[38;2;66;165;245m│\u001b[22m\u001b[39m                \u001b[38;2;138;190;255m\u001b[38;2;138;190;255mtrials left\u001b[39m\u001b[0m\u001b[39m \n",
      "  \u001b[1m\u001b[2m\u001b[38;2;66;165;245m╰────────────────────────────────────────────────\u001b[22m\u001b[22m\u001b[39m \n",
      "                      \u001b[2mFri, 13 May 2022\u001b[22m \u001b[1m\u001b[2m\u001b[4m22:43:09\u001b[22m\u001b[22m\u001b[24m \n"
     ]
    }
   ],
   "source": [
    "# activate package, basic imports + load data\n",
    "include(\"/Users/federicoclaudi/Documents/Github/LocomotionControl/analysis/behavior/analysis_fixtures.jl\")\n",
    "include(\"/Users/federicoclaudi/Documents/Github/LocomotionControl/analysis/behavior/analysis_visuals.jl\")\n",
    "using Dierckx\n",
    "\n",
    "import jcontrol: State, movingaverage"
   ]
  },
  {
   "cell_type": "markdown",
   "metadata": {},
   "source": [
    "## Generate dataset for RNN training\n",
    "It takes the tracking data processed through the Julia behavior analysis code and creates a dataset for training an RNN on.\n",
    "\n",
    "The frist step is to get the trial's trajectory in the track's curvilinear coordinates system and to upsample the data so that they are\n",
    "expressed at an arbitrary framerate $\\Delta t$.\n",
    "\n",
    "Next, we sample `N` random time points from each trial and take the next `T` seconds of the trial as a training sample (to avoid training over an entire trial).\n",
    "Then, at each frame in the selected chunk of trial we get the track's curvature at each $\\Delta s$ point from the mouse's current position to `S` cm later."
   ]
  },
  {
   "cell_type": "code",
   "execution_count": 2,
   "metadata": {},
   "outputs": [
    {
     "data": {
      "text/plain": [
       "50"
      ]
     },
     "metadata": {},
     "output_type": "display_data"
    }
   ],
   "source": [
    "# PARAMS\n",
    "Δt = 0.005  # time step duration of upsampled trial\n",
    "N = 5    # number of chunks per trial\n",
    "T = .1  # duration of each trial \"chunk\" for training\n",
    "Δs = 5  # distance between sampling's of the track's curvature\n",
    "S = 50   # lookahead distance for track's curvature."
   ]
  },
  {
   "cell_type": "markdown",
   "metadata": {},
   "source": [
    "### Prepare tracking data\n",
    "Load tracking data, turn into track's curvilinear coordinates and upsample"
   ]
  },
  {
   "cell_type": "code",
   "execution_count": 3,
   "metadata": {},
   "outputs": [
    {
     "data": {
      "text/plain": [
       "CurvilinearCoordsTrials"
      ]
     },
     "metadata": {},
     "output_type": "display_data"
    }
   ],
   "source": [
    "\n",
    "function upsample_framerate(x, Δt)\n",
    "    t_original = 0:1/60:(length(x)/60 + 1)\n",
    "    t_original = t_original[1:length(x)]\n",
    "    t_upsample = 1:Δt:(t_original[end])\n",
    "    spl = Spline1D(t_original, x; k=2) # k: order of interpolant; can be between 1-5\n",
    "    return spl(t_upsample)\n",
    "end\n",
    "\n",
    "mutable struct CurvilinearCoordsTrials\n",
    "    x::Vector\n",
    "    y::Vector\n",
    "    s::Vector\n",
    "    n::Vector\n",
    "    ψ::Vector\n",
    "    V::Vector  # velocity vector: V = √(v² + u²)\n",
    "    ω::Vector\n",
    "    V̇::Vector  # acceleration\n",
    "    ω̇::Vector  # angular acceleration\n",
    "end\n",
    "\n",
    "function CurvilinearCoordsTrials(states::Vector{State})\n",
    "    v = upsample_framerate(sqrt.(getfield.(states, :v).^2 + getfield.(states, :u).^2), Δt)\n",
    "    ω = upsample_framerate(getfield.(states, :ω), Δt)\n",
    "\n",
    "    v̇ = movingaverage(diff(v), 21) / Δt\n",
    "    ω̇ = movingaverage(diff(ω), 21) / Δt\n",
    "\n",
    "    return CurvilinearCoordsTrials(\n",
    "        upsample_framerate(getfield.(states, :x), Δt),\n",
    "        upsample_framerate(getfield.(states, :y), Δt),    \n",
    "        upsample_framerate(getfield.(states, :s), Δt),\n",
    "        upsample_framerate(getfield.(states, :n), Δt),\n",
    "        upsample_framerate(getfield.(states, :ψ) .- getfield(states[1], :ψ), Δt),\n",
    "        upsample_framerate(v, Δt),\n",
    "        upsample_framerate(ω, Δt),\n",
    "        v̇,\n",
    "        ω̇,\n",
    "    )\n",
    "\n",
    "end"
   ]
  },
  {
   "cell_type": "code",
   "execution_count": 4,
   "metadata": {},
   "outputs": [],
   "source": [
    "trial_states(trial) = map(frame->State(trial, frame, FULLTRACK; v=trial.v[frame]), 1:length(trial.x))\n",
    "ctrials = map(trial -> CurvilinearCoordsTrials(trial_states(trial)), trials)\n",
    "nothing"
   ]
  },
  {
   "cell_type": "markdown",
   "metadata": {},
   "source": [
    "### Step 2\n",
    "Cut the trials into chunks.\n",
    "\n",
    "In doing so, make sure not to take chunks that are too close of the trial to avoid having problems."
   ]
  },
  {
   "cell_type": "code",
   "execution_count": 5,
   "metadata": {},
   "outputs": [
    {
     "name": "stdout",
     "output_type": "stream",
     "text": [
      "\u001b[1m\u001b[4m\u001b[38;2;66;165;245m@Info\u001b[22m\u001b[24m\u001b[39m \u001b[38;2;237;180;111m(Main):\u001b[39m  \u001b[38;2;138;190;255mGot 4636 chunks out of 928 trials\u001b[39m \n",
      "  \u001b[1m\u001b[2m\u001b[38;2;66;165;245m╰────────────────────────────────────────────────\u001b[22m\u001b[22m\u001b[39m \n",
      "                      \u001b[2mFri, 13 May 2022\u001b[22m \u001b[1m\u001b[2m\u001b[4m22:46:54\u001b[22m\u001b[22m\u001b[24m \n"
     ]
    },
    {
     "data": {
      "text/plain": [
       "-617.3333333333334"
      ]
     },
     "metadata": {},
     "output_type": "display_data"
    }
   ],
   "source": [
    "chunks = []\n",
    "for trial in ctrials\n",
    "    # timesteps = 1:findlast(trial.s .< (trial.s[end]-(S+15)))\n",
    "    # timesteps = timesteps[1:end - (Int ∘ round)(T * 1000)]\n",
    "    timesteps = 1:(length(trial.s) - (Int ∘ round)(T * 1000))\n",
    "    if length(timesteps) == 0\n",
    "        continue\n",
    "    end\n",
    "\n",
    "    starts = (Int ∘ round).(rand(timesteps, N))\n",
    "    stops = (Int ∘ round).(starts .+ (T * 1000))\n",
    "\n",
    "\n",
    "    for (start, stop) in zip(starts, stops)\n",
    "        if stop <= start || stop >= length(trial.n)\n",
    "            continue\n",
    "        end\n",
    "        push!(chunks, \n",
    "            CurvilinearCoordsTrials(\n",
    "                trial.x[start:stop],\n",
    "                trial.y[start:stop],\n",
    "                trial.s[start:stop],\n",
    "                trial.n[start:stop],\n",
    "                trial.ψ[start:stop],\n",
    "                trial.V[start:stop],\n",
    "                trial.ω[start:stop],\n",
    "                trial.V̇[start:stop],\n",
    "                trial.ω̇[start:stop],\n",
    "            )\n",
    "        )\n",
    "    end\n",
    "end\n",
    "\n",
    "@info \"Got $(length(chunks)) chunks out of $(length(trials)) trials\"\n",
    "(length(trials) * 3 - length(chunks))/3"
   ]
  },
  {
   "cell_type": "markdown",
   "metadata": {},
   "source": [
    "### Step 3\n",
    "for each chunk get the track's curvature ahead at each frame"
   ]
  },
  {
   "cell_type": "code",
   "execution_count": 6,
   "metadata": {},
   "outputs": [],
   "source": [
    "struct DatasetEntry\n",
    "    n::Vector{Float64}\n",
    "    ψ::Vector{Float64}\n",
    "    s::Vector{Float64}\n",
    "    V::Vector{Float64}\n",
    "    ω::Vector{Float64}\n",
    "    V̇::Vector{Float64}\n",
    "    ω̇::Vector{Float64}\n",
    "    k::Matrix{Float64}   # stores the curvature at each waypoint and each frame\n",
    "end"
   ]
  },
  {
   "cell_type": "code",
   "execution_count": 7,
   "metadata": {},
   "outputs": [
    {
     "data": {
      "text/plain": [
       "11×101 Matrix{Float64}:\n",
       "  0.128197      0.117093      0.109053     …  -0.000229285  -0.000245414\n",
       "  0.0468121     0.0453496     0.0442564        6.35898e-5    6.54237e-5\n",
       "  0.00531312    0.00196971   -0.0013026       -1.9439e-5    -2.33865e-5\n",
       " -0.00392382   -0.00100927    0.00164133      -0.00022907   -0.000245198\n",
       "  0.0106179     0.00874865    0.00694454      -0.00022907   -0.000245198\n",
       " -0.00310657   -0.00257541   -0.00206314   …  -0.00022907   -0.000245198\n",
       "  0.000815265   0.000725415   0.000595535     -0.00022907   -0.000245198\n",
       " -0.000223693  -0.000192624  -0.000162369     -0.00022907   -0.000245198\n",
       "  6.42378e-5    5.47944e-5    4.57873e-5      -0.00022907   -0.000245198\n",
       " -3.53179e-7    0.117179      0.109116        -0.00022907   -0.000245198\n",
       "  0.128309      0.117179      0.109116     …  -0.00022907   -0.000245198"
      ]
     },
     "metadata": {},
     "output_type": "display_data"
    }
   ],
   "source": [
    "waypoints = collect(0:Δs:S)\n",
    "waypoints_idxs = 1:length(waypoints)\n",
    "\n",
    "entries = []\n",
    "for chunk in chunks\n",
    "    # get curvature\n",
    "    chunk_curv = zeros(length(waypoints_idxs), length(chunk.s))\n",
    "\n",
    "    \n",
    "\n",
    "    for frame in 1:length(chunk.x)\n",
    "        # get relevant S vector from track\n",
    "        s̄ = FULLTRACK.S .- chunk.s[frame]\n",
    "        start = argmin(s̄ .^ 2)\n",
    "        stop = findlast(s̄ .<= S)\n",
    "        # @assert stop > start\n",
    "        # @assert FULLTRACK.S[stop] <= (chunk.s[frame]+S)\n",
    "\n",
    "        svec = FULLTRACK.S[start:stop]\n",
    "        for (I, sval) in zip(waypoints_idxs, waypoints)\n",
    "            idx = findfirst((svec .- svec[1]) .> sval)\n",
    "            idx = isnothing(idx) ? 1 : idx\n",
    "            # push!(chunk_curv[I], svec[idx])\n",
    "            chunk_curv[I, frame] = FULLTRACK.κ(svec[idx])\n",
    "        end\n",
    "    end\n",
    "\n",
    "    push!(entries, DatasetEntry(\n",
    "        chunk.n,\n",
    "        chunk.ψ,\n",
    "        chunk.s,\n",
    "        chunk.V,\n",
    "        chunk.ω,\n",
    "        chunk.V̇,\n",
    "        chunk.ω̇,\n",
    "        chunk_curv,\n",
    "    )\n",
    "    )\n",
    "\n",
    "end\n",
    "\n",
    "entries[1].k"
   ]
  },
  {
   "cell_type": "code",
   "execution_count": 8,
   "metadata": {},
   "outputs": [
    {
     "name": "stdout",
     "output_type": "stream",
     "text": [
      "\u001b[1m\u001b[4m\u001b[38;2;66;165;245m@Info\u001b[22m\u001b[24m\u001b[39m \u001b[38;2;237;180;111m(Main):\u001b[39m  \u001b[38;2;138;190;255mGot 4636 entries from 4636 chunks\u001b[39m \n",
      "  \u001b[1m\u001b[2m\u001b[38;2;66;165;245m╰────────────────────────────────────────────────\u001b[22m\u001b[22m\u001b[39m \n",
      "                      \u001b[2mFri, 13 May 2022\u001b[22m \u001b[1m\u001b[2m\u001b[4m22:56:51\u001b[22m\u001b[22m\u001b[24m \n"
     ]
    }
   ],
   "source": [
    "@info \"Got $(length(entries)) entries from $(length(chunks)) chunks\""
   ]
  },
  {
   "cell_type": "markdown",
   "metadata": {},
   "source": [
    "### Save data\n",
    "save data to file in a format which can be loaded back in python for RNN training"
   ]
  },
  {
   "cell_type": "code",
   "execution_count": 9,
   "metadata": {},
   "outputs": [],
   "source": [
    "using JSON: JSON\n",
    "using DataFrames: DataFrame\n",
    "import JSONTables: objecttable, jsontable\n",
    "import OrderedCollections: OrderedDict\n",
    "\n",
    "savepath = \"/Users/federicoclaudi/Dropbox (UCL)/Rotation_vte/Locomotion/analysis/RNN/dataset\"\n",
    "\n",
    "for (i, entry) in enumerate(entries)\n",
    "    ks = collect(Symbol(\"k_\", i)=>entry.k[i, :] for i in 1:size(entry.k,1 ))\n",
    "    dict = OrderedDict{Symbol, Union{Vector{Float64}, Matrix{Float64}}}(\n",
    "        :n=>entry.n,\n",
    "        :ψ=>entry.ψ,\n",
    "        :s=>entry.s,\n",
    "        :V=>entry.V,\n",
    "        :ω=>entry.ω,\n",
    "        :v̇=>entry.V̇,\n",
    "        :ω̇=>entry.ω̇,\n",
    "        ks...\n",
    "    )\n",
    "    df = DataFrame(dict)\n",
    "\n",
    "    open(joinpath(savepath, \"$(i).json\"), \"w\") do f\n",
    "        write(f, objecttable(df))\n",
    "    end\n",
    "end"
   ]
  },
  {
   "cell_type": "code",
   "execution_count": 10,
   "metadata": {},
   "outputs": [],
   "source": []
  }
 ],
 "metadata": {
  "kernelspec": {
   "display_name": "Julia 1.7.1",
   "language": "julia",
   "name": "julia-1.7"
  },
  "language_info": {
   "file_extension": ".jl",
   "mimetype": "application/julia",
   "name": "julia",
   "version": "1.7.1"
  },
  "orig_nbformat": 4
 },
 "nbformat": 4,
 "nbformat_minor": 2
}
