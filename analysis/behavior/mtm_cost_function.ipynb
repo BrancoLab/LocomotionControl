{
 "cells": [
  {
   "cell_type": "code",
   "execution_count": null,
   "metadata": {},
   "outputs": [],
   "source": [
    "# load basic packages\n",
    "include(\"./analysis_fixtures.jl\")\n",
    "\n",
    "import jcontrol.Run: run_mtm\n",
    "import jcontrol: toDict\n",
    "savepath = \"/Users/federicoclaudi/Dropbox (UCL)/Rotation_vte/Locomotion/analysis/behavior/mtm_cost_function\"\n",
    "import InfiniteOpt: termination_status"
   ]
  },
  {
   "cell_type": "markdown",
   "metadata": {},
   "source": [
    "## Run MTM\n",
    "Run MTM while systematically varying the cost fuction alpha factor."
   ]
  },
  {
   "cell_type": "code",
   "execution_count": null,
   "metadata": {},
   "outputs": [],
   "source": [
    "\n",
    "\"\"\"\n",
    "Runs the MTM problem while systematically changing the alpha factor of the cost function\n",
    "    to assess the effect on behavior\n",
    "\"\"\"\n",
    "\n",
    "\n",
    "for γ in (4e-6, 8e-6 1e-5, 5e-5)\n",
    "    @info \"Running γ: $(γ)\"\n",
    "    _, _, control_model, solution = run_mtm(\n",
    "        :dynamics,  # model type\n",
    "        2.0;  # supports density\n",
    "        showtrials=nothing,\n",
    "        showplots=false,\n",
    "        quiet=true,\n",
    "        γ = γ,\n",
    "        α=0.0,\n",
    "    )\n",
    "\n",
    "    if \"LOCALLY_SOLVED\" == string(termination_status(control_model))\n",
    "        destination = joinpath(savepath, \"cost_fn_alpha_0_gamma_$(γ).csv\")\n",
    "        data = DataFrame(toDict(solution))\n",
    "        CSV.write(destination, data)\n",
    "    else\n",
    "        println(termination_status(control_model))\n",
    "    end\n",
    "end\n",
    "\n",
    "\n",
    "for α in (4e-6, 8e-6 1e-5, 5e-5)\n",
    "    @info \"Running α: $(α)\"\n",
    "    _, _, control_model, solution = run_mtm(\n",
    "        :dynamics,  # model type\n",
    "        2.0;  # supports density\n",
    "        showtrials=nothing,\n",
    "        showplots=false,\n",
    "        quiet=true,\n",
    "        α = α,\n",
    "        γ = 0.0,\n",
    "    )\n",
    "\n",
    "    if \"LOCALLY_SOLVED\" == string(termination_status(control_model))\n",
    "        destination = joinpath(savepath, \"cost_fn_alpha_$(α)_gamma_0.csv\")\n",
    "        data = DataFrame(toDict(solution))\n",
    "        CSV.write(destination, data)\n",
    "    else\n",
    "        println(termination_status(control_model))\n",
    "    end\n",
    "end"
   ]
  },
  {
   "cell_type": "markdown",
   "metadata": {},
   "source": [
    "## Analysis"
   ]
  },
  {
   "cell_type": "code",
   "execution_count": null,
   "metadata": {},
   "outputs": [],
   "source": [
    "# load simulations\n",
    "solutions, _names = load_mtm_solutions(folder=savepath, name=\"cost_fn_alpha_\");\n",
    "\n",
    "for (solution, name) in zip(solutions, _names)\n",
    "    println(name, \"  \", solution.t[end])\n",
    "end"
   ]
  },
  {
   "cell_type": "code",
   "execution_count": null,
   "metadata": {},
   "outputs": [],
   "source": [
    "function make_palette(x)\n",
    "    return range(HSL(217, .64, .55), stop=HSL(320, .73, .78), length=length(x))\n",
    "end"
   ]
  },
  {
   "cell_type": "code",
   "execution_count": null,
   "metadata": {},
   "outputs": [],
   "source": [
    "plt = draw(:arena)\n",
    "\n",
    "draw!.(trials[1:100]; alpha=.1)\n",
    "\n",
    "colors = make_palette(solutions)\n",
    "for (n, solution) in enumerate(solutions)\n",
    "    plot!(solution.x, solution.y, lw=5, alpha=.8, color=colors[n], label=_names[n]) \n",
    "end\n",
    "plt"
   ]
  }
 ],
 "metadata": {
  "kernelspec": {
   "display_name": "Julia 1.7.1",
   "language": "julia",
   "name": "julia-1.7"
  },
  "language_info": {
   "file_extension": ".jl",
   "mimetype": "application/julia",
   "name": "julia",
   "version": "1.7.1"
  },
  "orig_nbformat": 4
 },
 "nbformat": 4,
 "nbformat_minor": 2
}
