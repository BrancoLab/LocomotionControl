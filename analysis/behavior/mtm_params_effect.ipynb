{
 "cells": [
  {
   "cell_type": "code",
   "execution_count": 59,
   "metadata": {},
   "outputs": [
    {
     "name": "stderr",
     "output_type": "stream",
     "text": [
      "\u001b[32m\u001b[1m  Activating\u001b[22m\u001b[39m project at `~/Documents/Github/LocomotionControl/analysis/behavior`\n"
     ]
    },
    {
     "name": "stdout",
     "output_type": "stream",
     "text": [
      "\u001b[1m\u001b[4m\u001b[38;2;66;165;245m@Info\u001b[22m\u001b[24m\u001b[39m \u001b[38;2;237;180;111m(Main):\u001b[39m  \u001b[38;2;138;190;255mLoaded 1021 trials\u001b[39m \n",
      "  \u001b[1m\u001b[2m\u001b[38;2;66;165;245m╰────────────────────────────────────────────────\u001b[22m\u001b[22m\u001b[39m \n",
      "                      \u001b[2mFri, 20 May 2022\u001b[22m \u001b[1m\u001b[2m\u001b[4m12:07:31\u001b[22m\u001b[22m\u001b[24m \n"
     ]
    },
    {
     "data": {
      "text/plain": [
       "kdeplot!"
      ]
     },
     "metadata": {},
     "output_type": "display_data"
    }
   ],
   "source": [
    "# activate package, basic imports + load data\n",
    "include(\"/Users/federicoclaudi/Documents/Github/LocomotionControl/analysis/behavior/analysis_fixtures.jl\")\n",
    "include(\"/Users/federicoclaudi/Documents/Github/LocomotionControl/analysis/behavior/analysis_visuals.jl\")"
   ]
  },
  {
   "cell_type": "code",
   "execution_count": 60,
   "metadata": {},
   "outputs": [],
   "source": [
    "import jcontrol.bicycle: Bicycle\n",
    "import jcontrol.control: Bounds, ControlOptions\n",
    "import InfiniteOpt: termination_status\n",
    "import jcontrol.Run: run_mtm\n",
    "import jcontrol: toDict"
   ]
  },
  {
   "cell_type": "markdown",
   "metadata": {},
   "source": [
    "# Params effect\n",
    "Vary a bunch of params and run global MTM to assess effect of parameters change\n",
    "\n",
    "\n",
    "## Prepare parameters set."
   ]
  },
  {
   "cell_type": "code",
   "execution_count": 61,
   "metadata": {},
   "outputs": [
    {
     "name": "stdout",
     "output_type": "stream",
     "text": [
      "\u001b[1m\u001b[4m\u001b[38;2;66;165;245m@Info\u001b[22m\u001b[24m\u001b[39m \u001b[38;2;237;180;111m(Main):\u001b[39m  \u001b[38;2;138;190;255mNumber of values per parameter: 21\u001b[39m \n",
      "  \u001b[1m\u001b[2m\u001b[38;2;66;165;245m╰────────────────────────────────────────────────\u001b[22m\u001b[22m\u001b[39m \n",
      "                      \u001b[2mFri, 20 May 2022\u001b[22m \u001b[1m\u001b[2m\u001b[4m12:07:31\u001b[22m\u001b[22m\u001b[24m \n"
     ]
    }
   ],
   "source": [
    "savepath = \"/Users/federicoclaudi/Dropbox (UCL)/Rotation_vte/Locomotion/analysis/behavior/mtm_parameters\"\n",
    "\n",
    "p = -1:.1:1\n",
    "@info \"Number of values per parameter: $(length(p))\""
   ]
  },
  {
   "cell_type": "code",
   "execution_count": 62,
   "metadata": {},
   "outputs": [
    {
     "name": "stdout",
     "output_type": "stream",
     "text": [
      "\u001b[1m\u001b[4m\u001b[38;2;66;165;245m@Info\u001b[22m\u001b[24m\u001b[39m \u001b[38;2;237;180;111m(Main):\u001b[39m  \u001b[38;2;138;190;255mTot N simulations for bike: 126\u001b[39m \n",
      "  \u001b[1m\u001b[2m\u001b[38;2;66;165;245m╰────────────────────────────────────────────────\u001b[22m\u001b[22m\u001b[39m \n",
      "                      \u001b[2mFri, 20 May 2022\u001b[22m \u001b[1m\u001b[2m\u001b[4m12:07:31\u001b[22m\u001b[22m\u001b[24m \n"
     ]
    }
   ],
   "source": [
    "bike_default = Dict(\n",
    "    :l_f=>3,\n",
    "    :l_r=>2,\n",
    "    :width=>1.8,\n",
    "    :m_f=>10, \n",
    "    :m_r=>12, \n",
    "    :c=>4e3\n",
    ")\n",
    "\n",
    "bike_Δ = Dict(\n",
    "    :l_f=>2,\n",
    "    :l_r=>2,\n",
    "    :width=>.2,\n",
    "    :m_f=>3, \n",
    "    :m_r=>3, \n",
    "    :c=>2e3\n",
    ")\n",
    "\n",
    "@info \"Tot N simulations for bike: $(length(p) * length(bike_Δ))\""
   ]
  },
  {
   "cell_type": "markdown",
   "metadata": {},
   "source": [
    "## Run simulation"
   ]
  },
  {
   "cell_type": "code",
   "execution_count": 63,
   "metadata": {},
   "outputs": [],
   "source": [
    "count = 1\n",
    "for (parameter, pΔ) in pairs(bike_Δ)\n",
    "    @info \"Running simulations for: $(parameter)\"\n",
    "    for pval in p\n",
    "        kwargs = (parameter => bike_default[parameter] + pΔ * pval, )\n",
    "        bike = Bicycle(; kwargs...)\n",
    "\n",
    "        _, _, control_model, solution = run_mtm(\n",
    "            :dynamics,  # model type\n",
    "            2.0;  # supports density\n",
    "            showtrials=nothing,\n",
    "            showplots=false,\n",
    "            quiet=true,\n",
    "            bike=bike\n",
    "        )\n",
    "        \n",
    "        if \"LOCALLY_SOLVED\" == string(termination_status(control_model))\n",
    "            destination = joinpath(savepath, \"bike_param_$count.csv\")\n",
    "            data = DataFrame(toDict(solution))\n",
    "            CSV.write(destination, data)\n",
    "        else\n",
    "            @warn \"Failed\" termination_status(control_model)\n",
    "        end\n",
    "        count += 1\n",
    "    end\n",
    "end"
   ]
  },
  {
   "cell_type": "markdown",
   "metadata": {},
   "source": [
    "## Make parameters values metadata"
   ]
  },
  {
   "cell_type": "code",
   "execution_count": null,
   "metadata": {},
   "outputs": [],
   "source": [
    "import OrderedCollections: OrderedDict\n",
    "params_metadata = Dict{Int64, Pair}()\n",
    "\n",
    "count = 1\n",
    "for (parameter, pΔ) in pairs(bike_Δ)\n",
    "    for pval in p\n",
    "        params_metadata[count] =  parameter => bike_default[parameter] + pΔ * pval\n",
    "\n",
    "        count += 1\n",
    "    end\n",
    "end\n",
    "\n",
    "\"\"\"\n",
    "For each parameter get the ID of all the simulations that \n",
    "varied that parameter values\n",
    "\"\"\"\n",
    "function get_param_runs_ids(param::Symbol)\n",
    "    res = OrderedDict{Int64, Number}()\n",
    "\n",
    "    for (id, (sim_param, value)) in pairs(params_metadata)\n",
    "       if sim_param == param\n",
    "        res[id] = value\n",
    "       end\n",
    "    end\n",
    "\n",
    "   return sort!(res)\n",
    "end\n"
   ]
  },
  {
   "cell_type": "markdown",
   "metadata": {},
   "source": [
    "## Analyze"
   ]
  },
  {
   "cell_type": "code",
   "execution_count": null,
   "metadata": {},
   "outputs": [],
   "source": [
    "solutions, _names = load_mtm_solutions(; folder=savepath, name=\"\")\n",
    "@info \"Loaded $(length(solutions)) solutions\"\n",
    "solutions_ids = map(n -> parse(Int64, split(split(n, \"_\")[3], \".\")[1]), _names);\n",
    "\n",
    "solutions = Dict(_id=>sol for (_id, sol) in zip(solutions_ids, solutions))"
   ]
  },
  {
   "cell_type": "code",
   "execution_count": null,
   "metadata": {},
   "outputs": [],
   "source": [
    "get_param_runs_ids(:width)"
   ]
  },
  {
   "cell_type": "code",
   "execution_count": null,
   "metadata": {},
   "outputs": [],
   "source": [
    "function make_palette(x)\n",
    "    return range(HSL(217, .64, .55), stop=HSL(320, .73, .78), length=length(x))\n",
    "end"
   ]
  },
  {
   "cell_type": "code",
   "execution_count": null,
   "metadata": {},
   "outputs": [],
   "source": [
    "plots = []\n",
    "colors = make_palette(p)\n",
    "\n",
    "for para in keys(bike_Δ)\n",
    "    runs_ids = get_param_runs_ids(para)\n",
    "\n",
    "    param_solutions = [(get(solutions, _id, nothing), val) for (_id, val) in runs_ids]\n",
    "\n",
    "    plt = draw(:arena)\n",
    "    for (n, (sol, val)) in enumerate(param_solutions)\n",
    "        isnothing(sol) && continue\n",
    "        plot!(sol.x, sol.y, \n",
    "            lw=2, color=colors[n],\n",
    "            label=\"$(para): $(round(val; digits=2)) - ($(round(sol.t[end]; digits=2)), s)\")\n",
    "    end\n",
    "    plot!(title=para)\n",
    "    push!(plots, plt)\n",
    "\n",
    "end\n",
    "\n",
    "plot(plots...; grid=false)"
   ]
  }
 ],
 "metadata": {
  "kernelspec": {
   "display_name": "Julia 1.7.1",
   "language": "julia",
   "name": "julia-1.7"
  },
  "language_info": {
   "file_extension": ".jl",
   "mimetype": "application/julia",
   "name": "julia",
   "version": "1.7.1"
  },
  "orig_nbformat": 4
 },
 "nbformat": 4,
 "nbformat_minor": 2
}
