{
 "cells": [
  {
   "cell_type": "markdown",
   "metadata": {},
   "source": [
    "# Curves frate\n",
    "Plot average frate as a function of s relative to apex position for each curve and cell"
   ]
  },
  {
   "cell_type": "code",
   "execution_count": 1,
   "metadata": {},
   "outputs": [
    {
     "data": {
      "text/html": [
       "<pre style=\"white-space:pre;overflow-x:auto;line-height:normal;font-family:Menlo,'DejaVu Sans Mono',consolas,'Courier New',monospace\"><span style=\"color: #7fbfbf; text-decoration-color: #7fbfbf\">[06/07/22 20:58:28] </span><span style=\"color: #008000; text-decoration-color: #008000\">DEBUG   </span> DPL - Saving data and logs to logs                   <a href=\"file://c:\\ProgramData\\Miniconda3\\envs\\dev\\lib\\site-packages\\tpd\\core.py\"><span style=\"color: #7f7f7f; text-decoration-color: #7f7f7f\">core.py</span></a><span style=\"color: #7f7f7f; text-decoration-color: #7f7f7f\">:</span><a href=\"file://c:\\ProgramData\\Miniconda3\\envs\\dev\\lib\\site-packages\\tpd\\core.py#118\"><span style=\"color: #7f7f7f; text-decoration-color: #7f7f7f\">118</span></a>\n",
       "</pre>\n"
      ],
      "text/plain": [
       "\u001b[2;36m[06/07/22 20:58:28]\u001b[0m\u001b[2;36m \u001b[0m\u001b[32mDEBUG   \u001b[0m DPL - Saving data and logs to logs                   \u001b]8;id=826686;file://c:\\ProgramData\\Miniconda3\\envs\\dev\\lib\\site-packages\\tpd\\core.py\u001b\\\u001b[2mcore.py\u001b[0m\u001b]8;;\u001b\\\u001b[2m:\u001b[0m\u001b]8;id=422129;file://c:\\ProgramData\\Miniconda3\\envs\\dev\\lib\\site-packages\\tpd\\core.py#118\u001b\\\u001b[2m118\u001b[0m\u001b]8;;\u001b\\\n"
      ]
     },
     "metadata": {},
     "output_type": "display_data"
    },
    {
     "data": {
      "text/html": [
       "<pre style=\"white-space:pre;overflow-x:auto;line-height:normal;font-family:Menlo,'DejaVu Sans Mono',consolas,'Courier New',monospace\"><span style=\"color: #7fbfbf; text-decoration-color: #7fbfbf\">                    </span><span style=\"color: #008000; text-decoration-color: #008000\">DEBUG   </span> Saving log file to: logs\\log.log                     <a href=\"file://c:\\ProgramData\\Miniconda3\\envs\\dev\\lib\\site-packages\\tpd\\core.py\"><span style=\"color: #7f7f7f; text-decoration-color: #7f7f7f\">core.py</span></a><span style=\"color: #7f7f7f; text-decoration-color: #7f7f7f\">:</span><a href=\"file://c:\\ProgramData\\Miniconda3\\envs\\dev\\lib\\site-packages\\tpd\\core.py#119\"><span style=\"color: #7f7f7f; text-decoration-color: #7f7f7f\">119</span></a>\n",
       "</pre>\n"
      ],
      "text/plain": [
       "\u001b[2;36m                   \u001b[0m\u001b[2;36m \u001b[0m\u001b[32mDEBUG   \u001b[0m Saving log file to: logs\\log.log                     \u001b]8;id=679886;file://c:\\ProgramData\\Miniconda3\\envs\\dev\\lib\\site-packages\\tpd\\core.py\u001b\\\u001b[2mcore.py\u001b[0m\u001b]8;;\u001b\\\u001b[2m:\u001b[0m\u001b]8;id=20455;file://c:\\ProgramData\\Miniconda3\\envs\\dev\\lib\\site-packages\\tpd\\core.py#119\u001b\\\u001b[2m119\u001b[0m\u001b]8;;\u001b\\\n"
      ]
     },
     "metadata": {},
     "output_type": "display_data"
    },
    {
     "name": "stdout",
     "output_type": "stream",
     "text": [
      "Connecting root@127.0.0.1:3306\n"
     ]
    },
    {
     "data": {
      "text/html": [
       "<pre style=\"white-space:pre;overflow-x:auto;line-height:normal;font-family:Menlo,'DejaVu Sans Mono',consolas,'Courier New',monospace\"><span style=\"color: #7fbfbf; text-decoration-color: #7fbfbf\">[06/07/22 20:58:29] </span><span style=\"color: #008000; text-decoration-color: #008000\">DEBUG   </span> Connected to database: LOCOMOTION                 <a href=\"file://C:\\Users\\Federico\\Documents\\GitHub\\pysical_locomotion\\data\\dbase\\__init__.py\"><span style=\"color: #7f7f7f; text-decoration-color: #7f7f7f\">__init__.py</span></a><span style=\"color: #7f7f7f; text-decoration-color: #7f7f7f\">:</span><a href=\"file://C:\\Users\\Federico\\Documents\\GitHub\\pysical_locomotion\\data\\dbase\\__init__.py#11\"><span style=\"color: #7f7f7f; text-decoration-color: #7f7f7f\">11</span></a>\n",
       "</pre>\n"
      ],
      "text/plain": [
       "\u001b[2;36m[06/07/22 20:58:29]\u001b[0m\u001b[2;36m \u001b[0m\u001b[32mDEBUG   \u001b[0m Connected to database: LOCOMOTION                 \u001b]8;id=666690;file://C:\\Users\\Federico\\Documents\\GitHub\\pysical_locomotion\\data\\dbase\\__init__.py\u001b\\\u001b[2m__init__.py\u001b[0m\u001b]8;;\u001b\\\u001b[2m:\u001b[0m\u001b]8;id=131436;file://C:\\Users\\Federico\\Documents\\GitHub\\pysical_locomotion\\data\\dbase\\__init__.py#11\u001b\\\u001b[2m11\u001b[0m\u001b]8;;\u001b\\\n"
      ]
     },
     "metadata": {},
     "output_type": "display_data"
    },
    {
     "name": "stdout",
     "output_type": "stream",
     "text": [
      "['FC_220408_BAA1101192_hairpin' 'FC_220409_BAA1101192_hairpin'\n",
      " 'FC_220410_BAA1101192_hairpin' 'FC_220411_BAA1101192_hairpin'\n",
      " 'FC_220412_BAA1101192_hairpin' 'FC_220413_BAA1101192_hairpin'\n",
      " 'FC_220414_BAA1101192_hairpin' 'FC_220415_BAA1101192_hairpin'\n",
      " 'FC_220432_BAA1101192_hairpin' 'FC_220433_BAA1101192_hairpin'\n",
      " 'FC_220434_BAA1101192_hairpin' 'FC_220435_BAA1101192_hairpin']\n"
     ]
    }
   ],
   "source": [
    "# imports\n",
    "import sys\n",
    "import matplotlib.pyplot as plt\n",
    "from pathlib import Path\n",
    "import numpy as np\n",
    "\n",
    "sys.path.append(\"./\")\n",
    "sys.path.append(r\"C:\\Users\\Federico\\Documents\\GitHub\\pysical_locomotion\")\n",
    "\n",
    "from fcutils.plot.figure import clean_axes\n",
    "from fcutils.plot.elements import plot_mean_and_error\n",
    "from fcutils.maths.signals import rolling_mean\n",
    "from analysis.ephys.utils import get_recording_names, get_data, get_session_bouts, curves, get_roi_crossings\n",
    "\n",
    "save_folder = Path(r\"D:\\Dropbox (UCL)\\Rotation_vte\\Locomotion\\analysis\\ephys\")\n",
    "\n",
    "# print all available recordings\n",
    "print(get_recording_names())"
   ]
  },
  {
   "cell_type": "code",
   "execution_count": 2,
   "metadata": {},
   "outputs": [
    {
     "data": {
      "text/html": [
       "<pre style=\"white-space:pre;overflow-x:auto;line-height:normal;font-family:Menlo,'DejaVu Sans Mono',consolas,'Courier New',monospace\"><span style=\"color: #7fbfbf; text-decoration-color: #7fbfbf\">[06/07/22 20:58:31] </span><span style=\"color: #000080; text-decoration-color: #000080\">INFO    </span> Got tracking data for FC_220410_BAA1101192_hairpin  <a href=\"file://C:\\Users\\Federico\\Documents\\GitHub\\pysical_locomotion\\analysis\\ephys\\utils.py\"><span style=\"color: #7f7f7f; text-decoration-color: #7f7f7f\">utils.py</span></a><span style=\"color: #7f7f7f; text-decoration-color: #7f7f7f\">:</span><a href=\"file://C:\\Users\\Federico\\Documents\\GitHub\\pysical_locomotion\\analysis\\ephys\\utils.py#169\"><span style=\"color: #7f7f7f; text-decoration-color: #7f7f7f\">169</span></a>\n",
       "</pre>\n"
      ],
      "text/plain": [
       "\u001b[2;36m[06/07/22 20:58:31]\u001b[0m\u001b[2;36m \u001b[0m\u001b[34mINFO    \u001b[0m Got tracking data for FC_220410_BAA1101192_hairpin  \u001b]8;id=577627;file://C:\\Users\\Federico\\Documents\\GitHub\\pysical_locomotion\\analysis\\ephys\\utils.py\u001b\\\u001b[2mutils.py\u001b[0m\u001b]8;;\u001b\\\u001b[2m:\u001b[0m\u001b]8;id=272287;file://C:\\Users\\Federico\\Documents\\GitHub\\pysical_locomotion\\analysis\\ephys\\utils.py#169\u001b\\\u001b[2m169\u001b[0m\u001b]8;;\u001b\\\n"
      ]
     },
     "metadata": {},
     "output_type": "display_data"
    },
    {
     "data": {
      "text/html": [
       "<pre style=\"white-space:pre;overflow-x:auto;line-height:normal;font-family:Menlo,'DejaVu Sans Mono',consolas,'Courier New',monospace\"><span style=\"color: #7fbfbf; text-decoration-color: #7fbfbf\">[06/07/22 20:58:32] </span><span style=\"color: #000080; text-decoration-color: #000080\">INFO    </span> Got <span style=\"color: #008080; text-decoration-color: #008080; font-weight: bold\">40</span> units for FC_220410_BAA1101192_hairpin       <a href=\"file://C:\\Users\\Federico\\Documents\\GitHub\\pysical_locomotion\\analysis\\ephys\\utils.py\"><span style=\"color: #7f7f7f; text-decoration-color: #7f7f7f\">utils.py</span></a><span style=\"color: #7f7f7f; text-decoration-color: #7f7f7f\">:</span><a href=\"file://C:\\Users\\Federico\\Documents\\GitHub\\pysical_locomotion\\analysis\\ephys\\utils.py#183\"><span style=\"color: #7f7f7f; text-decoration-color: #7f7f7f\">183</span></a>\n",
       "</pre>\n"
      ],
      "text/plain": [
       "\u001b[2;36m[06/07/22 20:58:32]\u001b[0m\u001b[2;36m \u001b[0m\u001b[34mINFO    \u001b[0m Got \u001b[1;36m40\u001b[0m units for FC_220410_BAA1101192_hairpin       \u001b]8;id=968276;file://C:\\Users\\Federico\\Documents\\GitHub\\pysical_locomotion\\analysis\\ephys\\utils.py\u001b\\\u001b[2mutils.py\u001b[0m\u001b]8;;\u001b\\\u001b[2m:\u001b[0m\u001b]8;id=250158;file://C:\\Users\\Federico\\Documents\\GitHub\\pysical_locomotion\\analysis\\ephys\\utils.py#183\u001b\\\u001b[2m183\u001b[0m\u001b]8;;\u001b\\\n"
      ]
     },
     "metadata": {},
     "output_type": "display_data"
    },
    {
     "data": {
      "text/html": [
       "<pre style=\"white-space:pre;overflow-x:auto;line-height:normal;font-family:Menlo,'DejaVu Sans Mono',consolas,'Courier New',monospace\"><span style=\"color: #7fbfbf; text-decoration-color: #7fbfbf\">[06/07/22 20:58:33] </span><span style=\"color: #000080; text-decoration-color: #000080\">INFO    </span> Got <span style=\"color: #008080; text-decoration-color: #008080; font-weight: bold\">76</span> bouts for FC_220410_BAA1101192_hairpin |     <a href=\"file://C:\\Users\\Federico\\Documents\\GitHub\\pysical_locomotion\\analysis\\ephys\\utils.py\"><span style=\"color: #7f7f7f; text-decoration-color: #7f7f7f\">utils.py</span></a><span style=\"color: #7f7f7f; text-decoration-color: #7f7f7f\">:</span><a href=\"file://C:\\Users\\Federico\\Documents\\GitHub\\pysical_locomotion\\analysis\\ephys\\utils.py#207\"><span style=\"color: #7f7f7f; text-decoration-color: #7f7f7f\">207</span></a>\n",
       "                             <span style=\"color: #800080; text-decoration-color: #800080; font-style: italic\">None</span> | outbound                                                 \n",
       "</pre>\n"
      ],
      "text/plain": [
       "\u001b[2;36m[06/07/22 20:58:33]\u001b[0m\u001b[2;36m \u001b[0m\u001b[34mINFO    \u001b[0m Got \u001b[1;36m76\u001b[0m bouts for FC_220410_BAA1101192_hairpin |     \u001b]8;id=251058;file://C:\\Users\\Federico\\Documents\\GitHub\\pysical_locomotion\\analysis\\ephys\\utils.py\u001b\\\u001b[2mutils.py\u001b[0m\u001b]8;;\u001b\\\u001b[2m:\u001b[0m\u001b]8;id=385423;file://C:\\Users\\Federico\\Documents\\GitHub\\pysical_locomotion\\analysis\\ephys\\utils.py#207\u001b\\\u001b[2m207\u001b[0m\u001b]8;;\u001b\\\n",
       "                             \u001b[3;35mNone\u001b[0m | outbound                                                 \n"
      ]
     },
     "metadata": {},
     "output_type": "display_data"
    },
    {
     "data": {
      "text/html": [
       "<pre style=\"white-space:pre;overflow-x:auto;line-height:normal;font-family:Menlo,'DejaVu Sans Mono',consolas,'Courier New',monospace\"><span style=\"color: #7fbfbf; text-decoration-color: #7fbfbf\">[06/07/22 20:58:34] </span><span style=\"color: #000080; text-decoration-color: #000080\">INFO    </span> Got <span style=\"color: #008080; text-decoration-color: #008080; font-weight: bold\">65</span> bouts for FC_220410_BAA1101192_hairpin |     <a href=\"file://C:\\Users\\Federico\\Documents\\GitHub\\pysical_locomotion\\analysis\\ephys\\utils.py\"><span style=\"color: #7f7f7f; text-decoration-color: #7f7f7f\">utils.py</span></a><span style=\"color: #7f7f7f; text-decoration-color: #7f7f7f\">:</span><a href=\"file://C:\\Users\\Federico\\Documents\\GitHub\\pysical_locomotion\\analysis\\ephys\\utils.py#207\"><span style=\"color: #7f7f7f; text-decoration-color: #7f7f7f\">207</span></a>\n",
       "                             <span style=\"color: #800080; text-decoration-color: #800080; font-style: italic\">None</span> | inbound                                                  \n",
       "</pre>\n"
      ],
      "text/plain": [
       "\u001b[2;36m[06/07/22 20:58:34]\u001b[0m\u001b[2;36m \u001b[0m\u001b[34mINFO    \u001b[0m Got \u001b[1;36m65\u001b[0m bouts for FC_220410_BAA1101192_hairpin |     \u001b]8;id=271552;file://C:\\Users\\Federico\\Documents\\GitHub\\pysical_locomotion\\analysis\\ephys\\utils.py\u001b\\\u001b[2mutils.py\u001b[0m\u001b]8;;\u001b\\\u001b[2m:\u001b[0m\u001b]8;id=675525;file://C:\\Users\\Federico\\Documents\\GitHub\\pysical_locomotion\\analysis\\ephys\\utils.py#207\u001b\\\u001b[2m207\u001b[0m\u001b]8;;\u001b\\\n",
       "                             \u001b[3;35mNone\u001b[0m | inbound                                                  \n"
      ]
     },
     "metadata": {},
     "output_type": "display_data"
    }
   ],
   "source": [
    "REC = \"FC_220410_BAA1101192_hairpin\"\n",
    "\n",
    "units, left_fl, right_fl, left_hl, right_hl, body = get_data(REC)\n",
    "out_bouts = get_session_bouts(REC, complete=None)\n",
    "in_bouts = get_session_bouts(REC, direction=\"inbound\", complete=None)\n"
   ]
  },
  {
   "cell_type": "code",
   "execution_count": 3,
   "metadata": {},
   "outputs": [],
   "source": [
    "def frate(spikes, s, bins):\n",
    "    \"\"\"\n",
    "        Given the s position at each frame at the frame at which spikes occurred during a ROI crossing,\n",
    "        get firing rate wrt position relative to the apex.\n",
    "    \"\"\"\n",
    "    s = np.round(s).astype(np.int64)\n",
    "    counts = np.histogram(s, bins=bins)[0]\n",
    "    nspikes_per_bin = np.histogram(s[spikes], bins=bins)[0]\n",
    "    return nspikes_per_bin / counts * 60"
   ]
  },
  {
   "cell_type": "code",
   "execution_count": 4,
   "metadata": {},
   "outputs": [],
   "source": [
    "def plot_crossings(axes, crossings, curve, bouts, unit, frate_ax_id, raster_ax_id, color, yshift=0, sign=-1):\n",
    "    bins = np.arange(-30, 30+4, step=1)\n",
    "    _frates = {b:[] for b in bins}\n",
    "\n",
    "    for n, cross in crossings.iterrows():\n",
    "        s = sign * (curve.s - np.array(bouts.iloc[cross.bout_idx].s[cross.enter_frame:cross.exit_frame]))\n",
    "        spikes = unit.spikes[(unit.spikes > cross.session_start_frame)&(unit.spikes < cross.session_end_frame)] - cross.session_start_frame\n",
    "        axes[str(frate_ax_id)].plot(\n",
    "            s[spikes],\n",
    "            np.ones_like(spikes)*(n+yshift),\n",
    "            \".\",\n",
    "            color=color\n",
    "        )\n",
    "\n",
    "        cross_frate = rolling_mean(frate(spikes, s, bins), 9)\n",
    "        for b, fr in zip(bins, cross_frate):\n",
    "            _frates[b].append(fr)\n",
    "\n",
    "    if len(crossings) > 5:\n",
    "        frates = np.vstack(list(_frates.values())[:-1])\n",
    "        mean_frate = frates.mean(axis=1)\n",
    "        plot_mean_and_error(\n",
    "            mean_frate, frates.std(axis=1)/np.sqrt(len(crossings)), axes[str(raster_ax_id)], x=bins[:-1], color=color\n",
    "        )\n",
    "\n",
    "\n",
    "def plot_avg_speed_wrt_s(axes, crossings, bouts, curve, ax_id, color, sign=-1, angvel = False):\n",
    "    bins = np.arange(-30, 30+1, step=1)\n",
    "    speeds = {b:[] for b in bins}\n",
    "\n",
    "    for n, cross in crossings.iterrows():\n",
    "        bout = bouts.iloc[cross.bout_idx]\n",
    "        s = sign * (curve.s - np.array(bout.s[cross.enter_frame:cross.exit_frame]))\n",
    "        s = np.round(s).astype(np.int64)\n",
    "\n",
    "        if angvel:\n",
    "            speed = rolling_mean(bout.angvel[cross.enter_frame:cross.exit_frame], 11)\n",
    "        else:\n",
    "            speed = rolling_mean(bout.speed[cross.enter_frame:cross.exit_frame], 11)\n",
    "        \n",
    "        for (_s, S) in zip(s, speed):\n",
    "            if _s in speeds.keys():\n",
    "                speeds[_s].append(S)\n",
    "\n",
    "    mean_speed = [np.mean(v) if len(v) else np.nan for v in speeds.values()]\n",
    "    sem_speed = np.array([np.std(v) if len(v) else np.nan for v in speeds.values()]) / np.sqrt(len(crossings))\n",
    "\n",
    "    plot_mean_and_error(\n",
    "            mean_speed, sem_speed, axes[str(ax_id)], x=bins, color=color\n",
    "        )\n"
   ]
  },
  {
   "cell_type": "code",
   "execution_count": 5,
   "metadata": {},
   "outputs": [],
   "source": [
    "def make_figure(out_bouts, in_bouts, unit):\n",
    "    fig = plt.figure(figsize=(20, 14))\n",
    "    axes = fig.subplot_mosaic(\n",
    "    \"\"\"\n",
    "        OMNP\n",
    "        1234\n",
    "        5678\n",
    "        ABCD\n",
    "        EFGH\n",
    "    \"\"\"\n",
    "    )\n",
    "\n",
    "    speeds_axes = \"ABCD\"\n",
    "    avel_axes = \"EFGH\"\n",
    "    xy_axes = \"OMNP\"\n",
    "    x_shift = [15, 22, 15, 5]\n",
    "    y_shift = [0, 0, 0, 10]\n",
    "\n",
    "    for i, curve in enumerate(curves.keys()):\n",
    "        crossings = get_roi_crossings(out_bouts, curve, direction=\"out\")\n",
    "        in_crossings = get_roi_crossings(in_bouts, curve, direction=\"in\")\n",
    "        curve = curves[curve]\n",
    "\n",
    "\n",
    "        plot_crossings(axes, crossings, curve, out_bouts, unit, i+5, i+1, \"k\", yshift=0, sign=-1)\n",
    "        plot_crossings(axes, in_crossings, curve, in_bouts, unit, i+5, i+1, \"r\", yshift=len(crossings), sign=-1)\n",
    "\n",
    "        plot_avg_speed_wrt_s(axes, crossings, out_bouts, curve, speeds_axes[i], \"k\", sign=-1)\n",
    "        plot_avg_speed_wrt_s(axes, in_crossings, in_bouts, curve, speeds_axes[i], \"r\", sign=-1)\n",
    "        plot_avg_speed_wrt_s(axes, crossings, out_bouts, curve,  avel_axes[i], \"k\", sign=-1, angvel=True)\n",
    "        plot_avg_speed_wrt_s(axes, in_crossings, in_bouts, curve, avel_axes[i], \"r\", sign=-1, angvel=True)\n",
    "\n",
    "        for n, cross in crossings.iterrows():\n",
    "            bout = out_bouts.iloc[cross.bout_idx]\n",
    "            axes[xy_axes[i]].scatter(\n",
    "                (np.array(bout.x[cross.enter_frame:cross.exit_frame]) - x_shift[i]),\n",
    "                (np.array(bout.y[cross.enter_frame:cross.exit_frame]) - y_shift[i]),\n",
    "                c=np.arange(cross.exit_frame - cross.enter_frame), cmap=\"Greys\", s=5, vmin=-5, vmax=100\n",
    "            )\n",
    "\n",
    "        for n,  cross in in_crossings.iterrows():\n",
    "            bout = in_bouts.iloc[cross.bout_idx]\n",
    "            axes[xy_axes[i]].scatter(\n",
    "                np.array(bout.x[cross.enter_frame:cross.exit_frame]),\n",
    "                np.array(bout.y[cross.enter_frame:cross.exit_frame]),\n",
    "                c=np.arange(cross.exit_frame - cross.enter_frame), cmap=\"Reds\", s=5, vmin=-5, vmax=100\n",
    "            )\n",
    "\n",
    "\n",
    "    for ax in \"1234\":\n",
    "        axes[ax].set(xlim=[-30, 30], xticks=[],  ylabel=\"frate (Hz)\")\n",
    "        axes[ax].axvline(0, color=\"k\", lw=2, alpha=.8)\n",
    "\n",
    "    for ax in \"5678\":\n",
    "        axes[ax].set(xlim=[-30, 30], xticks=[], ylabel=\"crossing #\")\n",
    "        axes[ax].axvline(0, color=\"k\", lw=2, alpha=.8)\n",
    "\n",
    "    for ax in speeds_axes:\n",
    "        axes[ax].set(xlim=[-30, 30], ylabel=\"speed (cm/s)\")\n",
    "        axes[ax].axvline(0, color=\"k\", lw=2, alpha=.8)\n",
    "\n",
    "\n",
    "    for ax in avel_axes:\n",
    "        axes[ax].set(xlim=[-30, 30], xlabel=\"delta S (cm)\", ylabel=\"ang. vel. (def/s)\")\n",
    "        axes[ax].axvline(0, color=\"k\", lw=2, alpha=.8)\n",
    "\n",
    "    for ax in xy_axes:\n",
    "        axes[ax].axis(\"equal\")\n",
    "        axes[ax].axis(\"off\")\n",
    "\n",
    "    clean_axes(fig)\n",
    "    fig.suptitle(f\"{unit.unit_id} - {unit.brain_region}\")\n",
    "    return fig"
   ]
  },
  {
   "cell_type": "markdown",
   "metadata": {},
   "source": [
    "plot all sessions/units"
   ]
  },
  {
   "cell_type": "code",
   "execution_count": 6,
   "metadata": {},
   "outputs": [
    {
     "data": {
      "text/html": [
       "<pre style=\"white-space:pre;overflow-x:auto;line-height:normal;font-family:Menlo,'DejaVu Sans Mono',consolas,'Courier New',monospace\"><span style=\"color: #7fbfbf; text-decoration-color: #7fbfbf\">[06/07/22 20:58:37] </span><span style=\"color: #000080; text-decoration-color: #000080\">INFO    </span> Got tracking data for FC_220408_BAA1101192_hairpin  <a href=\"file://C:\\Users\\Federico\\Documents\\GitHub\\pysical_locomotion\\analysis\\ephys\\utils.py\"><span style=\"color: #7f7f7f; text-decoration-color: #7f7f7f\">utils.py</span></a><span style=\"color: #7f7f7f; text-decoration-color: #7f7f7f\">:</span><a href=\"file://C:\\Users\\Federico\\Documents\\GitHub\\pysical_locomotion\\analysis\\ephys\\utils.py#169\"><span style=\"color: #7f7f7f; text-decoration-color: #7f7f7f\">169</span></a>\n",
       "</pre>\n"
      ],
      "text/plain": [
       "\u001b[2;36m[06/07/22 20:58:37]\u001b[0m\u001b[2;36m \u001b[0m\u001b[34mINFO    \u001b[0m Got tracking data for FC_220408_BAA1101192_hairpin  \u001b]8;id=711882;file://C:\\Users\\Federico\\Documents\\GitHub\\pysical_locomotion\\analysis\\ephys\\utils.py\u001b\\\u001b[2mutils.py\u001b[0m\u001b]8;;\u001b\\\u001b[2m:\u001b[0m\u001b]8;id=299801;file://C:\\Users\\Federico\\Documents\\GitHub\\pysical_locomotion\\analysis\\ephys\\utils.py#169\u001b\\\u001b[2m169\u001b[0m\u001b]8;;\u001b\\\n"
      ]
     },
     "metadata": {},
     "output_type": "display_data"
    },
    {
     "data": {
      "text/html": [
       "<pre style=\"white-space:pre;overflow-x:auto;line-height:normal;font-family:Menlo,'DejaVu Sans Mono',consolas,'Courier New',monospace\"><span style=\"color: #7fbfbf; text-decoration-color: #7fbfbf\">[06/07/22 20:58:38] </span><span style=\"color: #000080; text-decoration-color: #000080\">INFO    </span> Got <span style=\"color: #008080; text-decoration-color: #008080; font-weight: bold\">44</span> units for FC_220408_BAA1101192_hairpin       <a href=\"file://C:\\Users\\Federico\\Documents\\GitHub\\pysical_locomotion\\analysis\\ephys\\utils.py\"><span style=\"color: #7f7f7f; text-decoration-color: #7f7f7f\">utils.py</span></a><span style=\"color: #7f7f7f; text-decoration-color: #7f7f7f\">:</span><a href=\"file://C:\\Users\\Federico\\Documents\\GitHub\\pysical_locomotion\\analysis\\ephys\\utils.py#183\"><span style=\"color: #7f7f7f; text-decoration-color: #7f7f7f\">183</span></a>\n",
       "</pre>\n"
      ],
      "text/plain": [
       "\u001b[2;36m[06/07/22 20:58:38]\u001b[0m\u001b[2;36m \u001b[0m\u001b[34mINFO    \u001b[0m Got \u001b[1;36m44\u001b[0m units for FC_220408_BAA1101192_hairpin       \u001b]8;id=520386;file://C:\\Users\\Federico\\Documents\\GitHub\\pysical_locomotion\\analysis\\ephys\\utils.py\u001b\\\u001b[2mutils.py\u001b[0m\u001b]8;;\u001b\\\u001b[2m:\u001b[0m\u001b]8;id=222834;file://C:\\Users\\Federico\\Documents\\GitHub\\pysical_locomotion\\analysis\\ephys\\utils.py#183\u001b\\\u001b[2m183\u001b[0m\u001b]8;;\u001b\\\n"
      ]
     },
     "metadata": {},
     "output_type": "display_data"
    },
    {
     "data": {
      "text/html": [
       "<pre style=\"white-space:pre;overflow-x:auto;line-height:normal;font-family:Menlo,'DejaVu Sans Mono',consolas,'Courier New',monospace\"><span style=\"color: #7fbfbf; text-decoration-color: #7fbfbf\">[06/07/22 20:58:39] </span><span style=\"color: #000080; text-decoration-color: #000080\">INFO    </span> Got <span style=\"color: #008080; text-decoration-color: #008080; font-weight: bold\">41</span> bouts for FC_220408_BAA1101192_hairpin |     <a href=\"file://C:\\Users\\Federico\\Documents\\GitHub\\pysical_locomotion\\analysis\\ephys\\utils.py\"><span style=\"color: #7f7f7f; text-decoration-color: #7f7f7f\">utils.py</span></a><span style=\"color: #7f7f7f; text-decoration-color: #7f7f7f\">:</span><a href=\"file://C:\\Users\\Federico\\Documents\\GitHub\\pysical_locomotion\\analysis\\ephys\\utils.py#207\"><span style=\"color: #7f7f7f; text-decoration-color: #7f7f7f\">207</span></a>\n",
       "                             <span style=\"color: #800080; text-decoration-color: #800080; font-style: italic\">None</span> | outbound                                                 \n",
       "</pre>\n"
      ],
      "text/plain": [
       "\u001b[2;36m[06/07/22 20:58:39]\u001b[0m\u001b[2;36m \u001b[0m\u001b[34mINFO    \u001b[0m Got \u001b[1;36m41\u001b[0m bouts for FC_220408_BAA1101192_hairpin |     \u001b]8;id=728681;file://C:\\Users\\Federico\\Documents\\GitHub\\pysical_locomotion\\analysis\\ephys\\utils.py\u001b\\\u001b[2mutils.py\u001b[0m\u001b]8;;\u001b\\\u001b[2m:\u001b[0m\u001b]8;id=322696;file://C:\\Users\\Federico\\Documents\\GitHub\\pysical_locomotion\\analysis\\ephys\\utils.py#207\u001b\\\u001b[2m207\u001b[0m\u001b]8;;\u001b\\\n",
       "                             \u001b[3;35mNone\u001b[0m | outbound                                                 \n"
      ]
     },
     "metadata": {},
     "output_type": "display_data"
    },
    {
     "data": {
      "text/html": [
       "<pre style=\"white-space:pre;overflow-x:auto;line-height:normal;font-family:Menlo,'DejaVu Sans Mono',consolas,'Courier New',monospace\"><span style=\"color: #7fbfbf; text-decoration-color: #7fbfbf\">                    </span><span style=\"color: #000080; text-decoration-color: #000080\">INFO    </span> Got <span style=\"color: #008080; text-decoration-color: #008080; font-weight: bold\">40</span> bouts for FC_220408_BAA1101192_hairpin |     <a href=\"file://C:\\Users\\Federico\\Documents\\GitHub\\pysical_locomotion\\analysis\\ephys\\utils.py\"><span style=\"color: #7f7f7f; text-decoration-color: #7f7f7f\">utils.py</span></a><span style=\"color: #7f7f7f; text-decoration-color: #7f7f7f\">:</span><a href=\"file://C:\\Users\\Federico\\Documents\\GitHub\\pysical_locomotion\\analysis\\ephys\\utils.py#207\"><span style=\"color: #7f7f7f; text-decoration-color: #7f7f7f\">207</span></a>\n",
       "                             <span style=\"color: #800080; text-decoration-color: #800080; font-style: italic\">None</span> | inbound                                                  \n",
       "</pre>\n"
      ],
      "text/plain": [
       "\u001b[2;36m                   \u001b[0m\u001b[2;36m \u001b[0m\u001b[34mINFO    \u001b[0m Got \u001b[1;36m40\u001b[0m bouts for FC_220408_BAA1101192_hairpin |     \u001b]8;id=446435;file://C:\\Users\\Federico\\Documents\\GitHub\\pysical_locomotion\\analysis\\ephys\\utils.py\u001b\\\u001b[2mutils.py\u001b[0m\u001b]8;;\u001b\\\u001b[2m:\u001b[0m\u001b]8;id=428009;file://C:\\Users\\Federico\\Documents\\GitHub\\pysical_locomotion\\analysis\\ephys\\utils.py#207\u001b\\\u001b[2m207\u001b[0m\u001b]8;;\u001b\\\n",
       "                             \u001b[3;35mNone\u001b[0m | inbound                                                  \n"
      ]
     },
     "metadata": {},
     "output_type": "display_data"
    },
    {
     "data": {
      "text/html": [
       "<pre style=\"white-space:pre;overflow-x:auto;line-height:normal;font-family:Menlo,'DejaVu Sans Mono',consolas,'Courier New',monospace\"><span style=\"color: #7fbfbf; text-decoration-color: #7fbfbf\">[06/07/22 21:00:17] </span><span style=\"color: #000080; text-decoration-color: #000080\">INFO    </span> Got tracking data for FC_220409_BAA1101192_hairpin  <a href=\"file://C:\\Users\\Federico\\Documents\\GitHub\\pysical_locomotion\\analysis\\ephys\\utils.py\"><span style=\"color: #7f7f7f; text-decoration-color: #7f7f7f\">utils.py</span></a><span style=\"color: #7f7f7f; text-decoration-color: #7f7f7f\">:</span><a href=\"file://C:\\Users\\Federico\\Documents\\GitHub\\pysical_locomotion\\analysis\\ephys\\utils.py#169\"><span style=\"color: #7f7f7f; text-decoration-color: #7f7f7f\">169</span></a>\n",
       "</pre>\n"
      ],
      "text/plain": [
       "\u001b[2;36m[06/07/22 21:00:17]\u001b[0m\u001b[2;36m \u001b[0m\u001b[34mINFO    \u001b[0m Got tracking data for FC_220409_BAA1101192_hairpin  \u001b]8;id=985345;file://C:\\Users\\Federico\\Documents\\GitHub\\pysical_locomotion\\analysis\\ephys\\utils.py\u001b\\\u001b[2mutils.py\u001b[0m\u001b]8;;\u001b\\\u001b[2m:\u001b[0m\u001b]8;id=838221;file://C:\\Users\\Federico\\Documents\\GitHub\\pysical_locomotion\\analysis\\ephys\\utils.py#169\u001b\\\u001b[2m169\u001b[0m\u001b]8;;\u001b\\\n"
      ]
     },
     "metadata": {},
     "output_type": "display_data"
    },
    {
     "data": {
      "text/html": [
       "<pre style=\"white-space:pre;overflow-x:auto;line-height:normal;font-family:Menlo,'DejaVu Sans Mono',consolas,'Courier New',monospace\"><span style=\"color: #7fbfbf; text-decoration-color: #7fbfbf\">[06/07/22 21:00:18] </span><span style=\"color: #000080; text-decoration-color: #000080\">INFO    </span> Got <span style=\"color: #008080; text-decoration-color: #008080; font-weight: bold\">44</span> units for FC_220409_BAA1101192_hairpin       <a href=\"file://C:\\Users\\Federico\\Documents\\GitHub\\pysical_locomotion\\analysis\\ephys\\utils.py\"><span style=\"color: #7f7f7f; text-decoration-color: #7f7f7f\">utils.py</span></a><span style=\"color: #7f7f7f; text-decoration-color: #7f7f7f\">:</span><a href=\"file://C:\\Users\\Federico\\Documents\\GitHub\\pysical_locomotion\\analysis\\ephys\\utils.py#183\"><span style=\"color: #7f7f7f; text-decoration-color: #7f7f7f\">183</span></a>\n",
       "</pre>\n"
      ],
      "text/plain": [
       "\u001b[2;36m[06/07/22 21:00:18]\u001b[0m\u001b[2;36m \u001b[0m\u001b[34mINFO    \u001b[0m Got \u001b[1;36m44\u001b[0m units for FC_220409_BAA1101192_hairpin       \u001b]8;id=843957;file://C:\\Users\\Federico\\Documents\\GitHub\\pysical_locomotion\\analysis\\ephys\\utils.py\u001b\\\u001b[2mutils.py\u001b[0m\u001b]8;;\u001b\\\u001b[2m:\u001b[0m\u001b]8;id=777551;file://C:\\Users\\Federico\\Documents\\GitHub\\pysical_locomotion\\analysis\\ephys\\utils.py#183\u001b\\\u001b[2m183\u001b[0m\u001b]8;;\u001b\\\n"
      ]
     },
     "metadata": {},
     "output_type": "display_data"
    },
    {
     "data": {
      "text/html": [
       "<pre style=\"white-space:pre;overflow-x:auto;line-height:normal;font-family:Menlo,'DejaVu Sans Mono',consolas,'Courier New',monospace\"><span style=\"color: #7fbfbf; text-decoration-color: #7fbfbf\">                    </span><span style=\"color: #000080; text-decoration-color: #000080\">INFO    </span> Got <span style=\"color: #008080; text-decoration-color: #008080; font-weight: bold\">48</span> bouts for FC_220409_BAA1101192_hairpin |     <a href=\"file://C:\\Users\\Federico\\Documents\\GitHub\\pysical_locomotion\\analysis\\ephys\\utils.py\"><span style=\"color: #7f7f7f; text-decoration-color: #7f7f7f\">utils.py</span></a><span style=\"color: #7f7f7f; text-decoration-color: #7f7f7f\">:</span><a href=\"file://C:\\Users\\Federico\\Documents\\GitHub\\pysical_locomotion\\analysis\\ephys\\utils.py#207\"><span style=\"color: #7f7f7f; text-decoration-color: #7f7f7f\">207</span></a>\n",
       "                             <span style=\"color: #800080; text-decoration-color: #800080; font-style: italic\">None</span> | outbound                                                 \n",
       "</pre>\n"
      ],
      "text/plain": [
       "\u001b[2;36m                   \u001b[0m\u001b[2;36m \u001b[0m\u001b[34mINFO    \u001b[0m Got \u001b[1;36m48\u001b[0m bouts for FC_220409_BAA1101192_hairpin |     \u001b]8;id=410290;file://C:\\Users\\Federico\\Documents\\GitHub\\pysical_locomotion\\analysis\\ephys\\utils.py\u001b\\\u001b[2mutils.py\u001b[0m\u001b]8;;\u001b\\\u001b[2m:\u001b[0m\u001b]8;id=406924;file://C:\\Users\\Federico\\Documents\\GitHub\\pysical_locomotion\\analysis\\ephys\\utils.py#207\u001b\\\u001b[2m207\u001b[0m\u001b]8;;\u001b\\\n",
       "                             \u001b[3;35mNone\u001b[0m | outbound                                                 \n"
      ]
     },
     "metadata": {},
     "output_type": "display_data"
    },
    {
     "data": {
      "text/html": [
       "<pre style=\"white-space:pre;overflow-x:auto;line-height:normal;font-family:Menlo,'DejaVu Sans Mono',consolas,'Courier New',monospace\"><span style=\"color: #7fbfbf; text-decoration-color: #7fbfbf\">[06/07/22 21:00:19] </span><span style=\"color: #000080; text-decoration-color: #000080\">INFO    </span> Got <span style=\"color: #008080; text-decoration-color: #008080; font-weight: bold\">49</span> bouts for FC_220409_BAA1101192_hairpin |     <a href=\"file://C:\\Users\\Federico\\Documents\\GitHub\\pysical_locomotion\\analysis\\ephys\\utils.py\"><span style=\"color: #7f7f7f; text-decoration-color: #7f7f7f\">utils.py</span></a><span style=\"color: #7f7f7f; text-decoration-color: #7f7f7f\">:</span><a href=\"file://C:\\Users\\Federico\\Documents\\GitHub\\pysical_locomotion\\analysis\\ephys\\utils.py#207\"><span style=\"color: #7f7f7f; text-decoration-color: #7f7f7f\">207</span></a>\n",
       "                             <span style=\"color: #800080; text-decoration-color: #800080; font-style: italic\">None</span> | inbound                                                  \n",
       "</pre>\n"
      ],
      "text/plain": [
       "\u001b[2;36m[06/07/22 21:00:19]\u001b[0m\u001b[2;36m \u001b[0m\u001b[34mINFO    \u001b[0m Got \u001b[1;36m49\u001b[0m bouts for FC_220409_BAA1101192_hairpin |     \u001b]8;id=557563;file://C:\\Users\\Federico\\Documents\\GitHub\\pysical_locomotion\\analysis\\ephys\\utils.py\u001b\\\u001b[2mutils.py\u001b[0m\u001b]8;;\u001b\\\u001b[2m:\u001b[0m\u001b]8;id=741121;file://C:\\Users\\Federico\\Documents\\GitHub\\pysical_locomotion\\analysis\\ephys\\utils.py#207\u001b\\\u001b[2m207\u001b[0m\u001b]8;;\u001b\\\n",
       "                             \u001b[3;35mNone\u001b[0m | inbound                                                  \n"
      ]
     },
     "metadata": {},
     "output_type": "display_data"
    },
    {
     "data": {
      "text/html": [
       "<pre style=\"white-space:pre;overflow-x:auto;line-height:normal;font-family:Menlo,'DejaVu Sans Mono',consolas,'Courier New',monospace\"><span style=\"color: #7fbfbf; text-decoration-color: #7fbfbf\">[06/07/22 21:02:14] </span><span style=\"color: #000080; text-decoration-color: #000080\">INFO    </span> Got tracking data for FC_220410_BAA1101192_hairpin  <a href=\"file://C:\\Users\\Federico\\Documents\\GitHub\\pysical_locomotion\\analysis\\ephys\\utils.py\"><span style=\"color: #7f7f7f; text-decoration-color: #7f7f7f\">utils.py</span></a><span style=\"color: #7f7f7f; text-decoration-color: #7f7f7f\">:</span><a href=\"file://C:\\Users\\Federico\\Documents\\GitHub\\pysical_locomotion\\analysis\\ephys\\utils.py#169\"><span style=\"color: #7f7f7f; text-decoration-color: #7f7f7f\">169</span></a>\n",
       "</pre>\n"
      ],
      "text/plain": [
       "\u001b[2;36m[06/07/22 21:02:14]\u001b[0m\u001b[2;36m \u001b[0m\u001b[34mINFO    \u001b[0m Got tracking data for FC_220410_BAA1101192_hairpin  \u001b]8;id=951330;file://C:\\Users\\Federico\\Documents\\GitHub\\pysical_locomotion\\analysis\\ephys\\utils.py\u001b\\\u001b[2mutils.py\u001b[0m\u001b]8;;\u001b\\\u001b[2m:\u001b[0m\u001b]8;id=860406;file://C:\\Users\\Federico\\Documents\\GitHub\\pysical_locomotion\\analysis\\ephys\\utils.py#169\u001b\\\u001b[2m169\u001b[0m\u001b]8;;\u001b\\\n"
      ]
     },
     "metadata": {},
     "output_type": "display_data"
    },
    {
     "data": {
      "text/html": [
       "<pre style=\"white-space:pre;overflow-x:auto;line-height:normal;font-family:Menlo,'DejaVu Sans Mono',consolas,'Courier New',monospace\"><span style=\"color: #7fbfbf; text-decoration-color: #7fbfbf\">                    </span><span style=\"color: #000080; text-decoration-color: #000080\">INFO    </span> Got <span style=\"color: #008080; text-decoration-color: #008080; font-weight: bold\">40</span> units for FC_220410_BAA1101192_hairpin       <a href=\"file://C:\\Users\\Federico\\Documents\\GitHub\\pysical_locomotion\\analysis\\ephys\\utils.py\"><span style=\"color: #7f7f7f; text-decoration-color: #7f7f7f\">utils.py</span></a><span style=\"color: #7f7f7f; text-decoration-color: #7f7f7f\">:</span><a href=\"file://C:\\Users\\Federico\\Documents\\GitHub\\pysical_locomotion\\analysis\\ephys\\utils.py#183\"><span style=\"color: #7f7f7f; text-decoration-color: #7f7f7f\">183</span></a>\n",
       "</pre>\n"
      ],
      "text/plain": [
       "\u001b[2;36m                   \u001b[0m\u001b[2;36m \u001b[0m\u001b[34mINFO    \u001b[0m Got \u001b[1;36m40\u001b[0m units for FC_220410_BAA1101192_hairpin       \u001b]8;id=94364;file://C:\\Users\\Federico\\Documents\\GitHub\\pysical_locomotion\\analysis\\ephys\\utils.py\u001b\\\u001b[2mutils.py\u001b[0m\u001b]8;;\u001b\\\u001b[2m:\u001b[0m\u001b]8;id=446570;file://C:\\Users\\Federico\\Documents\\GitHub\\pysical_locomotion\\analysis\\ephys\\utils.py#183\u001b\\\u001b[2m183\u001b[0m\u001b]8;;\u001b\\\n"
      ]
     },
     "metadata": {},
     "output_type": "display_data"
    },
    {
     "data": {
      "text/html": [
       "<pre style=\"white-space:pre;overflow-x:auto;line-height:normal;font-family:Menlo,'DejaVu Sans Mono',consolas,'Courier New',monospace\"><span style=\"color: #7fbfbf; text-decoration-color: #7fbfbf\">[06/07/22 21:02:16] </span><span style=\"color: #000080; text-decoration-color: #000080\">INFO    </span> Got <span style=\"color: #008080; text-decoration-color: #008080; font-weight: bold\">76</span> bouts for FC_220410_BAA1101192_hairpin |     <a href=\"file://C:\\Users\\Federico\\Documents\\GitHub\\pysical_locomotion\\analysis\\ephys\\utils.py\"><span style=\"color: #7f7f7f; text-decoration-color: #7f7f7f\">utils.py</span></a><span style=\"color: #7f7f7f; text-decoration-color: #7f7f7f\">:</span><a href=\"file://C:\\Users\\Federico\\Documents\\GitHub\\pysical_locomotion\\analysis\\ephys\\utils.py#207\"><span style=\"color: #7f7f7f; text-decoration-color: #7f7f7f\">207</span></a>\n",
       "                             <span style=\"color: #800080; text-decoration-color: #800080; font-style: italic\">None</span> | outbound                                                 \n",
       "</pre>\n"
      ],
      "text/plain": [
       "\u001b[2;36m[06/07/22 21:02:16]\u001b[0m\u001b[2;36m \u001b[0m\u001b[34mINFO    \u001b[0m Got \u001b[1;36m76\u001b[0m bouts for FC_220410_BAA1101192_hairpin |     \u001b]8;id=938047;file://C:\\Users\\Federico\\Documents\\GitHub\\pysical_locomotion\\analysis\\ephys\\utils.py\u001b\\\u001b[2mutils.py\u001b[0m\u001b]8;;\u001b\\\u001b[2m:\u001b[0m\u001b]8;id=687385;file://C:\\Users\\Federico\\Documents\\GitHub\\pysical_locomotion\\analysis\\ephys\\utils.py#207\u001b\\\u001b[2m207\u001b[0m\u001b]8;;\u001b\\\n",
       "                             \u001b[3;35mNone\u001b[0m | outbound                                                 \n"
      ]
     },
     "metadata": {},
     "output_type": "display_data"
    },
    {
     "data": {
      "text/html": [
       "<pre style=\"white-space:pre;overflow-x:auto;line-height:normal;font-family:Menlo,'DejaVu Sans Mono',consolas,'Courier New',monospace\"><span style=\"color: #7fbfbf; text-decoration-color: #7fbfbf\">[06/07/22 21:02:17] </span><span style=\"color: #000080; text-decoration-color: #000080\">INFO    </span> Got <span style=\"color: #008080; text-decoration-color: #008080; font-weight: bold\">65</span> bouts for FC_220410_BAA1101192_hairpin |     <a href=\"file://C:\\Users\\Federico\\Documents\\GitHub\\pysical_locomotion\\analysis\\ephys\\utils.py\"><span style=\"color: #7f7f7f; text-decoration-color: #7f7f7f\">utils.py</span></a><span style=\"color: #7f7f7f; text-decoration-color: #7f7f7f\">:</span><a href=\"file://C:\\Users\\Federico\\Documents\\GitHub\\pysical_locomotion\\analysis\\ephys\\utils.py#207\"><span style=\"color: #7f7f7f; text-decoration-color: #7f7f7f\">207</span></a>\n",
       "                             <span style=\"color: #800080; text-decoration-color: #800080; font-style: italic\">None</span> | inbound                                                  \n",
       "</pre>\n"
      ],
      "text/plain": [
       "\u001b[2;36m[06/07/22 21:02:17]\u001b[0m\u001b[2;36m \u001b[0m\u001b[34mINFO    \u001b[0m Got \u001b[1;36m65\u001b[0m bouts for FC_220410_BAA1101192_hairpin |     \u001b]8;id=131878;file://C:\\Users\\Federico\\Documents\\GitHub\\pysical_locomotion\\analysis\\ephys\\utils.py\u001b\\\u001b[2mutils.py\u001b[0m\u001b]8;;\u001b\\\u001b[2m:\u001b[0m\u001b]8;id=377768;file://C:\\Users\\Federico\\Documents\\GitHub\\pysical_locomotion\\analysis\\ephys\\utils.py#207\u001b\\\u001b[2m207\u001b[0m\u001b]8;;\u001b\\\n",
       "                             \u001b[3;35mNone\u001b[0m | inbound                                                  \n"
      ]
     },
     "metadata": {},
     "output_type": "display_data"
    },
    {
     "data": {
      "text/html": [
       "<pre style=\"white-space:pre;overflow-x:auto;line-height:normal;font-family:Menlo,'DejaVu Sans Mono',consolas,'Courier New',monospace\"><span style=\"color: #7fbfbf; text-decoration-color: #7fbfbf\">[06/07/22 21:04:35] </span><span style=\"color: #800000; text-decoration-color: #800000\">WARNING </span> No tracking data for FC_220411_BAA1101192_hairpin   <a href=\"file://C:\\Users\\Federico\\Documents\\GitHub\\pysical_locomotion\\analysis\\ephys\\utils.py\"><span style=\"color: #7f7f7f; text-decoration-color: #7f7f7f\">utils.py</span></a><span style=\"color: #7f7f7f; text-decoration-color: #7f7f7f\">:</span><a href=\"file://C:\\Users\\Federico\\Documents\\GitHub\\pysical_locomotion\\analysis\\ephys\\utils.py#160\"><span style=\"color: #7f7f7f; text-decoration-color: #7f7f7f\">160</span></a>\n",
       "</pre>\n"
      ],
      "text/plain": [
       "\u001b[2;36m[06/07/22 21:04:35]\u001b[0m\u001b[2;36m \u001b[0m\u001b[31mWARNING \u001b[0m No tracking data for FC_220411_BAA1101192_hairpin   \u001b]8;id=40464;file://C:\\Users\\Federico\\Documents\\GitHub\\pysical_locomotion\\analysis\\ephys\\utils.py\u001b\\\u001b[2mutils.py\u001b[0m\u001b]8;;\u001b\\\u001b[2m:\u001b[0m\u001b]8;id=367766;file://C:\\Users\\Federico\\Documents\\GitHub\\pysical_locomotion\\analysis\\ephys\\utils.py#160\u001b\\\u001b[2m160\u001b[0m\u001b]8;;\u001b\\\n"
      ]
     },
     "metadata": {},
     "output_type": "display_data"
    },
    {
     "data": {
      "text/html": [
       "<pre style=\"white-space:pre;overflow-x:auto;line-height:normal;font-family:Menlo,'DejaVu Sans Mono',consolas,'Courier New',monospace\"><span style=\"color: #7fbfbf; text-decoration-color: #7fbfbf\">[06/07/22 21:04:36] </span><span style=\"color: #000080; text-decoration-color: #000080\">INFO    </span> Got tracking data for FC_220412_BAA1101192_hairpin  <a href=\"file://C:\\Users\\Federico\\Documents\\GitHub\\pysical_locomotion\\analysis\\ephys\\utils.py\"><span style=\"color: #7f7f7f; text-decoration-color: #7f7f7f\">utils.py</span></a><span style=\"color: #7f7f7f; text-decoration-color: #7f7f7f\">:</span><a href=\"file://C:\\Users\\Federico\\Documents\\GitHub\\pysical_locomotion\\analysis\\ephys\\utils.py#169\"><span style=\"color: #7f7f7f; text-decoration-color: #7f7f7f\">169</span></a>\n",
       "</pre>\n"
      ],
      "text/plain": [
       "\u001b[2;36m[06/07/22 21:04:36]\u001b[0m\u001b[2;36m \u001b[0m\u001b[34mINFO    \u001b[0m Got tracking data for FC_220412_BAA1101192_hairpin  \u001b]8;id=69548;file://C:\\Users\\Federico\\Documents\\GitHub\\pysical_locomotion\\analysis\\ephys\\utils.py\u001b\\\u001b[2mutils.py\u001b[0m\u001b]8;;\u001b\\\u001b[2m:\u001b[0m\u001b]8;id=479498;file://C:\\Users\\Federico\\Documents\\GitHub\\pysical_locomotion\\analysis\\ephys\\utils.py#169\u001b\\\u001b[2m169\u001b[0m\u001b]8;;\u001b\\\n"
      ]
     },
     "metadata": {},
     "output_type": "display_data"
    },
    {
     "data": {
      "text/html": [
       "<pre style=\"white-space:pre;overflow-x:auto;line-height:normal;font-family:Menlo,'DejaVu Sans Mono',consolas,'Courier New',monospace\"><span style=\"color: #7fbfbf; text-decoration-color: #7fbfbf\">[06/07/22 21:04:37] </span><span style=\"color: #000080; text-decoration-color: #000080\">INFO    </span> Got <span style=\"color: #008080; text-decoration-color: #008080; font-weight: bold\">42</span> units for FC_220412_BAA1101192_hairpin       <a href=\"file://C:\\Users\\Federico\\Documents\\GitHub\\pysical_locomotion\\analysis\\ephys\\utils.py\"><span style=\"color: #7f7f7f; text-decoration-color: #7f7f7f\">utils.py</span></a><span style=\"color: #7f7f7f; text-decoration-color: #7f7f7f\">:</span><a href=\"file://C:\\Users\\Federico\\Documents\\GitHub\\pysical_locomotion\\analysis\\ephys\\utils.py#183\"><span style=\"color: #7f7f7f; text-decoration-color: #7f7f7f\">183</span></a>\n",
       "</pre>\n"
      ],
      "text/plain": [
       "\u001b[2;36m[06/07/22 21:04:37]\u001b[0m\u001b[2;36m \u001b[0m\u001b[34mINFO    \u001b[0m Got \u001b[1;36m42\u001b[0m units for FC_220412_BAA1101192_hairpin       \u001b]8;id=926092;file://C:\\Users\\Federico\\Documents\\GitHub\\pysical_locomotion\\analysis\\ephys\\utils.py\u001b\\\u001b[2mutils.py\u001b[0m\u001b]8;;\u001b\\\u001b[2m:\u001b[0m\u001b]8;id=272736;file://C:\\Users\\Federico\\Documents\\GitHub\\pysical_locomotion\\analysis\\ephys\\utils.py#183\u001b\\\u001b[2m183\u001b[0m\u001b]8;;\u001b\\\n"
      ]
     },
     "metadata": {},
     "output_type": "display_data"
    },
    {
     "data": {
      "text/html": [
       "<pre style=\"white-space:pre;overflow-x:auto;line-height:normal;font-family:Menlo,'DejaVu Sans Mono',consolas,'Courier New',monospace\"><span style=\"color: #7fbfbf; text-decoration-color: #7fbfbf\">                    </span><span style=\"color: #000080; text-decoration-color: #000080\">INFO    </span> Got <span style=\"color: #008080; text-decoration-color: #008080; font-weight: bold\">0</span> bouts for FC_220412_BAA1101192_hairpin | <span style=\"color: #800080; text-decoration-color: #800080; font-style: italic\">None</span> <a href=\"file://C:\\Users\\Federico\\Documents\\GitHub\\pysical_locomotion\\analysis\\ephys\\utils.py\"><span style=\"color: #7f7f7f; text-decoration-color: #7f7f7f\">utils.py</span></a><span style=\"color: #7f7f7f; text-decoration-color: #7f7f7f\">:</span><a href=\"file://C:\\Users\\Federico\\Documents\\GitHub\\pysical_locomotion\\analysis\\ephys\\utils.py#207\"><span style=\"color: #7f7f7f; text-decoration-color: #7f7f7f\">207</span></a>\n",
       "                             | outbound                                                      \n",
       "</pre>\n"
      ],
      "text/plain": [
       "\u001b[2;36m                   \u001b[0m\u001b[2;36m \u001b[0m\u001b[34mINFO    \u001b[0m Got \u001b[1;36m0\u001b[0m bouts for FC_220412_BAA1101192_hairpin | \u001b[3;35mNone\u001b[0m \u001b]8;id=375958;file://C:\\Users\\Federico\\Documents\\GitHub\\pysical_locomotion\\analysis\\ephys\\utils.py\u001b\\\u001b[2mutils.py\u001b[0m\u001b]8;;\u001b\\\u001b[2m:\u001b[0m\u001b]8;id=255082;file://C:\\Users\\Federico\\Documents\\GitHub\\pysical_locomotion\\analysis\\ephys\\utils.py#207\u001b\\\u001b[2m207\u001b[0m\u001b]8;;\u001b\\\n",
       "                             | outbound                                                      \n"
      ]
     },
     "metadata": {},
     "output_type": "display_data"
    },
    {
     "data": {
      "text/html": [
       "<pre style=\"white-space:pre;overflow-x:auto;line-height:normal;font-family:Menlo,'DejaVu Sans Mono',consolas,'Courier New',monospace\"><span style=\"color: #7fbfbf; text-decoration-color: #7fbfbf\">                    </span><span style=\"color: #000080; text-decoration-color: #000080\">INFO    </span> Got <span style=\"color: #008080; text-decoration-color: #008080; font-weight: bold\">0</span> bouts for FC_220412_BAA1101192_hairpin | <span style=\"color: #800080; text-decoration-color: #800080; font-style: italic\">None</span> <a href=\"file://C:\\Users\\Federico\\Documents\\GitHub\\pysical_locomotion\\analysis\\ephys\\utils.py\"><span style=\"color: #7f7f7f; text-decoration-color: #7f7f7f\">utils.py</span></a><span style=\"color: #7f7f7f; text-decoration-color: #7f7f7f\">:</span><a href=\"file://C:\\Users\\Federico\\Documents\\GitHub\\pysical_locomotion\\analysis\\ephys\\utils.py#207\"><span style=\"color: #7f7f7f; text-decoration-color: #7f7f7f\">207</span></a>\n",
       "                             | inbound                                                       \n",
       "</pre>\n"
      ],
      "text/plain": [
       "\u001b[2;36m                   \u001b[0m\u001b[2;36m \u001b[0m\u001b[34mINFO    \u001b[0m Got \u001b[1;36m0\u001b[0m bouts for FC_220412_BAA1101192_hairpin | \u001b[3;35mNone\u001b[0m \u001b]8;id=623089;file://C:\\Users\\Federico\\Documents\\GitHub\\pysical_locomotion\\analysis\\ephys\\utils.py\u001b\\\u001b[2mutils.py\u001b[0m\u001b]8;;\u001b\\\u001b[2m:\u001b[0m\u001b]8;id=151612;file://C:\\Users\\Federico\\Documents\\GitHub\\pysical_locomotion\\analysis\\ephys\\utils.py#207\u001b\\\u001b[2m207\u001b[0m\u001b]8;;\u001b\\\n",
       "                             | inbound                                                       \n"
      ]
     },
     "metadata": {},
     "output_type": "display_data"
    },
    {
     "data": {
      "text/html": [
       "<pre style=\"white-space:pre;overflow-x:auto;line-height:normal;font-family:Menlo,'DejaVu Sans Mono',consolas,'Courier New',monospace\"><span style=\"color: #7fbfbf; text-decoration-color: #7fbfbf\">[06/07/22 21:05:40] </span><span style=\"color: #000080; text-decoration-color: #000080\">INFO    </span> Got tracking data for FC_220413_BAA1101192_hairpin  <a href=\"file://C:\\Users\\Federico\\Documents\\GitHub\\pysical_locomotion\\analysis\\ephys\\utils.py\"><span style=\"color: #7f7f7f; text-decoration-color: #7f7f7f\">utils.py</span></a><span style=\"color: #7f7f7f; text-decoration-color: #7f7f7f\">:</span><a href=\"file://C:\\Users\\Federico\\Documents\\GitHub\\pysical_locomotion\\analysis\\ephys\\utils.py#169\"><span style=\"color: #7f7f7f; text-decoration-color: #7f7f7f\">169</span></a>\n",
       "</pre>\n"
      ],
      "text/plain": [
       "\u001b[2;36m[06/07/22 21:05:40]\u001b[0m\u001b[2;36m \u001b[0m\u001b[34mINFO    \u001b[0m Got tracking data for FC_220413_BAA1101192_hairpin  \u001b]8;id=277620;file://C:\\Users\\Federico\\Documents\\GitHub\\pysical_locomotion\\analysis\\ephys\\utils.py\u001b\\\u001b[2mutils.py\u001b[0m\u001b]8;;\u001b\\\u001b[2m:\u001b[0m\u001b]8;id=953525;file://C:\\Users\\Federico\\Documents\\GitHub\\pysical_locomotion\\analysis\\ephys\\utils.py#169\u001b\\\u001b[2m169\u001b[0m\u001b]8;;\u001b\\\n"
      ]
     },
     "metadata": {},
     "output_type": "display_data"
    },
    {
     "data": {
      "text/html": [
       "<pre style=\"white-space:pre;overflow-x:auto;line-height:normal;font-family:Menlo,'DejaVu Sans Mono',consolas,'Courier New',monospace\"><span style=\"color: #7fbfbf; text-decoration-color: #7fbfbf\">[06/07/22 21:05:41] </span><span style=\"color: #000080; text-decoration-color: #000080\">INFO    </span> Got <span style=\"color: #008080; text-decoration-color: #008080; font-weight: bold\">55</span> units for FC_220413_BAA1101192_hairpin       <a href=\"file://C:\\Users\\Federico\\Documents\\GitHub\\pysical_locomotion\\analysis\\ephys\\utils.py\"><span style=\"color: #7f7f7f; text-decoration-color: #7f7f7f\">utils.py</span></a><span style=\"color: #7f7f7f; text-decoration-color: #7f7f7f\">:</span><a href=\"file://C:\\Users\\Federico\\Documents\\GitHub\\pysical_locomotion\\analysis\\ephys\\utils.py#183\"><span style=\"color: #7f7f7f; text-decoration-color: #7f7f7f\">183</span></a>\n",
       "</pre>\n"
      ],
      "text/plain": [
       "\u001b[2;36m[06/07/22 21:05:41]\u001b[0m\u001b[2;36m \u001b[0m\u001b[34mINFO    \u001b[0m Got \u001b[1;36m55\u001b[0m units for FC_220413_BAA1101192_hairpin       \u001b]8;id=251820;file://C:\\Users\\Federico\\Documents\\GitHub\\pysical_locomotion\\analysis\\ephys\\utils.py\u001b\\\u001b[2mutils.py\u001b[0m\u001b]8;;\u001b\\\u001b[2m:\u001b[0m\u001b]8;id=333692;file://C:\\Users\\Federico\\Documents\\GitHub\\pysical_locomotion\\analysis\\ephys\\utils.py#183\u001b\\\u001b[2m183\u001b[0m\u001b]8;;\u001b\\\n"
      ]
     },
     "metadata": {},
     "output_type": "display_data"
    },
    {
     "data": {
      "text/html": [
       "<pre style=\"white-space:pre;overflow-x:auto;line-height:normal;font-family:Menlo,'DejaVu Sans Mono',consolas,'Courier New',monospace\"><span style=\"color: #7fbfbf; text-decoration-color: #7fbfbf\">                    </span><span style=\"color: #000080; text-decoration-color: #000080\">INFO    </span> Got <span style=\"color: #008080; text-decoration-color: #008080; font-weight: bold\">0</span> bouts for FC_220413_BAA1101192_hairpin | <span style=\"color: #800080; text-decoration-color: #800080; font-style: italic\">None</span> <a href=\"file://C:\\Users\\Federico\\Documents\\GitHub\\pysical_locomotion\\analysis\\ephys\\utils.py\"><span style=\"color: #7f7f7f; text-decoration-color: #7f7f7f\">utils.py</span></a><span style=\"color: #7f7f7f; text-decoration-color: #7f7f7f\">:</span><a href=\"file://C:\\Users\\Federico\\Documents\\GitHub\\pysical_locomotion\\analysis\\ephys\\utils.py#207\"><span style=\"color: #7f7f7f; text-decoration-color: #7f7f7f\">207</span></a>\n",
       "                             | outbound                                                      \n",
       "</pre>\n"
      ],
      "text/plain": [
       "\u001b[2;36m                   \u001b[0m\u001b[2;36m \u001b[0m\u001b[34mINFO    \u001b[0m Got \u001b[1;36m0\u001b[0m bouts for FC_220413_BAA1101192_hairpin | \u001b[3;35mNone\u001b[0m \u001b]8;id=134568;file://C:\\Users\\Federico\\Documents\\GitHub\\pysical_locomotion\\analysis\\ephys\\utils.py\u001b\\\u001b[2mutils.py\u001b[0m\u001b]8;;\u001b\\\u001b[2m:\u001b[0m\u001b]8;id=906557;file://C:\\Users\\Federico\\Documents\\GitHub\\pysical_locomotion\\analysis\\ephys\\utils.py#207\u001b\\\u001b[2m207\u001b[0m\u001b]8;;\u001b\\\n",
       "                             | outbound                                                      \n"
      ]
     },
     "metadata": {},
     "output_type": "display_data"
    },
    {
     "data": {
      "text/html": [
       "<pre style=\"white-space:pre;overflow-x:auto;line-height:normal;font-family:Menlo,'DejaVu Sans Mono',consolas,'Courier New',monospace\"><span style=\"color: #7fbfbf; text-decoration-color: #7fbfbf\">                    </span><span style=\"color: #000080; text-decoration-color: #000080\">INFO    </span> Got <span style=\"color: #008080; text-decoration-color: #008080; font-weight: bold\">0</span> bouts for FC_220413_BAA1101192_hairpin | <span style=\"color: #800080; text-decoration-color: #800080; font-style: italic\">None</span> <a href=\"file://C:\\Users\\Federico\\Documents\\GitHub\\pysical_locomotion\\analysis\\ephys\\utils.py\"><span style=\"color: #7f7f7f; text-decoration-color: #7f7f7f\">utils.py</span></a><span style=\"color: #7f7f7f; text-decoration-color: #7f7f7f\">:</span><a href=\"file://C:\\Users\\Federico\\Documents\\GitHub\\pysical_locomotion\\analysis\\ephys\\utils.py#207\"><span style=\"color: #7f7f7f; text-decoration-color: #7f7f7f\">207</span></a>\n",
       "                             | inbound                                                       \n",
       "</pre>\n"
      ],
      "text/plain": [
       "\u001b[2;36m                   \u001b[0m\u001b[2;36m \u001b[0m\u001b[34mINFO    \u001b[0m Got \u001b[1;36m0\u001b[0m bouts for FC_220413_BAA1101192_hairpin | \u001b[3;35mNone\u001b[0m \u001b]8;id=828824;file://C:\\Users\\Federico\\Documents\\GitHub\\pysical_locomotion\\analysis\\ephys\\utils.py\u001b\\\u001b[2mutils.py\u001b[0m\u001b]8;;\u001b\\\u001b[2m:\u001b[0m\u001b]8;id=640478;file://C:\\Users\\Federico\\Documents\\GitHub\\pysical_locomotion\\analysis\\ephys\\utils.py#207\u001b\\\u001b[2m207\u001b[0m\u001b]8;;\u001b\\\n",
       "                             | inbound                                                       \n"
      ]
     },
     "metadata": {},
     "output_type": "display_data"
    },
    {
     "data": {
      "text/html": [
       "<pre style=\"white-space:pre;overflow-x:auto;line-height:normal;font-family:Menlo,'DejaVu Sans Mono',consolas,'Courier New',monospace\"><span style=\"color: #7fbfbf; text-decoration-color: #7fbfbf\">[06/07/22 21:06:58] </span><span style=\"color: #000080; text-decoration-color: #000080\">INFO    </span> Got tracking data for FC_220414_BAA1101192_hairpin  <a href=\"file://C:\\Users\\Federico\\Documents\\GitHub\\pysical_locomotion\\analysis\\ephys\\utils.py\"><span style=\"color: #7f7f7f; text-decoration-color: #7f7f7f\">utils.py</span></a><span style=\"color: #7f7f7f; text-decoration-color: #7f7f7f\">:</span><a href=\"file://C:\\Users\\Federico\\Documents\\GitHub\\pysical_locomotion\\analysis\\ephys\\utils.py#169\"><span style=\"color: #7f7f7f; text-decoration-color: #7f7f7f\">169</span></a>\n",
       "</pre>\n"
      ],
      "text/plain": [
       "\u001b[2;36m[06/07/22 21:06:58]\u001b[0m\u001b[2;36m \u001b[0m\u001b[34mINFO    \u001b[0m Got tracking data for FC_220414_BAA1101192_hairpin  \u001b]8;id=830010;file://C:\\Users\\Federico\\Documents\\GitHub\\pysical_locomotion\\analysis\\ephys\\utils.py\u001b\\\u001b[2mutils.py\u001b[0m\u001b]8;;\u001b\\\u001b[2m:\u001b[0m\u001b]8;id=431544;file://C:\\Users\\Federico\\Documents\\GitHub\\pysical_locomotion\\analysis\\ephys\\utils.py#169\u001b\\\u001b[2m169\u001b[0m\u001b]8;;\u001b\\\n"
      ]
     },
     "metadata": {},
     "output_type": "display_data"
    },
    {
     "data": {
      "text/html": [
       "<pre style=\"white-space:pre;overflow-x:auto;line-height:normal;font-family:Menlo,'DejaVu Sans Mono',consolas,'Courier New',monospace\"><span style=\"color: #7fbfbf; text-decoration-color: #7fbfbf\">                    </span><span style=\"color: #000080; text-decoration-color: #000080\">INFO    </span> Got <span style=\"color: #008080; text-decoration-color: #008080; font-weight: bold\">56</span> units for FC_220414_BAA1101192_hairpin       <a href=\"file://C:\\Users\\Federico\\Documents\\GitHub\\pysical_locomotion\\analysis\\ephys\\utils.py\"><span style=\"color: #7f7f7f; text-decoration-color: #7f7f7f\">utils.py</span></a><span style=\"color: #7f7f7f; text-decoration-color: #7f7f7f\">:</span><a href=\"file://C:\\Users\\Federico\\Documents\\GitHub\\pysical_locomotion\\analysis\\ephys\\utils.py#183\"><span style=\"color: #7f7f7f; text-decoration-color: #7f7f7f\">183</span></a>\n",
       "</pre>\n"
      ],
      "text/plain": [
       "\u001b[2;36m                   \u001b[0m\u001b[2;36m \u001b[0m\u001b[34mINFO    \u001b[0m Got \u001b[1;36m56\u001b[0m units for FC_220414_BAA1101192_hairpin       \u001b]8;id=902714;file://C:\\Users\\Federico\\Documents\\GitHub\\pysical_locomotion\\analysis\\ephys\\utils.py\u001b\\\u001b[2mutils.py\u001b[0m\u001b]8;;\u001b\\\u001b[2m:\u001b[0m\u001b]8;id=546544;file://C:\\Users\\Federico\\Documents\\GitHub\\pysical_locomotion\\analysis\\ephys\\utils.py#183\u001b\\\u001b[2m183\u001b[0m\u001b]8;;\u001b\\\n"
      ]
     },
     "metadata": {},
     "output_type": "display_data"
    },
    {
     "data": {
      "text/html": [
       "<pre style=\"white-space:pre;overflow-x:auto;line-height:normal;font-family:Menlo,'DejaVu Sans Mono',consolas,'Courier New',monospace\"><span style=\"color: #7fbfbf; text-decoration-color: #7fbfbf\">                    </span><span style=\"color: #000080; text-decoration-color: #000080\">INFO    </span> Got <span style=\"color: #008080; text-decoration-color: #008080; font-weight: bold\">0</span> bouts for FC_220414_BAA1101192_hairpin | <span style=\"color: #800080; text-decoration-color: #800080; font-style: italic\">None</span> <a href=\"file://C:\\Users\\Federico\\Documents\\GitHub\\pysical_locomotion\\analysis\\ephys\\utils.py\"><span style=\"color: #7f7f7f; text-decoration-color: #7f7f7f\">utils.py</span></a><span style=\"color: #7f7f7f; text-decoration-color: #7f7f7f\">:</span><a href=\"file://C:\\Users\\Federico\\Documents\\GitHub\\pysical_locomotion\\analysis\\ephys\\utils.py#207\"><span style=\"color: #7f7f7f; text-decoration-color: #7f7f7f\">207</span></a>\n",
       "                             | outbound                                                      \n",
       "</pre>\n"
      ],
      "text/plain": [
       "\u001b[2;36m                   \u001b[0m\u001b[2;36m \u001b[0m\u001b[34mINFO    \u001b[0m Got \u001b[1;36m0\u001b[0m bouts for FC_220414_BAA1101192_hairpin | \u001b[3;35mNone\u001b[0m \u001b]8;id=194932;file://C:\\Users\\Federico\\Documents\\GitHub\\pysical_locomotion\\analysis\\ephys\\utils.py\u001b\\\u001b[2mutils.py\u001b[0m\u001b]8;;\u001b\\\u001b[2m:\u001b[0m\u001b]8;id=307014;file://C:\\Users\\Federico\\Documents\\GitHub\\pysical_locomotion\\analysis\\ephys\\utils.py#207\u001b\\\u001b[2m207\u001b[0m\u001b]8;;\u001b\\\n",
       "                             | outbound                                                      \n"
      ]
     },
     "metadata": {},
     "output_type": "display_data"
    },
    {
     "data": {
      "text/html": [
       "<pre style=\"white-space:pre;overflow-x:auto;line-height:normal;font-family:Menlo,'DejaVu Sans Mono',consolas,'Courier New',monospace\"><span style=\"color: #7fbfbf; text-decoration-color: #7fbfbf\">                    </span><span style=\"color: #000080; text-decoration-color: #000080\">INFO    </span> Got <span style=\"color: #008080; text-decoration-color: #008080; font-weight: bold\">0</span> bouts for FC_220414_BAA1101192_hairpin | <span style=\"color: #800080; text-decoration-color: #800080; font-style: italic\">None</span> <a href=\"file://C:\\Users\\Federico\\Documents\\GitHub\\pysical_locomotion\\analysis\\ephys\\utils.py\"><span style=\"color: #7f7f7f; text-decoration-color: #7f7f7f\">utils.py</span></a><span style=\"color: #7f7f7f; text-decoration-color: #7f7f7f\">:</span><a href=\"file://C:\\Users\\Federico\\Documents\\GitHub\\pysical_locomotion\\analysis\\ephys\\utils.py#207\"><span style=\"color: #7f7f7f; text-decoration-color: #7f7f7f\">207</span></a>\n",
       "                             | inbound                                                       \n",
       "</pre>\n"
      ],
      "text/plain": [
       "\u001b[2;36m                   \u001b[0m\u001b[2;36m \u001b[0m\u001b[34mINFO    \u001b[0m Got \u001b[1;36m0\u001b[0m bouts for FC_220414_BAA1101192_hairpin | \u001b[3;35mNone\u001b[0m \u001b]8;id=367732;file://C:\\Users\\Federico\\Documents\\GitHub\\pysical_locomotion\\analysis\\ephys\\utils.py\u001b\\\u001b[2mutils.py\u001b[0m\u001b]8;;\u001b\\\u001b[2m:\u001b[0m\u001b]8;id=919616;file://C:\\Users\\Federico\\Documents\\GitHub\\pysical_locomotion\\analysis\\ephys\\utils.py#207\u001b\\\u001b[2m207\u001b[0m\u001b]8;;\u001b\\\n",
       "                             | inbound                                                       \n"
      ]
     },
     "metadata": {},
     "output_type": "display_data"
    },
    {
     "data": {
      "text/html": [
       "<pre style=\"white-space:pre;overflow-x:auto;line-height:normal;font-family:Menlo,'DejaVu Sans Mono',consolas,'Courier New',monospace\"><span style=\"color: #7fbfbf; text-decoration-color: #7fbfbf\">[06/07/22 21:08:17] </span><span style=\"color: #000080; text-decoration-color: #000080\">INFO    </span> Got tracking data for FC_220415_BAA1101192_hairpin  <a href=\"file://C:\\Users\\Federico\\Documents\\GitHub\\pysical_locomotion\\analysis\\ephys\\utils.py\"><span style=\"color: #7f7f7f; text-decoration-color: #7f7f7f\">utils.py</span></a><span style=\"color: #7f7f7f; text-decoration-color: #7f7f7f\">:</span><a href=\"file://C:\\Users\\Federico\\Documents\\GitHub\\pysical_locomotion\\analysis\\ephys\\utils.py#169\"><span style=\"color: #7f7f7f; text-decoration-color: #7f7f7f\">169</span></a>\n",
       "</pre>\n"
      ],
      "text/plain": [
       "\u001b[2;36m[06/07/22 21:08:17]\u001b[0m\u001b[2;36m \u001b[0m\u001b[34mINFO    \u001b[0m Got tracking data for FC_220415_BAA1101192_hairpin  \u001b]8;id=291025;file://C:\\Users\\Federico\\Documents\\GitHub\\pysical_locomotion\\analysis\\ephys\\utils.py\u001b\\\u001b[2mutils.py\u001b[0m\u001b]8;;\u001b\\\u001b[2m:\u001b[0m\u001b]8;id=944766;file://C:\\Users\\Federico\\Documents\\GitHub\\pysical_locomotion\\analysis\\ephys\\utils.py#169\u001b\\\u001b[2m169\u001b[0m\u001b]8;;\u001b\\\n"
      ]
     },
     "metadata": {},
     "output_type": "display_data"
    },
    {
     "data": {
      "text/html": [
       "<pre style=\"white-space:pre;overflow-x:auto;line-height:normal;font-family:Menlo,'DejaVu Sans Mono',consolas,'Courier New',monospace\"><span style=\"color: #7fbfbf; text-decoration-color: #7fbfbf\">[06/07/22 21:08:18] </span><span style=\"color: #000080; text-decoration-color: #000080\">INFO    </span> Got <span style=\"color: #008080; text-decoration-color: #008080; font-weight: bold\">52</span> units for FC_220415_BAA1101192_hairpin       <a href=\"file://C:\\Users\\Federico\\Documents\\GitHub\\pysical_locomotion\\analysis\\ephys\\utils.py\"><span style=\"color: #7f7f7f; text-decoration-color: #7f7f7f\">utils.py</span></a><span style=\"color: #7f7f7f; text-decoration-color: #7f7f7f\">:</span><a href=\"file://C:\\Users\\Federico\\Documents\\GitHub\\pysical_locomotion\\analysis\\ephys\\utils.py#183\"><span style=\"color: #7f7f7f; text-decoration-color: #7f7f7f\">183</span></a>\n",
       "</pre>\n"
      ],
      "text/plain": [
       "\u001b[2;36m[06/07/22 21:08:18]\u001b[0m\u001b[2;36m \u001b[0m\u001b[34mINFO    \u001b[0m Got \u001b[1;36m52\u001b[0m units for FC_220415_BAA1101192_hairpin       \u001b]8;id=958114;file://C:\\Users\\Federico\\Documents\\GitHub\\pysical_locomotion\\analysis\\ephys\\utils.py\u001b\\\u001b[2mutils.py\u001b[0m\u001b]8;;\u001b\\\u001b[2m:\u001b[0m\u001b]8;id=849661;file://C:\\Users\\Federico\\Documents\\GitHub\\pysical_locomotion\\analysis\\ephys\\utils.py#183\u001b\\\u001b[2m183\u001b[0m\u001b]8;;\u001b\\\n"
      ]
     },
     "metadata": {},
     "output_type": "display_data"
    },
    {
     "data": {
      "text/html": [
       "<pre style=\"white-space:pre;overflow-x:auto;line-height:normal;font-family:Menlo,'DejaVu Sans Mono',consolas,'Courier New',monospace\"><span style=\"color: #7fbfbf; text-decoration-color: #7fbfbf\">                    </span><span style=\"color: #000080; text-decoration-color: #000080\">INFO    </span> Got <span style=\"color: #008080; text-decoration-color: #008080; font-weight: bold\">0</span> bouts for FC_220415_BAA1101192_hairpin | <span style=\"color: #800080; text-decoration-color: #800080; font-style: italic\">None</span> <a href=\"file://C:\\Users\\Federico\\Documents\\GitHub\\pysical_locomotion\\analysis\\ephys\\utils.py\"><span style=\"color: #7f7f7f; text-decoration-color: #7f7f7f\">utils.py</span></a><span style=\"color: #7f7f7f; text-decoration-color: #7f7f7f\">:</span><a href=\"file://C:\\Users\\Federico\\Documents\\GitHub\\pysical_locomotion\\analysis\\ephys\\utils.py#207\"><span style=\"color: #7f7f7f; text-decoration-color: #7f7f7f\">207</span></a>\n",
       "                             | outbound                                                      \n",
       "</pre>\n"
      ],
      "text/plain": [
       "\u001b[2;36m                   \u001b[0m\u001b[2;36m \u001b[0m\u001b[34mINFO    \u001b[0m Got \u001b[1;36m0\u001b[0m bouts for FC_220415_BAA1101192_hairpin | \u001b[3;35mNone\u001b[0m \u001b]8;id=43010;file://C:\\Users\\Federico\\Documents\\GitHub\\pysical_locomotion\\analysis\\ephys\\utils.py\u001b\\\u001b[2mutils.py\u001b[0m\u001b]8;;\u001b\\\u001b[2m:\u001b[0m\u001b]8;id=118069;file://C:\\Users\\Federico\\Documents\\GitHub\\pysical_locomotion\\analysis\\ephys\\utils.py#207\u001b\\\u001b[2m207\u001b[0m\u001b]8;;\u001b\\\n",
       "                             | outbound                                                      \n"
      ]
     },
     "metadata": {},
     "output_type": "display_data"
    },
    {
     "data": {
      "text/html": [
       "<pre style=\"white-space:pre;overflow-x:auto;line-height:normal;font-family:Menlo,'DejaVu Sans Mono',consolas,'Courier New',monospace\"><span style=\"color: #7fbfbf; text-decoration-color: #7fbfbf\">                    </span><span style=\"color: #000080; text-decoration-color: #000080\">INFO    </span> Got <span style=\"color: #008080; text-decoration-color: #008080; font-weight: bold\">0</span> bouts for FC_220415_BAA1101192_hairpin | <span style=\"color: #800080; text-decoration-color: #800080; font-style: italic\">None</span> <a href=\"file://C:\\Users\\Federico\\Documents\\GitHub\\pysical_locomotion\\analysis\\ephys\\utils.py\"><span style=\"color: #7f7f7f; text-decoration-color: #7f7f7f\">utils.py</span></a><span style=\"color: #7f7f7f; text-decoration-color: #7f7f7f\">:</span><a href=\"file://C:\\Users\\Federico\\Documents\\GitHub\\pysical_locomotion\\analysis\\ephys\\utils.py#207\"><span style=\"color: #7f7f7f; text-decoration-color: #7f7f7f\">207</span></a>\n",
       "                             | inbound                                                       \n",
       "</pre>\n"
      ],
      "text/plain": [
       "\u001b[2;36m                   \u001b[0m\u001b[2;36m \u001b[0m\u001b[34mINFO    \u001b[0m Got \u001b[1;36m0\u001b[0m bouts for FC_220415_BAA1101192_hairpin | \u001b[3;35mNone\u001b[0m \u001b]8;id=622172;file://C:\\Users\\Federico\\Documents\\GitHub\\pysical_locomotion\\analysis\\ephys\\utils.py\u001b\\\u001b[2mutils.py\u001b[0m\u001b]8;;\u001b\\\u001b[2m:\u001b[0m\u001b]8;id=100016;file://C:\\Users\\Federico\\Documents\\GitHub\\pysical_locomotion\\analysis\\ephys\\utils.py#207\u001b\\\u001b[2m207\u001b[0m\u001b]8;;\u001b\\\n",
       "                             | inbound                                                       \n"
      ]
     },
     "metadata": {},
     "output_type": "display_data"
    },
    {
     "data": {
      "text/html": [
       "<pre style=\"white-space:pre;overflow-x:auto;line-height:normal;font-family:Menlo,'DejaVu Sans Mono',consolas,'Courier New',monospace\"><span style=\"color: #7fbfbf; text-decoration-color: #7fbfbf\">[06/07/22 21:09:32] </span><span style=\"color: #000080; text-decoration-color: #000080\">INFO    </span> Got tracking data for FC_220432_BAA1101192_hairpin  <a href=\"file://C:\\Users\\Federico\\Documents\\GitHub\\pysical_locomotion\\analysis\\ephys\\utils.py\"><span style=\"color: #7f7f7f; text-decoration-color: #7f7f7f\">utils.py</span></a><span style=\"color: #7f7f7f; text-decoration-color: #7f7f7f\">:</span><a href=\"file://C:\\Users\\Federico\\Documents\\GitHub\\pysical_locomotion\\analysis\\ephys\\utils.py#169\"><span style=\"color: #7f7f7f; text-decoration-color: #7f7f7f\">169</span></a>\n",
       "</pre>\n"
      ],
      "text/plain": [
       "\u001b[2;36m[06/07/22 21:09:32]\u001b[0m\u001b[2;36m \u001b[0m\u001b[34mINFO    \u001b[0m Got tracking data for FC_220432_BAA1101192_hairpin  \u001b]8;id=948179;file://C:\\Users\\Federico\\Documents\\GitHub\\pysical_locomotion\\analysis\\ephys\\utils.py\u001b\\\u001b[2mutils.py\u001b[0m\u001b]8;;\u001b\\\u001b[2m:\u001b[0m\u001b]8;id=552883;file://C:\\Users\\Federico\\Documents\\GitHub\\pysical_locomotion\\analysis\\ephys\\utils.py#169\u001b\\\u001b[2m169\u001b[0m\u001b]8;;\u001b\\\n"
      ]
     },
     "metadata": {},
     "output_type": "display_data"
    },
    {
     "data": {
      "text/html": [
       "<pre style=\"white-space:pre;overflow-x:auto;line-height:normal;font-family:Menlo,'DejaVu Sans Mono',consolas,'Courier New',monospace\"><span style=\"color: #7fbfbf; text-decoration-color: #7fbfbf\">[06/07/22 21:09:33] </span><span style=\"color: #000080; text-decoration-color: #000080\">INFO    </span> Got <span style=\"color: #008080; text-decoration-color: #008080; font-weight: bold\">40</span> units for FC_220432_BAA1101192_hairpin       <a href=\"file://C:\\Users\\Federico\\Documents\\GitHub\\pysical_locomotion\\analysis\\ephys\\utils.py\"><span style=\"color: #7f7f7f; text-decoration-color: #7f7f7f\">utils.py</span></a><span style=\"color: #7f7f7f; text-decoration-color: #7f7f7f\">:</span><a href=\"file://C:\\Users\\Federico\\Documents\\GitHub\\pysical_locomotion\\analysis\\ephys\\utils.py#183\"><span style=\"color: #7f7f7f; text-decoration-color: #7f7f7f\">183</span></a>\n",
       "</pre>\n"
      ],
      "text/plain": [
       "\u001b[2;36m[06/07/22 21:09:33]\u001b[0m\u001b[2;36m \u001b[0m\u001b[34mINFO    \u001b[0m Got \u001b[1;36m40\u001b[0m units for FC_220432_BAA1101192_hairpin       \u001b]8;id=137420;file://C:\\Users\\Federico\\Documents\\GitHub\\pysical_locomotion\\analysis\\ephys\\utils.py\u001b\\\u001b[2mutils.py\u001b[0m\u001b]8;;\u001b\\\u001b[2m:\u001b[0m\u001b]8;id=705023;file://C:\\Users\\Federico\\Documents\\GitHub\\pysical_locomotion\\analysis\\ephys\\utils.py#183\u001b\\\u001b[2m183\u001b[0m\u001b]8;;\u001b\\\n"
      ]
     },
     "metadata": {},
     "output_type": "display_data"
    },
    {
     "data": {
      "text/html": [
       "<pre style=\"white-space:pre;overflow-x:auto;line-height:normal;font-family:Menlo,'DejaVu Sans Mono',consolas,'Courier New',monospace\"><span style=\"color: #7fbfbf; text-decoration-color: #7fbfbf\">[06/07/22 21:09:34] </span><span style=\"color: #000080; text-decoration-color: #000080\">INFO    </span> Got <span style=\"color: #008080; text-decoration-color: #008080; font-weight: bold\">64</span> bouts for FC_220432_BAA1101192_hairpin |     <a href=\"file://C:\\Users\\Federico\\Documents\\GitHub\\pysical_locomotion\\analysis\\ephys\\utils.py\"><span style=\"color: #7f7f7f; text-decoration-color: #7f7f7f\">utils.py</span></a><span style=\"color: #7f7f7f; text-decoration-color: #7f7f7f\">:</span><a href=\"file://C:\\Users\\Federico\\Documents\\GitHub\\pysical_locomotion\\analysis\\ephys\\utils.py#207\"><span style=\"color: #7f7f7f; text-decoration-color: #7f7f7f\">207</span></a>\n",
       "                             <span style=\"color: #800080; text-decoration-color: #800080; font-style: italic\">None</span> | outbound                                                 \n",
       "</pre>\n"
      ],
      "text/plain": [
       "\u001b[2;36m[06/07/22 21:09:34]\u001b[0m\u001b[2;36m \u001b[0m\u001b[34mINFO    \u001b[0m Got \u001b[1;36m64\u001b[0m bouts for FC_220432_BAA1101192_hairpin |     \u001b]8;id=47147;file://C:\\Users\\Federico\\Documents\\GitHub\\pysical_locomotion\\analysis\\ephys\\utils.py\u001b\\\u001b[2mutils.py\u001b[0m\u001b]8;;\u001b\\\u001b[2m:\u001b[0m\u001b]8;id=883423;file://C:\\Users\\Federico\\Documents\\GitHub\\pysical_locomotion\\analysis\\ephys\\utils.py#207\u001b\\\u001b[2m207\u001b[0m\u001b]8;;\u001b\\\n",
       "                             \u001b[3;35mNone\u001b[0m | outbound                                                 \n"
      ]
     },
     "metadata": {},
     "output_type": "display_data"
    },
    {
     "data": {
      "text/html": [
       "<pre style=\"white-space:pre;overflow-x:auto;line-height:normal;font-family:Menlo,'DejaVu Sans Mono',consolas,'Courier New',monospace\"><span style=\"color: #7fbfbf; text-decoration-color: #7fbfbf\">[06/07/22 21:09:35] </span><span style=\"color: #000080; text-decoration-color: #000080\">INFO    </span> Got <span style=\"color: #008080; text-decoration-color: #008080; font-weight: bold\">61</span> bouts for FC_220432_BAA1101192_hairpin |     <a href=\"file://C:\\Users\\Federico\\Documents\\GitHub\\pysical_locomotion\\analysis\\ephys\\utils.py\"><span style=\"color: #7f7f7f; text-decoration-color: #7f7f7f\">utils.py</span></a><span style=\"color: #7f7f7f; text-decoration-color: #7f7f7f\">:</span><a href=\"file://C:\\Users\\Federico\\Documents\\GitHub\\pysical_locomotion\\analysis\\ephys\\utils.py#207\"><span style=\"color: #7f7f7f; text-decoration-color: #7f7f7f\">207</span></a>\n",
       "                             <span style=\"color: #800080; text-decoration-color: #800080; font-style: italic\">None</span> | inbound                                                  \n",
       "</pre>\n"
      ],
      "text/plain": [
       "\u001b[2;36m[06/07/22 21:09:35]\u001b[0m\u001b[2;36m \u001b[0m\u001b[34mINFO    \u001b[0m Got \u001b[1;36m61\u001b[0m bouts for FC_220432_BAA1101192_hairpin |     \u001b]8;id=764332;file://C:\\Users\\Federico\\Documents\\GitHub\\pysical_locomotion\\analysis\\ephys\\utils.py\u001b\\\u001b[2mutils.py\u001b[0m\u001b]8;;\u001b\\\u001b[2m:\u001b[0m\u001b]8;id=533679;file://C:\\Users\\Federico\\Documents\\GitHub\\pysical_locomotion\\analysis\\ephys\\utils.py#207\u001b\\\u001b[2m207\u001b[0m\u001b]8;;\u001b\\\n",
       "                             \u001b[3;35mNone\u001b[0m | inbound                                                  \n"
      ]
     },
     "metadata": {},
     "output_type": "display_data"
    },
    {
     "data": {
      "text/html": [
       "<pre style=\"white-space:pre;overflow-x:auto;line-height:normal;font-family:Menlo,'DejaVu Sans Mono',consolas,'Courier New',monospace\"><span style=\"color: #7fbfbf; text-decoration-color: #7fbfbf\">[06/07/22 21:12:01] </span><span style=\"color: #000080; text-decoration-color: #000080\">INFO    </span> Got tracking data for FC_220433_BAA1101192_hairpin  <a href=\"file://C:\\Users\\Federico\\Documents\\GitHub\\pysical_locomotion\\analysis\\ephys\\utils.py\"><span style=\"color: #7f7f7f; text-decoration-color: #7f7f7f\">utils.py</span></a><span style=\"color: #7f7f7f; text-decoration-color: #7f7f7f\">:</span><a href=\"file://C:\\Users\\Federico\\Documents\\GitHub\\pysical_locomotion\\analysis\\ephys\\utils.py#169\"><span style=\"color: #7f7f7f; text-decoration-color: #7f7f7f\">169</span></a>\n",
       "</pre>\n"
      ],
      "text/plain": [
       "\u001b[2;36m[06/07/22 21:12:01]\u001b[0m\u001b[2;36m \u001b[0m\u001b[34mINFO    \u001b[0m Got tracking data for FC_220433_BAA1101192_hairpin  \u001b]8;id=352699;file://C:\\Users\\Federico\\Documents\\GitHub\\pysical_locomotion\\analysis\\ephys\\utils.py\u001b\\\u001b[2mutils.py\u001b[0m\u001b]8;;\u001b\\\u001b[2m:\u001b[0m\u001b]8;id=362593;file://C:\\Users\\Federico\\Documents\\GitHub\\pysical_locomotion\\analysis\\ephys\\utils.py#169\u001b\\\u001b[2m169\u001b[0m\u001b]8;;\u001b\\\n"
      ]
     },
     "metadata": {},
     "output_type": "display_data"
    },
    {
     "data": {
      "text/html": [
       "<pre style=\"white-space:pre;overflow-x:auto;line-height:normal;font-family:Menlo,'DejaVu Sans Mono',consolas,'Courier New',monospace\"><span style=\"color: #7fbfbf; text-decoration-color: #7fbfbf\">                    </span><span style=\"color: #000080; text-decoration-color: #000080\">INFO    </span> Got <span style=\"color: #008080; text-decoration-color: #008080; font-weight: bold\">47</span> units for FC_220433_BAA1101192_hairpin       <a href=\"file://C:\\Users\\Federico\\Documents\\GitHub\\pysical_locomotion\\analysis\\ephys\\utils.py\"><span style=\"color: #7f7f7f; text-decoration-color: #7f7f7f\">utils.py</span></a><span style=\"color: #7f7f7f; text-decoration-color: #7f7f7f\">:</span><a href=\"file://C:\\Users\\Federico\\Documents\\GitHub\\pysical_locomotion\\analysis\\ephys\\utils.py#183\"><span style=\"color: #7f7f7f; text-decoration-color: #7f7f7f\">183</span></a>\n",
       "</pre>\n"
      ],
      "text/plain": [
       "\u001b[2;36m                   \u001b[0m\u001b[2;36m \u001b[0m\u001b[34mINFO    \u001b[0m Got \u001b[1;36m47\u001b[0m units for FC_220433_BAA1101192_hairpin       \u001b]8;id=582444;file://C:\\Users\\Federico\\Documents\\GitHub\\pysical_locomotion\\analysis\\ephys\\utils.py\u001b\\\u001b[2mutils.py\u001b[0m\u001b]8;;\u001b\\\u001b[2m:\u001b[0m\u001b]8;id=827996;file://C:\\Users\\Federico\\Documents\\GitHub\\pysical_locomotion\\analysis\\ephys\\utils.py#183\u001b\\\u001b[2m183\u001b[0m\u001b]8;;\u001b\\\n"
      ]
     },
     "metadata": {},
     "output_type": "display_data"
    },
    {
     "data": {
      "text/html": [
       "<pre style=\"white-space:pre;overflow-x:auto;line-height:normal;font-family:Menlo,'DejaVu Sans Mono',consolas,'Courier New',monospace\"><span style=\"color: #7fbfbf; text-decoration-color: #7fbfbf\">[06/07/22 21:12:04] </span><span style=\"color: #000080; text-decoration-color: #000080\">INFO    </span> Got <span style=\"color: #008080; text-decoration-color: #008080; font-weight: bold\">110</span> bouts for FC_220433_BAA1101192_hairpin |    <a href=\"file://C:\\Users\\Federico\\Documents\\GitHub\\pysical_locomotion\\analysis\\ephys\\utils.py\"><span style=\"color: #7f7f7f; text-decoration-color: #7f7f7f\">utils.py</span></a><span style=\"color: #7f7f7f; text-decoration-color: #7f7f7f\">:</span><a href=\"file://C:\\Users\\Federico\\Documents\\GitHub\\pysical_locomotion\\analysis\\ephys\\utils.py#207\"><span style=\"color: #7f7f7f; text-decoration-color: #7f7f7f\">207</span></a>\n",
       "                             <span style=\"color: #800080; text-decoration-color: #800080; font-style: italic\">None</span> | outbound                                                 \n",
       "</pre>\n"
      ],
      "text/plain": [
       "\u001b[2;36m[06/07/22 21:12:04]\u001b[0m\u001b[2;36m \u001b[0m\u001b[34mINFO    \u001b[0m Got \u001b[1;36m110\u001b[0m bouts for FC_220433_BAA1101192_hairpin |    \u001b]8;id=910236;file://C:\\Users\\Federico\\Documents\\GitHub\\pysical_locomotion\\analysis\\ephys\\utils.py\u001b\\\u001b[2mutils.py\u001b[0m\u001b]8;;\u001b\\\u001b[2m:\u001b[0m\u001b]8;id=259049;file://C:\\Users\\Federico\\Documents\\GitHub\\pysical_locomotion\\analysis\\ephys\\utils.py#207\u001b\\\u001b[2m207\u001b[0m\u001b]8;;\u001b\\\n",
       "                             \u001b[3;35mNone\u001b[0m | outbound                                                 \n"
      ]
     },
     "metadata": {},
     "output_type": "display_data"
    },
    {
     "data": {
      "text/html": [
       "<pre style=\"white-space:pre;overflow-x:auto;line-height:normal;font-family:Menlo,'DejaVu Sans Mono',consolas,'Courier New',monospace\"><span style=\"color: #7fbfbf; text-decoration-color: #7fbfbf\">[06/07/22 21:12:06] </span><span style=\"color: #000080; text-decoration-color: #000080\">INFO    </span> Got <span style=\"color: #008080; text-decoration-color: #008080; font-weight: bold\">120</span> bouts for FC_220433_BAA1101192_hairpin |    <a href=\"file://C:\\Users\\Federico\\Documents\\GitHub\\pysical_locomotion\\analysis\\ephys\\utils.py\"><span style=\"color: #7f7f7f; text-decoration-color: #7f7f7f\">utils.py</span></a><span style=\"color: #7f7f7f; text-decoration-color: #7f7f7f\">:</span><a href=\"file://C:\\Users\\Federico\\Documents\\GitHub\\pysical_locomotion\\analysis\\ephys\\utils.py#207\"><span style=\"color: #7f7f7f; text-decoration-color: #7f7f7f\">207</span></a>\n",
       "                             <span style=\"color: #800080; text-decoration-color: #800080; font-style: italic\">None</span> | inbound                                                  \n",
       "</pre>\n"
      ],
      "text/plain": [
       "\u001b[2;36m[06/07/22 21:12:06]\u001b[0m\u001b[2;36m \u001b[0m\u001b[34mINFO    \u001b[0m Got \u001b[1;36m120\u001b[0m bouts for FC_220433_BAA1101192_hairpin |    \u001b]8;id=530099;file://C:\\Users\\Federico\\Documents\\GitHub\\pysical_locomotion\\analysis\\ephys\\utils.py\u001b\\\u001b[2mutils.py\u001b[0m\u001b]8;;\u001b\\\u001b[2m:\u001b[0m\u001b]8;id=37201;file://C:\\Users\\Federico\\Documents\\GitHub\\pysical_locomotion\\analysis\\ephys\\utils.py#207\u001b\\\u001b[2m207\u001b[0m\u001b]8;;\u001b\\\n",
       "                             \u001b[3;35mNone\u001b[0m | inbound                                                  \n"
      ]
     },
     "metadata": {},
     "output_type": "display_data"
    },
    {
     "data": {
      "text/html": [
       "<pre style=\"white-space:pre;overflow-x:auto;line-height:normal;font-family:Menlo,'DejaVu Sans Mono',consolas,'Courier New',monospace\"><span style=\"color: #7fbfbf; text-decoration-color: #7fbfbf\">[06/07/22 21:16:12] </span><span style=\"color: #000080; text-decoration-color: #000080\">INFO    </span> Got tracking data for FC_220434_BAA1101192_hairpin  <a href=\"file://C:\\Users\\Federico\\Documents\\GitHub\\pysical_locomotion\\analysis\\ephys\\utils.py\"><span style=\"color: #7f7f7f; text-decoration-color: #7f7f7f\">utils.py</span></a><span style=\"color: #7f7f7f; text-decoration-color: #7f7f7f\">:</span><a href=\"file://C:\\Users\\Federico\\Documents\\GitHub\\pysical_locomotion\\analysis\\ephys\\utils.py#169\"><span style=\"color: #7f7f7f; text-decoration-color: #7f7f7f\">169</span></a>\n",
       "</pre>\n"
      ],
      "text/plain": [
       "\u001b[2;36m[06/07/22 21:16:12]\u001b[0m\u001b[2;36m \u001b[0m\u001b[34mINFO    \u001b[0m Got tracking data for FC_220434_BAA1101192_hairpin  \u001b]8;id=957336;file://C:\\Users\\Federico\\Documents\\GitHub\\pysical_locomotion\\analysis\\ephys\\utils.py\u001b\\\u001b[2mutils.py\u001b[0m\u001b]8;;\u001b\\\u001b[2m:\u001b[0m\u001b]8;id=936974;file://C:\\Users\\Federico\\Documents\\GitHub\\pysical_locomotion\\analysis\\ephys\\utils.py#169\u001b\\\u001b[2m169\u001b[0m\u001b]8;;\u001b\\\n"
      ]
     },
     "metadata": {},
     "output_type": "display_data"
    },
    {
     "data": {
      "text/html": [
       "<pre style=\"white-space:pre;overflow-x:auto;line-height:normal;font-family:Menlo,'DejaVu Sans Mono',consolas,'Courier New',monospace\"><span style=\"color: #7fbfbf; text-decoration-color: #7fbfbf\">[06/07/22 21:16:13] </span><span style=\"color: #000080; text-decoration-color: #000080\">INFO    </span> Got <span style=\"color: #008080; text-decoration-color: #008080; font-weight: bold\">74</span> units for FC_220434_BAA1101192_hairpin       <a href=\"file://C:\\Users\\Federico\\Documents\\GitHub\\pysical_locomotion\\analysis\\ephys\\utils.py\"><span style=\"color: #7f7f7f; text-decoration-color: #7f7f7f\">utils.py</span></a><span style=\"color: #7f7f7f; text-decoration-color: #7f7f7f\">:</span><a href=\"file://C:\\Users\\Federico\\Documents\\GitHub\\pysical_locomotion\\analysis\\ephys\\utils.py#183\"><span style=\"color: #7f7f7f; text-decoration-color: #7f7f7f\">183</span></a>\n",
       "</pre>\n"
      ],
      "text/plain": [
       "\u001b[2;36m[06/07/22 21:16:13]\u001b[0m\u001b[2;36m \u001b[0m\u001b[34mINFO    \u001b[0m Got \u001b[1;36m74\u001b[0m units for FC_220434_BAA1101192_hairpin       \u001b]8;id=259965;file://C:\\Users\\Federico\\Documents\\GitHub\\pysical_locomotion\\analysis\\ephys\\utils.py\u001b\\\u001b[2mutils.py\u001b[0m\u001b]8;;\u001b\\\u001b[2m:\u001b[0m\u001b]8;id=155268;file://C:\\Users\\Federico\\Documents\\GitHub\\pysical_locomotion\\analysis\\ephys\\utils.py#183\u001b\\\u001b[2m183\u001b[0m\u001b]8;;\u001b\\\n"
      ]
     },
     "metadata": {},
     "output_type": "display_data"
    },
    {
     "data": {
      "text/html": [
       "<pre style=\"white-space:pre;overflow-x:auto;line-height:normal;font-family:Menlo,'DejaVu Sans Mono',consolas,'Courier New',monospace\"><span style=\"color: #7fbfbf; text-decoration-color: #7fbfbf\">[06/07/22 21:16:16] </span><span style=\"color: #000080; text-decoration-color: #000080\">INFO    </span> Got <span style=\"color: #008080; text-decoration-color: #008080; font-weight: bold\">87</span> bouts for FC_220434_BAA1101192_hairpin |     <a href=\"file://C:\\Users\\Federico\\Documents\\GitHub\\pysical_locomotion\\analysis\\ephys\\utils.py\"><span style=\"color: #7f7f7f; text-decoration-color: #7f7f7f\">utils.py</span></a><span style=\"color: #7f7f7f; text-decoration-color: #7f7f7f\">:</span><a href=\"file://C:\\Users\\Federico\\Documents\\GitHub\\pysical_locomotion\\analysis\\ephys\\utils.py#207\"><span style=\"color: #7f7f7f; text-decoration-color: #7f7f7f\">207</span></a>\n",
       "                             <span style=\"color: #800080; text-decoration-color: #800080; font-style: italic\">None</span> | outbound                                                 \n",
       "</pre>\n"
      ],
      "text/plain": [
       "\u001b[2;36m[06/07/22 21:16:16]\u001b[0m\u001b[2;36m \u001b[0m\u001b[34mINFO    \u001b[0m Got \u001b[1;36m87\u001b[0m bouts for FC_220434_BAA1101192_hairpin |     \u001b]8;id=583339;file://C:\\Users\\Federico\\Documents\\GitHub\\pysical_locomotion\\analysis\\ephys\\utils.py\u001b\\\u001b[2mutils.py\u001b[0m\u001b]8;;\u001b\\\u001b[2m:\u001b[0m\u001b]8;id=157270;file://C:\\Users\\Federico\\Documents\\GitHub\\pysical_locomotion\\analysis\\ephys\\utils.py#207\u001b\\\u001b[2m207\u001b[0m\u001b]8;;\u001b\\\n",
       "                             \u001b[3;35mNone\u001b[0m | outbound                                                 \n"
      ]
     },
     "metadata": {},
     "output_type": "display_data"
    },
    {
     "data": {
      "text/html": [
       "<pre style=\"white-space:pre;overflow-x:auto;line-height:normal;font-family:Menlo,'DejaVu Sans Mono',consolas,'Courier New',monospace\"><span style=\"color: #7fbfbf; text-decoration-color: #7fbfbf\">[06/07/22 21:16:18] </span><span style=\"color: #000080; text-decoration-color: #000080\">INFO    </span> Got <span style=\"color: #008080; text-decoration-color: #008080; font-weight: bold\">89</span> bouts for FC_220434_BAA1101192_hairpin |     <a href=\"file://C:\\Users\\Federico\\Documents\\GitHub\\pysical_locomotion\\analysis\\ephys\\utils.py\"><span style=\"color: #7f7f7f; text-decoration-color: #7f7f7f\">utils.py</span></a><span style=\"color: #7f7f7f; text-decoration-color: #7f7f7f\">:</span><a href=\"file://C:\\Users\\Federico\\Documents\\GitHub\\pysical_locomotion\\analysis\\ephys\\utils.py#207\"><span style=\"color: #7f7f7f; text-decoration-color: #7f7f7f\">207</span></a>\n",
       "                             <span style=\"color: #800080; text-decoration-color: #800080; font-style: italic\">None</span> | inbound                                                  \n",
       "</pre>\n"
      ],
      "text/plain": [
       "\u001b[2;36m[06/07/22 21:16:18]\u001b[0m\u001b[2;36m \u001b[0m\u001b[34mINFO    \u001b[0m Got \u001b[1;36m89\u001b[0m bouts for FC_220434_BAA1101192_hairpin |     \u001b]8;id=346072;file://C:\\Users\\Federico\\Documents\\GitHub\\pysical_locomotion\\analysis\\ephys\\utils.py\u001b\\\u001b[2mutils.py\u001b[0m\u001b]8;;\u001b\\\u001b[2m:\u001b[0m\u001b]8;id=762249;file://C:\\Users\\Federico\\Documents\\GitHub\\pysical_locomotion\\analysis\\ephys\\utils.py#207\u001b\\\u001b[2m207\u001b[0m\u001b]8;;\u001b\\\n",
       "                             \u001b[3;35mNone\u001b[0m | inbound                                                  \n"
      ]
     },
     "metadata": {},
     "output_type": "display_data"
    },
    {
     "data": {
      "text/html": [
       "<pre style=\"white-space:pre;overflow-x:auto;line-height:normal;font-family:Menlo,'DejaVu Sans Mono',consolas,'Courier New',monospace\"><span style=\"color: #7fbfbf; text-decoration-color: #7fbfbf\">[06/07/22 21:22:45] </span><span style=\"color: #000080; text-decoration-color: #000080\">INFO    </span> Got tracking data for FC_220435_BAA1101192_hairpin  <a href=\"file://C:\\Users\\Federico\\Documents\\GitHub\\pysical_locomotion\\analysis\\ephys\\utils.py\"><span style=\"color: #7f7f7f; text-decoration-color: #7f7f7f\">utils.py</span></a><span style=\"color: #7f7f7f; text-decoration-color: #7f7f7f\">:</span><a href=\"file://C:\\Users\\Federico\\Documents\\GitHub\\pysical_locomotion\\analysis\\ephys\\utils.py#169\"><span style=\"color: #7f7f7f; text-decoration-color: #7f7f7f\">169</span></a>\n",
       "</pre>\n"
      ],
      "text/plain": [
       "\u001b[2;36m[06/07/22 21:22:45]\u001b[0m\u001b[2;36m \u001b[0m\u001b[34mINFO    \u001b[0m Got tracking data for FC_220435_BAA1101192_hairpin  \u001b]8;id=538205;file://C:\\Users\\Federico\\Documents\\GitHub\\pysical_locomotion\\analysis\\ephys\\utils.py\u001b\\\u001b[2mutils.py\u001b[0m\u001b]8;;\u001b\\\u001b[2m:\u001b[0m\u001b]8;id=452849;file://C:\\Users\\Federico\\Documents\\GitHub\\pysical_locomotion\\analysis\\ephys\\utils.py#169\u001b\\\u001b[2m169\u001b[0m\u001b]8;;\u001b\\\n"
      ]
     },
     "metadata": {},
     "output_type": "display_data"
    },
    {
     "data": {
      "text/html": [
       "<pre style=\"white-space:pre;overflow-x:auto;line-height:normal;font-family:Menlo,'DejaVu Sans Mono',consolas,'Courier New',monospace\"><span style=\"color: #7fbfbf; text-decoration-color: #7fbfbf\">                    </span><span style=\"color: #000080; text-decoration-color: #000080\">INFO    </span> No units for FC_220435_BAA1101192_hairpin           <a href=\"file://C:\\Users\\Federico\\Documents\\GitHub\\pysical_locomotion\\analysis\\ephys\\utils.py\"><span style=\"color: #7f7f7f; text-decoration-color: #7f7f7f\">utils.py</span></a><span style=\"color: #7f7f7f; text-decoration-color: #7f7f7f\">:</span><a href=\"file://C:\\Users\\Federico\\Documents\\GitHub\\pysical_locomotion\\analysis\\ephys\\utils.py#185\"><span style=\"color: #7f7f7f; text-decoration-color: #7f7f7f\">185</span></a>\n",
       "</pre>\n"
      ],
      "text/plain": [
       "\u001b[2;36m                   \u001b[0m\u001b[2;36m \u001b[0m\u001b[34mINFO    \u001b[0m No units for FC_220435_BAA1101192_hairpin           \u001b]8;id=271495;file://C:\\Users\\Federico\\Documents\\GitHub\\pysical_locomotion\\analysis\\ephys\\utils.py\u001b\\\u001b[2mutils.py\u001b[0m\u001b]8;;\u001b\\\u001b[2m:\u001b[0m\u001b]8;id=916994;file://C:\\Users\\Federico\\Documents\\GitHub\\pysical_locomotion\\analysis\\ephys\\utils.py#185\u001b\\\u001b[2m185\u001b[0m\u001b]8;;\u001b\\\n"
      ]
     },
     "metadata": {},
     "output_type": "display_data"
    },
    {
     "data": {
      "text/html": [
       "<pre style=\"white-space:pre;overflow-x:auto;line-height:normal;font-family:Menlo,'DejaVu Sans Mono',consolas,'Courier New',monospace\"><span style=\"color: #7fbfbf; text-decoration-color: #7fbfbf\">[06/07/22 21:22:46] </span><span style=\"color: #000080; text-decoration-color: #000080\">INFO    </span> Got <span style=\"color: #008080; text-decoration-color: #008080; font-weight: bold\">68</span> bouts for FC_220435_BAA1101192_hairpin |     <a href=\"file://C:\\Users\\Federico\\Documents\\GitHub\\pysical_locomotion\\analysis\\ephys\\utils.py\"><span style=\"color: #7f7f7f; text-decoration-color: #7f7f7f\">utils.py</span></a><span style=\"color: #7f7f7f; text-decoration-color: #7f7f7f\">:</span><a href=\"file://C:\\Users\\Federico\\Documents\\GitHub\\pysical_locomotion\\analysis\\ephys\\utils.py#207\"><span style=\"color: #7f7f7f; text-decoration-color: #7f7f7f\">207</span></a>\n",
       "                             <span style=\"color: #800080; text-decoration-color: #800080; font-style: italic\">None</span> | outbound                                                 \n",
       "</pre>\n"
      ],
      "text/plain": [
       "\u001b[2;36m[06/07/22 21:22:46]\u001b[0m\u001b[2;36m \u001b[0m\u001b[34mINFO    \u001b[0m Got \u001b[1;36m68\u001b[0m bouts for FC_220435_BAA1101192_hairpin |     \u001b]8;id=332385;file://C:\\Users\\Federico\\Documents\\GitHub\\pysical_locomotion\\analysis\\ephys\\utils.py\u001b\\\u001b[2mutils.py\u001b[0m\u001b]8;;\u001b\\\u001b[2m:\u001b[0m\u001b]8;id=426073;file://C:\\Users\\Federico\\Documents\\GitHub\\pysical_locomotion\\analysis\\ephys\\utils.py#207\u001b\\\u001b[2m207\u001b[0m\u001b]8;;\u001b\\\n",
       "                             \u001b[3;35mNone\u001b[0m | outbound                                                 \n"
      ]
     },
     "metadata": {},
     "output_type": "display_data"
    },
    {
     "data": {
      "text/html": [
       "<pre style=\"white-space:pre;overflow-x:auto;line-height:normal;font-family:Menlo,'DejaVu Sans Mono',consolas,'Courier New',monospace\"><span style=\"color: #7fbfbf; text-decoration-color: #7fbfbf\">[06/07/22 21:22:47] </span><span style=\"color: #000080; text-decoration-color: #000080\">INFO    </span> Got <span style=\"color: #008080; text-decoration-color: #008080; font-weight: bold\">66</span> bouts for FC_220435_BAA1101192_hairpin |     <a href=\"file://C:\\Users\\Federico\\Documents\\GitHub\\pysical_locomotion\\analysis\\ephys\\utils.py\"><span style=\"color: #7f7f7f; text-decoration-color: #7f7f7f\">utils.py</span></a><span style=\"color: #7f7f7f; text-decoration-color: #7f7f7f\">:</span><a href=\"file://C:\\Users\\Federico\\Documents\\GitHub\\pysical_locomotion\\analysis\\ephys\\utils.py#207\"><span style=\"color: #7f7f7f; text-decoration-color: #7f7f7f\">207</span></a>\n",
       "                             <span style=\"color: #800080; text-decoration-color: #800080; font-style: italic\">None</span> | inbound                                                  \n",
       "</pre>\n"
      ],
      "text/plain": [
       "\u001b[2;36m[06/07/22 21:22:47]\u001b[0m\u001b[2;36m \u001b[0m\u001b[34mINFO    \u001b[0m Got \u001b[1;36m66\u001b[0m bouts for FC_220435_BAA1101192_hairpin |     \u001b]8;id=506621;file://C:\\Users\\Federico\\Documents\\GitHub\\pysical_locomotion\\analysis\\ephys\\utils.py\u001b\\\u001b[2mutils.py\u001b[0m\u001b]8;;\u001b\\\u001b[2m:\u001b[0m\u001b]8;id=19565;file://C:\\Users\\Federico\\Documents\\GitHub\\pysical_locomotion\\analysis\\ephys\\utils.py#207\u001b\\\u001b[2m207\u001b[0m\u001b]8;;\u001b\\\n",
       "                             \u001b[3;35mNone\u001b[0m | inbound                                                  \n"
      ]
     },
     "metadata": {},
     "output_type": "display_data"
    }
   ],
   "source": [
    "for REC in get_recording_names():\n",
    "    dest = save_folder / REC / \"curves_rasters\"\n",
    "    dest.mkdir(exist_ok=True, parents=True)\n",
    "\n",
    "    units, left_fl, right_fl, left_hl, right_hl, body = get_data(REC)\n",
    "    if units is None:\n",
    "        continue\n",
    "\n",
    "    out_bouts = get_session_bouts(REC, complete=None)\n",
    "    in_bouts = get_session_bouts(REC, direction=\"inbound\", complete=None)\n",
    "\n",
    "    for (i, unit) in units.iterrows():\n",
    "        region = unit.brain_region[:3]\n",
    "        savepath= dest / f\"{region}_{unit.unit_id}.png\"\n",
    "        # if savepath.exists():\n",
    "        #     continue\n",
    "\n",
    "        fig = make_figure(out_bouts, in_bouts, unit)\n",
    "        fig.savefig(savepath, dpi=200, transparent=False, facecolor='w', edgecolor='w')\n",
    "\n",
    "        # close figure \n",
    "        plt.close(fig)\n",
    "    #     break\n",
    "    # break\n",
    "        "
   ]
  },
  {
   "cell_type": "code",
   "execution_count": 7,
   "metadata": {},
   "outputs": [
    {
     "name": "stdout",
     "output_type": "stream",
     "text": [
      "mouse_id                                              BAA1101192\n",
      "name                                FC_220435_BAA1101192_hairpin\n",
      "start_frame                                                 4167\n",
      "end_frame                                                   4544\n",
      "duration                                                 6.28333\n",
      "direction                                               outbound\n",
      "complete                                                    true\n",
      "s              [4.605061300745047, 4.743562081698704, 4.83088...\n",
      "x              [21.953143118212125, 22.07040525670981, 22.231...\n",
      "y              [28.402032563898022, 28.27276050166269, 28.194...\n",
      "speed          [0.0, 5.235982016743666, 7.06930054863444, 13....\n",
      "angvel         [-1.676693317527222, -1.6582054323921707, -1.6...\n",
      "Name: 0, dtype: object\n"
     ]
    }
   ],
   "source": [
    "print(out_bouts.iloc[0])"
   ]
  }
 ],
 "metadata": {
  "interpreter": {
   "hash": "d14c38d234234b969aee73678d168700778a98933f098d78df9f79a7508c5a93"
  },
  "kernelspec": {
   "display_name": "Python 3.7.0 ('dev')",
   "language": "python",
   "name": "python3"
  },
  "language_info": {
   "codemirror_mode": {
    "name": "ipython",
    "version": 3
   },
   "file_extension": ".py",
   "mimetype": "text/x-python",
   "name": "python",
   "nbconvert_exporter": "python",
   "pygments_lexer": "ipython3",
   "version": "3.7.0"
  },
  "orig_nbformat": 4
 },
 "nbformat": 4,
 "nbformat_minor": 2
}
