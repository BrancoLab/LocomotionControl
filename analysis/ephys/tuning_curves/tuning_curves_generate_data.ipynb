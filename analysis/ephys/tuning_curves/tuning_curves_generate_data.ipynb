{
 "cells": [
  {
   "cell_type": "markdown",
   "metadata": {},
   "source": [
    "# Tuning curves\n",
    "\n",
    "Plot tuning curves wrt `s`, `v` and `omega` (and derivatives) for all cells.\n",
    "\n",
    "## Collect data\n",
    "Across all bouts in both directions. "
   ]
  },
  {
   "cell_type": "code",
   "execution_count": 1,
   "metadata": {},
   "outputs": [
    {
     "data": {
      "text/html": [
       "<pre style=\"white-space:pre;overflow-x:auto;line-height:normal;font-family:Menlo,'DejaVu Sans Mono',consolas,'Courier New',monospace\"><span style=\"color: #7fbfbf; text-decoration-color: #7fbfbf\">[06/14/22 15:40:32] </span><span style=\"color: #008000; text-decoration-color: #008000\">DEBUG   </span> DPL - Saving data and logs to logs                   <a href=\"file://c:\\ProgramData\\Miniconda3\\envs\\dev\\lib\\site-packages\\tpd\\core.py\"><span style=\"color: #7f7f7f; text-decoration-color: #7f7f7f\">core.py</span></a><span style=\"color: #7f7f7f; text-decoration-color: #7f7f7f\">:</span><a href=\"file://c:\\ProgramData\\Miniconda3\\envs\\dev\\lib\\site-packages\\tpd\\core.py#118\"><span style=\"color: #7f7f7f; text-decoration-color: #7f7f7f\">118</span></a>\n",
       "</pre>\n"
      ],
      "text/plain": [
       "\u001b[2;36m[06/14/22 15:40:32]\u001b[0m\u001b[2;36m \u001b[0m\u001b[32mDEBUG   \u001b[0m DPL - Saving data and logs to logs                   \u001b]8;id=117166;file://c:\\ProgramData\\Miniconda3\\envs\\dev\\lib\\site-packages\\tpd\\core.py\u001b\\\u001b[2mcore.py\u001b[0m\u001b]8;;\u001b\\\u001b[2m:\u001b[0m\u001b]8;id=4581;file://c:\\ProgramData\\Miniconda3\\envs\\dev\\lib\\site-packages\\tpd\\core.py#118\u001b\\\u001b[2m118\u001b[0m\u001b]8;;\u001b\\\n"
      ]
     },
     "metadata": {},
     "output_type": "display_data"
    },
    {
     "data": {
      "text/html": [
       "<pre style=\"white-space:pre;overflow-x:auto;line-height:normal;font-family:Menlo,'DejaVu Sans Mono',consolas,'Courier New',monospace\"><span style=\"color: #7fbfbf; text-decoration-color: #7fbfbf\">                    </span><span style=\"color: #008000; text-decoration-color: #008000\">DEBUG   </span> Saving log file to: logs\\log.log                     <a href=\"file://c:\\ProgramData\\Miniconda3\\envs\\dev\\lib\\site-packages\\tpd\\core.py\"><span style=\"color: #7f7f7f; text-decoration-color: #7f7f7f\">core.py</span></a><span style=\"color: #7f7f7f; text-decoration-color: #7f7f7f\">:</span><a href=\"file://c:\\ProgramData\\Miniconda3\\envs\\dev\\lib\\site-packages\\tpd\\core.py#119\"><span style=\"color: #7f7f7f; text-decoration-color: #7f7f7f\">119</span></a>\n",
       "</pre>\n"
      ],
      "text/plain": [
       "\u001b[2;36m                   \u001b[0m\u001b[2;36m \u001b[0m\u001b[32mDEBUG   \u001b[0m Saving log file to: logs\\log.log                     \u001b]8;id=484130;file://c:\\ProgramData\\Miniconda3\\envs\\dev\\lib\\site-packages\\tpd\\core.py\u001b\\\u001b[2mcore.py\u001b[0m\u001b]8;;\u001b\\\u001b[2m:\u001b[0m\u001b]8;id=213411;file://c:\\ProgramData\\Miniconda3\\envs\\dev\\lib\\site-packages\\tpd\\core.py#119\u001b\\\u001b[2m119\u001b[0m\u001b]8;;\u001b\\\n"
      ]
     },
     "metadata": {},
     "output_type": "display_data"
    },
    {
     "name": "stdout",
     "output_type": "stream",
     "text": [
      "Connecting root@127.0.0.1:3306\n"
     ]
    },
    {
     "data": {
      "text/html": [
       "<pre style=\"white-space:pre;overflow-x:auto;line-height:normal;font-family:Menlo,'DejaVu Sans Mono',consolas,'Courier New',monospace\"><span style=\"color: #7fbfbf; text-decoration-color: #7fbfbf\">[06/14/22 15:40:34] </span><span style=\"color: #008000; text-decoration-color: #008000\">DEBUG   </span> Connected to database: LOCOMOTION4                <a href=\"file://C:\\Users\\Federico\\Documents\\GitHub\\pysical_locomotion\\data\\dbase\\__init__.py\"><span style=\"color: #7f7f7f; text-decoration-color: #7f7f7f\">__init__.py</span></a><span style=\"color: #7f7f7f; text-decoration-color: #7f7f7f\">:</span><a href=\"file://C:\\Users\\Federico\\Documents\\GitHub\\pysical_locomotion\\data\\dbase\\__init__.py#11\"><span style=\"color: #7f7f7f; text-decoration-color: #7f7f7f\">11</span></a>\n",
       "</pre>\n"
      ],
      "text/plain": [
       "\u001b[2;36m[06/14/22 15:40:34]\u001b[0m\u001b[2;36m \u001b[0m\u001b[32mDEBUG   \u001b[0m Connected to database: LOCOMOTION4                \u001b]8;id=968491;file://C:\\Users\\Federico\\Documents\\GitHub\\pysical_locomotion\\data\\dbase\\__init__.py\u001b\\\u001b[2m__init__.py\u001b[0m\u001b]8;;\u001b\\\u001b[2m:\u001b[0m\u001b]8;id=153835;file://C:\\Users\\Federico\\Documents\\GitHub\\pysical_locomotion\\data\\dbase\\__init__.py#11\u001b\\\u001b[2m11\u001b[0m\u001b]8;;\u001b\\\n"
      ]
     },
     "metadata": {},
     "output_type": "display_data"
    }
   ],
   "source": [
    "# imports\n",
    "import sys\n",
    "\n",
    "from pathlib import Path\n",
    "import numpy as np\n",
    "import pandas as pd\n",
    "import warnings \n",
    "warnings.simplefilter(action='ignore', category=pd.errors.PerformanceWarning)\n",
    "\n",
    "from fcutils.maths import derivative\n",
    "sys.path.append(\"./\")\n",
    "sys.path.append(r\"C:\\Users\\Federico\\Documents\\GitHub\\pysical_locomotion\")\n",
    "\n",
    "from analysis.ephys.utils import get_recording_names, get_data, get_session_bouts, trim_bouts\n",
    "\n",
    "cache = Path(r\"D:\\Dropbox (UCL)\\Rotation_vte\\Locomotion\\analysis\\ephys\\tuning_curves\\cache\")\n"
   ]
  },
  {
   "cell_type": "code",
   "execution_count": 2,
   "metadata": {},
   "outputs": [],
   "source": [
    "dt1, dt2 = .25, .50\n",
    "dt1_frames = int(dt1 * 60)\n",
    "dt2_frames = int(dt2 * 60)\n",
    "\n",
    "\n",
    "def get_rec_data(recording:str, bins:dict) -> pd.DataFrame:\n",
    "    \"\"\"\n",
    "        Get all data for a recording.\n",
    "\n",
    "        Returns a dataframe with speed, angvel... and firing rate of\n",
    "        each unit at every frame from all locomotion bout.\n",
    "    \"\"\"\n",
    "    print(f\"Getting data for {recording}\")\n",
    "    units, left_fl, right_fl, left_hl, right_hl, body = get_data(recording)\n",
    "    units = units.loc[units.brain_region.isin([\"MOs\", \"MOs1\", \"MOs2/3\", \"MOs5\", \"MOs6a\", \"MOs6b\"])]\n",
    "    L = len(body.speed)\n",
    "\n",
    "    out_bouts = get_session_bouts(recording, complete=None)\n",
    "    in_bouts = get_session_bouts(recording, direction=\"inbound\", complete=None)\n",
    "\n",
    "\n",
    "    rec_data = {\n",
    "        **{k:[] for k in bins.keys()},\n",
    "        **{unit.unit_id:[] for i, unit in units.iterrows()}\n",
    "    }\n",
    "    for i, unit in units.iterrows():\n",
    "        for rep in range(100):\n",
    "            rec_data[f\"{unit.unit_id}_shuffle_{rep}\"] = []\n",
    "\n",
    "    # get data into a single big dataframe\n",
    "    for bouts in (out_bouts, in_bouts):\n",
    "        for i, bout in bouts.iterrows():\n",
    "            duration = bout.end_frame - bout.start_frame\n",
    "            if bout.end_frame + dt2_frames >= L:\n",
    "                continue\n",
    "\n",
    "            speed = body.speed[bout.start_frame : bout.end_frame]\n",
    "            angvel = body.thetadot[bout.start_frame : bout.end_frame]\n",
    "            s = bout.s[bout.start_frame - bout.start_frame : bout.end_frame - bout.start_frame]\n",
    "            sdot = derivative(s) * 60\n",
    "\n",
    "            # get change in angular velocity and speed over two time intervals\n",
    "            speed_shift_one = body.speed[bout.start_frame + dt1_frames : bout.end_frame + dt1_frames]\n",
    "            angvel_shift_one = body.thetadot[bout.start_frame + dt1_frames : bout.end_frame + dt1_frames]\n",
    "            speed_shift_two = body.speed[bout.start_frame + dt2_frames : bout.end_frame + dt2_frames]\n",
    "            angvel_shift_two = body.thetadot[bout.start_frame + dt2_frames : bout.end_frame + dt2_frames]\n",
    "\n",
    "            # store behavioral variables\n",
    "            rec_data['s'].extend(s)\n",
    "            rec_data['sdot'].extend(sdot)\n",
    "            rec_data['speed'].extend(speed)\n",
    "            rec_data['angular_velocity'].extend(angvel)\n",
    "            rec_data[\"dspeed_250ms\"].extend(speed_shift_one - speed)\n",
    "            rec_data[\"dspeed_500ms\"].extend(speed_shift_two - speed)\n",
    "            rec_data[\"dangvel_250ms\"].extend(angvel_shift_one - angvel)\n",
    "            rec_data[\"dangvel_500ms\"].extend(angvel_shift_two - angvel)\n",
    "\n",
    "            # get firing rate of unit and of time shifted shuffled data\n",
    "            for n, unit in units.iterrows():\n",
    "                frate = unit.firing_rate[bout.start_frame : bout.end_frame]\n",
    "                rec_data[unit.unit_id].extend(frate)\n",
    "\n",
    "\n",
    "                for rep in range(100):\n",
    "\n",
    "                    shift = int((np.random.random() * 200 - 100) * 60)  # random shift in [-100, 100] seconds\n",
    "                    if (bout.end_frame + shift) > L - 20 * 60 and shift > 0:\n",
    "                        shift = - shift\n",
    "                    if (bout.start_frame + shift) < 20 * 60 and shift < 0:\n",
    "                        shift = - shift\n",
    "\n",
    "                    start = bout.start_frame + shift\n",
    "                    end = start + duration\n",
    "\n",
    "                    assert end - start == duration, f\"{shift} {end-start} {duration}\"\n",
    "\n",
    "                    rec_data[f\"{unit.unit_id}_shuffle_{rep}\"].extend(unit.firing_rate[start:end])\n",
    "\n",
    "    # print({k:len(v) for k, v in rec_data.items()})\n",
    "    print(set((len(v) for v in rec_data.values())))\n",
    "    out =  pd.DataFrame(rec_data)\n",
    "    out.to_hdf(cache / f\"{recording}.h5\", key=\"hdf\")"
   ]
  },
  {
   "cell_type": "code",
   "execution_count": 3,
   "metadata": {},
   "outputs": [],
   "source": [
    "\"\"\"\n",
    "Store a dictionary with a dataframe for each of the variables. \n",
    "In these datafranes each row is a unit and each column is the firing rate\n",
    "at each column is a bin with associated mean/std of firing rate.\n",
    "\n",
    "\"\"\"\n",
    "\n",
    "bins = dict(\n",
    "    s = np.linspace(0, 260, 21),\n",
    "    sdot = np.linspace(-80, 80, 21),\n",
    "    speed = np.linspace(10, 80, 21),\n",
    "    dspeed_250ms = np.linspace(-60, 60, 41),\n",
    "    dspeed_500ms = np.linspace(-60, 60, 41),\n",
    "    angular_velocity = np.linspace(-400, 400, 21),\n",
    "    dangvel_250ms = np.linspace(-600, 600, 21),\n",
    "    dangvel_500ms = np.linspace(-600, 600, 21),\n",
    ")\n",
    "\n",
    "\n",
    "\n",
    "# for REC in get_recording_names():\n",
    "#     get_rec_data(REC, bins)"
   ]
  },
  {
   "cell_type": "markdown",
   "metadata": {},
   "source": [
    "### Bin data\n",
    "\n",
    "First bin based on the values of each selected variable, then for each bin group the data into chunks of N frames and take the average and variance of the firing rate in each group."
   ]
  },
  {
   "cell_type": "code",
   "execution_count": null,
   "metadata": {},
   "outputs": [],
   "source": [
    "def sample_and_bin(rec_data, var, bins):\n",
    "    print(f\"    binning {var}\")\n",
    "    data = rec_data.copy().reset_index()\n",
    "\n",
    "    # bin based on the variable of interest\n",
    "    _bins = pd.cut(data[var], bins[var])\n",
    "    data['bin'] = [b.mid if isinstance(b, pd.Interval) else np.nan for b in _bins.values]\n",
    "    groups = data.groupby(_bins)\n",
    "    \n",
    "    binned_sampled_mean, binned_sample_var = [], []\n",
    "    for _, group in groups:\n",
    "        group.reset_index(inplace=True)\n",
    "        # split into groupps of equal length\n",
    "        splits = group.groupby(group.index // 300)\n",
    "        for _, split in splits:\n",
    "            if len(group) < 300:\n",
    "                continue\n",
    "            binned_sampled_mean.append(split.mean())\n",
    "            binned_sample_var.append(split.var())\n",
    "        \n",
    "    # return pd.concat(binned_sampled_mean, ignore_index=False), pd.concat(binned_sample_var, ignore_index=False)\n",
    "    return pd.concat(binned_sampled_mean, axis=1).T, pd.concat(binned_sample_var, axis=1).T\n",
    "\n"
   ]
  },
  {
   "cell_type": "code",
   "execution_count": null,
   "metadata": {},
   "outputs": [],
   "source": [
    "for rec in get_recording_names():\n",
    "    print(rec)\n",
    "    rec_data = pd.read_hdf(cache / (rec + \".h5\"), key=\"hdf\")\n",
    "    \n",
    "\n",
    "    # bin the recording data for each variable\n",
    "    for k in bins.keys():\n",
    "        mu, sigma = sample_and_bin(rec_data, k, bins)\n",
    "        mu.to_hdf(cache / (f\"{rec}_{k}_mu.h5\"), key=\"hdf\")\n",
    "        sigma.to_hdf(cache / (f\"{rec}_{k}_sigma.h5\"), key=\"hdf\")\n",
    "   \n"
   ]
  },
  {
   "cell_type": "code",
   "execution_count": null,
   "metadata": {},
   "outputs": [],
   "source": []
  }
 ],
 "metadata": {
  "interpreter": {
   "hash": "d14c38d234234b969aee73678d168700778a98933f098d78df9f79a7508c5a93"
  },
  "kernelspec": {
   "display_name": "Python 3.7.0 ('dev')",
   "language": "python",
   "name": "python3"
  },
  "language_info": {
   "codemirror_mode": {
    "name": "ipython",
    "version": 3
   },
   "file_extension": ".py",
   "mimetype": "text/x-python",
   "name": "python",
   "nbconvert_exporter": "python",
   "pygments_lexer": "ipython3",
   "version": "3.7.0"
  },
  "orig_nbformat": 4
 },
 "nbformat": 4,
 "nbformat_minor": 2
}
