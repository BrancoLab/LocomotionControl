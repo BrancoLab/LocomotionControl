{
 "cells": [
  {
   "cell_type": "markdown",
   "metadata": {},
   "source": [
    "# Tuning curves analysis\n",
    "\n",
    "Analysis inspired by: http://dx.doi.org/10.1371/journal.pone.0203900\n",
    "With data pre-processed in `tuning_curves_generate_data.ipynb`."
   ]
  },
  {
   "cell_type": "code",
   "execution_count": 1,
   "metadata": {},
   "outputs": [
    {
     "data": {
      "text/html": [
       "<pre style=\"white-space:pre;overflow-x:auto;line-height:normal;font-family:Menlo,'DejaVu Sans Mono',consolas,'Courier New',monospace\"><span style=\"color: #7fbfbf; text-decoration-color: #7fbfbf\">[06/15/22 14:32:50] </span><span style=\"color: #008000; text-decoration-color: #008000\">DEBUG   </span> DPL - Saving data and logs to logs                   <a href=\"file://c:\\ProgramData\\Miniconda3\\envs\\dev\\lib\\site-packages\\tpd\\core.py\"><span style=\"color: #7f7f7f; text-decoration-color: #7f7f7f\">core.py</span></a><span style=\"color: #7f7f7f; text-decoration-color: #7f7f7f\">:</span><a href=\"file://c:\\ProgramData\\Miniconda3\\envs\\dev\\lib\\site-packages\\tpd\\core.py#118\"><span style=\"color: #7f7f7f; text-decoration-color: #7f7f7f\">118</span></a>\n",
       "</pre>\n"
      ],
      "text/plain": [
       "\u001b[2;36m[06/15/22 14:32:50]\u001b[0m\u001b[2;36m \u001b[0m\u001b[32mDEBUG   \u001b[0m DPL - Saving data and logs to logs                   \u001b]8;id=688293;file://c:\\ProgramData\\Miniconda3\\envs\\dev\\lib\\site-packages\\tpd\\core.py\u001b\\\u001b[2mcore.py\u001b[0m\u001b]8;;\u001b\\\u001b[2m:\u001b[0m\u001b]8;id=149481;file://c:\\ProgramData\\Miniconda3\\envs\\dev\\lib\\site-packages\\tpd\\core.py#118\u001b\\\u001b[2m118\u001b[0m\u001b]8;;\u001b\\\n"
      ]
     },
     "metadata": {},
     "output_type": "display_data"
    },
    {
     "data": {
      "text/html": [
       "<pre style=\"white-space:pre;overflow-x:auto;line-height:normal;font-family:Menlo,'DejaVu Sans Mono',consolas,'Courier New',monospace\"><span style=\"color: #7fbfbf; text-decoration-color: #7fbfbf\">                    </span><span style=\"color: #008000; text-decoration-color: #008000\">DEBUG   </span> Saving log file to: logs\\log.log                     <a href=\"file://c:\\ProgramData\\Miniconda3\\envs\\dev\\lib\\site-packages\\tpd\\core.py\"><span style=\"color: #7f7f7f; text-decoration-color: #7f7f7f\">core.py</span></a><span style=\"color: #7f7f7f; text-decoration-color: #7f7f7f\">:</span><a href=\"file://c:\\ProgramData\\Miniconda3\\envs\\dev\\lib\\site-packages\\tpd\\core.py#119\"><span style=\"color: #7f7f7f; text-decoration-color: #7f7f7f\">119</span></a>\n",
       "</pre>\n"
      ],
      "text/plain": [
       "\u001b[2;36m                   \u001b[0m\u001b[2;36m \u001b[0m\u001b[32mDEBUG   \u001b[0m Saving log file to: logs\\log.log                     \u001b]8;id=876836;file://c:\\ProgramData\\Miniconda3\\envs\\dev\\lib\\site-packages\\tpd\\core.py\u001b\\\u001b[2mcore.py\u001b[0m\u001b]8;;\u001b\\\u001b[2m:\u001b[0m\u001b]8;id=941132;file://c:\\ProgramData\\Miniconda3\\envs\\dev\\lib\\site-packages\\tpd\\core.py#119\u001b\\\u001b[2m119\u001b[0m\u001b]8;;\u001b\\\n"
      ]
     },
     "metadata": {},
     "output_type": "display_data"
    },
    {
     "name": "stdout",
     "output_type": "stream",
     "text": [
      "Connecting root@127.0.0.1:3306\n"
     ]
    },
    {
     "data": {
      "text/html": [
       "<pre style=\"white-space:pre;overflow-x:auto;line-height:normal;font-family:Menlo,'DejaVu Sans Mono',consolas,'Courier New',monospace\"><span style=\"color: #7fbfbf; text-decoration-color: #7fbfbf\">[06/15/22 14:32:51] </span><span style=\"color: #008000; text-decoration-color: #008000\">DEBUG   </span> Connected to database: LOCOMOTION4                <a href=\"file://C:\\Users\\Federico\\Documents\\GitHub\\pysical_locomotion\\data\\dbase\\__init__.py\"><span style=\"color: #7f7f7f; text-decoration-color: #7f7f7f\">__init__.py</span></a><span style=\"color: #7f7f7f; text-decoration-color: #7f7f7f\">:</span><a href=\"file://C:\\Users\\Federico\\Documents\\GitHub\\pysical_locomotion\\data\\dbase\\__init__.py#11\"><span style=\"color: #7f7f7f; text-decoration-color: #7f7f7f\">11</span></a>\n",
       "</pre>\n"
      ],
      "text/plain": [
       "\u001b[2;36m[06/15/22 14:32:51]\u001b[0m\u001b[2;36m \u001b[0m\u001b[32mDEBUG   \u001b[0m Connected to database: LOCOMOTION4                \u001b]8;id=438184;file://C:\\Users\\Federico\\Documents\\GitHub\\pysical_locomotion\\data\\dbase\\__init__.py\u001b\\\u001b[2m__init__.py\u001b[0m\u001b]8;;\u001b\\\u001b[2m:\u001b[0m\u001b]8;id=495806;file://C:\\Users\\Federico\\Documents\\GitHub\\pysical_locomotion\\data\\dbase\\__init__.py#11\u001b\\\u001b[2m11\u001b[0m\u001b]8;;\u001b\\\n"
      ]
     },
     "metadata": {},
     "output_type": "display_data"
    }
   ],
   "source": [
    "# imports\n",
    "import sys\n",
    "import matplotlib.pyplot as plt\n",
    "from pathlib import Path\n",
    "import numpy as np\n",
    "import pandas as pd\n",
    "from myterial import amber_dark, blue_dark, green_dark, indigo_light, teal_light, salmon, salmon_darker, orange, cyan_light, deep_purple_light\n",
    "from myterial import green, light_green, green_light, light_green_light\n",
    "import warnings\n",
    "warnings.filterwarnings(action='ignore', message=\"This figure includes Axes that are not compatible with tight_layout, so results might be incorrect.\")\n",
    "\n",
    "\n",
    "sys.path.append(\"./\")\n",
    "sys.path.append(r\"C:\\Users\\Federico\\Documents\\GitHub\\pysical_locomotion\")\n",
    "\n",
    "from fcutils.plot.figure import clean_axes\n",
    "from analysis.ephys.utils import get_recording_names\n",
    "from analysis.ephys.viz import outline\n"
   ]
  },
  {
   "cell_type": "markdown",
   "metadata": {},
   "source": [
    "## Curve fitting functions"
   ]
  },
  {
   "cell_type": "code",
   "execution_count": 2,
   "metadata": {},
   "outputs": [],
   "source": [
    "from scipy.optimize import curve_fit\n",
    "\n",
    "# code to fit lines, polinomials and double exponentials & plot\n",
    "def r_squared(y, y_hat):\n",
    "    y_bar = y.mean()\n",
    "    ss_tot = ((y-y_bar)**2).sum()\n",
    "    ss_res = ((y-y_hat)**2).sum()\n",
    "    return 1 - (ss_res/ss_tot)\n",
    "\n",
    "\n",
    "def adjusted_r_squared(y, y_hat, degree):\n",
    "    r2 = r_squared(y, y_hat)\n",
    "    return 1 - (1 - r2) * (len(y) - 1) / (len(y) - degree - 2)\n",
    "\n",
    "\n",
    "def polynomial_variance(y, y_hat, degree):\n",
    "    \"\"\"\n",
    "        See: https://stats.stackexchange.com/questions/261537/how-to-chose-the-order-for-polynomial-regression\n",
    "    \"\"\"\n",
    "    ss_res = ((y-y_hat)**2).sum()\n",
    "    return round(ss_res / (len(y) - degree - 1), 2)\n",
    "\n",
    "\n",
    "\n",
    "def fit_line(X, Y,  ax=None, Y_var=None, color=None,  lw=4, degree=1, label=True, **kwargs):\n",
    "\n",
    "    idx = np.isfinite(X) & np.isfinite(Y) \n",
    "    if Y_var is not None:\n",
    "        idx = idx & np.isfinite(Y_var) & (Y_var > 0)\n",
    "        Y_var = Y_var[idx]\n",
    "    X = X[idx]\n",
    "    Y = Y[idx]\n",
    "    \n",
    "\n",
    "    if not len(X):\n",
    "        return ax.plot([0, 0], [0, 0], color=salmon, linewidth=2)[0], 1000\n",
    "\n",
    "\n",
    "    if degree == 1:\n",
    "        p = np.polyfit(X, Y, degree, w=1/Y_var if Y_var is not None else None)\n",
    "        yhat = p[0]*X + p[1]\n",
    "        color=salmon if color is None else color\n",
    "    else:\n",
    "        p = np.polyfit(X,Y,degree, w=1/Y_var if Y_var is not None else None)\n",
    "        yhat = np.polyval(p,X)\n",
    "        color=salmon_darker if color is None else color\n",
    "\n",
    "    r2 = r_squared(Y, yhat)\n",
    "    var = polynomial_variance(Y, yhat, degree)\n",
    "    if ax is None:\n",
    "        return p, r2, var\n",
    "\n",
    "    line = ax.plot(X, yhat, lw=lw, color=color, label=f\"{degree} degree, R2={r2:.2f} | var: {var:.2f}\" if label else None, **kwargs)[0]\n",
    "    return line, var\n",
    "\n",
    "\n",
    "\n",
    "def double_exp(x, a, k1, b, k2, c):\n",
    "    return a*np.exp(x*k1) + b*np.exp(x*k2) + c\n",
    "\n",
    "\n",
    "def fit_double_exp(X, Y,  ax=None, color=\"r\",  lw=4, label=True, **kwargs):\n",
    "    idx = np.isfinite(X) & np.isfinite(Y) \n",
    "    X = X[idx]\n",
    "    Y = Y[idx]\n",
    "    \n",
    "\n",
    "    try:\n",
    "        popt, pcov = curve_fit(double_exp, X, Y, p0=(1.0,1.0,1.0,1.0), maxfev=5000)\n",
    "    except:\n",
    "        if ax is None:\n",
    "            return None, None, 100000\n",
    "        else:\n",
    "            return None, 1000\n",
    "    yhat = double_exp(X, *popt)\n",
    "\n",
    "    r2 = r_squared(Y, yhat)\n",
    "    var = polynomial_variance(Y, yhat, 5)\n",
    "    if ax is None:\n",
    "        return popt, r2, var\n",
    "        \n",
    "    if np.abs(r2) > 2:\n",
    "        var = 10000\n",
    "        line = None\n",
    "    else:\n",
    "        line = ax.plot(X, yhat, lw=lw, color=color, label=f\"double exp, R2={r2:.2f} | var: {var:.2f}\" if label else None, **kwargs)[0]\n",
    "    return line, var"
   ]
  },
  {
   "cell_type": "markdown",
   "metadata": {},
   "source": [
    "## Tuning analysis"
   ]
  },
  {
   "cell_type": "code",
   "execution_count": 3,
   "metadata": {},
   "outputs": [],
   "source": [
    "cache = Path(r\"D:\\Dropbox (UCL)\\Rotation_vte\\Locomotion\\analysis\\ephys\\tuning_curves\\cache\")\n",
    "save_dir = Path(r\"D:\\Dropbox (UCL)\\Rotation_vte\\Locomotion\\analysis\\ephys\\tuning_curves\")\n",
    "\n",
    "colors = dict(\n",
    "    s = amber_dark, \n",
    "    sdot=orange,\n",
    "    v = blue_dark, \n",
    "    dv_250ms = indigo_light,\n",
    "    dv_500ms = deep_purple_light,\n",
    "    dv_1000ms = deep_purple_light,\n",
    "    omega = green_dark,\n",
    "    domega_250ms = teal_light,\n",
    "    domega_500ms = cyan_light,\n",
    "    domega_1000ms = cyan_light,\n",
    "    curv_0cm = green_dark,\n",
    "    curv_10cm = light_green,\n",
    "    curv_20cm = green_light,\n",
    "    curv_30cm = light_green_light,\n",
    ")\n",
    "variables = list(colors.keys())\n"
   ]
  },
  {
   "cell_type": "code",
   "execution_count": 4,
   "metadata": {},
   "outputs": [],
   "source": [
    "from mpl_toolkits.axes_grid1.inset_locator import inset_axes\n",
    "\n",
    "# def make_significance_plot(X, Y, parent_ax):\n",
    "#     # fit and plot curves\n",
    "#     p_2, _, var2 = fit_line(X, Y, degree=2)\n",
    "#     p_1, _, var1 = fit_line(X, Y, degree=1)\n",
    "\n",
    "#     if var2 == var1:\n",
    "#         var2 += 1\n",
    "#     best = np.argmin([var1, var2]) + 1\n",
    "#     pbest = p_1[0] if best == 1 else p_2[0]\n",
    "    \n",
    "#     # fit on shuffled data\n",
    "#     suffled_fits = []\n",
    "#     for shuffled_unit in shuffles:\n",
    "#         y = binned_mu[var][shuffled_unit].values        \n",
    "#         p, _, _ = fit_line(X, y)\n",
    "\n",
    "#         suffled_fits.append(p[0] if best == 1 else p[0])\n",
    "\n",
    "#     p_ci_low, p_ci_high = np.percentile(suffled_fits, .5), np.percentile(suffled_fits, 99.5)\n",
    "#     significant =  pbest < p_ci_low or pbest > p_ci_high\n",
    "        \n",
    "\n",
    "#     inset_ax = inset_axes(parent_ax,\n",
    "#                         width = \"30%\", height=\"20%\",\n",
    "#                         loc=\"upper left\",\n",
    "#                         bbox_to_anchor=(0.05, .05, 1, 1), bbox_transform=ax.transAxes,\n",
    "#                         borderpad=1,\n",
    "#                         axes_kwargs=dict(fc=[.95, .95, .95] if significant else \"w\"))\n",
    "                        \n",
    "#     inset_ax.hist(suffled_fits, bins=20, color=colors[var], alpha=0.5)\n",
    "#     inset_ax.plot([p_ci_low, p_ci_high], [-1, -1], color=colors[var], lw=5)\n",
    "#     inset_ax.axvline(pbest, color=\"k\" if significant else [.6, .6, .6], lw=4)\n",
    "\n",
    "\n",
    "def make_significance_plot(variances, unit, shuffles, parent_ax):\n",
    "    unit_variance = variances[unit].sum()\n",
    "    shuffled_variances = [variances[shuffle].sum() for shuffle in shuffles]\n",
    "    p_ci_low, p_ci_high = np.percentile(shuffled_variances, 1), np.percentile(shuffled_variances, 99)\n",
    "    significant =  unit_variance < p_ci_low \n",
    "\n",
    "    \n",
    "    inset_ax = inset_axes(parent_ax,\n",
    "                        width = \"30%\", height=\"20%\",\n",
    "                        loc=\"upper left\",\n",
    "                        bbox_to_anchor=(0.05, .05, 1, 1), bbox_transform=ax.transAxes,\n",
    "                        borderpad=1,\n",
    "                        axes_kwargs=dict(fc=[.95, .95, .95] if significant else \"w\"))\n",
    "                        \n",
    "    inset_ax.hist(shuffled_variances, bins=20, color=colors[var], alpha=0.5)\n",
    "    inset_ax.plot([p_ci_low, p_ci_high], [-1, -1], color=colors[var], lw=5)\n",
    "    inset_ax.axvline(unit_variance, color=\"k\" if significant else [.6, .6, .6], lw=4)\n",
    "\n"
   ]
  },
  {
   "cell_type": "markdown",
   "metadata": {},
   "source": [
    "## Plotting\n",
    "\n",
    "For each unit plot tuning curves and fitted curves."
   ]
  },
  {
   "cell_type": "code",
   "execution_count": 5,
   "metadata": {},
   "outputs": [],
   "source": [
    "# TODO better quantification of significance for quadratic\n",
    "# TODO get which units are tuned to wat\n",
    "# TODO get summary numbers and plots of tuning > tuned to what, kind of tuning curve, directionality..."
   ]
  },
  {
   "cell_type": "code",
   "execution_count": 6,
   "metadata": {},
   "outputs": [
    {
     "ename": "FileNotFoundError",
     "evalue": "File D:\\Dropbox (UCL)\\Rotation_vte\\Locomotion\\analysis\\ephys\\tuning_curves\\cache\\FC_220411_BAA1101192_hairpin_v_mu.h5 does not exist",
     "output_type": "error",
     "traceback": [
      "\u001b[1;31m---------------------------------------------------------------------------\u001b[0m",
      "\u001b[1;31mFileNotFoundError\u001b[0m                         Traceback (most recent call last)",
      "\u001b[1;32m~\\AppData\\Local\\Temp/ipykernel_24204/1127225845.py\u001b[0m in \u001b[0;36m<module>\u001b[1;34m\u001b[0m\n\u001b[0;32m      1\u001b[0m \u001b[1;32mfor\u001b[0m \u001b[0mrec\u001b[0m \u001b[1;32min\u001b[0m \u001b[0mget_recording_names\u001b[0m\u001b[1;33m(\u001b[0m\u001b[1;33m)\u001b[0m\u001b[1;33m[\u001b[0m\u001b[1;36m1\u001b[0m\u001b[1;33m:\u001b[0m\u001b[1;33m]\u001b[0m\u001b[1;33m:\u001b[0m\u001b[1;33m\u001b[0m\u001b[0m\n\u001b[0;32m      2\u001b[0m     \u001b[1;31m# bin the recording data for each variable\u001b[0m\u001b[1;33m\u001b[0m\u001b[1;33m\u001b[0m\u001b[0m\n\u001b[1;32m----> 3\u001b[1;33m     \u001b[0mbinned_mu\u001b[0m \u001b[1;33m=\u001b[0m \u001b[1;33m{\u001b[0m\u001b[0mk\u001b[0m\u001b[1;33m:\u001b[0m \u001b[0mpd\u001b[0m\u001b[1;33m.\u001b[0m\u001b[0mread_hdf\u001b[0m\u001b[1;33m(\u001b[0m\u001b[0mcache\u001b[0m \u001b[1;33m/\u001b[0m  \u001b[1;33m(\u001b[0m\u001b[1;34mf\"{rec}_{k}_mu.h5\"\u001b[0m\u001b[1;33m)\u001b[0m\u001b[1;33m,\u001b[0m \u001b[0mkey\u001b[0m\u001b[1;33m=\u001b[0m\u001b[1;34m\"hdf\"\u001b[0m\u001b[1;33m)\u001b[0m \u001b[1;32mfor\u001b[0m \u001b[0mk\u001b[0m \u001b[1;32min\u001b[0m \u001b[0mvariables\u001b[0m\u001b[1;33m}\u001b[0m\u001b[1;33m\u001b[0m\u001b[0m\n\u001b[0m\u001b[0;32m      4\u001b[0m     \u001b[1;31m# binned_var = {k: pd.read_hdf(cache /  (f\"{rec}_{k}_sigma.h5\"), key=\"hdf\") for k in variables}\u001b[0m\u001b[1;33m\u001b[0m\u001b[1;33m\u001b[0m\u001b[0m\n\u001b[0;32m      5\u001b[0m \u001b[1;33m\u001b[0m\u001b[0m\n",
      "\u001b[1;32m~\\AppData\\Local\\Temp/ipykernel_24204/1127225845.py\u001b[0m in \u001b[0;36m<dictcomp>\u001b[1;34m(.0)\u001b[0m\n\u001b[0;32m      1\u001b[0m \u001b[1;32mfor\u001b[0m \u001b[0mrec\u001b[0m \u001b[1;32min\u001b[0m \u001b[0mget_recording_names\u001b[0m\u001b[1;33m(\u001b[0m\u001b[1;33m)\u001b[0m\u001b[1;33m[\u001b[0m\u001b[1;36m1\u001b[0m\u001b[1;33m:\u001b[0m\u001b[1;33m]\u001b[0m\u001b[1;33m:\u001b[0m\u001b[1;33m\u001b[0m\u001b[0m\n\u001b[0;32m      2\u001b[0m     \u001b[1;31m# bin the recording data for each variable\u001b[0m\u001b[1;33m\u001b[0m\u001b[1;33m\u001b[0m\u001b[0m\n\u001b[1;32m----> 3\u001b[1;33m     \u001b[0mbinned_mu\u001b[0m \u001b[1;33m=\u001b[0m \u001b[1;33m{\u001b[0m\u001b[0mk\u001b[0m\u001b[1;33m:\u001b[0m \u001b[0mpd\u001b[0m\u001b[1;33m.\u001b[0m\u001b[0mread_hdf\u001b[0m\u001b[1;33m(\u001b[0m\u001b[0mcache\u001b[0m \u001b[1;33m/\u001b[0m  \u001b[1;33m(\u001b[0m\u001b[1;34mf\"{rec}_{k}_mu.h5\"\u001b[0m\u001b[1;33m)\u001b[0m\u001b[1;33m,\u001b[0m \u001b[0mkey\u001b[0m\u001b[1;33m=\u001b[0m\u001b[1;34m\"hdf\"\u001b[0m\u001b[1;33m)\u001b[0m \u001b[1;32mfor\u001b[0m \u001b[0mk\u001b[0m \u001b[1;32min\u001b[0m \u001b[0mvariables\u001b[0m\u001b[1;33m}\u001b[0m\u001b[1;33m\u001b[0m\u001b[0m\n\u001b[0m\u001b[0;32m      4\u001b[0m     \u001b[1;31m# binned_var = {k: pd.read_hdf(cache /  (f\"{rec}_{k}_sigma.h5\"), key=\"hdf\") for k in variables}\u001b[0m\u001b[1;33m\u001b[0m\u001b[1;33m\u001b[0m\u001b[0m\n\u001b[0;32m      5\u001b[0m \u001b[1;33m\u001b[0m\u001b[0m\n",
      "\u001b[1;32mc:\\ProgramData\\Miniconda3\\envs\\dev\\lib\\site-packages\\pandas\\io\\pytables.py\u001b[0m in \u001b[0;36mread_hdf\u001b[1;34m(path_or_buf, key, mode, errors, where, start, stop, columns, iterator, chunksize, **kwargs)\u001b[0m\n\u001b[0;32m    385\u001b[0m \u001b[1;33m\u001b[0m\u001b[0m\n\u001b[0;32m    386\u001b[0m         \u001b[1;32mif\u001b[0m \u001b[1;32mnot\u001b[0m \u001b[0mexists\u001b[0m\u001b[1;33m:\u001b[0m\u001b[1;33m\u001b[0m\u001b[0m\n\u001b[1;32m--> 387\u001b[1;33m             \u001b[1;32mraise\u001b[0m \u001b[0mFileNotFoundError\u001b[0m\u001b[1;33m(\u001b[0m\u001b[1;34mf\"File {path_or_buf} does not exist\"\u001b[0m\u001b[1;33m)\u001b[0m\u001b[1;33m\u001b[0m\u001b[0m\n\u001b[0m\u001b[0;32m    388\u001b[0m \u001b[1;33m\u001b[0m\u001b[0m\n\u001b[0;32m    389\u001b[0m         \u001b[0mstore\u001b[0m \u001b[1;33m=\u001b[0m \u001b[0mHDFStore\u001b[0m\u001b[1;33m(\u001b[0m\u001b[0mpath_or_buf\u001b[0m\u001b[1;33m,\u001b[0m \u001b[0mmode\u001b[0m\u001b[1;33m=\u001b[0m\u001b[0mmode\u001b[0m\u001b[1;33m,\u001b[0m \u001b[0merrors\u001b[0m\u001b[1;33m=\u001b[0m\u001b[0merrors\u001b[0m\u001b[1;33m,\u001b[0m \u001b[1;33m**\u001b[0m\u001b[0mkwargs\u001b[0m\u001b[1;33m)\u001b[0m\u001b[1;33m\u001b[0m\u001b[0m\n",
      "\u001b[1;31mFileNotFoundError\u001b[0m: File D:\\Dropbox (UCL)\\Rotation_vte\\Locomotion\\analysis\\ephys\\tuning_curves\\cache\\FC_220411_BAA1101192_hairpin_v_mu.h5 does not exist"
     ]
    }
   ],
   "source": [
    "for rec in get_recording_names()[1:]:\n",
    "    # bin the recording data for each variable\n",
    "    binned_mu = {k: pd.read_hdf(cache /  (f\"{rec}_{k}_mu.h5\"), key=\"hdf\") for k in variables}\n",
    "    # binned_var = {k: pd.read_hdf(cache /  (f\"{rec}_{k}_sigma.h5\"), key=\"hdf\") for k in variables}\n",
    "\n",
    "    # load not split into chunks data\n",
    "    tuning_curves_means = {k: pd.read_hdf(cache /  (f\"{rec}_{k}_groups_mean.h5\"), key=\"hdf\") for k in variables}\n",
    "    tuning_curves_vars = {k: pd.read_hdf(cache /  (f\"{rec}_{k}_groups_var.h5\"), key=\"hdf\") for k in variables}\n",
    "\n",
    "\n",
    "    units = [c for c in binned_mu['s'].columns[len(variables)+1:] if \"shuffle\" not in str(c) and isinstance(c, int)]\n",
    "\n",
    "    for unit in units:\n",
    "        savepath = save_dir / f\"{rec}_{unit}_MOs.png\"\n",
    "        if savepath.exists():\n",
    "            continue\n",
    "        shuffles = [c for c in binned_mu['s'].columns[len(variables)+2:] if \"shuffle\" in str(c) and str(unit) in str(c)]\n",
    "\n",
    "        f, axes = plt.subplots(4, 4 , figsize=(22, 15), sharey=True)\n",
    "        f.suptitle(f\"{rec}_{unit}\")\n",
    "        axes = axes.flatten()\n",
    "        \n",
    "        for axid, var in zip((0, 1, 4, 5, 6, 7, 8, 9, 10, 11, 12, 13, 14, 15), variables):\n",
    "            ax = axes[axid]\n",
    "\n",
    "            # plot not-chunked tuning curve\n",
    "            # ax.plot(\n",
    "            #     tuning_curves_means[var].bin, tuning_curves_means[var][unit].values,\n",
    "            #     lw=8, alpha=.8, color=colors[var], label=f\"{var}_mean\"\n",
    "            # )\n",
    "\n",
    "            # plot firing rate of unit\n",
    "            X, Y = binned_mu[var].bin, binned_mu[var][unit].values\n",
    "            Y = Y[np.argsort(X)]\n",
    "            X = np.sort(X)\n",
    "            \n",
    "            ax.scatter(X, Y, zorder=500, color=\"k\", s=100)\n",
    "            ax.scatter(X, Y, zorder=501, color=colors[var], s=80)\n",
    "            \n",
    "            # fit and plot curves\n",
    "            l2, v2 = fit_line(X, Y, ax, degree=2)\n",
    "            l1, v1 = fit_line(X, Y, ax, degree=1)\n",
    "            best = np.argmin([v1, v2])\n",
    "            outline([l1, l2][best], color=\"k\", lw=8)\n",
    "\n",
    "            # plot firing rate of shuffled units\n",
    "            shuff_X, shuff_Y = [], []\n",
    "            for shuffled_unit in shuffles[::1]:\n",
    "                y = binned_mu[var][shuffled_unit].values\n",
    "                shuff_X.extend(X) \n",
    "                shuff_Y.extend(y)\n",
    "\n",
    "                # ax.plot(\n",
    "                #     tuning_curves_means[var].bin, tuning_curves_means[var][shuffled_unit].values,\n",
    "                #     lw=6, alpha=.02, zorder=-100, color='k'\n",
    "                # )\n",
    "                \n",
    "            ax.scatter(shuff_X, shuff_Y, alpha=.05, color=[\"k\"], zorder=-1000)\n",
    "\n",
    "            # mark significance of best fit parameters\n",
    "            # make_significance_plot(X, Y, ax)\n",
    "            # make_significance_plot(tuning_curves_vars[var], unit, shuffles, ax)\n",
    "\n",
    "            ax.legend(loc=\"upper right\")\n",
    "            ax.set(ylim=[max(-1, np.nanmin(Y) - 5), np.nanmax(Y)+5])\n",
    "        \n",
    "        # style axes\n",
    "        for ax in axes:\n",
    "            ax.yaxis.set_tick_params(labelleft=True)\n",
    "            for tk in ax.get_yticklabels():\n",
    "                tk.set_visible(True)\n",
    "\n",
    "        axes[0].set(title = \"S\", xlabel=\"S position (cm)\", ylabel=\"Firing rate (Hz)\")\n",
    "        axes[1].set(title = \"S dot\", xlabel=\"S speed (cm/s)\", ylabel=\"Firing rate (Hz)\")\n",
    "        axes[2].axis(\"off\")\n",
    "        axes[3].axis(\"off\")\n",
    "        \n",
    "        axes[4].set(title = \"Speed\", xlabel=\"Speed (cm/s)\", ylabel=\"Firing rate (Hz)\")\n",
    "        axes[5].set(title = \"250ms\", xlabel=\"speed change (cm)\")\n",
    "        axes[6].set(title = \"500ms\", xlabel=\"speed change (cm)\")\n",
    "        axes[7].set(title = \"1000ms\", xlabel=\"speed change (cm)\")\n",
    "\n",
    "        axes[8].set(title = \"Angular velocity\", xlabel=\"Angular velocity (deg/s)\", ylabel=\"Firing rate (Hz)\")\n",
    "        axes[9].set(title = \"250ms\", xlabel=\"angular velocity change (deg/s)\")\n",
    "        axes[10].set(title = \"500ms\", xlabel=\"angular velocity change (deg/s)\")\n",
    "        axes[11].set(title = \"1000ms\", xlabel=\"angular velocity change (deg/s)\")\n",
    "\n",
    "        axes[12].set(title = \"Curvature\", xlabel=\"Curvature\", ylabel=\"Firing rate (Hz)\")\n",
    "        axes[13].set(title = \"10cm\", xlabel=\"curvature\")\n",
    "        axes[14].set(title = \"20cm\", xlabel=\"curvature\")\n",
    "        axes[15].set(title = \"30cm\", xlabel=\"curvature\")\n",
    "        \n",
    "\n",
    "        \n",
    "\n",
    "        clean_axes(f)\n",
    "        f.tight_layout()\n",
    "            \n",
    "        f.savefig(savepath,  dpi=150, transparent=False, facecolor='w', edgecolor='w')\n",
    "        plt.close(f)\n",
    "    #     break\n",
    "    # break"
   ]
  }
 ],
 "metadata": {
  "kernelspec": {
   "display_name": "Python 3.7.0 ('dev')",
   "language": "python",
   "name": "python3"
  },
  "language_info": {
   "codemirror_mode": {
    "name": "ipython",
    "version": 3
   },
   "file_extension": ".py",
   "mimetype": "text/x-python",
   "name": "python",
   "nbconvert_exporter": "python",
   "pygments_lexer": "ipython3",
   "version": "3.7.0"
  },
  "orig_nbformat": 4,
  "vscode": {
   "interpreter": {
    "hash": "d14c38d234234b969aee73678d168700778a98933f098d78df9f79a7508c5a93"
   }
  }
 },
 "nbformat": 4,
 "nbformat_minor": 2
}
