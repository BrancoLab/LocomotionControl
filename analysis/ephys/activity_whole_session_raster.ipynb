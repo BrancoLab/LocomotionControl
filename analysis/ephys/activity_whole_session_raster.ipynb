{
 "cells": [
  {
   "cell_type": "markdown",
   "metadata": {},
   "source": [
    "# Whole session raster\n",
    "\n",
    "It crates a visualization in which the spikes rasters from all units in a recording are shown across the entire session. \n",
    "In addition to the spike rasters, it shows a couple basic kinematics metrics like speed and arena location.\n"
   ]
  },
  {
   "cell_type": "code",
   "execution_count": null,
   "metadata": {},
   "outputs": [],
   "source": [
    "# imports\n",
    "import sys\n",
    "import matplotlib.pyplot as plt\n",
    "import numpy as np\n",
    "sys.path.append(\"./\")\n",
    "\n",
    "from data.dbase.db_tables import Probe, Unit, Session, ValidatedSession, Recording, Tracking"
   ]
  },
  {
   "cell_type": "code",
   "execution_count": null,
   "metadata": {},
   "outputs": [],
   "source": [
    "# print all available recordings\n",
    "print(Recording())"
   ]
  },
  {
   "cell_type": "markdown",
   "metadata": {},
   "source": [
    "choose a recording and load the data"
   ]
  },
  {
   "cell_type": "code",
   "execution_count": null,
   "metadata": {},
   "outputs": [],
   "source": [
    "REC = \"\"\n",
    "\n",
    "metadata = (\n",
    "    Session * ValidatedSession * Recording & f'session_name=\"{REC}\"'\n",
    ")\n",
    "\n",
    "tracking = Tracking.get_session_tracking(REC)\n",
    "\n",
    "units = Unit.get_session_units(REC, metadata[\"recording_probe_configuration\"], spikes=True, firing_rate=False)\n",
    "\n"
   ]
  },
  {
   "cell_type": "markdown",
   "metadata": {},
   "source": [
    "make plot"
   ]
  },
  {
   "cell_type": "code",
   "execution_count": null,
   "metadata": {},
   "outputs": [],
   "source": [
    "fig = plt.subplots(figsize=(10, 10))\n",
    "\n",
    "axes = fig.axes_mosaic(\n",
    "\"\"\"\n",
    "    AAAAA\n",
    "    BBBBB\n",
    "    CCCCC\n",
    "    DDDDD\n",
    "    DDDDD\n",
    "    DDDDD\n",
    "\"\"\"\n",
    ")\n",
    "\n",
    "\n",
    "# plot kinematics\n",
    "\n",
    "\n",
    "# plot spikes raster\n"
   ]
  }
 ],
 "metadata": {
  "language_info": {
   "name": "python"
  },
  "orig_nbformat": 4
 },
 "nbformat": 4,
 "nbformat_minor": 2
}
