{
 "cells": [
  {
   "cell_type": "markdown",
   "metadata": {},
   "source": [
    "# Bouts ratser\n",
    "\n",
    "For each unit in a session make raster plots aligned to locomotion bouts"
   ]
  },
  {
   "cell_type": "code",
   "execution_count": 1,
   "metadata": {},
   "outputs": [
    {
     "data": {
      "text/html": [
       "<pre style=\"white-space:pre;overflow-x:auto;line-height:normal;font-family:Menlo,'DejaVu Sans Mono',consolas,'Courier New',monospace\"><span style=\"color: #7fbfbf; text-decoration-color: #7fbfbf\">[06/07/22 17:20:56] </span><span style=\"color: #008000; text-decoration-color: #008000\">DEBUG   </span> DPL - Saving data and logs to logs                   <a href=\"file://c:\\ProgramData\\Miniconda3\\envs\\dev\\lib\\site-packages\\tpd\\core.py\"><span style=\"color: #7f7f7f; text-decoration-color: #7f7f7f\">core.py</span></a><span style=\"color: #7f7f7f; text-decoration-color: #7f7f7f\">:</span><a href=\"file://c:\\ProgramData\\Miniconda3\\envs\\dev\\lib\\site-packages\\tpd\\core.py#118\"><span style=\"color: #7f7f7f; text-decoration-color: #7f7f7f\">118</span></a>\n",
       "</pre>\n"
      ],
      "text/plain": [
       "\u001b[2;36m[06/07/22 17:20:56]\u001b[0m\u001b[2;36m \u001b[0m\u001b[32mDEBUG   \u001b[0m DPL - Saving data and logs to logs                   \u001b]8;id=710470;file://c:\\ProgramData\\Miniconda3\\envs\\dev\\lib\\site-packages\\tpd\\core.py\u001b\\\u001b[2mcore.py\u001b[0m\u001b]8;;\u001b\\\u001b[2m:\u001b[0m\u001b]8;id=244222;file://c:\\ProgramData\\Miniconda3\\envs\\dev\\lib\\site-packages\\tpd\\core.py#118\u001b\\\u001b[2m118\u001b[0m\u001b]8;;\u001b\\\n"
      ]
     },
     "metadata": {},
     "output_type": "display_data"
    },
    {
     "data": {
      "text/html": [
       "<pre style=\"white-space:pre;overflow-x:auto;line-height:normal;font-family:Menlo,'DejaVu Sans Mono',consolas,'Courier New',monospace\"><span style=\"color: #7fbfbf; text-decoration-color: #7fbfbf\">                    </span><span style=\"color: #008000; text-decoration-color: #008000\">DEBUG   </span> Saving log file to: logs\\log.log                     <a href=\"file://c:\\ProgramData\\Miniconda3\\envs\\dev\\lib\\site-packages\\tpd\\core.py\"><span style=\"color: #7f7f7f; text-decoration-color: #7f7f7f\">core.py</span></a><span style=\"color: #7f7f7f; text-decoration-color: #7f7f7f\">:</span><a href=\"file://c:\\ProgramData\\Miniconda3\\envs\\dev\\lib\\site-packages\\tpd\\core.py#119\"><span style=\"color: #7f7f7f; text-decoration-color: #7f7f7f\">119</span></a>\n",
       "</pre>\n"
      ],
      "text/plain": [
       "\u001b[2;36m                   \u001b[0m\u001b[2;36m \u001b[0m\u001b[32mDEBUG   \u001b[0m Saving log file to: logs\\log.log                     \u001b]8;id=765197;file://c:\\ProgramData\\Miniconda3\\envs\\dev\\lib\\site-packages\\tpd\\core.py\u001b\\\u001b[2mcore.py\u001b[0m\u001b]8;;\u001b\\\u001b[2m:\u001b[0m\u001b]8;id=51452;file://c:\\ProgramData\\Miniconda3\\envs\\dev\\lib\\site-packages\\tpd\\core.py#119\u001b\\\u001b[2m119\u001b[0m\u001b]8;;\u001b\\\n"
      ]
     },
     "metadata": {},
     "output_type": "display_data"
    },
    {
     "name": "stdout",
     "output_type": "stream",
     "text": [
      "Connecting root@127.0.0.1:3306\n"
     ]
    },
    {
     "data": {
      "text/html": [
       "<pre style=\"white-space:pre;overflow-x:auto;line-height:normal;font-family:Menlo,'DejaVu Sans Mono',consolas,'Courier New',monospace\"><span style=\"color: #7fbfbf; text-decoration-color: #7fbfbf\">[06/07/22 17:20:57] </span><span style=\"color: #008000; text-decoration-color: #008000\">DEBUG   </span> Connected to database: LOCOMOTION                 <a href=\"file://C:\\Users\\Federico\\Documents\\GitHub\\pysical_locomotion\\data\\dbase\\__init__.py\"><span style=\"color: #7f7f7f; text-decoration-color: #7f7f7f\">__init__.py</span></a><span style=\"color: #7f7f7f; text-decoration-color: #7f7f7f\">:</span><a href=\"file://C:\\Users\\Federico\\Documents\\GitHub\\pysical_locomotion\\data\\dbase\\__init__.py#11\"><span style=\"color: #7f7f7f; text-decoration-color: #7f7f7f\">11</span></a>\n",
       "</pre>\n"
      ],
      "text/plain": [
       "\u001b[2;36m[06/07/22 17:20:57]\u001b[0m\u001b[2;36m \u001b[0m\u001b[32mDEBUG   \u001b[0m Connected to database: LOCOMOTION                 \u001b]8;id=391519;file://C:\\Users\\Federico\\Documents\\GitHub\\pysical_locomotion\\data\\dbase\\__init__.py\u001b\\\u001b[2m__init__.py\u001b[0m\u001b]8;;\u001b\\\u001b[2m:\u001b[0m\u001b]8;id=693265;file://C:\\Users\\Federico\\Documents\\GitHub\\pysical_locomotion\\data\\dbase\\__init__.py#11\u001b\\\u001b[2m11\u001b[0m\u001b]8;;\u001b\\\n"
      ]
     },
     "metadata": {},
     "output_type": "display_data"
    },
    {
     "name": "stdout",
     "output_type": "stream",
     "text": [
      "['FC_220408_BAA1101192_hairpin' 'FC_220409_BAA1101192_hairpin'\n",
      " 'FC_220410_BAA1101192_hairpin' 'FC_220411_BAA1101192_hairpin'\n",
      " 'FC_220412_BAA1101192_hairpin' 'FC_220413_BAA1101192_hairpin'\n",
      " 'FC_220414_BAA1101192_hairpin' 'FC_220415_BAA1101192_hairpin'\n",
      " 'FC_220432_BAA1101192_hairpin' 'FC_220433_BAA1101192_hairpin'\n",
      " 'FC_220434_BAA1101192_hairpin' 'FC_220435_BAA1101192_hairpin']\n"
     ]
    }
   ],
   "source": [
    "# imports\n",
    "import sys\n",
    "import matplotlib.pyplot as plt\n",
    "import numpy as np\n",
    "from pathlib import Path\n",
    "from myterial import grey_dark\n",
    "from mpl_toolkits.axes_grid1 import make_axes_locatable\n",
    "\n",
    "sys.path.append(\"./\")\n",
    "sys.path.append(r\"C:\\Users\\Federico\\Documents\\GitHub\\pysical_locomotion\")\n",
    "\n",
    "from fcutils.plot.elements import plot_mean_and_error\n",
    "from fcutils.plot.figure import clean_axes\n",
    "\n",
    "from analysis.ephys.utils import get_recording_names, get_data, get_session_bouts, curves\n",
    "from analysis.ephys.viz import bouts_raster\n",
    "\n",
    "save_folder = Path(r\"D:\\Dropbox (UCL)\\Rotation_vte\\Locomotion\\analysis\\ephys\")\n",
    "\n",
    "# print all available recordings\n",
    "print(get_recording_names())\n"
   ]
  },
  {
   "cell_type": "markdown",
   "metadata": {},
   "source": [
    "## get data"
   ]
  },
  {
   "cell_type": "code",
   "execution_count": 2,
   "metadata": {},
   "outputs": [
    {
     "data": {
      "text/html": [
       "<pre style=\"white-space:pre;overflow-x:auto;line-height:normal;font-family:Menlo,'DejaVu Sans Mono',consolas,'Courier New',monospace\"><span style=\"color: #7fbfbf; text-decoration-color: #7fbfbf\">[06/07/22 17:21:02] </span><span style=\"color: #000080; text-decoration-color: #000080\">INFO    </span> Got tracking data for FC_220410_BAA1101192_hairpin  <a href=\"file://C:\\Users\\Federico\\Documents\\GitHub\\pysical_locomotion\\analysis\\ephys\\utils.py\"><span style=\"color: #7f7f7f; text-decoration-color: #7f7f7f\">utils.py</span></a><span style=\"color: #7f7f7f; text-decoration-color: #7f7f7f\">:</span><a href=\"file://C:\\Users\\Federico\\Documents\\GitHub\\pysical_locomotion\\analysis\\ephys\\utils.py#163\"><span style=\"color: #7f7f7f; text-decoration-color: #7f7f7f\">163</span></a>\n",
       "</pre>\n"
      ],
      "text/plain": [
       "\u001b[2;36m[06/07/22 17:21:02]\u001b[0m\u001b[2;36m \u001b[0m\u001b[34mINFO    \u001b[0m Got tracking data for FC_220410_BAA1101192_hairpin  \u001b]8;id=327402;file://C:\\Users\\Federico\\Documents\\GitHub\\pysical_locomotion\\analysis\\ephys\\utils.py\u001b\\\u001b[2mutils.py\u001b[0m\u001b]8;;\u001b\\\u001b[2m:\u001b[0m\u001b]8;id=527441;file://C:\\Users\\Federico\\Documents\\GitHub\\pysical_locomotion\\analysis\\ephys\\utils.py#163\u001b\\\u001b[2m163\u001b[0m\u001b]8;;\u001b\\\n"
      ]
     },
     "metadata": {},
     "output_type": "display_data"
    },
    {
     "data": {
      "text/html": [
       "<pre style=\"white-space:pre;overflow-x:auto;line-height:normal;font-family:Menlo,'DejaVu Sans Mono',consolas,'Courier New',monospace\"><span style=\"color: #7fbfbf; text-decoration-color: #7fbfbf\">[06/07/22 17:21:03] </span><span style=\"color: #000080; text-decoration-color: #000080\">INFO    </span> Got <span style=\"color: #008080; text-decoration-color: #008080; font-weight: bold\">40</span> units for FC_220410_BAA1101192_hairpin       <a href=\"file://C:\\Users\\Federico\\Documents\\GitHub\\pysical_locomotion\\analysis\\ephys\\utils.py\"><span style=\"color: #7f7f7f; text-decoration-color: #7f7f7f\">utils.py</span></a><span style=\"color: #7f7f7f; text-decoration-color: #7f7f7f\">:</span><a href=\"file://C:\\Users\\Federico\\Documents\\GitHub\\pysical_locomotion\\analysis\\ephys\\utils.py#177\"><span style=\"color: #7f7f7f; text-decoration-color: #7f7f7f\">177</span></a>\n",
       "</pre>\n"
      ],
      "text/plain": [
       "\u001b[2;36m[06/07/22 17:21:03]\u001b[0m\u001b[2;36m \u001b[0m\u001b[34mINFO    \u001b[0m Got \u001b[1;36m40\u001b[0m units for FC_220410_BAA1101192_hairpin       \u001b]8;id=648179;file://C:\\Users\\Federico\\Documents\\GitHub\\pysical_locomotion\\analysis\\ephys\\utils.py\u001b\\\u001b[2mutils.py\u001b[0m\u001b]8;;\u001b\\\u001b[2m:\u001b[0m\u001b]8;id=273049;file://C:\\Users\\Federico\\Documents\\GitHub\\pysical_locomotion\\analysis\\ephys\\utils.py#177\u001b\\\u001b[2m177\u001b[0m\u001b]8;;\u001b\\\n"
      ]
     },
     "metadata": {},
     "output_type": "display_data"
    },
    {
     "data": {
      "text/html": [
       "<pre style=\"white-space:pre;overflow-x:auto;line-height:normal;font-family:Menlo,'DejaVu Sans Mono',consolas,'Courier New',monospace\"><span style=\"color: #7fbfbf; text-decoration-color: #7fbfbf\">[06/07/22 17:21:17] </span><span style=\"color: #000080; text-decoration-color: #000080\">INFO    </span> Got <span style=\"color: #008080; text-decoration-color: #008080; font-weight: bold\">27</span> bouts for FC_220410_BAA1101192_hairpin |     <a href=\"file://C:\\Users\\Federico\\Documents\\GitHub\\pysical_locomotion\\analysis\\ephys\\utils.py\"><span style=\"color: #7f7f7f; text-decoration-color: #7f7f7f\">utils.py</span></a><span style=\"color: #7f7f7f; text-decoration-color: #7f7f7f\">:</span><a href=\"file://C:\\Users\\Federico\\Documents\\GitHub\\pysical_locomotion\\analysis\\ephys\\utils.py#201\"><span style=\"color: #7f7f7f; text-decoration-color: #7f7f7f\">201</span></a>\n",
       "                             true | outbound                                                 \n",
       "</pre>\n"
      ],
      "text/plain": [
       "\u001b[2;36m[06/07/22 17:21:17]\u001b[0m\u001b[2;36m \u001b[0m\u001b[34mINFO    \u001b[0m Got \u001b[1;36m27\u001b[0m bouts for FC_220410_BAA1101192_hairpin |     \u001b]8;id=879618;file://C:\\Users\\Federico\\Documents\\GitHub\\pysical_locomotion\\analysis\\ephys\\utils.py\u001b\\\u001b[2mutils.py\u001b[0m\u001b]8;;\u001b\\\u001b[2m:\u001b[0m\u001b]8;id=964288;file://C:\\Users\\Federico\\Documents\\GitHub\\pysical_locomotion\\analysis\\ephys\\utils.py#201\u001b\\\u001b[2m201\u001b[0m\u001b]8;;\u001b\\\n",
       "                             true | outbound                                                 \n"
      ]
     },
     "metadata": {},
     "output_type": "display_data"
    },
    {
     "data": {
      "text/html": [
       "<pre style=\"white-space:pre;overflow-x:auto;line-height:normal;font-family:Menlo,'DejaVu Sans Mono',consolas,'Courier New',monospace\"><span style=\"color: #7fbfbf; text-decoration-color: #7fbfbf\">[06/07/22 17:21:18] </span><span style=\"color: #000080; text-decoration-color: #000080\">INFO    </span> Got <span style=\"color: #008080; text-decoration-color: #008080; font-weight: bold\">28</span> bouts for FC_220410_BAA1101192_hairpin |     <a href=\"file://C:\\Users\\Federico\\Documents\\GitHub\\pysical_locomotion\\analysis\\ephys\\utils.py\"><span style=\"color: #7f7f7f; text-decoration-color: #7f7f7f\">utils.py</span></a><span style=\"color: #7f7f7f; text-decoration-color: #7f7f7f\">:</span><a href=\"file://C:\\Users\\Federico\\Documents\\GitHub\\pysical_locomotion\\analysis\\ephys\\utils.py#201\"><span style=\"color: #7f7f7f; text-decoration-color: #7f7f7f\">201</span></a>\n",
       "                             true | inbound                                                  \n",
       "</pre>\n"
      ],
      "text/plain": [
       "\u001b[2;36m[06/07/22 17:21:18]\u001b[0m\u001b[2;36m \u001b[0m\u001b[34mINFO    \u001b[0m Got \u001b[1;36m28\u001b[0m bouts for FC_220410_BAA1101192_hairpin |     \u001b]8;id=938637;file://C:\\Users\\Federico\\Documents\\GitHub\\pysical_locomotion\\analysis\\ephys\\utils.py\u001b\\\u001b[2mutils.py\u001b[0m\u001b]8;;\u001b\\\u001b[2m:\u001b[0m\u001b]8;id=580540;file://C:\\Users\\Federico\\Documents\\GitHub\\pysical_locomotion\\analysis\\ephys\\utils.py#201\u001b\\\u001b[2m201\u001b[0m\u001b]8;;\u001b\\\n",
       "                             true | inbound                                                  \n"
      ]
     },
     "metadata": {},
     "output_type": "display_data"
    },
    {
     "data": {
      "text/html": [
       "<pre style=\"white-space:pre;overflow-x:auto;line-height:normal;font-family:Menlo,'DejaVu Sans Mono',consolas,'Courier New',monospace\"><span style=\"color: #7fbfbf; text-decoration-color: #7fbfbf\">                    </span><span style=\"color: #000080; text-decoration-color: #000080\">INFO    </span> Got <span style=\"color: #008080; text-decoration-color: #008080; font-weight: bold\">49</span> bouts for FC_220410_BAA1101192_hairpin |     <a href=\"file://C:\\Users\\Federico\\Documents\\GitHub\\pysical_locomotion\\analysis\\ephys\\utils.py\"><span style=\"color: #7f7f7f; text-decoration-color: #7f7f7f\">utils.py</span></a><span style=\"color: #7f7f7f; text-decoration-color: #7f7f7f\">:</span><a href=\"file://C:\\Users\\Federico\\Documents\\GitHub\\pysical_locomotion\\analysis\\ephys\\utils.py#201\"><span style=\"color: #7f7f7f; text-decoration-color: #7f7f7f\">201</span></a>\n",
       "                             false | outbound                                                \n",
       "</pre>\n"
      ],
      "text/plain": [
       "\u001b[2;36m                   \u001b[0m\u001b[2;36m \u001b[0m\u001b[34mINFO    \u001b[0m Got \u001b[1;36m49\u001b[0m bouts for FC_220410_BAA1101192_hairpin |     \u001b]8;id=447001;file://C:\\Users\\Federico\\Documents\\GitHub\\pysical_locomotion\\analysis\\ephys\\utils.py\u001b\\\u001b[2mutils.py\u001b[0m\u001b]8;;\u001b\\\u001b[2m:\u001b[0m\u001b]8;id=525764;file://C:\\Users\\Federico\\Documents\\GitHub\\pysical_locomotion\\analysis\\ephys\\utils.py#201\u001b\\\u001b[2m201\u001b[0m\u001b]8;;\u001b\\\n",
       "                             false | outbound                                                \n"
      ]
     },
     "metadata": {},
     "output_type": "display_data"
    },
    {
     "data": {
      "text/html": [
       "<pre style=\"white-space:pre;overflow-x:auto;line-height:normal;font-family:Menlo,'DejaVu Sans Mono',consolas,'Courier New',monospace\"><span style=\"color: #7fbfbf; text-decoration-color: #7fbfbf\">[06/07/22 17:21:19] </span><span style=\"color: #000080; text-decoration-color: #000080\">INFO    </span> Got <span style=\"color: #008080; text-decoration-color: #008080; font-weight: bold\">37</span> bouts for FC_220410_BAA1101192_hairpin |     <a href=\"file://C:\\Users\\Federico\\Documents\\GitHub\\pysical_locomotion\\analysis\\ephys\\utils.py\"><span style=\"color: #7f7f7f; text-decoration-color: #7f7f7f\">utils.py</span></a><span style=\"color: #7f7f7f; text-decoration-color: #7f7f7f\">:</span><a href=\"file://C:\\Users\\Federico\\Documents\\GitHub\\pysical_locomotion\\analysis\\ephys\\utils.py#201\"><span style=\"color: #7f7f7f; text-decoration-color: #7f7f7f\">201</span></a>\n",
       "                             false | inbound                                                 \n",
       "</pre>\n"
      ],
      "text/plain": [
       "\u001b[2;36m[06/07/22 17:21:19]\u001b[0m\u001b[2;36m \u001b[0m\u001b[34mINFO    \u001b[0m Got \u001b[1;36m37\u001b[0m bouts for FC_220410_BAA1101192_hairpin |     \u001b]8;id=507165;file://C:\\Users\\Federico\\Documents\\GitHub\\pysical_locomotion\\analysis\\ephys\\utils.py\u001b\\\u001b[2mutils.py\u001b[0m\u001b]8;;\u001b\\\u001b[2m:\u001b[0m\u001b]8;id=781981;file://C:\\Users\\Federico\\Documents\\GitHub\\pysical_locomotion\\analysis\\ephys\\utils.py#201\u001b\\\u001b[2m201\u001b[0m\u001b]8;;\u001b\\\n",
       "                             false | inbound                                                 \n"
      ]
     },
     "metadata": {},
     "output_type": "display_data"
    }
   ],
   "source": [
    "REC = \"FC_220410_BAA1101192_hairpin\"\n",
    "\n",
    "units, left_fl, right_fl, left_hl, right_hl, body = get_data(REC)\n",
    "out_bouts = get_session_bouts(REC)\n",
    "in_bouts = get_session_bouts(REC, direction=\"inbound\")\n",
    "incomplete_bouts = get_session_bouts(REC, complete=\"false\")\n",
    "in_incomplete_bouts = get_session_bouts(REC, direction=\"inbound\", complete=\"false\")"
   ]
  },
  {
   "cell_type": "markdown",
   "metadata": {},
   "source": [
    "## Plot"
   ]
  },
  {
   "cell_type": "code",
   "execution_count": 3,
   "metadata": {},
   "outputs": [],
   "source": [
    "\n",
    "def bouts_raster(ax, unit, bouts, color=\"k\", ds=5, label=\"\"):\n",
    "    \"\"\"\n",
    "        Plot a unit's spikes aligned to bouts. Unlike time_aligned_raster, this function \n",
    "        plots spikes as a function of track progression, not time!\n",
    "    \"\"\"\n",
    "    # make frate ax\n",
    "    divider = make_axes_locatable(ax)\n",
    "    cax = divider.append_axes(\"top\", size=\"50%\", pad=0.05)\n",
    "\n",
    "    # get and plot the position (s) at each spike\n",
    "    S, Y = [], []\n",
    "    n = len(bouts)\n",
    "    if n == 0:\n",
    "        return\n",
    "        \n",
    "    h = 1 / n\n",
    "    frates = {s:[] for s in np.arange(0, 260+ds, step=ds)}\n",
    "    for i, bout in bouts.iterrows():\n",
    "        # get spikes during bout (based on frames)\n",
    "        trial_spikes = unit.spikes[\n",
    "            (unit.spikes >= bout.start_frame) & (unit.spikes < bout.end_frame)\n",
    "        ]\n",
    "\n",
    "        spikes_s = np.array(bout.s)[trial_spikes - bout.start_frame]\n",
    "        S.extend(spikes_s)\n",
    "        Y.extend(np.zeros_like(trial_spikes) + (i * h))\n",
    "\n",
    "        # mark the start/end of the bout\n",
    "        ax.scatter(\n",
    "            [\n",
    "                bout.s[0],\n",
    "                bout.s[-1],\n",
    "            ],\n",
    "            [i * h, i * h],\n",
    "            s=24,\n",
    "            color=\"red\",\n",
    "            alpha=1,\n",
    "            marker=\"|\",\n",
    "        )\n",
    "\n",
    "        # get firing rate\n",
    "        for s in frates.keys():\n",
    "            d = (bout.s - s)**2\n",
    "            idx = np.argmin(d)\n",
    "            if d[idx] < 1:\n",
    "                frates[s].append(unit.firing_rate[idx])\n",
    "\n",
    "\n",
    "    ax.scatter(S, Y, s=4, color=color, alpha=1, marker=\"|\")\n",
    "    mean_frate = np.array([np.mean(v) if v else 0.0 for v in frates.values()])\n",
    "    std_frate = np.array([np.std(v) if v else 0.0 for v in frates.values()])\n",
    "\n",
    "    plot_mean_and_error(mean_frate, std_frate, cax, x=np.array(list(frates.keys())), color=unit.color)\n",
    "\n",
    "\n",
    "    # style axes\n",
    "    ax.set(\n",
    "        yticks=np.arange(0, 1, 10 / n),\n",
    "        yticklabels=(np.arange(0, 1, 10 / n) * n).astype(int),\n",
    "        xlim=[0, 260],\n",
    "        ylabel=label,\n",
    "    )\n",
    "    cax.set(ylabel=\"Firing rate\", xticks=[], xlim=[0, 260])\n"
   ]
  },
  {
   "cell_type": "code",
   "execution_count": 4,
   "metadata": {},
   "outputs": [],
   "source": [
    "def make_figure(unit, out_bouts, incomplete_bouts, in_bouts, in_incomplete_bouts):\n",
    "    fig = plt.figure(figsize=(22, 16))\n",
    "    axes = fig.subplot_mosaic(\n",
    "    \"\"\"\n",
    "        AAAGGGG\n",
    "        AAABBBB\n",
    "        AAACCCC\n",
    "        AAADDDD\n",
    "        AAAEEEE\n",
    "    \"\"\"\n",
    "    )\n",
    "    fig.tight_layout()\n",
    "\n",
    "\n",
    "    # plot complete out bounds tracking data on 'A'\n",
    "    for i, bout in out_bouts.iterrows():\n",
    "        axes[\"A\"].plot(\n",
    "            body.x[bout.start_frame : bout.end_frame],\n",
    "            body.y[bout.start_frame : bout.end_frame],\n",
    "            \"-\", color=\"k\",\n",
    "            alpha=1, lw=.5, zorder=-1\n",
    "        )\n",
    "\n",
    "        # mark position at spike times\n",
    "        trial_spikes = unit.spikes[\n",
    "                (unit.spikes >= bout.start_frame) & (unit.spikes < bout.end_frame)\n",
    "            ]\n",
    "        axes[\"A\"].scatter(\n",
    "            body.x[trial_spikes],\n",
    "            body.y[trial_spikes],\n",
    "            s=50,\n",
    "            color=unit.color,\n",
    "            alpha=.5,\n",
    "        )\n",
    "\n",
    "    # mark position of curves\n",
    "    for curve in curves.values():\n",
    "        axes[\"G\"].plot(\n",
    "            [curve.s0, curve.sf], [0, 0],\n",
    "            color=curve.color,\n",
    "            alpha=1,\n",
    "            lw=6,\n",
    "            zorder=100,\n",
    "        )\n",
    "\n",
    "\n",
    "    # plot gcoord for each bout in 'G'\n",
    "    for bouts, color, sign in zip([out_bouts, in_bouts], [\"black\", \"red\"], [1, -1]):\n",
    "        for i, bout in bouts.iterrows():\n",
    "            axes[\"G\"].plot(\n",
    "                bout.s,\n",
    "                sign * np.array(bout.speed),\n",
    "                color=color,\n",
    "                alpha=.25, lw=.5, zorder=-1\n",
    "            )\n",
    "\n",
    "\n",
    "    bouts_raster(axes[\"B\"], unit, out_bouts, color=\"k\", ds=2, label=\"outbound\")\n",
    "    bouts_raster(axes[\"C\"], unit, incomplete_bouts, color=[.4, .4, .4], ds=2, label=\"incomplete out\")\n",
    "    bouts_raster(axes[\"D\"], unit, in_bouts, color=\"r\", ds=2, label=\"inbound\")\n",
    "    bouts_raster(axes[\"E\"], unit, in_incomplete_bouts, color=[.8, .3, .3], ds=2, label=\"incomplete in\")\n",
    "\n",
    "\n",
    "    axes['G'].axhline(0, color='k', lw=2, zorder=-1)\n",
    "\n",
    "\n",
    "    for ax in \"GBCD\":\n",
    "        axes[ax].set(xlim=[0, 260], xticks=[])\n",
    "    axes['E'].set(xlim=[0, 260], xlabel=\"track position (cm)\")\n",
    "\n",
    "    axes[\"A\"].axis(\"equal\")\n",
    "    _ = axes[\"A\"].axis(\"off\")\n",
    "    clean_axes(fig)\n",
    "    return fig"
   ]
  },
  {
   "cell_type": "markdown",
   "metadata": {},
   "source": [
    "### Make a figure for every recording/unit"
   ]
  },
  {
   "cell_type": "code",
   "execution_count": 5,
   "metadata": {},
   "outputs": [
    {
     "data": {
      "text/html": [
       "<pre style=\"white-space:pre;overflow-x:auto;line-height:normal;font-family:Menlo,'DejaVu Sans Mono',consolas,'Courier New',monospace\"><span style=\"color: #7fbfbf; text-decoration-color: #7fbfbf\">[06/07/22 17:21:27] </span><span style=\"color: #000080; text-decoration-color: #000080\">INFO    </span> Got tracking data for FC_220408_BAA1101192_hairpin  <a href=\"file://C:\\Users\\Federico\\Documents\\GitHub\\pysical_locomotion\\analysis\\ephys\\utils.py\"><span style=\"color: #7f7f7f; text-decoration-color: #7f7f7f\">utils.py</span></a><span style=\"color: #7f7f7f; text-decoration-color: #7f7f7f\">:</span><a href=\"file://C:\\Users\\Federico\\Documents\\GitHub\\pysical_locomotion\\analysis\\ephys\\utils.py#163\"><span style=\"color: #7f7f7f; text-decoration-color: #7f7f7f\">163</span></a>\n",
       "</pre>\n"
      ],
      "text/plain": [
       "\u001b[2;36m[06/07/22 17:21:27]\u001b[0m\u001b[2;36m \u001b[0m\u001b[34mINFO    \u001b[0m Got tracking data for FC_220408_BAA1101192_hairpin  \u001b]8;id=934843;file://C:\\Users\\Federico\\Documents\\GitHub\\pysical_locomotion\\analysis\\ephys\\utils.py\u001b\\\u001b[2mutils.py\u001b[0m\u001b]8;;\u001b\\\u001b[2m:\u001b[0m\u001b]8;id=415512;file://C:\\Users\\Federico\\Documents\\GitHub\\pysical_locomotion\\analysis\\ephys\\utils.py#163\u001b\\\u001b[2m163\u001b[0m\u001b]8;;\u001b\\\n"
      ]
     },
     "metadata": {},
     "output_type": "display_data"
    },
    {
     "data": {
      "text/html": [
       "<pre style=\"white-space:pre;overflow-x:auto;line-height:normal;font-family:Menlo,'DejaVu Sans Mono',consolas,'Courier New',monospace\"><span style=\"color: #7fbfbf; text-decoration-color: #7fbfbf\">[06/07/22 17:22:02] </span><span style=\"color: #000080; text-decoration-color: #000080\">INFO    </span> Got <span style=\"color: #008080; text-decoration-color: #008080; font-weight: bold\">44</span> units for FC_220408_BAA1101192_hairpin       <a href=\"file://C:\\Users\\Federico\\Documents\\GitHub\\pysical_locomotion\\analysis\\ephys\\utils.py\"><span style=\"color: #7f7f7f; text-decoration-color: #7f7f7f\">utils.py</span></a><span style=\"color: #7f7f7f; text-decoration-color: #7f7f7f\">:</span><a href=\"file://C:\\Users\\Federico\\Documents\\GitHub\\pysical_locomotion\\analysis\\ephys\\utils.py#177\"><span style=\"color: #7f7f7f; text-decoration-color: #7f7f7f\">177</span></a>\n",
       "</pre>\n"
      ],
      "text/plain": [
       "\u001b[2;36m[06/07/22 17:22:02]\u001b[0m\u001b[2;36m \u001b[0m\u001b[34mINFO    \u001b[0m Got \u001b[1;36m44\u001b[0m units for FC_220408_BAA1101192_hairpin       \u001b]8;id=28790;file://C:\\Users\\Federico\\Documents\\GitHub\\pysical_locomotion\\analysis\\ephys\\utils.py\u001b\\\u001b[2mutils.py\u001b[0m\u001b]8;;\u001b\\\u001b[2m:\u001b[0m\u001b]8;id=869123;file://C:\\Users\\Federico\\Documents\\GitHub\\pysical_locomotion\\analysis\\ephys\\utils.py#177\u001b\\\u001b[2m177\u001b[0m\u001b]8;;\u001b\\\n"
      ]
     },
     "metadata": {},
     "output_type": "display_data"
    },
    {
     "data": {
      "text/html": [
       "<pre style=\"white-space:pre;overflow-x:auto;line-height:normal;font-family:Menlo,'DejaVu Sans Mono',consolas,'Courier New',monospace\"><span style=\"color: #7fbfbf; text-decoration-color: #7fbfbf\">[06/07/22 17:22:03] </span><span style=\"color: #000080; text-decoration-color: #000080\">INFO    </span> Got <span style=\"color: #008080; text-decoration-color: #008080; font-weight: bold\">17</span> bouts for FC_220408_BAA1101192_hairpin |     <a href=\"file://C:\\Users\\Federico\\Documents\\GitHub\\pysical_locomotion\\analysis\\ephys\\utils.py\"><span style=\"color: #7f7f7f; text-decoration-color: #7f7f7f\">utils.py</span></a><span style=\"color: #7f7f7f; text-decoration-color: #7f7f7f\">:</span><a href=\"file://C:\\Users\\Federico\\Documents\\GitHub\\pysical_locomotion\\analysis\\ephys\\utils.py#201\"><span style=\"color: #7f7f7f; text-decoration-color: #7f7f7f\">201</span></a>\n",
       "                             true | outbound                                                 \n",
       "</pre>\n"
      ],
      "text/plain": [
       "\u001b[2;36m[06/07/22 17:22:03]\u001b[0m\u001b[2;36m \u001b[0m\u001b[34mINFO    \u001b[0m Got \u001b[1;36m17\u001b[0m bouts for FC_220408_BAA1101192_hairpin |     \u001b]8;id=164982;file://C:\\Users\\Federico\\Documents\\GitHub\\pysical_locomotion\\analysis\\ephys\\utils.py\u001b\\\u001b[2mutils.py\u001b[0m\u001b]8;;\u001b\\\u001b[2m:\u001b[0m\u001b]8;id=133651;file://C:\\Users\\Federico\\Documents\\GitHub\\pysical_locomotion\\analysis\\ephys\\utils.py#201\u001b\\\u001b[2m201\u001b[0m\u001b]8;;\u001b\\\n",
       "                             true | outbound                                                 \n"
      ]
     },
     "metadata": {},
     "output_type": "display_data"
    },
    {
     "data": {
      "text/html": [
       "<pre style=\"white-space:pre;overflow-x:auto;line-height:normal;font-family:Menlo,'DejaVu Sans Mono',consolas,'Courier New',monospace\"><span style=\"color: #7fbfbf; text-decoration-color: #7fbfbf\">                    </span><span style=\"color: #000080; text-decoration-color: #000080\">INFO    </span> Got <span style=\"color: #008080; text-decoration-color: #008080; font-weight: bold\">2</span> bouts for FC_220408_BAA1101192_hairpin | true <a href=\"file://C:\\Users\\Federico\\Documents\\GitHub\\pysical_locomotion\\analysis\\ephys\\utils.py\"><span style=\"color: #7f7f7f; text-decoration-color: #7f7f7f\">utils.py</span></a><span style=\"color: #7f7f7f; text-decoration-color: #7f7f7f\">:</span><a href=\"file://C:\\Users\\Federico\\Documents\\GitHub\\pysical_locomotion\\analysis\\ephys\\utils.py#201\"><span style=\"color: #7f7f7f; text-decoration-color: #7f7f7f\">201</span></a>\n",
       "                             | inbound                                                       \n",
       "</pre>\n"
      ],
      "text/plain": [
       "\u001b[2;36m                   \u001b[0m\u001b[2;36m \u001b[0m\u001b[34mINFO    \u001b[0m Got \u001b[1;36m2\u001b[0m bouts for FC_220408_BAA1101192_hairpin | true \u001b]8;id=717995;file://C:\\Users\\Federico\\Documents\\GitHub\\pysical_locomotion\\analysis\\ephys\\utils.py\u001b\\\u001b[2mutils.py\u001b[0m\u001b]8;;\u001b\\\u001b[2m:\u001b[0m\u001b]8;id=379660;file://C:\\Users\\Federico\\Documents\\GitHub\\pysical_locomotion\\analysis\\ephys\\utils.py#201\u001b\\\u001b[2m201\u001b[0m\u001b]8;;\u001b\\\n",
       "                             | inbound                                                       \n"
      ]
     },
     "metadata": {},
     "output_type": "display_data"
    },
    {
     "data": {
      "text/html": [
       "<pre style=\"white-space:pre;overflow-x:auto;line-height:normal;font-family:Menlo,'DejaVu Sans Mono',consolas,'Courier New',monospace\"><span style=\"color: #7fbfbf; text-decoration-color: #7fbfbf\">                    </span><span style=\"color: #000080; text-decoration-color: #000080\">INFO    </span> Got <span style=\"color: #008080; text-decoration-color: #008080; font-weight: bold\">24</span> bouts for FC_220408_BAA1101192_hairpin |     <a href=\"file://C:\\Users\\Federico\\Documents\\GitHub\\pysical_locomotion\\analysis\\ephys\\utils.py\"><span style=\"color: #7f7f7f; text-decoration-color: #7f7f7f\">utils.py</span></a><span style=\"color: #7f7f7f; text-decoration-color: #7f7f7f\">:</span><a href=\"file://C:\\Users\\Federico\\Documents\\GitHub\\pysical_locomotion\\analysis\\ephys\\utils.py#201\"><span style=\"color: #7f7f7f; text-decoration-color: #7f7f7f\">201</span></a>\n",
       "                             false | outbound                                                \n",
       "</pre>\n"
      ],
      "text/plain": [
       "\u001b[2;36m                   \u001b[0m\u001b[2;36m \u001b[0m\u001b[34mINFO    \u001b[0m Got \u001b[1;36m24\u001b[0m bouts for FC_220408_BAA1101192_hairpin |     \u001b]8;id=768352;file://C:\\Users\\Federico\\Documents\\GitHub\\pysical_locomotion\\analysis\\ephys\\utils.py\u001b\\\u001b[2mutils.py\u001b[0m\u001b]8;;\u001b\\\u001b[2m:\u001b[0m\u001b]8;id=467331;file://C:\\Users\\Federico\\Documents\\GitHub\\pysical_locomotion\\analysis\\ephys\\utils.py#201\u001b\\\u001b[2m201\u001b[0m\u001b]8;;\u001b\\\n",
       "                             false | outbound                                                \n"
      ]
     },
     "metadata": {},
     "output_type": "display_data"
    },
    {
     "data": {
      "text/html": [
       "<pre style=\"white-space:pre;overflow-x:auto;line-height:normal;font-family:Menlo,'DejaVu Sans Mono',consolas,'Courier New',monospace\"><span style=\"color: #7fbfbf; text-decoration-color: #7fbfbf\">                    </span><span style=\"color: #000080; text-decoration-color: #000080\">INFO    </span> Got <span style=\"color: #008080; text-decoration-color: #008080; font-weight: bold\">38</span> bouts for FC_220408_BAA1101192_hairpin |     <a href=\"file://C:\\Users\\Federico\\Documents\\GitHub\\pysical_locomotion\\analysis\\ephys\\utils.py\"><span style=\"color: #7f7f7f; text-decoration-color: #7f7f7f\">utils.py</span></a><span style=\"color: #7f7f7f; text-decoration-color: #7f7f7f\">:</span><a href=\"file://C:\\Users\\Federico\\Documents\\GitHub\\pysical_locomotion\\analysis\\ephys\\utils.py#201\"><span style=\"color: #7f7f7f; text-decoration-color: #7f7f7f\">201</span></a>\n",
       "                             false | inbound                                                 \n",
       "</pre>\n"
      ],
      "text/plain": [
       "\u001b[2;36m                   \u001b[0m\u001b[2;36m \u001b[0m\u001b[34mINFO    \u001b[0m Got \u001b[1;36m38\u001b[0m bouts for FC_220408_BAA1101192_hairpin |     \u001b]8;id=240044;file://C:\\Users\\Federico\\Documents\\GitHub\\pysical_locomotion\\analysis\\ephys\\utils.py\u001b\\\u001b[2mutils.py\u001b[0m\u001b]8;;\u001b\\\u001b[2m:\u001b[0m\u001b]8;id=475009;file://C:\\Users\\Federico\\Documents\\GitHub\\pysical_locomotion\\analysis\\ephys\\utils.py#201\u001b\\\u001b[2m201\u001b[0m\u001b]8;;\u001b\\\n",
       "                             false | inbound                                                 \n"
      ]
     },
     "metadata": {},
     "output_type": "display_data"
    },
    {
     "data": {
      "text/html": [
       "<pre style=\"white-space:pre;overflow-x:auto;line-height:normal;font-family:Menlo,'DejaVu Sans Mono',consolas,'Courier New',monospace\"><span style=\"color: #7fbfbf; text-decoration-color: #7fbfbf\">[06/07/22 17:22:07] </span><span style=\"color: #000080; text-decoration-color: #000080\">INFO    </span> Got tracking data for FC_220409_BAA1101192_hairpin  <a href=\"file://C:\\Users\\Federico\\Documents\\GitHub\\pysical_locomotion\\analysis\\ephys\\utils.py\"><span style=\"color: #7f7f7f; text-decoration-color: #7f7f7f\">utils.py</span></a><span style=\"color: #7f7f7f; text-decoration-color: #7f7f7f\">:</span><a href=\"file://C:\\Users\\Federico\\Documents\\GitHub\\pysical_locomotion\\analysis\\ephys\\utils.py#163\"><span style=\"color: #7f7f7f; text-decoration-color: #7f7f7f\">163</span></a>\n",
       "</pre>\n"
      ],
      "text/plain": [
       "\u001b[2;36m[06/07/22 17:22:07]\u001b[0m\u001b[2;36m \u001b[0m\u001b[34mINFO    \u001b[0m Got tracking data for FC_220409_BAA1101192_hairpin  \u001b]8;id=187316;file://C:\\Users\\Federico\\Documents\\GitHub\\pysical_locomotion\\analysis\\ephys\\utils.py\u001b\\\u001b[2mutils.py\u001b[0m\u001b]8;;\u001b\\\u001b[2m:\u001b[0m\u001b]8;id=539656;file://C:\\Users\\Federico\\Documents\\GitHub\\pysical_locomotion\\analysis\\ephys\\utils.py#163\u001b\\\u001b[2m163\u001b[0m\u001b]8;;\u001b\\\n"
      ]
     },
     "metadata": {},
     "output_type": "display_data"
    },
    {
     "data": {
      "text/html": [
       "<pre style=\"white-space:pre;overflow-x:auto;line-height:normal;font-family:Menlo,'DejaVu Sans Mono',consolas,'Courier New',monospace\"><span style=\"color: #7fbfbf; text-decoration-color: #7fbfbf\">[06/07/22 17:22:08] </span><span style=\"color: #000080; text-decoration-color: #000080\">INFO    </span> Got <span style=\"color: #008080; text-decoration-color: #008080; font-weight: bold\">44</span> units for FC_220409_BAA1101192_hairpin       <a href=\"file://C:\\Users\\Federico\\Documents\\GitHub\\pysical_locomotion\\analysis\\ephys\\utils.py\"><span style=\"color: #7f7f7f; text-decoration-color: #7f7f7f\">utils.py</span></a><span style=\"color: #7f7f7f; text-decoration-color: #7f7f7f\">:</span><a href=\"file://C:\\Users\\Federico\\Documents\\GitHub\\pysical_locomotion\\analysis\\ephys\\utils.py#177\"><span style=\"color: #7f7f7f; text-decoration-color: #7f7f7f\">177</span></a>\n",
       "</pre>\n"
      ],
      "text/plain": [
       "\u001b[2;36m[06/07/22 17:22:08]\u001b[0m\u001b[2;36m \u001b[0m\u001b[34mINFO    \u001b[0m Got \u001b[1;36m44\u001b[0m units for FC_220409_BAA1101192_hairpin       \u001b]8;id=981114;file://C:\\Users\\Federico\\Documents\\GitHub\\pysical_locomotion\\analysis\\ephys\\utils.py\u001b\\\u001b[2mutils.py\u001b[0m\u001b]8;;\u001b\\\u001b[2m:\u001b[0m\u001b]8;id=292902;file://C:\\Users\\Federico\\Documents\\GitHub\\pysical_locomotion\\analysis\\ephys\\utils.py#177\u001b\\\u001b[2m177\u001b[0m\u001b]8;;\u001b\\\n"
      ]
     },
     "metadata": {},
     "output_type": "display_data"
    },
    {
     "data": {
      "text/html": [
       "<pre style=\"white-space:pre;overflow-x:auto;line-height:normal;font-family:Menlo,'DejaVu Sans Mono',consolas,'Courier New',monospace\"><span style=\"color: #7fbfbf; text-decoration-color: #7fbfbf\">                    </span><span style=\"color: #000080; text-decoration-color: #000080\">INFO    </span> Got <span style=\"color: #008080; text-decoration-color: #008080; font-weight: bold\">16</span> bouts for FC_220409_BAA1101192_hairpin |     <a href=\"file://C:\\Users\\Federico\\Documents\\GitHub\\pysical_locomotion\\analysis\\ephys\\utils.py\"><span style=\"color: #7f7f7f; text-decoration-color: #7f7f7f\">utils.py</span></a><span style=\"color: #7f7f7f; text-decoration-color: #7f7f7f\">:</span><a href=\"file://C:\\Users\\Federico\\Documents\\GitHub\\pysical_locomotion\\analysis\\ephys\\utils.py#201\"><span style=\"color: #7f7f7f; text-decoration-color: #7f7f7f\">201</span></a>\n",
       "                             true | outbound                                                 \n",
       "</pre>\n"
      ],
      "text/plain": [
       "\u001b[2;36m                   \u001b[0m\u001b[2;36m \u001b[0m\u001b[34mINFO    \u001b[0m Got \u001b[1;36m16\u001b[0m bouts for FC_220409_BAA1101192_hairpin |     \u001b]8;id=825861;file://C:\\Users\\Federico\\Documents\\GitHub\\pysical_locomotion\\analysis\\ephys\\utils.py\u001b\\\u001b[2mutils.py\u001b[0m\u001b]8;;\u001b\\\u001b[2m:\u001b[0m\u001b]8;id=951323;file://C:\\Users\\Federico\\Documents\\GitHub\\pysical_locomotion\\analysis\\ephys\\utils.py#201\u001b\\\u001b[2m201\u001b[0m\u001b]8;;\u001b\\\n",
       "                             true | outbound                                                 \n"
      ]
     },
     "metadata": {},
     "output_type": "display_data"
    },
    {
     "data": {
      "text/html": [
       "<pre style=\"white-space:pre;overflow-x:auto;line-height:normal;font-family:Menlo,'DejaVu Sans Mono',consolas,'Courier New',monospace\"><span style=\"color: #7fbfbf; text-decoration-color: #7fbfbf\">                    </span><span style=\"color: #000080; text-decoration-color: #000080\">INFO    </span> Got <span style=\"color: #008080; text-decoration-color: #008080; font-weight: bold\">5</span> bouts for FC_220409_BAA1101192_hairpin | true <a href=\"file://C:\\Users\\Federico\\Documents\\GitHub\\pysical_locomotion\\analysis\\ephys\\utils.py\"><span style=\"color: #7f7f7f; text-decoration-color: #7f7f7f\">utils.py</span></a><span style=\"color: #7f7f7f; text-decoration-color: #7f7f7f\">:</span><a href=\"file://C:\\Users\\Federico\\Documents\\GitHub\\pysical_locomotion\\analysis\\ephys\\utils.py#201\"><span style=\"color: #7f7f7f; text-decoration-color: #7f7f7f\">201</span></a>\n",
       "                             | inbound                                                       \n",
       "</pre>\n"
      ],
      "text/plain": [
       "\u001b[2;36m                   \u001b[0m\u001b[2;36m \u001b[0m\u001b[34mINFO    \u001b[0m Got \u001b[1;36m5\u001b[0m bouts for FC_220409_BAA1101192_hairpin | true \u001b]8;id=10124;file://C:\\Users\\Federico\\Documents\\GitHub\\pysical_locomotion\\analysis\\ephys\\utils.py\u001b\\\u001b[2mutils.py\u001b[0m\u001b]8;;\u001b\\\u001b[2m:\u001b[0m\u001b]8;id=84345;file://C:\\Users\\Federico\\Documents\\GitHub\\pysical_locomotion\\analysis\\ephys\\utils.py#201\u001b\\\u001b[2m201\u001b[0m\u001b]8;;\u001b\\\n",
       "                             | inbound                                                       \n"
      ]
     },
     "metadata": {},
     "output_type": "display_data"
    },
    {
     "data": {
      "text/html": [
       "<pre style=\"white-space:pre;overflow-x:auto;line-height:normal;font-family:Menlo,'DejaVu Sans Mono',consolas,'Courier New',monospace\"><span style=\"color: #7fbfbf; text-decoration-color: #7fbfbf\">[06/07/22 17:22:09] </span><span style=\"color: #000080; text-decoration-color: #000080\">INFO    </span> Got <span style=\"color: #008080; text-decoration-color: #008080; font-weight: bold\">32</span> bouts for FC_220409_BAA1101192_hairpin |     <a href=\"file://C:\\Users\\Federico\\Documents\\GitHub\\pysical_locomotion\\analysis\\ephys\\utils.py\"><span style=\"color: #7f7f7f; text-decoration-color: #7f7f7f\">utils.py</span></a><span style=\"color: #7f7f7f; text-decoration-color: #7f7f7f\">:</span><a href=\"file://C:\\Users\\Federico\\Documents\\GitHub\\pysical_locomotion\\analysis\\ephys\\utils.py#201\"><span style=\"color: #7f7f7f; text-decoration-color: #7f7f7f\">201</span></a>\n",
       "                             false | outbound                                                \n",
       "</pre>\n"
      ],
      "text/plain": [
       "\u001b[2;36m[06/07/22 17:22:09]\u001b[0m\u001b[2;36m \u001b[0m\u001b[34mINFO    \u001b[0m Got \u001b[1;36m32\u001b[0m bouts for FC_220409_BAA1101192_hairpin |     \u001b]8;id=473769;file://C:\\Users\\Federico\\Documents\\GitHub\\pysical_locomotion\\analysis\\ephys\\utils.py\u001b\\\u001b[2mutils.py\u001b[0m\u001b]8;;\u001b\\\u001b[2m:\u001b[0m\u001b]8;id=808835;file://C:\\Users\\Federico\\Documents\\GitHub\\pysical_locomotion\\analysis\\ephys\\utils.py#201\u001b\\\u001b[2m201\u001b[0m\u001b]8;;\u001b\\\n",
       "                             false | outbound                                                \n"
      ]
     },
     "metadata": {},
     "output_type": "display_data"
    },
    {
     "data": {
      "text/html": [
       "<pre style=\"white-space:pre;overflow-x:auto;line-height:normal;font-family:Menlo,'DejaVu Sans Mono',consolas,'Courier New',monospace\"><span style=\"color: #7fbfbf; text-decoration-color: #7fbfbf\">                    </span><span style=\"color: #000080; text-decoration-color: #000080\">INFO    </span> Got <span style=\"color: #008080; text-decoration-color: #008080; font-weight: bold\">44</span> bouts for FC_220409_BAA1101192_hairpin |     <a href=\"file://C:\\Users\\Federico\\Documents\\GitHub\\pysical_locomotion\\analysis\\ephys\\utils.py\"><span style=\"color: #7f7f7f; text-decoration-color: #7f7f7f\">utils.py</span></a><span style=\"color: #7f7f7f; text-decoration-color: #7f7f7f\">:</span><a href=\"file://C:\\Users\\Federico\\Documents\\GitHub\\pysical_locomotion\\analysis\\ephys\\utils.py#201\"><span style=\"color: #7f7f7f; text-decoration-color: #7f7f7f\">201</span></a>\n",
       "                             false | inbound                                                 \n",
       "</pre>\n"
      ],
      "text/plain": [
       "\u001b[2;36m                   \u001b[0m\u001b[2;36m \u001b[0m\u001b[34mINFO    \u001b[0m Got \u001b[1;36m44\u001b[0m bouts for FC_220409_BAA1101192_hairpin |     \u001b]8;id=192378;file://C:\\Users\\Federico\\Documents\\GitHub\\pysical_locomotion\\analysis\\ephys\\utils.py\u001b\\\u001b[2mutils.py\u001b[0m\u001b]8;;\u001b\\\u001b[2m:\u001b[0m\u001b]8;id=474860;file://C:\\Users\\Federico\\Documents\\GitHub\\pysical_locomotion\\analysis\\ephys\\utils.py#201\u001b\\\u001b[2m201\u001b[0m\u001b]8;;\u001b\\\n",
       "                             false | inbound                                                 \n"
      ]
     },
     "metadata": {},
     "output_type": "display_data"
    },
    {
     "data": {
      "text/html": [
       "<pre style=\"white-space:pre;overflow-x:auto;line-height:normal;font-family:Menlo,'DejaVu Sans Mono',consolas,'Courier New',monospace\"><span style=\"color: #7fbfbf; text-decoration-color: #7fbfbf\">[06/07/22 17:22:12] </span><span style=\"color: #000080; text-decoration-color: #000080\">INFO    </span> Got tracking data for FC_220410_BAA1101192_hairpin  <a href=\"file://C:\\Users\\Federico\\Documents\\GitHub\\pysical_locomotion\\analysis\\ephys\\utils.py\"><span style=\"color: #7f7f7f; text-decoration-color: #7f7f7f\">utils.py</span></a><span style=\"color: #7f7f7f; text-decoration-color: #7f7f7f\">:</span><a href=\"file://C:\\Users\\Federico\\Documents\\GitHub\\pysical_locomotion\\analysis\\ephys\\utils.py#163\"><span style=\"color: #7f7f7f; text-decoration-color: #7f7f7f\">163</span></a>\n",
       "</pre>\n"
      ],
      "text/plain": [
       "\u001b[2;36m[06/07/22 17:22:12]\u001b[0m\u001b[2;36m \u001b[0m\u001b[34mINFO    \u001b[0m Got tracking data for FC_220410_BAA1101192_hairpin  \u001b]8;id=612986;file://C:\\Users\\Federico\\Documents\\GitHub\\pysical_locomotion\\analysis\\ephys\\utils.py\u001b\\\u001b[2mutils.py\u001b[0m\u001b]8;;\u001b\\\u001b[2m:\u001b[0m\u001b]8;id=149906;file://C:\\Users\\Federico\\Documents\\GitHub\\pysical_locomotion\\analysis\\ephys\\utils.py#163\u001b\\\u001b[2m163\u001b[0m\u001b]8;;\u001b\\\n"
      ]
     },
     "metadata": {},
     "output_type": "display_data"
    },
    {
     "data": {
      "text/html": [
       "<pre style=\"white-space:pre;overflow-x:auto;line-height:normal;font-family:Menlo,'DejaVu Sans Mono',consolas,'Courier New',monospace\"><span style=\"color: #7fbfbf; text-decoration-color: #7fbfbf\">[06/07/22 17:22:13] </span><span style=\"color: #000080; text-decoration-color: #000080\">INFO    </span> Got <span style=\"color: #008080; text-decoration-color: #008080; font-weight: bold\">40</span> units for FC_220410_BAA1101192_hairpin       <a href=\"file://C:\\Users\\Federico\\Documents\\GitHub\\pysical_locomotion\\analysis\\ephys\\utils.py\"><span style=\"color: #7f7f7f; text-decoration-color: #7f7f7f\">utils.py</span></a><span style=\"color: #7f7f7f; text-decoration-color: #7f7f7f\">:</span><a href=\"file://C:\\Users\\Federico\\Documents\\GitHub\\pysical_locomotion\\analysis\\ephys\\utils.py#177\"><span style=\"color: #7f7f7f; text-decoration-color: #7f7f7f\">177</span></a>\n",
       "</pre>\n"
      ],
      "text/plain": [
       "\u001b[2;36m[06/07/22 17:22:13]\u001b[0m\u001b[2;36m \u001b[0m\u001b[34mINFO    \u001b[0m Got \u001b[1;36m40\u001b[0m units for FC_220410_BAA1101192_hairpin       \u001b]8;id=554887;file://C:\\Users\\Federico\\Documents\\GitHub\\pysical_locomotion\\analysis\\ephys\\utils.py\u001b\\\u001b[2mutils.py\u001b[0m\u001b]8;;\u001b\\\u001b[2m:\u001b[0m\u001b]8;id=9367;file://C:\\Users\\Federico\\Documents\\GitHub\\pysical_locomotion\\analysis\\ephys\\utils.py#177\u001b\\\u001b[2m177\u001b[0m\u001b]8;;\u001b\\\n"
      ]
     },
     "metadata": {},
     "output_type": "display_data"
    },
    {
     "data": {
      "text/html": [
       "<pre style=\"white-space:pre;overflow-x:auto;line-height:normal;font-family:Menlo,'DejaVu Sans Mono',consolas,'Courier New',monospace\"><span style=\"color: #7fbfbf; text-decoration-color: #7fbfbf\">                    </span><span style=\"color: #000080; text-decoration-color: #000080\">INFO    </span> Got <span style=\"color: #008080; text-decoration-color: #008080; font-weight: bold\">27</span> bouts for FC_220410_BAA1101192_hairpin |     <a href=\"file://C:\\Users\\Federico\\Documents\\GitHub\\pysical_locomotion\\analysis\\ephys\\utils.py\"><span style=\"color: #7f7f7f; text-decoration-color: #7f7f7f\">utils.py</span></a><span style=\"color: #7f7f7f; text-decoration-color: #7f7f7f\">:</span><a href=\"file://C:\\Users\\Federico\\Documents\\GitHub\\pysical_locomotion\\analysis\\ephys\\utils.py#201\"><span style=\"color: #7f7f7f; text-decoration-color: #7f7f7f\">201</span></a>\n",
       "                             true | outbound                                                 \n",
       "</pre>\n"
      ],
      "text/plain": [
       "\u001b[2;36m                   \u001b[0m\u001b[2;36m \u001b[0m\u001b[34mINFO    \u001b[0m Got \u001b[1;36m27\u001b[0m bouts for FC_220410_BAA1101192_hairpin |     \u001b]8;id=357827;file://C:\\Users\\Federico\\Documents\\GitHub\\pysical_locomotion\\analysis\\ephys\\utils.py\u001b\\\u001b[2mutils.py\u001b[0m\u001b]8;;\u001b\\\u001b[2m:\u001b[0m\u001b]8;id=86776;file://C:\\Users\\Federico\\Documents\\GitHub\\pysical_locomotion\\analysis\\ephys\\utils.py#201\u001b\\\u001b[2m201\u001b[0m\u001b]8;;\u001b\\\n",
       "                             true | outbound                                                 \n"
      ]
     },
     "metadata": {},
     "output_type": "display_data"
    },
    {
     "data": {
      "text/html": [
       "<pre style=\"white-space:pre;overflow-x:auto;line-height:normal;font-family:Menlo,'DejaVu Sans Mono',consolas,'Courier New',monospace\"><span style=\"color: #7fbfbf; text-decoration-color: #7fbfbf\">[06/07/22 17:22:14] </span><span style=\"color: #000080; text-decoration-color: #000080\">INFO    </span> Got <span style=\"color: #008080; text-decoration-color: #008080; font-weight: bold\">28</span> bouts for FC_220410_BAA1101192_hairpin |     <a href=\"file://C:\\Users\\Federico\\Documents\\GitHub\\pysical_locomotion\\analysis\\ephys\\utils.py\"><span style=\"color: #7f7f7f; text-decoration-color: #7f7f7f\">utils.py</span></a><span style=\"color: #7f7f7f; text-decoration-color: #7f7f7f\">:</span><a href=\"file://C:\\Users\\Federico\\Documents\\GitHub\\pysical_locomotion\\analysis\\ephys\\utils.py#201\"><span style=\"color: #7f7f7f; text-decoration-color: #7f7f7f\">201</span></a>\n",
       "                             true | inbound                                                  \n",
       "</pre>\n"
      ],
      "text/plain": [
       "\u001b[2;36m[06/07/22 17:22:14]\u001b[0m\u001b[2;36m \u001b[0m\u001b[34mINFO    \u001b[0m Got \u001b[1;36m28\u001b[0m bouts for FC_220410_BAA1101192_hairpin |     \u001b]8;id=614075;file://C:\\Users\\Federico\\Documents\\GitHub\\pysical_locomotion\\analysis\\ephys\\utils.py\u001b\\\u001b[2mutils.py\u001b[0m\u001b]8;;\u001b\\\u001b[2m:\u001b[0m\u001b]8;id=516790;file://C:\\Users\\Federico\\Documents\\GitHub\\pysical_locomotion\\analysis\\ephys\\utils.py#201\u001b\\\u001b[2m201\u001b[0m\u001b]8;;\u001b\\\n",
       "                             true | inbound                                                  \n"
      ]
     },
     "metadata": {},
     "output_type": "display_data"
    },
    {
     "data": {
      "text/html": [
       "<pre style=\"white-space:pre;overflow-x:auto;line-height:normal;font-family:Menlo,'DejaVu Sans Mono',consolas,'Courier New',monospace\"><span style=\"color: #7fbfbf; text-decoration-color: #7fbfbf\">                    </span><span style=\"color: #000080; text-decoration-color: #000080\">INFO    </span> Got <span style=\"color: #008080; text-decoration-color: #008080; font-weight: bold\">49</span> bouts for FC_220410_BAA1101192_hairpin |     <a href=\"file://C:\\Users\\Federico\\Documents\\GitHub\\pysical_locomotion\\analysis\\ephys\\utils.py\"><span style=\"color: #7f7f7f; text-decoration-color: #7f7f7f\">utils.py</span></a><span style=\"color: #7f7f7f; text-decoration-color: #7f7f7f\">:</span><a href=\"file://C:\\Users\\Federico\\Documents\\GitHub\\pysical_locomotion\\analysis\\ephys\\utils.py#201\"><span style=\"color: #7f7f7f; text-decoration-color: #7f7f7f\">201</span></a>\n",
       "                             false | outbound                                                \n",
       "</pre>\n"
      ],
      "text/plain": [
       "\u001b[2;36m                   \u001b[0m\u001b[2;36m \u001b[0m\u001b[34mINFO    \u001b[0m Got \u001b[1;36m49\u001b[0m bouts for FC_220410_BAA1101192_hairpin |     \u001b]8;id=77113;file://C:\\Users\\Federico\\Documents\\GitHub\\pysical_locomotion\\analysis\\ephys\\utils.py\u001b\\\u001b[2mutils.py\u001b[0m\u001b]8;;\u001b\\\u001b[2m:\u001b[0m\u001b]8;id=470579;file://C:\\Users\\Federico\\Documents\\GitHub\\pysical_locomotion\\analysis\\ephys\\utils.py#201\u001b\\\u001b[2m201\u001b[0m\u001b]8;;\u001b\\\n",
       "                             false | outbound                                                \n"
      ]
     },
     "metadata": {},
     "output_type": "display_data"
    },
    {
     "data": {
      "text/html": [
       "<pre style=\"white-space:pre;overflow-x:auto;line-height:normal;font-family:Menlo,'DejaVu Sans Mono',consolas,'Courier New',monospace\"><span style=\"color: #7fbfbf; text-decoration-color: #7fbfbf\">[06/07/22 17:22:15] </span><span style=\"color: #000080; text-decoration-color: #000080\">INFO    </span> Got <span style=\"color: #008080; text-decoration-color: #008080; font-weight: bold\">37</span> bouts for FC_220410_BAA1101192_hairpin |     <a href=\"file://C:\\Users\\Federico\\Documents\\GitHub\\pysical_locomotion\\analysis\\ephys\\utils.py\"><span style=\"color: #7f7f7f; text-decoration-color: #7f7f7f\">utils.py</span></a><span style=\"color: #7f7f7f; text-decoration-color: #7f7f7f\">:</span><a href=\"file://C:\\Users\\Federico\\Documents\\GitHub\\pysical_locomotion\\analysis\\ephys\\utils.py#201\"><span style=\"color: #7f7f7f; text-decoration-color: #7f7f7f\">201</span></a>\n",
       "                             false | inbound                                                 \n",
       "</pre>\n"
      ],
      "text/plain": [
       "\u001b[2;36m[06/07/22 17:22:15]\u001b[0m\u001b[2;36m \u001b[0m\u001b[34mINFO    \u001b[0m Got \u001b[1;36m37\u001b[0m bouts for FC_220410_BAA1101192_hairpin |     \u001b]8;id=666630;file://C:\\Users\\Federico\\Documents\\GitHub\\pysical_locomotion\\analysis\\ephys\\utils.py\u001b\\\u001b[2mutils.py\u001b[0m\u001b]8;;\u001b\\\u001b[2m:\u001b[0m\u001b]8;id=487210;file://C:\\Users\\Federico\\Documents\\GitHub\\pysical_locomotion\\analysis\\ephys\\utils.py#201\u001b\\\u001b[2m201\u001b[0m\u001b]8;;\u001b\\\n",
       "                             false | inbound                                                 \n"
      ]
     },
     "metadata": {},
     "output_type": "display_data"
    },
    {
     "data": {
      "text/html": [
       "<pre style=\"white-space:pre;overflow-x:auto;line-height:normal;font-family:Menlo,'DejaVu Sans Mono',consolas,'Courier New',monospace\"><span style=\"color: #7fbfbf; text-decoration-color: #7fbfbf\">                    </span><span style=\"color: #800000; text-decoration-color: #800000\">WARNING </span> No tracking data for FC_220411_BAA1101192_hairpin   <a href=\"file://C:\\Users\\Federico\\Documents\\GitHub\\pysical_locomotion\\analysis\\ephys\\utils.py\"><span style=\"color: #7f7f7f; text-decoration-color: #7f7f7f\">utils.py</span></a><span style=\"color: #7f7f7f; text-decoration-color: #7f7f7f\">:</span><a href=\"file://C:\\Users\\Federico\\Documents\\GitHub\\pysical_locomotion\\analysis\\ephys\\utils.py#154\"><span style=\"color: #7f7f7f; text-decoration-color: #7f7f7f\">154</span></a>\n",
       "</pre>\n"
      ],
      "text/plain": [
       "\u001b[2;36m                   \u001b[0m\u001b[2;36m \u001b[0m\u001b[31mWARNING \u001b[0m No tracking data for FC_220411_BAA1101192_hairpin   \u001b]8;id=344996;file://C:\\Users\\Federico\\Documents\\GitHub\\pysical_locomotion\\analysis\\ephys\\utils.py\u001b\\\u001b[2mutils.py\u001b[0m\u001b]8;;\u001b\\\u001b[2m:\u001b[0m\u001b]8;id=352478;file://C:\\Users\\Federico\\Documents\\GitHub\\pysical_locomotion\\analysis\\ephys\\utils.py#154\u001b\\\u001b[2m154\u001b[0m\u001b]8;;\u001b\\\n"
      ]
     },
     "metadata": {},
     "output_type": "display_data"
    },
    {
     "data": {
      "text/html": [
       "<pre style=\"white-space:pre;overflow-x:auto;line-height:normal;font-family:Menlo,'DejaVu Sans Mono',consolas,'Courier New',monospace\"><span style=\"color: #7fbfbf; text-decoration-color: #7fbfbf\">[06/07/22 17:22:17] </span><span style=\"color: #000080; text-decoration-color: #000080\">INFO    </span> Got tracking data for FC_220412_BAA1101192_hairpin  <a href=\"file://C:\\Users\\Federico\\Documents\\GitHub\\pysical_locomotion\\analysis\\ephys\\utils.py\"><span style=\"color: #7f7f7f; text-decoration-color: #7f7f7f\">utils.py</span></a><span style=\"color: #7f7f7f; text-decoration-color: #7f7f7f\">:</span><a href=\"file://C:\\Users\\Federico\\Documents\\GitHub\\pysical_locomotion\\analysis\\ephys\\utils.py#163\"><span style=\"color: #7f7f7f; text-decoration-color: #7f7f7f\">163</span></a>\n",
       "</pre>\n"
      ],
      "text/plain": [
       "\u001b[2;36m[06/07/22 17:22:17]\u001b[0m\u001b[2;36m \u001b[0m\u001b[34mINFO    \u001b[0m Got tracking data for FC_220412_BAA1101192_hairpin  \u001b]8;id=926250;file://C:\\Users\\Federico\\Documents\\GitHub\\pysical_locomotion\\analysis\\ephys\\utils.py\u001b\\\u001b[2mutils.py\u001b[0m\u001b]8;;\u001b\\\u001b[2m:\u001b[0m\u001b]8;id=330321;file://C:\\Users\\Federico\\Documents\\GitHub\\pysical_locomotion\\analysis\\ephys\\utils.py#163\u001b\\\u001b[2m163\u001b[0m\u001b]8;;\u001b\\\n"
      ]
     },
     "metadata": {},
     "output_type": "display_data"
    },
    {
     "data": {
      "text/html": [
       "<pre style=\"white-space:pre;overflow-x:auto;line-height:normal;font-family:Menlo,'DejaVu Sans Mono',consolas,'Courier New',monospace\"><span style=\"color: #7fbfbf; text-decoration-color: #7fbfbf\">[06/07/22 17:22:18] </span><span style=\"color: #000080; text-decoration-color: #000080\">INFO    </span> Got <span style=\"color: #008080; text-decoration-color: #008080; font-weight: bold\">42</span> units for FC_220412_BAA1101192_hairpin       <a href=\"file://C:\\Users\\Federico\\Documents\\GitHub\\pysical_locomotion\\analysis\\ephys\\utils.py\"><span style=\"color: #7f7f7f; text-decoration-color: #7f7f7f\">utils.py</span></a><span style=\"color: #7f7f7f; text-decoration-color: #7f7f7f\">:</span><a href=\"file://C:\\Users\\Federico\\Documents\\GitHub\\pysical_locomotion\\analysis\\ephys\\utils.py#177\"><span style=\"color: #7f7f7f; text-decoration-color: #7f7f7f\">177</span></a>\n",
       "</pre>\n"
      ],
      "text/plain": [
       "\u001b[2;36m[06/07/22 17:22:18]\u001b[0m\u001b[2;36m \u001b[0m\u001b[34mINFO    \u001b[0m Got \u001b[1;36m42\u001b[0m units for FC_220412_BAA1101192_hairpin       \u001b]8;id=17132;file://C:\\Users\\Federico\\Documents\\GitHub\\pysical_locomotion\\analysis\\ephys\\utils.py\u001b\\\u001b[2mutils.py\u001b[0m\u001b]8;;\u001b\\\u001b[2m:\u001b[0m\u001b]8;id=454907;file://C:\\Users\\Federico\\Documents\\GitHub\\pysical_locomotion\\analysis\\ephys\\utils.py#177\u001b\\\u001b[2m177\u001b[0m\u001b]8;;\u001b\\\n"
      ]
     },
     "metadata": {},
     "output_type": "display_data"
    },
    {
     "data": {
      "text/html": [
       "<pre style=\"white-space:pre;overflow-x:auto;line-height:normal;font-family:Menlo,'DejaVu Sans Mono',consolas,'Courier New',monospace\"><span style=\"color: #7fbfbf; text-decoration-color: #7fbfbf\">                    </span><span style=\"color: #000080; text-decoration-color: #000080\">INFO    </span> Got <span style=\"color: #008080; text-decoration-color: #008080; font-weight: bold\">0</span> bouts for FC_220412_BAA1101192_hairpin | true <a href=\"file://C:\\Users\\Federico\\Documents\\GitHub\\pysical_locomotion\\analysis\\ephys\\utils.py\"><span style=\"color: #7f7f7f; text-decoration-color: #7f7f7f\">utils.py</span></a><span style=\"color: #7f7f7f; text-decoration-color: #7f7f7f\">:</span><a href=\"file://C:\\Users\\Federico\\Documents\\GitHub\\pysical_locomotion\\analysis\\ephys\\utils.py#201\"><span style=\"color: #7f7f7f; text-decoration-color: #7f7f7f\">201</span></a>\n",
       "                             | outbound                                                      \n",
       "</pre>\n"
      ],
      "text/plain": [
       "\u001b[2;36m                   \u001b[0m\u001b[2;36m \u001b[0m\u001b[34mINFO    \u001b[0m Got \u001b[1;36m0\u001b[0m bouts for FC_220412_BAA1101192_hairpin | true \u001b]8;id=65885;file://C:\\Users\\Federico\\Documents\\GitHub\\pysical_locomotion\\analysis\\ephys\\utils.py\u001b\\\u001b[2mutils.py\u001b[0m\u001b]8;;\u001b\\\u001b[2m:\u001b[0m\u001b]8;id=737408;file://C:\\Users\\Federico\\Documents\\GitHub\\pysical_locomotion\\analysis\\ephys\\utils.py#201\u001b\\\u001b[2m201\u001b[0m\u001b]8;;\u001b\\\n",
       "                             | outbound                                                      \n"
      ]
     },
     "metadata": {},
     "output_type": "display_data"
    },
    {
     "data": {
      "text/html": [
       "<pre style=\"white-space:pre;overflow-x:auto;line-height:normal;font-family:Menlo,'DejaVu Sans Mono',consolas,'Courier New',monospace\"><span style=\"color: #7fbfbf; text-decoration-color: #7fbfbf\">                    </span><span style=\"color: #000080; text-decoration-color: #000080\">INFO    </span> Got <span style=\"color: #008080; text-decoration-color: #008080; font-weight: bold\">0</span> bouts for FC_220412_BAA1101192_hairpin | true <a href=\"file://C:\\Users\\Federico\\Documents\\GitHub\\pysical_locomotion\\analysis\\ephys\\utils.py\"><span style=\"color: #7f7f7f; text-decoration-color: #7f7f7f\">utils.py</span></a><span style=\"color: #7f7f7f; text-decoration-color: #7f7f7f\">:</span><a href=\"file://C:\\Users\\Federico\\Documents\\GitHub\\pysical_locomotion\\analysis\\ephys\\utils.py#201\"><span style=\"color: #7f7f7f; text-decoration-color: #7f7f7f\">201</span></a>\n",
       "                             | inbound                                                       \n",
       "</pre>\n"
      ],
      "text/plain": [
       "\u001b[2;36m                   \u001b[0m\u001b[2;36m \u001b[0m\u001b[34mINFO    \u001b[0m Got \u001b[1;36m0\u001b[0m bouts for FC_220412_BAA1101192_hairpin | true \u001b]8;id=489637;file://C:\\Users\\Federico\\Documents\\GitHub\\pysical_locomotion\\analysis\\ephys\\utils.py\u001b\\\u001b[2mutils.py\u001b[0m\u001b]8;;\u001b\\\u001b[2m:\u001b[0m\u001b]8;id=474822;file://C:\\Users\\Federico\\Documents\\GitHub\\pysical_locomotion\\analysis\\ephys\\utils.py#201\u001b\\\u001b[2m201\u001b[0m\u001b]8;;\u001b\\\n",
       "                             | inbound                                                       \n"
      ]
     },
     "metadata": {},
     "output_type": "display_data"
    },
    {
     "data": {
      "text/html": [
       "<pre style=\"white-space:pre;overflow-x:auto;line-height:normal;font-family:Menlo,'DejaVu Sans Mono',consolas,'Courier New',monospace\"><span style=\"color: #7fbfbf; text-decoration-color: #7fbfbf\">                    </span><span style=\"color: #000080; text-decoration-color: #000080\">INFO    </span> Got <span style=\"color: #008080; text-decoration-color: #008080; font-weight: bold\">0</span> bouts for FC_220412_BAA1101192_hairpin |      <a href=\"file://C:\\Users\\Federico\\Documents\\GitHub\\pysical_locomotion\\analysis\\ephys\\utils.py\"><span style=\"color: #7f7f7f; text-decoration-color: #7f7f7f\">utils.py</span></a><span style=\"color: #7f7f7f; text-decoration-color: #7f7f7f\">:</span><a href=\"file://C:\\Users\\Federico\\Documents\\GitHub\\pysical_locomotion\\analysis\\ephys\\utils.py#201\"><span style=\"color: #7f7f7f; text-decoration-color: #7f7f7f\">201</span></a>\n",
       "                             false | outbound                                                \n",
       "</pre>\n"
      ],
      "text/plain": [
       "\u001b[2;36m                   \u001b[0m\u001b[2;36m \u001b[0m\u001b[34mINFO    \u001b[0m Got \u001b[1;36m0\u001b[0m bouts for FC_220412_BAA1101192_hairpin |      \u001b]8;id=952332;file://C:\\Users\\Federico\\Documents\\GitHub\\pysical_locomotion\\analysis\\ephys\\utils.py\u001b\\\u001b[2mutils.py\u001b[0m\u001b]8;;\u001b\\\u001b[2m:\u001b[0m\u001b]8;id=125296;file://C:\\Users\\Federico\\Documents\\GitHub\\pysical_locomotion\\analysis\\ephys\\utils.py#201\u001b\\\u001b[2m201\u001b[0m\u001b]8;;\u001b\\\n",
       "                             false | outbound                                                \n"
      ]
     },
     "metadata": {},
     "output_type": "display_data"
    },
    {
     "data": {
      "text/html": [
       "<pre style=\"white-space:pre;overflow-x:auto;line-height:normal;font-family:Menlo,'DejaVu Sans Mono',consolas,'Courier New',monospace\"><span style=\"color: #7fbfbf; text-decoration-color: #7fbfbf\">                    </span><span style=\"color: #000080; text-decoration-color: #000080\">INFO    </span> Got <span style=\"color: #008080; text-decoration-color: #008080; font-weight: bold\">0</span> bouts for FC_220412_BAA1101192_hairpin |      <a href=\"file://C:\\Users\\Federico\\Documents\\GitHub\\pysical_locomotion\\analysis\\ephys\\utils.py\"><span style=\"color: #7f7f7f; text-decoration-color: #7f7f7f\">utils.py</span></a><span style=\"color: #7f7f7f; text-decoration-color: #7f7f7f\">:</span><a href=\"file://C:\\Users\\Federico\\Documents\\GitHub\\pysical_locomotion\\analysis\\ephys\\utils.py#201\"><span style=\"color: #7f7f7f; text-decoration-color: #7f7f7f\">201</span></a>\n",
       "                             false | inbound                                                 \n",
       "</pre>\n"
      ],
      "text/plain": [
       "\u001b[2;36m                   \u001b[0m\u001b[2;36m \u001b[0m\u001b[34mINFO    \u001b[0m Got \u001b[1;36m0\u001b[0m bouts for FC_220412_BAA1101192_hairpin |      \u001b]8;id=583502;file://C:\\Users\\Federico\\Documents\\GitHub\\pysical_locomotion\\analysis\\ephys\\utils.py\u001b\\\u001b[2mutils.py\u001b[0m\u001b]8;;\u001b\\\u001b[2m:\u001b[0m\u001b]8;id=877909;file://C:\\Users\\Federico\\Documents\\GitHub\\pysical_locomotion\\analysis\\ephys\\utils.py#201\u001b\\\u001b[2m201\u001b[0m\u001b]8;;\u001b\\\n",
       "                             false | inbound                                                 \n"
      ]
     },
     "metadata": {},
     "output_type": "display_data"
    },
    {
     "data": {
      "text/html": [
       "<pre style=\"white-space:pre;overflow-x:auto;line-height:normal;font-family:Menlo,'DejaVu Sans Mono',consolas,'Courier New',monospace\"><span style=\"color: #7fbfbf; text-decoration-color: #7fbfbf\">[06/07/22 17:22:21] </span><span style=\"color: #000080; text-decoration-color: #000080\">INFO    </span> Got tracking data for FC_220413_BAA1101192_hairpin  <a href=\"file://C:\\Users\\Federico\\Documents\\GitHub\\pysical_locomotion\\analysis\\ephys\\utils.py\"><span style=\"color: #7f7f7f; text-decoration-color: #7f7f7f\">utils.py</span></a><span style=\"color: #7f7f7f; text-decoration-color: #7f7f7f\">:</span><a href=\"file://C:\\Users\\Federico\\Documents\\GitHub\\pysical_locomotion\\analysis\\ephys\\utils.py#163\"><span style=\"color: #7f7f7f; text-decoration-color: #7f7f7f\">163</span></a>\n",
       "</pre>\n"
      ],
      "text/plain": [
       "\u001b[2;36m[06/07/22 17:22:21]\u001b[0m\u001b[2;36m \u001b[0m\u001b[34mINFO    \u001b[0m Got tracking data for FC_220413_BAA1101192_hairpin  \u001b]8;id=693837;file://C:\\Users\\Federico\\Documents\\GitHub\\pysical_locomotion\\analysis\\ephys\\utils.py\u001b\\\u001b[2mutils.py\u001b[0m\u001b]8;;\u001b\\\u001b[2m:\u001b[0m\u001b]8;id=721146;file://C:\\Users\\Federico\\Documents\\GitHub\\pysical_locomotion\\analysis\\ephys\\utils.py#163\u001b\\\u001b[2m163\u001b[0m\u001b]8;;\u001b\\\n"
      ]
     },
     "metadata": {},
     "output_type": "display_data"
    },
    {
     "data": {
      "text/html": [
       "<pre style=\"white-space:pre;overflow-x:auto;line-height:normal;font-family:Menlo,'DejaVu Sans Mono',consolas,'Courier New',monospace\"><span style=\"color: #7fbfbf; text-decoration-color: #7fbfbf\">[06/07/22 17:22:23] </span><span style=\"color: #000080; text-decoration-color: #000080\">INFO    </span> Got <span style=\"color: #008080; text-decoration-color: #008080; font-weight: bold\">55</span> units for FC_220413_BAA1101192_hairpin       <a href=\"file://C:\\Users\\Federico\\Documents\\GitHub\\pysical_locomotion\\analysis\\ephys\\utils.py\"><span style=\"color: #7f7f7f; text-decoration-color: #7f7f7f\">utils.py</span></a><span style=\"color: #7f7f7f; text-decoration-color: #7f7f7f\">:</span><a href=\"file://C:\\Users\\Federico\\Documents\\GitHub\\pysical_locomotion\\analysis\\ephys\\utils.py#177\"><span style=\"color: #7f7f7f; text-decoration-color: #7f7f7f\">177</span></a>\n",
       "</pre>\n"
      ],
      "text/plain": [
       "\u001b[2;36m[06/07/22 17:22:23]\u001b[0m\u001b[2;36m \u001b[0m\u001b[34mINFO    \u001b[0m Got \u001b[1;36m55\u001b[0m units for FC_220413_BAA1101192_hairpin       \u001b]8;id=338834;file://C:\\Users\\Federico\\Documents\\GitHub\\pysical_locomotion\\analysis\\ephys\\utils.py\u001b\\\u001b[2mutils.py\u001b[0m\u001b]8;;\u001b\\\u001b[2m:\u001b[0m\u001b]8;id=664741;file://C:\\Users\\Federico\\Documents\\GitHub\\pysical_locomotion\\analysis\\ephys\\utils.py#177\u001b\\\u001b[2m177\u001b[0m\u001b]8;;\u001b\\\n"
      ]
     },
     "metadata": {},
     "output_type": "display_data"
    },
    {
     "data": {
      "text/html": [
       "<pre style=\"white-space:pre;overflow-x:auto;line-height:normal;font-family:Menlo,'DejaVu Sans Mono',consolas,'Courier New',monospace\"><span style=\"color: #7fbfbf; text-decoration-color: #7fbfbf\">                    </span><span style=\"color: #000080; text-decoration-color: #000080\">INFO    </span> Got <span style=\"color: #008080; text-decoration-color: #008080; font-weight: bold\">0</span> bouts for FC_220413_BAA1101192_hairpin | true <a href=\"file://C:\\Users\\Federico\\Documents\\GitHub\\pysical_locomotion\\analysis\\ephys\\utils.py\"><span style=\"color: #7f7f7f; text-decoration-color: #7f7f7f\">utils.py</span></a><span style=\"color: #7f7f7f; text-decoration-color: #7f7f7f\">:</span><a href=\"file://C:\\Users\\Federico\\Documents\\GitHub\\pysical_locomotion\\analysis\\ephys\\utils.py#201\"><span style=\"color: #7f7f7f; text-decoration-color: #7f7f7f\">201</span></a>\n",
       "                             | outbound                                                      \n",
       "</pre>\n"
      ],
      "text/plain": [
       "\u001b[2;36m                   \u001b[0m\u001b[2;36m \u001b[0m\u001b[34mINFO    \u001b[0m Got \u001b[1;36m0\u001b[0m bouts for FC_220413_BAA1101192_hairpin | true \u001b]8;id=331942;file://C:\\Users\\Federico\\Documents\\GitHub\\pysical_locomotion\\analysis\\ephys\\utils.py\u001b\\\u001b[2mutils.py\u001b[0m\u001b]8;;\u001b\\\u001b[2m:\u001b[0m\u001b]8;id=99253;file://C:\\Users\\Federico\\Documents\\GitHub\\pysical_locomotion\\analysis\\ephys\\utils.py#201\u001b\\\u001b[2m201\u001b[0m\u001b]8;;\u001b\\\n",
       "                             | outbound                                                      \n"
      ]
     },
     "metadata": {},
     "output_type": "display_data"
    },
    {
     "data": {
      "text/html": [
       "<pre style=\"white-space:pre;overflow-x:auto;line-height:normal;font-family:Menlo,'DejaVu Sans Mono',consolas,'Courier New',monospace\"><span style=\"color: #7fbfbf; text-decoration-color: #7fbfbf\">                    </span><span style=\"color: #000080; text-decoration-color: #000080\">INFO    </span> Got <span style=\"color: #008080; text-decoration-color: #008080; font-weight: bold\">0</span> bouts for FC_220413_BAA1101192_hairpin | true <a href=\"file://C:\\Users\\Federico\\Documents\\GitHub\\pysical_locomotion\\analysis\\ephys\\utils.py\"><span style=\"color: #7f7f7f; text-decoration-color: #7f7f7f\">utils.py</span></a><span style=\"color: #7f7f7f; text-decoration-color: #7f7f7f\">:</span><a href=\"file://C:\\Users\\Federico\\Documents\\GitHub\\pysical_locomotion\\analysis\\ephys\\utils.py#201\"><span style=\"color: #7f7f7f; text-decoration-color: #7f7f7f\">201</span></a>\n",
       "                             | inbound                                                       \n",
       "</pre>\n"
      ],
      "text/plain": [
       "\u001b[2;36m                   \u001b[0m\u001b[2;36m \u001b[0m\u001b[34mINFO    \u001b[0m Got \u001b[1;36m0\u001b[0m bouts for FC_220413_BAA1101192_hairpin | true \u001b]8;id=60725;file://C:\\Users\\Federico\\Documents\\GitHub\\pysical_locomotion\\analysis\\ephys\\utils.py\u001b\\\u001b[2mutils.py\u001b[0m\u001b]8;;\u001b\\\u001b[2m:\u001b[0m\u001b]8;id=163574;file://C:\\Users\\Federico\\Documents\\GitHub\\pysical_locomotion\\analysis\\ephys\\utils.py#201\u001b\\\u001b[2m201\u001b[0m\u001b]8;;\u001b\\\n",
       "                             | inbound                                                       \n"
      ]
     },
     "metadata": {},
     "output_type": "display_data"
    },
    {
     "data": {
      "text/html": [
       "<pre style=\"white-space:pre;overflow-x:auto;line-height:normal;font-family:Menlo,'DejaVu Sans Mono',consolas,'Courier New',monospace\"><span style=\"color: #7fbfbf; text-decoration-color: #7fbfbf\">                    </span><span style=\"color: #000080; text-decoration-color: #000080\">INFO    </span> Got <span style=\"color: #008080; text-decoration-color: #008080; font-weight: bold\">0</span> bouts for FC_220413_BAA1101192_hairpin |      <a href=\"file://C:\\Users\\Federico\\Documents\\GitHub\\pysical_locomotion\\analysis\\ephys\\utils.py\"><span style=\"color: #7f7f7f; text-decoration-color: #7f7f7f\">utils.py</span></a><span style=\"color: #7f7f7f; text-decoration-color: #7f7f7f\">:</span><a href=\"file://C:\\Users\\Federico\\Documents\\GitHub\\pysical_locomotion\\analysis\\ephys\\utils.py#201\"><span style=\"color: #7f7f7f; text-decoration-color: #7f7f7f\">201</span></a>\n",
       "                             false | outbound                                                \n",
       "</pre>\n"
      ],
      "text/plain": [
       "\u001b[2;36m                   \u001b[0m\u001b[2;36m \u001b[0m\u001b[34mINFO    \u001b[0m Got \u001b[1;36m0\u001b[0m bouts for FC_220413_BAA1101192_hairpin |      \u001b]8;id=256295;file://C:\\Users\\Federico\\Documents\\GitHub\\pysical_locomotion\\analysis\\ephys\\utils.py\u001b\\\u001b[2mutils.py\u001b[0m\u001b]8;;\u001b\\\u001b[2m:\u001b[0m\u001b]8;id=265054;file://C:\\Users\\Federico\\Documents\\GitHub\\pysical_locomotion\\analysis\\ephys\\utils.py#201\u001b\\\u001b[2m201\u001b[0m\u001b]8;;\u001b\\\n",
       "                             false | outbound                                                \n"
      ]
     },
     "metadata": {},
     "output_type": "display_data"
    },
    {
     "data": {
      "text/html": [
       "<pre style=\"white-space:pre;overflow-x:auto;line-height:normal;font-family:Menlo,'DejaVu Sans Mono',consolas,'Courier New',monospace\"><span style=\"color: #7fbfbf; text-decoration-color: #7fbfbf\">                    </span><span style=\"color: #000080; text-decoration-color: #000080\">INFO    </span> Got <span style=\"color: #008080; text-decoration-color: #008080; font-weight: bold\">0</span> bouts for FC_220413_BAA1101192_hairpin |      <a href=\"file://C:\\Users\\Federico\\Documents\\GitHub\\pysical_locomotion\\analysis\\ephys\\utils.py\"><span style=\"color: #7f7f7f; text-decoration-color: #7f7f7f\">utils.py</span></a><span style=\"color: #7f7f7f; text-decoration-color: #7f7f7f\">:</span><a href=\"file://C:\\Users\\Federico\\Documents\\GitHub\\pysical_locomotion\\analysis\\ephys\\utils.py#201\"><span style=\"color: #7f7f7f; text-decoration-color: #7f7f7f\">201</span></a>\n",
       "                             false | inbound                                                 \n",
       "</pre>\n"
      ],
      "text/plain": [
       "\u001b[2;36m                   \u001b[0m\u001b[2;36m \u001b[0m\u001b[34mINFO    \u001b[0m Got \u001b[1;36m0\u001b[0m bouts for FC_220413_BAA1101192_hairpin |      \u001b]8;id=249910;file://C:\\Users\\Federico\\Documents\\GitHub\\pysical_locomotion\\analysis\\ephys\\utils.py\u001b\\\u001b[2mutils.py\u001b[0m\u001b]8;;\u001b\\\u001b[2m:\u001b[0m\u001b]8;id=526101;file://C:\\Users\\Federico\\Documents\\GitHub\\pysical_locomotion\\analysis\\ephys\\utils.py#201\u001b\\\u001b[2m201\u001b[0m\u001b]8;;\u001b\\\n",
       "                             false | inbound                                                 \n"
      ]
     },
     "metadata": {},
     "output_type": "display_data"
    },
    {
     "data": {
      "text/html": [
       "<pre style=\"white-space:pre;overflow-x:auto;line-height:normal;font-family:Menlo,'DejaVu Sans Mono',consolas,'Courier New',monospace\"><span style=\"color: #7fbfbf; text-decoration-color: #7fbfbf\">[06/07/22 17:22:25] </span><span style=\"color: #000080; text-decoration-color: #000080\">INFO    </span> Got tracking data for FC_220414_BAA1101192_hairpin  <a href=\"file://C:\\Users\\Federico\\Documents\\GitHub\\pysical_locomotion\\analysis\\ephys\\utils.py\"><span style=\"color: #7f7f7f; text-decoration-color: #7f7f7f\">utils.py</span></a><span style=\"color: #7f7f7f; text-decoration-color: #7f7f7f\">:</span><a href=\"file://C:\\Users\\Federico\\Documents\\GitHub\\pysical_locomotion\\analysis\\ephys\\utils.py#163\"><span style=\"color: #7f7f7f; text-decoration-color: #7f7f7f\">163</span></a>\n",
       "</pre>\n"
      ],
      "text/plain": [
       "\u001b[2;36m[06/07/22 17:22:25]\u001b[0m\u001b[2;36m \u001b[0m\u001b[34mINFO    \u001b[0m Got tracking data for FC_220414_BAA1101192_hairpin  \u001b]8;id=53823;file://C:\\Users\\Federico\\Documents\\GitHub\\pysical_locomotion\\analysis\\ephys\\utils.py\u001b\\\u001b[2mutils.py\u001b[0m\u001b]8;;\u001b\\\u001b[2m:\u001b[0m\u001b]8;id=811793;file://C:\\Users\\Federico\\Documents\\GitHub\\pysical_locomotion\\analysis\\ephys\\utils.py#163\u001b\\\u001b[2m163\u001b[0m\u001b]8;;\u001b\\\n"
      ]
     },
     "metadata": {},
     "output_type": "display_data"
    },
    {
     "data": {
      "text/html": [
       "<pre style=\"white-space:pre;overflow-x:auto;line-height:normal;font-family:Menlo,'DejaVu Sans Mono',consolas,'Courier New',monospace\"><span style=\"color: #7fbfbf; text-decoration-color: #7fbfbf\">[06/07/22 17:22:26] </span><span style=\"color: #000080; text-decoration-color: #000080\">INFO    </span> Got <span style=\"color: #008080; text-decoration-color: #008080; font-weight: bold\">56</span> units for FC_220414_BAA1101192_hairpin       <a href=\"file://C:\\Users\\Federico\\Documents\\GitHub\\pysical_locomotion\\analysis\\ephys\\utils.py\"><span style=\"color: #7f7f7f; text-decoration-color: #7f7f7f\">utils.py</span></a><span style=\"color: #7f7f7f; text-decoration-color: #7f7f7f\">:</span><a href=\"file://C:\\Users\\Federico\\Documents\\GitHub\\pysical_locomotion\\analysis\\ephys\\utils.py#177\"><span style=\"color: #7f7f7f; text-decoration-color: #7f7f7f\">177</span></a>\n",
       "</pre>\n"
      ],
      "text/plain": [
       "\u001b[2;36m[06/07/22 17:22:26]\u001b[0m\u001b[2;36m \u001b[0m\u001b[34mINFO    \u001b[0m Got \u001b[1;36m56\u001b[0m units for FC_220414_BAA1101192_hairpin       \u001b]8;id=370821;file://C:\\Users\\Federico\\Documents\\GitHub\\pysical_locomotion\\analysis\\ephys\\utils.py\u001b\\\u001b[2mutils.py\u001b[0m\u001b]8;;\u001b\\\u001b[2m:\u001b[0m\u001b]8;id=570748;file://C:\\Users\\Federico\\Documents\\GitHub\\pysical_locomotion\\analysis\\ephys\\utils.py#177\u001b\\\u001b[2m177\u001b[0m\u001b]8;;\u001b\\\n"
      ]
     },
     "metadata": {},
     "output_type": "display_data"
    },
    {
     "data": {
      "text/html": [
       "<pre style=\"white-space:pre;overflow-x:auto;line-height:normal;font-family:Menlo,'DejaVu Sans Mono',consolas,'Courier New',monospace\"><span style=\"color: #7fbfbf; text-decoration-color: #7fbfbf\">                    </span><span style=\"color: #000080; text-decoration-color: #000080\">INFO    </span> Got <span style=\"color: #008080; text-decoration-color: #008080; font-weight: bold\">0</span> bouts for FC_220414_BAA1101192_hairpin | true <a href=\"file://C:\\Users\\Federico\\Documents\\GitHub\\pysical_locomotion\\analysis\\ephys\\utils.py\"><span style=\"color: #7f7f7f; text-decoration-color: #7f7f7f\">utils.py</span></a><span style=\"color: #7f7f7f; text-decoration-color: #7f7f7f\">:</span><a href=\"file://C:\\Users\\Federico\\Documents\\GitHub\\pysical_locomotion\\analysis\\ephys\\utils.py#201\"><span style=\"color: #7f7f7f; text-decoration-color: #7f7f7f\">201</span></a>\n",
       "                             | outbound                                                      \n",
       "</pre>\n"
      ],
      "text/plain": [
       "\u001b[2;36m                   \u001b[0m\u001b[2;36m \u001b[0m\u001b[34mINFO    \u001b[0m Got \u001b[1;36m0\u001b[0m bouts for FC_220414_BAA1101192_hairpin | true \u001b]8;id=381272;file://C:\\Users\\Federico\\Documents\\GitHub\\pysical_locomotion\\analysis\\ephys\\utils.py\u001b\\\u001b[2mutils.py\u001b[0m\u001b]8;;\u001b\\\u001b[2m:\u001b[0m\u001b]8;id=216553;file://C:\\Users\\Federico\\Documents\\GitHub\\pysical_locomotion\\analysis\\ephys\\utils.py#201\u001b\\\u001b[2m201\u001b[0m\u001b]8;;\u001b\\\n",
       "                             | outbound                                                      \n"
      ]
     },
     "metadata": {},
     "output_type": "display_data"
    },
    {
     "data": {
      "text/html": [
       "<pre style=\"white-space:pre;overflow-x:auto;line-height:normal;font-family:Menlo,'DejaVu Sans Mono',consolas,'Courier New',monospace\"><span style=\"color: #7fbfbf; text-decoration-color: #7fbfbf\">                    </span><span style=\"color: #000080; text-decoration-color: #000080\">INFO    </span> Got <span style=\"color: #008080; text-decoration-color: #008080; font-weight: bold\">0</span> bouts for FC_220414_BAA1101192_hairpin | true <a href=\"file://C:\\Users\\Federico\\Documents\\GitHub\\pysical_locomotion\\analysis\\ephys\\utils.py\"><span style=\"color: #7f7f7f; text-decoration-color: #7f7f7f\">utils.py</span></a><span style=\"color: #7f7f7f; text-decoration-color: #7f7f7f\">:</span><a href=\"file://C:\\Users\\Federico\\Documents\\GitHub\\pysical_locomotion\\analysis\\ephys\\utils.py#201\"><span style=\"color: #7f7f7f; text-decoration-color: #7f7f7f\">201</span></a>\n",
       "                             | inbound                                                       \n",
       "</pre>\n"
      ],
      "text/plain": [
       "\u001b[2;36m                   \u001b[0m\u001b[2;36m \u001b[0m\u001b[34mINFO    \u001b[0m Got \u001b[1;36m0\u001b[0m bouts for FC_220414_BAA1101192_hairpin | true \u001b]8;id=200268;file://C:\\Users\\Federico\\Documents\\GitHub\\pysical_locomotion\\analysis\\ephys\\utils.py\u001b\\\u001b[2mutils.py\u001b[0m\u001b]8;;\u001b\\\u001b[2m:\u001b[0m\u001b]8;id=241225;file://C:\\Users\\Federico\\Documents\\GitHub\\pysical_locomotion\\analysis\\ephys\\utils.py#201\u001b\\\u001b[2m201\u001b[0m\u001b]8;;\u001b\\\n",
       "                             | inbound                                                       \n"
      ]
     },
     "metadata": {},
     "output_type": "display_data"
    },
    {
     "data": {
      "text/html": [
       "<pre style=\"white-space:pre;overflow-x:auto;line-height:normal;font-family:Menlo,'DejaVu Sans Mono',consolas,'Courier New',monospace\"><span style=\"color: #7fbfbf; text-decoration-color: #7fbfbf\">                    </span><span style=\"color: #000080; text-decoration-color: #000080\">INFO    </span> Got <span style=\"color: #008080; text-decoration-color: #008080; font-weight: bold\">0</span> bouts for FC_220414_BAA1101192_hairpin |      <a href=\"file://C:\\Users\\Federico\\Documents\\GitHub\\pysical_locomotion\\analysis\\ephys\\utils.py\"><span style=\"color: #7f7f7f; text-decoration-color: #7f7f7f\">utils.py</span></a><span style=\"color: #7f7f7f; text-decoration-color: #7f7f7f\">:</span><a href=\"file://C:\\Users\\Federico\\Documents\\GitHub\\pysical_locomotion\\analysis\\ephys\\utils.py#201\"><span style=\"color: #7f7f7f; text-decoration-color: #7f7f7f\">201</span></a>\n",
       "                             false | outbound                                                \n",
       "</pre>\n"
      ],
      "text/plain": [
       "\u001b[2;36m                   \u001b[0m\u001b[2;36m \u001b[0m\u001b[34mINFO    \u001b[0m Got \u001b[1;36m0\u001b[0m bouts for FC_220414_BAA1101192_hairpin |      \u001b]8;id=719954;file://C:\\Users\\Federico\\Documents\\GitHub\\pysical_locomotion\\analysis\\ephys\\utils.py\u001b\\\u001b[2mutils.py\u001b[0m\u001b]8;;\u001b\\\u001b[2m:\u001b[0m\u001b]8;id=731334;file://C:\\Users\\Federico\\Documents\\GitHub\\pysical_locomotion\\analysis\\ephys\\utils.py#201\u001b\\\u001b[2m201\u001b[0m\u001b]8;;\u001b\\\n",
       "                             false | outbound                                                \n"
      ]
     },
     "metadata": {},
     "output_type": "display_data"
    },
    {
     "data": {
      "text/html": [
       "<pre style=\"white-space:pre;overflow-x:auto;line-height:normal;font-family:Menlo,'DejaVu Sans Mono',consolas,'Courier New',monospace\"><span style=\"color: #7fbfbf; text-decoration-color: #7fbfbf\">[06/07/22 17:22:27] </span><span style=\"color: #000080; text-decoration-color: #000080\">INFO    </span> Got <span style=\"color: #008080; text-decoration-color: #008080; font-weight: bold\">0</span> bouts for FC_220414_BAA1101192_hairpin |      <a href=\"file://C:\\Users\\Federico\\Documents\\GitHub\\pysical_locomotion\\analysis\\ephys\\utils.py\"><span style=\"color: #7f7f7f; text-decoration-color: #7f7f7f\">utils.py</span></a><span style=\"color: #7f7f7f; text-decoration-color: #7f7f7f\">:</span><a href=\"file://C:\\Users\\Federico\\Documents\\GitHub\\pysical_locomotion\\analysis\\ephys\\utils.py#201\"><span style=\"color: #7f7f7f; text-decoration-color: #7f7f7f\">201</span></a>\n",
       "                             false | inbound                                                 \n",
       "</pre>\n"
      ],
      "text/plain": [
       "\u001b[2;36m[06/07/22 17:22:27]\u001b[0m\u001b[2;36m \u001b[0m\u001b[34mINFO    \u001b[0m Got \u001b[1;36m0\u001b[0m bouts for FC_220414_BAA1101192_hairpin |      \u001b]8;id=508575;file://C:\\Users\\Federico\\Documents\\GitHub\\pysical_locomotion\\analysis\\ephys\\utils.py\u001b\\\u001b[2mutils.py\u001b[0m\u001b]8;;\u001b\\\u001b[2m:\u001b[0m\u001b]8;id=488460;file://C:\\Users\\Federico\\Documents\\GitHub\\pysical_locomotion\\analysis\\ephys\\utils.py#201\u001b\\\u001b[2m201\u001b[0m\u001b]8;;\u001b\\\n",
       "                             false | inbound                                                 \n"
      ]
     },
     "metadata": {},
     "output_type": "display_data"
    },
    {
     "data": {
      "text/html": [
       "<pre style=\"white-space:pre;overflow-x:auto;line-height:normal;font-family:Menlo,'DejaVu Sans Mono',consolas,'Courier New',monospace\"><span style=\"color: #7fbfbf; text-decoration-color: #7fbfbf\">[06/07/22 17:22:30] </span><span style=\"color: #000080; text-decoration-color: #000080\">INFO    </span> Got tracking data for FC_220415_BAA1101192_hairpin  <a href=\"file://C:\\Users\\Federico\\Documents\\GitHub\\pysical_locomotion\\analysis\\ephys\\utils.py\"><span style=\"color: #7f7f7f; text-decoration-color: #7f7f7f\">utils.py</span></a><span style=\"color: #7f7f7f; text-decoration-color: #7f7f7f\">:</span><a href=\"file://C:\\Users\\Federico\\Documents\\GitHub\\pysical_locomotion\\analysis\\ephys\\utils.py#163\"><span style=\"color: #7f7f7f; text-decoration-color: #7f7f7f\">163</span></a>\n",
       "</pre>\n"
      ],
      "text/plain": [
       "\u001b[2;36m[06/07/22 17:22:30]\u001b[0m\u001b[2;36m \u001b[0m\u001b[34mINFO    \u001b[0m Got tracking data for FC_220415_BAA1101192_hairpin  \u001b]8;id=951621;file://C:\\Users\\Federico\\Documents\\GitHub\\pysical_locomotion\\analysis\\ephys\\utils.py\u001b\\\u001b[2mutils.py\u001b[0m\u001b]8;;\u001b\\\u001b[2m:\u001b[0m\u001b]8;id=511377;file://C:\\Users\\Federico\\Documents\\GitHub\\pysical_locomotion\\analysis\\ephys\\utils.py#163\u001b\\\u001b[2m163\u001b[0m\u001b]8;;\u001b\\\n"
      ]
     },
     "metadata": {},
     "output_type": "display_data"
    },
    {
     "data": {
      "text/html": [
       "<pre style=\"white-space:pre;overflow-x:auto;line-height:normal;font-family:Menlo,'DejaVu Sans Mono',consolas,'Courier New',monospace\"><span style=\"color: #7fbfbf; text-decoration-color: #7fbfbf\">[06/07/22 17:22:31] </span><span style=\"color: #000080; text-decoration-color: #000080\">INFO    </span> Got <span style=\"color: #008080; text-decoration-color: #008080; font-weight: bold\">52</span> units for FC_220415_BAA1101192_hairpin       <a href=\"file://C:\\Users\\Federico\\Documents\\GitHub\\pysical_locomotion\\analysis\\ephys\\utils.py\"><span style=\"color: #7f7f7f; text-decoration-color: #7f7f7f\">utils.py</span></a><span style=\"color: #7f7f7f; text-decoration-color: #7f7f7f\">:</span><a href=\"file://C:\\Users\\Federico\\Documents\\GitHub\\pysical_locomotion\\analysis\\ephys\\utils.py#177\"><span style=\"color: #7f7f7f; text-decoration-color: #7f7f7f\">177</span></a>\n",
       "</pre>\n"
      ],
      "text/plain": [
       "\u001b[2;36m[06/07/22 17:22:31]\u001b[0m\u001b[2;36m \u001b[0m\u001b[34mINFO    \u001b[0m Got \u001b[1;36m52\u001b[0m units for FC_220415_BAA1101192_hairpin       \u001b]8;id=614698;file://C:\\Users\\Federico\\Documents\\GitHub\\pysical_locomotion\\analysis\\ephys\\utils.py\u001b\\\u001b[2mutils.py\u001b[0m\u001b]8;;\u001b\\\u001b[2m:\u001b[0m\u001b]8;id=910044;file://C:\\Users\\Federico\\Documents\\GitHub\\pysical_locomotion\\analysis\\ephys\\utils.py#177\u001b\\\u001b[2m177\u001b[0m\u001b]8;;\u001b\\\n"
      ]
     },
     "metadata": {},
     "output_type": "display_data"
    },
    {
     "data": {
      "text/html": [
       "<pre style=\"white-space:pre;overflow-x:auto;line-height:normal;font-family:Menlo,'DejaVu Sans Mono',consolas,'Courier New',monospace\"><span style=\"color: #7fbfbf; text-decoration-color: #7fbfbf\">                    </span><span style=\"color: #000080; text-decoration-color: #000080\">INFO    </span> Got <span style=\"color: #008080; text-decoration-color: #008080; font-weight: bold\">0</span> bouts for FC_220415_BAA1101192_hairpin | true <a href=\"file://C:\\Users\\Federico\\Documents\\GitHub\\pysical_locomotion\\analysis\\ephys\\utils.py\"><span style=\"color: #7f7f7f; text-decoration-color: #7f7f7f\">utils.py</span></a><span style=\"color: #7f7f7f; text-decoration-color: #7f7f7f\">:</span><a href=\"file://C:\\Users\\Federico\\Documents\\GitHub\\pysical_locomotion\\analysis\\ephys\\utils.py#201\"><span style=\"color: #7f7f7f; text-decoration-color: #7f7f7f\">201</span></a>\n",
       "                             | outbound                                                      \n",
       "</pre>\n"
      ],
      "text/plain": [
       "\u001b[2;36m                   \u001b[0m\u001b[2;36m \u001b[0m\u001b[34mINFO    \u001b[0m Got \u001b[1;36m0\u001b[0m bouts for FC_220415_BAA1101192_hairpin | true \u001b]8;id=309802;file://C:\\Users\\Federico\\Documents\\GitHub\\pysical_locomotion\\analysis\\ephys\\utils.py\u001b\\\u001b[2mutils.py\u001b[0m\u001b]8;;\u001b\\\u001b[2m:\u001b[0m\u001b]8;id=459944;file://C:\\Users\\Federico\\Documents\\GitHub\\pysical_locomotion\\analysis\\ephys\\utils.py#201\u001b\\\u001b[2m201\u001b[0m\u001b]8;;\u001b\\\n",
       "                             | outbound                                                      \n"
      ]
     },
     "metadata": {},
     "output_type": "display_data"
    },
    {
     "data": {
      "text/html": [
       "<pre style=\"white-space:pre;overflow-x:auto;line-height:normal;font-family:Menlo,'DejaVu Sans Mono',consolas,'Courier New',monospace\"><span style=\"color: #7fbfbf; text-decoration-color: #7fbfbf\">                    </span><span style=\"color: #000080; text-decoration-color: #000080\">INFO    </span> Got <span style=\"color: #008080; text-decoration-color: #008080; font-weight: bold\">0</span> bouts for FC_220415_BAA1101192_hairpin | true <a href=\"file://C:\\Users\\Federico\\Documents\\GitHub\\pysical_locomotion\\analysis\\ephys\\utils.py\"><span style=\"color: #7f7f7f; text-decoration-color: #7f7f7f\">utils.py</span></a><span style=\"color: #7f7f7f; text-decoration-color: #7f7f7f\">:</span><a href=\"file://C:\\Users\\Federico\\Documents\\GitHub\\pysical_locomotion\\analysis\\ephys\\utils.py#201\"><span style=\"color: #7f7f7f; text-decoration-color: #7f7f7f\">201</span></a>\n",
       "                             | inbound                                                       \n",
       "</pre>\n"
      ],
      "text/plain": [
       "\u001b[2;36m                   \u001b[0m\u001b[2;36m \u001b[0m\u001b[34mINFO    \u001b[0m Got \u001b[1;36m0\u001b[0m bouts for FC_220415_BAA1101192_hairpin | true \u001b]8;id=242875;file://C:\\Users\\Federico\\Documents\\GitHub\\pysical_locomotion\\analysis\\ephys\\utils.py\u001b\\\u001b[2mutils.py\u001b[0m\u001b]8;;\u001b\\\u001b[2m:\u001b[0m\u001b]8;id=978149;file://C:\\Users\\Federico\\Documents\\GitHub\\pysical_locomotion\\analysis\\ephys\\utils.py#201\u001b\\\u001b[2m201\u001b[0m\u001b]8;;\u001b\\\n",
       "                             | inbound                                                       \n"
      ]
     },
     "metadata": {},
     "output_type": "display_data"
    },
    {
     "data": {
      "text/html": [
       "<pre style=\"white-space:pre;overflow-x:auto;line-height:normal;font-family:Menlo,'DejaVu Sans Mono',consolas,'Courier New',monospace\"><span style=\"color: #7fbfbf; text-decoration-color: #7fbfbf\">                    </span><span style=\"color: #000080; text-decoration-color: #000080\">INFO    </span> Got <span style=\"color: #008080; text-decoration-color: #008080; font-weight: bold\">0</span> bouts for FC_220415_BAA1101192_hairpin |      <a href=\"file://C:\\Users\\Federico\\Documents\\GitHub\\pysical_locomotion\\analysis\\ephys\\utils.py\"><span style=\"color: #7f7f7f; text-decoration-color: #7f7f7f\">utils.py</span></a><span style=\"color: #7f7f7f; text-decoration-color: #7f7f7f\">:</span><a href=\"file://C:\\Users\\Federico\\Documents\\GitHub\\pysical_locomotion\\analysis\\ephys\\utils.py#201\"><span style=\"color: #7f7f7f; text-decoration-color: #7f7f7f\">201</span></a>\n",
       "                             false | outbound                                                \n",
       "</pre>\n"
      ],
      "text/plain": [
       "\u001b[2;36m                   \u001b[0m\u001b[2;36m \u001b[0m\u001b[34mINFO    \u001b[0m Got \u001b[1;36m0\u001b[0m bouts for FC_220415_BAA1101192_hairpin |      \u001b]8;id=389007;file://C:\\Users\\Federico\\Documents\\GitHub\\pysical_locomotion\\analysis\\ephys\\utils.py\u001b\\\u001b[2mutils.py\u001b[0m\u001b]8;;\u001b\\\u001b[2m:\u001b[0m\u001b]8;id=789866;file://C:\\Users\\Federico\\Documents\\GitHub\\pysical_locomotion\\analysis\\ephys\\utils.py#201\u001b\\\u001b[2m201\u001b[0m\u001b]8;;\u001b\\\n",
       "                             false | outbound                                                \n"
      ]
     },
     "metadata": {},
     "output_type": "display_data"
    },
    {
     "data": {
      "text/html": [
       "<pre style=\"white-space:pre;overflow-x:auto;line-height:normal;font-family:Menlo,'DejaVu Sans Mono',consolas,'Courier New',monospace\"><span style=\"color: #7fbfbf; text-decoration-color: #7fbfbf\">                    </span><span style=\"color: #000080; text-decoration-color: #000080\">INFO    </span> Got <span style=\"color: #008080; text-decoration-color: #008080; font-weight: bold\">0</span> bouts for FC_220415_BAA1101192_hairpin |      <a href=\"file://C:\\Users\\Federico\\Documents\\GitHub\\pysical_locomotion\\analysis\\ephys\\utils.py\"><span style=\"color: #7f7f7f; text-decoration-color: #7f7f7f\">utils.py</span></a><span style=\"color: #7f7f7f; text-decoration-color: #7f7f7f\">:</span><a href=\"file://C:\\Users\\Federico\\Documents\\GitHub\\pysical_locomotion\\analysis\\ephys\\utils.py#201\"><span style=\"color: #7f7f7f; text-decoration-color: #7f7f7f\">201</span></a>\n",
       "                             false | inbound                                                 \n",
       "</pre>\n"
      ],
      "text/plain": [
       "\u001b[2;36m                   \u001b[0m\u001b[2;36m \u001b[0m\u001b[34mINFO    \u001b[0m Got \u001b[1;36m0\u001b[0m bouts for FC_220415_BAA1101192_hairpin |      \u001b]8;id=907055;file://C:\\Users\\Federico\\Documents\\GitHub\\pysical_locomotion\\analysis\\ephys\\utils.py\u001b\\\u001b[2mutils.py\u001b[0m\u001b]8;;\u001b\\\u001b[2m:\u001b[0m\u001b]8;id=570310;file://C:\\Users\\Federico\\Documents\\GitHub\\pysical_locomotion\\analysis\\ephys\\utils.py#201\u001b\\\u001b[2m201\u001b[0m\u001b]8;;\u001b\\\n",
       "                             false | inbound                                                 \n"
      ]
     },
     "metadata": {},
     "output_type": "display_data"
    },
    {
     "data": {
      "text/html": [
       "<pre style=\"white-space:pre;overflow-x:auto;line-height:normal;font-family:Menlo,'DejaVu Sans Mono',consolas,'Courier New',monospace\"><span style=\"color: #7fbfbf; text-decoration-color: #7fbfbf\">[06/07/22 17:22:34] </span><span style=\"color: #000080; text-decoration-color: #000080\">INFO    </span> Got tracking data for FC_220432_BAA1101192_hairpin  <a href=\"file://C:\\Users\\Federico\\Documents\\GitHub\\pysical_locomotion\\analysis\\ephys\\utils.py\"><span style=\"color: #7f7f7f; text-decoration-color: #7f7f7f\">utils.py</span></a><span style=\"color: #7f7f7f; text-decoration-color: #7f7f7f\">:</span><a href=\"file://C:\\Users\\Federico\\Documents\\GitHub\\pysical_locomotion\\analysis\\ephys\\utils.py#163\"><span style=\"color: #7f7f7f; text-decoration-color: #7f7f7f\">163</span></a>\n",
       "</pre>\n"
      ],
      "text/plain": [
       "\u001b[2;36m[06/07/22 17:22:34]\u001b[0m\u001b[2;36m \u001b[0m\u001b[34mINFO    \u001b[0m Got tracking data for FC_220432_BAA1101192_hairpin  \u001b]8;id=74735;file://C:\\Users\\Federico\\Documents\\GitHub\\pysical_locomotion\\analysis\\ephys\\utils.py\u001b\\\u001b[2mutils.py\u001b[0m\u001b]8;;\u001b\\\u001b[2m:\u001b[0m\u001b]8;id=560766;file://C:\\Users\\Federico\\Documents\\GitHub\\pysical_locomotion\\analysis\\ephys\\utils.py#163\u001b\\\u001b[2m163\u001b[0m\u001b]8;;\u001b\\\n"
      ]
     },
     "metadata": {},
     "output_type": "display_data"
    },
    {
     "data": {
      "text/html": [
       "<pre style=\"white-space:pre;overflow-x:auto;line-height:normal;font-family:Menlo,'DejaVu Sans Mono',consolas,'Courier New',monospace\"><span style=\"color: #7fbfbf; text-decoration-color: #7fbfbf\">                    </span><span style=\"color: #000080; text-decoration-color: #000080\">INFO    </span> Got <span style=\"color: #008080; text-decoration-color: #008080; font-weight: bold\">40</span> units for FC_220432_BAA1101192_hairpin       <a href=\"file://C:\\Users\\Federico\\Documents\\GitHub\\pysical_locomotion\\analysis\\ephys\\utils.py\"><span style=\"color: #7f7f7f; text-decoration-color: #7f7f7f\">utils.py</span></a><span style=\"color: #7f7f7f; text-decoration-color: #7f7f7f\">:</span><a href=\"file://C:\\Users\\Federico\\Documents\\GitHub\\pysical_locomotion\\analysis\\ephys\\utils.py#177\"><span style=\"color: #7f7f7f; text-decoration-color: #7f7f7f\">177</span></a>\n",
       "</pre>\n"
      ],
      "text/plain": [
       "\u001b[2;36m                   \u001b[0m\u001b[2;36m \u001b[0m\u001b[34mINFO    \u001b[0m Got \u001b[1;36m40\u001b[0m units for FC_220432_BAA1101192_hairpin       \u001b]8;id=727267;file://C:\\Users\\Federico\\Documents\\GitHub\\pysical_locomotion\\analysis\\ephys\\utils.py\u001b\\\u001b[2mutils.py\u001b[0m\u001b]8;;\u001b\\\u001b[2m:\u001b[0m\u001b]8;id=814380;file://C:\\Users\\Federico\\Documents\\GitHub\\pysical_locomotion\\analysis\\ephys\\utils.py#177\u001b\\\u001b[2m177\u001b[0m\u001b]8;;\u001b\\\n"
      ]
     },
     "metadata": {},
     "output_type": "display_data"
    },
    {
     "data": {
      "text/html": [
       "<pre style=\"white-space:pre;overflow-x:auto;line-height:normal;font-family:Menlo,'DejaVu Sans Mono',consolas,'Courier New',monospace\"><span style=\"color: #7fbfbf; text-decoration-color: #7fbfbf\">[06/07/22 17:22:35] </span><span style=\"color: #000080; text-decoration-color: #000080\">INFO    </span> Got <span style=\"color: #008080; text-decoration-color: #008080; font-weight: bold\">38</span> bouts for FC_220432_BAA1101192_hairpin |     <a href=\"file://C:\\Users\\Federico\\Documents\\GitHub\\pysical_locomotion\\analysis\\ephys\\utils.py\"><span style=\"color: #7f7f7f; text-decoration-color: #7f7f7f\">utils.py</span></a><span style=\"color: #7f7f7f; text-decoration-color: #7f7f7f\">:</span><a href=\"file://C:\\Users\\Federico\\Documents\\GitHub\\pysical_locomotion\\analysis\\ephys\\utils.py#201\"><span style=\"color: #7f7f7f; text-decoration-color: #7f7f7f\">201</span></a>\n",
       "                             true | outbound                                                 \n",
       "</pre>\n"
      ],
      "text/plain": [
       "\u001b[2;36m[06/07/22 17:22:35]\u001b[0m\u001b[2;36m \u001b[0m\u001b[34mINFO    \u001b[0m Got \u001b[1;36m38\u001b[0m bouts for FC_220432_BAA1101192_hairpin |     \u001b]8;id=913239;file://C:\\Users\\Federico\\Documents\\GitHub\\pysical_locomotion\\analysis\\ephys\\utils.py\u001b\\\u001b[2mutils.py\u001b[0m\u001b]8;;\u001b\\\u001b[2m:\u001b[0m\u001b]8;id=311829;file://C:\\Users\\Federico\\Documents\\GitHub\\pysical_locomotion\\analysis\\ephys\\utils.py#201\u001b\\\u001b[2m201\u001b[0m\u001b]8;;\u001b\\\n",
       "                             true | outbound                                                 \n"
      ]
     },
     "metadata": {},
     "output_type": "display_data"
    },
    {
     "data": {
      "text/html": [
       "<pre style=\"white-space:pre;overflow-x:auto;line-height:normal;font-family:Menlo,'DejaVu Sans Mono',consolas,'Courier New',monospace\"><span style=\"color: #7fbfbf; text-decoration-color: #7fbfbf\">[06/07/22 17:22:36] </span><span style=\"color: #000080; text-decoration-color: #000080\">INFO    </span> Got <span style=\"color: #008080; text-decoration-color: #008080; font-weight: bold\">28</span> bouts for FC_220432_BAA1101192_hairpin |     <a href=\"file://C:\\Users\\Federico\\Documents\\GitHub\\pysical_locomotion\\analysis\\ephys\\utils.py\"><span style=\"color: #7f7f7f; text-decoration-color: #7f7f7f\">utils.py</span></a><span style=\"color: #7f7f7f; text-decoration-color: #7f7f7f\">:</span><a href=\"file://C:\\Users\\Federico\\Documents\\GitHub\\pysical_locomotion\\analysis\\ephys\\utils.py#201\"><span style=\"color: #7f7f7f; text-decoration-color: #7f7f7f\">201</span></a>\n",
       "                             true | inbound                                                  \n",
       "</pre>\n"
      ],
      "text/plain": [
       "\u001b[2;36m[06/07/22 17:22:36]\u001b[0m\u001b[2;36m \u001b[0m\u001b[34mINFO    \u001b[0m Got \u001b[1;36m28\u001b[0m bouts for FC_220432_BAA1101192_hairpin |     \u001b]8;id=249119;file://C:\\Users\\Federico\\Documents\\GitHub\\pysical_locomotion\\analysis\\ephys\\utils.py\u001b\\\u001b[2mutils.py\u001b[0m\u001b]8;;\u001b\\\u001b[2m:\u001b[0m\u001b]8;id=469329;file://C:\\Users\\Federico\\Documents\\GitHub\\pysical_locomotion\\analysis\\ephys\\utils.py#201\u001b\\\u001b[2m201\u001b[0m\u001b]8;;\u001b\\\n",
       "                             true | inbound                                                  \n"
      ]
     },
     "metadata": {},
     "output_type": "display_data"
    },
    {
     "data": {
      "text/html": [
       "<pre style=\"white-space:pre;overflow-x:auto;line-height:normal;font-family:Menlo,'DejaVu Sans Mono',consolas,'Courier New',monospace\"><span style=\"color: #7fbfbf; text-decoration-color: #7fbfbf\">                    </span><span style=\"color: #000080; text-decoration-color: #000080\">INFO    </span> Got <span style=\"color: #008080; text-decoration-color: #008080; font-weight: bold\">26</span> bouts for FC_220432_BAA1101192_hairpin |     <a href=\"file://C:\\Users\\Federico\\Documents\\GitHub\\pysical_locomotion\\analysis\\ephys\\utils.py\"><span style=\"color: #7f7f7f; text-decoration-color: #7f7f7f\">utils.py</span></a><span style=\"color: #7f7f7f; text-decoration-color: #7f7f7f\">:</span><a href=\"file://C:\\Users\\Federico\\Documents\\GitHub\\pysical_locomotion\\analysis\\ephys\\utils.py#201\"><span style=\"color: #7f7f7f; text-decoration-color: #7f7f7f\">201</span></a>\n",
       "                             false | outbound                                                \n",
       "</pre>\n"
      ],
      "text/plain": [
       "\u001b[2;36m                   \u001b[0m\u001b[2;36m \u001b[0m\u001b[34mINFO    \u001b[0m Got \u001b[1;36m26\u001b[0m bouts for FC_220432_BAA1101192_hairpin |     \u001b]8;id=258023;file://C:\\Users\\Federico\\Documents\\GitHub\\pysical_locomotion\\analysis\\ephys\\utils.py\u001b\\\u001b[2mutils.py\u001b[0m\u001b]8;;\u001b\\\u001b[2m:\u001b[0m\u001b]8;id=285129;file://C:\\Users\\Federico\\Documents\\GitHub\\pysical_locomotion\\analysis\\ephys\\utils.py#201\u001b\\\u001b[2m201\u001b[0m\u001b]8;;\u001b\\\n",
       "                             false | outbound                                                \n"
      ]
     },
     "metadata": {},
     "output_type": "display_data"
    },
    {
     "data": {
      "text/html": [
       "<pre style=\"white-space:pre;overflow-x:auto;line-height:normal;font-family:Menlo,'DejaVu Sans Mono',consolas,'Courier New',monospace\"><span style=\"color: #7fbfbf; text-decoration-color: #7fbfbf\">                    </span><span style=\"color: #000080; text-decoration-color: #000080\">INFO    </span> Got <span style=\"color: #008080; text-decoration-color: #008080; font-weight: bold\">33</span> bouts for FC_220432_BAA1101192_hairpin |     <a href=\"file://C:\\Users\\Federico\\Documents\\GitHub\\pysical_locomotion\\analysis\\ephys\\utils.py\"><span style=\"color: #7f7f7f; text-decoration-color: #7f7f7f\">utils.py</span></a><span style=\"color: #7f7f7f; text-decoration-color: #7f7f7f\">:</span><a href=\"file://C:\\Users\\Federico\\Documents\\GitHub\\pysical_locomotion\\analysis\\ephys\\utils.py#201\"><span style=\"color: #7f7f7f; text-decoration-color: #7f7f7f\">201</span></a>\n",
       "                             false | inbound                                                 \n",
       "</pre>\n"
      ],
      "text/plain": [
       "\u001b[2;36m                   \u001b[0m\u001b[2;36m \u001b[0m\u001b[34mINFO    \u001b[0m Got \u001b[1;36m33\u001b[0m bouts for FC_220432_BAA1101192_hairpin |     \u001b]8;id=790983;file://C:\\Users\\Federico\\Documents\\GitHub\\pysical_locomotion\\analysis\\ephys\\utils.py\u001b\\\u001b[2mutils.py\u001b[0m\u001b]8;;\u001b\\\u001b[2m:\u001b[0m\u001b]8;id=857042;file://C:\\Users\\Federico\\Documents\\GitHub\\pysical_locomotion\\analysis\\ephys\\utils.py#201\u001b\\\u001b[2m201\u001b[0m\u001b]8;;\u001b\\\n",
       "                             false | inbound                                                 \n"
      ]
     },
     "metadata": {},
     "output_type": "display_data"
    },
    {
     "data": {
      "text/html": [
       "<pre style=\"white-space:pre;overflow-x:auto;line-height:normal;font-family:Menlo,'DejaVu Sans Mono',consolas,'Courier New',monospace\"><span style=\"color: #7fbfbf; text-decoration-color: #7fbfbf\">[06/07/22 17:22:39] </span><span style=\"color: #000080; text-decoration-color: #000080\">INFO    </span> Got tracking data for FC_220433_BAA1101192_hairpin  <a href=\"file://C:\\Users\\Federico\\Documents\\GitHub\\pysical_locomotion\\analysis\\ephys\\utils.py\"><span style=\"color: #7f7f7f; text-decoration-color: #7f7f7f\">utils.py</span></a><span style=\"color: #7f7f7f; text-decoration-color: #7f7f7f\">:</span><a href=\"file://C:\\Users\\Federico\\Documents\\GitHub\\pysical_locomotion\\analysis\\ephys\\utils.py#163\"><span style=\"color: #7f7f7f; text-decoration-color: #7f7f7f\">163</span></a>\n",
       "</pre>\n"
      ],
      "text/plain": [
       "\u001b[2;36m[06/07/22 17:22:39]\u001b[0m\u001b[2;36m \u001b[0m\u001b[34mINFO    \u001b[0m Got tracking data for FC_220433_BAA1101192_hairpin  \u001b]8;id=454351;file://C:\\Users\\Federico\\Documents\\GitHub\\pysical_locomotion\\analysis\\ephys\\utils.py\u001b\\\u001b[2mutils.py\u001b[0m\u001b]8;;\u001b\\\u001b[2m:\u001b[0m\u001b]8;id=855834;file://C:\\Users\\Federico\\Documents\\GitHub\\pysical_locomotion\\analysis\\ephys\\utils.py#163\u001b\\\u001b[2m163\u001b[0m\u001b]8;;\u001b\\\n"
      ]
     },
     "metadata": {},
     "output_type": "display_data"
    },
    {
     "data": {
      "text/html": [
       "<pre style=\"white-space:pre;overflow-x:auto;line-height:normal;font-family:Menlo,'DejaVu Sans Mono',consolas,'Courier New',monospace\"><span style=\"color: #7fbfbf; text-decoration-color: #7fbfbf\">                    </span><span style=\"color: #000080; text-decoration-color: #000080\">INFO    </span> Got <span style=\"color: #008080; text-decoration-color: #008080; font-weight: bold\">47</span> units for FC_220433_BAA1101192_hairpin       <a href=\"file://C:\\Users\\Federico\\Documents\\GitHub\\pysical_locomotion\\analysis\\ephys\\utils.py\"><span style=\"color: #7f7f7f; text-decoration-color: #7f7f7f\">utils.py</span></a><span style=\"color: #7f7f7f; text-decoration-color: #7f7f7f\">:</span><a href=\"file://C:\\Users\\Federico\\Documents\\GitHub\\pysical_locomotion\\analysis\\ephys\\utils.py#177\"><span style=\"color: #7f7f7f; text-decoration-color: #7f7f7f\">177</span></a>\n",
       "</pre>\n"
      ],
      "text/plain": [
       "\u001b[2;36m                   \u001b[0m\u001b[2;36m \u001b[0m\u001b[34mINFO    \u001b[0m Got \u001b[1;36m47\u001b[0m units for FC_220433_BAA1101192_hairpin       \u001b]8;id=876780;file://C:\\Users\\Federico\\Documents\\GitHub\\pysical_locomotion\\analysis\\ephys\\utils.py\u001b\\\u001b[2mutils.py\u001b[0m\u001b]8;;\u001b\\\u001b[2m:\u001b[0m\u001b]8;id=402133;file://C:\\Users\\Federico\\Documents\\GitHub\\pysical_locomotion\\analysis\\ephys\\utils.py#177\u001b\\\u001b[2m177\u001b[0m\u001b]8;;\u001b\\\n"
      ]
     },
     "metadata": {},
     "output_type": "display_data"
    },
    {
     "data": {
      "text/html": [
       "<pre style=\"white-space:pre;overflow-x:auto;line-height:normal;font-family:Menlo,'DejaVu Sans Mono',consolas,'Courier New',monospace\"><span style=\"color: #7fbfbf; text-decoration-color: #7fbfbf\">[06/07/22 17:22:41] </span><span style=\"color: #000080; text-decoration-color: #000080\">INFO    </span> Got <span style=\"color: #008080; text-decoration-color: #008080; font-weight: bold\">57</span> bouts for FC_220433_BAA1101192_hairpin |     <a href=\"file://C:\\Users\\Federico\\Documents\\GitHub\\pysical_locomotion\\analysis\\ephys\\utils.py\"><span style=\"color: #7f7f7f; text-decoration-color: #7f7f7f\">utils.py</span></a><span style=\"color: #7f7f7f; text-decoration-color: #7f7f7f\">:</span><a href=\"file://C:\\Users\\Federico\\Documents\\GitHub\\pysical_locomotion\\analysis\\ephys\\utils.py#201\"><span style=\"color: #7f7f7f; text-decoration-color: #7f7f7f\">201</span></a>\n",
       "                             true | outbound                                                 \n",
       "</pre>\n"
      ],
      "text/plain": [
       "\u001b[2;36m[06/07/22 17:22:41]\u001b[0m\u001b[2;36m \u001b[0m\u001b[34mINFO    \u001b[0m Got \u001b[1;36m57\u001b[0m bouts for FC_220433_BAA1101192_hairpin |     \u001b]8;id=243908;file://C:\\Users\\Federico\\Documents\\GitHub\\pysical_locomotion\\analysis\\ephys\\utils.py\u001b\\\u001b[2mutils.py\u001b[0m\u001b]8;;\u001b\\\u001b[2m:\u001b[0m\u001b]8;id=899535;file://C:\\Users\\Federico\\Documents\\GitHub\\pysical_locomotion\\analysis\\ephys\\utils.py#201\u001b\\\u001b[2m201\u001b[0m\u001b]8;;\u001b\\\n",
       "                             true | outbound                                                 \n"
      ]
     },
     "metadata": {},
     "output_type": "display_data"
    },
    {
     "data": {
      "text/html": [
       "<pre style=\"white-space:pre;overflow-x:auto;line-height:normal;font-family:Menlo,'DejaVu Sans Mono',consolas,'Courier New',monospace\"><span style=\"color: #7fbfbf; text-decoration-color: #7fbfbf\">[06/07/22 17:22:42] </span><span style=\"color: #000080; text-decoration-color: #000080\">INFO    </span> Got <span style=\"color: #008080; text-decoration-color: #008080; font-weight: bold\">46</span> bouts for FC_220433_BAA1101192_hairpin |     <a href=\"file://C:\\Users\\Federico\\Documents\\GitHub\\pysical_locomotion\\analysis\\ephys\\utils.py\"><span style=\"color: #7f7f7f; text-decoration-color: #7f7f7f\">utils.py</span></a><span style=\"color: #7f7f7f; text-decoration-color: #7f7f7f\">:</span><a href=\"file://C:\\Users\\Federico\\Documents\\GitHub\\pysical_locomotion\\analysis\\ephys\\utils.py#201\"><span style=\"color: #7f7f7f; text-decoration-color: #7f7f7f\">201</span></a>\n",
       "                             true | inbound                                                  \n",
       "</pre>\n"
      ],
      "text/plain": [
       "\u001b[2;36m[06/07/22 17:22:42]\u001b[0m\u001b[2;36m \u001b[0m\u001b[34mINFO    \u001b[0m Got \u001b[1;36m46\u001b[0m bouts for FC_220433_BAA1101192_hairpin |     \u001b]8;id=798728;file://C:\\Users\\Federico\\Documents\\GitHub\\pysical_locomotion\\analysis\\ephys\\utils.py\u001b\\\u001b[2mutils.py\u001b[0m\u001b]8;;\u001b\\\u001b[2m:\u001b[0m\u001b]8;id=797894;file://C:\\Users\\Federico\\Documents\\GitHub\\pysical_locomotion\\analysis\\ephys\\utils.py#201\u001b\\\u001b[2m201\u001b[0m\u001b]8;;\u001b\\\n",
       "                             true | inbound                                                  \n"
      ]
     },
     "metadata": {},
     "output_type": "display_data"
    },
    {
     "data": {
      "text/html": [
       "<pre style=\"white-space:pre;overflow-x:auto;line-height:normal;font-family:Menlo,'DejaVu Sans Mono',consolas,'Courier New',monospace\"><span style=\"color: #7fbfbf; text-decoration-color: #7fbfbf\">[06/07/22 17:22:43] </span><span style=\"color: #000080; text-decoration-color: #000080\">INFO    </span> Got <span style=\"color: #008080; text-decoration-color: #008080; font-weight: bold\">53</span> bouts for FC_220433_BAA1101192_hairpin |     <a href=\"file://C:\\Users\\Federico\\Documents\\GitHub\\pysical_locomotion\\analysis\\ephys\\utils.py\"><span style=\"color: #7f7f7f; text-decoration-color: #7f7f7f\">utils.py</span></a><span style=\"color: #7f7f7f; text-decoration-color: #7f7f7f\">:</span><a href=\"file://C:\\Users\\Federico\\Documents\\GitHub\\pysical_locomotion\\analysis\\ephys\\utils.py#201\"><span style=\"color: #7f7f7f; text-decoration-color: #7f7f7f\">201</span></a>\n",
       "                             false | outbound                                                \n",
       "</pre>\n"
      ],
      "text/plain": [
       "\u001b[2;36m[06/07/22 17:22:43]\u001b[0m\u001b[2;36m \u001b[0m\u001b[34mINFO    \u001b[0m Got \u001b[1;36m53\u001b[0m bouts for FC_220433_BAA1101192_hairpin |     \u001b]8;id=718539;file://C:\\Users\\Federico\\Documents\\GitHub\\pysical_locomotion\\analysis\\ephys\\utils.py\u001b\\\u001b[2mutils.py\u001b[0m\u001b]8;;\u001b\\\u001b[2m:\u001b[0m\u001b]8;id=499296;file://C:\\Users\\Federico\\Documents\\GitHub\\pysical_locomotion\\analysis\\ephys\\utils.py#201\u001b\\\u001b[2m201\u001b[0m\u001b]8;;\u001b\\\n",
       "                             false | outbound                                                \n"
      ]
     },
     "metadata": {},
     "output_type": "display_data"
    },
    {
     "data": {
      "text/html": [
       "<pre style=\"white-space:pre;overflow-x:auto;line-height:normal;font-family:Menlo,'DejaVu Sans Mono',consolas,'Courier New',monospace\"><span style=\"color: #7fbfbf; text-decoration-color: #7fbfbf\">[06/07/22 17:22:45] </span><span style=\"color: #000080; text-decoration-color: #000080\">INFO    </span> Got <span style=\"color: #008080; text-decoration-color: #008080; font-weight: bold\">74</span> bouts for FC_220433_BAA1101192_hairpin |     <a href=\"file://C:\\Users\\Federico\\Documents\\GitHub\\pysical_locomotion\\analysis\\ephys\\utils.py\"><span style=\"color: #7f7f7f; text-decoration-color: #7f7f7f\">utils.py</span></a><span style=\"color: #7f7f7f; text-decoration-color: #7f7f7f\">:</span><a href=\"file://C:\\Users\\Federico\\Documents\\GitHub\\pysical_locomotion\\analysis\\ephys\\utils.py#201\"><span style=\"color: #7f7f7f; text-decoration-color: #7f7f7f\">201</span></a>\n",
       "                             false | inbound                                                 \n",
       "</pre>\n"
      ],
      "text/plain": [
       "\u001b[2;36m[06/07/22 17:22:45]\u001b[0m\u001b[2;36m \u001b[0m\u001b[34mINFO    \u001b[0m Got \u001b[1;36m74\u001b[0m bouts for FC_220433_BAA1101192_hairpin |     \u001b]8;id=491861;file://C:\\Users\\Federico\\Documents\\GitHub\\pysical_locomotion\\analysis\\ephys\\utils.py\u001b\\\u001b[2mutils.py\u001b[0m\u001b]8;;\u001b\\\u001b[2m:\u001b[0m\u001b]8;id=783454;file://C:\\Users\\Federico\\Documents\\GitHub\\pysical_locomotion\\analysis\\ephys\\utils.py#201\u001b\\\u001b[2m201\u001b[0m\u001b]8;;\u001b\\\n",
       "                             false | inbound                                                 \n"
      ]
     },
     "metadata": {},
     "output_type": "display_data"
    },
    {
     "data": {
      "text/html": [
       "<pre style=\"white-space:pre;overflow-x:auto;line-height:normal;font-family:Menlo,'DejaVu Sans Mono',consolas,'Courier New',monospace\"><span style=\"color: #7fbfbf; text-decoration-color: #7fbfbf\">[06/07/22 17:25:48] </span><span style=\"color: #000080; text-decoration-color: #000080\">INFO    </span> Got tracking data for FC_220434_BAA1101192_hairpin  <a href=\"file://C:\\Users\\Federico\\Documents\\GitHub\\pysical_locomotion\\analysis\\ephys\\utils.py\"><span style=\"color: #7f7f7f; text-decoration-color: #7f7f7f\">utils.py</span></a><span style=\"color: #7f7f7f; text-decoration-color: #7f7f7f\">:</span><a href=\"file://C:\\Users\\Federico\\Documents\\GitHub\\pysical_locomotion\\analysis\\ephys\\utils.py#163\"><span style=\"color: #7f7f7f; text-decoration-color: #7f7f7f\">163</span></a>\n",
       "</pre>\n"
      ],
      "text/plain": [
       "\u001b[2;36m[06/07/22 17:25:48]\u001b[0m\u001b[2;36m \u001b[0m\u001b[34mINFO    \u001b[0m Got tracking data for FC_220434_BAA1101192_hairpin  \u001b]8;id=377850;file://C:\\Users\\Federico\\Documents\\GitHub\\pysical_locomotion\\analysis\\ephys\\utils.py\u001b\\\u001b[2mutils.py\u001b[0m\u001b]8;;\u001b\\\u001b[2m:\u001b[0m\u001b]8;id=615327;file://C:\\Users\\Federico\\Documents\\GitHub\\pysical_locomotion\\analysis\\ephys\\utils.py#163\u001b\\\u001b[2m163\u001b[0m\u001b]8;;\u001b\\\n"
      ]
     },
     "metadata": {},
     "output_type": "display_data"
    },
    {
     "data": {
      "text/html": [
       "<pre style=\"white-space:pre;overflow-x:auto;line-height:normal;font-family:Menlo,'DejaVu Sans Mono',consolas,'Courier New',monospace\"><span style=\"color: #7fbfbf; text-decoration-color: #7fbfbf\">[06/07/22 17:25:50] </span><span style=\"color: #000080; text-decoration-color: #000080\">INFO    </span> Got <span style=\"color: #008080; text-decoration-color: #008080; font-weight: bold\">74</span> units for FC_220434_BAA1101192_hairpin       <a href=\"file://C:\\Users\\Federico\\Documents\\GitHub\\pysical_locomotion\\analysis\\ephys\\utils.py\"><span style=\"color: #7f7f7f; text-decoration-color: #7f7f7f\">utils.py</span></a><span style=\"color: #7f7f7f; text-decoration-color: #7f7f7f\">:</span><a href=\"file://C:\\Users\\Federico\\Documents\\GitHub\\pysical_locomotion\\analysis\\ephys\\utils.py#177\"><span style=\"color: #7f7f7f; text-decoration-color: #7f7f7f\">177</span></a>\n",
       "</pre>\n"
      ],
      "text/plain": [
       "\u001b[2;36m[06/07/22 17:25:50]\u001b[0m\u001b[2;36m \u001b[0m\u001b[34mINFO    \u001b[0m Got \u001b[1;36m74\u001b[0m units for FC_220434_BAA1101192_hairpin       \u001b]8;id=117455;file://C:\\Users\\Federico\\Documents\\GitHub\\pysical_locomotion\\analysis\\ephys\\utils.py\u001b\\\u001b[2mutils.py\u001b[0m\u001b]8;;\u001b\\\u001b[2m:\u001b[0m\u001b]8;id=317314;file://C:\\Users\\Federico\\Documents\\GitHub\\pysical_locomotion\\analysis\\ephys\\utils.py#177\u001b\\\u001b[2m177\u001b[0m\u001b]8;;\u001b\\\n"
      ]
     },
     "metadata": {},
     "output_type": "display_data"
    },
    {
     "data": {
      "text/html": [
       "<pre style=\"white-space:pre;overflow-x:auto;line-height:normal;font-family:Menlo,'DejaVu Sans Mono',consolas,'Courier New',monospace\"><span style=\"color: #7fbfbf; text-decoration-color: #7fbfbf\">[06/07/22 17:25:52] </span><span style=\"color: #000080; text-decoration-color: #000080\">INFO    </span> Got <span style=\"color: #008080; text-decoration-color: #008080; font-weight: bold\">53</span> bouts for FC_220434_BAA1101192_hairpin |     <a href=\"file://C:\\Users\\Federico\\Documents\\GitHub\\pysical_locomotion\\analysis\\ephys\\utils.py\"><span style=\"color: #7f7f7f; text-decoration-color: #7f7f7f\">utils.py</span></a><span style=\"color: #7f7f7f; text-decoration-color: #7f7f7f\">:</span><a href=\"file://C:\\Users\\Federico\\Documents\\GitHub\\pysical_locomotion\\analysis\\ephys\\utils.py#201\"><span style=\"color: #7f7f7f; text-decoration-color: #7f7f7f\">201</span></a>\n",
       "                             true | outbound                                                 \n",
       "</pre>\n"
      ],
      "text/plain": [
       "\u001b[2;36m[06/07/22 17:25:52]\u001b[0m\u001b[2;36m \u001b[0m\u001b[34mINFO    \u001b[0m Got \u001b[1;36m53\u001b[0m bouts for FC_220434_BAA1101192_hairpin |     \u001b]8;id=855702;file://C:\\Users\\Federico\\Documents\\GitHub\\pysical_locomotion\\analysis\\ephys\\utils.py\u001b\\\u001b[2mutils.py\u001b[0m\u001b]8;;\u001b\\\u001b[2m:\u001b[0m\u001b]8;id=524369;file://C:\\Users\\Federico\\Documents\\GitHub\\pysical_locomotion\\analysis\\ephys\\utils.py#201\u001b\\\u001b[2m201\u001b[0m\u001b]8;;\u001b\\\n",
       "                             true | outbound                                                 \n"
      ]
     },
     "metadata": {},
     "output_type": "display_data"
    },
    {
     "data": {
      "text/html": [
       "<pre style=\"white-space:pre;overflow-x:auto;line-height:normal;font-family:Menlo,'DejaVu Sans Mono',consolas,'Courier New',monospace\"><span style=\"color: #7fbfbf; text-decoration-color: #7fbfbf\">[06/07/22 17:25:53] </span><span style=\"color: #000080; text-decoration-color: #000080\">INFO    </span> Got <span style=\"color: #008080; text-decoration-color: #008080; font-weight: bold\">47</span> bouts for FC_220434_BAA1101192_hairpin |     <a href=\"file://C:\\Users\\Federico\\Documents\\GitHub\\pysical_locomotion\\analysis\\ephys\\utils.py\"><span style=\"color: #7f7f7f; text-decoration-color: #7f7f7f\">utils.py</span></a><span style=\"color: #7f7f7f; text-decoration-color: #7f7f7f\">:</span><a href=\"file://C:\\Users\\Federico\\Documents\\GitHub\\pysical_locomotion\\analysis\\ephys\\utils.py#201\"><span style=\"color: #7f7f7f; text-decoration-color: #7f7f7f\">201</span></a>\n",
       "                             true | inbound                                                  \n",
       "</pre>\n"
      ],
      "text/plain": [
       "\u001b[2;36m[06/07/22 17:25:53]\u001b[0m\u001b[2;36m \u001b[0m\u001b[34mINFO    \u001b[0m Got \u001b[1;36m47\u001b[0m bouts for FC_220434_BAA1101192_hairpin |     \u001b]8;id=300;file://C:\\Users\\Federico\\Documents\\GitHub\\pysical_locomotion\\analysis\\ephys\\utils.py\u001b\\\u001b[2mutils.py\u001b[0m\u001b]8;;\u001b\\\u001b[2m:\u001b[0m\u001b]8;id=877717;file://C:\\Users\\Federico\\Documents\\GitHub\\pysical_locomotion\\analysis\\ephys\\utils.py#201\u001b\\\u001b[2m201\u001b[0m\u001b]8;;\u001b\\\n",
       "                             true | inbound                                                  \n"
      ]
     },
     "metadata": {},
     "output_type": "display_data"
    },
    {
     "data": {
      "text/html": [
       "<pre style=\"white-space:pre;overflow-x:auto;line-height:normal;font-family:Menlo,'DejaVu Sans Mono',consolas,'Courier New',monospace\"><span style=\"color: #7fbfbf; text-decoration-color: #7fbfbf\">[06/07/22 17:25:54] </span><span style=\"color: #000080; text-decoration-color: #000080\">INFO    </span> Got <span style=\"color: #008080; text-decoration-color: #008080; font-weight: bold\">34</span> bouts for FC_220434_BAA1101192_hairpin |     <a href=\"file://C:\\Users\\Federico\\Documents\\GitHub\\pysical_locomotion\\analysis\\ephys\\utils.py\"><span style=\"color: #7f7f7f; text-decoration-color: #7f7f7f\">utils.py</span></a><span style=\"color: #7f7f7f; text-decoration-color: #7f7f7f\">:</span><a href=\"file://C:\\Users\\Federico\\Documents\\GitHub\\pysical_locomotion\\analysis\\ephys\\utils.py#201\"><span style=\"color: #7f7f7f; text-decoration-color: #7f7f7f\">201</span></a>\n",
       "                             false | outbound                                                \n",
       "</pre>\n"
      ],
      "text/plain": [
       "\u001b[2;36m[06/07/22 17:25:54]\u001b[0m\u001b[2;36m \u001b[0m\u001b[34mINFO    \u001b[0m Got \u001b[1;36m34\u001b[0m bouts for FC_220434_BAA1101192_hairpin |     \u001b]8;id=392938;file://C:\\Users\\Federico\\Documents\\GitHub\\pysical_locomotion\\analysis\\ephys\\utils.py\u001b\\\u001b[2mutils.py\u001b[0m\u001b]8;;\u001b\\\u001b[2m:\u001b[0m\u001b]8;id=622764;file://C:\\Users\\Federico\\Documents\\GitHub\\pysical_locomotion\\analysis\\ephys\\utils.py#201\u001b\\\u001b[2m201\u001b[0m\u001b]8;;\u001b\\\n",
       "                             false | outbound                                                \n"
      ]
     },
     "metadata": {},
     "output_type": "display_data"
    },
    {
     "data": {
      "text/html": [
       "<pre style=\"white-space:pre;overflow-x:auto;line-height:normal;font-family:Menlo,'DejaVu Sans Mono',consolas,'Courier New',monospace\"><span style=\"color: #7fbfbf; text-decoration-color: #7fbfbf\">[06/07/22 17:25:55] </span><span style=\"color: #000080; text-decoration-color: #000080\">INFO    </span> Got <span style=\"color: #008080; text-decoration-color: #008080; font-weight: bold\">42</span> bouts for FC_220434_BAA1101192_hairpin |     <a href=\"file://C:\\Users\\Federico\\Documents\\GitHub\\pysical_locomotion\\analysis\\ephys\\utils.py\"><span style=\"color: #7f7f7f; text-decoration-color: #7f7f7f\">utils.py</span></a><span style=\"color: #7f7f7f; text-decoration-color: #7f7f7f\">:</span><a href=\"file://C:\\Users\\Federico\\Documents\\GitHub\\pysical_locomotion\\analysis\\ephys\\utils.py#201\"><span style=\"color: #7f7f7f; text-decoration-color: #7f7f7f\">201</span></a>\n",
       "                             false | inbound                                                 \n",
       "</pre>\n"
      ],
      "text/plain": [
       "\u001b[2;36m[06/07/22 17:25:55]\u001b[0m\u001b[2;36m \u001b[0m\u001b[34mINFO    \u001b[0m Got \u001b[1;36m42\u001b[0m bouts for FC_220434_BAA1101192_hairpin |     \u001b]8;id=385255;file://C:\\Users\\Federico\\Documents\\GitHub\\pysical_locomotion\\analysis\\ephys\\utils.py\u001b\\\u001b[2mutils.py\u001b[0m\u001b]8;;\u001b\\\u001b[2m:\u001b[0m\u001b]8;id=664648;file://C:\\Users\\Federico\\Documents\\GitHub\\pysical_locomotion\\analysis\\ephys\\utils.py#201\u001b\\\u001b[2m201\u001b[0m\u001b]8;;\u001b\\\n",
       "                             false | inbound                                                 \n"
      ]
     },
     "metadata": {},
     "output_type": "display_data"
    },
    {
     "data": {
      "text/html": [
       "<pre style=\"white-space:pre;overflow-x:auto;line-height:normal;font-family:Menlo,'DejaVu Sans Mono',consolas,'Courier New',monospace\"><span style=\"color: #7fbfbf; text-decoration-color: #7fbfbf\">[06/07/22 17:33:37] </span><span style=\"color: #000080; text-decoration-color: #000080\">INFO    </span> Got tracking data for FC_220435_BAA1101192_hairpin  <a href=\"file://C:\\Users\\Federico\\Documents\\GitHub\\pysical_locomotion\\analysis\\ephys\\utils.py\"><span style=\"color: #7f7f7f; text-decoration-color: #7f7f7f\">utils.py</span></a><span style=\"color: #7f7f7f; text-decoration-color: #7f7f7f\">:</span><a href=\"file://C:\\Users\\Federico\\Documents\\GitHub\\pysical_locomotion\\analysis\\ephys\\utils.py#163\"><span style=\"color: #7f7f7f; text-decoration-color: #7f7f7f\">163</span></a>\n",
       "</pre>\n"
      ],
      "text/plain": [
       "\u001b[2;36m[06/07/22 17:33:37]\u001b[0m\u001b[2;36m \u001b[0m\u001b[34mINFO    \u001b[0m Got tracking data for FC_220435_BAA1101192_hairpin  \u001b]8;id=389017;file://C:\\Users\\Federico\\Documents\\GitHub\\pysical_locomotion\\analysis\\ephys\\utils.py\u001b\\\u001b[2mutils.py\u001b[0m\u001b]8;;\u001b\\\u001b[2m:\u001b[0m\u001b]8;id=356302;file://C:\\Users\\Federico\\Documents\\GitHub\\pysical_locomotion\\analysis\\ephys\\utils.py#163\u001b\\\u001b[2m163\u001b[0m\u001b]8;;\u001b\\\n"
      ]
     },
     "metadata": {},
     "output_type": "display_data"
    },
    {
     "data": {
      "text/html": [
       "<pre style=\"white-space:pre;overflow-x:auto;line-height:normal;font-family:Menlo,'DejaVu Sans Mono',consolas,'Courier New',monospace\"><span style=\"color: #7fbfbf; text-decoration-color: #7fbfbf\">                    </span><span style=\"color: #000080; text-decoration-color: #000080\">INFO    </span> No units for FC_220435_BAA1101192_hairpin           <a href=\"file://C:\\Users\\Federico\\Documents\\GitHub\\pysical_locomotion\\analysis\\ephys\\utils.py\"><span style=\"color: #7f7f7f; text-decoration-color: #7f7f7f\">utils.py</span></a><span style=\"color: #7f7f7f; text-decoration-color: #7f7f7f\">:</span><a href=\"file://C:\\Users\\Federico\\Documents\\GitHub\\pysical_locomotion\\analysis\\ephys\\utils.py#179\"><span style=\"color: #7f7f7f; text-decoration-color: #7f7f7f\">179</span></a>\n",
       "</pre>\n"
      ],
      "text/plain": [
       "\u001b[2;36m                   \u001b[0m\u001b[2;36m \u001b[0m\u001b[34mINFO    \u001b[0m No units for FC_220435_BAA1101192_hairpin           \u001b]8;id=766922;file://C:\\Users\\Federico\\Documents\\GitHub\\pysical_locomotion\\analysis\\ephys\\utils.py\u001b\\\u001b[2mutils.py\u001b[0m\u001b]8;;\u001b\\\u001b[2m:\u001b[0m\u001b]8;id=300758;file://C:\\Users\\Federico\\Documents\\GitHub\\pysical_locomotion\\analysis\\ephys\\utils.py#179\u001b\\\u001b[2m179\u001b[0m\u001b]8;;\u001b\\\n"
      ]
     },
     "metadata": {},
     "output_type": "display_data"
    },
    {
     "data": {
      "text/html": [
       "<pre style=\"white-space:pre;overflow-x:auto;line-height:normal;font-family:Menlo,'DejaVu Sans Mono',consolas,'Courier New',monospace\"><span style=\"color: #7fbfbf; text-decoration-color: #7fbfbf\">[06/07/22 17:33:38] </span><span style=\"color: #000080; text-decoration-color: #000080\">INFO    </span> Got <span style=\"color: #008080; text-decoration-color: #008080; font-weight: bold\">43</span> bouts for FC_220435_BAA1101192_hairpin |     <a href=\"file://C:\\Users\\Federico\\Documents\\GitHub\\pysical_locomotion\\analysis\\ephys\\utils.py\"><span style=\"color: #7f7f7f; text-decoration-color: #7f7f7f\">utils.py</span></a><span style=\"color: #7f7f7f; text-decoration-color: #7f7f7f\">:</span><a href=\"file://C:\\Users\\Federico\\Documents\\GitHub\\pysical_locomotion\\analysis\\ephys\\utils.py#201\"><span style=\"color: #7f7f7f; text-decoration-color: #7f7f7f\">201</span></a>\n",
       "                             true | outbound                                                 \n",
       "</pre>\n"
      ],
      "text/plain": [
       "\u001b[2;36m[06/07/22 17:33:38]\u001b[0m\u001b[2;36m \u001b[0m\u001b[34mINFO    \u001b[0m Got \u001b[1;36m43\u001b[0m bouts for FC_220435_BAA1101192_hairpin |     \u001b]8;id=225764;file://C:\\Users\\Federico\\Documents\\GitHub\\pysical_locomotion\\analysis\\ephys\\utils.py\u001b\\\u001b[2mutils.py\u001b[0m\u001b]8;;\u001b\\\u001b[2m:\u001b[0m\u001b]8;id=575046;file://C:\\Users\\Federico\\Documents\\GitHub\\pysical_locomotion\\analysis\\ephys\\utils.py#201\u001b\\\u001b[2m201\u001b[0m\u001b]8;;\u001b\\\n",
       "                             true | outbound                                                 \n"
      ]
     },
     "metadata": {},
     "output_type": "display_data"
    },
    {
     "data": {
      "text/html": [
       "<pre style=\"white-space:pre;overflow-x:auto;line-height:normal;font-family:Menlo,'DejaVu Sans Mono',consolas,'Courier New',monospace\"><span style=\"color: #7fbfbf; text-decoration-color: #7fbfbf\">                    </span><span style=\"color: #000080; text-decoration-color: #000080\">INFO    </span> Got <span style=\"color: #008080; text-decoration-color: #008080; font-weight: bold\">43</span> bouts for FC_220435_BAA1101192_hairpin |     <a href=\"file://C:\\Users\\Federico\\Documents\\GitHub\\pysical_locomotion\\analysis\\ephys\\utils.py\"><span style=\"color: #7f7f7f; text-decoration-color: #7f7f7f\">utils.py</span></a><span style=\"color: #7f7f7f; text-decoration-color: #7f7f7f\">:</span><a href=\"file://C:\\Users\\Federico\\Documents\\GitHub\\pysical_locomotion\\analysis\\ephys\\utils.py#201\"><span style=\"color: #7f7f7f; text-decoration-color: #7f7f7f\">201</span></a>\n",
       "                             true | inbound                                                  \n",
       "</pre>\n"
      ],
      "text/plain": [
       "\u001b[2;36m                   \u001b[0m\u001b[2;36m \u001b[0m\u001b[34mINFO    \u001b[0m Got \u001b[1;36m43\u001b[0m bouts for FC_220435_BAA1101192_hairpin |     \u001b]8;id=677696;file://C:\\Users\\Federico\\Documents\\GitHub\\pysical_locomotion\\analysis\\ephys\\utils.py\u001b\\\u001b[2mutils.py\u001b[0m\u001b]8;;\u001b\\\u001b[2m:\u001b[0m\u001b]8;id=65112;file://C:\\Users\\Federico\\Documents\\GitHub\\pysical_locomotion\\analysis\\ephys\\utils.py#201\u001b\\\u001b[2m201\u001b[0m\u001b]8;;\u001b\\\n",
       "                             true | inbound                                                  \n"
      ]
     },
     "metadata": {},
     "output_type": "display_data"
    },
    {
     "data": {
      "text/html": [
       "<pre style=\"white-space:pre;overflow-x:auto;line-height:normal;font-family:Menlo,'DejaVu Sans Mono',consolas,'Courier New',monospace\"><span style=\"color: #7fbfbf; text-decoration-color: #7fbfbf\">[06/07/22 17:33:39] </span><span style=\"color: #000080; text-decoration-color: #000080\">INFO    </span> Got <span style=\"color: #008080; text-decoration-color: #008080; font-weight: bold\">25</span> bouts for FC_220435_BAA1101192_hairpin |     <a href=\"file://C:\\Users\\Federico\\Documents\\GitHub\\pysical_locomotion\\analysis\\ephys\\utils.py\"><span style=\"color: #7f7f7f; text-decoration-color: #7f7f7f\">utils.py</span></a><span style=\"color: #7f7f7f; text-decoration-color: #7f7f7f\">:</span><a href=\"file://C:\\Users\\Federico\\Documents\\GitHub\\pysical_locomotion\\analysis\\ephys\\utils.py#201\"><span style=\"color: #7f7f7f; text-decoration-color: #7f7f7f\">201</span></a>\n",
       "                             false | outbound                                                \n",
       "</pre>\n"
      ],
      "text/plain": [
       "\u001b[2;36m[06/07/22 17:33:39]\u001b[0m\u001b[2;36m \u001b[0m\u001b[34mINFO    \u001b[0m Got \u001b[1;36m25\u001b[0m bouts for FC_220435_BAA1101192_hairpin |     \u001b]8;id=2033;file://C:\\Users\\Federico\\Documents\\GitHub\\pysical_locomotion\\analysis\\ephys\\utils.py\u001b\\\u001b[2mutils.py\u001b[0m\u001b]8;;\u001b\\\u001b[2m:\u001b[0m\u001b]8;id=67901;file://C:\\Users\\Federico\\Documents\\GitHub\\pysical_locomotion\\analysis\\ephys\\utils.py#201\u001b\\\u001b[2m201\u001b[0m\u001b]8;;\u001b\\\n",
       "                             false | outbound                                                \n"
      ]
     },
     "metadata": {},
     "output_type": "display_data"
    },
    {
     "data": {
      "text/html": [
       "<pre style=\"white-space:pre;overflow-x:auto;line-height:normal;font-family:Menlo,'DejaVu Sans Mono',consolas,'Courier New',monospace\"><span style=\"color: #7fbfbf; text-decoration-color: #7fbfbf\">                    </span><span style=\"color: #000080; text-decoration-color: #000080\">INFO    </span> Got <span style=\"color: #008080; text-decoration-color: #008080; font-weight: bold\">23</span> bouts for FC_220435_BAA1101192_hairpin |     <a href=\"file://C:\\Users\\Federico\\Documents\\GitHub\\pysical_locomotion\\analysis\\ephys\\utils.py\"><span style=\"color: #7f7f7f; text-decoration-color: #7f7f7f\">utils.py</span></a><span style=\"color: #7f7f7f; text-decoration-color: #7f7f7f\">:</span><a href=\"file://C:\\Users\\Federico\\Documents\\GitHub\\pysical_locomotion\\analysis\\ephys\\utils.py#201\"><span style=\"color: #7f7f7f; text-decoration-color: #7f7f7f\">201</span></a>\n",
       "                             false | inbound                                                 \n",
       "</pre>\n"
      ],
      "text/plain": [
       "\u001b[2;36m                   \u001b[0m\u001b[2;36m \u001b[0m\u001b[34mINFO    \u001b[0m Got \u001b[1;36m23\u001b[0m bouts for FC_220435_BAA1101192_hairpin |     \u001b]8;id=562806;file://C:\\Users\\Federico\\Documents\\GitHub\\pysical_locomotion\\analysis\\ephys\\utils.py\u001b\\\u001b[2mutils.py\u001b[0m\u001b]8;;\u001b\\\u001b[2m:\u001b[0m\u001b]8;id=402258;file://C:\\Users\\Federico\\Documents\\GitHub\\pysical_locomotion\\analysis\\ephys\\utils.py#201\u001b\\\u001b[2m201\u001b[0m\u001b]8;;\u001b\\\n",
       "                             false | inbound                                                 \n"
      ]
     },
     "metadata": {},
     "output_type": "display_data"
    }
   ],
   "source": [
    "skipped = []\n",
    "\n",
    "for REC in get_recording_names():\n",
    "    dest = save_folder / REC / \"bouts_rasters\"\n",
    "    dest.mkdir(exist_ok=True, parents=True)\n",
    "\n",
    "    units, left_fl, right_fl, left_hl, right_hl, body = get_data(REC)\n",
    "    if units is None:\n",
    "        skipped.append(REC)\n",
    "        continue\n",
    "\n",
    "    out_bouts = get_session_bouts(REC)\n",
    "    in_bouts = get_session_bouts(REC, direction=\"inbound\")\n",
    "    incomplete_bouts = get_session_bouts(REC, complete=\"false\")\n",
    "    in_incomplete_bouts = get_session_bouts(REC, direction=\"inbound\", complete=\"false\")\n",
    "\n",
    "    for (i, unit) in units.iterrows():\n",
    "        region = unit.brain_region[:3]\n",
    "        savepath= dest / f\"{region}_{unit.unit_id}.png\"\n",
    "        if savepath.exists():\n",
    "            continue\n",
    "\n",
    "        fig = make_figure(unit, out_bouts, incomplete_bouts, in_bouts, in_incomplete_bouts)\n",
    "        fig.suptitle(f\"{REC} {unit.name} {len(out_bouts)} bouts\")\n",
    "\n",
    "        \n",
    "        fig.savefig(savepath, dpi=300, transparent=False, facecolor='w', edgecolor='w')\n",
    "\n",
    "        # close figure \n",
    "        plt.close(fig)\n",
    "    #     break\n",
    "    # break"
   ]
  },
  {
   "cell_type": "code",
   "execution_count": 6,
   "metadata": {},
   "outputs": [
    {
     "data": {
      "text/html": [
       "<pre style=\"white-space:pre;overflow-x:auto;line-height:normal;font-family:Menlo,'DejaVu Sans Mono',consolas,'Courier New',monospace\"><span style=\"font-weight: bold\">[</span><span style=\"color: #008000; text-decoration-color: #008000\">'FC_220411_BAA1101192_hairpin'</span><span style=\"font-weight: bold\">]</span>\n",
       "</pre>\n"
      ],
      "text/plain": [
       "\u001b[1m[\u001b[0m\u001b[32m'FC_220411_BAA1101192_hairpin'\u001b[0m\u001b[1m]\u001b[0m\n"
      ]
     },
     "metadata": {},
     "output_type": "display_data"
    }
   ],
   "source": [
    "skipped"
   ]
  },
  {
   "cell_type": "code",
   "execution_count": null,
   "metadata": {},
   "outputs": [],
   "source": []
  }
 ],
 "metadata": {
  "interpreter": {
   "hash": "d14c38d234234b969aee73678d168700778a98933f098d78df9f79a7508c5a93"
  },
  "kernelspec": {
   "display_name": "Python 3.7.0 ('dev')",
   "language": "python",
   "name": "python3"
  },
  "language_info": {
   "codemirror_mode": {
    "name": "ipython",
    "version": 3
   },
   "file_extension": ".py",
   "mimetype": "text/x-python",
   "name": "python",
   "nbconvert_exporter": "python",
   "pygments_lexer": "ipython3",
   "version": "3.7.0"
  },
  "orig_nbformat": 4
 },
 "nbformat": 4,
 "nbformat_minor": 2
}
