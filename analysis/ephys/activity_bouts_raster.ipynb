{
 "cells": [
  {
   "cell_type": "code",
   "execution_count": 1,
   "metadata": {},
   "outputs": [
    {
     "data": {
      "text/html": [
       "<pre style=\"white-space:pre;overflow-x:auto;line-height:normal;font-family:Menlo,'DejaVu Sans Mono',consolas,'Courier New',monospace\"><span style=\"color: #7fbfbf; text-decoration-color: #7fbfbf\">[05/07/22 11:15:28] </span><span style=\"color: #008000; text-decoration-color: #008000\">DEBUG   </span> DPL - Saving data and logs to logs                   <a href=\"file://C:\\ProgramData\\Miniconda3\\envs\\dev\\lib\\site-packages\\tpd\\core.py\"><span style=\"color: #7f7f7f; text-decoration-color: #7f7f7f\">core.py</span></a><span style=\"color: #7f7f7f; text-decoration-color: #7f7f7f\">:</span><a href=\"file://C:\\ProgramData\\Miniconda3\\envs\\dev\\lib\\site-packages\\tpd\\core.py#118\"><span style=\"color: #7f7f7f; text-decoration-color: #7f7f7f\">118</span></a>\n",
       "</pre>\n"
      ],
      "text/plain": [
       "\u001b[2;36m[05/07/22 11:15:28]\u001b[0m\u001b[2;36m \u001b[0m\u001b[32mDEBUG   \u001b[0m DPL - Saving data and logs to logs                   \u001b]8;id=311332;file://C:\\ProgramData\\Miniconda3\\envs\\dev\\lib\\site-packages\\tpd\\core.py\u001b\\\u001b[2mcore.py\u001b[0m\u001b]8;;\u001b\\\u001b[2m:\u001b[0m\u001b]8;id=365658;file://C:\\ProgramData\\Miniconda3\\envs\\dev\\lib\\site-packages\\tpd\\core.py#118\u001b\\\u001b[2m118\u001b[0m\u001b]8;;\u001b\\\n"
      ]
     },
     "metadata": {},
     "output_type": "display_data"
    },
    {
     "data": {
      "text/html": [
       "<pre style=\"white-space:pre;overflow-x:auto;line-height:normal;font-family:Menlo,'DejaVu Sans Mono',consolas,'Courier New',monospace\"><span style=\"color: #7fbfbf; text-decoration-color: #7fbfbf\">                    </span><span style=\"color: #008000; text-decoration-color: #008000\">DEBUG   </span> Saving log file to: logs\\log.log                     <a href=\"file://C:\\ProgramData\\Miniconda3\\envs\\dev\\lib\\site-packages\\tpd\\core.py\"><span style=\"color: #7f7f7f; text-decoration-color: #7f7f7f\">core.py</span></a><span style=\"color: #7f7f7f; text-decoration-color: #7f7f7f\">:</span><a href=\"file://C:\\ProgramData\\Miniconda3\\envs\\dev\\lib\\site-packages\\tpd\\core.py#119\"><span style=\"color: #7f7f7f; text-decoration-color: #7f7f7f\">119</span></a>\n",
       "</pre>\n"
      ],
      "text/plain": [
       "\u001b[2;36m                   \u001b[0m\u001b[2;36m \u001b[0m\u001b[32mDEBUG   \u001b[0m Saving log file to: logs\\log.log                     \u001b]8;id=22525;file://C:\\ProgramData\\Miniconda3\\envs\\dev\\lib\\site-packages\\tpd\\core.py\u001b\\\u001b[2mcore.py\u001b[0m\u001b]8;;\u001b\\\u001b[2m:\u001b[0m\u001b]8;id=325258;file://C:\\ProgramData\\Miniconda3\\envs\\dev\\lib\\site-packages\\tpd\\core.py#119\u001b\\\u001b[2m119\u001b[0m\u001b]8;;\u001b\\\n"
      ]
     },
     "metadata": {},
     "output_type": "display_data"
    },
    {
     "name": "stdout",
     "output_type": "stream",
     "text": [
      "Connecting root@127.0.0.1:3306\n"
     ]
    },
    {
     "data": {
      "text/html": [
       "<pre style=\"white-space:pre;overflow-x:auto;line-height:normal;font-family:Menlo,'DejaVu Sans Mono',consolas,'Courier New',monospace\"><span style=\"color: #7fbfbf; text-decoration-color: #7fbfbf\">[05/07/22 11:15:29] </span><span style=\"color: #008000; text-decoration-color: #008000\">DEBUG   </span> Connected to database: LOCOMOTION                 <a href=\"file://C:\\Users\\Federico\\Documents\\GitHub\\pysical_locomotion\\data\\dbase\\__init__.py\"><span style=\"color: #7f7f7f; text-decoration-color: #7f7f7f\">__init__.py</span></a><span style=\"color: #7f7f7f; text-decoration-color: #7f7f7f\">:</span><a href=\"file://C:\\Users\\Federico\\Documents\\GitHub\\pysical_locomotion\\data\\dbase\\__init__.py#11\"><span style=\"color: #7f7f7f; text-decoration-color: #7f7f7f\">11</span></a>\n",
       "</pre>\n"
      ],
      "text/plain": [
       "\u001b[2;36m[05/07/22 11:15:29]\u001b[0m\u001b[2;36m \u001b[0m\u001b[32mDEBUG   \u001b[0m Connected to database: LOCOMOTION                 \u001b]8;id=812367;file://C:\\Users\\Federico\\Documents\\GitHub\\pysical_locomotion\\data\\dbase\\__init__.py\u001b\\\u001b[2m__init__.py\u001b[0m\u001b]8;;\u001b\\\u001b[2m:\u001b[0m\u001b]8;id=747936;file://C:\\Users\\Federico\\Documents\\GitHub\\pysical_locomotion\\data\\dbase\\__init__.py#11\u001b\\\u001b[2m11\u001b[0m\u001b]8;;\u001b\\\n"
      ]
     },
     "metadata": {},
     "output_type": "display_data"
    },
    {
     "name": "stdout",
     "output_type": "stream",
     "text": [
      "('FC_210715_AAA1110750_r5_hairpin', 'longcolumn')\n",
      "('FC_210716_AAA1110750_r6_hairpin', 'longcolumn')\n",
      "('FC_210720_AAA1110750_hairpin', 'longcolumn')\n",
      "('FC_210721_AAA1110750_hairpin', 'longcolumn')\n",
      "('FC_210722_AAA1110750_hairpin', 'longcolumn')\n",
      "('FC_211022_BAA110516_hairpin', 'longcolumn')\n",
      "('FC_211027_BAA110516_hairpin', 'longcolumn')\n",
      "('FC_211214_BAA110517_hairpin', 'b0')\n",
      "('FC_220114_BAA110517_hairpin', 'b0')\n",
      "('FC_220117_BAA110517_hairpin', 'b0')\n",
      "('FC_220119_BAA110517_hairpin', 'b0')\n",
      "('FC_220120_BAA110517_hairpin', 'b0')\n",
      "('FC_210917_BAA1110279_hairpin', 'b0')\n",
      "('FC_210820_BAA1110281_hairpin', 'longcolumn')\n",
      "('FC_210829_BAA1110281_hairpin', 'longcolumn')\n",
      "('FC_210830_BAA1110281_hairpin', 'longcolumn')\n",
      "('FC_210831_BAA1110281_hairpin', 'longcolumn')\n",
      "('FC_210901_BAA1110281_hairpin', 'longcolumn')\n",
      "('FC_210906_BAA1110281_hairpin', 'b0')\n",
      "('FC_210917_BAA1110281_hairpin', 'b0')\n"
     ]
    }
   ],
   "source": [
    "# imports\n",
    "import sys\n",
    "import matplotlib.pyplot as plt\n",
    "import numpy as np\n",
    "import pandas as pd\n",
    "from pathlib import Path\n",
    "from mpl_toolkits.axes_grid1 import make_axes_locatable\n",
    "from scipy.signal import medfilt\n",
    "\n",
    "sys.path.append(\"./\")\n",
    "sys.path.append(r\"C:\\Users\\Federico\\Documents\\GitHub\\pysical_locomotion\")\n",
    "\n",
    "from data.dbase.db_tables import Probe, Unit, Session, ValidatedSession, Recording, Tracking, LocomotionBouts\n",
    "from data.data_utils import convolve_with_gaussian\n",
    "\n",
    "from fcutils.maths.signals import get_onset_offset\n",
    "from fcutils.plot.figure import clean_axes, calc_nrows_ncols\n",
    "from myterial import amber_darker, green_dark, grey_darker, grey_dark\n",
    "\n",
    "\n",
    "save_folder = Path(r\"D:\\Dropbox (UCL)\\Rotation_vte\\Locomotion\\analysis\\ephys\")\n",
    "\n",
    "\n",
    "# print all available recordings\n",
    "print(*zip(*Recording().fetch(\"name\", \"recording_probe_configuration\")), sep=\"\\n\")"
   ]
  },
  {
   "cell_type": "code",
   "execution_count": 3,
   "metadata": {},
   "outputs": [
    {
     "name": "stdout",
     "output_type": "stream",
     "text": [
      "Empty DataFrame\n",
      "Columns: [mouse_id, name, start_frame, end_frame, duration, direction, color, complete, start_roi, end_roi, gcoord_delta]\n",
      "Index: []\n"
     ]
    }
   ],
   "source": [
    "REC = \"make_plot(rec)\"\n",
    "\n",
    "tracking = Tracking.get_session_tracking(REC, body_only=True)\n",
    "\n",
    "units = pd.DataFrame(Unit * Unit.Spikes * Probe.RecordingSite & f'name=\"{REC}\"')\n",
    "units = units.sort_values(\"brain_region\", inplace=False).reset_index()\n",
    "\n",
    "bouts = LocomotionBouts.get_session_bouts(REC)\n",
    "print(bouts)"
   ]
  }
 ],
 "metadata": {
  "interpreter": {
   "hash": "9b4a378f91d7df100826377256b9bd3702a9126b40e70648a7685825bb745749"
  },
  "kernelspec": {
   "display_name": "Python 3.7.0 ('dev')",
   "language": "python",
   "name": "python3"
  },
  "language_info": {
   "codemirror_mode": {
    "name": "ipython",
    "version": 3
   },
   "file_extension": ".py",
   "mimetype": "text/x-python",
   "name": "python",
   "nbconvert_exporter": "python",
   "pygments_lexer": "ipython3",
   "version": "3.7.0"
  },
  "orig_nbformat": 4
 },
 "nbformat": 4,
 "nbformat_minor": 2
}
