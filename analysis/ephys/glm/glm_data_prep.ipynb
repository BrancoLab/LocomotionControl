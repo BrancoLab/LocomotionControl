{
 "cells": [
  {
   "cell_type": "markdown",
   "metadata": {},
   "source": [
    "# GLM data prep\n",
    "\n",
    "Create a table of data for each recording.\n",
    "Each row is a millisecond (data only from bouts).\n",
    "Variables include speeds + shifted speeds, curvature of the track, firing rate...\n"
   ]
  },
  {
   "cell_type": "code",
   "execution_count": 2,
   "metadata": {},
   "outputs": [
    {
     "data": {
      "text/html": [
       "<pre style=\"white-space:pre;overflow-x:auto;line-height:normal;font-family:Menlo,'DejaVu Sans Mono',consolas,'Courier New',monospace\"><span style=\"color: #7fbfbf; text-decoration-color: #7fbfbf\">[06/14/22 15:49:35] </span><span style=\"color: #008000; text-decoration-color: #008000\">DEBUG   </span> DPL - Saving data and logs to logs                   <a href=\"file://c:\\ProgramData\\Miniconda3\\envs\\dev\\lib\\site-packages\\tpd\\core.py\"><span style=\"color: #7f7f7f; text-decoration-color: #7f7f7f\">core.py</span></a><span style=\"color: #7f7f7f; text-decoration-color: #7f7f7f\">:</span><a href=\"file://c:\\ProgramData\\Miniconda3\\envs\\dev\\lib\\site-packages\\tpd\\core.py#118\"><span style=\"color: #7f7f7f; text-decoration-color: #7f7f7f\">118</span></a>\n",
       "</pre>\n"
      ],
      "text/plain": [
       "\u001b[2;36m[06/14/22 15:49:35]\u001b[0m\u001b[2;36m \u001b[0m\u001b[32mDEBUG   \u001b[0m DPL - Saving data and logs to logs                   \u001b]8;id=876203;file://c:\\ProgramData\\Miniconda3\\envs\\dev\\lib\\site-packages\\tpd\\core.py\u001b\\\u001b[2mcore.py\u001b[0m\u001b]8;;\u001b\\\u001b[2m:\u001b[0m\u001b]8;id=901267;file://c:\\ProgramData\\Miniconda3\\envs\\dev\\lib\\site-packages\\tpd\\core.py#118\u001b\\\u001b[2m118\u001b[0m\u001b]8;;\u001b\\\n"
      ]
     },
     "metadata": {},
     "output_type": "display_data"
    },
    {
     "data": {
      "text/html": [
       "<pre style=\"white-space:pre;overflow-x:auto;line-height:normal;font-family:Menlo,'DejaVu Sans Mono',consolas,'Courier New',monospace\"><span style=\"color: #7fbfbf; text-decoration-color: #7fbfbf\">                    </span><span style=\"color: #008000; text-decoration-color: #008000\">DEBUG   </span> Saving log file to: logs\\log.log                     <a href=\"file://c:\\ProgramData\\Miniconda3\\envs\\dev\\lib\\site-packages\\tpd\\core.py\"><span style=\"color: #7f7f7f; text-decoration-color: #7f7f7f\">core.py</span></a><span style=\"color: #7f7f7f; text-decoration-color: #7f7f7f\">:</span><a href=\"file://c:\\ProgramData\\Miniconda3\\envs\\dev\\lib\\site-packages\\tpd\\core.py#119\"><span style=\"color: #7f7f7f; text-decoration-color: #7f7f7f\">119</span></a>\n",
       "</pre>\n"
      ],
      "text/plain": [
       "\u001b[2;36m                   \u001b[0m\u001b[2;36m \u001b[0m\u001b[32mDEBUG   \u001b[0m Saving log file to: logs\\log.log                     \u001b]8;id=443076;file://c:\\ProgramData\\Miniconda3\\envs\\dev\\lib\\site-packages\\tpd\\core.py\u001b\\\u001b[2mcore.py\u001b[0m\u001b]8;;\u001b\\\u001b[2m:\u001b[0m\u001b]8;id=351316;file://c:\\ProgramData\\Miniconda3\\envs\\dev\\lib\\site-packages\\tpd\\core.py#119\u001b\\\u001b[2m119\u001b[0m\u001b]8;;\u001b\\\n"
      ]
     },
     "metadata": {},
     "output_type": "display_data"
    },
    {
     "name": "stdout",
     "output_type": "stream",
     "text": [
      "Connecting root@127.0.0.1:3306\n"
     ]
    },
    {
     "data": {
      "text/html": [
       "<pre style=\"white-space:pre;overflow-x:auto;line-height:normal;font-family:Menlo,'DejaVu Sans Mono',consolas,'Courier New',monospace\"><span style=\"color: #7fbfbf; text-decoration-color: #7fbfbf\">[06/14/22 15:49:36] </span><span style=\"color: #008000; text-decoration-color: #008000\">DEBUG   </span> Connected to database: LOCOMOTION4                <a href=\"file://C:\\Users\\Federico\\Documents\\GitHub\\pysical_locomotion\\data\\dbase\\__init__.py\"><span style=\"color: #7f7f7f; text-decoration-color: #7f7f7f\">__init__.py</span></a><span style=\"color: #7f7f7f; text-decoration-color: #7f7f7f\">:</span><a href=\"file://C:\\Users\\Federico\\Documents\\GitHub\\pysical_locomotion\\data\\dbase\\__init__.py#11\"><span style=\"color: #7f7f7f; text-decoration-color: #7f7f7f\">11</span></a>\n",
       "</pre>\n"
      ],
      "text/plain": [
       "\u001b[2;36m[06/14/22 15:49:36]\u001b[0m\u001b[2;36m \u001b[0m\u001b[32mDEBUG   \u001b[0m Connected to database: LOCOMOTION4                \u001b]8;id=215100;file://C:\\Users\\Federico\\Documents\\GitHub\\pysical_locomotion\\data\\dbase\\__init__.py\u001b\\\u001b[2m__init__.py\u001b[0m\u001b]8;;\u001b\\\u001b[2m:\u001b[0m\u001b]8;id=972978;file://C:\\Users\\Federico\\Documents\\GitHub\\pysical_locomotion\\data\\dbase\\__init__.py#11\u001b\\\u001b[2m11\u001b[0m\u001b]8;;\u001b\\\n"
      ]
     },
     "metadata": {},
     "output_type": "display_data"
    }
   ],
   "source": [
    "# imports\n",
    "import sys\n",
    "import matplotlib.pyplot as plt\n",
    "from pathlib import Path\n",
    "import numpy as np\n",
    "import pandas as pd\n",
    "from scipy import interpolate\n",
    "from fcutils.progress import track\n",
    "\n",
    "sys.path.append(\"./\")\n",
    "sys.path.append(r\"C:\\Users\\Federico\\Documents\\GitHub\\pysical_locomotion\")\n",
    "\n",
    "\n",
    "from analysis.ephys.utils import get_recording_names, get_data, get_session_bouts, trim_bouts\n",
    "\n",
    "save_folder = Path(r\"D:\\Dropbox (UCL)\\Rotation_vte\\Locomotion\\analysis\\ephys\")\n"
   ]
  },
  {
   "cell_type": "markdown",
   "metadata": {},
   "source": [
    "## Parameters"
   ]
  },
  {
   "cell_type": "code",
   "execution_count": 3,
   "metadata": {},
   "outputs": [],
   "source": [
    "curvature_horizon = 30\n",
    "curvature_sampling_spacing = 5\n",
    "curv_sample_points = np.arange(0, curvature_horizon+curvature_sampling_spacing, curvature_sampling_spacing)\n",
    "\n",
    "track_downsample_factor = 25\n",
    "\n",
    "firing_rate_gaussian = 100 # width in ms"
   ]
  },
  {
   "cell_type": "markdown",
   "metadata": {},
   "source": [
    "### Track curvature\n",
    "Sample the track curvature for N future positions given each track position"
   ]
  },
  {
   "cell_type": "code",
   "execution_count": 4,
   "metadata": {},
   "outputs": [
    {
     "data": {
      "text/html": [
       "<div>\n",
       "<style scoped>\n",
       "    .dataframe tbody tr th:only-of-type {\n",
       "        vertical-align: middle;\n",
       "    }\n",
       "\n",
       "    .dataframe tbody tr th {\n",
       "        vertical-align: top;\n",
       "    }\n",
       "\n",
       "    .dataframe thead th {\n",
       "        text-align: right;\n",
       "    }\n",
       "</style>\n",
       "<table border=\"1\" class=\"dataframe\">\n",
       "  <thead>\n",
       "    <tr style=\"text-align: right;\">\n",
       "      <th></th>\n",
       "      <th>S</th>\n",
       "      <th>X</th>\n",
       "      <th>Y</th>\n",
       "      <th>curvature</th>\n",
       "      <th>width</th>\n",
       "      <th>θ</th>\n",
       "    </tr>\n",
       "  </thead>\n",
       "  <tbody>\n",
       "    <tr>\n",
       "      <th>0</th>\n",
       "      <td>0.000000</td>\n",
       "      <td>20.005419</td>\n",
       "      <td>32.926672</td>\n",
       "      <td>1.397851e-08</td>\n",
       "      <td>3.600000</td>\n",
       "      <td>-1.562696</td>\n",
       "    </tr>\n",
       "    <tr>\n",
       "      <th>1</th>\n",
       "      <td>0.034248</td>\n",
       "      <td>20.005696</td>\n",
       "      <td>32.892425</td>\n",
       "      <td>2.407125e-04</td>\n",
       "      <td>3.596612</td>\n",
       "      <td>-1.562692</td>\n",
       "    </tr>\n",
       "    <tr>\n",
       "      <th>2</th>\n",
       "      <td>0.068464</td>\n",
       "      <td>20.005974</td>\n",
       "      <td>32.858210</td>\n",
       "      <td>4.834723e-04</td>\n",
       "      <td>3.590541</td>\n",
       "      <td>-1.562680</td>\n",
       "    </tr>\n",
       "    <tr>\n",
       "      <th>3</th>\n",
       "      <td>0.102616</td>\n",
       "      <td>20.006251</td>\n",
       "      <td>32.824059</td>\n",
       "      <td>7.303402e-04</td>\n",
       "      <td>3.584550</td>\n",
       "      <td>-1.562659</td>\n",
       "    </tr>\n",
       "    <tr>\n",
       "      <th>4</th>\n",
       "      <td>0.136672</td>\n",
       "      <td>20.006529</td>\n",
       "      <td>32.790004</td>\n",
       "      <td>9.834296e-04</td>\n",
       "      <td>3.578645</td>\n",
       "      <td>-1.562630</td>\n",
       "    </tr>\n",
       "    <tr>\n",
       "      <th>...</th>\n",
       "      <td>...</td>\n",
       "      <td>...</td>\n",
       "      <td>...</td>\n",
       "      <td>...</td>\n",
       "      <td>...</td>\n",
       "      <td>...</td>\n",
       "    </tr>\n",
       "    <tr>\n",
       "      <th>3996</th>\n",
       "      <td>265.273224</td>\n",
       "      <td>3.999664</td>\n",
       "      <td>7.342840</td>\n",
       "      <td>3.530815e-05</td>\n",
       "      <td>3.600000</td>\n",
       "      <td>-1.570627</td>\n",
       "    </tr>\n",
       "    <tr>\n",
       "      <th>3997</th>\n",
       "      <td>265.334935</td>\n",
       "      <td>3.999675</td>\n",
       "      <td>7.281129</td>\n",
       "      <td>2.648609e-05</td>\n",
       "      <td>3.600000</td>\n",
       "      <td>-1.570625</td>\n",
       "    </tr>\n",
       "    <tr>\n",
       "      <th>3998</th>\n",
       "      <td>265.396642</td>\n",
       "      <td>3.999685</td>\n",
       "      <td>7.219422</td>\n",
       "      <td>1.766084e-05</td>\n",
       "      <td>3.600000</td>\n",
       "      <td>-1.570624</td>\n",
       "    </tr>\n",
       "    <tr>\n",
       "      <th>3999</th>\n",
       "      <td>265.458347</td>\n",
       "      <td>3.999696</td>\n",
       "      <td>7.157717</td>\n",
       "      <td>8.831522e-06</td>\n",
       "      <td>3.600000</td>\n",
       "      <td>-1.570623</td>\n",
       "    </tr>\n",
       "    <tr>\n",
       "      <th>4000</th>\n",
       "      <td>265.520051</td>\n",
       "      <td>3.999707</td>\n",
       "      <td>7.096014</td>\n",
       "      <td>7.297924e-10</td>\n",
       "      <td>3.600000</td>\n",
       "      <td>-1.570623</td>\n",
       "    </tr>\n",
       "  </tbody>\n",
       "</table>\n",
       "<p>4001 rows × 6 columns</p>\n",
       "</div>"
      ]
     },
     "execution_count": 4,
     "metadata": {},
     "output_type": "execute_result"
    }
   ],
   "source": [
    "track_data = pd.read_json(r\"C:\\Users\\Federico\\Documents\\GitHub\\pysical_locomotion\\analysis\\ephys\\track.json\").iloc[::track_downsample_factor]\n",
    "track_data = track_data.reset_index(drop=True)\n",
    "S_f = track_data.S.values[-1]\n",
    "track_data"
   ]
  },
  {
   "cell_type": "code",
   "execution_count": 5,
   "metadata": {},
   "outputs": [],
   "source": [
    "# load track from json\n",
    "k_shifts = np.arange(curvature_horizon+1)\n",
    "curv_shifted = {\n",
    "    **{f\"k_{k}\":[] for k in k_shifts},\n",
    "    **{f\"idx_{k}\":[] for k in k_shifts},\n",
    "}\n",
    "for i, s in enumerate(track_data.S):\n",
    "    for k in k_shifts:\n",
    "        if s + k < S_f:\n",
    "            select = track_data.loc[track_data.S >= s + k]\n",
    "            curv_shifted[f\"idx_{k}\"].append(select.index[0])\n",
    "            curv_shifted[f\"k_{k}\"].append(select[\"curvature\"].iloc[0])\n",
    "        else:\n",
    "            curv_shifted[f\"k_{k}\"].append(np.nan)\n",
    "            curv_shifted[f\"idx_{k}\"].append(np.nan)\n",
    "\n",
    "    # break\n",
    "\n",
    "for k,v in curv_shifted.items():\n",
    "    track_data.insert(2, k, v)\n",
    "track_data.head()"
   ]
  },
  {
   "cell_type": "markdown",
   "metadata": {},
   "source": [
    "## Process data"
   ]
  },
  {
   "cell_type": "code",
   "execution_count": null,
   "metadata": {},
   "outputs": [],
   "source": [
    "\n",
    "def upsample_frames_to_ms(var):\n",
    "    \"\"\"\n",
    "        Interpolates the values of a variable expressed in frams (60 fps)\n",
    "        to values expressed in milliseconds.\n",
    "    \"\"\"\n",
    "    t_60fps = np.arange(len(var)) / 60\n",
    "    f = interpolate.interp1d(t_60fps, var)\n",
    "\n",
    "    # t_1000fps = np.arange(0, len(var)) * 1000 / 60\n",
    "    t_1000fps = np.arange(0, t_60fps[-1], step=1/1000)\n",
    "    interpolated_variable_values = f(t_1000fps)\n",
    "    return interpolated_variable_values\n"
   ]
  },
  {
   "cell_type": "code",
   "execution_count": null,
   "metadata": {},
   "outputs": [
    {
     "ename": "NameError",
     "evalue": "name 'np' is not defined",
     "output_type": "error",
     "traceback": [
      "\u001b[1;31m---------------------------------------------------------------------------\u001b[0m",
      "\u001b[1;31mNameError\u001b[0m                                 Traceback (most recent call last)",
      "\u001b[1;32m~\\AppData\\Local\\Temp/ipykernel_17044/1502027269.py\u001b[0m in \u001b[0;36m<module>\u001b[1;34m\u001b[0m\n\u001b[0;32m      7\u001b[0m \u001b[1;33m\u001b[0m\u001b[0m\n\u001b[0;32m      8\u001b[0m \u001b[1;33m\u001b[0m\u001b[0m\n\u001b[1;32m----> 9\u001b[1;33m \u001b[1;32mdef\u001b[0m \u001b[0mcalc_firing_rate\u001b[0m\u001b[1;33m(\u001b[0m\u001b[0mspikes_train\u001b[0m\u001b[1;33m:\u001b[0m \u001b[0mnp\u001b[0m\u001b[1;33m.\u001b[0m\u001b[0mndarray\u001b[0m\u001b[1;33m,\u001b[0m \u001b[0mdt\u001b[0m\u001b[1;33m:\u001b[0m \u001b[0mint\u001b[0m \u001b[1;33m=\u001b[0m \u001b[1;36m10\u001b[0m\u001b[1;33m)\u001b[0m\u001b[1;33m:\u001b[0m\u001b[1;33m\u001b[0m\u001b[0m\n\u001b[0m\u001b[0;32m     10\u001b[0m     \"\"\"\n\u001b[0;32m     11\u001b[0m         \u001b[0mComputes\u001b[0m \u001b[0mthe\u001b[0m \u001b[0mfiring\u001b[0m \u001b[0mrate\u001b[0m \u001b[0mgiven\u001b[0m \u001b[0ma\u001b[0m \u001b[0mspikes\u001b[0m \u001b[0mtrain\u001b[0m \u001b[1;33m(\u001b[0m\u001b[0mwether\u001b[0m \u001b[0mthere\u001b[0m \u001b[1;32mis\u001b[0m \u001b[0ma\u001b[0m \u001b[0mspike\u001b[0m \u001b[1;32mor\u001b[0m \u001b[1;32mnot\u001b[0m \u001b[0mat\u001b[0m \u001b[0meach\u001b[0m \u001b[0mms\u001b[0m\u001b[1;33m)\u001b[0m\u001b[1;33m.\u001b[0m\u001b[1;33m\u001b[0m\u001b[0m\n",
      "\u001b[1;31mNameError\u001b[0m: name 'np' is not defined"
     ]
    }
   ],
   "source": [
    "\n",
    "def gaussian(x, s):\n",
    "    return (\n",
    "        1.0\n",
    "        / np.sqrt(2.0 * np.pi * s ** 2)\n",
    "        * np.exp(-(x ** 2) / (2.0 * s ** 2))\n",
    "    )\n",
    "\n",
    "\n",
    "def calc_firing_rate(spikes_train: np.ndarray, dt: int = 10):\n",
    "    \"\"\"\n",
    "        Computes the firing rate given a spikes train (wether there is a spike or not at each ms).\n",
    "        Using a gaussian kernel with standard deviation = dt/2 [dt is in ms]\n",
    "    \"\"\"\n",
    "    # create kernel & get area under the curve\n",
    "    k = np.array([gaussian(x, dt / 2) for x in np.linspace(-2*dt, 2*dt, dt)])\n",
    "    auc = np.trapz(k)\n",
    "\n",
    "    # get firing rate\n",
    "    frate = (\n",
    "        np.convolve(spikes_train, k, mode=\"same\") / auc * 1000\n",
    "    )  # times 1000 to go from ms to seconds\n",
    "    return frate\n",
    "\n",
    "\n",
    "def make_shuffled_units(units):\n",
    "    \"\"\"\n",
    "        For each unit make shuffled copies in which \n",
    "        the firing rate is offset by some ammount looping\n",
    "        around the start/end of the session\n",
    "    \"\"\"\n",
    "    N = 100\n",
    "    shuffled_units = dict(unit_id=[], firing_rate_ms=[])\n",
    "    for i, unit in units.iterrows():\n",
    "        for n in range(N):\n",
    "            shuffle = np.random.randint(10 * 1000, 30 * 1000)  # shuffle between 10 and 30 seconds\n",
    "            shuffled_units[\"unit_id\"].append(f\"{unit.unit_id}_shuffle_{n}\")\n",
    "            frate = unit.firing_rate_ms\n",
    "            frate = np.hstack([frate[shuffle:], frate[:shuffle]])\n",
    "            shuffled_units[\"firing_rate_ms\"].append(frate)\n",
    "\n",
    "    # merge units and shuffle units in a single dataframe\n",
    "    shuffled_units = pd.DataFrame(shuffled_units)\n",
    "    units = pd.concat([units, shuffled_units], ignore_index=True)\n",
    "    return units"
   ]
  },
  {
   "cell_type": "markdown",
   "metadata": {},
   "source": [
    "#### main data loader"
   ]
  },
  {
   "cell_type": "code",
   "execution_count": null,
   "metadata": {},
   "outputs": [],
   "source": [
    "# upsample\n",
    "def load_get_recording_data(REC): \n",
    "    # load data\n",
    "    units, left_fl, right_fl, left_hl, right_hl, body = get_data(REC)\n",
    "\n",
    "\n",
    "    out_bouts = get_session_bouts(REC, complete=None)\n",
    "    in_bouts = get_session_bouts(REC, direction=\"inbound\", complete=None)\n",
    "\n",
    "    v = upsample_frames_to_ms(body.speed)\n",
    "    omega = upsample_frames_to_ms(body.thetadot)\n",
    "\n",
    "    # get time shifted\n",
    "    shift_nframes_250ms = int(250 / 1000 * 60)\n",
    "    shift_nframes_500ms = int(500 / 1000 * 60)\n",
    "    shift_nframes_1000ms = int(1000 / 1000 * 60)\n",
    "\n",
    "    v_250ms = np.hstack([v[shift_nframes_250ms:], v[shift_nframes_250ms] * np.ones(shift_nframes_250ms)])\n",
    "    omega_250ms = np.hstack([omega[shift_nframes_250ms:], omega[shift_nframes_250ms] * np.ones(shift_nframes_250ms)])\n",
    "    v_500ms = np.hstack([v[shift_nframes_500ms:], v[shift_nframes_500ms] * np.ones(shift_nframes_500ms)])\n",
    "    omega_500ms = np.hstack([omega[shift_nframes_500ms:], omega[shift_nframes_500ms] * np.ones(shift_nframes_500ms)])\n",
    "    v_1000ms = np.hstack([v[shift_nframes_1000ms:], v[shift_nframes_1000ms] * np.ones(shift_nframes_1000ms)])\n",
    "    omega_1000ms = np.hstack([omega[shift_nframes_1000ms:], omega[shift_nframes_1000ms] * np.ones(shift_nframes_1000ms)])\n",
    "\n",
    "    # get unit firing rate in milliseconds\n",
    "    units = units.loc[units.brain_region.isin([\"MOs\", \"MOs1\", \"MOs2/3\", \"MOs5\", \"MOs6a\", \"MOs6b\"])]\n",
    "    frates = []\n",
    "    for i, unit in units.iterrows():\n",
    "        time = np.zeros(len(v))\n",
    "        time[np.int64(np.round(unit.spikes_ms))] = 1\n",
    "        frates.append(calc_firing_rate(time, dt=firing_rate_gaussian))\n",
    "    units[\"firing_rate_ms\"] = frates\n",
    "    units = units[[\"unit_id\", \"firing_rate_ms\"]]\n",
    "\n",
    "    # add shuffled units\n",
    "    units = make_shuffled_units(units)\n",
    "\n",
    "    return units, body, pd.concat([out_bouts, in_bouts]), v, omega, v_250ms, omega_250ms, v_500ms, omega_500ms, v_1000ms, omega_1000ms"
   ]
  },
  {
   "cell_type": "markdown",
   "metadata": {},
   "source": [
    "### Collect data for all bouts"
   ]
  },
  {
   "cell_type": "code",
   "execution_count": null,
   "metadata": {},
   "outputs": [
    {
     "name": "stdout",
     "output_type": "stream",
     "text": [
      "3224484 3224484\n",
      "3224484 3224484\n",
      "3224484 3224484\n",
      "3224484 3224484\n",
      "3224484 3224484\n",
      "3224484 3224484\n",
      "3224484 3224484\n",
      "3224484 3224484\n",
      "3224484 3224484\n",
      "3224484 3224484\n",
      "3224484 3224484\n",
      "3224484 3224484\n",
      "3224484 3224484\n",
      "3224484 3224484\n",
      "3224484 3224484\n",
      "3224484 3224484\n",
      "3224484 3224484\n",
      "3224484 3224484\n",
      "3224484 3224484\n",
      "3224484 3224484\n",
      "3224484 3224484\n",
      "3224484 3224484\n",
      "3224484 3224484\n",
      "3224484 3224484\n",
      "3224484 3224484\n",
      "3224484 3224484\n",
      "3224484 3224484\n",
      "3224484 3224484\n",
      "3224484 3224484\n",
      "3224484 3224484\n",
      "3224484 3224484\n",
      "3224484 3224484\n",
      "3224484 3224484\n"
     ]
    },
    {
     "data": {
      "text/html": [
       "<pre style=\"white-space:pre;overflow-x:auto;line-height:normal;font-family:Menlo,'DejaVu Sans Mono',consolas,'Courier New',monospace\"><span style=\"color: #800080; text-decoration-color: #800080; font-weight: bold\">dict_keys</span><span style=\"font-weight: bold\">([</span><span style=\"color: #008000; text-decoration-color: #008000\">'v'</span>, <span style=\"color: #008000; text-decoration-color: #008000\">'dv_250ms'</span>, <span style=\"color: #008000; text-decoration-color: #008000\">'dv_500ms'</span>, <span style=\"color: #008000; text-decoration-color: #008000\">'dv_1000ms'</span>, <span style=\"color: #008000; text-decoration-color: #008000\">'omega'</span>, <span style=\"color: #008000; text-decoration-color: #008000\">'domega_250ms'</span>, <span style=\"color: #008000; text-decoration-color: #008000\">'domega_500ms'</span>, <span style=\"color: #008000; text-decoration-color: #008000\">'domega_1000ms'</span>, <span style=\"color: #008000; text-decoration-color: #008000\">'curv_0cm'</span>, <span style=\"color: #008000; text-decoration-color: #008000\">'curv_5cm'</span>, <span style=\"color: #008000; text-decoration-color: #008000\">'curv_10cm'</span>, <span style=\"color: #008000; text-decoration-color: #008000\">'curv_15cm'</span>, <span style=\"color: #008000; text-decoration-color: #008000\">'curv_20cm'</span>, <span style=\"color: #008000; text-decoration-color: #008000\">'curv_25cm'</span>, <span style=\"color: #008000; text-decoration-color: #008000\">'curv_30cm'</span>, <span style=\"color: #008080; text-decoration-color: #008080; font-weight: bold\">302</span>, <span style=\"color: #008080; text-decoration-color: #008080; font-weight: bold\">390</span>, <span style=\"color: #008080; text-decoration-color: #008080; font-weight: bold\">447</span>, <span style=\"color: #008080; text-decoration-color: #008080; font-weight: bold\">458</span>, <span style=\"color: #008080; text-decoration-color: #008080; font-weight: bold\">459</span>, <span style=\"color: #008080; text-decoration-color: #008080; font-weight: bold\">484</span>, <span style=\"color: #008080; text-decoration-color: #008080; font-weight: bold\">274</span>, <span style=\"color: #008080; text-decoration-color: #008080; font-weight: bold\">541</span>, <span style=\"color: #008080; text-decoration-color: #008080; font-weight: bold\">301</span>, <span style=\"color: #008080; text-decoration-color: #008080; font-weight: bold\">578</span>, <span style=\"color: #008080; text-decoration-color: #008080; font-weight: bold\">595</span>, <span style=\"color: #008080; text-decoration-color: #008080; font-weight: bold\">641</span>, <span style=\"color: #008080; text-decoration-color: #008080; font-weight: bold\">485</span>, <span style=\"color: #008080; text-decoration-color: #008080; font-weight: bold\">290</span>, <span style=\"color: #008080; text-decoration-color: #008080; font-weight: bold\">670</span>, <span style=\"color: #008080; text-decoration-color: #008080; font-weight: bold\">287</span>, <span style=\"color: #008080; text-decoration-color: #008080; font-weight: bold\">285</span>, <span style=\"color: #008080; text-decoration-color: #008080; font-weight: bold\">663</span>, <span style=\"color: #008080; text-decoration-color: #008080; font-weight: bold\">145</span>, <span style=\"color: #008080; text-decoration-color: #008080; font-weight: bold\">289</span>, <span style=\"color: #008080; text-decoration-color: #008080; font-weight: bold\">91</span>, <span style=\"color: #008080; text-decoration-color: #008080; font-weight: bold\">95</span>, <span style=\"color: #008080; text-decoration-color: #008080; font-weight: bold\">216</span>, <span style=\"color: #008080; text-decoration-color: #008080; font-weight: bold\">520</span>, <span style=\"color: #008080; text-decoration-color: #008080; font-weight: bold\">217</span>, <span style=\"color: #008080; text-decoration-color: #008080; font-weight: bold\">239</span>, <span style=\"color: #008080; text-decoration-color: #008080; font-weight: bold\">244</span>, <span style=\"color: #008080; text-decoration-color: #008080; font-weight: bold\">248</span>, <span style=\"color: #008080; text-decoration-color: #008080; font-weight: bold\">249</span>, <span style=\"color: #008080; text-decoration-color: #008080; font-weight: bold\">358</span>, <span style=\"color: #008080; text-decoration-color: #008080; font-weight: bold\">350</span>, <span style=\"color: #008080; text-decoration-color: #008080; font-weight: bold\">319</span>, <span style=\"color: #008080; text-decoration-color: #008080; font-weight: bold\">232</span><span style=\"font-weight: bold\">])</span>\n",
       "</pre>\n"
      ],
      "text/plain": [
       "\u001b[1;35mdict_keys\u001b[0m\u001b[1m(\u001b[0m\u001b[1m[\u001b[0m\u001b[32m'v'\u001b[0m, \u001b[32m'dv_250ms'\u001b[0m, \u001b[32m'dv_500ms'\u001b[0m, \u001b[32m'dv_1000ms'\u001b[0m, \u001b[32m'omega'\u001b[0m, \u001b[32m'domega_250ms'\u001b[0m, \u001b[32m'domega_500ms'\u001b[0m, \u001b[32m'domega_1000ms'\u001b[0m, \u001b[32m'curv_0cm'\u001b[0m, \u001b[32m'curv_5cm'\u001b[0m, \u001b[32m'curv_10cm'\u001b[0m, \u001b[32m'curv_15cm'\u001b[0m, \u001b[32m'curv_20cm'\u001b[0m, \u001b[32m'curv_25cm'\u001b[0m, \u001b[32m'curv_30cm'\u001b[0m, \u001b[1;36m302\u001b[0m, \u001b[1;36m390\u001b[0m, \u001b[1;36m447\u001b[0m, \u001b[1;36m458\u001b[0m, \u001b[1;36m459\u001b[0m, \u001b[1;36m484\u001b[0m, \u001b[1;36m274\u001b[0m, \u001b[1;36m541\u001b[0m, \u001b[1;36m301\u001b[0m, \u001b[1;36m578\u001b[0m, \u001b[1;36m595\u001b[0m, \u001b[1;36m641\u001b[0m, \u001b[1;36m485\u001b[0m, \u001b[1;36m290\u001b[0m, \u001b[1;36m670\u001b[0m, \u001b[1;36m287\u001b[0m, \u001b[1;36m285\u001b[0m, \u001b[1;36m663\u001b[0m, \u001b[1;36m145\u001b[0m, \u001b[1;36m289\u001b[0m, \u001b[1;36m91\u001b[0m, \u001b[1;36m95\u001b[0m, \u001b[1;36m216\u001b[0m, \u001b[1;36m520\u001b[0m, \u001b[1;36m217\u001b[0m, \u001b[1;36m239\u001b[0m, \u001b[1;36m244\u001b[0m, \u001b[1;36m248\u001b[0m, \u001b[1;36m249\u001b[0m, \u001b[1;36m358\u001b[0m, \u001b[1;36m350\u001b[0m, \u001b[1;36m319\u001b[0m, \u001b[1;36m232\u001b[0m\u001b[1m]\u001b[0m\u001b[1m)\u001b[0m\n"
      ]
     },
     "metadata": {},
     "output_type": "display_data"
    }
   ],
   "source": [
    "recordings = get_recording_names()\n",
    "doing = 0\n",
    "REC = recordings[doing]\n",
    "\n",
    "units, body, bouts, v, omega, v_250ms, omega_250ms, v_500ms, omega_500ms, v_1000ms, omega_1000ms = load_get_recording_data(REC)\n",
    "\n",
    "data = {\n",
    "    **dict(\n",
    "        v=[],\n",
    "        dv_250ms=[],\n",
    "        dv_500ms=[],\n",
    "        dv_1000ms=[],\n",
    "        omega=[],\n",
    "        domega_250ms=[],\n",
    "        domega_500ms=[],\n",
    "        domega_1000ms=[],\n",
    "    ),\n",
    "    **{f\"curv_{k}cm\":[] for k in curv_sample_points},\n",
    "    **{unit:[] for unit in units.unit_id.values},\n",
    "}\n",
    "\n",
    "data.keys()\n"
   ]
  },
  {
   "cell_type": "code",
   "execution_count": null,
   "metadata": {},
   "outputs": [
    {
     "data": {
      "text/html": [
       "<pre style=\"white-space:pre;overflow-x:auto;line-height:normal;font-family:Menlo,'DejaVu Sans Mono',consolas,'Courier New',monospace\"><span style=\"color: #ffa726; text-decoration-color: #ffa726\">Working...</span> <span style=\"color: #f92672; text-decoration-color: #f92672\">━━</span><span style=\"color: #3a3a3a; text-decoration-color: #3a3a3a\">╺</span> Completed:  <span style=\"color: #800080; text-decoration-color: #800080; font-weight: bold\">Completed 55/81</span> <span style=\"color: #800080; text-decoration-color: #800080\"> 68%</span> • Speed:  0.1 • Remaining:  <span style=\"color: #80cbc4; text-decoration-color: #80cbc4\">re…</span> Elpsed:  <span style=\"color: #81d4fa; text-decoration-color: #81d4fa\">ela…</span>\n",
       "                                                          st…               <span style=\"color: #80cbc4; text-decoration-color: #80cbc4\">0:…</span>          <span style=\"color: #81d4fa; text-decoration-color: #81d4fa\">0:1…</span>\n",
       "</pre>\n"
      ],
      "text/plain": [
       "\u001b[38;2;255;167;38mWorking...\u001b[0m \u001b[38;2;249;38;114m━━\u001b[0m\u001b[38;5;237m╺\u001b[0m Completed:  \u001b[1;35mCompleted 55/81\u001b[0m \u001b[35m 68%\u001b[0m • Speed:  0.1 • Remaining:  \u001b[38;2;128;203;196mre…\u001b[0m Elpsed:  \u001b[38;2;129;212;250mela…\u001b[0m\n",
       "                                                          st…               \u001b[38;2;128;203;196m0:…\u001b[0m          \u001b[38;2;129;212;250m0:1…\u001b[0m\n"
      ]
     },
     "metadata": {},
     "output_type": "display_data"
    }
   ],
   "source": [
    "for i, bout in track(bouts.iterrows(), total=len(bouts)):\n",
    "    S = upsample_frames_to_ms(bout.s)\n",
    "    start_ms = int(bout.start_frame / 60 * 1000)\n",
    "    end_ms = start_ms + len(S)\n",
    "    data['v'].extend(v[start_ms : end_ms])\n",
    "    data['dv_250ms'].extend(v_250ms[start_ms : end_ms])\n",
    "    data['dv_500ms'].extend(v_500ms[start_ms : end_ms])\n",
    "    data['dv_1000ms'].extend(v_1000ms[start_ms : end_ms])\n",
    "    data['omega'].extend(omega[start_ms : end_ms])\n",
    "    data['domega_250ms'].extend(omega_250ms[start_ms : end_ms])\n",
    "    data['domega_500ms'].extend(omega_500ms[start_ms : end_ms])\n",
    "    data['domega_1000ms'].extend(omega_1000ms[start_ms : end_ms])\n",
    "\n",
    "    for i, unit in units.iterrows():\n",
    "        data[unit.unit_id].extend(unit.firing_rate_ms[start_ms : end_ms])\n",
    "\n",
    "    for k_cm in curv_sample_points:\n",
    "        for s in S:\n",
    "            idx = np.argmin((track_data.S - s)**2)\n",
    "            data[f\"curv_{k_cm}cm\"].append(track_data[f\"k_{k_cm}\"][idx])\n",
    "\n",
    "    lengths = set([len(v) for v in data.values()])\n",
    "    if len(lengths) > 1:\n",
    "        lns = {k:len(v) for k,v in data.items()}        \n",
    "        raise ValueError(f\"Lengths of data are not the same:\\n{lns}\")\n",
    "\n",
    "    break\n",
    "\n",
    "{k:len(v) for k,v in data.items()}\n"
   ]
  }
 ],
 "metadata": {
  "kernelspec": {
   "display_name": "Python 3.7.0 ('dev')",
   "language": "python",
   "name": "python3"
  },
  "language_info": {
   "codemirror_mode": {
    "name": "ipython",
    "version": 3
   },
   "file_extension": ".py",
   "mimetype": "text/x-python",
   "name": "python",
   "nbconvert_exporter": "python",
   "pygments_lexer": "ipython3",
   "version": "3.7.0"
  },
  "orig_nbformat": 4,
  "vscode": {
   "interpreter": {
    "hash": "d14c38d234234b969aee73678d168700778a98933f098d78df9f79a7508c5a93"
   }
  }
 },
 "nbformat": 4,
 "nbformat_minor": 2
}
