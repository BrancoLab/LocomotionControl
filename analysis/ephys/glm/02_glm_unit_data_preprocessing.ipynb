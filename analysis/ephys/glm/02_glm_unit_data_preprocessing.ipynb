{
 "cells": [
  {
   "cell_type": "markdown",
   "metadata": {},
   "source": [
    "# Data preprocessing\n",
    "\n",
    "After having prepared the data with `glm_data_prep`, load each recordings data, do a bit of cleaning and normalization and then save each units' data into a dedicated folder and as a separate file."
   ]
  },
  {
   "cell_type": "code",
   "execution_count": 1,
   "metadata": {},
   "outputs": [
    {
     "data": {
      "text/html": [
       "<pre style=\"white-space:pre;overflow-x:auto;line-height:normal;font-family:Menlo,'DejaVu Sans Mono',consolas,'Courier New',monospace\"><span style=\"color: #7fbfbf; text-decoration-color: #7fbfbf\">[06/16/22 12:55:58] </span><span style=\"color: #008000; text-decoration-color: #008000\">DEBUG   </span> DPL - Saving data and logs to logs                   <a href=\"file://c:\\ProgramData\\Miniconda3\\envs\\dev\\lib\\site-packages\\tpd\\core.py\"><span style=\"color: #7f7f7f; text-decoration-color: #7f7f7f\">core.py</span></a><span style=\"color: #7f7f7f; text-decoration-color: #7f7f7f\">:</span><a href=\"file://c:\\ProgramData\\Miniconda3\\envs\\dev\\lib\\site-packages\\tpd\\core.py#118\"><span style=\"color: #7f7f7f; text-decoration-color: #7f7f7f\">118</span></a>\n",
       "</pre>\n"
      ],
      "text/plain": [
       "\u001b[2;36m[06/16/22 12:55:58]\u001b[0m\u001b[2;36m \u001b[0m\u001b[32mDEBUG   \u001b[0m DPL - Saving data and logs to logs                   \u001b]8;id=626706;file://c:\\ProgramData\\Miniconda3\\envs\\dev\\lib\\site-packages\\tpd\\core.py\u001b\\\u001b[2mcore.py\u001b[0m\u001b]8;;\u001b\\\u001b[2m:\u001b[0m\u001b]8;id=621135;file://c:\\ProgramData\\Miniconda3\\envs\\dev\\lib\\site-packages\\tpd\\core.py#118\u001b\\\u001b[2m118\u001b[0m\u001b]8;;\u001b\\\n"
      ]
     },
     "metadata": {},
     "output_type": "display_data"
    },
    {
     "data": {
      "text/html": [
       "<pre style=\"white-space:pre;overflow-x:auto;line-height:normal;font-family:Menlo,'DejaVu Sans Mono',consolas,'Courier New',monospace\"><span style=\"color: #7fbfbf; text-decoration-color: #7fbfbf\">                    </span><span style=\"color: #008000; text-decoration-color: #008000\">DEBUG   </span> Saving log file to: logs\\log.log                     <a href=\"file://c:\\ProgramData\\Miniconda3\\envs\\dev\\lib\\site-packages\\tpd\\core.py\"><span style=\"color: #7f7f7f; text-decoration-color: #7f7f7f\">core.py</span></a><span style=\"color: #7f7f7f; text-decoration-color: #7f7f7f\">:</span><a href=\"file://c:\\ProgramData\\Miniconda3\\envs\\dev\\lib\\site-packages\\tpd\\core.py#119\"><span style=\"color: #7f7f7f; text-decoration-color: #7f7f7f\">119</span></a>\n",
       "</pre>\n"
      ],
      "text/plain": [
       "\u001b[2;36m                   \u001b[0m\u001b[2;36m \u001b[0m\u001b[32mDEBUG   \u001b[0m Saving log file to: logs\\log.log                     \u001b]8;id=97764;file://c:\\ProgramData\\Miniconda3\\envs\\dev\\lib\\site-packages\\tpd\\core.py\u001b\\\u001b[2mcore.py\u001b[0m\u001b]8;;\u001b\\\u001b[2m:\u001b[0m\u001b]8;id=340049;file://c:\\ProgramData\\Miniconda3\\envs\\dev\\lib\\site-packages\\tpd\\core.py#119\u001b\\\u001b[2m119\u001b[0m\u001b]8;;\u001b\\\n"
      ]
     },
     "metadata": {},
     "output_type": "display_data"
    },
    {
     "name": "stdout",
     "output_type": "stream",
     "text": [
      "Connecting root@127.0.0.1:3306\n"
     ]
    },
    {
     "data": {
      "text/html": [
       "<pre style=\"white-space:pre;overflow-x:auto;line-height:normal;font-family:Menlo,'DejaVu Sans Mono',consolas,'Courier New',monospace\"><span style=\"color: #7fbfbf; text-decoration-color: #7fbfbf\">[06/16/22 12:55:59] </span><span style=\"color: #008000; text-decoration-color: #008000\">DEBUG   </span> Connected to database: LOCOMOTION4                <a href=\"file://C:\\Users\\Federico\\Documents\\GitHub\\pysical_locomotion\\data\\dbase\\__init__.py\"><span style=\"color: #7f7f7f; text-decoration-color: #7f7f7f\">__init__.py</span></a><span style=\"color: #7f7f7f; text-decoration-color: #7f7f7f\">:</span><a href=\"file://C:\\Users\\Federico\\Documents\\GitHub\\pysical_locomotion\\data\\dbase\\__init__.py#11\"><span style=\"color: #7f7f7f; text-decoration-color: #7f7f7f\">11</span></a>\n",
       "</pre>\n"
      ],
      "text/plain": [
       "\u001b[2;36m[06/16/22 12:55:59]\u001b[0m\u001b[2;36m \u001b[0m\u001b[32mDEBUG   \u001b[0m Connected to database: LOCOMOTION4                \u001b]8;id=210959;file://C:\\Users\\Federico\\Documents\\GitHub\\pysical_locomotion\\data\\dbase\\__init__.py\u001b\\\u001b[2m__init__.py\u001b[0m\u001b]8;;\u001b\\\u001b[2m:\u001b[0m\u001b]8;id=503144;file://C:\\Users\\Federico\\Documents\\GitHub\\pysical_locomotion\\data\\dbase\\__init__.py#11\u001b\\\u001b[2m11\u001b[0m\u001b]8;;\u001b\\\n"
      ]
     },
     "metadata": {},
     "output_type": "display_data"
    }
   ],
   "source": [
    "# imports\n",
    "import sys\n",
    "from pathlib import Path\n",
    "import pandas as pd\n",
    "from sklearn.preprocessing import Normalizer\n",
    "from fcutils.path import to_yaml, from_yaml\n",
    "import warnings\n",
    "warnings.simplefilter(action='ignore', category=pd.errors.PerformanceWarning)\n",
    "\n",
    "sys.path.append(\"./\")\n",
    "sys.path.append(r\"C:\\Users\\Federico\\Documents\\GitHub\\pysical_locomotion\")\n",
    "from analysis.ephys.utils import get_recording_names\n",
    "\n",
    "\n",
    "cache = Path(r\"D:\\Dropbox (UCL)\\Rotation_vte\\Locomotion\\analysis\\ephys\\GLM\\data\")\n",
    "base_dir = Path(r\"D:\\Dropbox (UCL)\\Rotation_vte\\Locomotion\\analysis\\ephys\\GLM\")\n",
    "\n",
    "metadatafile = base_dir / \"metadata.yaml\""
   ]
  },
  {
   "cell_type": "markdown",
   "metadata": {},
   "source": [
    "## Load data \n",
    "and remove rows with nans."
   ]
  },
  {
   "cell_type": "code",
   "execution_count": 2,
   "metadata": {},
   "outputs": [],
   "source": [
    "def load(REC):\n",
    "    rec_data = pd.read_hdf(cache / (REC + \"_bouts.h5\"), key=\"data\").reset_index(drop=True)\n",
    "    rec_data.head()\n",
    "\n",
    "    # drop rows with nans\n",
    "    rec_data.dropna(inplace=True)\n",
    "    return rec_data"
   ]
  },
  {
   "cell_type": "markdown",
   "metadata": {},
   "source": [
    "## Normalize and clean\n",
    "\n",
    "Improve on columns names."
   ]
  },
  {
   "cell_type": "code",
   "execution_count": 3,
   "metadata": {},
   "outputs": [],
   "source": [
    "def clean(rec_data):\n",
    "    units = [c for c in rec_data.columns if isinstance(c, int)]\n",
    "    variables = list(rec_data.columns[:17])\n",
    "\n",
    "    # rename unit columns\n",
    "    column_names = [c if c not in units else \"unit_\" + str(c) for c in rec_data.columns]\n",
    "    rec_data.rename(columns=dict(zip(rec_data.columns, column_names)), inplace=True)\n",
    "\n",
    "    # add squared variables\n",
    "    rec_data[\"v_squared\"] = rec_data.v**2\n",
    "    rec_data[\"omega_squared\"] = rec_data.omega**2\n",
    "    variables += [\"v_squared\", \"omega_squared\"]\n",
    "    return rec_data, units, variables"
   ]
  },
  {
   "cell_type": "code",
   "execution_count": 4,
   "metadata": {},
   "outputs": [],
   "source": [
    "def normalize(rec_data, variables):\n",
    "    # split behavioral variables from units firing rates\n",
    "    X, FR = rec_data[variables], rec_data.drop(variables, axis=1)\n",
    "\n",
    "    # go from firing rate to p(spike | ms)\n",
    "    FR = FR / 1000\n",
    "\n",
    "    # normalize columns of X\n",
    "    X = pd.DataFrame(Normalizer().fit_transform(X.T).T, columns=X.columns, index=X.index)\n",
    "\n",
    "    # put everything back together\n",
    "    data = pd.concat([X, FR], axis=1)\n",
    "    del rec_data, X, FR\n",
    "    return data"
   ]
  },
  {
   "cell_type": "markdown",
   "metadata": {},
   "source": [
    "## Save\n",
    "For each unit in a dedicated folder/file and update metadata."
   ]
  },
  {
   "cell_type": "code",
   "execution_count": 7,
   "metadata": {},
   "outputs": [],
   "source": [
    "def process_unit_data(data, unit:str):\n",
    "    unit_data = data[list(variables) + [unit]].copy()\n",
    "    unit_data.rename(columns={unit:'p_spike'}, inplace=True)\n",
    "    return unit_data\n",
    "\n",
    "\n",
    "def save(REC, data, units):\n",
    "    metadata = from_yaml(metadatafile) or dict()\n",
    "    for i, unit in enumerate(units):\n",
    "        unit_folder = base_dir / f\"{REC}_unit_{unit}\"\n",
    "        if unit_folder.exists():\n",
    "            print(f\"{unit_folder} already exists\")\n",
    "            continue\n",
    "        unit_folder.mkdir(exist_ok=True)\n",
    "\n",
    "        # save unit data\n",
    "        process_unit_data(data, f\"unit_{unit}\").to_parquet(unit_folder / \"data.parquet\")\n",
    "\n",
    "        # save shuffled units\n",
    "        shuffles_folder = unit_folder / \"shuffles\"\n",
    "        shuffles_folder.mkdir(exist_ok=True)\n",
    "\n",
    "        for shuffle in range(100):\n",
    "            process_unit_data(data, f\"{unit}_shuffle_{shuffle}\").to_parquet(shuffles_folder / f\"shuffle_{shuffle}.parquet\")\n",
    "            \n",
    "\n",
    "        metadata[f\"{REC}_{unit}\"] = dict(\n",
    "            recording=REC,\n",
    "            folder = str(unit_folder),\n",
    "            shuffles_folder = str(unit_folder / \"shuffles\"),\n",
    "            unit=unit,\n",
    "            unit_data=str(unit_folder / \"data.parquet\"),\n",
    "            glm_fitted=False,\n",
    "        )\n",
    "    to_yaml(metadatafile, metadata)"
   ]
  },
  {
   "cell_type": "markdown",
   "metadata": {},
   "source": [
    "# Run"
   ]
  },
  {
   "cell_type": "code",
   "execution_count": 8,
   "metadata": {},
   "outputs": [],
   "source": [
    "for REC in get_recording_names():\n",
    "    try:\n",
    "        rec_data = load(REC)\n",
    "    except:\n",
    "        print(f\"{REC} not found\")\n",
    "        continue\n",
    "    rec_data, units, variables = clean(rec_data)\n",
    "    data = normalize(rec_data, variables)\n",
    "    del rec_data\n",
    "    save(REC, data, units)"
   ]
  },
  {
   "cell_type": "code",
   "execution_count": null,
   "metadata": {},
   "outputs": [],
   "source": []
  }
 ],
 "metadata": {
  "kernelspec": {
   "display_name": "Python 3.7.0 ('dev')",
   "language": "python",
   "name": "python3"
  },
  "language_info": {
   "codemirror_mode": {
    "name": "ipython",
    "version": 3
   },
   "file_extension": ".py",
   "mimetype": "text/x-python",
   "name": "python",
   "nbconvert_exporter": "python",
   "pygments_lexer": "ipython3",
   "version": "3.7.0"
  },
  "orig_nbformat": 4,
  "vscode": {
   "interpreter": {
    "hash": "d14c38d234234b969aee73678d168700778a98933f098d78df9f79a7508c5a93"
   }
  }
 },
 "nbformat": 4,
 "nbformat_minor": 2
}
