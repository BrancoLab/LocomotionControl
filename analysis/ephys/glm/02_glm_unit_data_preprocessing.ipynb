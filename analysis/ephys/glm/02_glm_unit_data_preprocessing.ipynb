{
 "cells": [
  {
   "cell_type": "markdown",
   "metadata": {},
   "source": [
    "# Data preprocessing\n",
    "\n",
    "After having prepared the data with `glm_data_prep`, load each recordings data, do a bit of cleaning and normalization and then save each units' data into a dedicated folder and as a separate file."
   ]
  },
  {
   "cell_type": "code",
   "execution_count": 1,
   "metadata": {},
   "outputs": [
    {
     "data": {
      "text/html": [
       "<pre style=\"white-space:pre;overflow-x:auto;line-height:normal;font-family:Menlo,'DejaVu Sans Mono',consolas,'Courier New',monospace\"><span style=\"color: #7fbfbf; text-decoration-color: #7fbfbf\">[06/21/22 19:23:55] </span><span style=\"color: #008000; text-decoration-color: #008000\">DEBUG   </span> DPL - Saving data and logs to logs                   <a href=\"file://c:\\ProgramData\\Miniconda3\\envs\\dev\\lib\\site-packages\\tpd\\core.py\"><span style=\"color: #7f7f7f; text-decoration-color: #7f7f7f\">core.py</span></a><span style=\"color: #7f7f7f; text-decoration-color: #7f7f7f\">:</span><a href=\"file://c:\\ProgramData\\Miniconda3\\envs\\dev\\lib\\site-packages\\tpd\\core.py#118\"><span style=\"color: #7f7f7f; text-decoration-color: #7f7f7f\">118</span></a>\n",
       "</pre>\n"
      ],
      "text/plain": [
       "\u001b[2;36m[06/21/22 19:23:55]\u001b[0m\u001b[2;36m \u001b[0m\u001b[32mDEBUG   \u001b[0m DPL - Saving data and logs to logs                   \u001b]8;id=486036;file://c:\\ProgramData\\Miniconda3\\envs\\dev\\lib\\site-packages\\tpd\\core.py\u001b\\\u001b[2mcore.py\u001b[0m\u001b]8;;\u001b\\\u001b[2m:\u001b[0m\u001b]8;id=250761;file://c:\\ProgramData\\Miniconda3\\envs\\dev\\lib\\site-packages\\tpd\\core.py#118\u001b\\\u001b[2m118\u001b[0m\u001b]8;;\u001b\\\n"
      ]
     },
     "metadata": {},
     "output_type": "display_data"
    },
    {
     "data": {
      "text/html": [
       "<pre style=\"white-space:pre;overflow-x:auto;line-height:normal;font-family:Menlo,'DejaVu Sans Mono',consolas,'Courier New',monospace\"><span style=\"color: #7fbfbf; text-decoration-color: #7fbfbf\">                    </span><span style=\"color: #008000; text-decoration-color: #008000\">DEBUG   </span> Saving log file to: logs\\log.log                     <a href=\"file://c:\\ProgramData\\Miniconda3\\envs\\dev\\lib\\site-packages\\tpd\\core.py\"><span style=\"color: #7f7f7f; text-decoration-color: #7f7f7f\">core.py</span></a><span style=\"color: #7f7f7f; text-decoration-color: #7f7f7f\">:</span><a href=\"file://c:\\ProgramData\\Miniconda3\\envs\\dev\\lib\\site-packages\\tpd\\core.py#119\"><span style=\"color: #7f7f7f; text-decoration-color: #7f7f7f\">119</span></a>\n",
       "</pre>\n"
      ],
      "text/plain": [
       "\u001b[2;36m                   \u001b[0m\u001b[2;36m \u001b[0m\u001b[32mDEBUG   \u001b[0m Saving log file to: logs\\log.log                     \u001b]8;id=228084;file://c:\\ProgramData\\Miniconda3\\envs\\dev\\lib\\site-packages\\tpd\\core.py\u001b\\\u001b[2mcore.py\u001b[0m\u001b]8;;\u001b\\\u001b[2m:\u001b[0m\u001b]8;id=791138;file://c:\\ProgramData\\Miniconda3\\envs\\dev\\lib\\site-packages\\tpd\\core.py#119\u001b\\\u001b[2m119\u001b[0m\u001b]8;;\u001b\\\n"
      ]
     },
     "metadata": {},
     "output_type": "display_data"
    },
    {
     "name": "stdout",
     "output_type": "stream",
     "text": [
      "Connecting root@127.0.0.1:3306\n"
     ]
    },
    {
     "data": {
      "text/html": [
       "<pre style=\"white-space:pre;overflow-x:auto;line-height:normal;font-family:Menlo,'DejaVu Sans Mono',consolas,'Courier New',monospace\"><span style=\"color: #7fbfbf; text-decoration-color: #7fbfbf\">[06/21/22 19:23:56] </span><span style=\"color: #008000; text-decoration-color: #008000\">DEBUG   </span> Connected to database: LOCOMOTION4                <a href=\"file://C:\\Users\\Federico\\Documents\\GitHub\\pysical_locomotion\\data\\dbase\\__init__.py\"><span style=\"color: #7f7f7f; text-decoration-color: #7f7f7f\">__init__.py</span></a><span style=\"color: #7f7f7f; text-decoration-color: #7f7f7f\">:</span><a href=\"file://C:\\Users\\Federico\\Documents\\GitHub\\pysical_locomotion\\data\\dbase\\__init__.py#11\"><span style=\"color: #7f7f7f; text-decoration-color: #7f7f7f\">11</span></a>\n",
       "</pre>\n"
      ],
      "text/plain": [
       "\u001b[2;36m[06/21/22 19:23:56]\u001b[0m\u001b[2;36m \u001b[0m\u001b[32mDEBUG   \u001b[0m Connected to database: LOCOMOTION4                \u001b]8;id=185029;file://C:\\Users\\Federico\\Documents\\GitHub\\pysical_locomotion\\data\\dbase\\__init__.py\u001b\\\u001b[2m__init__.py\u001b[0m\u001b]8;;\u001b\\\u001b[2m:\u001b[0m\u001b]8;id=579837;file://C:\\Users\\Federico\\Documents\\GitHub\\pysical_locomotion\\data\\dbase\\__init__.py#11\u001b\\\u001b[2m11\u001b[0m\u001b]8;;\u001b\\\n"
      ]
     },
     "metadata": {},
     "output_type": "display_data"
    }
   ],
   "source": [
    "# imports\n",
    "import sys\n",
    "import joblib\n",
    "from pathlib import Path\n",
    "import pandas as pd\n",
    "from sklearn.preprocessing import Normalizer\n",
    "from fcutils.path import to_yaml, from_yaml\n",
    "import warnings\n",
    "warnings.simplefilter(action='ignore', category=pd.errors.PerformanceWarning)\n",
    "\n",
    "sys.path.append(\"./\")\n",
    "sys.path.append(r\"C:\\Users\\Federico\\Documents\\GitHub\\pysical_locomotion\")\n",
    "from analysis.ephys.utils import get_recording_names\n",
    "\n",
    "\n",
    "cache = Path(r\"D:\\Dropbox (UCL)\\Rotation_vte\\Locomotion\\analysis\\ephys\\GLM\\data\")\n",
    "base_dir = Path(r\"D:\\Dropbox (UCL)\\Rotation_vte\\Locomotion\\analysis\\ephys\\GLM\")\n",
    "\n",
    "metadatafile = base_dir / \"metadata.yaml\""
   ]
  },
  {
   "cell_type": "markdown",
   "metadata": {},
   "source": [
    "## Load data \n",
    "and remove rows with nans."
   ]
  },
  {
   "cell_type": "code",
   "execution_count": 2,
   "metadata": {},
   "outputs": [],
   "source": [
    "def load(REC):\n",
    "    rec_data = pd.read_hdf(cache / (REC + \"_bouts.h5\"), key=\"data\").reset_index(drop=True)\n",
    "    # rec_data = rec_data.drop(columns=[\"curv_35cm\", \"curv_40cm\", \"curv_45cm\", \"curv_50cm\", \"curv_55cm\", \"curv_60cm\"], inplace=False).reset_index()\n",
    "\n",
    "    # drop rows with nans\n",
    "    rec_data.dropna(inplace=True)\n",
    "    rec_data.reset_index(inplace=True, drop=True)\n",
    "    return rec_data"
   ]
  },
  {
   "cell_type": "markdown",
   "metadata": {},
   "source": [
    "## Normalize and clean\n",
    "\n",
    "Improve on columns names."
   ]
  },
  {
   "cell_type": "code",
   "execution_count": 3,
   "metadata": {},
   "outputs": [],
   "source": [
    "def clean(rec_data):\n",
    "    units = [c for c in rec_data.columns if isinstance(c, int)]\n",
    "    variables = list(rec_data.columns[:17])\n",
    "\n",
    "    # rename unit columns\n",
    "    column_names = [c if c not in units else \"unit_\" + str(c) for c in rec_data.columns]\n",
    "    rec_data.rename(columns=dict(zip(rec_data.columns, column_names)), inplace=True)\n",
    "\n",
    "    # add squared variables\n",
    "    rec_data[\"v_squared\"] = rec_data.v**2\n",
    "    rec_data[\"omega_squared\"] = rec_data.omega**2\n",
    "    variables += [\"v_squared\", \"omega_squared\"]\n",
    "    return rec_data, units, variables"
   ]
  },
  {
   "cell_type": "code",
   "execution_count": 4,
   "metadata": {},
   "outputs": [],
   "source": [
    "def normalize(rec_data, variables):\n",
    "    # split behavioral variables from units firing rates\n",
    "    X, FR = rec_data[variables], rec_data.drop(variables, axis=1)\n",
    "\n",
    "    # go from firing rate to p(spike | ms)\n",
    "    FR = FR / 200\n",
    "\n",
    "    # normalize columns of X\n",
    "    # X_min = X.min()\n",
    "    # X_max = X.max()\n",
    "    # X = (X - X_min) / (X_max - X_min)\n",
    "\n",
    "    # standardize columns of X\n",
    "    X_mean = X.mean()\n",
    "    X_std = X.std()\n",
    "    X = (X - X_mean) / X_std\n",
    "\n",
    "    # x_reconstructed = y * (X_max - _min) + _min\n",
    "\n",
    "    # put everything back together\n",
    "    data = pd.concat([X, FR], axis=1)\n",
    "    del rec_data, X, FR\n",
    "    return data, X_mean, X_std"
   ]
  },
  {
   "cell_type": "markdown",
   "metadata": {},
   "source": [
    "## Save\n",
    "For each unit in a dedicated folder/file and update metadata."
   ]
  },
  {
   "cell_type": "code",
   "execution_count": 5,
   "metadata": {},
   "outputs": [],
   "source": [
    "def process_unit_data(data, unit:str, activity_only=False):\n",
    "    if not activity_only:\n",
    "        unit_data = data[list(variables) + [unit]].copy()\n",
    "    else:\n",
    "        unit_data = data[[unit]].copy()\n",
    "    unit_data.rename(columns={unit:'p_spike'}, inplace=True)\n",
    "    return unit_data\n",
    "\n",
    "\n",
    "def save(REC, data, units, X_mean, X_std, region):\n",
    "    metadata = from_yaml(metadatafile) or dict()\n",
    "    for i, unit in enumerate(units):\n",
    "        print(unit)\n",
    "        if f\"{REC}_{unit}\" in metadata.keys():\n",
    "            continue\n",
    "\n",
    "        unit_folder = base_dir / f\"{REC}_unit_{unit}\"\n",
    "        unit_folder.mkdir(exist_ok=True)\n",
    "\n",
    "        # save normalizers\n",
    "        normalizers_folder = unit_folder / \"normalizers\"\n",
    "        normalizers_folder.mkdir(exist_ok=True)\n",
    "        X_mean.to_hdf(normalizers_folder / f\"{REC}_mean.h5\", key=\"data\")\n",
    "        X_std.to_hdf(normalizers_folder / f\"{REC}_std.h5\", key=\"data\")\n",
    "\n",
    "        # save unit data\n",
    "        process_unit_data(data, f\"unit_{unit}\").to_parquet(unit_folder / \"data.parquet\")\n",
    "\n",
    "        # # save shuffled units\n",
    "        shuffles_folder = unit_folder / \"shuffles\"\n",
    "        shuffles_folder.mkdir(exist_ok=True)\n",
    "\n",
    "        for shuffle in range(100):\n",
    "            process_unit_data(data, f\"{unit}_shuffle_{shuffle}\", activity_only=True).to_parquet(shuffles_folder / f\"shuffle_{shuffle}.parquet\")\n",
    "            \n",
    "\n",
    "        metadata[f\"{REC}_{unit}\"] = dict(\n",
    "            recording=REC,\n",
    "            folder = str(unit_folder),\n",
    "            shuffles_folder = str(unit_folder / \"shuffles\"),\n",
    "            unit=unit,\n",
    "            unit_data=str(unit_folder / \"data.parquet\"),\n",
    "            glm_fitted=False,\n",
    "            region=region,\n",
    "        )\n",
    "\n",
    "        to_yaml(metadatafile, metadata)"
   ]
  },
  {
   "cell_type": "markdown",
   "metadata": {},
   "source": [
    "# Run"
   ]
  },
  {
   "cell_type": "code",
   "execution_count": 6,
   "metadata": {},
   "outputs": [
    {
     "data": {
      "text/html": [
       "<pre style=\"white-space:pre;overflow-x:auto;line-height:normal;font-family:Menlo,'DejaVu Sans Mono',consolas,'Courier New',monospace\">\n",
       "<span style=\"color: #800080; text-decoration-color: #800080; font-weight: bold\">array</span><span style=\"font-weight: bold\">([</span><span style=\"color: #008000; text-decoration-color: #008000\">'FC_210715_AAA1110750_r5_hairpin'</span>,\n",
       "       <span style=\"color: #008000; text-decoration-color: #008000\">'FC_210716_AAA1110750_r6_hairpin'</span>, <span style=\"color: #008000; text-decoration-color: #008000\">'FC_210720_AAA1110750_hairpin'</span>,\n",
       "       <span style=\"color: #008000; text-decoration-color: #008000\">'FC_210721_AAA1110750_hairpin'</span>, <span style=\"color: #008000; text-decoration-color: #008000\">'FC_210722_AAA1110750_hairpin'</span>,\n",
       "       <span style=\"color: #008000; text-decoration-color: #008000\">'FC_211022_BAA110516_hairpin'</span>, <span style=\"color: #008000; text-decoration-color: #008000\">'FC_211027_BAA110516_hairpin'</span>,\n",
       "       <span style=\"color: #008000; text-decoration-color: #008000\">'FC_211214_BAA110517_hairpin'</span>, <span style=\"color: #008000; text-decoration-color: #008000\">'FC_220114_BAA110517_hairpin'</span>,\n",
       "       <span style=\"color: #008000; text-decoration-color: #008000\">'FC_220117_BAA110517_hairpin'</span>, <span style=\"color: #008000; text-decoration-color: #008000\">'FC_220119_BAA110517_hairpin'</span>,\n",
       "       <span style=\"color: #008000; text-decoration-color: #008000\">'FC_220120_BAA110517_hairpin'</span>, <span style=\"color: #008000; text-decoration-color: #008000\">'FC_210917_BAA1110279_hairpin'</span>,\n",
       "       <span style=\"color: #008000; text-decoration-color: #008000\">'FC_210820_BAA1110281_hairpin'</span>, <span style=\"color: #008000; text-decoration-color: #008000\">'FC_210829_BAA1110281_hairpin'</span>,\n",
       "       <span style=\"color: #008000; text-decoration-color: #008000\">'FC_210830_BAA1110281_hairpin'</span>, <span style=\"color: #008000; text-decoration-color: #008000\">'FC_210831_BAA1110281_hairpin'</span>,\n",
       "       <span style=\"color: #008000; text-decoration-color: #008000\">'FC_210901_BAA1110281_hairpin'</span>, <span style=\"color: #008000; text-decoration-color: #008000\">'FC_210906_BAA1110281_hairpin'</span>,\n",
       "       <span style=\"color: #008000; text-decoration-color: #008000\">'FC_210917_BAA1110281_hairpin'</span><span style=\"font-weight: bold\">]</span>, <span style=\"color: #808000; text-decoration-color: #808000\">dtype</span>=<span style=\"color: #800080; text-decoration-color: #800080\">object</span><span style=\"font-weight: bold\">)</span>\n",
       "</pre>\n"
      ],
      "text/plain": [
       "\n",
       "\u001b[1;35marray\u001b[0m\u001b[1m(\u001b[0m\u001b[1m[\u001b[0m\u001b[32m'FC_210715_AAA1110750_r5_hairpin'\u001b[0m,\n",
       "       \u001b[32m'FC_210716_AAA1110750_r6_hairpin'\u001b[0m, \u001b[32m'FC_210720_AAA1110750_hairpin'\u001b[0m,\n",
       "       \u001b[32m'FC_210721_AAA1110750_hairpin'\u001b[0m, \u001b[32m'FC_210722_AAA1110750_hairpin'\u001b[0m,\n",
       "       \u001b[32m'FC_211022_BAA110516_hairpin'\u001b[0m, \u001b[32m'FC_211027_BAA110516_hairpin'\u001b[0m,\n",
       "       \u001b[32m'FC_211214_BAA110517_hairpin'\u001b[0m, \u001b[32m'FC_220114_BAA110517_hairpin'\u001b[0m,\n",
       "       \u001b[32m'FC_220117_BAA110517_hairpin'\u001b[0m, \u001b[32m'FC_220119_BAA110517_hairpin'\u001b[0m,\n",
       "       \u001b[32m'FC_220120_BAA110517_hairpin'\u001b[0m, \u001b[32m'FC_210917_BAA1110279_hairpin'\u001b[0m,\n",
       "       \u001b[32m'FC_210820_BAA1110281_hairpin'\u001b[0m, \u001b[32m'FC_210829_BAA1110281_hairpin'\u001b[0m,\n",
       "       \u001b[32m'FC_210830_BAA1110281_hairpin'\u001b[0m, \u001b[32m'FC_210831_BAA1110281_hairpin'\u001b[0m,\n",
       "       \u001b[32m'FC_210901_BAA1110281_hairpin'\u001b[0m, \u001b[32m'FC_210906_BAA1110281_hairpin'\u001b[0m,\n",
       "       \u001b[32m'FC_210917_BAA1110281_hairpin'\u001b[0m\u001b[1m]\u001b[0m, \u001b[33mdtype\u001b[0m=\u001b[35mobject\u001b[0m\u001b[1m)\u001b[0m\n"
      ]
     },
     "metadata": {},
     "output_type": "display_data"
    }
   ],
   "source": [
    "# choose which ones to do to avoid repetition of loading stuff\n",
    "REGION = \"CUN/PPN\"\n",
    "rec_to_do = get_recording_names(region=REGION)\n",
    "rec_to_do"
   ]
  },
  {
   "cell_type": "code",
   "execution_count": 7,
   "metadata": {},
   "outputs": [
    {
     "name": "stdout",
     "output_type": "stream",
     "text": [
      "Doing FC_210715_AAA1110750_r5_hairpin\n",
      "833\n",
      "818\n",
      "817\n",
      "811\n",
      "798\n",
      "733\n",
      "Doing FC_210716_AAA1110750_r6_hairpin\n",
      "753\n",
      "774\n",
      "781\n",
      "785\n",
      "794\n",
      "832\n",
      "747\n",
      "Doing FC_210720_AAA1110750_hairpin\n",
      "328\n",
      "324\n",
      "323\n",
      "320\n",
      "316\n",
      "308\n",
      "FC_210721_AAA1110750_hairpin not found File D:\\Dropbox (UCL)\\Rotation_vte\\Locomotion\\analysis\\ephys\\GLM\\data\\FC_210721_AAA1110750_hairpin_bouts.h5 does not exist\n",
      "Doing FC_210722_AAA1110750_hairpin\n",
      "349\n",
      "348\n",
      "345\n",
      "Doing FC_211022_BAA110516_hairpin\n",
      "711\n",
      "700\n",
      "695\n",
      "708\n",
      "600\n",
      "595\n",
      "592\n",
      "530\n",
      "551\n",
      "554\n",
      "Doing FC_211027_BAA110516_hairpin\n",
      "545\n",
      "461\n",
      "Doing FC_211214_BAA110517_hairpin\n",
      "379\n",
      "368\n",
      "Doing FC_220114_BAA110517_hairpin\n",
      "501\n",
      "489\n",
      "Doing FC_220117_BAA110517_hairpin\n",
      "638\n",
      "560\n",
      "565\n",
      "589\n",
      "632\n",
      "615\n",
      "629\n",
      "593\n",
      "Doing FC_220119_BAA110517_hairpin\n",
      "405\n",
      "344\n",
      "351\n",
      "355\n",
      "385\n",
      "361\n",
      "378\n",
      "380\n",
      "358\n",
      "Doing FC_220120_BAA110517_hairpin\n",
      "510\n",
      "444\n",
      "449\n",
      "472\n",
      "454\n",
      "471\n",
      "452\n",
      "Doing FC_210917_BAA1110279_hairpin\n",
      "Doing FC_210820_BAA1110281_hairpin\n",
      "649\n",
      "506\n",
      "505\n",
      "501\n",
      "482\n",
      "481\n",
      "579\n",
      "395\n",
      "360\n",
      "367\n",
      "383\n",
      "384\n",
      "390\n",
      "319\n",
      "402\n",
      "408\n",
      "410\n",
      "416\n",
      "435\n",
      "440\n",
      "447\n",
      "460\n",
      "318\n",
      "298\n",
      "342\n",
      "320\n",
      "Doing FC_210829_BAA1110281_hairpin\n",
      "602\n",
      "596\n",
      "581\n",
      "558\n",
      "534\n",
      "533\n",
      "529\n",
      "491\n",
      "471\n",
      "407\n",
      "401\n",
      "398\n",
      "397\n",
      "390\n",
      "374\n",
      "348\n",
      "344\n",
      "473\n",
      "482\n",
      "424\n",
      "Doing FC_210830_BAA1110281_hairpin\n",
      "499\n",
      "500\n",
      "663\n",
      "619\n",
      "576\n",
      "549\n",
      "548\n",
      "545\n",
      "522\n",
      "490\n",
      "487\n",
      "430\n",
      "422\n",
      "397\n",
      "390\n",
      "367\n",
      "Doing FC_210831_BAA1110281_hairpin\n",
      "521\n",
      "481\n",
      "457\n",
      "488\n",
      "496\n",
      "454\n",
      "451\n",
      "502\n",
      "503\n",
      "507\n",
      "513\n",
      "514\n",
      "520\n",
      "472\n",
      "540\n",
      "544\n",
      "545\n",
      "547\n",
      "572\n",
      "575\n",
      "578\n",
      "622\n",
      "526\n",
      "295\n",
      "321\n",
      "437\n",
      "422\n",
      "396\n",
      "394\n",
      "382\n",
      "364\n",
      "349\n",
      "343\n",
      "337\n",
      "300\n",
      "FC_210901_BAA1110281_hairpin not found File D:\\Dropbox (UCL)\\Rotation_vte\\Locomotion\\analysis\\ephys\\GLM\\data\\FC_210901_BAA1110281_hairpin_bouts.h5 does not exist\n",
      "Doing FC_210906_BAA1110281_hairpin\n",
      "620\n",
      "619\n",
      "601\n",
      "571\n",
      "366\n",
      "390\n",
      "409\n",
      "386\n",
      "471\n",
      "510\n",
      "551\n",
      "559\n",
      "415\n",
      "FC_210917_BAA1110281_hairpin not found File D:\\Dropbox (UCL)\\Rotation_vte\\Locomotion\\analysis\\ephys\\GLM\\data\\FC_210917_BAA1110281_hairpin_bouts.h5 does not exist\n"
     ]
    }
   ],
   "source": [
    "for REC in rec_to_do:\n",
    "    try:\n",
    "        rec_data = load(REC)\n",
    "    except Exception as e:\n",
    "        print(f\"{REC} not found {e}\")\n",
    "        continue\n",
    "    print(f\"Doing {REC}\")\n",
    "    rec_data, units, variables = clean(rec_data)\n",
    "    data, X_min, X_max = normalize(rec_data, variables)\n",
    "    del rec_data\n",
    "    save(REC, data, units, X_min, X_max, REGION)\n",
    "\n",
    "    "
   ]
  },
  {
   "cell_type": "code",
   "execution_count": null,
   "metadata": {},
   "outputs": [],
   "source": []
  }
 ],
 "metadata": {
  "kernelspec": {
   "display_name": "Python 3.7.0 ('dev')",
   "language": "python",
   "name": "python3"
  },
  "language_info": {
   "codemirror_mode": {
    "name": "ipython",
    "version": 3
   },
   "file_extension": ".py",
   "mimetype": "text/x-python",
   "name": "python",
   "nbconvert_exporter": "python",
   "pygments_lexer": "ipython3",
   "version": "3.7.0"
  },
  "orig_nbformat": 4,
  "vscode": {
   "interpreter": {
    "hash": "d14c38d234234b969aee73678d168700778a98933f098d78df9f79a7508c5a93"
   }
  }
 },
 "nbformat": 4,
 "nbformat_minor": 2
}
