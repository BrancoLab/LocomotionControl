{
 "cells": [
  {
   "cell_type": "markdown",
   "metadata": {},
   "source": [
    "# GLM data prep\n",
    "\n",
    "Create a table of data for each recording.\n",
    "Each row is a millisecond (data only from bouts).\n",
    "Variables include speeds + shifted speeds, curvature of the track, firing rate...\n"
   ]
  },
  {
   "cell_type": "code",
   "execution_count": 1,
   "metadata": {},
   "outputs": [
    {
     "name": "stdout",
     "output_type": "stream",
     "text": [
      "Connecting root@127.0.0.1:3306\n"
     ]
    },
    {
     "data": {
      "text/html": [
       "<pre style=\"white-space:pre;overflow-x:auto;line-height:normal;font-family:Menlo,'DejaVu Sans Mono',consolas,'Courier New',monospace\"><span style=\"color: #7fbfbf; text-decoration-color: #7fbfbf\">[07/14/22 10:43:45] </span><span style=\"color: #008000; text-decoration-color: #008000\">DEBUG   </span> Connected to database: LOCOMOTION4                <a href=\"file://C:\\Users\\Federico\\Documents\\GitHub\\pysical_locomotion\\data\\dbase\\__init__.py\"><span style=\"color: #7f7f7f; text-decoration-color: #7f7f7f\">__init__.py</span></a><span style=\"color: #7f7f7f; text-decoration-color: #7f7f7f\">:</span><a href=\"file://C:\\Users\\Federico\\Documents\\GitHub\\pysical_locomotion\\data\\dbase\\__init__.py#11\"><span style=\"color: #7f7f7f; text-decoration-color: #7f7f7f\">11</span></a>\n",
       "</pre>\n"
      ],
      "text/plain": [
       "\u001b[2;36m[07/14/22 10:43:45]\u001b[0m\u001b[2;36m \u001b[0m\u001b[32mDEBUG   \u001b[0m Connected to database: LOCOMOTION4                \u001b]8;id=462521;file://C:\\Users\\Federico\\Documents\\GitHub\\pysical_locomotion\\data\\dbase\\__init__.py\u001b\\\u001b[2m__init__.py\u001b[0m\u001b]8;;\u001b\\\u001b[2m:\u001b[0m\u001b]8;id=449248;file://C:\\Users\\Federico\\Documents\\GitHub\\pysical_locomotion\\data\\dbase\\__init__.py#11\u001b\\\u001b[2m11\u001b[0m\u001b]8;;\u001b\\\n"
      ]
     },
     "metadata": {},
     "output_type": "display_data"
    },
    {
     "data": {
      "text/html": [
       "<pre style=\"white-space:pre;overflow-x:auto;line-height:normal;font-family:Menlo,'DejaVu Sans Mono',consolas,'Courier New',monospace\">\n",
       "<span style=\"color: #800080; text-decoration-color: #800080; font-weight: bold\">array</span><span style=\"font-weight: bold\">([</span><span style=\"color: #008000; text-decoration-color: #008000\">'FC_220408_BAA1101192_hairpin'</span>, <span style=\"color: #008000; text-decoration-color: #008000\">'FC_220409_BAA1101192_hairpin'</span>,\n",
       "       <span style=\"color: #008000; text-decoration-color: #008000\">'FC_220410_BAA1101192_hairpin'</span>, <span style=\"color: #008000; text-decoration-color: #008000\">'FC_220411_BAA1101192_hairpin'</span>,\n",
       "       <span style=\"color: #008000; text-decoration-color: #008000\">'FC_220412_BAA1101192_hairpin'</span>, <span style=\"color: #008000; text-decoration-color: #008000\">'FC_220413_BAA1101192_hairpin'</span>,\n",
       "       <span style=\"color: #008000; text-decoration-color: #008000\">'FC_220414_BAA1101192_hairpin'</span>, <span style=\"color: #008000; text-decoration-color: #008000\">'FC_220415_BAA1101192_hairpin'</span>,\n",
       "       <span style=\"color: #008000; text-decoration-color: #008000\">'FC_220432_BAA1101192_hairpin'</span>, <span style=\"color: #008000; text-decoration-color: #008000\">'FC_220433_BAA1101192_hairpin'</span>,\n",
       "       <span style=\"color: #008000; text-decoration-color: #008000\">'FC_220434_BAA1101192_hairpin'</span>, <span style=\"color: #008000; text-decoration-color: #008000\">'FC_220435_BAA1101192_hairpin'</span><span style=\"font-weight: bold\">]</span>,\n",
       "      <span style=\"color: #808000; text-decoration-color: #808000\">dtype</span>=<span style=\"color: #800080; text-decoration-color: #800080\">object</span><span style=\"font-weight: bold\">)</span>\n",
       "</pre>\n"
      ],
      "text/plain": [
       "\n",
       "\u001b[1;35marray\u001b[0m\u001b[1m(\u001b[0m\u001b[1m[\u001b[0m\u001b[32m'FC_220408_BAA1101192_hairpin'\u001b[0m, \u001b[32m'FC_220409_BAA1101192_hairpin'\u001b[0m,\n",
       "       \u001b[32m'FC_220410_BAA1101192_hairpin'\u001b[0m, \u001b[32m'FC_220411_BAA1101192_hairpin'\u001b[0m,\n",
       "       \u001b[32m'FC_220412_BAA1101192_hairpin'\u001b[0m, \u001b[32m'FC_220413_BAA1101192_hairpin'\u001b[0m,\n",
       "       \u001b[32m'FC_220414_BAA1101192_hairpin'\u001b[0m, \u001b[32m'FC_220415_BAA1101192_hairpin'\u001b[0m,\n",
       "       \u001b[32m'FC_220432_BAA1101192_hairpin'\u001b[0m, \u001b[32m'FC_220433_BAA1101192_hairpin'\u001b[0m,\n",
       "       \u001b[32m'FC_220434_BAA1101192_hairpin'\u001b[0m, \u001b[32m'FC_220435_BAA1101192_hairpin'\u001b[0m\u001b[1m]\u001b[0m,\n",
       "      \u001b[33mdtype\u001b[0m=\u001b[35mobject\u001b[0m\u001b[1m)\u001b[0m\n"
      ]
     },
     "metadata": {},
     "output_type": "display_data"
    }
   ],
   "source": [
    "# imports\n",
    "import sys\n",
    "import matplotlib.pyplot as plt\n",
    "from pathlib import Path\n",
    "import numpy as np\n",
    "import pandas as pd\n",
    "from scipy import interpolate\n",
    "from fcutils.progress import track\n",
    "from loguru import logger\n",
    "from scipy import stats\n",
    "from fcutils.maths.signals import rolling_mean\n",
    "import warnings\n",
    "warnings.simplefilter(action='ignore', category=pd.errors.PerformanceWarning)\n",
    "\n",
    "sys.path.append(\"./\")\n",
    "sys.path.append(r\"C:\\Users\\Federico\\Documents\\GitHub\\pysical_locomotion\")\n",
    "\n",
    "\n",
    "from analysis.ephys.utils import get_recording_names, get_data, get_session_bouts, trim_bouts\n",
    "\n",
    "save_folder = Path(r\"D:\\Dropbox (UCL)\\Rotation_vte\\Locomotion\\analysis\\ephys\")\n",
    "\n",
    "cache = Path(r\"D:\\GLM\\data\")\n",
    "\n",
    "REGION = \"MOs\"\n",
    "recordings = get_recording_names(region=REGION)\n",
    "recordings"
   ]
  },
  {
   "cell_type": "markdown",
   "metadata": {},
   "source": [
    "## Parameters"
   ]
  },
  {
   "cell_type": "code",
   "execution_count": 2,
   "metadata": {},
   "outputs": [],
   "source": [
    "curvature_horizon = 30\n",
    "curvature_sampling_spacing = 5\n",
    "curv_sample_points = np.arange(0, curvature_horizon+curvature_sampling_spacing, curvature_sampling_spacing)\n",
    "\n",
    "minimum_bout_ds = 100\n",
    "\n",
    "track_downsample_factor = 25\n",
    "firing_rate_gaussian = 250 # width in ms"
   ]
  },
  {
   "cell_type": "markdown",
   "metadata": {},
   "source": [
    "### Collect data for all bouts"
   ]
  },
  {
   "cell_type": "code",
   "execution_count": 6,
   "metadata": {},
   "outputs": [
    {
     "name": "stdout",
     "output_type": "stream",
     "text": [
      "FC_220408_BAA1101192_hairpin_bouts.h5 already exists\n",
      "FC_220409_BAA1101192_hairpin_bouts.h5 already exists\n",
      "FC_220410_BAA1101192_hairpin_bouts.h5 already exists\n",
      "Doing   FC_220411_BAA1101192_hairpin\n",
      " Saving data (shape: (108126, 4045))\n",
      " Saved all data\n",
      "FC_220412_BAA1101192_hairpin_bouts.h5 already exists\n",
      "FC_220413_BAA1101192_hairpin_bouts.h5 already exists\n",
      "FC_220414_BAA1101192_hairpin_bouts.h5 already exists\n",
      "FC_220415_BAA1101192_hairpin_bouts.h5 already exists\n",
      "FC_220432_BAA1101192_hairpin_bouts.h5 already exists\n",
      "FC_220433_BAA1101192_hairpin_bouts.h5 already exists\n",
      "FC_220434_BAA1101192_hairpin_bouts.h5 already exists\n",
      "FC_220435_BAA1101192_hairpin_bouts.h5 already exists\n"
     ]
    }
   ],
   "source": [
    "recordings = get_recording_names(region=REGION)\n",
    "\n",
    "for REC in recordings:\n",
    "    savepath = cache / f\"{REC}_bouts.h5\"\n",
    "    if savepath.exists():\n",
    "        print(f\"{REC}_bouts.h5 already exists\")\n",
    "        continue\n",
    "    \n",
    "    print(f\"Doing   {REC}\")\n",
    "    \n",
    "    bouts = trim_bouts(get_session_bouts(REC, complete=None,direction=None))\n",
    "    n = len(bouts)\n",
    "    bouts[\"ds\"] = [abs(b.s[-1]-b.s[0]) for i,b in bouts.iterrows()]\n",
    "    bouts = bouts.loc[bouts.ds >= minimum_bout_ds]\n",
    "\n",
    "\n",
    "    bouts_files = [f for f in cache.glob(f\"{REC}_bout_*.feather\") if \"xy.\" not in f.name]\n",
    "    \n",
    "    if len(bouts_files) < len(bouts):\n",
    "        print(f\"    Not all bouts were saved for {REC}: {len(bouts_files)}/{len(bouts)}\")\n",
    "        continue\n",
    "\n",
    "    bouts_data = []\n",
    "    for i, bout in bouts.iterrows():\n",
    "        try:\n",
    "            f = cache / f\"{REC}_bout_{bout.start_frame}.feather\"\n",
    "            _data = pd.read_feather(f)\n",
    "        except:\n",
    "            logger.warning(f\"Failed to read file for bout {i}: {f}\")\n",
    "            continue\n",
    "        bouts_data.append(_data.astype(np.float32))\n",
    "\n",
    "\n",
    "    if not len(bouts_data) or len(bouts_data) < len(bouts):\n",
    "        print(f\"    No bouts were saved for {REC}\")\n",
    "        continue\n",
    "    bouts_data = pd.concat(bouts_data)\n",
    "\n",
    "    if bouts_data.shape[0] < 10000:\n",
    "        print(f\"    Too few frames for {REC}: {bouts_data.shape[0]}\")\n",
    "        continue\n",
    "\n",
    "    print(f\" Saving data (shape: {bouts_data.shape})\")\n",
    "    bouts_data.to_hdf(savepath, key=\"data\")\n",
    "    print(\" Saved all data\")\n"
   ]
  }
 ],
 "metadata": {
  "kernelspec": {
   "display_name": "Python 3.7.0 ('dev')",
   "language": "python",
   "name": "python3"
  },
  "language_info": {
   "codemirror_mode": {
    "name": "ipython",
    "version": 3
   },
   "file_extension": ".py",
   "mimetype": "text/x-python",
   "name": "python",
   "nbconvert_exporter": "python",
   "pygments_lexer": "ipython3",
   "version": "3.7.0"
  },
  "orig_nbformat": 4,
  "vscode": {
   "interpreter": {
    "hash": "d14c38d234234b969aee73678d168700778a98933f098d78df9f79a7508c5a93"
   }
  }
 },
 "nbformat": 4,
 "nbformat_minor": 2
}
