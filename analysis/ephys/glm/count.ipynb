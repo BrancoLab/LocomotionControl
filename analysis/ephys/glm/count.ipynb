{
 "cells": [
  {
   "cell_type": "code",
   "execution_count": 2,
   "metadata": {},
   "outputs": [
    {
     "data": {
      "text/plain": [
       "400000"
      ]
     },
     "execution_count": 2,
     "metadata": {},
     "output_type": "execute_result"
    }
   ],
   "source": [
    "n_frames = 80 * (5*1000)\n",
    "n_frames"
   ]
  },
  {
   "cell_type": "code",
   "execution_count": 5,
   "metadata": {},
   "outputs": [
    {
     "data": {
      "text/plain": [
       "9500"
      ]
     },
     "execution_count": 5,
     "metadata": {},
     "output_type": "execute_result"
    }
   ],
   "source": [
    "n_cells = 475\n",
    "n_time_shifts = 4\n",
    "n_kfolds = 5\n",
    "\n",
    "n_models = n_cells * n_time_shifts * n_kfolds\n",
    "n_models"
   ]
  },
  {
   "cell_type": "code",
   "execution_count": 6,
   "metadata": {},
   "outputs": [
    {
     "data": {
      "text/plain": [
       "26.38888888888889"
      ]
     },
     "execution_count": 6,
     "metadata": {},
     "output_type": "execute_result"
    }
   ],
   "source": [
    "sec_per_model = 10\n",
    "\n",
    "tot_sec = n_models * sec_per_model\n",
    "tot_hours = tot_sec / 3600\n",
    "tot_hours"
   ]
  }
 ],
 "metadata": {
  "interpreter": {
   "hash": "039254c3bf28b439bc8200e57bee2d086959ba51774bc2777c0d6429726181b2"
  },
  "kernelspec": {
   "display_name": "Python 3.8.0 ('dev')",
   "language": "python",
   "name": "python3"
  },
  "language_info": {
   "codemirror_mode": {
    "name": "ipython",
    "version": 3
   },
   "file_extension": ".py",
   "mimetype": "text/x-python",
   "name": "python",
   "nbconvert_exporter": "python",
   "pygments_lexer": "ipython3",
   "version": "3.8.0"
  },
  "orig_nbformat": 4
 },
 "nbformat": 4,
 "nbformat_minor": 2
}
