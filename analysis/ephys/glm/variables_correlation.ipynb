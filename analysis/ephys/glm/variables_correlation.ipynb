{
 "cells": [
  {
   "cell_type": "markdown",
   "metadata": {},
   "source": [
    "# Variables correlation\n",
    "\n",
    "Look at the correlation between variables that will go into the GLM"
   ]
  },
  {
   "cell_type": "code",
   "execution_count": 1,
   "metadata": {},
   "outputs": [
    {
     "data": {
      "text/html": [
       "<pre style=\"white-space:pre;overflow-x:auto;line-height:normal;font-family:Menlo,'DejaVu Sans Mono',consolas,'Courier New',monospace\"><span style=\"color: #7fbfbf; text-decoration-color: #7fbfbf\">[06/15/22 08:26:04] </span><span style=\"color: #008000; text-decoration-color: #008000\">DEBUG   </span> DPL - Saving data and logs to logs                   <a href=\"file://c:\\ProgramData\\Miniconda3\\envs\\dev\\lib\\site-packages\\tpd\\core.py\"><span style=\"color: #7f7f7f; text-decoration-color: #7f7f7f\">core.py</span></a><span style=\"color: #7f7f7f; text-decoration-color: #7f7f7f\">:</span><a href=\"file://c:\\ProgramData\\Miniconda3\\envs\\dev\\lib\\site-packages\\tpd\\core.py#118\"><span style=\"color: #7f7f7f; text-decoration-color: #7f7f7f\">118</span></a>\n",
       "</pre>\n"
      ],
      "text/plain": [
       "\u001b[2;36m[06/15/22 08:26:04]\u001b[0m\u001b[2;36m \u001b[0m\u001b[32mDEBUG   \u001b[0m DPL - Saving data and logs to logs                   \u001b]8;id=765950;file://c:\\ProgramData\\Miniconda3\\envs\\dev\\lib\\site-packages\\tpd\\core.py\u001b\\\u001b[2mcore.py\u001b[0m\u001b]8;;\u001b\\\u001b[2m:\u001b[0m\u001b]8;id=409300;file://c:\\ProgramData\\Miniconda3\\envs\\dev\\lib\\site-packages\\tpd\\core.py#118\u001b\\\u001b[2m118\u001b[0m\u001b]8;;\u001b\\\n"
      ]
     },
     "metadata": {},
     "output_type": "display_data"
    },
    {
     "data": {
      "text/html": [
       "<pre style=\"white-space:pre;overflow-x:auto;line-height:normal;font-family:Menlo,'DejaVu Sans Mono',consolas,'Courier New',monospace\"><span style=\"color: #7fbfbf; text-decoration-color: #7fbfbf\">                    </span><span style=\"color: #008000; text-decoration-color: #008000\">DEBUG   </span> Saving log file to: logs\\log.log                     <a href=\"file://c:\\ProgramData\\Miniconda3\\envs\\dev\\lib\\site-packages\\tpd\\core.py\"><span style=\"color: #7f7f7f; text-decoration-color: #7f7f7f\">core.py</span></a><span style=\"color: #7f7f7f; text-decoration-color: #7f7f7f\">:</span><a href=\"file://c:\\ProgramData\\Miniconda3\\envs\\dev\\lib\\site-packages\\tpd\\core.py#119\"><span style=\"color: #7f7f7f; text-decoration-color: #7f7f7f\">119</span></a>\n",
       "</pre>\n"
      ],
      "text/plain": [
       "\u001b[2;36m                   \u001b[0m\u001b[2;36m \u001b[0m\u001b[32mDEBUG   \u001b[0m Saving log file to: logs\\log.log                     \u001b]8;id=721012;file://c:\\ProgramData\\Miniconda3\\envs\\dev\\lib\\site-packages\\tpd\\core.py\u001b\\\u001b[2mcore.py\u001b[0m\u001b]8;;\u001b\\\u001b[2m:\u001b[0m\u001b]8;id=561145;file://c:\\ProgramData\\Miniconda3\\envs\\dev\\lib\\site-packages\\tpd\\core.py#119\u001b\\\u001b[2m119\u001b[0m\u001b]8;;\u001b\\\n"
      ]
     },
     "metadata": {},
     "output_type": "display_data"
    },
    {
     "name": "stdout",
     "output_type": "stream",
     "text": [
      "Connecting root@127.0.0.1:3306\n"
     ]
    },
    {
     "data": {
      "text/html": [
       "<pre style=\"white-space:pre;overflow-x:auto;line-height:normal;font-family:Menlo,'DejaVu Sans Mono',consolas,'Courier New',monospace\"><span style=\"color: #7fbfbf; text-decoration-color: #7fbfbf\">[06/15/22 08:26:05] </span><span style=\"color: #008000; text-decoration-color: #008000\">DEBUG   </span> Connected to database: LOCOMOTION4                <a href=\"file://C:\\Users\\Federico\\Documents\\GitHub\\pysical_locomotion\\data\\dbase\\__init__.py\"><span style=\"color: #7f7f7f; text-decoration-color: #7f7f7f\">__init__.py</span></a><span style=\"color: #7f7f7f; text-decoration-color: #7f7f7f\">:</span><a href=\"file://C:\\Users\\Federico\\Documents\\GitHub\\pysical_locomotion\\data\\dbase\\__init__.py#11\"><span style=\"color: #7f7f7f; text-decoration-color: #7f7f7f\">11</span></a>\n",
       "</pre>\n"
      ],
      "text/plain": [
       "\u001b[2;36m[06/15/22 08:26:05]\u001b[0m\u001b[2;36m \u001b[0m\u001b[32mDEBUG   \u001b[0m Connected to database: LOCOMOTION4                \u001b]8;id=166483;file://C:\\Users\\Federico\\Documents\\GitHub\\pysical_locomotion\\data\\dbase\\__init__.py\u001b\\\u001b[2m__init__.py\u001b[0m\u001b]8;;\u001b\\\u001b[2m:\u001b[0m\u001b]8;id=859225;file://C:\\Users\\Federico\\Documents\\GitHub\\pysical_locomotion\\data\\dbase\\__init__.py#11\u001b\\\u001b[2m11\u001b[0m\u001b]8;;\u001b\\\n"
      ]
     },
     "metadata": {},
     "output_type": "display_data"
    }
   ],
   "source": [
    "# imports\n",
    "import sys\n",
    "import matplotlib.pyplot as plt\n",
    "from pathlib import Path\n",
    "import numpy as np\n",
    "import pandas as pd\n",
    "from myterial import amber_dark, blue_dark, green_dark, indigo_dark, teal_dark\n",
    "\n",
    "sys.path.append(\"./\")\n",
    "sys.path.append(r\"C:\\Users\\Federico\\Documents\\GitHub\\pysical_locomotion\")\n",
    "\n",
    "from fcutils.plot.figure import clean_axes\n",
    "from fcutils.plot.elements import plot_mean_and_error\n",
    "from fcutils.progress import track\n",
    "from analysis.ephys.utils import get_recording_names, get_data, get_session_bouts, trim_bouts\n",
    "from fcutils.maths import derivative\n",
    "\n",
    "save_folder = Path(r\"D:\\Dropbox (UCL)\\Rotation_vte\\Locomotion\\analysis\\ephys\")\n"
   ]
  },
  {
   "cell_type": "markdown",
   "metadata": {},
   "source": [
    "## Fetch data\n",
    "\n",
    "Start by pre-computing the shifted curvature at heach point along the track. \n",
    "For each row in the resulting dataframe you have the curren S and then the curvature shifted by N cm."
   ]
  },
  {
   "cell_type": "code",
   "execution_count": 2,
   "metadata": {},
   "outputs": [
    {
     "data": {
      "text/html": [
       "<div>\n",
       "<style scoped>\n",
       "    .dataframe tbody tr th:only-of-type {\n",
       "        vertical-align: middle;\n",
       "    }\n",
       "\n",
       "    .dataframe tbody tr th {\n",
       "        vertical-align: top;\n",
       "    }\n",
       "\n",
       "    .dataframe thead th {\n",
       "        text-align: right;\n",
       "    }\n",
       "</style>\n",
       "<table border=\"1\" class=\"dataframe\">\n",
       "  <thead>\n",
       "    <tr style=\"text-align: right;\">\n",
       "      <th></th>\n",
       "      <th>S</th>\n",
       "      <th>X</th>\n",
       "      <th>Y</th>\n",
       "      <th>curvature</th>\n",
       "      <th>width</th>\n",
       "      <th>θ</th>\n",
       "    </tr>\n",
       "  </thead>\n",
       "  <tbody>\n",
       "    <tr>\n",
       "      <th>0</th>\n",
       "      <td>0.000000</td>\n",
       "      <td>20.005419</td>\n",
       "      <td>32.926672</td>\n",
       "      <td>1.397851e-08</td>\n",
       "      <td>3.600000</td>\n",
       "      <td>-1.562696</td>\n",
       "    </tr>\n",
       "    <tr>\n",
       "      <th>1</th>\n",
       "      <td>0.034248</td>\n",
       "      <td>20.005696</td>\n",
       "      <td>32.892425</td>\n",
       "      <td>2.407125e-04</td>\n",
       "      <td>3.596612</td>\n",
       "      <td>-1.562692</td>\n",
       "    </tr>\n",
       "    <tr>\n",
       "      <th>2</th>\n",
       "      <td>0.068464</td>\n",
       "      <td>20.005974</td>\n",
       "      <td>32.858210</td>\n",
       "      <td>4.834723e-04</td>\n",
       "      <td>3.590541</td>\n",
       "      <td>-1.562680</td>\n",
       "    </tr>\n",
       "    <tr>\n",
       "      <th>3</th>\n",
       "      <td>0.102616</td>\n",
       "      <td>20.006251</td>\n",
       "      <td>32.824059</td>\n",
       "      <td>7.303402e-04</td>\n",
       "      <td>3.584550</td>\n",
       "      <td>-1.562659</td>\n",
       "    </tr>\n",
       "    <tr>\n",
       "      <th>4</th>\n",
       "      <td>0.136672</td>\n",
       "      <td>20.006529</td>\n",
       "      <td>32.790004</td>\n",
       "      <td>9.834296e-04</td>\n",
       "      <td>3.578645</td>\n",
       "      <td>-1.562630</td>\n",
       "    </tr>\n",
       "    <tr>\n",
       "      <th>...</th>\n",
       "      <td>...</td>\n",
       "      <td>...</td>\n",
       "      <td>...</td>\n",
       "      <td>...</td>\n",
       "      <td>...</td>\n",
       "      <td>...</td>\n",
       "    </tr>\n",
       "    <tr>\n",
       "      <th>3996</th>\n",
       "      <td>265.273224</td>\n",
       "      <td>3.999664</td>\n",
       "      <td>7.342840</td>\n",
       "      <td>3.530815e-05</td>\n",
       "      <td>3.600000</td>\n",
       "      <td>-1.570627</td>\n",
       "    </tr>\n",
       "    <tr>\n",
       "      <th>3997</th>\n",
       "      <td>265.334935</td>\n",
       "      <td>3.999675</td>\n",
       "      <td>7.281129</td>\n",
       "      <td>2.648609e-05</td>\n",
       "      <td>3.600000</td>\n",
       "      <td>-1.570625</td>\n",
       "    </tr>\n",
       "    <tr>\n",
       "      <th>3998</th>\n",
       "      <td>265.396642</td>\n",
       "      <td>3.999685</td>\n",
       "      <td>7.219422</td>\n",
       "      <td>1.766084e-05</td>\n",
       "      <td>3.600000</td>\n",
       "      <td>-1.570624</td>\n",
       "    </tr>\n",
       "    <tr>\n",
       "      <th>3999</th>\n",
       "      <td>265.458347</td>\n",
       "      <td>3.999696</td>\n",
       "      <td>7.157717</td>\n",
       "      <td>8.831522e-06</td>\n",
       "      <td>3.600000</td>\n",
       "      <td>-1.570623</td>\n",
       "    </tr>\n",
       "    <tr>\n",
       "      <th>4000</th>\n",
       "      <td>265.520051</td>\n",
       "      <td>3.999707</td>\n",
       "      <td>7.096014</td>\n",
       "      <td>7.297924e-10</td>\n",
       "      <td>3.600000</td>\n",
       "      <td>-1.570623</td>\n",
       "    </tr>\n",
       "  </tbody>\n",
       "</table>\n",
       "<p>4001 rows × 6 columns</p>\n",
       "</div>"
      ]
     },
     "execution_count": 2,
     "metadata": {},
     "output_type": "execute_result"
    }
   ],
   "source": [
    "track_data = pd.read_json(r\"C:\\Users\\Federico\\Documents\\GitHub\\pysical_locomotion\\analysis\\ephys\\track.json\").iloc[::25]\n",
    "track_data = track_data.reset_index(drop=True)\n",
    "S_f = track_data.S.values[-1]\n",
    "track_data"
   ]
  },
  {
   "cell_type": "code",
   "execution_count": 3,
   "metadata": {},
   "outputs": [
    {
     "name": "stdout",
     "output_type": "stream",
     "text": [
      "0 4001\n",
      "250 4001\n",
      "500 4001\n",
      "750 4001\n",
      "1000 4001\n",
      "1250 4001\n",
      "1500 4001\n",
      "1750 4001\n",
      "2000 4001\n",
      "2250 4001\n",
      "2500 4001\n",
      "2750 4001\n",
      "3000 4001\n",
      "3250 4001\n",
      "3500 4001\n",
      "3750 4001\n",
      "4000 4001\n"
     ]
    },
    {
     "data": {
      "text/html": [
       "<div>\n",
       "<style scoped>\n",
       "    .dataframe tbody tr th:only-of-type {\n",
       "        vertical-align: middle;\n",
       "    }\n",
       "\n",
       "    .dataframe tbody tr th {\n",
       "        vertical-align: top;\n",
       "    }\n",
       "\n",
       "    .dataframe thead th {\n",
       "        text-align: right;\n",
       "    }\n",
       "</style>\n",
       "<table border=\"1\" class=\"dataframe\">\n",
       "  <thead>\n",
       "    <tr style=\"text-align: right;\">\n",
       "      <th></th>\n",
       "      <th>S</th>\n",
       "      <th>X</th>\n",
       "      <th>idx_49</th>\n",
       "      <th>idx_48</th>\n",
       "      <th>idx_47</th>\n",
       "      <th>idx_46</th>\n",
       "      <th>idx_45</th>\n",
       "      <th>idx_44</th>\n",
       "      <th>idx_43</th>\n",
       "      <th>idx_42</th>\n",
       "      <th>...</th>\n",
       "      <th>k_5</th>\n",
       "      <th>k_4</th>\n",
       "      <th>k_3</th>\n",
       "      <th>k_2</th>\n",
       "      <th>k_1</th>\n",
       "      <th>k_0</th>\n",
       "      <th>Y</th>\n",
       "      <th>curvature</th>\n",
       "      <th>width</th>\n",
       "      <th>θ</th>\n",
       "    </tr>\n",
       "  </thead>\n",
       "  <tbody>\n",
       "    <tr>\n",
       "      <th>0</th>\n",
       "      <td>0.000000</td>\n",
       "      <td>20.005419</td>\n",
       "      <td>727.0</td>\n",
       "      <td>711.0</td>\n",
       "      <td>695.0</td>\n",
       "      <td>679.0</td>\n",
       "      <td>664.0</td>\n",
       "      <td>649.0</td>\n",
       "      <td>635.0</td>\n",
       "      <td>622.0</td>\n",
       "      <td>...</td>\n",
       "      <td>0.014435</td>\n",
       "      <td>0.011079</td>\n",
       "      <td>0.011057</td>\n",
       "      <td>0.004578</td>\n",
       "      <td>0.005121</td>\n",
       "      <td>1.397851e-08</td>\n",
       "      <td>32.926672</td>\n",
       "      <td>1.397851e-08</td>\n",
       "      <td>3.600000</td>\n",
       "      <td>-1.562696</td>\n",
       "    </tr>\n",
       "    <tr>\n",
       "      <th>1</th>\n",
       "      <td>0.034248</td>\n",
       "      <td>20.005696</td>\n",
       "      <td>727.0</td>\n",
       "      <td>711.0</td>\n",
       "      <td>695.0</td>\n",
       "      <td>680.0</td>\n",
       "      <td>665.0</td>\n",
       "      <td>650.0</td>\n",
       "      <td>636.0</td>\n",
       "      <td>622.0</td>\n",
       "      <td>...</td>\n",
       "      <td>0.014729</td>\n",
       "      <td>0.011079</td>\n",
       "      <td>0.011057</td>\n",
       "      <td>0.004907</td>\n",
       "      <td>0.004178</td>\n",
       "      <td>2.407125e-04</td>\n",
       "      <td>32.892425</td>\n",
       "      <td>2.407125e-04</td>\n",
       "      <td>3.596612</td>\n",
       "      <td>-1.562692</td>\n",
       "    </tr>\n",
       "    <tr>\n",
       "      <th>2</th>\n",
       "      <td>0.068464</td>\n",
       "      <td>20.005974</td>\n",
       "      <td>728.0</td>\n",
       "      <td>712.0</td>\n",
       "      <td>696.0</td>\n",
       "      <td>680.0</td>\n",
       "      <td>665.0</td>\n",
       "      <td>650.0</td>\n",
       "      <td>636.0</td>\n",
       "      <td>623.0</td>\n",
       "      <td>...</td>\n",
       "      <td>0.015033</td>\n",
       "      <td>0.011253</td>\n",
       "      <td>0.011257</td>\n",
       "      <td>0.004907</td>\n",
       "      <td>0.003339</td>\n",
       "      <td>4.834723e-04</td>\n",
       "      <td>32.858210</td>\n",
       "      <td>4.834723e-04</td>\n",
       "      <td>3.590541</td>\n",
       "      <td>-1.562680</td>\n",
       "    </tr>\n",
       "    <tr>\n",
       "      <th>3</th>\n",
       "      <td>0.102616</td>\n",
       "      <td>20.006251</td>\n",
       "      <td>728.0</td>\n",
       "      <td>712.0</td>\n",
       "      <td>696.0</td>\n",
       "      <td>681.0</td>\n",
       "      <td>666.0</td>\n",
       "      <td>651.0</td>\n",
       "      <td>637.0</td>\n",
       "      <td>623.0</td>\n",
       "      <td>...</td>\n",
       "      <td>0.015033</td>\n",
       "      <td>0.011253</td>\n",
       "      <td>0.011431</td>\n",
       "      <td>0.005266</td>\n",
       "      <td>0.002610</td>\n",
       "      <td>7.303402e-04</td>\n",
       "      <td>32.824059</td>\n",
       "      <td>7.303402e-04</td>\n",
       "      <td>3.584550</td>\n",
       "      <td>-1.562659</td>\n",
       "    </tr>\n",
       "    <tr>\n",
       "      <th>4</th>\n",
       "      <td>0.136672</td>\n",
       "      <td>20.006529</td>\n",
       "      <td>729.0</td>\n",
       "      <td>713.0</td>\n",
       "      <td>697.0</td>\n",
       "      <td>681.0</td>\n",
       "      <td>666.0</td>\n",
       "      <td>651.0</td>\n",
       "      <td>637.0</td>\n",
       "      <td>623.0</td>\n",
       "      <td>...</td>\n",
       "      <td>0.015348</td>\n",
       "      <td>0.011434</td>\n",
       "      <td>0.011431</td>\n",
       "      <td>0.005266</td>\n",
       "      <td>0.001990</td>\n",
       "      <td>9.834296e-04</td>\n",
       "      <td>32.790004</td>\n",
       "      <td>9.834296e-04</td>\n",
       "      <td>3.578645</td>\n",
       "      <td>-1.562630</td>\n",
       "    </tr>\n",
       "  </tbody>\n",
       "</table>\n",
       "<p>5 rows × 106 columns</p>\n",
       "</div>"
      ]
     },
     "execution_count": 3,
     "metadata": {},
     "output_type": "execute_result"
    }
   ],
   "source": [
    "# load track from json\n",
    "k_shifts = np.arange(50)\n",
    "curv_shifted = {\n",
    "    **{f\"k_{k}\":[] for k in k_shifts},\n",
    "    **{f\"idx_{k}\":[] for k in k_shifts},\n",
    "}\n",
    "for i, s in enumerate(track_data.S):\n",
    "    if i % 250 == 0:\n",
    "        print(i, len(track_data))\n",
    "    for k in k_shifts:\n",
    "        if s + k < S_f:\n",
    "            select = track_data.loc[track_data.S >= s + k]\n",
    "            curv_shifted[f\"idx_{k}\"].append(select.index[0])\n",
    "            curv_shifted[f\"k_{k}\"].append(select[\"curvature\"].iloc[0])\n",
    "        else:\n",
    "            curv_shifted[f\"k_{k}\"].append(np.nan)\n",
    "            curv_shifted[f\"idx_{k}\"].append(np.nan)\n",
    "\n",
    "    # break\n",
    "\n",
    "for k,v in curv_shifted.items():\n",
    "    track_data.insert(2, k, v)\n",
    "track_data.head()"
   ]
  },
  {
   "cell_type": "code",
   "execution_count": 4,
   "metadata": {},
   "outputs": [
    {
     "data": {
      "text/html": [
       "<pre style=\"white-space:pre;overflow-x:auto;line-height:normal;font-family:Menlo,'DejaVu Sans Mono',consolas,'Courier New',monospace\"><span style=\"font-weight: bold\">[&lt;</span><span style=\"color: #ff00ff; text-decoration-color: #ff00ff; font-weight: bold\">matplotlib.lines.Line2D</span><span style=\"color: #000000; text-decoration-color: #000000\"> object at </span><span style=\"color: #008080; text-decoration-color: #008080; font-weight: bold\">0x0000020C327013C8</span><span style=\"font-weight: bold\">&gt;]</span>\n",
       "</pre>\n"
      ],
      "text/plain": [
       "\u001b[1m[\u001b[0m\u001b[1m<\u001b[0m\u001b[1;95mmatplotlib.lines.Line2D\u001b[0m\u001b[39m object at \u001b[0m\u001b[1;36m0x0000020C327013C8\u001b[0m\u001b[1m>\u001b[0m\u001b[1m]\u001b[0m\n"
      ]
     },
     "metadata": {},
     "output_type": "display_data"
    },
    {
     "data": {
      "image/png": "[encoded data removed]"
     },
     "metadata": {
      "needs_background": "light"
     },
     "output_type": "display_data"
    }
   ],
   "source": [
    "# check that everything went well\n",
    "\n",
    "row = track_data.iloc[25]\n",
    "\n",
    "f, ax = plt.subplots(figsize=(8, 12))\n",
    "ax.plot(track_data.X, track_data.Y, \"k\")\n",
    "ax.scatter(row.X, row.Y, c=\"r\", s=50)\n",
    "\n",
    "idx_cols = [c for c in track_data.columns if c.startswith(\"idx\")][::20]\n",
    "for c in idx_cols:\n",
    "    idx = int(row[c])\n",
    "    ax.scatter(track_data.iloc[idx].X, track_data.iloc[idx].Y, c=track_data.iloc[idx].curvature, vmin=-.1, vmax=.1, cmap=\"bwr\", s=250)\n",
    "\n",
    "curv_cols = [c for c in track_data.columns if c.startswith(\"k\")]\n",
    "ax.plot(row[curv_cols])"
   ]
  },
  {
   "cell_type": "markdown",
   "metadata": {},
   "source": [
    "then collect behavioral variable and curvature + variables offset by various delta T"
   ]
  },
  {
   "cell_type": "code",
   "execution_count": 5,
   "metadata": {},
   "outputs": [
    {
     "name": "stdout",
     "output_type": "stream",
     "text": [
      "3847516.666666667\n"
     ]
    }
   ],
   "source": [
    "variables = (\"s\", \"speed\", \"angular_velocity\")\n",
    "time_shifters = (\"speed\", \"angular_velocity\")\n",
    "time_shifts = (250, 500)\n",
    "\n",
    "variables_data = {\n",
    "    **{v:[] for v in variables},\n",
    "    **{f\"{v}_{t}\":[] for v in time_shifters for t in time_shifts},\n",
    "    **{f\"d{v}_dt_{t}\":[] for v in time_shifters for t in time_shifts},\n",
    "}\n",
    "\n",
    "\n",
    "for REC in get_recording_names():\n",
    "    units, left_fl, right_fl, left_hl, right_hl, body = get_data(REC)\n",
    "    bouts = trim_bouts(get_session_bouts(REC, complete=None, direction=None))\n",
    "\n",
    "    for i, bout in bouts.iterrows():\n",
    "        cur_speed = body.speed[bout.trim_start:bout.trim_end]\n",
    "        cur_o = body.angular_velocity[bout.trim_start:bout.trim_end] / 60\n",
    "        variables_data[\"speed\"].extend(cur_speed)\n",
    "        variables_data[\"s\"].extend(bout.s[bout.trim_start - bout.start_frame : bout.trim_end - bout.start_frame])\n",
    "        variables_data[\"angular_velocity\"].extend(cur_o)\n",
    "\n",
    "        for dt in time_shifts:\n",
    "            dt_frames = int(dt/1000 * 60)\n",
    "            future_speed = body.speed[bout.trim_start+dt_frames:bout.trim_end+dt_frames]\n",
    "            future_o = body.angular_velocity[bout.trim_start+dt_frames:bout.trim_end+dt_frames] / 60\n",
    "            variables_data[f\"speed_{dt}\"].extend(future_speed)\n",
    "            variables_data[f\"angular_velocity_{dt}\"].extend(future_o)\n",
    "            variables_data[f\"dspeed_dt_{dt}\"].extend((future_speed - cur_speed))\n",
    "            variables_data[f\"dangular_velocity_dt_{dt}\"].extend((future_o - cur_o))\n",
    "\n",
    "data = pd.DataFrame(variables_data)\n",
    "print(len(data) / 60 * 1000)"
   ]
  },
  {
   "cell_type": "code",
   "execution_count": 6,
   "metadata": {},
   "outputs": [],
   "source": [
    "def r_squared(y, y_hat):\n",
    "    y_bar = y.mean()\n",
    "    ss_tot = ((y-y_bar)**2).sum()\n",
    "    ss_res = ((y-y_hat)**2).sum()\n",
    "    return 1 - (ss_res/ss_tot)\n",
    "\n",
    "\n",
    "\n",
    "def fit_line(X, Y,  ax):\n",
    "    a, b = np.polyfit(X, Y, 1)\n",
    "    yhat = a*X+b\n",
    "    r2 = r_squared(Y, yhat)\n",
    "    ax.plot(X, yhat, lw=3, color='r', label=f\"R2={r2:.2f}\")\n",
    "    ax.legend(loc='upper right')\n"
   ]
  },
  {
   "cell_type": "code",
   "execution_count": 7,
   "metadata": {},
   "outputs": [
    {
     "data": {
      "image/png": "[encoded data removed]"
     },
     "metadata": {
      "needs_background": "light"
     },
     "output_type": "display_data"
    }
   ],
   "source": [
    "fig, axis = plt.subplots(5,4,figsize=(20, 20))\n",
    "axes = axis.flatten()[:11]\n",
    "_ = data.hist(ax=axes, bins=100)"
   ]
  },
  {
   "cell_type": "markdown",
   "metadata": {},
   "source": [
    "## Plot correlations"
   ]
  },
  {
   "cell_type": "code",
   "execution_count": null,
   "metadata": {},
   "outputs": [],
   "source": [
    "f, ax = plt.subplots(1, 1, figsize=(10, 10))\n",
    "ax.scatter(data.speed, data.angular_velocity / 60, color=\"k\", alpha=.05)\n",
    "\n",
    "fit_line(data.speed, data.angular_velocity, ax)\n",
    "_ = ax.set(xlabel=\"speed cm\", ylabel=\"angular velocity deg/s\")"
   ]
  },
  {
   "cell_type": "code",
   "execution_count": null,
   "metadata": {},
   "outputs": [],
   "source": [
    "f, axes = plt.subplots(1, len(time_shifts), figsize=(19, 8))\n",
    "\n",
    "for i, dt in enumerate(time_shifts):\n",
    "    axes[i].scatter(data.speed, data[f\"speed_{dt}\"], color=\"k\", alpha=.05)\n",
    "    axes[i].set(title=f\"dt={dt}\", xlabel=\"speed cm\", ylabel=\"speed cm\")\n",
    "    fit_line(data.speed,  data[f\"speed_{dt}\"], axes[i])\n",
    "\n",
    "    "
   ]
  },
  {
   "cell_type": "code",
   "execution_count": null,
   "metadata": {},
   "outputs": [],
   "source": [
    "f, axes = plt.subplots(1, len(time_shifts), figsize=(19, 8))\n",
    "\n",
    "for i, dt in enumerate(time_shifts):\n",
    "    axes[i].scatter(data.speed, data[f\"dspeed_dt_{dt}\"], color=\"k\", alpha=.05)\n",
    "    axes[i].set(title=f\"dt={dt}\", xlabel=\"speed cm\", ylabel=\"speed CHANGE cm/s\")\n",
    "    fit_line(data.speed,  data[f\"dspeed_dt_{dt}\"], axes[i])\n",
    "    axes[i].set_ylim(-80, 80)"
   ]
  },
  {
   "cell_type": "code",
   "execution_count": null,
   "metadata": {},
   "outputs": [],
   "source": [
    "f, axes = plt.subplots(1, len(time_shifts), figsize=(19, 10))\n",
    "\n",
    "for i, dt in enumerate(time_shifts):\n",
    "    axes[i].scatter(data.angular_velocity.abs(), data[f\"angular_velocity_{dt}\"].abs(), color=\"k\", alpha=.05)\n",
    "    axes[i].set(title=f\"dt={dt}\", xlabel=\"angular velocity deg/s\", ylabel=\"angular velocity + dt\")\n",
    "\n",
    "    fit_line(data.angular_velocity.abs(),  data[f\"angular_velocity_{dt}\"].abs(), axes[i])\n",
    "\n",
    "    "
   ]
  },
  {
   "cell_type": "code",
   "execution_count": null,
   "metadata": {},
   "outputs": [],
   "source": [
    "f, axes = plt.subplots(1, len(time_shifts), figsize=(19, 10))\n",
    "\n",
    "for i, dt in enumerate(time_shifts):\n",
    "    axes[i].scatter(data.angular_velocity, data[f\"dangular_velocity_dt_{dt}\"], color=\"k\", alpha=.05)\n",
    "    axes[i].set(title=f\"dt={dt}\", xlabel=\"angular velocity deg/s\", ylabel=\"angular velocity + dt\")\n",
    "\n",
    "    fit_line(data.angular_velocity,  data[f\"dangular_velocity_dt_{dt}\"], axes[i])\n"
   ]
  },
  {
   "cell_type": "code",
   "execution_count": null,
   "metadata": {},
   "outputs": [],
   "source": [
    "f, axes = plt.subplots(2, len(time_shifts), figsize=(19, 10))\n",
    "\n",
    "for i, dt in enumerate(time_shifts):\n",
    "    axes[0, i].scatter(data.speed, data[f\"angular_velocity_{dt}\"], color=\"k\", alpha=.05)\n",
    "    axes[0, i].set(title=f\"dt={dt}\", xlabel=\"speed cm\", ylabel=\"angular velocity deg/s\")\n",
    "    fit_line(data.speed,  data[f\"angular_velocity_{dt}\"], axes[0, i])\n",
    "    \n",
    "\n",
    "    axes[1, i].scatter(data.angular_velocity, data[f\"speed_{dt}\"], color=\"k\", alpha=.05)\n",
    "    axes[1, i].set(title=f\"dt={dt}\", xlabel=\"angular velocity deg/s\", ylabel=\"speed cm\")\n",
    "    fit_line(data.angular_velocity,  data[f\"speed_{dt}\"], axes[1, i])\n",
    "\n",
    "    "
   ]
  },
  {
   "cell_type": "code",
   "execution_count": null,
   "metadata": {},
   "outputs": [],
   "source": [
    "f, ax = plt.subplots(figsize=(16, 9))\n",
    "\n",
    "ax.scatter(data.s, data.speed_600, color=\"k\", alpha=.05)\n",
    "ax.set(title=f\"dt={dt}\", xlabel=\"s cm\", ylabel=\"angular velocity deg/s\")\n",
    "fit_line(data.s,  data.speed_600, ax)"
   ]
  },
  {
   "cell_type": "code",
   "execution_count": null,
   "metadata": {},
   "outputs": [],
   "source": [
    "f, ax = plt.subplots(figsize=(16, 9))\n",
    "\n",
    "ax.scatter(data.s, data.angular_velocity_400, color=\"k\", alpha=.05)\n",
    "ax.set(title=f\"dt={dt}\", xlabel=\"s cm\", ylabel=\"angular velocity deg/s\")\n",
    "fit_line(data.s,  data.angular_velocity_400, ax)"
   ]
  },
  {
   "cell_type": "code",
   "execution_count": null,
   "metadata": {},
   "outputs": [],
   "source": []
  }
 ],
 "metadata": {
  "interpreter": {
   "hash": "d14c38d234234b969aee73678d168700778a98933f098d78df9f79a7508c5a93"
  },
  "kernelspec": {
   "display_name": "Python 3.7.0 ('dev')",
   "language": "python",
   "name": "python3"
  },
  "language_info": {
   "codemirror_mode": {
    "name": "ipython",
    "version": 3
   },
   "file_extension": ".py",
   "mimetype": "text/x-python",
   "name": "python",
   "nbconvert_exporter": "python",
   "pygments_lexer": "ipython3",
   "version": "3.7.0"
  },
  "orig_nbformat": 4
 },
 "nbformat": 4,
 "nbformat_minor": 2
}
