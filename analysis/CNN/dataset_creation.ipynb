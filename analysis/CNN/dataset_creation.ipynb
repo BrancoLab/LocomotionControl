{
 "cells": [
  {
   "cell_type": "code",
   "execution_count": 1,
   "metadata": {},
   "outputs": [
    {
     "name": "stderr",
     "output_type": "stream",
     "text": [
      "\u001b[32m\u001b[1m  Activating\u001b[22m\u001b[39m project at `~/Documents/Github/LocomotionControl/analysis/behavior`\n"
     ]
    },
    {
     "name": "stdout",
     "output_type": "stream",
     "text": [
      "\u001b[1m\u001b[4m\u001b[38;2;66;165;245m@Info\u001b[22m\u001b[24m\u001b[39m \u001b[38;2;237;180;111m(Main):\u001b[39m  \u001b[38;2;138;190;255mLoaded 1021 trials\u001b[39m \n",
      "  \u001b[1m\u001b[2m\u001b[38;2;66;165;245m╰────────────────────────────────────────────────\u001b[22m\u001b[22m\u001b[39m"
     ]
    },
    {
     "name": "stdout",
     "output_type": "stream",
     "text": [
      " \n"
     ]
    },
    {
     "name": "stdout",
     "output_type": "stream",
     "text": [
      "                      \u001b[2mTue, 10 May 2022\u001b[22m \u001b[1m\u001b[2m\u001b[4m18:35:42\u001b[22m\u001b[22m\u001b[24m \n",
      "\u001b[1m\u001b[4m\u001b[38;2;66;165;245m@Info\u001b[22m\u001b[24m\u001b[39m \u001b[38;2;237;180;111m(Main):\u001b[39m  \u001b[38;2;138;190;255mAfter tortuosity analysis, discarded 9.109% of trials | 928\u001b[0m"
     ]
    },
    {
     "name": "stdout",
     "output_type": "stream",
     "text": [
      " \n",
      "  \u001b[2m\u001b[38;2;66;165;245m│\u001b[22m\u001b[39m                \u001b[38;2;138;190;255m\u001b[38;2;138;190;255mtrials left\u001b[39m\u001b[0m\u001b[39m \n",
      "  \u001b[1m\u001b[2m\u001b[38;2;66;165;245m╰────────────────────────────────────────────────\u001b[22m\u001b[22m\u001b[39m \n",
      "                      \u001b[2mTue, 10 May 2022\u001b[22m \u001b[1m\u001b[2m\u001b[4m18:35:47\u001b[22m\u001b[22m\u001b[24m \n"
     ]
    }
   ],
   "source": [
    "# activate package, basic imports + load data\n",
    "include(\"/Users/federicoclaudi/Documents/Github/LocomotionControl/analysis/behavior/analysis_fixtures.jl\")\n",
    "include(\"/Users/federicoclaudi/Documents/Github/LocomotionControl/analysis/behavior/analysis_visuals.jl\")\n",
    "using Dierckx\n",
    "using JSON: JSON\n",
    "using DataFrames: DataFrame\n",
    "import JSONTables: objecttable, jsontable\n",
    "import jcontrol: State, movingaverage"
   ]
  },
  {
   "cell_type": "markdown",
   "metadata": {},
   "source": [
    "## Generate dataset for RNN training\n",
    "It takes the tracking data processed through the Julia behavior analysis code and creates a dataset for training an RNN on.\n",
    "\n",
    "The frist step is to get the trial's trajectory in the track's curvilinear coordinates system and to upsample the data so that they are\n",
    "expressed at an arbitrary framerate $\\Delta t$.\n",
    "\n",
    "Next, we sample `N` random time points from each trial and take the next `T` seconds of the trial as a training sample (to avoid training over an entire trial).\n",
    "Then, at each frame in the selected chunk of trial we get the track's curvature at each $\\Delta s$ point from the mouse's current position to `S` cm later."
   ]
  },
  {
   "cell_type": "code",
   "execution_count": 2,
   "metadata": {},
   "outputs": [
    {
     "data": {
      "text/plain": [
       "10"
      ]
     },
     "metadata": {},
     "output_type": "display_data"
    }
   ],
   "source": [
    "# PARAMS\n",
    "Δt = 0.005  # time step duration of upsampled trial\n",
    "N = 3    # number of chunks per trial\n",
    "T = .66  # duration of each trial \"chunk\" for training\n",
    "Δs = 2.5  # distance between sampling's of the track's curvature\n",
    "S = 20   # lookahead distance for track's curvature.\n",
    "N_trials = 10  # number of trials to use"
   ]
  },
  {
   "cell_type": "markdown",
   "metadata": {},
   "source": [
    "### Prepare tracking data\n",
    "Load tracking data, turn into track's curvilinear coordinates and upsample"
   ]
  },
  {
   "cell_type": "code",
   "execution_count": 3,
   "metadata": {},
   "outputs": [
    {
     "data": {
      "text/plain": [
       "CurvilinearCoordsTrials"
      ]
     },
     "metadata": {},
     "output_type": "display_data"
    }
   ],
   "source": [
    "\n",
    "function upsample_framerate(x, Δt)\n",
    "    t_original = 0:1/60:(length(x)/60 + 1)\n",
    "    t_original = t_original[1:length(x)]\n",
    "    t_upsample = 1:Δt:(t_original[end])\n",
    "    spl = Spline1D(t_original, x; k=2) # k: order of interpolant; can be between 1-5\n",
    "    return spl(t_upsample)\n",
    "end\n",
    "\n",
    "mutable struct CurvilinearCoordsTrials\n",
    "    x::Vector\n",
    "    y::Vector\n",
    "    s::Vector\n",
    "    n::Vector\n",
    "    ψ::Vector\n",
    "    V::Vector  # velocity vector: V = √(v² + u²)\n",
    "    ω::Vector\n",
    "    V̇::Vector  # acceleration\n",
    "    ω̇::Vector  # angular acceleration\n",
    "end\n",
    "\n",
    "function CurvilinearCoordsTrials(states::Vector{State})\n",
    "    v = upsample_framerate(sqrt.(getfield.(states, :v).^2 + getfield.(states, :u).^2), Δt)\n",
    "    ω = upsample_framerate(getfield.(states, :ω), Δt)\n",
    "\n",
    "    v̇ = [0, (movingaverage(diff(v), 21) / Δt)...]\n",
    "    ω̇ = [0, (movingaverage(diff(ω), 21) / Δt)...]\n",
    "\n",
    "    return CurvilinearCoordsTrials(\n",
    "        upsample_framerate(getfield.(states, :x), Δt),\n",
    "        upsample_framerate(getfield.(states, :y), Δt),    \n",
    "        upsample_framerate(getfield.(states, :s), Δt),\n",
    "        upsample_framerate(getfield.(states, :n), Δt),\n",
    "        upsample_framerate(getfield.(states, :ψ) .- getfield(states[1], :ψ), Δt),\n",
    "        upsample_framerate(v, Δt),\n",
    "        upsample_framerate(ω, Δt),\n",
    "        v̇,\n",
    "        ω̇,\n",
    "    )\n",
    "\n",
    "end"
   ]
  },
  {
   "cell_type": "code",
   "execution_count": 4,
   "metadata": {},
   "outputs": [],
   "source": [
    "trial_states(trial) = map(frame->State(trial, frame, FULLTRACK; v=trial.v[frame]), 1:length(trial.x))\n",
    "ctrials = map(trial -> CurvilinearCoordsTrials(trial_states(trial)), trials[1:N_trials])\n",
    "nothing"
   ]
  },
  {
   "cell_type": "markdown",
   "metadata": {},
   "source": [
    "### Step 2\n",
    "Get each frame from the data and take the curvature in the track's section ahead."
   ]
  },
  {
   "cell_type": "code",
   "execution_count": 6,
   "metadata": {},
   "outputs": [
    {
     "data": {
      "text/plain": [
       "OrderedDict{Symbol, Vector{Float64}} with 16 entries:\n",
       "  :n   => [0.0, 0.0, 0.0, 0.0, 0.0, 0.0, 0.0, 0.0, 0.0, 0.0  …  0.0, 0.0, 0.0, …\n",
       "  :s   => [0.0, 0.0, 0.0, 0.0, 0.0, 0.0, 0.0, 0.0, 0.0, 0.0  …  0.0, 0.0, 0.0, …\n",
       "  :ψ   => [0.0, 0.0, 0.0, 0.0, 0.0, 0.0, 0.0, 0.0, 0.0, 0.0  …  0.0, 0.0, 0.0, …\n",
       "  :V   => [0.0, 0.0, 0.0, 0.0, 0.0, 0.0, 0.0, 0.0, 0.0, 0.0  …  0.0, 0.0, 0.0, …\n",
       "  :ω   => [0.0, 0.0, 0.0, 0.0, 0.0, 0.0, 0.0, 0.0, 0.0, 0.0  …  0.0, 0.0, 0.0, …\n",
       "  :V̇   => [0.0, 0.0, 0.0, 0.0, 0.0, 0.0, 0.0, 0.0, 0.0, 0.0  …  0.0, 0.0, 0.0, …\n",
       "  :ω̇   => [0.0, 0.0, 0.0, 0.0, 0.0, 0.0, 0.0, 0.0, 0.0, 0.0  …  0.0, 0.0, 0.0, …\n",
       "  :k_1 => [0.0, 0.0, 0.0, 0.0, 0.0, 0.0, 0.0, 0.0, 0.0, 0.0  …  0.0, 0.0, 0.0, …\n",
       "  :k_2 => [0.0, 0.0, 0.0, 0.0, 0.0, 0.0, 0.0, 0.0, 0.0, 0.0  …  0.0, 0.0, 0.0, …\n",
       "  :k_3 => [0.0, 0.0, 0.0, 0.0, 0.0, 0.0, 0.0, 0.0, 0.0, 0.0  …  0.0, 0.0, 0.0, …\n",
       "  :k_4 => [0.0, 0.0, 0.0, 0.0, 0.0, 0.0, 0.0, 0.0, 0.0, 0.0  …  0.0, 0.0, 0.0, …\n",
       "  :k_5 => [0.0, 0.0, 0.0, 0.0, 0.0, 0.0, 0.0, 0.0, 0.0, 0.0  …  0.0, 0.0, 0.0, …\n",
       "  :k_6 => [0.0, 0.0, 0.0, 0.0, 0.0, 0.0, 0.0, 0.0, 0.0, 0.0  …  0.0, 0.0, 0.0, …\n",
       "  :k_7 => [0.0, 0.0, 0.0, 0.0, 0.0, 0.0, 0.0, 0.0, 0.0, 0.0  …  0.0, 0.0, 0.0, …\n",
       "  :k_8 => [0.0, 0.0, 0.0, 0.0, 0.0, 0.0, 0.0, 0.0, 0.0, 0.0  …  0.0, 0.0, 0.0, …\n",
       "  :k_9 => [0.0, 0.0, 0.0, 0.0, 0.0, 0.0, 0.0, 0.0, 0.0, 0.0  …  0.0, 0.0, 0.0, …"
      ]
     },
     "metadata": {},
     "output_type": "display_data"
    }
   ],
   "source": [
    "import OrderedCollections: OrderedDict\n",
    "\n",
    "tot_frames = sum(map(t->length(t.s), ctrials))\n",
    "\n",
    "waypoints = collect(0:Δs:S)\n",
    "waypoints_idxs = 1:length(waypoints)\n",
    "ks = collect(Symbol(\"k_\", i)=>zeros(Float64, tot_frames) for i in 1:length(waypoints_idxs))\n",
    "\n",
    "\n",
    "data = OrderedDict(\n",
    "    :n => zeros(Float64, tot_frames),\n",
    "    :s => zeros(Float64, tot_frames),\n",
    "    :ψ => zeros(Float64, tot_frames),\n",
    "    :V => zeros(Float64, tot_frames),\n",
    "    :ω => zeros(Float64, tot_frames),\n",
    "    :V̇ => zeros(Float64, tot_frames),\n",
    "    :ω̇ => zeros(Float64, tot_frames),\n",
    "    ks...\n",
    ")"
   ]
  },
  {
   "cell_type": "code",
   "execution_count": 8,
   "metadata": {},
   "outputs": [],
   "source": [
    "for (n, trial) in enumerate(ctrials)\n",
    "    n % 100 == 0 && println(n)\n",
    "    for frame in 1:length(trial.x)\n",
    "        # get relevant S vector from track\n",
    "        s̄ = FULLTRACK.S .- trial.s[frame]\n",
    "        start = argmin(s̄ .^ 2)\n",
    "        stop = findlast(s̄ .<= S)\n",
    "        # @assert stop > start\n",
    "        # @assert FULLTRACK.S[stop] <= (trial.s[frame]+S)\n",
    "\n",
    "        svec = FULLTRACK.S[start:stop]\n",
    "        for (I, sval) in zip(waypoints_idxs, waypoints)\n",
    "            idx = findfirst((svec .- svec[1]) .> sval)\n",
    "            idx = isnothing(idx) ? 1 : idx\n",
    "            # push!(trial_curv[I], svec[idx])\n",
    "\n",
    "            data[Symbol(\"k_\", I)][frame] = FULLTRACK.κ(svec[idx])\n",
    "        end\n",
    "        for var in (:n, :s, :ψ, :V, :ω, :V̇, :ω̇)\n",
    "            data[var][frame] = getfield(trial, var)[frame]\n",
    "        end\n",
    "    end\n",
    "end\n"
   ]
  },
  {
   "cell_type": "markdown",
   "metadata": {},
   "source": []
  },
  {
   "cell_type": "markdown",
   "metadata": {},
   "source": [
    "### Step 3\n",
    "save the data"
   ]
  },
  {
   "cell_type": "code",
   "execution_count": 10,
   "metadata": {},
   "outputs": [
    {
     "data": {
      "text/plain": [
       "591436"
      ]
     },
     "metadata": {},
     "output_type": "display_data"
    }
   ],
   "source": [
    "savepath = \"/Users/federicoclaudi/Dropbox (UCL)/Rotation_vte/Locomotion/analysis/CNN/dataset\"\n",
    "df = DataFrame(data)\n",
    "open(joinpath(savepath, \"data.json\"), \"w\") do f\n",
    "    write(f, objecttable(df))\n",
    "end\n"
   ]
  },
  {
   "cell_type": "code",
   "execution_count": null,
   "metadata": {},
   "outputs": [],
   "source": []
  }
 ],
 "metadata": {
  "kernelspec": {
   "display_name": "Julia 1.7.1",
   "language": "julia",
   "name": "julia-1.7"
  },
  "language_info": {
   "file_extension": ".jl",
   "mimetype": "application/julia",
   "name": "julia",
   "version": "1.7.1"
  },
  "orig_nbformat": 4
 },
 "nbformat": 4,
 "nbformat_minor": 2
}
