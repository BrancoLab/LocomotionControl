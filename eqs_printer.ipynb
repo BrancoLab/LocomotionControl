{
 "cells": [
  {
   "cell_type": "markdown",
   "metadata": {},
   "source": [
    "## equations printer\n",
    "Code to printe the 2WDD model's equations to nicely formatted latex with sympy"
   ]
  },
  {
   "cell_type": "code",
   "execution_count": 1,
   "metadata": {},
   "outputs": [
    {
     "name": "stderr",
     "output_type": "stream",
     "text": [
      "C:\\Users\\Federico\\.conda\\envs\\cai\\lib\\site-packages\\numpy\\_distributor_init.py:32: UserWarning: loaded more than 1 DLL from .libs:\n",
      "C:\\Users\\Federico\\.conda\\envs\\cai\\lib\\site-packages\\numpy\\.libs\\libopenblas.QVLO2T66WEPI7JZ63PS3HMOHFEY472BC.gfortran-win_amd64.dll\n",
      "C:\\Users\\Federico\\.conda\\envs\\cai\\lib\\site-packages\\numpy\\.libs\\libopenblas.TXA6YQSD3GCQQC22GEQ54J2UDCXDXHWN.gfortran-win_amd64.dll\n",
      "  stacklevel=1)\n"
     ]
    }
   ],
   "source": [
    "from sympy import latex, init_printing, symbols, Eq, pprint\n",
    "import IPython.display as disp\n",
    "from control.dynamics import ModelDynamics\n",
    "from control.control import Controller\n",
    "init_printing(use_latex='mathjax')\n",
    "\n"
   ]
  },
  {
   "cell_type": "code",
   "execution_count": 2,
   "metadata": {},
   "outputs": [],
   "source": [
    "xdot, ydot, tdot, vdot, omegadot, tauldot, taurdot = symbols('xdot, ydot, thetadot, vdot, omegadot, taudot_l, taudot_r', real=True)"
   ]
  },
  {
   "cell_type": "code",
   "execution_count": 3,
   "metadata": {},
   "outputs": [],
   "source": [
    "model = ModelDynamics()\n",
    "model.get_combined_dynamics_kinematics()\n",
    "model.get_jacobians()"
   ]
  },
  {
   "cell_type": "markdown",
   "metadata": {},
   "source": [
    "### model dynamics"
   ]
  },
  {
   "cell_type": "code",
   "execution_count": 4,
   "metadata": {},
   "outputs": [
    {
     "data": {
      "text/latex": [
       "$\\displaystyle \\dot{x} = v \\cos{\\left(\\theta \\right)}$"
      ],
      "text/plain": [
       "ẋ = v⋅cos(θ)"
      ]
     },
     "metadata": {},
     "output_type": "display_data"
    },
    {
     "data": {
      "text/latex": [
       "$\\displaystyle \\dot{y} = v \\sin{\\left(\\theta \\right)}$"
      ],
      "text/plain": [
       "ẏ = v⋅sin(θ)"
      ]
     },
     "metadata": {},
     "output_type": "display_data"
    },
    {
     "data": {
      "text/latex": [
       "$\\displaystyle \\dot{\\theta} = \\omega$"
      ],
      "text/plain": [
       "θ̇ = ω"
      ]
     },
     "metadata": {},
     "output_type": "display_data"
    },
    {
     "data": {
      "text/latex": [
       "$\\displaystyle \\dot{v} = \\frac{d m \\omega^{2} + \\frac{\\tau_{l} + \\tau_{r}}{R}}{\\frac{2 I_{w}}{R^{2}} + m}$"
      ],
      "text/plain": [
       "         2   τₗ + τᵣ\n",
       "    d⋅m⋅ω  + ───────\n",
       "                R   \n",
       "v̇ = ────────────────\n",
       "       2⋅I_w        \n",
       "       ───── + m    \n",
       "          2         \n",
       "         R          "
      ]
     },
     "metadata": {},
     "output_type": "display_data"
    },
    {
     "data": {
      "text/latex": [
       "$\\displaystyle \\dot{\\omega} = \\frac{\\frac{L \\left(- \\tau_{l} + \\tau_{r}\\right)}{R} + d m \\omega v}{I + \\frac{2 I_{w} L^{2}}{R^{2}}}$"
      ],
      "text/plain": [
       "    L⋅(-τₗ + τᵣ)          \n",
       "    ──────────── + d⋅m⋅ω⋅v\n",
       "         R                \n",
       "ω̇ = ──────────────────────\n",
       "                    2     \n",
       "             2⋅I_w⋅L      \n",
       "         I + ────────     \n",
       "                 2        \n",
       "                R         "
      ]
     },
     "metadata": {},
     "output_type": "display_data"
    },
    {
     "data": {
      "text/latex": [
       "$\\displaystyle \\dot{\\tau}_{l} = - N_{l} + P$"
      ],
      "text/plain": [
       "τ̇ₗ = -Nₗ + P"
      ]
     },
     "metadata": {},
     "output_type": "display_data"
    },
    {
     "data": {
      "text/latex": [
       "$\\displaystyle \\dot{\\tau}_{r} = - N_{r} + P$"
      ],
      "text/plain": [
       "τ̇ᵣ = -Nᵣ + P"
      ]
     },
     "metadata": {},
     "output_type": "display_data"
    }
   ],
   "source": [
    "# Model dynamics\n",
    "disp.display(\n",
    "    Eq(xdot, model.equations_symbolic['xdot']),\n",
    "    Eq(ydot, model.equations_symbolic['ydot']),\n",
    "    Eq(tdot, model.equations_symbolic['thetadot']),\n",
    "    Eq(vdot, model.equations_symbolic['vdot']),\n",
    "    Eq(omegadot, model.equations_symbolic['omegadot']),\n",
    "    Eq(tauldot, model.equations_symbolic['tauldot']),\n",
    "    Eq(taurdot, model.equations_symbolic['taurdot']),\n",
    ")"
   ]
  },
  {
   "cell_type": "code",
   "execution_count": 5,
   "metadata": {},
   "outputs": [
    {
     "data": {
      "text/latex": [
       "$\\displaystyle I_{c} = d^{2} m$"
      ],
      "text/plain": [
       "       2  \n",
       "I_c = d ⋅m"
      ]
     },
     "metadata": {},
     "output_type": "display_data"
    },
    {
     "data": {
      "text/latex": [
       "$\\displaystyle I_{w} = \\frac{R^{2} m_{w}}{2}$"
      ],
      "text/plain": [
       "       2    \n",
       "      R ⋅m_w\n",
       "I_w = ──────\n",
       "        2   "
      ]
     },
     "metadata": {},
     "output_type": "display_data"
    },
    {
     "data": {
      "text/latex": [
       "$\\displaystyle I_{m} = 1.5 R^{2} m_{w}$"
      ],
      "text/plain": [
       "          2    \n",
       "Iₘ = 1.5⋅R ⋅m_w"
      ]
     },
     "metadata": {},
     "output_type": "display_data"
    },
    {
     "data": {
      "text/latex": [
       "$\\displaystyle I = I_{c} + 2 I_{m} + 2 L^{2} m_{w} + d^{2} m$"
      ],
      "text/plain": [
       "                    2        2  \n",
       "I = I_c + 2⋅Iₘ + 2⋅L ⋅m_w + d ⋅m"
      ]
     },
     "metadata": {},
     "output_type": "display_data"
    }
   ],
   "source": [
    "### moments of inertia definition\n",
    "I_c, I_w, I_m, I = symbols(\"I_c, I_w, I_m, I\", real=True)\n",
    "disp.display(\n",
    "    Eq(I_c, model.equations_symbolic['I_c']),\n",
    "    Eq(I_w, model.equations_symbolic['I_w']),\n",
    "    Eq(I_m, model.equations_symbolic['I_m']),\n",
    "    Eq(I, model.equations_symbolic['I']),\n",
    ")"
   ]
  },
  {
   "cell_type": "markdown",
   "metadata": {},
   "source": [
    "### jacobians"
   ]
  },
  {
   "cell_type": "code",
   "execution_count": 6,
   "metadata": {},
   "outputs": [
    {
     "data": {
      "text/plain": [
       "{'xdot_wrt_x': 0,\n",
       " 'xdot_wrt_y': 0,\n",
       " 'xdot_wrt_theta': -v*sin(theta),\n",
       " 'xdot_wrt_v': cos(theta),\n",
       " 'xdot_wrt_omega': 0,\n",
       " 'xdot_wrt_tau_r': 0,\n",
       " 'xdot_wrt_tau_l': 0,\n",
       " 'ydot_wrt_x': 0,\n",
       " 'ydot_wrt_y': 0,\n",
       " 'ydot_wrt_theta': v*cos(theta),\n",
       " 'ydot_wrt_v': sin(theta),\n",
       " 'ydot_wrt_omega': 0,\n",
       " 'ydot_wrt_tau_r': 0,\n",
       " 'ydot_wrt_tau_l': 0,\n",
       " 'thetadot_wrt_x': 0,\n",
       " 'thetadot_wrt_y': 0,\n",
       " 'thetadot_wrt_theta': 0,\n",
       " 'thetadot_wrt_v': 0,\n",
       " 'thetadot_wrt_omega': 1,\n",
       " 'thetadot_wrt_tau_r': 0,\n",
       " 'thetadot_wrt_tau_l': 0,\n",
       " 'vdot_wrt_x': 0,\n",
       " 'vdot_wrt_y': 0,\n",
       " 'vdot_wrt_theta': 0,\n",
       " 'vdot_wrt_v': 0,\n",
       " 'vdot_wrt_omega': 2*d*m*omega/(m + m_w),\n",
       " 'vdot_wrt_tau_r': 1/(R*(m + m_w)),\n",
       " 'vdot_wrt_tau_l': 1/(R*(m + m_w)),\n",
       " 'omegadot_wrt_x': 0,\n",
       " 'omegadot_wrt_y': 0,\n",
       " 'omegadot_wrt_theta': 0,\n",
       " 'omegadot_wrt_v': d*m*omega/(3*L**2*m_w + 3.0*R**2*m_w + 2*d**2*m),\n",
       " 'omegadot_wrt_omega': d*m*v/(3*L**2*m_w + 3.0*R**2*m_w + 2*d**2*m),\n",
       " 'omegadot_wrt_tau_r': L/(R*(3*L**2*m_w + 3.0*R**2*m_w + 2*d**2*m)),\n",
       " 'omegadot_wrt_tau_l': -L/(R*(3*L**2*m_w + 3.0*R**2*m_w + 2*d**2*m)),\n",
       " 'taurdot_wrt_x': 0,\n",
       " 'taurdot_wrt_y': 0,\n",
       " 'taurdot_wrt_theta': 0,\n",
       " 'taurdot_wrt_v': 0,\n",
       " 'taurdot_wrt_omega': 0,\n",
       " 'taurdot_wrt_tau_r': 0,\n",
       " 'taurdot_wrt_tau_l': 0,\n",
       " 'tauldot_wrt_x': 0,\n",
       " 'tauldot_wrt_y': 0,\n",
       " 'tauldot_wrt_theta': 0,\n",
       " 'tauldot_wrt_v': 0,\n",
       " 'tauldot_wrt_omega': 0,\n",
       " 'tauldot_wrt_tau_r': 0,\n",
       " 'tauldot_wrt_tau_l': 0}"
      ]
     },
     "execution_count": 6,
     "metadata": {},
     "output_type": "execute_result"
    }
   ],
   "source": [
    "model.model_jacobian_state"
   ]
  },
  {
   "cell_type": "code",
   "execution_count": 7,
   "metadata": {},
   "outputs": [
    {
     "data": {
      "text/plain": [
       "{'xdot_wrt_P': 0,\n",
       " 'xdot_wrt_N_l': 0,\n",
       " 'xdot_wrt_N_r': 0,\n",
       " 'ydot_wrt_P': 0,\n",
       " 'ydot_wrt_N_l': 0,\n",
       " 'ydot_wrt_N_r': 0,\n",
       " 'thetadot_wrt_P': 0,\n",
       " 'thetadot_wrt_N_l': 0,\n",
       " 'thetadot_wrt_N_r': 0,\n",
       " 'vdot_wrt_P': 0,\n",
       " 'vdot_wrt_N_l': 0,\n",
       " 'vdot_wrt_N_r': 0,\n",
       " 'omegadot_wrt_P': 0,\n",
       " 'omegadot_wrt_N_l': 0,\n",
       " 'omegadot_wrt_N_r': 0,\n",
       " 'taurdot_wrt_P': 1,\n",
       " 'taurdot_wrt_N_l': 0,\n",
       " 'taurdot_wrt_N_r': -1,\n",
       " 'tauldot_wrt_P': 1,\n",
       " 'tauldot_wrt_N_l': -1,\n",
       " 'tauldot_wrt_N_r': 0}"
      ]
     },
     "execution_count": 7,
     "metadata": {},
     "output_type": "execute_result"
    }
   ],
   "source": [
    "model.model_jacobian_input"
   ]
  },
  {
   "cell_type": "code",
   "execution_count": null,
   "metadata": {},
   "outputs": [],
   "source": []
  },
  {
   "cell_type": "markdown",
   "metadata": {},
   "source": [
    "## cost function"
   ]
  },
  {
   "cell_type": "code",
   "execution_count": 9,
   "metadata": {},
   "outputs": [],
   "source": [
    "controller = Controller(model)"
   ]
  },
  {
   "cell_type": "code",
   "execution_count": 10,
   "metadata": {},
   "outputs": [
    {
     "data": {
      "text/latex": [
       "$\\displaystyle u^{T} R u + u^{T} W + x^{T} Q x$"
      ],
      "text/plain": [
       " T      T        T    \n",
       "u ⋅W + u ⋅R⋅u + x ⋅Q⋅x"
      ]
     },
     "execution_count": 10,
     "metadata": {},
     "output_type": "execute_result"
    }
   ],
   "source": [
    "controller.cost_function"
   ]
  },
  {
   "cell_type": "code",
   "execution_count": null,
   "metadata": {},
   "outputs": [],
   "source": []
  }
 ],
 "metadata": {
  "kernelspec": {
   "display_name": "Python 3.6.10 64-bit ('cai': conda)",
   "language": "python",
   "name": "python361064bitcaiconda8c51914467a4460685b7f212a4ce3dd5"
  },
  "language_info": {
   "codemirror_mode": {
    "name": "ipython",
    "version": 3
   },
   "file_extension": ".py",
   "mimetype": "text/x-python",
   "name": "python",
   "nbconvert_exporter": "python",
   "pygments_lexer": "ipython3",
   "version": "3.6.4"
  }
 },
 "nbformat": 4,
 "nbformat_minor": 4
}
