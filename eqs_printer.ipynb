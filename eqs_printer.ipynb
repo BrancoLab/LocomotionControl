{
 "cells": [
  {
   "cell_type": "markdown",
   "metadata": {},
   "source": [
    "## equations printer\n",
    "Code to printe the 2WDD model's equations to nicely formatted latex with sympy"
   ]
  },
  {
   "cell_type": "code",
   "execution_count": 1,
   "metadata": {},
   "outputs": [
    {
     "name": "stderr",
     "output_type": "stream",
     "text": [
      "C:\\Users\\Federico\\.conda\\envs\\cai\\lib\\site-packages\\numpy\\_distributor_init.py:32: UserWarning: loaded more than 1 DLL from .libs:\n",
      "C:\\Users\\Federico\\.conda\\envs\\cai\\lib\\site-packages\\numpy\\.libs\\libopenblas.QVLO2T66WEPI7JZ63PS3HMOHFEY472BC.gfortran-win_amd64.dll\n",
      "C:\\Users\\Federico\\.conda\\envs\\cai\\lib\\site-packages\\numpy\\.libs\\libopenblas.TXA6YQSD3GCQQC22GEQ54J2UDCXDXHWN.gfortran-win_amd64.dll\n",
      "  stacklevel=1)\n"
     ]
    }
   ],
   "source": [
    "from sympy import latex, init_printing, symbols, Eq, pprint\n",
    "import IPython.display as disp\n",
    "from control.dynamics import ModelDynamics\n",
    "from control.control import Controller\n",
    "init_printing(use_latex='mathjax')\n",
    "\n"
   ]
  },
  {
   "cell_type": "code",
   "execution_count": 2,
   "metadata": {},
   "outputs": [],
   "source": [
    "xdot, ydot, tdot, vdot, omegadot, tauldot, taurdot = symbols('xdot, ydot, thetadot, vdot, omegadot, taudot_l, taudot_r', real=True)"
   ]
  },
  {
   "cell_type": "code",
   "execution_count": 3,
   "metadata": {},
   "outputs": [],
   "source": [
    "model = ModelDynamics()\n",
    "model.get_combined_dynamics_kinematics()\n",
    "model.get_jacobians()"
   ]
  },
  {
   "cell_type": "markdown",
   "metadata": {},
   "source": [
    "### model dynamics"
   ]
  },
  {
   "cell_type": "code",
   "execution_count": null,
   "metadata": {},
   "outputs": [],
   "source": [
    "# Model dynamics\n",
    "disp.display(\n",
    "    Eq(xdot, model.equations_symbolic['xdot']),\n",
    "    Eq(ydot, model.equations_symbolic['ydot']),\n",
    "    Eq(tdot, model.equations_symbolic['thetadot']),\n",
    "    Eq(vdot, model.equations_symbolic['vdot']),\n",
    "    Eq(omegadot, model.equations_symbolic['omegadot']),\n",
    "    Eq(tauldot, model.equations_symbolic['tauldot']),\n",
    "    Eq(taurdot, model.equations_symbolic['taurdot']),\n",
    ")"
   ]
  },
  {
   "cell_type": "code",
   "execution_count": null,
   "metadata": {},
   "outputs": [],
   "source": [
    "disp.display(\n",
    "    Eq(xdot, model.equations['xdot']),\n",
    "    Eq(ydot, model.equations['ydot']),\n",
    "    Eq(tdot, model.equations['thetadot']),\n",
    "    Eq(vdot, model.equations['vdot']),\n",
    "    Eq(omegadot, model.equations['omegadot']),\n",
    "    Eq(tauldot, model.equations['tauldot']),\n",
    "    Eq(taurdot, model.equations['taurdot']),\n",
    ")"
   ]
  },
  {
   "cell_type": "code",
   "execution_count": null,
   "metadata": {},
   "outputs": [],
   "source": [
    "model.equations"
   ]
  },
  {
   "cell_type": "code",
   "execution_count": null,
   "metadata": {},
   "outputs": [],
   "source": [
    "### moments of inertia definition\n",
    "I_c, I_w, I_m, I = symbols(\"I_c, I_w, I_m, I\", real=True)\n",
    "disp.display(\n",
    "    Eq(I_c, model.equations_symbolic['I_c']),\n",
    "    Eq(I_w, model.equations_symbolic['I_w']),\n",
    "    Eq(I_m, model.equations_symbolic['I_m']),\n",
    "    Eq(I, model.equations_symbolic['I']),\n",
    ")"
   ]
  },
  {
   "cell_type": "markdown",
   "metadata": {},
   "source": [
    "### jacobians"
   ]
  },
  {
   "cell_type": "code",
   "execution_count": null,
   "metadata": {},
   "outputs": [],
   "source": [
    "model.model_jacobian_state"
   ]
  },
  {
   "cell_type": "code",
   "execution_count": null,
   "metadata": {},
   "outputs": [],
   "source": [
    "model.model_jacobian_input"
   ]
  },
  {
   "cell_type": "code",
   "execution_count": null,
   "metadata": {},
   "outputs": [],
   "source": []
  },
  {
   "cell_type": "markdown",
   "metadata": {},
   "source": [
    "## cost function"
   ]
  },
  {
   "cell_type": "code",
   "execution_count": 4,
   "metadata": {},
   "outputs": [],
   "source": [
    "controller = Controller(model)"
   ]
  },
  {
   "cell_type": "code",
   "execution_count": 5,
   "metadata": {},
   "outputs": [
    {
     "data": {
      "text/latex": [
       "$\\displaystyle \\left(U^{T} - U_{p}^{T}\\right) Z \\left(U - U_{p}\\right) + \\left(X^{T} - X_{g}^{T}\\right) Q \\left(X - X_{g}\\right) + U^{T} R U + U^{T} W$"
      ],
      "text/plain": [
       " T     ⎛   T    T⎞               ⎛    T    T⎞                 T    \n",
       "U ⋅W + ⎝-Uₚ  + U ⎠⋅Z⋅(-Uₚ + U) + ⎝-X_g  + X ⎠⋅Q⋅(-X_g + X) + U ⋅R⋅U"
      ]
     },
     "execution_count": 5,
     "metadata": {},
     "output_type": "execute_result"
    }
   ],
   "source": [
    "controller.cost_function"
   ]
  },
  {
   "cell_type": "code",
   "execution_count": null,
   "metadata": {},
   "outputs": [],
   "source": []
  }
 ],
 "metadata": {
  "kernelspec": {
   "display_name": "Python 3.6.10 64-bit ('cai': conda)",
   "language": "python",
   "name": "python361064bitcaiconda8c51914467a4460685b7f212a4ce3dd5"
  },
  "language_info": {
   "codemirror_mode": {
    "name": "ipython",
    "version": 3
   },
   "file_extension": ".py",
   "mimetype": "text/x-python",
   "name": "python",
   "nbconvert_exporter": "python",
   "pygments_lexer": "ipython3",
   "version": "3.6.4"
  }
 },
 "nbformat": 4,
 "nbformat_minor": 4
}
